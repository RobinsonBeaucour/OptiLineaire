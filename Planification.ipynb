{
 "cells": [
  {
   "cell_type": "markdown",
   "metadata": {},
   "source": [
    "# Planification de la production d'électricité\n",
    "\n",
    "### Robinson Beaucour"
   ]
  },
  {
   "cell_type": "code",
   "execution_count": 5,
   "metadata": {},
   "outputs": [],
   "source": [
    "from pulp import LpMaximize, LpProblem, LpProblem, lpSum, LpVariable, LpMinimize"
   ]
  },
  {
   "cell_type": "code",
   "execution_count": 16,
   "metadata": {},
   "outputs": [],
   "source": [
    "from tkinter import N\n",
    "\n",
    "\n",
    "model = LpProblem(name=\"1.1\", sense=LpMinimize)\n",
    "\n",
    "Na = LpVariable(name=\"Nb de centrales A allumées\",lowBound=0, upBound=12, cat=\"Integer\")\n",
    "Nb = LpVariable(name=\"Nb de centrales B allumées\",lowBound=0, upBound=10, cat=\"Integer\")\n",
    "Nc = LpVariable(name=\"Nb de centrales C allumées\",lowBound=0, upBound=5, cat=\"Integer\")\n",
    "\n",
    "Pa = LpVariable(name=\"Puissance marginale de chaque centrale A\")\n",
    "Pb = LpVariable(name=\"Puissance marginale de chaque centrale B\")\n",
    "Pc = LpVariable(name=\"Puissance marginale de chaque centrale C\")\n",
    "\n",
    "model += Pa * 1.5 + Pb * 1.38 + Pc * 2.75\n",
    "model += (Pa + Pb + Pc == 30000,\"équilibre\")\n",
    "model += (Pa >= Na * 850, \"Puissance min A\")\n",
    "model += (Pb >= Nb * 1250, \"Puissance min B\")\n",
    "model += (Pc >= Nc * 1750, \"Puissance min C\")\n",
    "model += (Pa <= Na * 2000, \"Puissance max A\")\n",
    "model += (Pb <= Nb * 2000, \"Puissance max B\")\n",
    "model += (Pc <= Nc * 2000, \"Puissance max C\")"
   ]
  },
  {
   "cell_type": "code",
   "execution_count": 17,
   "metadata": {},
   "outputs": [
    {
     "data": {
      "text/plain": [
       "1.1:\n",
       "MINIMIZE\n",
       "1.5*Puissance_marginale_de_chaque_centrale_A + 1.38*Puissance_marginale_de_chaque_centrale_B + 2.75*Puissance_marginale_de_chaque_centrale_C + 0.0\n",
       "SUBJECT TO\n",
       "équilibre: Puissance_marginale_de_chaque_centrale_A\n",
       " + Puissance_marginale_de_chaque_centrale_B\n",
       " + Puissance_marginale_de_chaque_centrale_C = 30000\n",
       "\n",
       "Puissance_min_A: - 850 Nb_de_centrales_A_allumées\n",
       " + Puissance_marginale_de_chaque_centrale_A >= 0\n",
       "\n",
       "Puissance_min_B: - 1250 Nb_de_centrales_B_allumées\n",
       " + Puissance_marginale_de_chaque_centrale_B >= 0\n",
       "\n",
       "Puissance_min_C: - 1750 Nb_de_centrales_C_allumées\n",
       " + Puissance_marginale_de_chaque_centrale_C >= 0\n",
       "\n",
       "Puissance_max_A: - 2000 Nb_de_centrales_A_allumées\n",
       " + Puissance_marginale_de_chaque_centrale_A <= 0\n",
       "\n",
       "Puissance_max_B: - 2000 Nb_de_centrales_B_allumées\n",
       " + Puissance_marginale_de_chaque_centrale_B <= 0\n",
       "\n",
       "Puissance_max_C: - 2000 Nb_de_centrales_C_allumées\n",
       " + Puissance_marginale_de_chaque_centrale_C <= 0\n",
       "\n",
       "VARIABLES\n",
       "0 <= Nb_de_centrales_A_allumées <= 12 Integer\n",
       "0 <= Nb_de_centrales_B_allumées <= 10 Integer\n",
       "0 <= Nb_de_centrales_C_allumées <= 5 Integer\n",
       "Puissance_marginale_de_chaque_centrale_A free Continuous\n",
       "Puissance_marginale_de_chaque_centrale_B free Continuous\n",
       "Puissance_marginale_de_chaque_centrale_C free Continuous"
      ]
     },
     "execution_count": 17,
     "metadata": {},
     "output_type": "execute_result"
    }
   ],
   "source": [
    "model"
   ]
  },
  {
   "cell_type": "code",
   "execution_count": 18,
   "metadata": {},
   "outputs": [
    {
     "data": {
      "text/plain": [
       "1"
      ]
     },
     "execution_count": 18,
     "metadata": {},
     "output_type": "execute_result"
    }
   ],
   "source": [
    "model.solve()"
   ]
  },
  {
   "cell_type": "code",
   "execution_count": 19,
   "metadata": {},
   "outputs": [
    {
     "name": "stdout",
     "output_type": "stream",
     "text": [
      "objective: 42600.0\n",
      "Nb_de_centrales_A_allumées: 5.0\n",
      "Nb_de_centrales_B_allumées: 10.0\n",
      "Nb_de_centrales_C_allumées: 0.0\n",
      "Puissance_marginale_de_chaque_centrale_A: 10000.0\n",
      "Puissance_marginale_de_chaque_centrale_B: 20000.0\n",
      "Puissance_marginale_de_chaque_centrale_C: 0.0\n",
      "équilibre: 0.0\n",
      "Puissance_min_A: 5750.0\n",
      "Puissance_min_B: 7500.0\n",
      "Puissance_min_C: 0.0\n",
      "Puissance_max_A: 0.0\n",
      "Puissance_max_B: 0.0\n",
      "Puissance_max_C: 0.0\n"
     ]
    }
   ],
   "source": [
    "print(f\"objective: {model.objective.value()}\")\n",
    "for var in model.variables():\n",
    "    print(f\"{var.name}: {var.value()}\")\n",
    "\n",
    "for name, constraint in model.constraints.items():\n",
    "    print(f\"{name}: {constraint.value()}\")"
   ]
  },
  {
   "cell_type": "code",
   "execution_count": 23,
   "metadata": {},
   "outputs": [
    {
     "data": {
      "text/plain": [
       "1.1:\n",
       "MINIMIZE\n",
       "1.5*Puissance_marginale_de_chaque_centrale_A + 1.38*Puissance_marginale_de_chaque_centrale_B + 2.75*Puissance_marginale_de_chaque_centrale_C + 0.0\n",
       "SUBJECT TO\n",
       "équilibre: Puissance_marginale_de_chaque_centrale_A\n",
       " + Puissance_marginale_de_chaque_centrale_B\n",
       " + Puissance_marginale_de_chaque_centrale_C = 30000\n",
       "\n",
       "Puissance_min_A: - 850 Nb_de_centrales_A_allumées\n",
       " + Puissance_marginale_de_chaque_centrale_A >= 0\n",
       "\n",
       "Puissance_min_B: - 1250 Nb_de_centrales_B_allumées\n",
       " + Puissance_marginale_de_chaque_centrale_B >= 0\n",
       "\n",
       "Puissance_min_C: - 1750 Nb_de_centrales_C_allumées\n",
       " + Puissance_marginale_de_chaque_centrale_C >= 0\n",
       "\n",
       "Puissance_max_A: - 2000 Nb_de_centrales_A_allumées\n",
       " + Puissance_marginale_de_chaque_centrale_A <= 0\n",
       "\n",
       "Puissance_max_B: - 2000 Nb_de_centrales_B_allumées\n",
       " + Puissance_marginale_de_chaque_centrale_B <= 0\n",
       "\n",
       "Puissance_max_C: - 2000 Nb_de_centrales_C_allumées\n",
       " + Puissance_marginale_de_chaque_centrale_C <= 0\n",
       "\n",
       "VARIABLES\n",
       "0 <= Nb_de_centrales_A_allumées <= 12 Integer\n",
       "0 <= Nb_de_centrales_B_allumées <= 10 Integer\n",
       "0 <= Nb_de_centrales_C_allumées <= 5 Integer\n",
       "Puissance_marginale_de_chaque_centrale_A free Continuous\n",
       "Puissance_marginale_de_chaque_centrale_B free Continuous\n",
       "Puissance_marginale_de_chaque_centrale_C free Continuous"
      ]
     },
     "execution_count": 23,
     "metadata": {},
     "output_type": "execute_result"
    }
   ],
   "source": [
    "model"
   ]
  }
 ],
 "metadata": {
  "kernelspec": {
   "display_name": "Python 3.10.7 ('OL': venv)",
   "language": "python",
   "name": "python3"
  },
  "language_info": {
   "codemirror_mode": {
    "name": "ipython",
    "version": 3
   },
   "file_extension": ".py",
   "mimetype": "text/x-python",
   "name": "python",
   "nbconvert_exporter": "python",
   "pygments_lexer": "ipython3",
   "version": "3.10.7"
  },
  "orig_nbformat": 4,
  "vscode": {
   "interpreter": {
    "hash": "153e8b4aaf1e7bee5b29f07f8dd36650b8c55b521facabbe75a683164f3644eb"
   }
  }
 },
 "nbformat": 4,
 "nbformat_minor": 2
}
