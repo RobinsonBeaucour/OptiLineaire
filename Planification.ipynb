{
 "cells": [
  {
   "cell_type": "markdown",
   "metadata": {},
   "source": [
    "# Planification de la production d'électricité\n",
    "\n",
    "### Robinson Beaucour"
   ]
  },
  {
   "cell_type": "code",
   "execution_count": 5,
   "metadata": {},
   "outputs": [],
   "source": [
    "from pulp import LpMaximize, LpProblem, LpProblem, lpSum, LpVariable, LpMinimize"
   ]
  },
  {
   "cell_type": "code",
   "execution_count": 11,
   "metadata": {},
   "outputs": [],
   "source": [
    "from tkinter import N\n",
    "\n",
    "\n",
    "model = LpProblem(name=\"1.1\", sense=LpMinimize)\n",
    "\n",
    "Na = LpVariable(name=\"Nb de centrales A allumées\",lowBound=0, upBound=12, cat=\"Integer\")\n",
    "Nb = LpVariable(name=\"Nb de centrales B allumées\",lowBound=0, upBound=10, cat=\"Integer\")\n",
    "Nc = LpVariable(name=\"Nb de centrales C allumées\",lowBound=0, upBound=5, cat=\"Integer\")\n",
    "\n",
    "dPa = LpVariable(name=\"Puissance marginale de chaque centrale A\",lowBound=850, upBound=2000)\n",
    "dPb = LpVariable(name=\"Puissance marginale de chaque centrale B\",lowBound=1250, upBound=1750)\n",
    "dPc = LpVariable(name=\"Puissance marginale de chaque centrale C\",lowBound=1500, upBound=4000)\n",
    "\n",
    "model += Na *  2000 * 1.5 + Nb * 1750 * 1.38 + Nc * 4000 * 2.75 + dPa * 1.5 + dPb * 1.38 + dPc * 2.75\n",
    "model += (Na * 2000 + Nb * 1750 + Nc * 4000 + dPa + dPb + dPc == 30000,\"équilibre\")"
   ]
  },
  {
   "cell_type": "code",
   "execution_count": 12,
   "metadata": {},
   "outputs": [
    {
     "data": {
      "text/plain": [
       "1.1:\n",
       "MINIMIZE\n",
       "3000.0*Nb_de_centrales_A_allumées + 2415.0*Nb_de_centrales_B_allumées + 11000.0*Nb_de_centrales_C_allumées + 1.5*Puissance_marginale_de_chaque_centrale_A + 1.38*Puissance_marginale_de_chaque_centrale_B + 2.75*Puissance_marginale_de_chaque_centrale_C + 0.0\n",
       "SUBJECT TO\n",
       "équilibre: 2000 Nb_de_centrales_A_allumées + 1750 Nb_de_centrales_B_allumées\n",
       " + 4000 Nb_de_centrales_C_allumées + Puissance_marginale_de_chaque_centrale_A\n",
       " + Puissance_marginale_de_chaque_centrale_B\n",
       " + Puissance_marginale_de_chaque_centrale_C = 30000\n",
       "\n",
       "VARIABLES\n",
       "0 <= Nb_de_centrales_A_allumées <= 12 Integer\n",
       "0 <= Nb_de_centrales_B_allumées <= 10 Integer\n",
       "0 <= Nb_de_centrales_C_allumées <= 5 Integer\n",
       "850 <= Puissance_marginale_de_chaque_centrale_A <= 2000 Continuous\n",
       "1250 <= Puissance_marginale_de_chaque_centrale_B <= 1750 Continuous\n",
       "1500 <= Puissance_marginale_de_chaque_centrale_C <= 4000 Continuous"
      ]
     },
     "execution_count": 12,
     "metadata": {},
     "output_type": "execute_result"
    }
   ],
   "source": [
    "model"
   ]
  },
  {
   "cell_type": "code",
   "execution_count": 13,
   "metadata": {},
   "outputs": [
    {
     "data": {
      "text/plain": [
       "1"
      ]
     },
     "execution_count": 13,
     "metadata": {},
     "output_type": "execute_result"
    }
   ],
   "source": [
    "model.solve()"
   ]
  },
  {
   "cell_type": "code",
   "execution_count": 14,
   "metadata": {},
   "outputs": [
    {
     "name": "stdout",
     "output_type": "stream",
     "text": [
      "objective: 44565.0\n",
      "Nb_de_centrales_A_allumées: 4.0\n",
      "Nb_de_centrales_B_allumées: 10.0\n",
      "Nb_de_centrales_C_allumées: 0.0\n",
      "Puissance_marginale_de_chaque_centrale_A: 1250.0\n",
      "Puissance_marginale_de_chaque_centrale_B: 1750.0\n",
      "Puissance_marginale_de_chaque_centrale_C: 1500.0\n",
      "équilibre: 0.0\n"
     ]
    }
   ],
   "source": [
    "print(f\"objective: {model.objective.value()}\")\n",
    "for var in model.variables():\n",
    "    print(f\"{var.name}: {var.value()}\")\n",
    "\n",
    "for name, constraint in model.constraints.items():\n",
    "    print(f\"{name}: {constraint.value()}\")"
   ]
  }
 ],
 "metadata": {
  "kernelspec": {
   "display_name": "Python 3.10.7 ('OL': venv)",
   "language": "python",
   "name": "python3"
  },
  "language_info": {
   "codemirror_mode": {
    "name": "ipython",
    "version": 3
   },
   "file_extension": ".py",
   "mimetype": "text/x-python",
   "name": "python",
   "nbconvert_exporter": "python",
   "pygments_lexer": "ipython3",
   "version": "3.10.7"
  },
  "orig_nbformat": 4,
  "vscode": {
   "interpreter": {
    "hash": "153e8b4aaf1e7bee5b29f07f8dd36650b8c55b521facabbe75a683164f3644eb"
   }
  }
 },
 "nbformat": 4,
 "nbformat_minor": 2
}
