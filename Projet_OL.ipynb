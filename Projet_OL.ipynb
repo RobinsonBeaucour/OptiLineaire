{
 "cells": [
  {
   "cell_type": "code",
   "execution_count": 1,
   "metadata": {},
   "outputs": [],
   "source": [
    "import gurobipy as gp\n",
    "from itertools import product\n",
    "import matplotlib.pyplot as plt\n",
    "import pandas as pd\n",
    "import numpy as np\n",
    "from utils  import division"
   ]
  },
  {
   "cell_type": "markdown",
   "metadata": {},
   "source": [
    "## 1 Modèle de base des centrales thermiques\n",
    "\n",
    "### 1.1 Planification journalière du parc thermique\n",
    "\n",
    "Variables de décision :\n",
    "Pour une type de centrale $X \\in [A,B,C]$, et une heure de la journée $t\\in {1,\\dots,24}$, on définit :\n",
    "$$\n",
    "N_t^{(X)} = \\text{Nombre de centrales } X \\text{allumées à } t\\text{ h, (ENTIER)}\n",
    "$$\n",
    "$$\n",
    "P_t^{(X)} = \\text{Puissance totale produite par les centrales } X \\text{ à } t\\text{ h, (CONTINUE)}\n",
    "$$\n",
    "Contraintes :\n",
    "$$\n",
    "N_t^{(X)} P_{min}^{(X)} \\leq P_t^{(X)} \\leq N_t^{(X)} P_{max}^{(X)} \\text{ ,  Contraintes sur la puissance totale de chaque centrale}\n",
    "$$\n",
    "$$\n",
    "0 \\leq N_t^{(X)} \\leq N^{(X)} \\text{   ,   Contraintes sur le nombre de centrales allumées possible}\n",
    "$$\n",
    "$$\n",
    "\\forall t, \\sum_X P_t^{(X)} = D_t \\text{  ,  Contrainte équilibre offre-demande}\n",
    "$$\n",
    "Objectif :\n",
    "$$\n",
    "\\text{Minimiser} \\sum_X \\sum_T P_t^{(X)} C_{MWh}^{(X)}\n",
    "$$"
   ]
  },
  {
   "cell_type": "code",
   "execution_count": 2,
   "metadata": {},
   "outputs": [],
   "source": [
    "from utils import Centrale\n",
    "\n",
    "dict_Thermique = {\n",
    "    \"A\" : Centrale(\n",
    "    name=\"A\",\n",
    "    N=12,\n",
    "    Pmax=2000,\n",
    "    Pmin=850,\n",
    "    Cmwh=1.5\n",
    "    ),\n",
    "    \"B\" : Centrale(\n",
    "    name=\"B\",\n",
    "    N=10,\n",
    "    Pmax=1750,\n",
    "    Pmin=1250,\n",
    "    Cmwh=1.38\n",
    "    ),\n",
    "    \"C\" : Centrale(\n",
    "    name=\"C\",\n",
    "    N=5,\n",
    "    Pmax=4000,\n",
    "    Pmin=1500,\n",
    "    Cmwh=2.75\n",
    "    )\n",
    "}\n",
    "consommation = np.array([15,15,15,15,15,15,30,30,30,25,25,25,25,25,25,40,40,40,27,27,27,27,27,27])*1000\n",
    "heure = np.arange(24)"
   ]
  },
  {
   "cell_type": "code",
   "execution_count": 3,
   "metadata": {},
   "outputs": [
    {
     "name": "stdout",
     "output_type": "stream",
     "text": [
      "Set parameter TokenServer to value \"dev.cma.mines-paristech.fr\"\n"
     ]
    }
   ],
   "source": [
    "from utils import variable_decision_thermique, contraintes_equilibre, contraintes_puissance_thermique\n",
    "\n",
    "model = gp.Model(name=\"1.1\")\n",
    "dict_N, dict_P = variable_decision_thermique(model=model,dict_Thermique=dict_Thermique)\n",
    "contraintes_puissance_thermique(model,dict_N,dict_P,dict_Thermique)\n",
    "contraintes_equilibre(model,dict_P,dict_Thermique,consommation)\n",
    "model.setObjective(gp.quicksum([dict_P[element[0],element[1]] * dict_Thermique[element[0]].Cmwh for element in product(dict_Thermique,range(24))]), gp.GRB.MINIMIZE)"
   ]
  },
  {
   "cell_type": "code",
   "execution_count": 4,
   "metadata": {},
   "outputs": [
    {
     "name": "stdout",
     "output_type": "stream",
     "text": [
      "Gurobi Optimizer version 9.5.2 build v9.5.2rc0 (win64)\n",
      "Thread count: 4 physical cores, 8 logical processors, using up to 8 threads\n",
      "Optimize a model with 168 rows, 144 columns and 360 nonzeros\n",
      "Model fingerprint: 0xf31da896\n",
      "Variable types: 72 continuous, 72 integer (0 binary)\n",
      "Coefficient statistics:\n",
      "  Matrix range     [1e+00, 4e+03]\n",
      "  Objective range  [1e+00, 3e+00]\n",
      "  Bounds range     [5e+00, 1e+01]\n",
      "  RHS range        [2e+04, 4e+04]\n",
      "Found heuristic solution: objective 1235375.0000\n",
      "Presolve removed 162 rows and 139 columns\n",
      "Presolve time: 0.02s\n",
      "Presolved: 6 rows, 5 columns, 14 nonzeros\n",
      "Found heuristic solution: objective 881275.00000\n",
      "Variable types: 2 continuous, 3 integer (0 binary)\n",
      "\n",
      "Root relaxation: objective 8.694000e+05, 2 iterations, 0.00 seconds (0.00 work units)\n",
      "\n",
      "    Nodes    |    Current Node    |     Objective Bounds      |     Work\n",
      " Expl Unexpl |  Obj  Depth IntInf | Incumbent    BestBd   Gap | It/Node Time\n",
      "\n",
      "     0     0 869400.000    0    1 881275.000 869400.000  1.35%     -    0s\n",
      "H    0     0                    869400.00000 869400.000  0.00%     -    0s\n",
      "     0     0 869400.000    0    1 869400.000 869400.000  0.00%     -    0s\n",
      "\n",
      "Explored 1 nodes (2 simplex iterations) in 0.04 seconds (0.00 work units)\n",
      "Thread count was 8 (of 8 available processors)\n",
      "\n",
      "Solution count 3: 869400 881275 1.23538e+06 \n",
      "\n",
      "Optimal solution found (tolerance 1.00e-04)\n",
      "Best objective 8.694000000000e+05, best bound 8.694000000000e+05, gap 0.0000%\n",
      "Coût : 869400.0\n"
     ]
    }
   ],
   "source": [
    "model.optimize()\n",
    "print(f\"Coût : {model.ObjVal}\")"
   ]
  },
  {
   "cell_type": "code",
   "execution_count": 5,
   "metadata": {},
   "outputs": [
    {
     "data": {
      "application/vnd.plotly.v1+json": {
       "config": {
        "plotlyServerURL": "https://plot.ly"
       },
       "data": [
        {
         "name": "Production A",
         "stackgroup": "one",
         "type": "scatter",
         "x": [
          0,
          1,
          2,
          3,
          4,
          5,
          6,
          7,
          8,
          9,
          10,
          11,
          12,
          13,
          14,
          15,
          16,
          17,
          18,
          19,
          20,
          21,
          22,
          23
         ],
         "y": [
          0,
          0,
          0,
          0,
          0,
          0,
          12500,
          12500,
          12500,
          7500,
          7500,
          7500,
          7500,
          7500,
          7500,
          22500,
          22500,
          22500,
          9500,
          9500,
          9500,
          9500,
          9500,
          9500
         ]
        },
        {
         "name": "Production B",
         "stackgroup": "one",
         "type": "scatter",
         "x": [
          0,
          1,
          2,
          3,
          4,
          5,
          6,
          7,
          8,
          9,
          10,
          11,
          12,
          13,
          14,
          15,
          16,
          17,
          18,
          19,
          20,
          21,
          22,
          23
         ],
         "y": [
          15000,
          15000,
          15000,
          15000,
          15000,
          15000,
          17500,
          17500,
          17500,
          17500,
          17500,
          17500,
          17500,
          17500,
          17500,
          17500,
          17500,
          17500,
          17500,
          17500,
          17500,
          17500,
          17500,
          17500
         ]
        },
        {
         "name": "Production C",
         "stackgroup": "one",
         "type": "scatter",
         "x": [
          0,
          1,
          2,
          3,
          4,
          5,
          6,
          7,
          8,
          9,
          10,
          11,
          12,
          13,
          14,
          15,
          16,
          17,
          18,
          19,
          20,
          21,
          22,
          23
         ],
         "y": [
          0,
          0,
          0,
          0,
          0,
          0,
          0,
          0,
          0,
          0,
          0,
          0,
          0,
          0,
          0,
          0,
          0,
          0,
          0,
          0,
          0,
          0,
          0,
          0
         ]
        },
        {
         "line": {
          "color": "red",
          "dash": "dash"
         },
         "name": "Production total",
         "type": "scatter",
         "x": [
          0,
          1,
          2,
          3,
          4,
          5,
          6,
          7,
          8,
          9,
          10,
          11,
          12,
          13,
          14,
          15,
          16,
          17,
          18,
          19,
          20,
          21,
          22,
          23
         ],
         "y": [
          15000,
          15000,
          15000,
          15000,
          15000,
          15000,
          30000,
          30000,
          30000,
          25000,
          25000,
          25000,
          25000,
          25000,
          25000,
          40000,
          40000,
          40000,
          27000,
          27000,
          27000,
          27000,
          27000,
          27000
         ]
        },
        {
         "line": {
          "color": "black"
         },
         "name": "Coût MWh",
         "type": "scatter",
         "x": [
          0,
          1,
          2,
          3,
          4,
          5,
          6,
          7,
          8,
          9,
          10,
          11,
          12,
          13,
          14,
          15,
          16,
          17,
          18,
          19,
          20,
          21,
          22,
          23
         ],
         "y": [
          1.38,
          1.38,
          1.38,
          1.38,
          1.38,
          1.38,
          1.43,
          1.43,
          1.43,
          1.416,
          1.416,
          1.416,
          1.416,
          1.416,
          1.416,
          1.4475,
          1.4475,
          1.4475,
          1.4222222222222223,
          1.4222222222222223,
          1.4222222222222223,
          1.4222222222222223,
          1.4222222222222223,
          1.4222222222222223
         ],
         "yaxis": "y2"
        }
       ],
       "layout": {
        "hovermode": "x",
        "template": {
         "data": {
          "bar": [
           {
            "error_x": {
             "color": "#2a3f5f"
            },
            "error_y": {
             "color": "#2a3f5f"
            },
            "marker": {
             "line": {
              "color": "#E5ECF6",
              "width": 0.5
             },
             "pattern": {
              "fillmode": "overlay",
              "size": 10,
              "solidity": 0.2
             }
            },
            "type": "bar"
           }
          ],
          "barpolar": [
           {
            "marker": {
             "line": {
              "color": "#E5ECF6",
              "width": 0.5
             },
             "pattern": {
              "fillmode": "overlay",
              "size": 10,
              "solidity": 0.2
             }
            },
            "type": "barpolar"
           }
          ],
          "carpet": [
           {
            "aaxis": {
             "endlinecolor": "#2a3f5f",
             "gridcolor": "white",
             "linecolor": "white",
             "minorgridcolor": "white",
             "startlinecolor": "#2a3f5f"
            },
            "baxis": {
             "endlinecolor": "#2a3f5f",
             "gridcolor": "white",
             "linecolor": "white",
             "minorgridcolor": "white",
             "startlinecolor": "#2a3f5f"
            },
            "type": "carpet"
           }
          ],
          "choropleth": [
           {
            "colorbar": {
             "outlinewidth": 0,
             "ticks": ""
            },
            "type": "choropleth"
           }
          ],
          "contour": [
           {
            "colorbar": {
             "outlinewidth": 0,
             "ticks": ""
            },
            "colorscale": [
             [
              0,
              "#0d0887"
             ],
             [
              0.1111111111111111,
              "#46039f"
             ],
             [
              0.2222222222222222,
              "#7201a8"
             ],
             [
              0.3333333333333333,
              "#9c179e"
             ],
             [
              0.4444444444444444,
              "#bd3786"
             ],
             [
              0.5555555555555556,
              "#d8576b"
             ],
             [
              0.6666666666666666,
              "#ed7953"
             ],
             [
              0.7777777777777778,
              "#fb9f3a"
             ],
             [
              0.8888888888888888,
              "#fdca26"
             ],
             [
              1,
              "#f0f921"
             ]
            ],
            "type": "contour"
           }
          ],
          "contourcarpet": [
           {
            "colorbar": {
             "outlinewidth": 0,
             "ticks": ""
            },
            "type": "contourcarpet"
           }
          ],
          "heatmap": [
           {
            "colorbar": {
             "outlinewidth": 0,
             "ticks": ""
            },
            "colorscale": [
             [
              0,
              "#0d0887"
             ],
             [
              0.1111111111111111,
              "#46039f"
             ],
             [
              0.2222222222222222,
              "#7201a8"
             ],
             [
              0.3333333333333333,
              "#9c179e"
             ],
             [
              0.4444444444444444,
              "#bd3786"
             ],
             [
              0.5555555555555556,
              "#d8576b"
             ],
             [
              0.6666666666666666,
              "#ed7953"
             ],
             [
              0.7777777777777778,
              "#fb9f3a"
             ],
             [
              0.8888888888888888,
              "#fdca26"
             ],
             [
              1,
              "#f0f921"
             ]
            ],
            "type": "heatmap"
           }
          ],
          "heatmapgl": [
           {
            "colorbar": {
             "outlinewidth": 0,
             "ticks": ""
            },
            "colorscale": [
             [
              0,
              "#0d0887"
             ],
             [
              0.1111111111111111,
              "#46039f"
             ],
             [
              0.2222222222222222,
              "#7201a8"
             ],
             [
              0.3333333333333333,
              "#9c179e"
             ],
             [
              0.4444444444444444,
              "#bd3786"
             ],
             [
              0.5555555555555556,
              "#d8576b"
             ],
             [
              0.6666666666666666,
              "#ed7953"
             ],
             [
              0.7777777777777778,
              "#fb9f3a"
             ],
             [
              0.8888888888888888,
              "#fdca26"
             ],
             [
              1,
              "#f0f921"
             ]
            ],
            "type": "heatmapgl"
           }
          ],
          "histogram": [
           {
            "marker": {
             "pattern": {
              "fillmode": "overlay",
              "size": 10,
              "solidity": 0.2
             }
            },
            "type": "histogram"
           }
          ],
          "histogram2d": [
           {
            "colorbar": {
             "outlinewidth": 0,
             "ticks": ""
            },
            "colorscale": [
             [
              0,
              "#0d0887"
             ],
             [
              0.1111111111111111,
              "#46039f"
             ],
             [
              0.2222222222222222,
              "#7201a8"
             ],
             [
              0.3333333333333333,
              "#9c179e"
             ],
             [
              0.4444444444444444,
              "#bd3786"
             ],
             [
              0.5555555555555556,
              "#d8576b"
             ],
             [
              0.6666666666666666,
              "#ed7953"
             ],
             [
              0.7777777777777778,
              "#fb9f3a"
             ],
             [
              0.8888888888888888,
              "#fdca26"
             ],
             [
              1,
              "#f0f921"
             ]
            ],
            "type": "histogram2d"
           }
          ],
          "histogram2dcontour": [
           {
            "colorbar": {
             "outlinewidth": 0,
             "ticks": ""
            },
            "colorscale": [
             [
              0,
              "#0d0887"
             ],
             [
              0.1111111111111111,
              "#46039f"
             ],
             [
              0.2222222222222222,
              "#7201a8"
             ],
             [
              0.3333333333333333,
              "#9c179e"
             ],
             [
              0.4444444444444444,
              "#bd3786"
             ],
             [
              0.5555555555555556,
              "#d8576b"
             ],
             [
              0.6666666666666666,
              "#ed7953"
             ],
             [
              0.7777777777777778,
              "#fb9f3a"
             ],
             [
              0.8888888888888888,
              "#fdca26"
             ],
             [
              1,
              "#f0f921"
             ]
            ],
            "type": "histogram2dcontour"
           }
          ],
          "mesh3d": [
           {
            "colorbar": {
             "outlinewidth": 0,
             "ticks": ""
            },
            "type": "mesh3d"
           }
          ],
          "parcoords": [
           {
            "line": {
             "colorbar": {
              "outlinewidth": 0,
              "ticks": ""
             }
            },
            "type": "parcoords"
           }
          ],
          "pie": [
           {
            "automargin": true,
            "type": "pie"
           }
          ],
          "scatter": [
           {
            "fillpattern": {
             "fillmode": "overlay",
             "size": 10,
             "solidity": 0.2
            },
            "type": "scatter"
           }
          ],
          "scatter3d": [
           {
            "line": {
             "colorbar": {
              "outlinewidth": 0,
              "ticks": ""
             }
            },
            "marker": {
             "colorbar": {
              "outlinewidth": 0,
              "ticks": ""
             }
            },
            "type": "scatter3d"
           }
          ],
          "scattercarpet": [
           {
            "marker": {
             "colorbar": {
              "outlinewidth": 0,
              "ticks": ""
             }
            },
            "type": "scattercarpet"
           }
          ],
          "scattergeo": [
           {
            "marker": {
             "colorbar": {
              "outlinewidth": 0,
              "ticks": ""
             }
            },
            "type": "scattergeo"
           }
          ],
          "scattergl": [
           {
            "marker": {
             "colorbar": {
              "outlinewidth": 0,
              "ticks": ""
             }
            },
            "type": "scattergl"
           }
          ],
          "scattermapbox": [
           {
            "marker": {
             "colorbar": {
              "outlinewidth": 0,
              "ticks": ""
             }
            },
            "type": "scattermapbox"
           }
          ],
          "scatterpolar": [
           {
            "marker": {
             "colorbar": {
              "outlinewidth": 0,
              "ticks": ""
             }
            },
            "type": "scatterpolar"
           }
          ],
          "scatterpolargl": [
           {
            "marker": {
             "colorbar": {
              "outlinewidth": 0,
              "ticks": ""
             }
            },
            "type": "scatterpolargl"
           }
          ],
          "scatterternary": [
           {
            "marker": {
             "colorbar": {
              "outlinewidth": 0,
              "ticks": ""
             }
            },
            "type": "scatterternary"
           }
          ],
          "surface": [
           {
            "colorbar": {
             "outlinewidth": 0,
             "ticks": ""
            },
            "colorscale": [
             [
              0,
              "#0d0887"
             ],
             [
              0.1111111111111111,
              "#46039f"
             ],
             [
              0.2222222222222222,
              "#7201a8"
             ],
             [
              0.3333333333333333,
              "#9c179e"
             ],
             [
              0.4444444444444444,
              "#bd3786"
             ],
             [
              0.5555555555555556,
              "#d8576b"
             ],
             [
              0.6666666666666666,
              "#ed7953"
             ],
             [
              0.7777777777777778,
              "#fb9f3a"
             ],
             [
              0.8888888888888888,
              "#fdca26"
             ],
             [
              1,
              "#f0f921"
             ]
            ],
            "type": "surface"
           }
          ],
          "table": [
           {
            "cells": {
             "fill": {
              "color": "#EBF0F8"
             },
             "line": {
              "color": "white"
             }
            },
            "header": {
             "fill": {
              "color": "#C8D4E3"
             },
             "line": {
              "color": "white"
             }
            },
            "type": "table"
           }
          ]
         },
         "layout": {
          "annotationdefaults": {
           "arrowcolor": "#2a3f5f",
           "arrowhead": 0,
           "arrowwidth": 1
          },
          "autotypenumbers": "strict",
          "coloraxis": {
           "colorbar": {
            "outlinewidth": 0,
            "ticks": ""
           }
          },
          "colorscale": {
           "diverging": [
            [
             0,
             "#8e0152"
            ],
            [
             0.1,
             "#c51b7d"
            ],
            [
             0.2,
             "#de77ae"
            ],
            [
             0.3,
             "#f1b6da"
            ],
            [
             0.4,
             "#fde0ef"
            ],
            [
             0.5,
             "#f7f7f7"
            ],
            [
             0.6,
             "#e6f5d0"
            ],
            [
             0.7,
             "#b8e186"
            ],
            [
             0.8,
             "#7fbc41"
            ],
            [
             0.9,
             "#4d9221"
            ],
            [
             1,
             "#276419"
            ]
           ],
           "sequential": [
            [
             0,
             "#0d0887"
            ],
            [
             0.1111111111111111,
             "#46039f"
            ],
            [
             0.2222222222222222,
             "#7201a8"
            ],
            [
             0.3333333333333333,
             "#9c179e"
            ],
            [
             0.4444444444444444,
             "#bd3786"
            ],
            [
             0.5555555555555556,
             "#d8576b"
            ],
            [
             0.6666666666666666,
             "#ed7953"
            ],
            [
             0.7777777777777778,
             "#fb9f3a"
            ],
            [
             0.8888888888888888,
             "#fdca26"
            ],
            [
             1,
             "#f0f921"
            ]
           ],
           "sequentialminus": [
            [
             0,
             "#0d0887"
            ],
            [
             0.1111111111111111,
             "#46039f"
            ],
            [
             0.2222222222222222,
             "#7201a8"
            ],
            [
             0.3333333333333333,
             "#9c179e"
            ],
            [
             0.4444444444444444,
             "#bd3786"
            ],
            [
             0.5555555555555556,
             "#d8576b"
            ],
            [
             0.6666666666666666,
             "#ed7953"
            ],
            [
             0.7777777777777778,
             "#fb9f3a"
            ],
            [
             0.8888888888888888,
             "#fdca26"
            ],
            [
             1,
             "#f0f921"
            ]
           ]
          },
          "colorway": [
           "#636efa",
           "#EF553B",
           "#00cc96",
           "#ab63fa",
           "#FFA15A",
           "#19d3f3",
           "#FF6692",
           "#B6E880",
           "#FF97FF",
           "#FECB52"
          ],
          "font": {
           "color": "#2a3f5f"
          },
          "geo": {
           "bgcolor": "white",
           "lakecolor": "white",
           "landcolor": "#E5ECF6",
           "showlakes": true,
           "showland": true,
           "subunitcolor": "white"
          },
          "hoverlabel": {
           "align": "left"
          },
          "hovermode": "closest",
          "mapbox": {
           "style": "light"
          },
          "paper_bgcolor": "white",
          "plot_bgcolor": "#E5ECF6",
          "polar": {
           "angularaxis": {
            "gridcolor": "white",
            "linecolor": "white",
            "ticks": ""
           },
           "bgcolor": "#E5ECF6",
           "radialaxis": {
            "gridcolor": "white",
            "linecolor": "white",
            "ticks": ""
           }
          },
          "scene": {
           "xaxis": {
            "backgroundcolor": "#E5ECF6",
            "gridcolor": "white",
            "gridwidth": 2,
            "linecolor": "white",
            "showbackground": true,
            "ticks": "",
            "zerolinecolor": "white"
           },
           "yaxis": {
            "backgroundcolor": "#E5ECF6",
            "gridcolor": "white",
            "gridwidth": 2,
            "linecolor": "white",
            "showbackground": true,
            "ticks": "",
            "zerolinecolor": "white"
           },
           "zaxis": {
            "backgroundcolor": "#E5ECF6",
            "gridcolor": "white",
            "gridwidth": 2,
            "linecolor": "white",
            "showbackground": true,
            "ticks": "",
            "zerolinecolor": "white"
           }
          },
          "shapedefaults": {
           "line": {
            "color": "#2a3f5f"
           }
          },
          "ternary": {
           "aaxis": {
            "gridcolor": "white",
            "linecolor": "white",
            "ticks": ""
           },
           "baxis": {
            "gridcolor": "white",
            "linecolor": "white",
            "ticks": ""
           },
           "bgcolor": "#E5ECF6",
           "caxis": {
            "gridcolor": "white",
            "linecolor": "white",
            "ticks": ""
           }
          },
          "title": {
           "x": 0.05
          },
          "xaxis": {
           "automargin": true,
           "gridcolor": "white",
           "linecolor": "white",
           "ticks": "",
           "title": {
            "standoff": 15
           },
           "zerolinecolor": "white",
           "zerolinewidth": 2
          },
          "yaxis": {
           "automargin": true,
           "gridcolor": "white",
           "linecolor": "white",
           "ticks": "",
           "title": {
            "standoff": 15
           },
           "zerolinecolor": "white",
           "zerolinewidth": 2
          }
         }
        },
        "title": {
         "text": "Répartition de la production électrique dans la journée - 1"
        },
        "yaxis": {
         "range": [
          0,
          44000
         ],
         "title": {
          "text": "MW"
         }
        },
        "yaxis2": {
         "anchor": "free",
         "overlaying": "y",
         "position": 1,
         "range": [
          1.311,
          1.5922500000000002
         ],
         "side": "right",
         "title": {
          "text": "€/MWh"
         }
        }
       }
      }
     },
     "metadata": {},
     "output_type": "display_data"
    }
   ],
   "source": [
    "from turtle import color\n",
    "import plotly.graph_objects as go\n",
    "from utils_viz import df_results, Results_viz\n",
    "df = df_results(dict_N,dict_P,dict_Thermique,consommation)\n",
    "fig = Results_viz(df,dict_Thermique)\n",
    "A = 1\n",
    "fig.update_layout(\n",
    "    title = f\"Répartition de la production électrique dans la journée - {A}\"\n",
    ")\n",
    "fig.show()\n",
    "fig.write_html(f\"HTML/Répartition de la production électrique dans la journée - {A}.html\")"
   ]
  },
  {
   "cell_type": "code",
   "execution_count": 6,
   "metadata": {},
   "outputs": [
    {
     "name": "stdout",
     "output_type": "stream",
     "text": [
      "Gurobi Optimizer version 9.5.2 build v9.5.2rc0 (win64)\n",
      "Thread count: 4 physical cores, 8 logical processors, using up to 8 threads\n",
      "Optimize a model with 168 rows, 144 columns and 360 nonzeros\n",
      "Model fingerprint: 0x635b27b9\n",
      "Coefficient statistics:\n",
      "  Matrix range     [1e+00, 4e+03]\n",
      "  Objective range  [1e+00, 3e+00]\n",
      "  Bounds range     [5e+00, 1e+01]\n",
      "  RHS range        [2e+04, 4e+04]\n",
      "Presolve removed 153 rows and 99 columns\n",
      "Presolve time: 0.00s\n",
      "Presolved: 15 rows, 45 columns, 45 nonzeros\n",
      "\n",
      "Iteration    Objective       Primal Inf.    Dual Inf.      Time\n",
      "       0    8.5266000e+05   1.743750e+04   0.000000e+00      0s\n",
      "      15    8.6940000e+05   0.000000e+00   0.000000e+00      0s\n",
      "\n",
      "Solved in 15 iterations and 0.01 seconds (0.00 work units)\n",
      "Optimal objective  8.694000000e+05\n",
      "Coût : 869400.0\n"
     ]
    }
   ],
   "source": [
    "model_relax = model.relax()\n",
    "model_relax.optimize()\n",
    "print(f\"Coût : {model_relax.ObjVal}\")"
   ]
  },
  {
   "cell_type": "markdown",
   "metadata": {},
   "source": [
    "## 2 Coût d'opération\n",
    "\n",
    "### 2.1 Coût de fonctionnement\n",
    "\n",
    "Pour ce problème on modifie la fonction objectif.<br>\n",
    "Objectif :\n",
    "$$\n",
    "\\text{Minimiser} \\sum_X \\sum_T (P_t^{(X)} - P_{min}^{(X)}N_t^{(X)}) C_{MWh}^{(X)} + N_t^{(X)}C_{base}^{(X)}\n",
    "$$"
   ]
  },
  {
   "cell_type": "code",
   "execution_count": 7,
   "metadata": {},
   "outputs": [],
   "source": [
    "from utils import Centrale2\n",
    "\n",
    "dict_Thermique = {\n",
    "    \"A\" : Centrale2(\n",
    "    name=\"A\",\n",
    "    N=12,\n",
    "    Pmax=2000,\n",
    "    Pmin=850,\n",
    "    Cmwh=2,\n",
    "    Cstart=2000,\n",
    "    Cbase=1000\n",
    "    ),\n",
    "    \"B\" : Centrale2(\n",
    "    name=\"B\",\n",
    "    N=10,\n",
    "    Pmax=1750,\n",
    "    Pmin=1250,\n",
    "    Cmwh=1.3,\n",
    "    Cstart=1000,\n",
    "    Cbase=2600\n",
    "    ),\n",
    "    \"C\" : Centrale2(\n",
    "    name=\"C\",\n",
    "    N=5,\n",
    "    Pmax=4000,\n",
    "    Pmin=1500,\n",
    "    Cmwh=3,\n",
    "    Cstart=500,\n",
    "    Cbase=3000\n",
    "    )\n",
    "}"
   ]
  },
  {
   "cell_type": "code",
   "execution_count": 8,
   "metadata": {},
   "outputs": [
    {
     "name": "stdout",
     "output_type": "stream",
     "text": [
      "Gurobi Optimizer version 9.5.2 build v9.5.2rc0 (win64)\n",
      "Thread count: 4 physical cores, 8 logical processors, using up to 8 threads\n",
      "Optimize a model with 168 rows, 144 columns and 360 nonzeros\n",
      "Model fingerprint: 0x7066cec8\n",
      "Variable types: 72 continuous, 72 integer (0 binary)\n",
      "Coefficient statistics:\n",
      "  Matrix range     [1e+00, 4e+03]\n",
      "  Objective range  [1e+00, 2e+03]\n",
      "  Bounds range     [5e+00, 1e+01]\n",
      "  RHS range        [2e+04, 4e+04]\n",
      "Found heuristic solution: objective 1271875.0000\n",
      "Presolve removed 162 rows and 139 columns\n",
      "Presolve time: 0.02s\n",
      "Presolved: 6 rows, 5 columns, 14 nonzeros\n",
      "Found heuristic solution: objective 987500.00000\n",
      "Variable types: 2 continuous, 3 integer (0 binary)\n",
      "Found heuristic solution: objective 985950.00000\n",
      "\n",
      "Root relaxation: objective 9.787500e+05, 2 iterations, 0.00 seconds (0.00 work units)\n",
      "\n",
      "    Nodes    |    Current Node    |     Objective Bounds      |     Work\n",
      " Expl Unexpl |  Obj  Depth IntInf | Incumbent    BestBd   Gap | It/Node Time\n",
      "\n",
      "     0     0 978750.000    0    1 985950.000 978750.000  0.73%     -    0s\n",
      "H    0     0                    978900.00000 978750.000  0.02%     -    0s\n",
      "     0     0 978750.000    0    1 978900.000 978750.000  0.02%     -    0s\n",
      "\n",
      "Explored 1 nodes (2 simplex iterations) in 0.04 seconds (0.00 work units)\n",
      "Thread count was 8 (of 8 available processors)\n",
      "\n",
      "Solution count 4: 978900 985950 987500 1.27188e+06 \n",
      "\n",
      "Optimal solution found (tolerance 1.00e-04)\n",
      "Best objective 9.789000000000e+05, best bound 9.789000000000e+05, gap 0.0000%\n",
      "Coût : 978900.0\n"
     ]
    }
   ],
   "source": [
    "model = gp.Model(name=\"2.1\")\n",
    "dict_N, dict_P = variable_decision_thermique(model,dict_Thermique)\n",
    "contraintes_puissance_thermique(model,dict_N=dict_N,dict_P=dict_P,dict_Thermique=dict_Thermique)\n",
    "contraintes_equilibre(model,dict_P,dict_Thermique,consommation)\n",
    "\n",
    "model.setObjective(gp.quicksum([dict_N[element[0],element[1]] * (dict_Thermique[element[0]].Cbase - dict_Thermique[element[0]].Pmin*dict_Thermique[element[0]].Cmwh) + dict_P[element[0],element[1]] * dict_Thermique[element[0]].Cmwh for element in product(dict_Thermique,range(24))]), gp.GRB.MINIMIZE)\n",
    "\n",
    "model.optimize()\n",
    "print(f\"Coût : {model.ObjVal}\")"
   ]
  },
  {
   "cell_type": "code",
   "execution_count": 9,
   "metadata": {},
   "outputs": [
    {
     "data": {
      "application/vnd.plotly.v1+json": {
       "config": {
        "plotlyServerURL": "https://plot.ly"
       },
       "data": [
        {
         "name": "Production A",
         "stackgroup": "one",
         "type": "scatter",
         "x": [
          0,
          1,
          2,
          3,
          4,
          5,
          6,
          7,
          8,
          9,
          10,
          11,
          12,
          13,
          14,
          15,
          16,
          17,
          18,
          19,
          20,
          21,
          22,
          23
         ],
         "y": [
          11500,
          11500,
          11500,
          11500,
          11500,
          11500,
          12500,
          12500,
          12500,
          11000,
          11000,
          11000,
          11000,
          11000,
          11000,
          22500,
          22500,
          22500,
          11250,
          11250,
          11250,
          11250,
          11250,
          11250
         ]
        },
        {
         "name": "Production B",
         "stackgroup": "one",
         "type": "scatter",
         "x": [
          0,
          1,
          2,
          3,
          4,
          5,
          6,
          7,
          8,
          9,
          10,
          11,
          12,
          13,
          14,
          15,
          16,
          17,
          18,
          19,
          20,
          21,
          22,
          23
         ],
         "y": [
          3500,
          3500,
          3500,
          3500,
          3500,
          3500,
          17500,
          17500,
          17500,
          14000,
          14000,
          14000,
          14000,
          14000,
          14000,
          17500,
          17500,
          17500,
          15750,
          15750,
          15750,
          15750,
          15750,
          15750
         ]
        },
        {
         "name": "Production C",
         "stackgroup": "one",
         "type": "scatter",
         "x": [
          0,
          1,
          2,
          3,
          4,
          5,
          6,
          7,
          8,
          9,
          10,
          11,
          12,
          13,
          14,
          15,
          16,
          17,
          18,
          19,
          20,
          21,
          22,
          23
         ],
         "y": [
          0,
          0,
          0,
          0,
          0,
          0,
          0,
          0,
          0,
          0,
          0,
          0,
          0,
          0,
          0,
          0,
          0,
          0,
          0,
          0,
          0,
          0,
          0,
          0
         ]
        },
        {
         "line": {
          "color": "red",
          "dash": "dash"
         },
         "name": "Production total",
         "type": "scatter",
         "x": [
          0,
          1,
          2,
          3,
          4,
          5,
          6,
          7,
          8,
          9,
          10,
          11,
          12,
          13,
          14,
          15,
          16,
          17,
          18,
          19,
          20,
          21,
          22,
          23
         ],
         "y": [
          15000,
          15000,
          15000,
          15000,
          15000,
          15000,
          30000,
          30000,
          30000,
          25000,
          25000,
          25000,
          25000,
          25000,
          25000,
          40000,
          40000,
          40000,
          27000,
          27000,
          27000,
          27000,
          27000,
          27000
         ]
        },
        {
         "line": {
          "color": "black"
         },
         "name": "Coût MWh",
         "type": "scatter",
         "x": [
          0,
          1,
          2,
          3,
          4,
          5,
          6,
          7,
          8,
          9,
          10,
          11,
          12,
          13,
          14,
          15,
          16,
          17,
          18,
          19,
          20,
          21,
          22,
          23
         ],
         "y": [
          1.4066666666666667,
          1.4066666666666667,
          1.4066666666666667,
          1.4066666666666667,
          1.4066666666666667,
          1.4066666666666667,
          1.6366666666666667,
          1.6366666666666667,
          1.6366666666666667,
          1.584,
          1.584,
          1.584,
          1.584,
          1.584,
          1.584,
          1.7275,
          1.7275,
          1.7275,
          1.6055555555555556,
          1.6055555555555556,
          1.6055555555555556,
          1.6055555555555556,
          1.6055555555555556,
          1.6055555555555556
         ],
         "yaxis": "y2"
        }
       ],
       "layout": {
        "hovermode": "x",
        "template": {
         "data": {
          "bar": [
           {
            "error_x": {
             "color": "#2a3f5f"
            },
            "error_y": {
             "color": "#2a3f5f"
            },
            "marker": {
             "line": {
              "color": "#E5ECF6",
              "width": 0.5
             },
             "pattern": {
              "fillmode": "overlay",
              "size": 10,
              "solidity": 0.2
             }
            },
            "type": "bar"
           }
          ],
          "barpolar": [
           {
            "marker": {
             "line": {
              "color": "#E5ECF6",
              "width": 0.5
             },
             "pattern": {
              "fillmode": "overlay",
              "size": 10,
              "solidity": 0.2
             }
            },
            "type": "barpolar"
           }
          ],
          "carpet": [
           {
            "aaxis": {
             "endlinecolor": "#2a3f5f",
             "gridcolor": "white",
             "linecolor": "white",
             "minorgridcolor": "white",
             "startlinecolor": "#2a3f5f"
            },
            "baxis": {
             "endlinecolor": "#2a3f5f",
             "gridcolor": "white",
             "linecolor": "white",
             "minorgridcolor": "white",
             "startlinecolor": "#2a3f5f"
            },
            "type": "carpet"
           }
          ],
          "choropleth": [
           {
            "colorbar": {
             "outlinewidth": 0,
             "ticks": ""
            },
            "type": "choropleth"
           }
          ],
          "contour": [
           {
            "colorbar": {
             "outlinewidth": 0,
             "ticks": ""
            },
            "colorscale": [
             [
              0,
              "#0d0887"
             ],
             [
              0.1111111111111111,
              "#46039f"
             ],
             [
              0.2222222222222222,
              "#7201a8"
             ],
             [
              0.3333333333333333,
              "#9c179e"
             ],
             [
              0.4444444444444444,
              "#bd3786"
             ],
             [
              0.5555555555555556,
              "#d8576b"
             ],
             [
              0.6666666666666666,
              "#ed7953"
             ],
             [
              0.7777777777777778,
              "#fb9f3a"
             ],
             [
              0.8888888888888888,
              "#fdca26"
             ],
             [
              1,
              "#f0f921"
             ]
            ],
            "type": "contour"
           }
          ],
          "contourcarpet": [
           {
            "colorbar": {
             "outlinewidth": 0,
             "ticks": ""
            },
            "type": "contourcarpet"
           }
          ],
          "heatmap": [
           {
            "colorbar": {
             "outlinewidth": 0,
             "ticks": ""
            },
            "colorscale": [
             [
              0,
              "#0d0887"
             ],
             [
              0.1111111111111111,
              "#46039f"
             ],
             [
              0.2222222222222222,
              "#7201a8"
             ],
             [
              0.3333333333333333,
              "#9c179e"
             ],
             [
              0.4444444444444444,
              "#bd3786"
             ],
             [
              0.5555555555555556,
              "#d8576b"
             ],
             [
              0.6666666666666666,
              "#ed7953"
             ],
             [
              0.7777777777777778,
              "#fb9f3a"
             ],
             [
              0.8888888888888888,
              "#fdca26"
             ],
             [
              1,
              "#f0f921"
             ]
            ],
            "type": "heatmap"
           }
          ],
          "heatmapgl": [
           {
            "colorbar": {
             "outlinewidth": 0,
             "ticks": ""
            },
            "colorscale": [
             [
              0,
              "#0d0887"
             ],
             [
              0.1111111111111111,
              "#46039f"
             ],
             [
              0.2222222222222222,
              "#7201a8"
             ],
             [
              0.3333333333333333,
              "#9c179e"
             ],
             [
              0.4444444444444444,
              "#bd3786"
             ],
             [
              0.5555555555555556,
              "#d8576b"
             ],
             [
              0.6666666666666666,
              "#ed7953"
             ],
             [
              0.7777777777777778,
              "#fb9f3a"
             ],
             [
              0.8888888888888888,
              "#fdca26"
             ],
             [
              1,
              "#f0f921"
             ]
            ],
            "type": "heatmapgl"
           }
          ],
          "histogram": [
           {
            "marker": {
             "pattern": {
              "fillmode": "overlay",
              "size": 10,
              "solidity": 0.2
             }
            },
            "type": "histogram"
           }
          ],
          "histogram2d": [
           {
            "colorbar": {
             "outlinewidth": 0,
             "ticks": ""
            },
            "colorscale": [
             [
              0,
              "#0d0887"
             ],
             [
              0.1111111111111111,
              "#46039f"
             ],
             [
              0.2222222222222222,
              "#7201a8"
             ],
             [
              0.3333333333333333,
              "#9c179e"
             ],
             [
              0.4444444444444444,
              "#bd3786"
             ],
             [
              0.5555555555555556,
              "#d8576b"
             ],
             [
              0.6666666666666666,
              "#ed7953"
             ],
             [
              0.7777777777777778,
              "#fb9f3a"
             ],
             [
              0.8888888888888888,
              "#fdca26"
             ],
             [
              1,
              "#f0f921"
             ]
            ],
            "type": "histogram2d"
           }
          ],
          "histogram2dcontour": [
           {
            "colorbar": {
             "outlinewidth": 0,
             "ticks": ""
            },
            "colorscale": [
             [
              0,
              "#0d0887"
             ],
             [
              0.1111111111111111,
              "#46039f"
             ],
             [
              0.2222222222222222,
              "#7201a8"
             ],
             [
              0.3333333333333333,
              "#9c179e"
             ],
             [
              0.4444444444444444,
              "#bd3786"
             ],
             [
              0.5555555555555556,
              "#d8576b"
             ],
             [
              0.6666666666666666,
              "#ed7953"
             ],
             [
              0.7777777777777778,
              "#fb9f3a"
             ],
             [
              0.8888888888888888,
              "#fdca26"
             ],
             [
              1,
              "#f0f921"
             ]
            ],
            "type": "histogram2dcontour"
           }
          ],
          "mesh3d": [
           {
            "colorbar": {
             "outlinewidth": 0,
             "ticks": ""
            },
            "type": "mesh3d"
           }
          ],
          "parcoords": [
           {
            "line": {
             "colorbar": {
              "outlinewidth": 0,
              "ticks": ""
             }
            },
            "type": "parcoords"
           }
          ],
          "pie": [
           {
            "automargin": true,
            "type": "pie"
           }
          ],
          "scatter": [
           {
            "fillpattern": {
             "fillmode": "overlay",
             "size": 10,
             "solidity": 0.2
            },
            "type": "scatter"
           }
          ],
          "scatter3d": [
           {
            "line": {
             "colorbar": {
              "outlinewidth": 0,
              "ticks": ""
             }
            },
            "marker": {
             "colorbar": {
              "outlinewidth": 0,
              "ticks": ""
             }
            },
            "type": "scatter3d"
           }
          ],
          "scattercarpet": [
           {
            "marker": {
             "colorbar": {
              "outlinewidth": 0,
              "ticks": ""
             }
            },
            "type": "scattercarpet"
           }
          ],
          "scattergeo": [
           {
            "marker": {
             "colorbar": {
              "outlinewidth": 0,
              "ticks": ""
             }
            },
            "type": "scattergeo"
           }
          ],
          "scattergl": [
           {
            "marker": {
             "colorbar": {
              "outlinewidth": 0,
              "ticks": ""
             }
            },
            "type": "scattergl"
           }
          ],
          "scattermapbox": [
           {
            "marker": {
             "colorbar": {
              "outlinewidth": 0,
              "ticks": ""
             }
            },
            "type": "scattermapbox"
           }
          ],
          "scatterpolar": [
           {
            "marker": {
             "colorbar": {
              "outlinewidth": 0,
              "ticks": ""
             }
            },
            "type": "scatterpolar"
           }
          ],
          "scatterpolargl": [
           {
            "marker": {
             "colorbar": {
              "outlinewidth": 0,
              "ticks": ""
             }
            },
            "type": "scatterpolargl"
           }
          ],
          "scatterternary": [
           {
            "marker": {
             "colorbar": {
              "outlinewidth": 0,
              "ticks": ""
             }
            },
            "type": "scatterternary"
           }
          ],
          "surface": [
           {
            "colorbar": {
             "outlinewidth": 0,
             "ticks": ""
            },
            "colorscale": [
             [
              0,
              "#0d0887"
             ],
             [
              0.1111111111111111,
              "#46039f"
             ],
             [
              0.2222222222222222,
              "#7201a8"
             ],
             [
              0.3333333333333333,
              "#9c179e"
             ],
             [
              0.4444444444444444,
              "#bd3786"
             ],
             [
              0.5555555555555556,
              "#d8576b"
             ],
             [
              0.6666666666666666,
              "#ed7953"
             ],
             [
              0.7777777777777778,
              "#fb9f3a"
             ],
             [
              0.8888888888888888,
              "#fdca26"
             ],
             [
              1,
              "#f0f921"
             ]
            ],
            "type": "surface"
           }
          ],
          "table": [
           {
            "cells": {
             "fill": {
              "color": "#EBF0F8"
             },
             "line": {
              "color": "white"
             }
            },
            "header": {
             "fill": {
              "color": "#C8D4E3"
             },
             "line": {
              "color": "white"
             }
            },
            "type": "table"
           }
          ]
         },
         "layout": {
          "annotationdefaults": {
           "arrowcolor": "#2a3f5f",
           "arrowhead": 0,
           "arrowwidth": 1
          },
          "autotypenumbers": "strict",
          "coloraxis": {
           "colorbar": {
            "outlinewidth": 0,
            "ticks": ""
           }
          },
          "colorscale": {
           "diverging": [
            [
             0,
             "#8e0152"
            ],
            [
             0.1,
             "#c51b7d"
            ],
            [
             0.2,
             "#de77ae"
            ],
            [
             0.3,
             "#f1b6da"
            ],
            [
             0.4,
             "#fde0ef"
            ],
            [
             0.5,
             "#f7f7f7"
            ],
            [
             0.6,
             "#e6f5d0"
            ],
            [
             0.7,
             "#b8e186"
            ],
            [
             0.8,
             "#7fbc41"
            ],
            [
             0.9,
             "#4d9221"
            ],
            [
             1,
             "#276419"
            ]
           ],
           "sequential": [
            [
             0,
             "#0d0887"
            ],
            [
             0.1111111111111111,
             "#46039f"
            ],
            [
             0.2222222222222222,
             "#7201a8"
            ],
            [
             0.3333333333333333,
             "#9c179e"
            ],
            [
             0.4444444444444444,
             "#bd3786"
            ],
            [
             0.5555555555555556,
             "#d8576b"
            ],
            [
             0.6666666666666666,
             "#ed7953"
            ],
            [
             0.7777777777777778,
             "#fb9f3a"
            ],
            [
             0.8888888888888888,
             "#fdca26"
            ],
            [
             1,
             "#f0f921"
            ]
           ],
           "sequentialminus": [
            [
             0,
             "#0d0887"
            ],
            [
             0.1111111111111111,
             "#46039f"
            ],
            [
             0.2222222222222222,
             "#7201a8"
            ],
            [
             0.3333333333333333,
             "#9c179e"
            ],
            [
             0.4444444444444444,
             "#bd3786"
            ],
            [
             0.5555555555555556,
             "#d8576b"
            ],
            [
             0.6666666666666666,
             "#ed7953"
            ],
            [
             0.7777777777777778,
             "#fb9f3a"
            ],
            [
             0.8888888888888888,
             "#fdca26"
            ],
            [
             1,
             "#f0f921"
            ]
           ]
          },
          "colorway": [
           "#636efa",
           "#EF553B",
           "#00cc96",
           "#ab63fa",
           "#FFA15A",
           "#19d3f3",
           "#FF6692",
           "#B6E880",
           "#FF97FF",
           "#FECB52"
          ],
          "font": {
           "color": "#2a3f5f"
          },
          "geo": {
           "bgcolor": "white",
           "lakecolor": "white",
           "landcolor": "#E5ECF6",
           "showlakes": true,
           "showland": true,
           "subunitcolor": "white"
          },
          "hoverlabel": {
           "align": "left"
          },
          "hovermode": "closest",
          "mapbox": {
           "style": "light"
          },
          "paper_bgcolor": "white",
          "plot_bgcolor": "#E5ECF6",
          "polar": {
           "angularaxis": {
            "gridcolor": "white",
            "linecolor": "white",
            "ticks": ""
           },
           "bgcolor": "#E5ECF6",
           "radialaxis": {
            "gridcolor": "white",
            "linecolor": "white",
            "ticks": ""
           }
          },
          "scene": {
           "xaxis": {
            "backgroundcolor": "#E5ECF6",
            "gridcolor": "white",
            "gridwidth": 2,
            "linecolor": "white",
            "showbackground": true,
            "ticks": "",
            "zerolinecolor": "white"
           },
           "yaxis": {
            "backgroundcolor": "#E5ECF6",
            "gridcolor": "white",
            "gridwidth": 2,
            "linecolor": "white",
            "showbackground": true,
            "ticks": "",
            "zerolinecolor": "white"
           },
           "zaxis": {
            "backgroundcolor": "#E5ECF6",
            "gridcolor": "white",
            "gridwidth": 2,
            "linecolor": "white",
            "showbackground": true,
            "ticks": "",
            "zerolinecolor": "white"
           }
          },
          "shapedefaults": {
           "line": {
            "color": "#2a3f5f"
           }
          },
          "ternary": {
           "aaxis": {
            "gridcolor": "white",
            "linecolor": "white",
            "ticks": ""
           },
           "baxis": {
            "gridcolor": "white",
            "linecolor": "white",
            "ticks": ""
           },
           "bgcolor": "#E5ECF6",
           "caxis": {
            "gridcolor": "white",
            "linecolor": "white",
            "ticks": ""
           }
          },
          "title": {
           "x": 0.05
          },
          "xaxis": {
           "automargin": true,
           "gridcolor": "white",
           "linecolor": "white",
           "ticks": "",
           "title": {
            "standoff": 15
           },
           "zerolinecolor": "white",
           "zerolinewidth": 2
          },
          "yaxis": {
           "automargin": true,
           "gridcolor": "white",
           "linecolor": "white",
           "ticks": "",
           "title": {
            "standoff": 15
           },
           "zerolinecolor": "white",
           "zerolinewidth": 2
          }
         }
        },
        "title": {
         "text": "Répartition de la production électrique dans la journée - 2.1"
        },
        "yaxis": {
         "range": [
          0,
          44000
         ],
         "title": {
          "text": "MW"
         }
        },
        "yaxis2": {
         "anchor": "free",
         "overlaying": "y",
         "position": 1,
         "range": [
          1.3363333333333334,
          1.9002500000000002
         ],
         "side": "right",
         "title": {
          "text": "€/MWh"
         }
        }
       }
      }
     },
     "metadata": {},
     "output_type": "display_data"
    }
   ],
   "source": [
    "from utils_viz import df_results2\n",
    "df = df_results2(dict_N=dict_N,dict_P=dict_P,dict_XX=dict_Thermique,consommation=consommation)\n",
    "fig = Results_viz(df,dict_Thermique)\n",
    "A = \"2.1\"\n",
    "fig.update_layout(\n",
    "    title = f\"Répartition de la production électrique dans la journée - {A}\"\n",
    ")\n",
    "fig.show()\n",
    "fig.write_html(f\"HTML/Répartition de la production électrique dans la journée - {A}.html\")"
   ]
  },
  {
   "cell_type": "markdown",
   "metadata": {},
   "source": [
    "### 2.2 Coût du démarrage\n",
    "\n",
    "Pour ce problème on modifie les variables de décisions et on y adapte les contraintes.\n",
    "\n",
    "Variables de décision :\n",
    "Pour une type de centrale $X \\in [A,B,C]$, et une heure de la journée $t\\in {1,\\dots,24}$, on définit :\n",
    "$$\n",
    "N_t^{(X)} = \\text{Nombre de centrales } X \\text{allumées à } t\\text{ h, (ENTIER)}\n",
    "$$\n",
    "$$\n",
    "N_{start,t}^{(X)} = \\text{Nombre de centrales } X \\text{démarrées à } t\\text{ h, (ENTIER)}\n",
    "$$\n",
    "$$\n",
    "P_t^{(X)} = \\text{Puissance totale produite par les centrales } X \\text{ à } t\\text{ h, (CONTINUE)}\n",
    "$$\n",
    "Contraintes (par convention $N_{-1}^{(X)}=0$):\n",
    "$$\n",
    "N_t^{(X)} P_{min}^{(X)} \\leq P_t^{(X)} \\leq N_t^{(X)} P_{max}^{(X)} \\text{ ,  Contraintes sur la puissance totale de chaque centrale}\n",
    "$$\n",
    "$$\n",
    "N_{start,t}^{(X)} \\leq N_t^{(X)} \\leq N_{start,t}^{(X)}+N_{t-1}^{(X)} \\text{   ,   Contraintes sur le nombre de centrales allumées possible}\n",
    "$$\n",
    "$$\n",
    "0 \\leq N_{start,t}^{(X)} \\leq N^{(X)}-N_{t-1}^{(X)} \\text{   ,   Contraintes sur le nombre de centrales démarrable possible}\n",
    "$$\n",
    "$$\n",
    "\\sum_X P_t^{(X)} = D_t \\text{  ,  Contrainte équilibre offre-demande}\n",
    "$$\n",
    "Objectif :\n",
    "$$\n",
    "\\text{Minimiser} \\sum_X \\sum_T (P_t^{(X)} - P_{min}^{(X)}N_t^{(X)}) C_{MWh}^{(X)} + N_t^{(X)}C_{base}^{(X)} + N_{start,t}^{(X)}C_{start}^{(X)}\n",
    "$$"
   ]
  },
  {
   "cell_type": "code",
   "execution_count": 10,
   "metadata": {},
   "outputs": [
    {
     "name": "stdout",
     "output_type": "stream",
     "text": [
      "Gurobi Optimizer version 9.5.2 build v9.5.2rc0 (win64)\n",
      "Thread count: 4 physical cores, 8 logical processors, using up to 8 threads\n",
      "Optimize a model with 312 rows, 216 columns and 714 nonzeros\n",
      "Model fingerprint: 0xafd71f6e\n",
      "Variable types: 72 continuous, 144 integer (0 binary)\n",
      "Coefficient statistics:\n",
      "  Matrix range     [1e+00, 4e+03]\n",
      "  Objective range  [1e+00, 2e+03]\n",
      "  Bounds range     [5e+00, 1e+01]\n",
      "  RHS range        [5e+00, 4e+04]\n",
      "Found heuristic solution: objective 1474375.0000\n",
      "Presolve removed 108 rows and 30 columns\n",
      "Presolve time: 0.00s\n",
      "Presolved: 204 rows, 186 columns, 522 nonzeros\n",
      "Variable types: 42 continuous, 144 integer (0 binary)\n",
      "Found heuristic solution: objective 1378930.0000\n",
      "\n",
      "Root relaxation: objective 1.011257e+06, 52 iterations, 0.00 seconds (0.00 work units)\n",
      "\n",
      "    Nodes    |    Current Node    |     Objective Bounds      |     Work\n",
      " Expl Unexpl |  Obj  Depth IntInf | Incumbent    BestBd   Gap | It/Node Time\n",
      "\n",
      "     0     0 1011257.14    0   26 1378930.00 1011257.14  26.7%     -    0s\n",
      "H    0     0                    1019660.0000 1011257.14  0.82%     -    0s\n",
      "H    0     0                    1018090.0000 1011257.14  0.67%     -    0s\n",
      "H    0     0                    1016340.0000 1011257.14  0.50%     -    0s\n",
      "H    0     0                    1016100.0000 1011257.14  0.48%     -    0s\n",
      "     0     0 1014233.33    0    4 1016100.00 1014233.33  0.18%     -    0s\n",
      "H    0     0                    1015860.0000 1014233.33  0.16%     -    0s\n",
      "H    0     0                    1014650.0000 1014233.33  0.04%     -    0s\n",
      "H    0     0                    1014400.0000 1014233.33  0.02%     -    0s\n",
      "\n",
      "Cutting planes:\n",
      "  Gomory: 3\n",
      "  MIR: 27\n",
      "  StrongCG: 2\n",
      "\n",
      "Explored 1 nodes (92 simplex iterations) in 0.03 seconds (0.00 work units)\n",
      "Thread count was 8 (of 8 available processors)\n",
      "\n",
      "Solution count 9: 1.0144e+06 1.01465e+06 1.01586e+06 ... 1.47438e+06\n",
      "\n",
      "Optimal solution found (tolerance 1.00e-04)\n",
      "Best objective 1.014400000000e+06, best bound 1.014400000000e+06, gap 0.0000%\n"
     ]
    }
   ],
   "source": [
    "from utils import variable_decision_thermique_avec_demarrage, contraintes_demarrage\n",
    "\n",
    "model = gp.Model(name=\"2.2\")\n",
    "\n",
    "dict_N, dict_Nstart, dict_P = variable_decision_thermique_avec_demarrage(model,dict_Thermique)\n",
    "\n",
    "model.setObjective(gp.quicksum([dict_N[element[0],element[1]] * (dict_Thermique[element[0]].Cbase - dict_Thermique[element[0]].Pmin*dict_Thermique[element[0]].Cmwh) + dict_P[element[0],element[1]] * dict_Thermique[element[0]].Cmwh + dict_Nstart[element[0],element[1]]*dict_Thermique[element[0]].Cstart for element in product(dict_Thermique,range(24))]), gp.GRB.MINIMIZE)\n",
    "\n",
    "contraintes_demarrage(model,dict_N,dict_Nstart,dict_Thermique,cyclique=False)\n",
    "contraintes_puissance_thermique(model,dict_N,dict_P,dict_Thermique)\n",
    "contraintes_equilibre(model,dict_P,dict_Thermique,consommation)\n",
    "\n",
    "model.optimize()"
   ]
  },
  {
   "cell_type": "code",
   "execution_count": 11,
   "metadata": {},
   "outputs": [
    {
     "data": {
      "application/vnd.plotly.v1+json": {
       "config": {
        "plotlyServerURL": "https://plot.ly"
       },
       "data": [
        {
         "name": "Production A",
         "stackgroup": "one",
         "type": "scatter",
         "x": [
          0,
          1,
          2,
          3,
          4,
          5,
          6,
          7,
          8,
          9,
          10,
          11,
          12,
          13,
          14,
          15,
          16,
          17,
          18,
          19,
          20,
          21,
          22,
          23
         ],
         "y": [
          11500,
          11500,
          11500,
          11500,
          11500,
          11500,
          16000,
          16000,
          16000,
          11000,
          11000,
          11000,
          11000,
          11000,
          11000,
          22500,
          22500,
          22500,
          11250,
          11250,
          11250,
          11250,
          11250,
          11250
         ]
        },
        {
         "name": "Production B",
         "stackgroup": "one",
         "type": "scatter",
         "x": [
          0,
          1,
          2,
          3,
          4,
          5,
          6,
          7,
          8,
          9,
          10,
          11,
          12,
          13,
          14,
          15,
          16,
          17,
          18,
          19,
          20,
          21,
          22,
          23
         ],
         "y": [
          3500,
          3500,
          3500,
          3500,
          3500,
          3500,
          14000,
          14000,
          14000,
          14000,
          14000,
          14000,
          14000,
          14000,
          14000,
          17500,
          17500,
          17500,
          15750,
          15750,
          15750,
          15750,
          15750,
          15750
         ]
        },
        {
         "name": "Production C",
         "stackgroup": "one",
         "type": "scatter",
         "x": [
          0,
          1,
          2,
          3,
          4,
          5,
          6,
          7,
          8,
          9,
          10,
          11,
          12,
          13,
          14,
          15,
          16,
          17,
          18,
          19,
          20,
          21,
          22,
          23
         ],
         "y": [
          0,
          0,
          0,
          0,
          0,
          0,
          0,
          0,
          0,
          0,
          0,
          0,
          0,
          0,
          0,
          0,
          0,
          0,
          0,
          0,
          0,
          0,
          0,
          0
         ]
        },
        {
         "line": {
          "color": "red",
          "dash": "dash"
         },
         "name": "Production total",
         "type": "scatter",
         "x": [
          0,
          1,
          2,
          3,
          4,
          5,
          6,
          7,
          8,
          9,
          10,
          11,
          12,
          13,
          14,
          15,
          16,
          17,
          18,
          19,
          20,
          21,
          22,
          23
         ],
         "y": [
          15000,
          15000,
          15000,
          15000,
          15000,
          15000,
          30000,
          30000,
          30000,
          25000,
          25000,
          25000,
          25000,
          25000,
          25000,
          40000,
          40000,
          40000,
          27000,
          27000,
          27000,
          27000,
          27000,
          27000
         ]
        },
        {
         "line": {
          "color": "black"
         },
         "name": "Coût MWh",
         "type": "scatter",
         "x": [
          0,
          1,
          2,
          3,
          4,
          5,
          6,
          7,
          8,
          9,
          10,
          11,
          12,
          13,
          14,
          15,
          16,
          17,
          18,
          19,
          20,
          21,
          22,
          23
         ],
         "y": [
          3.14,
          1.4066666666666667,
          1.4066666666666667,
          1.4066666666666667,
          1.4066666666666667,
          1.4066666666666667,
          1.8533333333333333,
          1.6533333333333333,
          1.6533333333333333,
          1.584,
          1.584,
          1.584,
          1.584,
          1.584,
          1.584,
          1.7775,
          1.7275,
          1.7275,
          1.6055555555555556,
          1.6055555555555556,
          1.6055555555555556,
          1.6055555555555556,
          1.6055555555555556,
          1.6055555555555556
         ],
         "yaxis": "y2"
        }
       ],
       "layout": {
        "hovermode": "x",
        "template": {
         "data": {
          "bar": [
           {
            "error_x": {
             "color": "#2a3f5f"
            },
            "error_y": {
             "color": "#2a3f5f"
            },
            "marker": {
             "line": {
              "color": "#E5ECF6",
              "width": 0.5
             },
             "pattern": {
              "fillmode": "overlay",
              "size": 10,
              "solidity": 0.2
             }
            },
            "type": "bar"
           }
          ],
          "barpolar": [
           {
            "marker": {
             "line": {
              "color": "#E5ECF6",
              "width": 0.5
             },
             "pattern": {
              "fillmode": "overlay",
              "size": 10,
              "solidity": 0.2
             }
            },
            "type": "barpolar"
           }
          ],
          "carpet": [
           {
            "aaxis": {
             "endlinecolor": "#2a3f5f",
             "gridcolor": "white",
             "linecolor": "white",
             "minorgridcolor": "white",
             "startlinecolor": "#2a3f5f"
            },
            "baxis": {
             "endlinecolor": "#2a3f5f",
             "gridcolor": "white",
             "linecolor": "white",
             "minorgridcolor": "white",
             "startlinecolor": "#2a3f5f"
            },
            "type": "carpet"
           }
          ],
          "choropleth": [
           {
            "colorbar": {
             "outlinewidth": 0,
             "ticks": ""
            },
            "type": "choropleth"
           }
          ],
          "contour": [
           {
            "colorbar": {
             "outlinewidth": 0,
             "ticks": ""
            },
            "colorscale": [
             [
              0,
              "#0d0887"
             ],
             [
              0.1111111111111111,
              "#46039f"
             ],
             [
              0.2222222222222222,
              "#7201a8"
             ],
             [
              0.3333333333333333,
              "#9c179e"
             ],
             [
              0.4444444444444444,
              "#bd3786"
             ],
             [
              0.5555555555555556,
              "#d8576b"
             ],
             [
              0.6666666666666666,
              "#ed7953"
             ],
             [
              0.7777777777777778,
              "#fb9f3a"
             ],
             [
              0.8888888888888888,
              "#fdca26"
             ],
             [
              1,
              "#f0f921"
             ]
            ],
            "type": "contour"
           }
          ],
          "contourcarpet": [
           {
            "colorbar": {
             "outlinewidth": 0,
             "ticks": ""
            },
            "type": "contourcarpet"
           }
          ],
          "heatmap": [
           {
            "colorbar": {
             "outlinewidth": 0,
             "ticks": ""
            },
            "colorscale": [
             [
              0,
              "#0d0887"
             ],
             [
              0.1111111111111111,
              "#46039f"
             ],
             [
              0.2222222222222222,
              "#7201a8"
             ],
             [
              0.3333333333333333,
              "#9c179e"
             ],
             [
              0.4444444444444444,
              "#bd3786"
             ],
             [
              0.5555555555555556,
              "#d8576b"
             ],
             [
              0.6666666666666666,
              "#ed7953"
             ],
             [
              0.7777777777777778,
              "#fb9f3a"
             ],
             [
              0.8888888888888888,
              "#fdca26"
             ],
             [
              1,
              "#f0f921"
             ]
            ],
            "type": "heatmap"
           }
          ],
          "heatmapgl": [
           {
            "colorbar": {
             "outlinewidth": 0,
             "ticks": ""
            },
            "colorscale": [
             [
              0,
              "#0d0887"
             ],
             [
              0.1111111111111111,
              "#46039f"
             ],
             [
              0.2222222222222222,
              "#7201a8"
             ],
             [
              0.3333333333333333,
              "#9c179e"
             ],
             [
              0.4444444444444444,
              "#bd3786"
             ],
             [
              0.5555555555555556,
              "#d8576b"
             ],
             [
              0.6666666666666666,
              "#ed7953"
             ],
             [
              0.7777777777777778,
              "#fb9f3a"
             ],
             [
              0.8888888888888888,
              "#fdca26"
             ],
             [
              1,
              "#f0f921"
             ]
            ],
            "type": "heatmapgl"
           }
          ],
          "histogram": [
           {
            "marker": {
             "pattern": {
              "fillmode": "overlay",
              "size": 10,
              "solidity": 0.2
             }
            },
            "type": "histogram"
           }
          ],
          "histogram2d": [
           {
            "colorbar": {
             "outlinewidth": 0,
             "ticks": ""
            },
            "colorscale": [
             [
              0,
              "#0d0887"
             ],
             [
              0.1111111111111111,
              "#46039f"
             ],
             [
              0.2222222222222222,
              "#7201a8"
             ],
             [
              0.3333333333333333,
              "#9c179e"
             ],
             [
              0.4444444444444444,
              "#bd3786"
             ],
             [
              0.5555555555555556,
              "#d8576b"
             ],
             [
              0.6666666666666666,
              "#ed7953"
             ],
             [
              0.7777777777777778,
              "#fb9f3a"
             ],
             [
              0.8888888888888888,
              "#fdca26"
             ],
             [
              1,
              "#f0f921"
             ]
            ],
            "type": "histogram2d"
           }
          ],
          "histogram2dcontour": [
           {
            "colorbar": {
             "outlinewidth": 0,
             "ticks": ""
            },
            "colorscale": [
             [
              0,
              "#0d0887"
             ],
             [
              0.1111111111111111,
              "#46039f"
             ],
             [
              0.2222222222222222,
              "#7201a8"
             ],
             [
              0.3333333333333333,
              "#9c179e"
             ],
             [
              0.4444444444444444,
              "#bd3786"
             ],
             [
              0.5555555555555556,
              "#d8576b"
             ],
             [
              0.6666666666666666,
              "#ed7953"
             ],
             [
              0.7777777777777778,
              "#fb9f3a"
             ],
             [
              0.8888888888888888,
              "#fdca26"
             ],
             [
              1,
              "#f0f921"
             ]
            ],
            "type": "histogram2dcontour"
           }
          ],
          "mesh3d": [
           {
            "colorbar": {
             "outlinewidth": 0,
             "ticks": ""
            },
            "type": "mesh3d"
           }
          ],
          "parcoords": [
           {
            "line": {
             "colorbar": {
              "outlinewidth": 0,
              "ticks": ""
             }
            },
            "type": "parcoords"
           }
          ],
          "pie": [
           {
            "automargin": true,
            "type": "pie"
           }
          ],
          "scatter": [
           {
            "fillpattern": {
             "fillmode": "overlay",
             "size": 10,
             "solidity": 0.2
            },
            "type": "scatter"
           }
          ],
          "scatter3d": [
           {
            "line": {
             "colorbar": {
              "outlinewidth": 0,
              "ticks": ""
             }
            },
            "marker": {
             "colorbar": {
              "outlinewidth": 0,
              "ticks": ""
             }
            },
            "type": "scatter3d"
           }
          ],
          "scattercarpet": [
           {
            "marker": {
             "colorbar": {
              "outlinewidth": 0,
              "ticks": ""
             }
            },
            "type": "scattercarpet"
           }
          ],
          "scattergeo": [
           {
            "marker": {
             "colorbar": {
              "outlinewidth": 0,
              "ticks": ""
             }
            },
            "type": "scattergeo"
           }
          ],
          "scattergl": [
           {
            "marker": {
             "colorbar": {
              "outlinewidth": 0,
              "ticks": ""
             }
            },
            "type": "scattergl"
           }
          ],
          "scattermapbox": [
           {
            "marker": {
             "colorbar": {
              "outlinewidth": 0,
              "ticks": ""
             }
            },
            "type": "scattermapbox"
           }
          ],
          "scatterpolar": [
           {
            "marker": {
             "colorbar": {
              "outlinewidth": 0,
              "ticks": ""
             }
            },
            "type": "scatterpolar"
           }
          ],
          "scatterpolargl": [
           {
            "marker": {
             "colorbar": {
              "outlinewidth": 0,
              "ticks": ""
             }
            },
            "type": "scatterpolargl"
           }
          ],
          "scatterternary": [
           {
            "marker": {
             "colorbar": {
              "outlinewidth": 0,
              "ticks": ""
             }
            },
            "type": "scatterternary"
           }
          ],
          "surface": [
           {
            "colorbar": {
             "outlinewidth": 0,
             "ticks": ""
            },
            "colorscale": [
             [
              0,
              "#0d0887"
             ],
             [
              0.1111111111111111,
              "#46039f"
             ],
             [
              0.2222222222222222,
              "#7201a8"
             ],
             [
              0.3333333333333333,
              "#9c179e"
             ],
             [
              0.4444444444444444,
              "#bd3786"
             ],
             [
              0.5555555555555556,
              "#d8576b"
             ],
             [
              0.6666666666666666,
              "#ed7953"
             ],
             [
              0.7777777777777778,
              "#fb9f3a"
             ],
             [
              0.8888888888888888,
              "#fdca26"
             ],
             [
              1,
              "#f0f921"
             ]
            ],
            "type": "surface"
           }
          ],
          "table": [
           {
            "cells": {
             "fill": {
              "color": "#EBF0F8"
             },
             "line": {
              "color": "white"
             }
            },
            "header": {
             "fill": {
              "color": "#C8D4E3"
             },
             "line": {
              "color": "white"
             }
            },
            "type": "table"
           }
          ]
         },
         "layout": {
          "annotationdefaults": {
           "arrowcolor": "#2a3f5f",
           "arrowhead": 0,
           "arrowwidth": 1
          },
          "autotypenumbers": "strict",
          "coloraxis": {
           "colorbar": {
            "outlinewidth": 0,
            "ticks": ""
           }
          },
          "colorscale": {
           "diverging": [
            [
             0,
             "#8e0152"
            ],
            [
             0.1,
             "#c51b7d"
            ],
            [
             0.2,
             "#de77ae"
            ],
            [
             0.3,
             "#f1b6da"
            ],
            [
             0.4,
             "#fde0ef"
            ],
            [
             0.5,
             "#f7f7f7"
            ],
            [
             0.6,
             "#e6f5d0"
            ],
            [
             0.7,
             "#b8e186"
            ],
            [
             0.8,
             "#7fbc41"
            ],
            [
             0.9,
             "#4d9221"
            ],
            [
             1,
             "#276419"
            ]
           ],
           "sequential": [
            [
             0,
             "#0d0887"
            ],
            [
             0.1111111111111111,
             "#46039f"
            ],
            [
             0.2222222222222222,
             "#7201a8"
            ],
            [
             0.3333333333333333,
             "#9c179e"
            ],
            [
             0.4444444444444444,
             "#bd3786"
            ],
            [
             0.5555555555555556,
             "#d8576b"
            ],
            [
             0.6666666666666666,
             "#ed7953"
            ],
            [
             0.7777777777777778,
             "#fb9f3a"
            ],
            [
             0.8888888888888888,
             "#fdca26"
            ],
            [
             1,
             "#f0f921"
            ]
           ],
           "sequentialminus": [
            [
             0,
             "#0d0887"
            ],
            [
             0.1111111111111111,
             "#46039f"
            ],
            [
             0.2222222222222222,
             "#7201a8"
            ],
            [
             0.3333333333333333,
             "#9c179e"
            ],
            [
             0.4444444444444444,
             "#bd3786"
            ],
            [
             0.5555555555555556,
             "#d8576b"
            ],
            [
             0.6666666666666666,
             "#ed7953"
            ],
            [
             0.7777777777777778,
             "#fb9f3a"
            ],
            [
             0.8888888888888888,
             "#fdca26"
            ],
            [
             1,
             "#f0f921"
            ]
           ]
          },
          "colorway": [
           "#636efa",
           "#EF553B",
           "#00cc96",
           "#ab63fa",
           "#FFA15A",
           "#19d3f3",
           "#FF6692",
           "#B6E880",
           "#FF97FF",
           "#FECB52"
          ],
          "font": {
           "color": "#2a3f5f"
          },
          "geo": {
           "bgcolor": "white",
           "lakecolor": "white",
           "landcolor": "#E5ECF6",
           "showlakes": true,
           "showland": true,
           "subunitcolor": "white"
          },
          "hoverlabel": {
           "align": "left"
          },
          "hovermode": "closest",
          "mapbox": {
           "style": "light"
          },
          "paper_bgcolor": "white",
          "plot_bgcolor": "#E5ECF6",
          "polar": {
           "angularaxis": {
            "gridcolor": "white",
            "linecolor": "white",
            "ticks": ""
           },
           "bgcolor": "#E5ECF6",
           "radialaxis": {
            "gridcolor": "white",
            "linecolor": "white",
            "ticks": ""
           }
          },
          "scene": {
           "xaxis": {
            "backgroundcolor": "#E5ECF6",
            "gridcolor": "white",
            "gridwidth": 2,
            "linecolor": "white",
            "showbackground": true,
            "ticks": "",
            "zerolinecolor": "white"
           },
           "yaxis": {
            "backgroundcolor": "#E5ECF6",
            "gridcolor": "white",
            "gridwidth": 2,
            "linecolor": "white",
            "showbackground": true,
            "ticks": "",
            "zerolinecolor": "white"
           },
           "zaxis": {
            "backgroundcolor": "#E5ECF6",
            "gridcolor": "white",
            "gridwidth": 2,
            "linecolor": "white",
            "showbackground": true,
            "ticks": "",
            "zerolinecolor": "white"
           }
          },
          "shapedefaults": {
           "line": {
            "color": "#2a3f5f"
           }
          },
          "ternary": {
           "aaxis": {
            "gridcolor": "white",
            "linecolor": "white",
            "ticks": ""
           },
           "baxis": {
            "gridcolor": "white",
            "linecolor": "white",
            "ticks": ""
           },
           "bgcolor": "#E5ECF6",
           "caxis": {
            "gridcolor": "white",
            "linecolor": "white",
            "ticks": ""
           }
          },
          "title": {
           "x": 0.05
          },
          "xaxis": {
           "automargin": true,
           "gridcolor": "white",
           "linecolor": "white",
           "ticks": "",
           "title": {
            "standoff": 15
           },
           "zerolinecolor": "white",
           "zerolinewidth": 2
          },
          "yaxis": {
           "automargin": true,
           "gridcolor": "white",
           "linecolor": "white",
           "ticks": "",
           "title": {
            "standoff": 15
           },
           "zerolinecolor": "white",
           "zerolinewidth": 2
          }
         }
        },
        "title": {
         "text": "Répartition de la production électrique dans la journée - 2.2"
        },
        "yaxis": {
         "range": [
          0,
          44000
         ],
         "title": {
          "text": "MW"
         }
        },
        "yaxis2": {
         "anchor": "free",
         "overlaying": "y",
         "position": 1,
         "range": [
          1.3363333333333334,
          3.4540000000000006
         ],
         "side": "right",
         "title": {
          "text": "€/MWh"
         }
        }
       }
      }
     },
     "metadata": {},
     "output_type": "display_data"
    }
   ],
   "source": [
    "from utils_viz import df_results22\n",
    "df = df_results22(dict_N=dict_N,dict_P=dict_P,dict_Nstart=dict_Nstart,dict_XX=dict_Thermique,consommation=consommation)\n",
    "fig = Results_viz(df,dict_Thermique)\n",
    "A = \"2.2\"\n",
    "fig.update_layout(\n",
    "    title = f\"Répartition de la production électrique dans la journée - {A}\"\n",
    ")\n",
    "fig.show()\n",
    "fig.write_html(f\"HTML/Répartition de la production électrique dans la journée - {A}.html\")"
   ]
  },
  {
   "cell_type": "markdown",
   "metadata": {},
   "source": [
    "## 3 Réserve de puissance\n",
    "\n",
    "Pour intégrer la réserve de puissance on ajoute la contrainte :\n",
    "$$\n",
    "\\sum_X N_t^{(X)}P_{max}^{(X)}\\geq D_t\\times 1,15\n",
    "$$"
   ]
  },
  {
   "cell_type": "code",
   "execution_count": 12,
   "metadata": {},
   "outputs": [
    {
     "name": "stdout",
     "output_type": "stream",
     "text": [
      "Gurobi Optimizer version 9.5.2 build v9.5.2rc0 (win64)\n",
      "Thread count: 4 physical cores, 8 logical processors, using up to 8 threads\n",
      "Optimize a model with 336 rows, 216 columns and 786 nonzeros\n",
      "Model fingerprint: 0x11b5f8ee\n",
      "Variable types: 72 continuous, 144 integer (0 binary)\n",
      "Coefficient statistics:\n",
      "  Matrix range     [1e+00, 4e+03]\n",
      "  Objective range  [1e+00, 2e+03]\n",
      "  Bounds range     [5e+00, 1e+01]\n",
      "  RHS range        [5e+00, 5e+04]\n",
      "\n",
      "MIP start from previous solve did not produce a new incumbent solution\n",
      "MIP start from previous solve violates constraint Réserve_de_puissance_à_15 by 4500.000000000\n",
      "\n",
      "Found heuristic solution: objective 1316565.0000\n",
      "Presolve removed 108 rows and 30 columns\n",
      "Presolve time: 0.00s\n",
      "Presolved: 228 rows, 186 columns, 594 nonzeros\n",
      "Found heuristic solution: objective 1229165.0000\n",
      "Variable types: 42 continuous, 144 integer (0 binary)\n",
      "Found heuristic solution: objective 1198245.0000\n",
      "\n",
      "Root relaxation: objective 1.012257e+06, 59 iterations, 0.00 seconds (0.00 work units)\n",
      "\n",
      "    Nodes    |    Current Node    |     Objective Bounds      |     Work\n",
      " Expl Unexpl |  Obj  Depth IntInf | Incumbent    BestBd   Gap | It/Node Time\n",
      "\n",
      "     0     0 1012257.14    0   26 1198245.00 1012257.14  15.5%     -    0s\n",
      "H    0     0                    1020660.0000 1012257.14  0.82%     -    0s\n",
      "H    0     0                    1017340.0000 1012257.14  0.50%     -    0s\n",
      "H    0     0                    1017100.0000 1012257.14  0.48%     -    0s\n",
      "     0     0 1015150.00    0   12 1017100.00 1015150.00  0.19%     -    0s\n",
      "H    0     0                    1016860.0000 1015150.00  0.17%     -    0s\n",
      "H    0     0                    1015725.0000 1015150.00  0.06%     -    0s\n",
      "H    0     0                    1015150.0000 1015150.00  0.00%     -    0s\n",
      "\n",
      "Cutting planes:\n",
      "  Gomory: 1\n",
      "  MIR: 25\n",
      "\n",
      "Explored 1 nodes (94 simplex iterations) in 0.03 seconds (0.00 work units)\n",
      "Thread count was 8 (of 8 available processors)\n",
      "\n",
      "Solution count 9: 1.01515e+06 1.01572e+06 1.01686e+06 ... 1.31657e+06\n",
      "\n",
      "Optimal solution found (tolerance 1.00e-04)\n",
      "Best objective 1.015150000000e+06, best bound 1.015150000000e+06, gap 0.0000%\n"
     ]
    }
   ],
   "source": [
    "from utils import contraintes_reserve_de_puissance\n",
    "\n",
    "contraintes_reserve_de_puissance(model,dict_N,dict_Thermique,consommation)\n",
    "\n",
    "model.optimize()"
   ]
  },
  {
   "cell_type": "code",
   "execution_count": 13,
   "metadata": {},
   "outputs": [
    {
     "data": {
      "application/vnd.plotly.v1+json": {
       "config": {
        "plotlyServerURL": "https://plot.ly"
       },
       "data": [
        {
         "name": "Production A",
         "stackgroup": "one",
         "type": "scatter",
         "x": [
          0,
          1,
          2,
          3,
          4,
          5,
          6,
          7,
          8,
          9,
          10,
          11,
          12,
          13,
          14,
          15,
          16,
          17,
          18,
          19,
          20,
          21,
          22,
          23
         ],
         "y": [
          11500,
          11500,
          11500,
          11500,
          11500,
          11500,
          15999.999999999996,
          15999.999999999996,
          15999.999999999996,
          10999.999999999998,
          10999.999999999998,
          10999.999999999998,
          10999.999999999998,
          10999.999999999998,
          10999.999999999998,
          21249.999999999993,
          21249.999999999993,
          21249.999999999993,
          11249.999999999993,
          11249.999999999993,
          11249.999999999993,
          11249.999999999993,
          11249.999999999993,
          11249.999999999993
         ]
        },
        {
         "name": "Production B",
         "stackgroup": "one",
         "type": "scatter",
         "x": [
          0,
          1,
          2,
          3,
          4,
          5,
          6,
          7,
          8,
          9,
          10,
          11,
          12,
          13,
          14,
          15,
          16,
          17,
          18,
          19,
          20,
          21,
          22,
          23
         ],
         "y": [
          3500.000000000001,
          3500.000000000001,
          3500.000000000001,
          3500.000000000001,
          3500.000000000001,
          3500.000000000001,
          14000.000000000004,
          14000.000000000004,
          14000.000000000004,
          14000.000000000002,
          14000.000000000002,
          14000.000000000002,
          14000.000000000002,
          14000.000000000002,
          14000.000000000002,
          15750.000000000005,
          15750.000000000005,
          15750.000000000005,
          15750.000000000007,
          15750.000000000007,
          15750.000000000007,
          15750.000000000007,
          15750.000000000007,
          15750.000000000007
         ]
        },
        {
         "name": "Production C",
         "stackgroup": "one",
         "type": "scatter",
         "x": [
          0,
          1,
          2,
          3,
          4,
          5,
          6,
          7,
          8,
          9,
          10,
          11,
          12,
          13,
          14,
          15,
          16,
          17,
          18,
          19,
          20,
          21,
          22,
          23
         ],
         "y": [
          0,
          0,
          0,
          0,
          0,
          0,
          0,
          0,
          0,
          0,
          0,
          0,
          0,
          0,
          0,
          3000,
          3000,
          3000,
          0,
          0,
          0,
          0,
          0,
          0
         ]
        },
        {
         "line": {
          "color": "red",
          "dash": "dash"
         },
         "name": "Production total",
         "type": "scatter",
         "x": [
          0,
          1,
          2,
          3,
          4,
          5,
          6,
          7,
          8,
          9,
          10,
          11,
          12,
          13,
          14,
          15,
          16,
          17,
          18,
          19,
          20,
          21,
          22,
          23
         ],
         "y": [
          15000,
          15000,
          15000,
          15000,
          15000,
          15000,
          30000,
          30000,
          30000,
          25000,
          25000,
          25000,
          25000,
          25000,
          25000,
          40000,
          40000,
          40000,
          27000,
          27000,
          27000,
          27000,
          27000,
          27000
         ]
        },
        {
         "line": {
          "color": "black"
         },
         "name": "Coût MWh",
         "type": "scatter",
         "x": [
          0,
          1,
          2,
          3,
          4,
          5,
          6,
          7,
          8,
          9,
          10,
          11,
          12,
          13,
          14,
          15,
          16,
          17,
          18,
          19,
          20,
          21,
          22,
          23
         ],
         "y": [
          3.14,
          1.4066666666666667,
          1.4066666666666667,
          1.4066666666666667,
          1.4066666666666667,
          1.4066666666666667,
          1.8533333333333333,
          1.6533333333333333,
          1.6533333333333333,
          1.584,
          1.584,
          1.584,
          1.584,
          1.584,
          1.584,
          1.78375,
          1.73375,
          1.73375,
          1.6055555555555556,
          1.6055555555555556,
          1.6055555555555556,
          1.6055555555555556,
          1.6055555555555556,
          1.6055555555555556
         ],
         "yaxis": "y2"
        }
       ],
       "layout": {
        "hovermode": "x",
        "template": {
         "data": {
          "bar": [
           {
            "error_x": {
             "color": "#2a3f5f"
            },
            "error_y": {
             "color": "#2a3f5f"
            },
            "marker": {
             "line": {
              "color": "#E5ECF6",
              "width": 0.5
             },
             "pattern": {
              "fillmode": "overlay",
              "size": 10,
              "solidity": 0.2
             }
            },
            "type": "bar"
           }
          ],
          "barpolar": [
           {
            "marker": {
             "line": {
              "color": "#E5ECF6",
              "width": 0.5
             },
             "pattern": {
              "fillmode": "overlay",
              "size": 10,
              "solidity": 0.2
             }
            },
            "type": "barpolar"
           }
          ],
          "carpet": [
           {
            "aaxis": {
             "endlinecolor": "#2a3f5f",
             "gridcolor": "white",
             "linecolor": "white",
             "minorgridcolor": "white",
             "startlinecolor": "#2a3f5f"
            },
            "baxis": {
             "endlinecolor": "#2a3f5f",
             "gridcolor": "white",
             "linecolor": "white",
             "minorgridcolor": "white",
             "startlinecolor": "#2a3f5f"
            },
            "type": "carpet"
           }
          ],
          "choropleth": [
           {
            "colorbar": {
             "outlinewidth": 0,
             "ticks": ""
            },
            "type": "choropleth"
           }
          ],
          "contour": [
           {
            "colorbar": {
             "outlinewidth": 0,
             "ticks": ""
            },
            "colorscale": [
             [
              0,
              "#0d0887"
             ],
             [
              0.1111111111111111,
              "#46039f"
             ],
             [
              0.2222222222222222,
              "#7201a8"
             ],
             [
              0.3333333333333333,
              "#9c179e"
             ],
             [
              0.4444444444444444,
              "#bd3786"
             ],
             [
              0.5555555555555556,
              "#d8576b"
             ],
             [
              0.6666666666666666,
              "#ed7953"
             ],
             [
              0.7777777777777778,
              "#fb9f3a"
             ],
             [
              0.8888888888888888,
              "#fdca26"
             ],
             [
              1,
              "#f0f921"
             ]
            ],
            "type": "contour"
           }
          ],
          "contourcarpet": [
           {
            "colorbar": {
             "outlinewidth": 0,
             "ticks": ""
            },
            "type": "contourcarpet"
           }
          ],
          "heatmap": [
           {
            "colorbar": {
             "outlinewidth": 0,
             "ticks": ""
            },
            "colorscale": [
             [
              0,
              "#0d0887"
             ],
             [
              0.1111111111111111,
              "#46039f"
             ],
             [
              0.2222222222222222,
              "#7201a8"
             ],
             [
              0.3333333333333333,
              "#9c179e"
             ],
             [
              0.4444444444444444,
              "#bd3786"
             ],
             [
              0.5555555555555556,
              "#d8576b"
             ],
             [
              0.6666666666666666,
              "#ed7953"
             ],
             [
              0.7777777777777778,
              "#fb9f3a"
             ],
             [
              0.8888888888888888,
              "#fdca26"
             ],
             [
              1,
              "#f0f921"
             ]
            ],
            "type": "heatmap"
           }
          ],
          "heatmapgl": [
           {
            "colorbar": {
             "outlinewidth": 0,
             "ticks": ""
            },
            "colorscale": [
             [
              0,
              "#0d0887"
             ],
             [
              0.1111111111111111,
              "#46039f"
             ],
             [
              0.2222222222222222,
              "#7201a8"
             ],
             [
              0.3333333333333333,
              "#9c179e"
             ],
             [
              0.4444444444444444,
              "#bd3786"
             ],
             [
              0.5555555555555556,
              "#d8576b"
             ],
             [
              0.6666666666666666,
              "#ed7953"
             ],
             [
              0.7777777777777778,
              "#fb9f3a"
             ],
             [
              0.8888888888888888,
              "#fdca26"
             ],
             [
              1,
              "#f0f921"
             ]
            ],
            "type": "heatmapgl"
           }
          ],
          "histogram": [
           {
            "marker": {
             "pattern": {
              "fillmode": "overlay",
              "size": 10,
              "solidity": 0.2
             }
            },
            "type": "histogram"
           }
          ],
          "histogram2d": [
           {
            "colorbar": {
             "outlinewidth": 0,
             "ticks": ""
            },
            "colorscale": [
             [
              0,
              "#0d0887"
             ],
             [
              0.1111111111111111,
              "#46039f"
             ],
             [
              0.2222222222222222,
              "#7201a8"
             ],
             [
              0.3333333333333333,
              "#9c179e"
             ],
             [
              0.4444444444444444,
              "#bd3786"
             ],
             [
              0.5555555555555556,
              "#d8576b"
             ],
             [
              0.6666666666666666,
              "#ed7953"
             ],
             [
              0.7777777777777778,
              "#fb9f3a"
             ],
             [
              0.8888888888888888,
              "#fdca26"
             ],
             [
              1,
              "#f0f921"
             ]
            ],
            "type": "histogram2d"
           }
          ],
          "histogram2dcontour": [
           {
            "colorbar": {
             "outlinewidth": 0,
             "ticks": ""
            },
            "colorscale": [
             [
              0,
              "#0d0887"
             ],
             [
              0.1111111111111111,
              "#46039f"
             ],
             [
              0.2222222222222222,
              "#7201a8"
             ],
             [
              0.3333333333333333,
              "#9c179e"
             ],
             [
              0.4444444444444444,
              "#bd3786"
             ],
             [
              0.5555555555555556,
              "#d8576b"
             ],
             [
              0.6666666666666666,
              "#ed7953"
             ],
             [
              0.7777777777777778,
              "#fb9f3a"
             ],
             [
              0.8888888888888888,
              "#fdca26"
             ],
             [
              1,
              "#f0f921"
             ]
            ],
            "type": "histogram2dcontour"
           }
          ],
          "mesh3d": [
           {
            "colorbar": {
             "outlinewidth": 0,
             "ticks": ""
            },
            "type": "mesh3d"
           }
          ],
          "parcoords": [
           {
            "line": {
             "colorbar": {
              "outlinewidth": 0,
              "ticks": ""
             }
            },
            "type": "parcoords"
           }
          ],
          "pie": [
           {
            "automargin": true,
            "type": "pie"
           }
          ],
          "scatter": [
           {
            "fillpattern": {
             "fillmode": "overlay",
             "size": 10,
             "solidity": 0.2
            },
            "type": "scatter"
           }
          ],
          "scatter3d": [
           {
            "line": {
             "colorbar": {
              "outlinewidth": 0,
              "ticks": ""
             }
            },
            "marker": {
             "colorbar": {
              "outlinewidth": 0,
              "ticks": ""
             }
            },
            "type": "scatter3d"
           }
          ],
          "scattercarpet": [
           {
            "marker": {
             "colorbar": {
              "outlinewidth": 0,
              "ticks": ""
             }
            },
            "type": "scattercarpet"
           }
          ],
          "scattergeo": [
           {
            "marker": {
             "colorbar": {
              "outlinewidth": 0,
              "ticks": ""
             }
            },
            "type": "scattergeo"
           }
          ],
          "scattergl": [
           {
            "marker": {
             "colorbar": {
              "outlinewidth": 0,
              "ticks": ""
             }
            },
            "type": "scattergl"
           }
          ],
          "scattermapbox": [
           {
            "marker": {
             "colorbar": {
              "outlinewidth": 0,
              "ticks": ""
             }
            },
            "type": "scattermapbox"
           }
          ],
          "scatterpolar": [
           {
            "marker": {
             "colorbar": {
              "outlinewidth": 0,
              "ticks": ""
             }
            },
            "type": "scatterpolar"
           }
          ],
          "scatterpolargl": [
           {
            "marker": {
             "colorbar": {
              "outlinewidth": 0,
              "ticks": ""
             }
            },
            "type": "scatterpolargl"
           }
          ],
          "scatterternary": [
           {
            "marker": {
             "colorbar": {
              "outlinewidth": 0,
              "ticks": ""
             }
            },
            "type": "scatterternary"
           }
          ],
          "surface": [
           {
            "colorbar": {
             "outlinewidth": 0,
             "ticks": ""
            },
            "colorscale": [
             [
              0,
              "#0d0887"
             ],
             [
              0.1111111111111111,
              "#46039f"
             ],
             [
              0.2222222222222222,
              "#7201a8"
             ],
             [
              0.3333333333333333,
              "#9c179e"
             ],
             [
              0.4444444444444444,
              "#bd3786"
             ],
             [
              0.5555555555555556,
              "#d8576b"
             ],
             [
              0.6666666666666666,
              "#ed7953"
             ],
             [
              0.7777777777777778,
              "#fb9f3a"
             ],
             [
              0.8888888888888888,
              "#fdca26"
             ],
             [
              1,
              "#f0f921"
             ]
            ],
            "type": "surface"
           }
          ],
          "table": [
           {
            "cells": {
             "fill": {
              "color": "#EBF0F8"
             },
             "line": {
              "color": "white"
             }
            },
            "header": {
             "fill": {
              "color": "#C8D4E3"
             },
             "line": {
              "color": "white"
             }
            },
            "type": "table"
           }
          ]
         },
         "layout": {
          "annotationdefaults": {
           "arrowcolor": "#2a3f5f",
           "arrowhead": 0,
           "arrowwidth": 1
          },
          "autotypenumbers": "strict",
          "coloraxis": {
           "colorbar": {
            "outlinewidth": 0,
            "ticks": ""
           }
          },
          "colorscale": {
           "diverging": [
            [
             0,
             "#8e0152"
            ],
            [
             0.1,
             "#c51b7d"
            ],
            [
             0.2,
             "#de77ae"
            ],
            [
             0.3,
             "#f1b6da"
            ],
            [
             0.4,
             "#fde0ef"
            ],
            [
             0.5,
             "#f7f7f7"
            ],
            [
             0.6,
             "#e6f5d0"
            ],
            [
             0.7,
             "#b8e186"
            ],
            [
             0.8,
             "#7fbc41"
            ],
            [
             0.9,
             "#4d9221"
            ],
            [
             1,
             "#276419"
            ]
           ],
           "sequential": [
            [
             0,
             "#0d0887"
            ],
            [
             0.1111111111111111,
             "#46039f"
            ],
            [
             0.2222222222222222,
             "#7201a8"
            ],
            [
             0.3333333333333333,
             "#9c179e"
            ],
            [
             0.4444444444444444,
             "#bd3786"
            ],
            [
             0.5555555555555556,
             "#d8576b"
            ],
            [
             0.6666666666666666,
             "#ed7953"
            ],
            [
             0.7777777777777778,
             "#fb9f3a"
            ],
            [
             0.8888888888888888,
             "#fdca26"
            ],
            [
             1,
             "#f0f921"
            ]
           ],
           "sequentialminus": [
            [
             0,
             "#0d0887"
            ],
            [
             0.1111111111111111,
             "#46039f"
            ],
            [
             0.2222222222222222,
             "#7201a8"
            ],
            [
             0.3333333333333333,
             "#9c179e"
            ],
            [
             0.4444444444444444,
             "#bd3786"
            ],
            [
             0.5555555555555556,
             "#d8576b"
            ],
            [
             0.6666666666666666,
             "#ed7953"
            ],
            [
             0.7777777777777778,
             "#fb9f3a"
            ],
            [
             0.8888888888888888,
             "#fdca26"
            ],
            [
             1,
             "#f0f921"
            ]
           ]
          },
          "colorway": [
           "#636efa",
           "#EF553B",
           "#00cc96",
           "#ab63fa",
           "#FFA15A",
           "#19d3f3",
           "#FF6692",
           "#B6E880",
           "#FF97FF",
           "#FECB52"
          ],
          "font": {
           "color": "#2a3f5f"
          },
          "geo": {
           "bgcolor": "white",
           "lakecolor": "white",
           "landcolor": "#E5ECF6",
           "showlakes": true,
           "showland": true,
           "subunitcolor": "white"
          },
          "hoverlabel": {
           "align": "left"
          },
          "hovermode": "closest",
          "mapbox": {
           "style": "light"
          },
          "paper_bgcolor": "white",
          "plot_bgcolor": "#E5ECF6",
          "polar": {
           "angularaxis": {
            "gridcolor": "white",
            "linecolor": "white",
            "ticks": ""
           },
           "bgcolor": "#E5ECF6",
           "radialaxis": {
            "gridcolor": "white",
            "linecolor": "white",
            "ticks": ""
           }
          },
          "scene": {
           "xaxis": {
            "backgroundcolor": "#E5ECF6",
            "gridcolor": "white",
            "gridwidth": 2,
            "linecolor": "white",
            "showbackground": true,
            "ticks": "",
            "zerolinecolor": "white"
           },
           "yaxis": {
            "backgroundcolor": "#E5ECF6",
            "gridcolor": "white",
            "gridwidth": 2,
            "linecolor": "white",
            "showbackground": true,
            "ticks": "",
            "zerolinecolor": "white"
           },
           "zaxis": {
            "backgroundcolor": "#E5ECF6",
            "gridcolor": "white",
            "gridwidth": 2,
            "linecolor": "white",
            "showbackground": true,
            "ticks": "",
            "zerolinecolor": "white"
           }
          },
          "shapedefaults": {
           "line": {
            "color": "#2a3f5f"
           }
          },
          "ternary": {
           "aaxis": {
            "gridcolor": "white",
            "linecolor": "white",
            "ticks": ""
           },
           "baxis": {
            "gridcolor": "white",
            "linecolor": "white",
            "ticks": ""
           },
           "bgcolor": "#E5ECF6",
           "caxis": {
            "gridcolor": "white",
            "linecolor": "white",
            "ticks": ""
           }
          },
          "title": {
           "x": 0.05
          },
          "xaxis": {
           "automargin": true,
           "gridcolor": "white",
           "linecolor": "white",
           "ticks": "",
           "title": {
            "standoff": 15
           },
           "zerolinecolor": "white",
           "zerolinewidth": 2
          },
          "yaxis": {
           "automargin": true,
           "gridcolor": "white",
           "linecolor": "white",
           "ticks": "",
           "title": {
            "standoff": 15
           },
           "zerolinecolor": "white",
           "zerolinewidth": 2
          }
         }
        },
        "title": {
         "text": "Répartition de la production électrique dans la journée - 3"
        },
        "yaxis": {
         "range": [
          0,
          44000
         ],
         "title": {
          "text": "MW"
         }
        },
        "yaxis2": {
         "anchor": "free",
         "overlaying": "y",
         "position": 1,
         "range": [
          1.3363333333333334,
          3.4540000000000006
         ],
         "side": "right",
         "title": {
          "text": "€/MWh"
         }
        }
       }
      }
     },
     "metadata": {},
     "output_type": "display_data"
    }
   ],
   "source": [
    "df = df_results22(dict_N=dict_N,dict_P=dict_P,dict_Nstart=dict_Nstart,dict_XX=dict_Thermique,consommation=consommation)\n",
    "fig = Results_viz(df,dict_Thermique)\n",
    "A = 3\n",
    "fig.update_layout(\n",
    "    title = f\"Répartition de la production électrique dans la journée - {A}\"\n",
    ")\n",
    "fig.show()\n",
    "fig.write_html(f\"HTML/Répartition de la production électrique dans la journée - {A}.html\")\n"
   ]
  },
  {
   "cell_type": "markdown",
   "metadata": {},
   "source": [
    "## 4 Planification cyclique\n",
    "\n",
    "Pour ce problème on modifie la convention $N_{-1}^{(X)}=0$ par $N_{-1}^{(X)}=N_{23}^{(X)}$"
   ]
  },
  {
   "cell_type": "code",
   "execution_count": 14,
   "metadata": {},
   "outputs": [
    {
     "name": "stdout",
     "output_type": "stream",
     "text": [
      "Gurobi Optimizer version 9.5.2 build v9.5.2rc0 (win64)\n",
      "Thread count: 4 physical cores, 8 logical processors, using up to 8 threads\n",
      "Optimize a model with 336 rows, 216 columns and 792 nonzeros\n",
      "Model fingerprint: 0xfaf92924\n",
      "Variable types: 72 continuous, 144 integer (0 binary)\n",
      "Coefficient statistics:\n",
      "  Matrix range     [1e+00, 4e+03]\n",
      "  Objective range  [1e+00, 2e+03]\n",
      "  Bounds range     [5e+00, 1e+01]\n",
      "  RHS range        [5e+00, 5e+04]\n",
      "Found heuristic solution: objective 1313700.0000\n",
      "Presolve removed 105 rows and 27 columns\n",
      "Presolve time: 0.00s\n",
      "Presolved: 231 rows, 189 columns, 603 nonzeros\n",
      "Found heuristic solution: objective 1225165.0000\n",
      "Variable types: 42 continuous, 147 integer (0 binary)\n",
      "Found heuristic solution: objective 1192195.0000\n",
      "\n",
      "Root relaxation: objective 9.855143e+05, 54 iterations, 0.00 seconds (0.00 work units)\n",
      "\n",
      "    Nodes    |    Current Node    |     Objective Bounds      |     Work\n",
      " Expl Unexpl |  Obj  Depth IntInf | Incumbent    BestBd   Gap | It/Node Time\n",
      "\n",
      "     0     0 985514.286    0   26 1192195.00 985514.286  17.3%     -    0s\n",
      "H    0     0                    993725.00000 985514.286  0.83%     -    0s\n",
      "H    0     0                    990405.00000 985514.286  0.49%     -    0s\n",
      "H    0     0                    990165.00000 985514.286  0.47%     -    0s\n",
      "H    0     0                    989030.00000 988540.000  0.05%     -    0s\n",
      "     0     0 988540.000    0    3 989030.000 988540.000  0.05%     -    0s\n",
      "H    0     0                    988540.00000 988540.000  0.00%     -    0s\n",
      "     0     0 988540.000    0    3 988540.000 988540.000  0.00%     -    0s\n",
      "\n",
      "Cutting planes:\n",
      "  MIR: 18\n",
      "\n",
      "Explored 1 nodes (85 simplex iterations) in 0.03 seconds (0.00 work units)\n",
      "Thread count was 8 (of 8 available processors)\n",
      "\n",
      "Solution count 8: 988540 989030 990165 ... 1.3137e+06\n",
      "\n",
      "Optimal solution found (tolerance 1.00e-04)\n",
      "Best objective 9.885400000000e+05, best bound 9.885400000000e+05, gap 0.0000%\n"
     ]
    }
   ],
   "source": [
    "model = gp.Model(name=\"4\")\n",
    "\n",
    "dict_N, dict_Nstart, dict_P = variable_decision_thermique_avec_demarrage(model,dict_Thermique)\n",
    "\n",
    "model.setObjective(gp.quicksum([dict_N[element[0],element[1]] * (dict_Thermique[element[0]].Cbase - dict_Thermique[element[0]].Pmin*dict_Thermique[element[0]].Cmwh) + dict_P[element[0],element[1]] * dict_Thermique[element[0]].Cmwh + dict_Nstart[element[0],element[1]]*dict_Thermique[element[0]].Cstart for element in product(dict_Thermique,range(24))]), gp.GRB.MINIMIZE)\n",
    "\n",
    "contraintes_demarrage(model,dict_N,dict_Nstart,dict_Thermique,cyclique=True)\n",
    "contraintes_puissance_thermique(model,dict_N,dict_P,dict_Thermique)\n",
    "contraintes_equilibre(model,dict_P,dict_Thermique,consommation)\n",
    "contraintes_reserve_de_puissance(model,dict_N,dict_Thermique,consommation)\n",
    "\n",
    "\n",
    "model.optimize()"
   ]
  },
  {
   "cell_type": "code",
   "execution_count": 15,
   "metadata": {},
   "outputs": [
    {
     "data": {
      "application/vnd.plotly.v1+json": {
       "config": {
        "plotlyServerURL": "https://plot.ly"
       },
       "data": [
        {
         "name": "Production A",
         "stackgroup": "one",
         "type": "scatter",
         "x": [
          0,
          1,
          2,
          3,
          4,
          5,
          6,
          7,
          8,
          9,
          10,
          11,
          12,
          13,
          14,
          15,
          16,
          17,
          18,
          19,
          20,
          21,
          22,
          23
         ],
         "y": [
          10199.999999999996,
          10199.999999999996,
          10199.999999999996,
          10199.999999999996,
          10199.999999999996,
          10199.999999999996,
          15999.999999999998,
          16000,
          16000,
          10999.999999999956,
          10999.999999999947,
          10999.999999999953,
          10999.99999999996,
          10999.999999999978,
          10999.999999999998,
          21250,
          21250,
          21250,
          11249.999999999996,
          11249.999999999996,
          11249.999999999996,
          11249.999999999996,
          11249.999999999996,
          11249.999999999996
         ]
        },
        {
         "name": "Production B",
         "stackgroup": "one",
         "type": "scatter",
         "x": [
          0,
          1,
          2,
          3,
          4,
          5,
          6,
          7,
          8,
          9,
          10,
          11,
          12,
          13,
          14,
          15,
          16,
          17,
          18,
          19,
          20,
          21,
          22,
          23
         ],
         "y": [
          4800.000000000005,
          4800.000000000005,
          4800.000000000005,
          4800.000000000005,
          4800.000000000005,
          4800.000000000005,
          14000.000000000002,
          14000,
          14000,
          14000.000000000044,
          14000.000000000053,
          14000.000000000047,
          14000.00000000004,
          14000.000000000022,
          14000.000000000002,
          15750,
          15750,
          15750,
          15750.000000000004,
          15750.000000000004,
          15750.000000000004,
          15750.000000000004,
          15750.000000000004,
          15750.000000000004
         ]
        },
        {
         "name": "Production C",
         "stackgroup": "one",
         "type": "scatter",
         "x": [
          0,
          1,
          2,
          3,
          4,
          5,
          6,
          7,
          8,
          9,
          10,
          11,
          12,
          13,
          14,
          15,
          16,
          17,
          18,
          19,
          20,
          21,
          22,
          23
         ],
         "y": [
          0,
          0,
          0,
          0,
          0,
          0,
          0,
          0,
          0,
          0,
          0,
          0,
          0,
          0,
          0,
          3000,
          3000,
          3000,
          0,
          0,
          0,
          0,
          0,
          0
         ]
        },
        {
         "line": {
          "color": "red",
          "dash": "dash"
         },
         "name": "Production total",
         "type": "scatter",
         "x": [
          0,
          1,
          2,
          3,
          4,
          5,
          6,
          7,
          8,
          9,
          10,
          11,
          12,
          13,
          14,
          15,
          16,
          17,
          18,
          19,
          20,
          21,
          22,
          23
         ],
         "y": [
          15000,
          15000,
          15000,
          15000,
          15000,
          15000,
          30000,
          30000,
          30000,
          25000,
          25000,
          25000,
          25000,
          25000,
          25000,
          40000,
          40000,
          40000,
          27000,
          27000,
          27000,
          27000,
          27000,
          27000
         ]
        },
        {
         "line": {
          "color": "black"
         },
         "name": "Coût MWh",
         "type": "scatter",
         "x": [
          0,
          1,
          2,
          3,
          4,
          5,
          6,
          7,
          8,
          9,
          10,
          11,
          12,
          13,
          14,
          15,
          16,
          17,
          18,
          19,
          20,
          21,
          22,
          23
         ],
         "y": [
          1.411,
          1.411,
          1.411,
          1.411,
          1.411,
          1.411,
          1.82,
          1.6533333333333333,
          1.6533333333333333,
          1.5839999999999987,
          1.5839999999999985,
          1.5839999999999987,
          1.5839999999999987,
          1.5839999999999994,
          1.584,
          1.78375,
          1.73375,
          1.73375,
          1.6055555555555556,
          1.6055555555555556,
          1.6055555555555556,
          1.6055555555555556,
          1.6055555555555556,
          1.6055555555555556
         ],
         "yaxis": "y2"
        }
       ],
       "layout": {
        "hovermode": "x",
        "template": {
         "data": {
          "bar": [
           {
            "error_x": {
             "color": "#2a3f5f"
            },
            "error_y": {
             "color": "#2a3f5f"
            },
            "marker": {
             "line": {
              "color": "#E5ECF6",
              "width": 0.5
             },
             "pattern": {
              "fillmode": "overlay",
              "size": 10,
              "solidity": 0.2
             }
            },
            "type": "bar"
           }
          ],
          "barpolar": [
           {
            "marker": {
             "line": {
              "color": "#E5ECF6",
              "width": 0.5
             },
             "pattern": {
              "fillmode": "overlay",
              "size": 10,
              "solidity": 0.2
             }
            },
            "type": "barpolar"
           }
          ],
          "carpet": [
           {
            "aaxis": {
             "endlinecolor": "#2a3f5f",
             "gridcolor": "white",
             "linecolor": "white",
             "minorgridcolor": "white",
             "startlinecolor": "#2a3f5f"
            },
            "baxis": {
             "endlinecolor": "#2a3f5f",
             "gridcolor": "white",
             "linecolor": "white",
             "minorgridcolor": "white",
             "startlinecolor": "#2a3f5f"
            },
            "type": "carpet"
           }
          ],
          "choropleth": [
           {
            "colorbar": {
             "outlinewidth": 0,
             "ticks": ""
            },
            "type": "choropleth"
           }
          ],
          "contour": [
           {
            "colorbar": {
             "outlinewidth": 0,
             "ticks": ""
            },
            "colorscale": [
             [
              0,
              "#0d0887"
             ],
             [
              0.1111111111111111,
              "#46039f"
             ],
             [
              0.2222222222222222,
              "#7201a8"
             ],
             [
              0.3333333333333333,
              "#9c179e"
             ],
             [
              0.4444444444444444,
              "#bd3786"
             ],
             [
              0.5555555555555556,
              "#d8576b"
             ],
             [
              0.6666666666666666,
              "#ed7953"
             ],
             [
              0.7777777777777778,
              "#fb9f3a"
             ],
             [
              0.8888888888888888,
              "#fdca26"
             ],
             [
              1,
              "#f0f921"
             ]
            ],
            "type": "contour"
           }
          ],
          "contourcarpet": [
           {
            "colorbar": {
             "outlinewidth": 0,
             "ticks": ""
            },
            "type": "contourcarpet"
           }
          ],
          "heatmap": [
           {
            "colorbar": {
             "outlinewidth": 0,
             "ticks": ""
            },
            "colorscale": [
             [
              0,
              "#0d0887"
             ],
             [
              0.1111111111111111,
              "#46039f"
             ],
             [
              0.2222222222222222,
              "#7201a8"
             ],
             [
              0.3333333333333333,
              "#9c179e"
             ],
             [
              0.4444444444444444,
              "#bd3786"
             ],
             [
              0.5555555555555556,
              "#d8576b"
             ],
             [
              0.6666666666666666,
              "#ed7953"
             ],
             [
              0.7777777777777778,
              "#fb9f3a"
             ],
             [
              0.8888888888888888,
              "#fdca26"
             ],
             [
              1,
              "#f0f921"
             ]
            ],
            "type": "heatmap"
           }
          ],
          "heatmapgl": [
           {
            "colorbar": {
             "outlinewidth": 0,
             "ticks": ""
            },
            "colorscale": [
             [
              0,
              "#0d0887"
             ],
             [
              0.1111111111111111,
              "#46039f"
             ],
             [
              0.2222222222222222,
              "#7201a8"
             ],
             [
              0.3333333333333333,
              "#9c179e"
             ],
             [
              0.4444444444444444,
              "#bd3786"
             ],
             [
              0.5555555555555556,
              "#d8576b"
             ],
             [
              0.6666666666666666,
              "#ed7953"
             ],
             [
              0.7777777777777778,
              "#fb9f3a"
             ],
             [
              0.8888888888888888,
              "#fdca26"
             ],
             [
              1,
              "#f0f921"
             ]
            ],
            "type": "heatmapgl"
           }
          ],
          "histogram": [
           {
            "marker": {
             "pattern": {
              "fillmode": "overlay",
              "size": 10,
              "solidity": 0.2
             }
            },
            "type": "histogram"
           }
          ],
          "histogram2d": [
           {
            "colorbar": {
             "outlinewidth": 0,
             "ticks": ""
            },
            "colorscale": [
             [
              0,
              "#0d0887"
             ],
             [
              0.1111111111111111,
              "#46039f"
             ],
             [
              0.2222222222222222,
              "#7201a8"
             ],
             [
              0.3333333333333333,
              "#9c179e"
             ],
             [
              0.4444444444444444,
              "#bd3786"
             ],
             [
              0.5555555555555556,
              "#d8576b"
             ],
             [
              0.6666666666666666,
              "#ed7953"
             ],
             [
              0.7777777777777778,
              "#fb9f3a"
             ],
             [
              0.8888888888888888,
              "#fdca26"
             ],
             [
              1,
              "#f0f921"
             ]
            ],
            "type": "histogram2d"
           }
          ],
          "histogram2dcontour": [
           {
            "colorbar": {
             "outlinewidth": 0,
             "ticks": ""
            },
            "colorscale": [
             [
              0,
              "#0d0887"
             ],
             [
              0.1111111111111111,
              "#46039f"
             ],
             [
              0.2222222222222222,
              "#7201a8"
             ],
             [
              0.3333333333333333,
              "#9c179e"
             ],
             [
              0.4444444444444444,
              "#bd3786"
             ],
             [
              0.5555555555555556,
              "#d8576b"
             ],
             [
              0.6666666666666666,
              "#ed7953"
             ],
             [
              0.7777777777777778,
              "#fb9f3a"
             ],
             [
              0.8888888888888888,
              "#fdca26"
             ],
             [
              1,
              "#f0f921"
             ]
            ],
            "type": "histogram2dcontour"
           }
          ],
          "mesh3d": [
           {
            "colorbar": {
             "outlinewidth": 0,
             "ticks": ""
            },
            "type": "mesh3d"
           }
          ],
          "parcoords": [
           {
            "line": {
             "colorbar": {
              "outlinewidth": 0,
              "ticks": ""
             }
            },
            "type": "parcoords"
           }
          ],
          "pie": [
           {
            "automargin": true,
            "type": "pie"
           }
          ],
          "scatter": [
           {
            "fillpattern": {
             "fillmode": "overlay",
             "size": 10,
             "solidity": 0.2
            },
            "type": "scatter"
           }
          ],
          "scatter3d": [
           {
            "line": {
             "colorbar": {
              "outlinewidth": 0,
              "ticks": ""
             }
            },
            "marker": {
             "colorbar": {
              "outlinewidth": 0,
              "ticks": ""
             }
            },
            "type": "scatter3d"
           }
          ],
          "scattercarpet": [
           {
            "marker": {
             "colorbar": {
              "outlinewidth": 0,
              "ticks": ""
             }
            },
            "type": "scattercarpet"
           }
          ],
          "scattergeo": [
           {
            "marker": {
             "colorbar": {
              "outlinewidth": 0,
              "ticks": ""
             }
            },
            "type": "scattergeo"
           }
          ],
          "scattergl": [
           {
            "marker": {
             "colorbar": {
              "outlinewidth": 0,
              "ticks": ""
             }
            },
            "type": "scattergl"
           }
          ],
          "scattermapbox": [
           {
            "marker": {
             "colorbar": {
              "outlinewidth": 0,
              "ticks": ""
             }
            },
            "type": "scattermapbox"
           }
          ],
          "scatterpolar": [
           {
            "marker": {
             "colorbar": {
              "outlinewidth": 0,
              "ticks": ""
             }
            },
            "type": "scatterpolar"
           }
          ],
          "scatterpolargl": [
           {
            "marker": {
             "colorbar": {
              "outlinewidth": 0,
              "ticks": ""
             }
            },
            "type": "scatterpolargl"
           }
          ],
          "scatterternary": [
           {
            "marker": {
             "colorbar": {
              "outlinewidth": 0,
              "ticks": ""
             }
            },
            "type": "scatterternary"
           }
          ],
          "surface": [
           {
            "colorbar": {
             "outlinewidth": 0,
             "ticks": ""
            },
            "colorscale": [
             [
              0,
              "#0d0887"
             ],
             [
              0.1111111111111111,
              "#46039f"
             ],
             [
              0.2222222222222222,
              "#7201a8"
             ],
             [
              0.3333333333333333,
              "#9c179e"
             ],
             [
              0.4444444444444444,
              "#bd3786"
             ],
             [
              0.5555555555555556,
              "#d8576b"
             ],
             [
              0.6666666666666666,
              "#ed7953"
             ],
             [
              0.7777777777777778,
              "#fb9f3a"
             ],
             [
              0.8888888888888888,
              "#fdca26"
             ],
             [
              1,
              "#f0f921"
             ]
            ],
            "type": "surface"
           }
          ],
          "table": [
           {
            "cells": {
             "fill": {
              "color": "#EBF0F8"
             },
             "line": {
              "color": "white"
             }
            },
            "header": {
             "fill": {
              "color": "#C8D4E3"
             },
             "line": {
              "color": "white"
             }
            },
            "type": "table"
           }
          ]
         },
         "layout": {
          "annotationdefaults": {
           "arrowcolor": "#2a3f5f",
           "arrowhead": 0,
           "arrowwidth": 1
          },
          "autotypenumbers": "strict",
          "coloraxis": {
           "colorbar": {
            "outlinewidth": 0,
            "ticks": ""
           }
          },
          "colorscale": {
           "diverging": [
            [
             0,
             "#8e0152"
            ],
            [
             0.1,
             "#c51b7d"
            ],
            [
             0.2,
             "#de77ae"
            ],
            [
             0.3,
             "#f1b6da"
            ],
            [
             0.4,
             "#fde0ef"
            ],
            [
             0.5,
             "#f7f7f7"
            ],
            [
             0.6,
             "#e6f5d0"
            ],
            [
             0.7,
             "#b8e186"
            ],
            [
             0.8,
             "#7fbc41"
            ],
            [
             0.9,
             "#4d9221"
            ],
            [
             1,
             "#276419"
            ]
           ],
           "sequential": [
            [
             0,
             "#0d0887"
            ],
            [
             0.1111111111111111,
             "#46039f"
            ],
            [
             0.2222222222222222,
             "#7201a8"
            ],
            [
             0.3333333333333333,
             "#9c179e"
            ],
            [
             0.4444444444444444,
             "#bd3786"
            ],
            [
             0.5555555555555556,
             "#d8576b"
            ],
            [
             0.6666666666666666,
             "#ed7953"
            ],
            [
             0.7777777777777778,
             "#fb9f3a"
            ],
            [
             0.8888888888888888,
             "#fdca26"
            ],
            [
             1,
             "#f0f921"
            ]
           ],
           "sequentialminus": [
            [
             0,
             "#0d0887"
            ],
            [
             0.1111111111111111,
             "#46039f"
            ],
            [
             0.2222222222222222,
             "#7201a8"
            ],
            [
             0.3333333333333333,
             "#9c179e"
            ],
            [
             0.4444444444444444,
             "#bd3786"
            ],
            [
             0.5555555555555556,
             "#d8576b"
            ],
            [
             0.6666666666666666,
             "#ed7953"
            ],
            [
             0.7777777777777778,
             "#fb9f3a"
            ],
            [
             0.8888888888888888,
             "#fdca26"
            ],
            [
             1,
             "#f0f921"
            ]
           ]
          },
          "colorway": [
           "#636efa",
           "#EF553B",
           "#00cc96",
           "#ab63fa",
           "#FFA15A",
           "#19d3f3",
           "#FF6692",
           "#B6E880",
           "#FF97FF",
           "#FECB52"
          ],
          "font": {
           "color": "#2a3f5f"
          },
          "geo": {
           "bgcolor": "white",
           "lakecolor": "white",
           "landcolor": "#E5ECF6",
           "showlakes": true,
           "showland": true,
           "subunitcolor": "white"
          },
          "hoverlabel": {
           "align": "left"
          },
          "hovermode": "closest",
          "mapbox": {
           "style": "light"
          },
          "paper_bgcolor": "white",
          "plot_bgcolor": "#E5ECF6",
          "polar": {
           "angularaxis": {
            "gridcolor": "white",
            "linecolor": "white",
            "ticks": ""
           },
           "bgcolor": "#E5ECF6",
           "radialaxis": {
            "gridcolor": "white",
            "linecolor": "white",
            "ticks": ""
           }
          },
          "scene": {
           "xaxis": {
            "backgroundcolor": "#E5ECF6",
            "gridcolor": "white",
            "gridwidth": 2,
            "linecolor": "white",
            "showbackground": true,
            "ticks": "",
            "zerolinecolor": "white"
           },
           "yaxis": {
            "backgroundcolor": "#E5ECF6",
            "gridcolor": "white",
            "gridwidth": 2,
            "linecolor": "white",
            "showbackground": true,
            "ticks": "",
            "zerolinecolor": "white"
           },
           "zaxis": {
            "backgroundcolor": "#E5ECF6",
            "gridcolor": "white",
            "gridwidth": 2,
            "linecolor": "white",
            "showbackground": true,
            "ticks": "",
            "zerolinecolor": "white"
           }
          },
          "shapedefaults": {
           "line": {
            "color": "#2a3f5f"
           }
          },
          "ternary": {
           "aaxis": {
            "gridcolor": "white",
            "linecolor": "white",
            "ticks": ""
           },
           "baxis": {
            "gridcolor": "white",
            "linecolor": "white",
            "ticks": ""
           },
           "bgcolor": "#E5ECF6",
           "caxis": {
            "gridcolor": "white",
            "linecolor": "white",
            "ticks": ""
           }
          },
          "title": {
           "x": 0.05
          },
          "xaxis": {
           "automargin": true,
           "gridcolor": "white",
           "linecolor": "white",
           "ticks": "",
           "title": {
            "standoff": 15
           },
           "zerolinecolor": "white",
           "zerolinewidth": 2
          },
          "yaxis": {
           "automargin": true,
           "gridcolor": "white",
           "linecolor": "white",
           "ticks": "",
           "title": {
            "standoff": 15
           },
           "zerolinecolor": "white",
           "zerolinewidth": 2
          }
         }
        },
        "title": {
         "text": "Répartition de la production électrique dans la journée - 4"
        },
        "yaxis": {
         "range": [
          0,
          44000
         ],
         "title": {
          "text": "MW"
         }
        },
        "yaxis2": {
         "anchor": "free",
         "overlaying": "y",
         "position": 1,
         "range": [
          1.34045,
          2.0020000000000002
         ],
         "side": "right",
         "title": {
          "text": "€/MWh"
         }
        }
       }
      }
     },
     "metadata": {},
     "output_type": "display_data"
    }
   ],
   "source": [
    "df = df_results22(dict_N=dict_N,dict_P=dict_P,dict_Nstart=dict_Nstart,dict_XX=dict_Thermique,consommation=consommation)\n",
    "fig = Results_viz(df,dict_Thermique)\n",
    "A = 4\n",
    "fig.update_layout(\n",
    "    title = f\"Répartition de la production électrique dans la journée - {A}\"\n",
    ")\n",
    "fig.show()\n",
    "fig.write_html(f\"HTML/Répartition de la production électrique dans la journée - {A}.html\")\n"
   ]
  },
  {
   "cell_type": "markdown",
   "metadata": {},
   "source": [
    "## 5 Centrales hydroélectriques\n",
    "\n",
    "### 5.1\n",
    "\n",
    "On ajoute les variables de décisions suivantes:<br>\n",
    "pour $Y\\in[9,14]$ (pour les centrales de 900 MW et 1400MW),<br>\n",
    "$$\n",
    "H_t^{(Y)} \\in \\{0,1\\} \\text{  , vaut 1 si la centrale $Y$ fonctionne à } t \\text{ h 0 sinon}\n",
    "$$\n",
    "$$\n",
    "H_{start,t}^{(Y)} \\in \\{0,1\\} \\text{  , vaut 1  si la centrale $Y$ démarre à } t \\text{ h 0 sinon}\n",
    "$$\n",
    "Avec les contraintes :\n",
    "$$\n",
    "H_{start,t}^{(Y)} \\leq 1 - H_{t-1}^{(Y)} \\text{  ,  S'il y a un démarrage alors la centrale n'était pas allumée}\n",
    "$$\n",
    "Autre option :\n",
    "$$\n",
    "H_{t}^{(Y)} \\leq H_{start,t}^{(Y)}  + H_{t-1}^{(Y)} \\text{  ,  Si la centrale fonctionne alors elle était allumée ou elle démarre}\n",
    "$$\n",
    "$$\n",
    "H_{start,t}^{(Y)} \\leq H_{t}^{(Y)} \\text{  ,  La centrale fonctionne lorsqu'elle est est démarrée}\n",
    "$$\n",
    "$$\n",
    "\\sum_X P_t^{(X)} + \\sum_Y N_t^{(Y)}P^{(Y)}= D_t \\text{  ,  Contrainte équilibre offre-demande}\n",
    "$$\n",
    "$$\n",
    "\\sum_X N_t^{(X)}P_{max}^{(X)} + \\sum_Y P^{(Y)}\\geq D_t\\times 1,15 \\text{  ,  marges de sécurité}\n",
    "$$\n",
    "L'objectif mis à jour devient:\n",
    "$$\n",
    "\\text{Minimiser} \\sum_X \\sum_t (P_t^{(X)} - P_{min}^{(X)}N_t^{(X)}) C_{MWh}^{(X)} + N_t^{(X)}C_{base}^{(X)} + N_{start,t}^{(X)}C_{start}^{(X)} + \\sum_Y \\sum_t H_t^{(Y)}C_{base}^{(Y)} + H_t^{(Y)}C_{start}^{(Y)}\n",
    "$$"
   ]
  },
  {
   "cell_type": "code",
   "execution_count": 16,
   "metadata": {},
   "outputs": [],
   "source": [
    "from utils import Centrale_hydro"
   ]
  },
  {
   "cell_type": "code",
   "execution_count": 17,
   "metadata": {},
   "outputs": [],
   "source": [
    "dict_Hydro = {\n",
    "    9 : Centrale_hydro(\n",
    "    name = \"Hydro 900 MW\",\n",
    "    P = 900,\n",
    "    Cstart = 1500,\n",
    "    Cheure=90,\n",
    "    debit=0.31\n",
    "),\n",
    "    14 : Centrale_hydro(\n",
    "    name = \"Hydro 1400 MW\",\n",
    "    P = 1400,\n",
    "    Cstart = 1200,\n",
    "    Cheure=150,\n",
    "    debit=0.47\n",
    ")\n",
    "}"
   ]
  },
  {
   "cell_type": "code",
   "execution_count": 18,
   "metadata": {},
   "outputs": [
    {
     "name": "stdout",
     "output_type": "stream",
     "text": [
      "Gurobi Optimizer version 9.5.2 build v9.5.2rc0 (win64)\n",
      "Thread count: 4 physical cores, 8 logical processors, using up to 8 threads\n",
      "Optimize a model with 432 rows, 312 columns and 1080 nonzeros\n",
      "Model fingerprint: 0x568b7ef7\n",
      "Variable types: 72 continuous, 240 integer (96 binary)\n",
      "Coefficient statistics:\n",
      "  Matrix range     [1e+00, 4e+03]\n",
      "  Objective range  [1e+00, 2e+03]\n",
      "  Bounds range     [1e+00, 1e+01]\n",
      "  RHS range        [5e+00, 4e+04]\n",
      "Found heuristic solution: objective 1447255.0000\n",
      "Presolve removed 120 rows and 0 columns\n",
      "Presolve time: 0.00s\n",
      "Presolved: 312 rows, 312 columns, 840 nonzeros\n",
      "Variable types: 72 continuous, 240 integer (96 binary)\n",
      "Found heuristic solution: objective 1429430.0000\n",
      "\n",
      "Root relaxation: objective 8.884163e+05, 90 iterations, 0.00 seconds (0.00 work units)\n",
      "\n",
      "    Nodes    |    Current Node    |     Objective Bounds      |     Work\n",
      " Expl Unexpl |  Obj  Depth IntInf | Incumbent    BestBd   Gap | It/Node Time\n",
      "\n",
      "     0     0 888416.250    0   30 1429430.00 888416.250  37.8%     -    0s\n",
      "H    0     0                    906941.25000 888416.250  2.04%     -    0s\n",
      "H    0     0                    893135.00000 888416.250  0.53%     -    0s\n",
      "H    0     0                    890510.00000 888416.250  0.24%     -    0s\n",
      "H    0     0                    890260.00000 888474.286  0.20%     -    0s\n",
      "     0     0 890176.667    0   22 890260.000 890176.667  0.01%     -    0s\n",
      "\n",
      "Cutting planes:\n",
      "  Gomory: 2\n",
      "  MIR: 33\n",
      "\n",
      "Explored 1 nodes (132 simplex iterations) in 0.03 seconds (0.00 work units)\n",
      "Thread count was 8 (of 8 available processors)\n",
      "\n",
      "Solution count 6: 890260 890510 893135 ... 1.44726e+06\n",
      "\n",
      "Optimal solution found (tolerance 1.00e-04)\n",
      "Best objective 8.902600000000e+05, best bound 8.901766666667e+05, gap 0.0094%\n"
     ]
    }
   ],
   "source": [
    "from utils import variable_decision_hydraulique, contraintes_equilibre_avec_hydro, contraintes_reserve_avec_hydro, contraintes_hydraulique\n",
    "\n",
    "model = gp.Model(name=\"5\")\n",
    "\n",
    "dict_H, dict_Hstart = variable_decision_hydraulique(model,dict_Hydro)\n",
    "dict_N, dict_Nstart, dict_P = variable_decision_thermique_avec_demarrage(model,dict_Thermique)\n",
    "\n",
    "model.setObjective(\n",
    "    gp.quicksum([dict_N[element[0],element[1]] * (dict_Thermique[element[0]].Cbase - dict_Thermique[element[0]].Pmin*dict_Thermique[element[0]].Cmwh) for element in product(dict_Thermique,range(24))]) + \n",
    "    gp.quicksum([dict_P[element[0],element[1]] * dict_Thermique[element[0]].Cmwh for element in product(dict_Thermique,range(24))])+ \n",
    "    gp.quicksum([dict_Nstart[element[0],element[1]]*dict_Thermique[element[0]].Cstart for element in product(dict_Thermique,range(24))])+\n",
    "    gp.quicksum([dict_H[element[0],element[1]] * dict_Hydro[element[0]].Cheure for element in product(dict_Hydro,range(24))])+\n",
    "    gp.quicksum([dict_Hstart[element[0],element[1]] * dict_Hydro[element[0]].Cstart for element in product(dict_Hydro,range(24))]),\n",
    "    gp.GRB.MINIMIZE\n",
    "    )\n",
    "\n",
    "contraintes_demarrage(model,dict_N,dict_Nstart,dict_Thermique,cyclique=True)\n",
    "contraintes_puissance_thermique(model,dict_N,dict_P,dict_Thermique)\n",
    "contraintes_equilibre_avec_hydro(model,dict_H,dict_P,dict_Thermique,dict_Hydro,consommation)\n",
    "contraintes_reserve_avec_hydro(model,dict_N,dict_Thermique,dict_Hydro,consommation)\n",
    "contraintes_hydraulique(model,dict_Hstart,dict_H,dict_Hydro)\n",
    "\n",
    "\n",
    "\n",
    "model.optimize()\n",
    "        \n"
   ]
  },
  {
   "cell_type": "code",
   "execution_count": 19,
   "metadata": {},
   "outputs": [
    {
     "data": {
      "application/vnd.plotly.v1+json": {
       "config": {
        "plotlyServerURL": "https://plot.ly"
       },
       "data": [
        {
         "name": "Thermique A",
         "stackgroup": "one",
         "type": "scatter",
         "x": [
          0,
          1,
          2,
          3,
          4,
          5,
          6,
          7,
          8,
          9,
          10,
          11,
          12,
          13,
          14,
          15,
          16,
          17,
          18,
          19,
          20,
          21,
          22,
          23
         ],
         "y": [
          10950,
          10950,
          10950,
          10950,
          10950,
          10949.999999999996,
          15450,
          15450,
          15450,
          10450,
          10450,
          10450,
          10450,
          10450,
          10449.999999999978,
          20450,
          20450,
          20450,
          10700,
          10700,
          10700,
          10700,
          10700,
          10700
         ]
        },
        {
         "name": "Thermique B",
         "stackgroup": "one",
         "type": "scatter",
         "x": [
          0,
          1,
          2,
          3,
          4,
          5,
          6,
          7,
          8,
          9,
          10,
          11,
          12,
          13,
          14,
          15,
          16,
          17,
          18,
          19,
          20,
          21,
          22,
          23
         ],
         "y": [
          1750,
          1750,
          1750,
          1750,
          1750,
          1750.0000000000036,
          12250,
          12250,
          12250,
          12250,
          12250,
          12250,
          12250,
          12250,
          12250.000000000022,
          15750,
          15750,
          15750,
          14000,
          14000,
          14000,
          14000,
          14000,
          14000
         ]
        },
        {
         "name": "Thermique C",
         "stackgroup": "one",
         "type": "scatter",
         "x": [
          0,
          1,
          2,
          3,
          4,
          5,
          6,
          7,
          8,
          9,
          10,
          11,
          12,
          13,
          14,
          15,
          16,
          17,
          18,
          19,
          20,
          21,
          22,
          23
         ],
         "y": [
          0,
          0,
          0,
          0,
          0,
          0,
          0,
          0,
          0,
          0,
          0,
          0,
          0,
          0,
          0,
          1500,
          1500,
          1500,
          0,
          0,
          0,
          0,
          0,
          0
         ]
        },
        {
         "name": "Hydraulique 9",
         "stackgroup": "one",
         "type": "scatter",
         "x": [
          0,
          1,
          2,
          3,
          4,
          5,
          6,
          7,
          8,
          9,
          10,
          11,
          12,
          13,
          14,
          15,
          16,
          17,
          18,
          19,
          20,
          21,
          22,
          23
         ],
         "y": [
          900,
          900,
          900,
          900,
          900,
          900,
          900,
          900,
          900,
          900,
          900,
          900,
          900,
          900,
          900,
          900,
          900,
          900,
          900,
          900,
          900,
          900,
          900,
          900
         ]
        },
        {
         "name": "Hydraulique 14",
         "stackgroup": "one",
         "type": "scatter",
         "x": [
          0,
          1,
          2,
          3,
          4,
          5,
          6,
          7,
          8,
          9,
          10,
          11,
          12,
          13,
          14,
          15,
          16,
          17,
          18,
          19,
          20,
          21,
          22,
          23
         ],
         "y": [
          1400,
          1400,
          1400,
          1400,
          1400,
          1400,
          1400,
          1400,
          1400,
          1400,
          1400,
          1400,
          1400,
          1400,
          1400,
          1400,
          1400,
          1400,
          1400,
          1400,
          1400,
          1400,
          1400,
          1400
         ]
        },
        {
         "line": {
          "color": "red",
          "dash": "dash"
         },
         "name": "Production total",
         "type": "scatter",
         "x": [
          0,
          1,
          2,
          3,
          4,
          5,
          6,
          7,
          8,
          9,
          10,
          11,
          12,
          13,
          14,
          15,
          16,
          17,
          18,
          19,
          20,
          21,
          22,
          23
         ],
         "y": [
          15000,
          15000,
          15000,
          15000,
          15000,
          15000,
          30000,
          30000,
          30000,
          25000,
          25000,
          25000,
          25000,
          25000,
          25000,
          40000,
          40000,
          40000,
          27000,
          27000,
          27000,
          27000,
          27000,
          27000
         ]
        },
        {
         "line": {
          "color": "black"
         },
         "name": "Coût MWh",
         "type": "scatter",
         "x": [
          0,
          1,
          2,
          3,
          4,
          5,
          6,
          7,
          8,
          9,
          10,
          11,
          12,
          13,
          14,
          15,
          16,
          17,
          18,
          19,
          20,
          21,
          22,
          23
         ],
         "y": [
          1.1326666666666667,
          1.1326666666666667,
          1.1326666666666667,
          1.1326666666666667,
          1.1326666666666667,
          1.1326666666666665,
          1.7163333333333333,
          1.5163333333333333,
          1.5163333333333333,
          1.4196,
          1.4196,
          1.4196,
          1.4196,
          1.4196,
          1.4195999999999995,
          1.68725,
          1.62475,
          1.62475,
          1.4533333333333334,
          1.4533333333333334,
          1.4533333333333334,
          1.4533333333333334,
          1.4533333333333334,
          1.4533333333333334
         ],
         "yaxis": "y2"
        }
       ],
       "layout": {
        "hovermode": "x",
        "template": {
         "data": {
          "bar": [
           {
            "error_x": {
             "color": "#2a3f5f"
            },
            "error_y": {
             "color": "#2a3f5f"
            },
            "marker": {
             "line": {
              "color": "#E5ECF6",
              "width": 0.5
             },
             "pattern": {
              "fillmode": "overlay",
              "size": 10,
              "solidity": 0.2
             }
            },
            "type": "bar"
           }
          ],
          "barpolar": [
           {
            "marker": {
             "line": {
              "color": "#E5ECF6",
              "width": 0.5
             },
             "pattern": {
              "fillmode": "overlay",
              "size": 10,
              "solidity": 0.2
             }
            },
            "type": "barpolar"
           }
          ],
          "carpet": [
           {
            "aaxis": {
             "endlinecolor": "#2a3f5f",
             "gridcolor": "white",
             "linecolor": "white",
             "minorgridcolor": "white",
             "startlinecolor": "#2a3f5f"
            },
            "baxis": {
             "endlinecolor": "#2a3f5f",
             "gridcolor": "white",
             "linecolor": "white",
             "minorgridcolor": "white",
             "startlinecolor": "#2a3f5f"
            },
            "type": "carpet"
           }
          ],
          "choropleth": [
           {
            "colorbar": {
             "outlinewidth": 0,
             "ticks": ""
            },
            "type": "choropleth"
           }
          ],
          "contour": [
           {
            "colorbar": {
             "outlinewidth": 0,
             "ticks": ""
            },
            "colorscale": [
             [
              0,
              "#0d0887"
             ],
             [
              0.1111111111111111,
              "#46039f"
             ],
             [
              0.2222222222222222,
              "#7201a8"
             ],
             [
              0.3333333333333333,
              "#9c179e"
             ],
             [
              0.4444444444444444,
              "#bd3786"
             ],
             [
              0.5555555555555556,
              "#d8576b"
             ],
             [
              0.6666666666666666,
              "#ed7953"
             ],
             [
              0.7777777777777778,
              "#fb9f3a"
             ],
             [
              0.8888888888888888,
              "#fdca26"
             ],
             [
              1,
              "#f0f921"
             ]
            ],
            "type": "contour"
           }
          ],
          "contourcarpet": [
           {
            "colorbar": {
             "outlinewidth": 0,
             "ticks": ""
            },
            "type": "contourcarpet"
           }
          ],
          "heatmap": [
           {
            "colorbar": {
             "outlinewidth": 0,
             "ticks": ""
            },
            "colorscale": [
             [
              0,
              "#0d0887"
             ],
             [
              0.1111111111111111,
              "#46039f"
             ],
             [
              0.2222222222222222,
              "#7201a8"
             ],
             [
              0.3333333333333333,
              "#9c179e"
             ],
             [
              0.4444444444444444,
              "#bd3786"
             ],
             [
              0.5555555555555556,
              "#d8576b"
             ],
             [
              0.6666666666666666,
              "#ed7953"
             ],
             [
              0.7777777777777778,
              "#fb9f3a"
             ],
             [
              0.8888888888888888,
              "#fdca26"
             ],
             [
              1,
              "#f0f921"
             ]
            ],
            "type": "heatmap"
           }
          ],
          "heatmapgl": [
           {
            "colorbar": {
             "outlinewidth": 0,
             "ticks": ""
            },
            "colorscale": [
             [
              0,
              "#0d0887"
             ],
             [
              0.1111111111111111,
              "#46039f"
             ],
             [
              0.2222222222222222,
              "#7201a8"
             ],
             [
              0.3333333333333333,
              "#9c179e"
             ],
             [
              0.4444444444444444,
              "#bd3786"
             ],
             [
              0.5555555555555556,
              "#d8576b"
             ],
             [
              0.6666666666666666,
              "#ed7953"
             ],
             [
              0.7777777777777778,
              "#fb9f3a"
             ],
             [
              0.8888888888888888,
              "#fdca26"
             ],
             [
              1,
              "#f0f921"
             ]
            ],
            "type": "heatmapgl"
           }
          ],
          "histogram": [
           {
            "marker": {
             "pattern": {
              "fillmode": "overlay",
              "size": 10,
              "solidity": 0.2
             }
            },
            "type": "histogram"
           }
          ],
          "histogram2d": [
           {
            "colorbar": {
             "outlinewidth": 0,
             "ticks": ""
            },
            "colorscale": [
             [
              0,
              "#0d0887"
             ],
             [
              0.1111111111111111,
              "#46039f"
             ],
             [
              0.2222222222222222,
              "#7201a8"
             ],
             [
              0.3333333333333333,
              "#9c179e"
             ],
             [
              0.4444444444444444,
              "#bd3786"
             ],
             [
              0.5555555555555556,
              "#d8576b"
             ],
             [
              0.6666666666666666,
              "#ed7953"
             ],
             [
              0.7777777777777778,
              "#fb9f3a"
             ],
             [
              0.8888888888888888,
              "#fdca26"
             ],
             [
              1,
              "#f0f921"
             ]
            ],
            "type": "histogram2d"
           }
          ],
          "histogram2dcontour": [
           {
            "colorbar": {
             "outlinewidth": 0,
             "ticks": ""
            },
            "colorscale": [
             [
              0,
              "#0d0887"
             ],
             [
              0.1111111111111111,
              "#46039f"
             ],
             [
              0.2222222222222222,
              "#7201a8"
             ],
             [
              0.3333333333333333,
              "#9c179e"
             ],
             [
              0.4444444444444444,
              "#bd3786"
             ],
             [
              0.5555555555555556,
              "#d8576b"
             ],
             [
              0.6666666666666666,
              "#ed7953"
             ],
             [
              0.7777777777777778,
              "#fb9f3a"
             ],
             [
              0.8888888888888888,
              "#fdca26"
             ],
             [
              1,
              "#f0f921"
             ]
            ],
            "type": "histogram2dcontour"
           }
          ],
          "mesh3d": [
           {
            "colorbar": {
             "outlinewidth": 0,
             "ticks": ""
            },
            "type": "mesh3d"
           }
          ],
          "parcoords": [
           {
            "line": {
             "colorbar": {
              "outlinewidth": 0,
              "ticks": ""
             }
            },
            "type": "parcoords"
           }
          ],
          "pie": [
           {
            "automargin": true,
            "type": "pie"
           }
          ],
          "scatter": [
           {
            "fillpattern": {
             "fillmode": "overlay",
             "size": 10,
             "solidity": 0.2
            },
            "type": "scatter"
           }
          ],
          "scatter3d": [
           {
            "line": {
             "colorbar": {
              "outlinewidth": 0,
              "ticks": ""
             }
            },
            "marker": {
             "colorbar": {
              "outlinewidth": 0,
              "ticks": ""
             }
            },
            "type": "scatter3d"
           }
          ],
          "scattercarpet": [
           {
            "marker": {
             "colorbar": {
              "outlinewidth": 0,
              "ticks": ""
             }
            },
            "type": "scattercarpet"
           }
          ],
          "scattergeo": [
           {
            "marker": {
             "colorbar": {
              "outlinewidth": 0,
              "ticks": ""
             }
            },
            "type": "scattergeo"
           }
          ],
          "scattergl": [
           {
            "marker": {
             "colorbar": {
              "outlinewidth": 0,
              "ticks": ""
             }
            },
            "type": "scattergl"
           }
          ],
          "scattermapbox": [
           {
            "marker": {
             "colorbar": {
              "outlinewidth": 0,
              "ticks": ""
             }
            },
            "type": "scattermapbox"
           }
          ],
          "scatterpolar": [
           {
            "marker": {
             "colorbar": {
              "outlinewidth": 0,
              "ticks": ""
             }
            },
            "type": "scatterpolar"
           }
          ],
          "scatterpolargl": [
           {
            "marker": {
             "colorbar": {
              "outlinewidth": 0,
              "ticks": ""
             }
            },
            "type": "scatterpolargl"
           }
          ],
          "scatterternary": [
           {
            "marker": {
             "colorbar": {
              "outlinewidth": 0,
              "ticks": ""
             }
            },
            "type": "scatterternary"
           }
          ],
          "surface": [
           {
            "colorbar": {
             "outlinewidth": 0,
             "ticks": ""
            },
            "colorscale": [
             [
              0,
              "#0d0887"
             ],
             [
              0.1111111111111111,
              "#46039f"
             ],
             [
              0.2222222222222222,
              "#7201a8"
             ],
             [
              0.3333333333333333,
              "#9c179e"
             ],
             [
              0.4444444444444444,
              "#bd3786"
             ],
             [
              0.5555555555555556,
              "#d8576b"
             ],
             [
              0.6666666666666666,
              "#ed7953"
             ],
             [
              0.7777777777777778,
              "#fb9f3a"
             ],
             [
              0.8888888888888888,
              "#fdca26"
             ],
             [
              1,
              "#f0f921"
             ]
            ],
            "type": "surface"
           }
          ],
          "table": [
           {
            "cells": {
             "fill": {
              "color": "#EBF0F8"
             },
             "line": {
              "color": "white"
             }
            },
            "header": {
             "fill": {
              "color": "#C8D4E3"
             },
             "line": {
              "color": "white"
             }
            },
            "type": "table"
           }
          ]
         },
         "layout": {
          "annotationdefaults": {
           "arrowcolor": "#2a3f5f",
           "arrowhead": 0,
           "arrowwidth": 1
          },
          "autotypenumbers": "strict",
          "coloraxis": {
           "colorbar": {
            "outlinewidth": 0,
            "ticks": ""
           }
          },
          "colorscale": {
           "diverging": [
            [
             0,
             "#8e0152"
            ],
            [
             0.1,
             "#c51b7d"
            ],
            [
             0.2,
             "#de77ae"
            ],
            [
             0.3,
             "#f1b6da"
            ],
            [
             0.4,
             "#fde0ef"
            ],
            [
             0.5,
             "#f7f7f7"
            ],
            [
             0.6,
             "#e6f5d0"
            ],
            [
             0.7,
             "#b8e186"
            ],
            [
             0.8,
             "#7fbc41"
            ],
            [
             0.9,
             "#4d9221"
            ],
            [
             1,
             "#276419"
            ]
           ],
           "sequential": [
            [
             0,
             "#0d0887"
            ],
            [
             0.1111111111111111,
             "#46039f"
            ],
            [
             0.2222222222222222,
             "#7201a8"
            ],
            [
             0.3333333333333333,
             "#9c179e"
            ],
            [
             0.4444444444444444,
             "#bd3786"
            ],
            [
             0.5555555555555556,
             "#d8576b"
            ],
            [
             0.6666666666666666,
             "#ed7953"
            ],
            [
             0.7777777777777778,
             "#fb9f3a"
            ],
            [
             0.8888888888888888,
             "#fdca26"
            ],
            [
             1,
             "#f0f921"
            ]
           ],
           "sequentialminus": [
            [
             0,
             "#0d0887"
            ],
            [
             0.1111111111111111,
             "#46039f"
            ],
            [
             0.2222222222222222,
             "#7201a8"
            ],
            [
             0.3333333333333333,
             "#9c179e"
            ],
            [
             0.4444444444444444,
             "#bd3786"
            ],
            [
             0.5555555555555556,
             "#d8576b"
            ],
            [
             0.6666666666666666,
             "#ed7953"
            ],
            [
             0.7777777777777778,
             "#fb9f3a"
            ],
            [
             0.8888888888888888,
             "#fdca26"
            ],
            [
             1,
             "#f0f921"
            ]
           ]
          },
          "colorway": [
           "#636efa",
           "#EF553B",
           "#00cc96",
           "#ab63fa",
           "#FFA15A",
           "#19d3f3",
           "#FF6692",
           "#B6E880",
           "#FF97FF",
           "#FECB52"
          ],
          "font": {
           "color": "#2a3f5f"
          },
          "geo": {
           "bgcolor": "white",
           "lakecolor": "white",
           "landcolor": "#E5ECF6",
           "showlakes": true,
           "showland": true,
           "subunitcolor": "white"
          },
          "hoverlabel": {
           "align": "left"
          },
          "hovermode": "closest",
          "mapbox": {
           "style": "light"
          },
          "paper_bgcolor": "white",
          "plot_bgcolor": "#E5ECF6",
          "polar": {
           "angularaxis": {
            "gridcolor": "white",
            "linecolor": "white",
            "ticks": ""
           },
           "bgcolor": "#E5ECF6",
           "radialaxis": {
            "gridcolor": "white",
            "linecolor": "white",
            "ticks": ""
           }
          },
          "scene": {
           "xaxis": {
            "backgroundcolor": "#E5ECF6",
            "gridcolor": "white",
            "gridwidth": 2,
            "linecolor": "white",
            "showbackground": true,
            "ticks": "",
            "zerolinecolor": "white"
           },
           "yaxis": {
            "backgroundcolor": "#E5ECF6",
            "gridcolor": "white",
            "gridwidth": 2,
            "linecolor": "white",
            "showbackground": true,
            "ticks": "",
            "zerolinecolor": "white"
           },
           "zaxis": {
            "backgroundcolor": "#E5ECF6",
            "gridcolor": "white",
            "gridwidth": 2,
            "linecolor": "white",
            "showbackground": true,
            "ticks": "",
            "zerolinecolor": "white"
           }
          },
          "shapedefaults": {
           "line": {
            "color": "#2a3f5f"
           }
          },
          "ternary": {
           "aaxis": {
            "gridcolor": "white",
            "linecolor": "white",
            "ticks": ""
           },
           "baxis": {
            "gridcolor": "white",
            "linecolor": "white",
            "ticks": ""
           },
           "bgcolor": "#E5ECF6",
           "caxis": {
            "gridcolor": "white",
            "linecolor": "white",
            "ticks": ""
           }
          },
          "title": {
           "x": 0.05
          },
          "xaxis": {
           "automargin": true,
           "gridcolor": "white",
           "linecolor": "white",
           "ticks": "",
           "title": {
            "standoff": 15
           },
           "zerolinecolor": "white",
           "zerolinewidth": 2
          },
          "yaxis": {
           "automargin": true,
           "gridcolor": "white",
           "linecolor": "white",
           "ticks": "",
           "title": {
            "standoff": 15
           },
           "zerolinecolor": "white",
           "zerolinewidth": 2
          }
         }
        },
        "title": {
         "text": "Répartition de la production électrique dans la journée - 5.1"
        },
        "yaxis": {
         "range": [
          0,
          44000
         ],
         "title": {
          "text": "MW"
         }
        },
        "yaxis2": {
         "anchor": "free",
         "overlaying": "y",
         "position": 1,
         "range": [
          1.0760333333333332,
          1.8879666666666668
         ],
         "side": "right",
         "title": {
          "text": "€/MWh"
         }
        }
       }
      }
     },
     "metadata": {},
     "output_type": "display_data"
    }
   ],
   "source": [
    "from utils_viz import df_results5, Results_viz5\n",
    "df = df_results5(dict_N,dict_P,dict_Nstart,dict_Thermique,dict_H,dict_Hstart,dict_Hydro=dict_Hydro,consommation=consommation)\n",
    "fig = Results_viz5(df,dict_Thermique,dict_Hydro)\n",
    "A = \"5.1\"\n",
    "fig.update_layout(\n",
    "    title = f\"Répartition de la production électrique dans la journée - {A}\"\n",
    ")\n",
    "fig.show()\n",
    "fig.write_html(f\"HTML/Répartition de la production électrique dans la journée - {A}.html\")"
   ]
  },
  {
   "cell_type": "markdown",
   "metadata": {},
   "source": [
    "### 5.2\n",
    "\n",
    "On ajoute les variables de décision suivante :\n",
    "$$\n",
    "S_t =  \\text{Puissance appelée par le pompage à l'instant }t\n",
    "$$\n",
    "Puis la contrainte :\n",
    "$$\n",
    "\\sum_tS_t d^{(S)} = \\sum_{t,Y} H_t^{(Y)}d^{(Y)}\n",
    "$$\n",
    "Où $d^{(S)}$ représente la hauteur d'eau élevée par MWh et $d^{(Y)}$ la hauteur d'eau prélevée lorsque la centrale $Y$ fonctionne.<br>\n",
    "On met à jour les contraintes suivante:\n",
    "$$\n",
    "\\sum_X P_t^{(X)} + \\sum_Y H_t^{(Y)}P^{(Y)}-S_t= D_t \\text{  ,  Contrainte équilibre offre-demande}\n",
    "$$"
   ]
  },
  {
   "cell_type": "code",
   "execution_count": 20,
   "metadata": {},
   "outputs": [
    {
     "name": "stdout",
     "output_type": "stream",
     "text": [
      "Gurobi Optimizer version 9.5.2 build v9.5.2rc0 (win64)\n",
      "Thread count: 4 physical cores, 8 logical processors, using up to 8 threads\n",
      "Optimize a model with 433 rows, 336 columns and 1176 nonzeros\n",
      "Model fingerprint: 0x2bb1f118\n",
      "Variable types: 96 continuous, 240 integer (96 binary)\n",
      "Coefficient statistics:\n",
      "  Matrix range     [3e-04, 4e+03]\n",
      "  Objective range  [1e+00, 2e+03]\n",
      "  Bounds range     [1e+00, 1e+01]\n",
      "  RHS range        [5e+00, 4e+04]\n",
      "Found heuristic solution: objective 1468770.0000\n",
      "Presolve removed 120 rows and 0 columns\n",
      "Presolve time: 0.00s\n",
      "Presolved: 313 rows, 336 columns, 936 nonzeros\n",
      "Variable types: 96 continuous, 240 integer (96 binary)\n",
      "Found heuristic solution: objective 1428970.0000\n",
      "\n",
      "Root relaxation: objective 9.850143e+05, 145 iterations, 0.00 seconds (0.00 work units)\n",
      "\n",
      "    Nodes    |    Current Node    |     Objective Bounds      |     Work\n",
      " Expl Unexpl |  Obj  Depth IntInf | Incumbent    BestBd   Gap | It/Node Time\n",
      "\n",
      "     0     0 985014.286    0   26 1428970.00 985014.286  31.1%     -    0s\n",
      "H    0     0                    994935.00000 985014.286  1.00%     -    0s\n",
      "H    0     0                    991890.00000 985014.286  0.69%     -    0s\n",
      "H    0     0                    990145.00000 985014.286  0.52%     -    0s\n",
      "     0     0 985814.126    0   48 990145.000 985814.126  0.44%     -    0s\n",
      "     0     0 985814.126    0   48 990145.000 985814.126  0.44%     -    0s\n",
      "H    0     0                    988290.00000 985814.126  0.25%     -    0s\n",
      "H    0     0                    988040.00000 985814.126  0.23%     -    0s\n",
      "     0     2 985814.126    0   48 988040.000 985814.126  0.23%     -    0s\n",
      "H    2     4                    988002.00000 986022.114  0.20%   4.0    0s\n",
      "H    5     8                    986630.00000 986022.114  0.06%   8.8    0s\n",
      "H   21    13                    986290.00000 986051.521  0.02%   8.0    0s\n",
      "\n",
      "Cutting planes:\n",
      "  Gomory: 5\n",
      "  MIR: 24\n",
      "\n",
      "Explored 45 nodes (439 simplex iterations) in 0.09 seconds (0.04 work units)\n",
      "Thread count was 8 (of 8 available processors)\n",
      "\n",
      "Solution count 10: 986290 986630 988002 ... 1.46877e+06\n",
      "\n",
      "Optimal solution found (tolerance 1.00e-04)\n",
      "Best objective 9.862900000000e+05, best bound 9.862900000000e+05, gap 0.0000%\n"
     ]
    }
   ],
   "source": [
    "from utils import contraintes_reservoir, contraintes_equilibre_avec_STEP\n",
    "\n",
    "model = gp.Model(name=\"5.2\")\n",
    "\n",
    "dict_H, dict_Hstart = variable_decision_hydraulique(model,dict_Hydro)\n",
    "dict_N, dict_Nstart, dict_P = variable_decision_thermique_avec_demarrage(model,dict_Thermique)\n",
    "dict_S = {t : model.addVar(lb=0,vtype=gp.GRB.CONTINUOUS,name=f\"pompage à l'instant {t}\") for t in range(24)}\n",
    "debit_S = 1/3000 # débit de pompage par MWh ou par MW pendant une heure\n",
    "\n",
    "model.setObjective(\n",
    "    gp.quicksum([dict_N[X,t] * (dict_Thermique[X].Cbase - dict_Thermique[X].Pmin*dict_Thermique[X].Cmwh) for X in dict_Thermique for t in range(24)]) + \n",
    "    gp.quicksum([dict_P[X,t] * dict_Thermique[X].Cmwh for X in dict_Thermique for t in range(24)])+ \n",
    "    gp.quicksum([dict_Nstart[X,t]*dict_Thermique[X].Cstart for X in dict_Thermique for t in range(24)])+\n",
    "    gp.quicksum([dict_H[Y,t] * dict_Hydro[Y].Cheure for Y in dict_Hydro for t in range(24)])+\n",
    "    gp.quicksum([dict_Hstart[Y,t] * dict_Hydro[Y].Cstart for Y in dict_Hydro for t in range(24)]),\n",
    "    gp.GRB.MINIMIZE\n",
    "    )\n",
    "\n",
    "contraintes_demarrage(model,dict_N,dict_Nstart,dict_Thermique,cyclique=True)\n",
    "contraintes_puissance_thermique(model,dict_N,dict_P,dict_Thermique)\n",
    "contraintes_reservoir(model,dict_S,dict_Hydro,dict_H,debit_S)\n",
    "contraintes_equilibre_avec_STEP(model,dict_H,dict_P,dict_Thermique,dict_Hydro,dict_S,consommation)\n",
    "contraintes_reserve_avec_hydro(model,dict_N,dict_Thermique,dict_Hydro,consommation)\n",
    "contraintes_hydraulique(model,dict_Hstart,dict_H,dict_Hydro)\n",
    "\n",
    "model.optimize()"
   ]
  },
  {
   "cell_type": "code",
   "execution_count": 21,
   "metadata": {},
   "outputs": [
    {
     "data": {
      "application/vnd.plotly.v1+json": {
       "config": {
        "plotlyServerURL": "https://plot.ly"
       },
       "data": [
        {
         "name": "Thermique A",
         "stackgroup": "one",
         "type": "scatter",
         "x": [
          0,
          1,
          2,
          3,
          4,
          5,
          6,
          7,
          8,
          9,
          10,
          11,
          12,
          13,
          14,
          15,
          16,
          17,
          18,
          19,
          20,
          21,
          22,
          23
         ],
         "y": [
          10200,
          10200,
          10200,
          10200,
          10200,
          10200,
          14250,
          14250,
          14250,
          10200,
          10200,
          10200,
          10200,
          10200,
          10200,
          21350,
          21350,
          21350,
          10200,
          10200,
          10269.999999999996,
          10200.000000000004,
          11250,
          11250
         ]
        },
        {
         "name": "Thermique B",
         "stackgroup": "one",
         "type": "scatter",
         "x": [
          0,
          1,
          2,
          3,
          4,
          5,
          6,
          7,
          8,
          9,
          10,
          11,
          12,
          13,
          14,
          15,
          16,
          17,
          18,
          19,
          20,
          21,
          22,
          23
         ],
         "y": [
          5250,
          5250,
          5250,
          5250,
          5250,
          5250,
          15750,
          15750,
          15750,
          15750,
          15750,
          15750,
          15750,
          15750,
          15750,
          15750,
          15750,
          15750,
          15750,
          15750,
          15750,
          15750,
          15750,
          15750
         ]
        },
        {
         "name": "Thermique C",
         "stackgroup": "one",
         "type": "scatter",
         "x": [
          0,
          1,
          2,
          3,
          4,
          5,
          6,
          7,
          8,
          9,
          10,
          11,
          12,
          13,
          14,
          15,
          16,
          17,
          18,
          19,
          20,
          21,
          22,
          23
         ],
         "y": [
          0,
          0,
          0,
          0,
          0,
          0,
          0,
          0,
          0,
          0,
          0,
          0,
          0,
          0,
          0,
          1500,
          1500,
          1500,
          0,
          0,
          0,
          0,
          0,
          0
         ]
        },
        {
         "name": "Hydraulique 9",
         "stackgroup": "one",
         "type": "scatter",
         "x": [
          0,
          1,
          2,
          3,
          4,
          5,
          6,
          7,
          8,
          9,
          10,
          11,
          12,
          13,
          14,
          15,
          16,
          17,
          18,
          19,
          20,
          21,
          22,
          23
         ],
         "y": [
          0,
          0,
          0,
          0,
          0,
          0,
          0,
          0,
          0,
          0,
          0,
          0,
          0,
          0,
          0,
          0,
          0,
          0,
          0,
          0,
          0,
          0,
          0,
          0
         ]
        },
        {
         "name": "Hydraulique 14",
         "stackgroup": "one",
         "type": "scatter",
         "x": [
          0,
          1,
          2,
          3,
          4,
          5,
          6,
          7,
          8,
          9,
          10,
          11,
          12,
          13,
          14,
          15,
          16,
          17,
          18,
          19,
          20,
          21,
          22,
          23
         ],
         "y": [
          0,
          0,
          0,
          0,
          0,
          0,
          0,
          0,
          0,
          0,
          0,
          0,
          0,
          0,
          0,
          1400,
          1400,
          1400,
          1400,
          1400,
          1400,
          1400,
          0,
          0
         ]
        },
        {
         "name": "Pompage",
         "stackgroup": "two",
         "type": "scatter",
         "x": [
          0,
          1,
          2,
          3,
          4,
          5,
          6,
          7,
          8,
          9,
          10,
          11,
          12,
          13,
          14,
          15,
          16,
          17,
          18,
          19,
          20,
          21,
          22,
          23
         ],
         "y": [
          -450,
          -450,
          -450,
          -450,
          -450,
          -450,
          0,
          0,
          0,
          -950,
          -950,
          -950,
          -950,
          -950,
          -950,
          0,
          0,
          0,
          -350,
          -350,
          -419.99999999999545,
          -350.00000000000273,
          0,
          0
         ]
        },
        {
         "line": {
          "color": "red",
          "dash": "dash"
         },
         "name": "Production total",
         "type": "scatter",
         "x": [
          0,
          1,
          2,
          3,
          4,
          5,
          6,
          7,
          8,
          9,
          10,
          11,
          12,
          13,
          14,
          15,
          16,
          17,
          18,
          19,
          20,
          21,
          22,
          23
         ],
         "y": [
          15000,
          15000,
          15000,
          15000,
          15000,
          15000,
          30000,
          30000,
          30000,
          25000,
          25000,
          25000,
          25000,
          25000,
          25000,
          40000,
          40000,
          40000,
          27000,
          27000,
          27000,
          27000,
          27000,
          27000
         ]
        },
        {
         "line": {
          "color": "black"
         },
         "name": "Coût MWh",
         "type": "scatter",
         "x": [
          0,
          1,
          2,
          3,
          4,
          5,
          6,
          7,
          8,
          9,
          10,
          11,
          12,
          13,
          14,
          15,
          16,
          17,
          18,
          19,
          20,
          21,
          22,
          23
         ],
         "y": [
          1.45,
          1.45,
          1.45,
          1.45,
          1.45,
          1.45,
          1.845,
          1.645,
          1.645,
          1.65,
          1.65,
          1.65,
          1.65,
          1.65,
          1.65,
          1.71,
          1.6675,
          1.6675,
          1.5333333333333334,
          1.5333333333333334,
          1.5385185185185182,
          1.5333333333333337,
          1.6055555555555556,
          1.6055555555555556
         ],
         "yaxis": "y2"
        },
        {
         "line": {
          "color": "grey"
         },
         "name": "Niveau réservoir",
         "type": "scatter",
         "x": [
          0,
          1,
          2,
          3,
          4,
          5,
          6,
          7,
          8,
          9,
          10,
          11,
          12,
          13,
          14,
          15,
          16,
          17,
          18,
          19,
          20,
          21,
          22,
          23
         ],
         "y": [
          0.15,
          0.3,
          0.44999999999999996,
          0.6,
          0.75,
          0.9,
          0.9,
          0.9,
          0.9,
          1.2166666666666668,
          1.5333333333333334,
          1.85,
          2.166666666666667,
          2.4833333333333334,
          2.8,
          2.33,
          1.86,
          1.3900000000000001,
          1.0366666666666668,
          0.6833333333333336,
          0.35333333333333206,
          -3.3306690738754696e-16,
          -3.3306690738754696e-16,
          -3.3306690738754696e-16
         ],
         "yaxis": "y3"
        }
       ],
       "layout": {
        "hovermode": "x",
        "template": {
         "data": {
          "bar": [
           {
            "error_x": {
             "color": "#2a3f5f"
            },
            "error_y": {
             "color": "#2a3f5f"
            },
            "marker": {
             "line": {
              "color": "#E5ECF6",
              "width": 0.5
             },
             "pattern": {
              "fillmode": "overlay",
              "size": 10,
              "solidity": 0.2
             }
            },
            "type": "bar"
           }
          ],
          "barpolar": [
           {
            "marker": {
             "line": {
              "color": "#E5ECF6",
              "width": 0.5
             },
             "pattern": {
              "fillmode": "overlay",
              "size": 10,
              "solidity": 0.2
             }
            },
            "type": "barpolar"
           }
          ],
          "carpet": [
           {
            "aaxis": {
             "endlinecolor": "#2a3f5f",
             "gridcolor": "white",
             "linecolor": "white",
             "minorgridcolor": "white",
             "startlinecolor": "#2a3f5f"
            },
            "baxis": {
             "endlinecolor": "#2a3f5f",
             "gridcolor": "white",
             "linecolor": "white",
             "minorgridcolor": "white",
             "startlinecolor": "#2a3f5f"
            },
            "type": "carpet"
           }
          ],
          "choropleth": [
           {
            "colorbar": {
             "outlinewidth": 0,
             "ticks": ""
            },
            "type": "choropleth"
           }
          ],
          "contour": [
           {
            "colorbar": {
             "outlinewidth": 0,
             "ticks": ""
            },
            "colorscale": [
             [
              0,
              "#0d0887"
             ],
             [
              0.1111111111111111,
              "#46039f"
             ],
             [
              0.2222222222222222,
              "#7201a8"
             ],
             [
              0.3333333333333333,
              "#9c179e"
             ],
             [
              0.4444444444444444,
              "#bd3786"
             ],
             [
              0.5555555555555556,
              "#d8576b"
             ],
             [
              0.6666666666666666,
              "#ed7953"
             ],
             [
              0.7777777777777778,
              "#fb9f3a"
             ],
             [
              0.8888888888888888,
              "#fdca26"
             ],
             [
              1,
              "#f0f921"
             ]
            ],
            "type": "contour"
           }
          ],
          "contourcarpet": [
           {
            "colorbar": {
             "outlinewidth": 0,
             "ticks": ""
            },
            "type": "contourcarpet"
           }
          ],
          "heatmap": [
           {
            "colorbar": {
             "outlinewidth": 0,
             "ticks": ""
            },
            "colorscale": [
             [
              0,
              "#0d0887"
             ],
             [
              0.1111111111111111,
              "#46039f"
             ],
             [
              0.2222222222222222,
              "#7201a8"
             ],
             [
              0.3333333333333333,
              "#9c179e"
             ],
             [
              0.4444444444444444,
              "#bd3786"
             ],
             [
              0.5555555555555556,
              "#d8576b"
             ],
             [
              0.6666666666666666,
              "#ed7953"
             ],
             [
              0.7777777777777778,
              "#fb9f3a"
             ],
             [
              0.8888888888888888,
              "#fdca26"
             ],
             [
              1,
              "#f0f921"
             ]
            ],
            "type": "heatmap"
           }
          ],
          "heatmapgl": [
           {
            "colorbar": {
             "outlinewidth": 0,
             "ticks": ""
            },
            "colorscale": [
             [
              0,
              "#0d0887"
             ],
             [
              0.1111111111111111,
              "#46039f"
             ],
             [
              0.2222222222222222,
              "#7201a8"
             ],
             [
              0.3333333333333333,
              "#9c179e"
             ],
             [
              0.4444444444444444,
              "#bd3786"
             ],
             [
              0.5555555555555556,
              "#d8576b"
             ],
             [
              0.6666666666666666,
              "#ed7953"
             ],
             [
              0.7777777777777778,
              "#fb9f3a"
             ],
             [
              0.8888888888888888,
              "#fdca26"
             ],
             [
              1,
              "#f0f921"
             ]
            ],
            "type": "heatmapgl"
           }
          ],
          "histogram": [
           {
            "marker": {
             "pattern": {
              "fillmode": "overlay",
              "size": 10,
              "solidity": 0.2
             }
            },
            "type": "histogram"
           }
          ],
          "histogram2d": [
           {
            "colorbar": {
             "outlinewidth": 0,
             "ticks": ""
            },
            "colorscale": [
             [
              0,
              "#0d0887"
             ],
             [
              0.1111111111111111,
              "#46039f"
             ],
             [
              0.2222222222222222,
              "#7201a8"
             ],
             [
              0.3333333333333333,
              "#9c179e"
             ],
             [
              0.4444444444444444,
              "#bd3786"
             ],
             [
              0.5555555555555556,
              "#d8576b"
             ],
             [
              0.6666666666666666,
              "#ed7953"
             ],
             [
              0.7777777777777778,
              "#fb9f3a"
             ],
             [
              0.8888888888888888,
              "#fdca26"
             ],
             [
              1,
              "#f0f921"
             ]
            ],
            "type": "histogram2d"
           }
          ],
          "histogram2dcontour": [
           {
            "colorbar": {
             "outlinewidth": 0,
             "ticks": ""
            },
            "colorscale": [
             [
              0,
              "#0d0887"
             ],
             [
              0.1111111111111111,
              "#46039f"
             ],
             [
              0.2222222222222222,
              "#7201a8"
             ],
             [
              0.3333333333333333,
              "#9c179e"
             ],
             [
              0.4444444444444444,
              "#bd3786"
             ],
             [
              0.5555555555555556,
              "#d8576b"
             ],
             [
              0.6666666666666666,
              "#ed7953"
             ],
             [
              0.7777777777777778,
              "#fb9f3a"
             ],
             [
              0.8888888888888888,
              "#fdca26"
             ],
             [
              1,
              "#f0f921"
             ]
            ],
            "type": "histogram2dcontour"
           }
          ],
          "mesh3d": [
           {
            "colorbar": {
             "outlinewidth": 0,
             "ticks": ""
            },
            "type": "mesh3d"
           }
          ],
          "parcoords": [
           {
            "line": {
             "colorbar": {
              "outlinewidth": 0,
              "ticks": ""
             }
            },
            "type": "parcoords"
           }
          ],
          "pie": [
           {
            "automargin": true,
            "type": "pie"
           }
          ],
          "scatter": [
           {
            "fillpattern": {
             "fillmode": "overlay",
             "size": 10,
             "solidity": 0.2
            },
            "type": "scatter"
           }
          ],
          "scatter3d": [
           {
            "line": {
             "colorbar": {
              "outlinewidth": 0,
              "ticks": ""
             }
            },
            "marker": {
             "colorbar": {
              "outlinewidth": 0,
              "ticks": ""
             }
            },
            "type": "scatter3d"
           }
          ],
          "scattercarpet": [
           {
            "marker": {
             "colorbar": {
              "outlinewidth": 0,
              "ticks": ""
             }
            },
            "type": "scattercarpet"
           }
          ],
          "scattergeo": [
           {
            "marker": {
             "colorbar": {
              "outlinewidth": 0,
              "ticks": ""
             }
            },
            "type": "scattergeo"
           }
          ],
          "scattergl": [
           {
            "marker": {
             "colorbar": {
              "outlinewidth": 0,
              "ticks": ""
             }
            },
            "type": "scattergl"
           }
          ],
          "scattermapbox": [
           {
            "marker": {
             "colorbar": {
              "outlinewidth": 0,
              "ticks": ""
             }
            },
            "type": "scattermapbox"
           }
          ],
          "scatterpolar": [
           {
            "marker": {
             "colorbar": {
              "outlinewidth": 0,
              "ticks": ""
             }
            },
            "type": "scatterpolar"
           }
          ],
          "scatterpolargl": [
           {
            "marker": {
             "colorbar": {
              "outlinewidth": 0,
              "ticks": ""
             }
            },
            "type": "scatterpolargl"
           }
          ],
          "scatterternary": [
           {
            "marker": {
             "colorbar": {
              "outlinewidth": 0,
              "ticks": ""
             }
            },
            "type": "scatterternary"
           }
          ],
          "surface": [
           {
            "colorbar": {
             "outlinewidth": 0,
             "ticks": ""
            },
            "colorscale": [
             [
              0,
              "#0d0887"
             ],
             [
              0.1111111111111111,
              "#46039f"
             ],
             [
              0.2222222222222222,
              "#7201a8"
             ],
             [
              0.3333333333333333,
              "#9c179e"
             ],
             [
              0.4444444444444444,
              "#bd3786"
             ],
             [
              0.5555555555555556,
              "#d8576b"
             ],
             [
              0.6666666666666666,
              "#ed7953"
             ],
             [
              0.7777777777777778,
              "#fb9f3a"
             ],
             [
              0.8888888888888888,
              "#fdca26"
             ],
             [
              1,
              "#f0f921"
             ]
            ],
            "type": "surface"
           }
          ],
          "table": [
           {
            "cells": {
             "fill": {
              "color": "#EBF0F8"
             },
             "line": {
              "color": "white"
             }
            },
            "header": {
             "fill": {
              "color": "#C8D4E3"
             },
             "line": {
              "color": "white"
             }
            },
            "type": "table"
           }
          ]
         },
         "layout": {
          "annotationdefaults": {
           "arrowcolor": "#2a3f5f",
           "arrowhead": 0,
           "arrowwidth": 1
          },
          "autotypenumbers": "strict",
          "coloraxis": {
           "colorbar": {
            "outlinewidth": 0,
            "ticks": ""
           }
          },
          "colorscale": {
           "diverging": [
            [
             0,
             "#8e0152"
            ],
            [
             0.1,
             "#c51b7d"
            ],
            [
             0.2,
             "#de77ae"
            ],
            [
             0.3,
             "#f1b6da"
            ],
            [
             0.4,
             "#fde0ef"
            ],
            [
             0.5,
             "#f7f7f7"
            ],
            [
             0.6,
             "#e6f5d0"
            ],
            [
             0.7,
             "#b8e186"
            ],
            [
             0.8,
             "#7fbc41"
            ],
            [
             0.9,
             "#4d9221"
            ],
            [
             1,
             "#276419"
            ]
           ],
           "sequential": [
            [
             0,
             "#0d0887"
            ],
            [
             0.1111111111111111,
             "#46039f"
            ],
            [
             0.2222222222222222,
             "#7201a8"
            ],
            [
             0.3333333333333333,
             "#9c179e"
            ],
            [
             0.4444444444444444,
             "#bd3786"
            ],
            [
             0.5555555555555556,
             "#d8576b"
            ],
            [
             0.6666666666666666,
             "#ed7953"
            ],
            [
             0.7777777777777778,
             "#fb9f3a"
            ],
            [
             0.8888888888888888,
             "#fdca26"
            ],
            [
             1,
             "#f0f921"
            ]
           ],
           "sequentialminus": [
            [
             0,
             "#0d0887"
            ],
            [
             0.1111111111111111,
             "#46039f"
            ],
            [
             0.2222222222222222,
             "#7201a8"
            ],
            [
             0.3333333333333333,
             "#9c179e"
            ],
            [
             0.4444444444444444,
             "#bd3786"
            ],
            [
             0.5555555555555556,
             "#d8576b"
            ],
            [
             0.6666666666666666,
             "#ed7953"
            ],
            [
             0.7777777777777778,
             "#fb9f3a"
            ],
            [
             0.8888888888888888,
             "#fdca26"
            ],
            [
             1,
             "#f0f921"
            ]
           ]
          },
          "colorway": [
           "#636efa",
           "#EF553B",
           "#00cc96",
           "#ab63fa",
           "#FFA15A",
           "#19d3f3",
           "#FF6692",
           "#B6E880",
           "#FF97FF",
           "#FECB52"
          ],
          "font": {
           "color": "#2a3f5f"
          },
          "geo": {
           "bgcolor": "white",
           "lakecolor": "white",
           "landcolor": "#E5ECF6",
           "showlakes": true,
           "showland": true,
           "subunitcolor": "white"
          },
          "hoverlabel": {
           "align": "left"
          },
          "hovermode": "closest",
          "mapbox": {
           "style": "light"
          },
          "paper_bgcolor": "white",
          "plot_bgcolor": "#E5ECF6",
          "polar": {
           "angularaxis": {
            "gridcolor": "white",
            "linecolor": "white",
            "ticks": ""
           },
           "bgcolor": "#E5ECF6",
           "radialaxis": {
            "gridcolor": "white",
            "linecolor": "white",
            "ticks": ""
           }
          },
          "scene": {
           "xaxis": {
            "backgroundcolor": "#E5ECF6",
            "gridcolor": "white",
            "gridwidth": 2,
            "linecolor": "white",
            "showbackground": true,
            "ticks": "",
            "zerolinecolor": "white"
           },
           "yaxis": {
            "backgroundcolor": "#E5ECF6",
            "gridcolor": "white",
            "gridwidth": 2,
            "linecolor": "white",
            "showbackground": true,
            "ticks": "",
            "zerolinecolor": "white"
           },
           "zaxis": {
            "backgroundcolor": "#E5ECF6",
            "gridcolor": "white",
            "gridwidth": 2,
            "linecolor": "white",
            "showbackground": true,
            "ticks": "",
            "zerolinecolor": "white"
           }
          },
          "shapedefaults": {
           "line": {
            "color": "#2a3f5f"
           }
          },
          "ternary": {
           "aaxis": {
            "gridcolor": "white",
            "linecolor": "white",
            "ticks": ""
           },
           "baxis": {
            "gridcolor": "white",
            "linecolor": "white",
            "ticks": ""
           },
           "bgcolor": "#E5ECF6",
           "caxis": {
            "gridcolor": "white",
            "linecolor": "white",
            "ticks": ""
           }
          },
          "title": {
           "x": 0.05
          },
          "xaxis": {
           "automargin": true,
           "gridcolor": "white",
           "linecolor": "white",
           "ticks": "",
           "title": {
            "standoff": 15
           },
           "zerolinecolor": "white",
           "zerolinewidth": 2
          },
          "yaxis": {
           "automargin": true,
           "gridcolor": "white",
           "linecolor": "white",
           "ticks": "",
           "title": {
            "standoff": 15
           },
           "zerolinecolor": "white",
           "zerolinewidth": 2
          }
         }
        },
        "title": {
         "text": "Répartition de la production électrique dans la journée - 5.2"
        },
        "yaxis": {
         "range": [
          -1045,
          44000
         ],
         "title": {
          "text": "MW"
         }
        },
        "yaxis2": {
         "anchor": "free",
         "overlaying": "y",
         "position": 1,
         "range": [
          1.3775,
          2.0295
         ],
         "side": "right",
         "title": {
          "text": "€/MWh"
         }
        },
        "yaxis3": {
         "anchor": "free",
         "overlaying": "y",
         "position": 0.05,
         "range": [
          -3.663735981263017e-16,
          3.08
         ],
         "side": "left",
         "title": {
          "text": "Réservoir (m)"
         }
        }
       }
      }
     },
     "metadata": {},
     "output_type": "display_data"
    }
   ],
   "source": [
    "from utils_viz import df_results52, Results_viz52\n",
    "df = df_results52(dict_N,dict_P,dict_Nstart,dict_Thermique,dict_H,dict_Hstart,dict_Hydro,dict_S,debit_S,consommation)\n",
    "fig = Results_viz52(df,dict_Thermique,dict_Hydro)\n",
    "A = \"5.2\"\n",
    "fig.update_layout(\n",
    "    title = f\"Répartition de la production électrique dans la journée - {A}\"\n",
    ")\n",
    "fig.show()\n",
    "fig.write_html(f\"HTML/Répartition de la production électrique dans la journée - {A}.html\")"
   ]
  },
  {
   "cell_type": "markdown",
   "metadata": {},
   "source": [
    "### 5.3 Paliers de fonctionnement\n",
    "\n",
    "Les variables de décisions concernant l'hydroélectricité deviennent :\n",
    "$$\n",
    "H_t^{(Y,n)} \\in \\{0,1\\} = \\text{La centrale hydroélectrique } Y \\text{ fonctionne au palier } n \\text{ à l'instant } t\n",
    "$$\n",
    "$$\n",
    "H_{start,t}^{(Y)} \\in \\{0,1\\} = \\text{  La centrale hydroélectrique $Y$ démarre à l'instant $t$}\n",
    "$$\n",
    "Les contraintes suivantes sont modifiées :\n",
    "\n",
    "$$\n",
    "\\text{Equilibre offre-demande : } \\sum_X P_t^{(X)} + \\sum_{Y,n} H_t^{(Y,n)}P^{(Y,n)}-S_t= D_t\n",
    "$$\n",
    "$$\n",
    "\\text{Réserve de puissance : } \\sum_X N_t^{(X)}P_{max}^{(X)} + \\sum_Y P^{(Y,n_{max})}\\geq D_t\\times 1,15\n",
    "$$\n",
    "$$\n",
    "\\text{Niveau réservoir : } \\sum_t S_t d^{(S)} = \\sum_{t,Y,n} H_t^{(Y,n)}d^{(Y,n)}\n",
    "$$\n",
    "\n",
    "Les contraintes sur les démarrages et les paliers deviennent :\n",
    "$$\n",
    "\\text{Un seul palier fonctionne à la fois , }\\sum_n H_t^{(Y,n)} \\leq 1\n",
    "$$\n",
    "$$\n",
    "\\text{ Si un palier fonctionne alors il y avait déjà un palier actif ou la centrale est démarrée , } H_t^{(Y,n)} \\leq \\sum_n H_{t-1}^{(Y,n)} + H_{start,t}^{(Y)}\n",
    "$$\n",
    "Modification de la fonction objectif :\n",
    "$$\n",
    "\\text{Minimiser} \\sum_X \\sum_t (P_t^{(X)} - P_{min}^{(X)}N_t^{(X)}) C_{MWh}^{(X)} + N_t^{(X)}C_{base}^{(X)} + N_{start,t}^{(X)}C_{start}^{(X)} + \\sum_{Y,n} \\sum_t H_t^{(Y,n)}C_{base}^{(Y,n)} + \\sum_Y H_{start,t}^{(Y)}C_{start}^{(Y)}\n",
    "$$\n",
    "Où $P^{(Y,n)}$ est la puissance de la centrale $Y$ au palier $n$, $d^{(Y,n)}$ est l'abaissement sur une heure quand la centrale $Y$ fonctionne au palier $n$ et $C_{base}^{(Y,n)}$ est le coût du fonctionnement de la centrale $Y$ pendant une heure de fonctionnement au palier $n$"
   ]
  },
  {
   "cell_type": "code",
   "execution_count": 22,
   "metadata": {},
   "outputs": [
    {
     "name": "stdout",
     "output_type": "stream",
     "text": [
      "Gurobi Optimizer version 9.5.2 build v9.5.2rc0 (win64)\n",
      "Thread count: 4 physical cores, 8 logical processors, using up to 8 threads\n",
      "Optimize a model with 577 rows, 480 columns and 2184 nonzeros\n",
      "Model fingerprint: 0x72ec853a\n",
      "Variable types: 96 continuous, 384 integer (240 binary)\n",
      "Coefficient statistics:\n",
      "  Matrix range     [3e-04, 4e+03]\n",
      "  Objective range  [1e+00, 2e+03]\n",
      "  Bounds range     [1e+00, 1e+01]\n",
      "  RHS range        [1e+00, 4e+04]\n",
      "Presolve removed 264 rows and 48 columns\n",
      "Presolve time: 0.00s\n",
      "Presolved: 313 rows, 432 columns, 1272 nonzeros\n",
      "Variable types: 96 continuous, 336 integer (192 binary)\n",
      "Found heuristic solution: objective 1114770.0000\n",
      "Found heuristic solution: objective 1026475.0000\n",
      "\n",
      "Root relaxation: objective 9.830546e+05, 174 iterations, 0.00 seconds (0.00 work units)\n",
      "\n",
      "    Nodes    |    Current Node    |     Objective Bounds      |     Work\n",
      " Expl Unexpl |  Obj  Depth IntInf | Incumbent    BestBd   Gap | It/Node Time\n",
      "\n",
      "     0     0 983054.622    0   32 1026475.00 983054.622  4.23%     -    0s\n",
      "H    0     0                    991400.00000 983054.622  0.84%     -    0s\n",
      "H    0     0                    985225.00000 983054.622  0.22%     -    0s\n",
      "H    0     0                    984810.00000 983054.622  0.18%     -    0s\n",
      "H    0     0                    984786.00000 983535.974  0.13%     -    0s\n",
      "H    0     0                    984610.00000 983535.974  0.11%     -    0s\n",
      "     0     0 983535.974    0   13 984610.000 983535.974  0.11%     -    0s\n",
      "     0     0 983540.974    0   19 984610.000 983540.974  0.11%     -    0s\n",
      "     0     0 983574.383    0    9 984610.000 983574.383  0.11%     -    0s\n",
      "H    0     0                    984310.00000 983574.383  0.07%     -    0s\n",
      "H    0     0                    984118.00000 983574.383  0.06%     -    0s\n",
      "H    0     0                    983924.00000 983574.383  0.04%     -    0s\n",
      "     0     0 983581.429    0    7 983924.000 983581.429  0.03%     -    0s\n",
      "     0     0 983581.429    0   12 983924.000 983581.429  0.03%     -    0s\n",
      "     0     0 983581.429    0    4 983924.000 983581.429  0.03%     -    0s\n",
      "     0     0 983581.429    0    6 983924.000 983581.429  0.03%     -    0s\n",
      "     0     0 983581.429    0    6 983924.000 983581.429  0.03%     -    0s\n",
      "     0     2 983581.429    0    6 983924.000 983581.429  0.03%     -    0s\n",
      "H   29    35                    983860.00000 983678.486  0.02%   6.3    0s\n",
      "H   31    35                    983835.00000 983678.486  0.02%   6.0    0s\n",
      "H   33    35                    983730.00000 983678.486  0.01%   5.7    0s\n",
      "\n",
      "Cutting planes:\n",
      "  Gomory: 6\n",
      "  MIR: 25\n",
      "\n",
      "Explored 37 nodes (546 simplex iterations) in 0.12 seconds (0.04 work units)\n",
      "Thread count was 8 (of 8 available processors)\n",
      "\n",
      "Solution count 10: 983730 983835 983860 ... 985225\n",
      "\n",
      "Optimal solution found (tolerance 1.00e-04)\n",
      "Best objective 9.837300000000e+05, best bound 9.836784859155e+05, gap 0.0052%\n"
     ]
    }
   ],
   "source": [
    "from utils import Centrale_hydro2\n",
    "from utils import variables_decision_hydraulique_palier\n",
    "from utils import contraintes_reserve_palier, contraintes_reservoir_palier, contraintes_hydraulique_palier, contraintes_equilibre_palier\n",
    "\n",
    "model = gp.Model(name=\"5.3\")\n",
    "\n",
    "dict_Hydro = {\n",
    "    9 : Centrale_hydro2(\n",
    "    name = \"Hydro 900 MW\",\n",
    "    P = {1 : 900, 2 : 950, 3 : 1000, 4 : 1100},\n",
    "    Cstart = 1500,\n",
    "    Cheure= {1 : 90, 2 : 95, 3 : 105, 4 : 120},\n",
    "    Palier = [1, 2, 3, 4],\n",
    "    debit= {1 : 0.31, 2 : 0.33, 3 : 0.35, 4 : 0.38}\n",
    "),\n",
    "    14 : Centrale_hydro2(\n",
    "    name = \"Hydro 1400 MW\",\n",
    "    P = {1 : 1400, 2 : 1500, 3 : 1600, 4 : 1700},\n",
    "    Cstart = 1200,\n",
    "    Cheure= {1 : 150, 2 : 165, 3 : 185, 4 : 210},\n",
    "    Palier = [1, 2, 3, 4],\n",
    "    debit= {1 : 0.47, 2 : 0.50, 3 : 0.53, 4 : 0.56}\n",
    ")\n",
    "}\n",
    "\n",
    "dict_H, dict_Hstart = variables_decision_hydraulique_palier(model,dict_Hydro)\n",
    "dict_N, dict_Nstart, dict_P = variable_decision_thermique_avec_demarrage(model,dict_Thermique)\n",
    "dict_S = {t : model.addVar(lb=0,vtype=gp.GRB.CONTINUOUS,name=f\"pompage à l'instant {t}\") for t in range(24)}\n",
    "debit_S = 1/3000 # débit de pompage par MWh ou par MW pendant une heure\n",
    "\n",
    "model.setObjective(\n",
    "    gp.quicksum([dict_N[X,t] * (dict_Thermique[X].Cbase - dict_Thermique[X].Pmin*dict_Thermique[X].Cmwh) for X in dict_Thermique for t in range(24)]) + \n",
    "    gp.quicksum([dict_P[X,t] * dict_Thermique[X].Cmwh for X in dict_Thermique for t in range(24)])+ \n",
    "    gp.quicksum([dict_Nstart[X,t]*dict_Thermique[X].Cstart for X in dict_Thermique for t in range(24)])+\n",
    "    gp.quicksum([dict_H[Y,n,t] * dict_Hydro[Y].Cheure[n] for Y in dict_Hydro for t in range(24) for n in dict_Hydro[Y].Palier])+\n",
    "    gp.quicksum([dict_Hstart[Y,t] * dict_Hydro[Y].Cstart for Y in dict_Hydro for t in range(24)]),\n",
    "    gp.GRB.MINIMIZE\n",
    "    )\n",
    "\n",
    "contraintes_demarrage(model,dict_N,dict_Nstart,dict_Thermique,cyclique=True)\n",
    "contraintes_puissance_thermique(model,dict_N,dict_P,dict_Thermique)\n",
    "contraintes_equilibre_palier(model,dict_P,dict_Thermique,dict_H,dict_Hydro,dict_S,consommation)\n",
    "contraintes_reserve_palier(model,dict_N,dict_Thermique,dict_Hydro,consommation)\n",
    "contraintes_reservoir_palier(model,dict_H,dict_Hydro,dict_S,debit_S)\n",
    "contraintes_hydraulique_palier(model,dict_H,dict_Hydro,dict_Hstart)\n",
    "\n",
    "model.optimize()"
   ]
  },
  {
   "cell_type": "code",
   "execution_count": 23,
   "metadata": {},
   "outputs": [],
   "source": [
    "def df_results53(dict_N,dict_P,dict_Nstart,dict_Thermique,dict_H,dict_Hstart,dict_Hydro,dict_S,debit_S,consommation):\n",
    "    df = pd.DataFrame()\n",
    "    df[\"h\"] = range(24) \n",
    "    df[\"Consommation (MW)\"] = consommation\n",
    "    df[\"Production total\"] = 0\n",
    "    df[\"Coût total\"] = 0\n",
    "    for X in dict_Thermique:\n",
    "        df[f\"Nb centrale {X}\"] = [int(dict_N[X,t].X) for t in range(24)]\n",
    "        df[f\"Puissance tot {X}\"] = [dict_P[X,t].X for t in range(24)]\n",
    "        df[f\"Coût {X}\"] = [dict_N[X,t].X * dict_Thermique[X].Cbase + (dict_P[X,t].X - dict_N[X,t].X * dict_Thermique[X].Pmin) * dict_Thermique[X].Cmwh + dict_Nstart[X,t].X*dict_Thermique[X].Cstart for t in range(24)]\n",
    "        df[\"Production total\"] += df[f\"Puissance tot {X}\"]\n",
    "        df[\"Coût total\"] += df[f\"Coût {X}\"]\n",
    "    for Y in dict_Hydro:\n",
    "        for n in dict_Hydro[Y].Palier:\n",
    "            df[f\"Fonctionnement {Y}, palier {n}\"] = [dict_H[Y,n,t].X for t in range(24)]\n",
    "            df[f\"Puissance tot {Y}, palier {n}\"] = [dict_H[Y,n,t].X * dict_Hydro[Y].P[n] for t in range(24)]\n",
    "            df[f\"Coût {Y}, palier {n}\"] = [dict_H[Y,n,t].X * dict_Hydro[Y].Cheure[n] for t in range(24)]\n",
    "        df[f\"Démarrage {Y}\"] = [dict_Hstart[Y,t].X for t in range(24)]\n",
    "        df[f\"Fonctionnement {Y}\"] = [sum(dict_H[Y,n,t].X for n in dict_Hydro[Y].Palier) for t in range(24)]\n",
    "        df[f\"Puissance tot {Y}\"] = df[[f\"Puissance tot {Y}, palier {n}\" for n in dict_Hydro[Y].Palier]].sum(1)\n",
    "        df[f\"Coût {Y}\"] = df[[f\"Coût {Y}, palier {n}\" for n in dict_Hydro[Y].Palier]].sum(1) + pd.DataFrame([dict_Hstart[Y,t].X * dict_Hydro[Y].Cstart for t in range(24)])[0]\n",
    "        df[\"Production total\"] += df[f\"Puissance tot {Y}\"]\n",
    "        df[\"Coût total\"] += df[f\"Coût {Y}\"]\n",
    "    df[\"Pompage\"] = [-dict_S[t].X for t in range(24)]\n",
    "    df[\"Production total\"] += df[\"Pompage\"]\n",
    "    df[\"Réservoir variation\"] = [dict_S[t].X * debit_S - sum([dict_H[Y,n,t].X * dict_Hydro[Y].debit[n] for Y in dict_Hydro for n in dict_Hydro[Y].Palier]) for t in range(24)]\n",
    "    df[\"Réservoir\"] = df[\"Réservoir variation\"].cumsum()\n",
    "    df[\"Coût MWh\"] = df[\"Coût total\"]/df[\"Production total\"]\n",
    "    return df\n"
   ]
  },
  {
   "cell_type": "code",
   "execution_count": 24,
   "metadata": {},
   "outputs": [
    {
     "data": {
      "application/vnd.plotly.v1+json": {
       "config": {
        "plotlyServerURL": "https://plot.ly"
       },
       "data": [
        {
         "name": "Thermique A",
         "stackgroup": "one",
         "type": "scatter",
         "x": [
          0,
          1,
          2,
          3,
          4,
          5,
          6,
          7,
          8,
          9,
          10,
          11,
          12,
          13,
          14,
          15,
          16,
          17,
          18,
          19,
          20,
          21,
          22,
          23
         ],
         "y": [
          10199.999999999993,
          10199.999999999993,
          10199.999999999993,
          10199.999999999993,
          10199.999999999993,
          10199.999999999993,
          11650,
          11650,
          11650,
          10199.999999999993,
          10200,
          10199.999999999993,
          10200,
          10200,
          10199.999999999993,
          19950,
          19950,
          19950,
          10199.999999999995,
          10260.00000000008,
          10200,
          10400,
          10200,
          10200
         ]
        },
        {
         "name": "Thermique B",
         "stackgroup": "one",
         "type": "scatter",
         "x": [
          0,
          1,
          2,
          3,
          4,
          5,
          6,
          7,
          8,
          9,
          10,
          11,
          12,
          13,
          14,
          15,
          16,
          17,
          18,
          19,
          20,
          21,
          22,
          23
         ],
         "y": [
          8750,
          8750,
          8750,
          8750,
          8750,
          8750,
          15750,
          15750,
          15750,
          15750,
          15750,
          15750,
          15750,
          15750,
          15750,
          15750,
          15750,
          15750,
          15750,
          15750,
          14000,
          14000,
          14000,
          14000
         ]
        },
        {
         "name": "Thermique C",
         "stackgroup": "one",
         "type": "scatter",
         "x": [
          0,
          1,
          2,
          3,
          4,
          5,
          6,
          7,
          8,
          9,
          10,
          11,
          12,
          13,
          14,
          15,
          16,
          17,
          18,
          19,
          20,
          21,
          22,
          23
         ],
         "y": [
          0,
          0,
          0,
          0,
          0,
          0,
          0,
          0,
          0,
          0,
          0,
          0,
          0,
          0,
          0,
          1500,
          1500,
          1500,
          0,
          0,
          0,
          0,
          0,
          0
         ]
        },
        {
         "name": "Hydraulique 9",
         "stackgroup": "one",
         "type": "scatter",
         "x": [
          0,
          1,
          2,
          3,
          4,
          5,
          6,
          7,
          8,
          9,
          10,
          11,
          12,
          13,
          14,
          15,
          16,
          17,
          18,
          19,
          20,
          21,
          22,
          23
         ],
         "y": [
          0,
          0,
          0,
          0,
          0,
          0,
          900,
          900,
          900,
          0,
          0,
          0,
          0,
          0,
          0,
          1100,
          1100,
          1100,
          0,
          0,
          1100,
          900,
          1100,
          1100
         ]
        },
        {
         "name": "Hydraulique 14",
         "stackgroup": "one",
         "type": "scatter",
         "x": [
          0,
          1,
          2,
          3,
          4,
          5,
          6,
          7,
          8,
          9,
          10,
          11,
          12,
          13,
          14,
          15,
          16,
          17,
          18,
          19,
          20,
          21,
          22,
          23
         ],
         "y": [
          0,
          0,
          0,
          0,
          0,
          0,
          1700,
          1700,
          1700,
          0,
          0,
          0,
          0,
          0,
          0,
          1700,
          1700,
          1700,
          1500,
          1500,
          1700,
          1700,
          1700,
          1700
         ]
        },
        {
         "name": "Pompage",
         "stackgroup": "two",
         "type": "scatter",
         "x": [
          0,
          1,
          2,
          3,
          4,
          5,
          6,
          7,
          8,
          9,
          10,
          11,
          12,
          13,
          14,
          15,
          16,
          17,
          18,
          19,
          20,
          21,
          22,
          23
         ],
         "y": [
          -3949.9999999999927,
          -3949.9999999999927,
          -3949.9999999999927,
          -3949.9999999999927,
          -3949.9999999999927,
          -3949.9999999999927,
          0,
          0,
          0,
          -949.9999999999927,
          -950,
          -949.9999999999927,
          -950,
          -950,
          -949.9999999999927,
          0,
          0,
          0,
          -449.99999999999454,
          -510.00000000007975,
          0,
          0,
          0,
          0
         ]
        },
        {
         "line": {
          "color": "red",
          "dash": "dash"
         },
         "name": "Production total",
         "type": "scatter",
         "x": [
          0,
          1,
          2,
          3,
          4,
          5,
          6,
          7,
          8,
          9,
          10,
          11,
          12,
          13,
          14,
          15,
          16,
          17,
          18,
          19,
          20,
          21,
          22,
          23
         ],
         "y": [
          15000,
          15000,
          15000,
          15000,
          15000,
          15000,
          30000,
          30000,
          30000,
          25000,
          25000,
          25000,
          25000,
          25000,
          25000,
          40000,
          40000,
          40000,
          27000,
          27000,
          27000,
          27000,
          27000,
          27000
         ]
        },
        {
         "line": {
          "color": "black"
         },
         "name": "Coût MWh",
         "type": "scatter",
         "x": [
          0,
          1,
          2,
          3,
          4,
          5,
          6,
          7,
          8,
          9,
          10,
          11,
          12,
          13,
          14,
          15,
          16,
          17,
          18,
          19,
          20,
          21,
          22,
          23
         ],
         "y": [
          1.8833333333333324,
          1.8833333333333324,
          1.8833333333333324,
          1.8833333333333324,
          1.8833333333333324,
          1.8833333333333324,
          1.615,
          1.4816666666666667,
          1.4816666666666667,
          1.6499999999999995,
          1.65,
          1.6499999999999995,
          1.65,
          1.65,
          1.6499999999999995,
          1.6145,
          1.602,
          1.602,
          1.5338888888888884,
          1.5383333333333393,
          1.4196296296296296,
          1.4333333333333333,
          1.4196296296296296,
          1.4196296296296296
         ],
         "yaxis": "y2"
        },
        {
         "line": {
          "color": "grey"
         },
         "name": "Niveau réservoir",
         "type": "scatter",
         "x": [
          0,
          1,
          2,
          3,
          4,
          5,
          6,
          7,
          8,
          9,
          10,
          11,
          12,
          13,
          14,
          15,
          16,
          17,
          18,
          19,
          20,
          21,
          22,
          23
         ],
         "y": [
          1.3166666666666642,
          2.6333333333333284,
          3.9499999999999926,
          5.266666666666657,
          6.5833333333333215,
          7.899999999999986,
          7.029999999999986,
          6.159999999999986,
          5.289999999999986,
          5.60666666666665,
          5.923333333333316,
          6.239999999999981,
          6.556666666666647,
          6.8733333333333135,
          7.189999999999978,
          6.249999999999978,
          5.309999999999977,
          4.369999999999977,
          4.019999999999975,
          3.6900000000000013,
          2.7500000000000013,
          1.8800000000000012,
          0.9400000000000012,
          1.1102230246251565e-15
         ],
         "yaxis": "y3"
        }
       ],
       "layout": {
        "hovermode": "x",
        "template": {
         "data": {
          "bar": [
           {
            "error_x": {
             "color": "#2a3f5f"
            },
            "error_y": {
             "color": "#2a3f5f"
            },
            "marker": {
             "line": {
              "color": "#E5ECF6",
              "width": 0.5
             },
             "pattern": {
              "fillmode": "overlay",
              "size": 10,
              "solidity": 0.2
             }
            },
            "type": "bar"
           }
          ],
          "barpolar": [
           {
            "marker": {
             "line": {
              "color": "#E5ECF6",
              "width": 0.5
             },
             "pattern": {
              "fillmode": "overlay",
              "size": 10,
              "solidity": 0.2
             }
            },
            "type": "barpolar"
           }
          ],
          "carpet": [
           {
            "aaxis": {
             "endlinecolor": "#2a3f5f",
             "gridcolor": "white",
             "linecolor": "white",
             "minorgridcolor": "white",
             "startlinecolor": "#2a3f5f"
            },
            "baxis": {
             "endlinecolor": "#2a3f5f",
             "gridcolor": "white",
             "linecolor": "white",
             "minorgridcolor": "white",
             "startlinecolor": "#2a3f5f"
            },
            "type": "carpet"
           }
          ],
          "choropleth": [
           {
            "colorbar": {
             "outlinewidth": 0,
             "ticks": ""
            },
            "type": "choropleth"
           }
          ],
          "contour": [
           {
            "colorbar": {
             "outlinewidth": 0,
             "ticks": ""
            },
            "colorscale": [
             [
              0,
              "#0d0887"
             ],
             [
              0.1111111111111111,
              "#46039f"
             ],
             [
              0.2222222222222222,
              "#7201a8"
             ],
             [
              0.3333333333333333,
              "#9c179e"
             ],
             [
              0.4444444444444444,
              "#bd3786"
             ],
             [
              0.5555555555555556,
              "#d8576b"
             ],
             [
              0.6666666666666666,
              "#ed7953"
             ],
             [
              0.7777777777777778,
              "#fb9f3a"
             ],
             [
              0.8888888888888888,
              "#fdca26"
             ],
             [
              1,
              "#f0f921"
             ]
            ],
            "type": "contour"
           }
          ],
          "contourcarpet": [
           {
            "colorbar": {
             "outlinewidth": 0,
             "ticks": ""
            },
            "type": "contourcarpet"
           }
          ],
          "heatmap": [
           {
            "colorbar": {
             "outlinewidth": 0,
             "ticks": ""
            },
            "colorscale": [
             [
              0,
              "#0d0887"
             ],
             [
              0.1111111111111111,
              "#46039f"
             ],
             [
              0.2222222222222222,
              "#7201a8"
             ],
             [
              0.3333333333333333,
              "#9c179e"
             ],
             [
              0.4444444444444444,
              "#bd3786"
             ],
             [
              0.5555555555555556,
              "#d8576b"
             ],
             [
              0.6666666666666666,
              "#ed7953"
             ],
             [
              0.7777777777777778,
              "#fb9f3a"
             ],
             [
              0.8888888888888888,
              "#fdca26"
             ],
             [
              1,
              "#f0f921"
             ]
            ],
            "type": "heatmap"
           }
          ],
          "heatmapgl": [
           {
            "colorbar": {
             "outlinewidth": 0,
             "ticks": ""
            },
            "colorscale": [
             [
              0,
              "#0d0887"
             ],
             [
              0.1111111111111111,
              "#46039f"
             ],
             [
              0.2222222222222222,
              "#7201a8"
             ],
             [
              0.3333333333333333,
              "#9c179e"
             ],
             [
              0.4444444444444444,
              "#bd3786"
             ],
             [
              0.5555555555555556,
              "#d8576b"
             ],
             [
              0.6666666666666666,
              "#ed7953"
             ],
             [
              0.7777777777777778,
              "#fb9f3a"
             ],
             [
              0.8888888888888888,
              "#fdca26"
             ],
             [
              1,
              "#f0f921"
             ]
            ],
            "type": "heatmapgl"
           }
          ],
          "histogram": [
           {
            "marker": {
             "pattern": {
              "fillmode": "overlay",
              "size": 10,
              "solidity": 0.2
             }
            },
            "type": "histogram"
           }
          ],
          "histogram2d": [
           {
            "colorbar": {
             "outlinewidth": 0,
             "ticks": ""
            },
            "colorscale": [
             [
              0,
              "#0d0887"
             ],
             [
              0.1111111111111111,
              "#46039f"
             ],
             [
              0.2222222222222222,
              "#7201a8"
             ],
             [
              0.3333333333333333,
              "#9c179e"
             ],
             [
              0.4444444444444444,
              "#bd3786"
             ],
             [
              0.5555555555555556,
              "#d8576b"
             ],
             [
              0.6666666666666666,
              "#ed7953"
             ],
             [
              0.7777777777777778,
              "#fb9f3a"
             ],
             [
              0.8888888888888888,
              "#fdca26"
             ],
             [
              1,
              "#f0f921"
             ]
            ],
            "type": "histogram2d"
           }
          ],
          "histogram2dcontour": [
           {
            "colorbar": {
             "outlinewidth": 0,
             "ticks": ""
            },
            "colorscale": [
             [
              0,
              "#0d0887"
             ],
             [
              0.1111111111111111,
              "#46039f"
             ],
             [
              0.2222222222222222,
              "#7201a8"
             ],
             [
              0.3333333333333333,
              "#9c179e"
             ],
             [
              0.4444444444444444,
              "#bd3786"
             ],
             [
              0.5555555555555556,
              "#d8576b"
             ],
             [
              0.6666666666666666,
              "#ed7953"
             ],
             [
              0.7777777777777778,
              "#fb9f3a"
             ],
             [
              0.8888888888888888,
              "#fdca26"
             ],
             [
              1,
              "#f0f921"
             ]
            ],
            "type": "histogram2dcontour"
           }
          ],
          "mesh3d": [
           {
            "colorbar": {
             "outlinewidth": 0,
             "ticks": ""
            },
            "type": "mesh3d"
           }
          ],
          "parcoords": [
           {
            "line": {
             "colorbar": {
              "outlinewidth": 0,
              "ticks": ""
             }
            },
            "type": "parcoords"
           }
          ],
          "pie": [
           {
            "automargin": true,
            "type": "pie"
           }
          ],
          "scatter": [
           {
            "fillpattern": {
             "fillmode": "overlay",
             "size": 10,
             "solidity": 0.2
            },
            "type": "scatter"
           }
          ],
          "scatter3d": [
           {
            "line": {
             "colorbar": {
              "outlinewidth": 0,
              "ticks": ""
             }
            },
            "marker": {
             "colorbar": {
              "outlinewidth": 0,
              "ticks": ""
             }
            },
            "type": "scatter3d"
           }
          ],
          "scattercarpet": [
           {
            "marker": {
             "colorbar": {
              "outlinewidth": 0,
              "ticks": ""
             }
            },
            "type": "scattercarpet"
           }
          ],
          "scattergeo": [
           {
            "marker": {
             "colorbar": {
              "outlinewidth": 0,
              "ticks": ""
             }
            },
            "type": "scattergeo"
           }
          ],
          "scattergl": [
           {
            "marker": {
             "colorbar": {
              "outlinewidth": 0,
              "ticks": ""
             }
            },
            "type": "scattergl"
           }
          ],
          "scattermapbox": [
           {
            "marker": {
             "colorbar": {
              "outlinewidth": 0,
              "ticks": ""
             }
            },
            "type": "scattermapbox"
           }
          ],
          "scatterpolar": [
           {
            "marker": {
             "colorbar": {
              "outlinewidth": 0,
              "ticks": ""
             }
            },
            "type": "scatterpolar"
           }
          ],
          "scatterpolargl": [
           {
            "marker": {
             "colorbar": {
              "outlinewidth": 0,
              "ticks": ""
             }
            },
            "type": "scatterpolargl"
           }
          ],
          "scatterternary": [
           {
            "marker": {
             "colorbar": {
              "outlinewidth": 0,
              "ticks": ""
             }
            },
            "type": "scatterternary"
           }
          ],
          "surface": [
           {
            "colorbar": {
             "outlinewidth": 0,
             "ticks": ""
            },
            "colorscale": [
             [
              0,
              "#0d0887"
             ],
             [
              0.1111111111111111,
              "#46039f"
             ],
             [
              0.2222222222222222,
              "#7201a8"
             ],
             [
              0.3333333333333333,
              "#9c179e"
             ],
             [
              0.4444444444444444,
              "#bd3786"
             ],
             [
              0.5555555555555556,
              "#d8576b"
             ],
             [
              0.6666666666666666,
              "#ed7953"
             ],
             [
              0.7777777777777778,
              "#fb9f3a"
             ],
             [
              0.8888888888888888,
              "#fdca26"
             ],
             [
              1,
              "#f0f921"
             ]
            ],
            "type": "surface"
           }
          ],
          "table": [
           {
            "cells": {
             "fill": {
              "color": "#EBF0F8"
             },
             "line": {
              "color": "white"
             }
            },
            "header": {
             "fill": {
              "color": "#C8D4E3"
             },
             "line": {
              "color": "white"
             }
            },
            "type": "table"
           }
          ]
         },
         "layout": {
          "annotationdefaults": {
           "arrowcolor": "#2a3f5f",
           "arrowhead": 0,
           "arrowwidth": 1
          },
          "autotypenumbers": "strict",
          "coloraxis": {
           "colorbar": {
            "outlinewidth": 0,
            "ticks": ""
           }
          },
          "colorscale": {
           "diverging": [
            [
             0,
             "#8e0152"
            ],
            [
             0.1,
             "#c51b7d"
            ],
            [
             0.2,
             "#de77ae"
            ],
            [
             0.3,
             "#f1b6da"
            ],
            [
             0.4,
             "#fde0ef"
            ],
            [
             0.5,
             "#f7f7f7"
            ],
            [
             0.6,
             "#e6f5d0"
            ],
            [
             0.7,
             "#b8e186"
            ],
            [
             0.8,
             "#7fbc41"
            ],
            [
             0.9,
             "#4d9221"
            ],
            [
             1,
             "#276419"
            ]
           ],
           "sequential": [
            [
             0,
             "#0d0887"
            ],
            [
             0.1111111111111111,
             "#46039f"
            ],
            [
             0.2222222222222222,
             "#7201a8"
            ],
            [
             0.3333333333333333,
             "#9c179e"
            ],
            [
             0.4444444444444444,
             "#bd3786"
            ],
            [
             0.5555555555555556,
             "#d8576b"
            ],
            [
             0.6666666666666666,
             "#ed7953"
            ],
            [
             0.7777777777777778,
             "#fb9f3a"
            ],
            [
             0.8888888888888888,
             "#fdca26"
            ],
            [
             1,
             "#f0f921"
            ]
           ],
           "sequentialminus": [
            [
             0,
             "#0d0887"
            ],
            [
             0.1111111111111111,
             "#46039f"
            ],
            [
             0.2222222222222222,
             "#7201a8"
            ],
            [
             0.3333333333333333,
             "#9c179e"
            ],
            [
             0.4444444444444444,
             "#bd3786"
            ],
            [
             0.5555555555555556,
             "#d8576b"
            ],
            [
             0.6666666666666666,
             "#ed7953"
            ],
            [
             0.7777777777777778,
             "#fb9f3a"
            ],
            [
             0.8888888888888888,
             "#fdca26"
            ],
            [
             1,
             "#f0f921"
            ]
           ]
          },
          "colorway": [
           "#636efa",
           "#EF553B",
           "#00cc96",
           "#ab63fa",
           "#FFA15A",
           "#19d3f3",
           "#FF6692",
           "#B6E880",
           "#FF97FF",
           "#FECB52"
          ],
          "font": {
           "color": "#2a3f5f"
          },
          "geo": {
           "bgcolor": "white",
           "lakecolor": "white",
           "landcolor": "#E5ECF6",
           "showlakes": true,
           "showland": true,
           "subunitcolor": "white"
          },
          "hoverlabel": {
           "align": "left"
          },
          "hovermode": "closest",
          "mapbox": {
           "style": "light"
          },
          "paper_bgcolor": "white",
          "plot_bgcolor": "#E5ECF6",
          "polar": {
           "angularaxis": {
            "gridcolor": "white",
            "linecolor": "white",
            "ticks": ""
           },
           "bgcolor": "#E5ECF6",
           "radialaxis": {
            "gridcolor": "white",
            "linecolor": "white",
            "ticks": ""
           }
          },
          "scene": {
           "xaxis": {
            "backgroundcolor": "#E5ECF6",
            "gridcolor": "white",
            "gridwidth": 2,
            "linecolor": "white",
            "showbackground": true,
            "ticks": "",
            "zerolinecolor": "white"
           },
           "yaxis": {
            "backgroundcolor": "#E5ECF6",
            "gridcolor": "white",
            "gridwidth": 2,
            "linecolor": "white",
            "showbackground": true,
            "ticks": "",
            "zerolinecolor": "white"
           },
           "zaxis": {
            "backgroundcolor": "#E5ECF6",
            "gridcolor": "white",
            "gridwidth": 2,
            "linecolor": "white",
            "showbackground": true,
            "ticks": "",
            "zerolinecolor": "white"
           }
          },
          "shapedefaults": {
           "line": {
            "color": "#2a3f5f"
           }
          },
          "ternary": {
           "aaxis": {
            "gridcolor": "white",
            "linecolor": "white",
            "ticks": ""
           },
           "baxis": {
            "gridcolor": "white",
            "linecolor": "white",
            "ticks": ""
           },
           "bgcolor": "#E5ECF6",
           "caxis": {
            "gridcolor": "white",
            "linecolor": "white",
            "ticks": ""
           }
          },
          "title": {
           "x": 0.05
          },
          "xaxis": {
           "automargin": true,
           "gridcolor": "white",
           "linecolor": "white",
           "ticks": "",
           "title": {
            "standoff": 15
           },
           "zerolinecolor": "white",
           "zerolinewidth": 2
          },
          "yaxis": {
           "automargin": true,
           "gridcolor": "white",
           "linecolor": "white",
           "ticks": "",
           "title": {
            "standoff": 15
           },
           "zerolinecolor": "white",
           "zerolinewidth": 2
          }
         }
        },
        "title": {
         "text": "Répartition de la production électrique dans la journée - 5.3"
        },
        "yaxis": {
         "range": [
          -4344.999999999993,
          44000
         ],
         "title": {
          "text": "MW"
         }
        },
        "yaxis2": {
         "anchor": "free",
         "overlaying": "y",
         "position": 1,
         "range": [
          1.348648148148148,
          2.071666666666666
         ],
         "side": "right",
         "title": {
          "text": "€/MWh"
         }
        },
        "yaxis3": {
         "anchor": "free",
         "overlaying": "y",
         "position": 0.05,
         "range": [
          1.2212453270876722e-15,
          8.689999999999985
         ],
         "side": "left",
         "title": {
          "text": "Réservoir (m)"
         }
        }
       }
      }
     },
     "metadata": {},
     "output_type": "display_data"
    }
   ],
   "source": [
    "df = df_results53(dict_N,dict_P,dict_Nstart,dict_Thermique,dict_H,dict_Hstart,dict_Hydro,dict_S,debit_S,consommation)\n",
    "fig = Results_viz52(df,dict_Thermique,dict_Hydro)\n",
    "A = \"5.3\"\n",
    "fig.update_layout(\n",
    "    title = f\"Répartition de la production électrique dans la journée - {A}\"\n",
    ")\n",
    "fig.show()\n",
    "fig.write_html(f\"HTML/Répartition de la production électrique dans la journée - {A}.html\")"
   ]
  },
  {
   "cell_type": "markdown",
   "metadata": {},
   "source": [
    "### 5.4 Exclusion pompage et génération hydro\n",
    "\n",
    "On introduit la variable de décision suivante :\n",
    "$$\n",
    "N^{S}_t \\in \\{0,1\\} = \\text{La pompage est en fonctionnement}\n",
    "$$\n",
    "On ajoute les contraintes suivante :\n",
    "$$\n",
    "\\text{Si une centrale hydroélectrique est activée alors le pompage est désactivé , } \\frac{1}{\\text{Nb centrale hydro}}\\sum_{Y,n}H_t^{Y,n} \\leq 1 - N_t^{(S)}\n",
    "$$\n",
    "$$\n",
    "\\text{Si aucune centrale hydroélectrique est allumée alors il peut y avoir du pompage , } S_t \\leq M \\times  N_t^{(S)}\n",
    "$$"
   ]
  },
  {
   "cell_type": "code",
   "execution_count": 25,
   "metadata": {},
   "outputs": [
    {
     "name": "stdout",
     "output_type": "stream",
     "text": [
      "Gurobi Optimizer version 9.5.2 build v9.5.2rc0 (win64)\n",
      "Thread count: 4 physical cores, 8 logical processors, using up to 8 threads\n",
      "Optimize a model with 625 rows, 504 columns and 2448 nonzeros\n",
      "Model fingerprint: 0x2871af22\n",
      "Variable types: 96 continuous, 408 integer (264 binary)\n",
      "Coefficient statistics:\n",
      "  Matrix range     [3e-04, 6e+04]\n",
      "  Objective range  [1e+00, 2e+03]\n",
      "  Bounds range     [1e+00, 1e+01]\n",
      "  RHS range        [1e+00, 4e+04]\n",
      "Presolve removed 288 rows and 48 columns\n",
      "Presolve time: 0.00s\n",
      "Presolved: 337 rows, 456 columns, 1368 nonzeros\n",
      "Variable types: 96 continuous, 360 integer (216 binary)\n",
      "Found heuristic solution: objective 1155935.0000\n",
      "Found heuristic solution: objective 1037700.0000\n",
      "Found heuristic solution: objective 1026475.0000\n",
      "\n",
      "Root relaxation: objective 9.830546e+05, 202 iterations, 0.00 seconds (0.00 work units)\n",
      "\n",
      "    Nodes    |    Current Node    |     Objective Bounds      |     Work\n",
      " Expl Unexpl |  Obj  Depth IntInf | Incumbent    BestBd   Gap | It/Node Time\n",
      "\n",
      "     0     0 983054.622    0   32 1026475.00 983054.622  4.23%     -    0s\n",
      "H    0     0                    991400.00000 983054.622  0.84%     -    0s\n",
      "H    0     0                    987535.00000 983054.622  0.45%     -    0s\n",
      "H    0     0                    987120.00000 983054.622  0.41%     -    0s\n",
      "     0     0 983536.082    0   25 987120.000 983536.082  0.36%     -    0s\n",
      "H    0     0                    986500.00000 983536.082  0.30%     -    0s\n",
      "     0     0 983539.676    0   31 986500.000 983539.676  0.30%     -    0s\n",
      "     0     0 983545.096    0   31 986500.000 983545.096  0.30%     -    0s\n",
      "H    0     0                    986490.00000 983545.096  0.30%     -    0s\n",
      "H    0     0                    986245.00000 983545.096  0.27%     -    0s\n",
      "H    0     0                    984510.00000 983545.096  0.10%     -    0s\n",
      "H    0     0                    984315.00000 983545.096  0.08%     -    0s\n",
      "H    0     0                    984080.00000 983592.569  0.05%     -    0s\n",
      "     0     0 983592.569    0   31 984080.000 983592.569  0.05%     -    0s\n",
      "     0     0 983598.857    0   31 984080.000 983598.857  0.05%     -    0s\n",
      "H    0     0                    984075.00000 983598.857  0.05%     -    0s\n",
      "H    0     0                    984070.00000 983598.857  0.05%     -    0s\n",
      "     0     0 983599.650    0   31 984070.000 983599.650  0.05%     -    0s\n",
      "H    0     0                    984030.00000 983600.645  0.04%     -    0s\n",
      "     0     0 983600.645    0   31 984030.000 983600.645  0.04%     -    0s\n",
      "     0     0 983600.816    0   36 984030.000 983600.816  0.04%     -    0s\n",
      "     0     0 983601.103    0   26 984030.000 983601.103  0.04%     -    0s\n",
      "     0     0 983601.103    0   26 984030.000 983601.103  0.04%     -    0s\n",
      "H    0     0                    983822.00000 983601.103  0.02%     -    0s\n",
      "     0     0 983601.103    0    9 983822.000 983601.103  0.02%     -    0s\n",
      "     0     0 983601.103    0   20 983822.000 983601.103  0.02%     -    0s\n",
      "     0     0 983601.103    0   25 983822.000 983601.103  0.02%     -    0s\n",
      "     0     0 983601.103    0   21 983822.000 983601.103  0.02%     -    0s\n",
      "     0     0 983604.525    0   21 983822.000 983604.525  0.02%     -    0s\n",
      "     0     0 983616.970    0   32 983822.000 983616.970  0.02%     -    0s\n",
      "     0     0 983620.908    0   32 983822.000 983620.908  0.02%     -    0s\n",
      "     0     0 983620.927    0   35 983822.000 983620.927  0.02%     -    0s\n",
      "     0     0 983622.813    0   39 983822.000 983622.813  0.02%     -    0s\n",
      "     0     0 983622.933    0   39 983822.000 983622.933  0.02%     -    0s\n",
      "     0     0 983624.044    0   44 983822.000 983624.044  0.02%     -    0s\n",
      "     0     0 983624.044    0   44 983822.000 983624.044  0.02%     -    0s\n",
      "     0     2 983624.044    0   44 983822.000 983624.044  0.02%     -    0s\n",
      "\n",
      "Cutting planes:\n",
      "  Gomory: 6\n",
      "  MIR: 26\n",
      "  Relax-and-lift: 15\n",
      "\n",
      "Explored 5 nodes (945 simplex iterations) in 0.24 seconds (0.08 work units)\n",
      "Thread count was 8 (of 8 available processors)\n",
      "\n",
      "Solution count 10: 983822 984030 984070 ... 986500\n",
      "\n",
      "Optimal solution found (tolerance 1.00e-04)\n",
      "Best objective 9.838220000000e+05, best bound 9.837300758352e+05, gap 0.0093%\n"
     ]
    }
   ],
   "source": [
    "from utils import contraintes_hydraulique_pompage\n",
    "\n",
    "model = gp.Model(\"5.4\")\n",
    "\n",
    "dict_H, dict_Hstart = variables_decision_hydraulique_palier(model,dict_Hydro)\n",
    "dict_N, dict_Nstart, dict_P = variable_decision_thermique_avec_demarrage(model,dict_Thermique)\n",
    "dict_S = {t : model.addVar(lb=0,vtype=gp.GRB.CONTINUOUS,name=f\"pompage à l'instant {t}\") for t in range(24)}\n",
    "dict_N_s = {t : model.addVar(lb=0,vtype=gp.GRB.BINARY,name=f\"fonctionnement pompe à l'instant {t}\") for t in range(24)}\n",
    "debit_S = 1/3000 # débit de pompage par MWh ou par MW pendant une heure\n",
    "M = sum([dict_Thermique[X].N * dict_Thermique[X].Pmax for X in dict_Thermique]) + sum([dict_Hydro[Y].P[dict_Hydro[Y].palier_max()] for Y in dict_Hydro])\n",
    "\n",
    "model.setObjective(\n",
    "    gp.quicksum([dict_N[X,t] * (dict_Thermique[X].Cbase - dict_Thermique[X].Pmin*dict_Thermique[X].Cmwh) for X in dict_Thermique for t in range(24)]) + \n",
    "    gp.quicksum([dict_P[X,t] * dict_Thermique[X].Cmwh for X in dict_Thermique for t in range(24)])+ \n",
    "    gp.quicksum([dict_Nstart[X,t]*dict_Thermique[X].Cstart for X in dict_Thermique for t in range(24)])+\n",
    "    gp.quicksum([dict_H[Y,n,t] * dict_Hydro[Y].Cheure[n] for Y in dict_Hydro for t in range(24) for n in dict_Hydro[Y].Palier])+\n",
    "    gp.quicksum([dict_Hstart[Y,t] * dict_Hydro[Y].Cstart for Y in dict_Hydro for t in range(24)]),\n",
    "    gp.GRB.MINIMIZE\n",
    "    )\n",
    "\n",
    "contraintes_demarrage(model,dict_N,dict_Nstart,dict_Thermique,cyclique=True)\n",
    "contraintes_puissance_thermique(model,dict_N,dict_P,dict_Thermique)\n",
    "contraintes_equilibre_palier(model,dict_P,dict_Thermique,dict_H,dict_Hydro,dict_S,consommation)\n",
    "contraintes_reserve_palier(model,dict_N,dict_Thermique,dict_Hydro,consommation)\n",
    "contraintes_reservoir_palier(model,dict_H,dict_Hydro,dict_S,debit_S)\n",
    "contraintes_hydraulique_palier(model,dict_H,dict_Hydro,dict_Hstart)\n",
    "contraintes_hydraulique_pompage(model,dict_H,dict_Hydro,dict_N_s,dict_S,M)\n",
    "\n",
    "model.optimize()"
   ]
  },
  {
   "cell_type": "code",
   "execution_count": 26,
   "metadata": {},
   "outputs": [
    {
     "data": {
      "application/vnd.plotly.v1+json": {
       "config": {
        "plotlyServerURL": "https://plot.ly"
       },
       "data": [
        {
         "name": "Thermique A",
         "stackgroup": "one",
         "type": "scatter",
         "x": [
          0,
          1,
          2,
          3,
          4,
          5,
          6,
          7,
          8,
          9,
          10,
          11,
          12,
          13,
          14,
          15,
          16,
          17,
          18,
          19,
          20,
          21,
          22,
          23
         ],
         "y": [
          10199.999999999993,
          10199.999999999993,
          10199.999999999993,
          10199.999999999993,
          10199.999999999993,
          10199.999999999993,
          11449.999999999978,
          11449.999999999985,
          11649.999999999985,
          10199.999999999993,
          10199.999999999993,
          10199.999999999993,
          10199.999999999993,
          10199.999999999993,
          10199.999999999985,
          19950,
          19950,
          19950,
          10350,
          10200.000000000002,
          10500,
          10400,
          10400,
          10199.999999999993
         ]
        },
        {
         "name": "Thermique B",
         "stackgroup": "one",
         "type": "scatter",
         "x": [
          0,
          1,
          2,
          3,
          4,
          5,
          6,
          7,
          8,
          9,
          10,
          11,
          12,
          13,
          14,
          15,
          16,
          17,
          18,
          19,
          20,
          21,
          22,
          23
         ],
         "y": [
          8689.999999999673,
          8750.000000000031,
          8750.000000000031,
          8750.000000000024,
          8750.000000000031,
          8750.000000000031,
          15750.000000000022,
          15750.000000000015,
          15750.000000000015,
          15750.000000000011,
          15750.000000000011,
          15750.000000000011,
          15750.000000000033,
          15750.000000000033,
          15750.000000000047,
          15750,
          15750,
          15750,
          15750,
          15699.999999999998,
          13999.999999999958,
          14000,
          14000,
          14000
         ]
        },
        {
         "name": "Thermique C",
         "stackgroup": "one",
         "type": "scatter",
         "x": [
          0,
          1,
          2,
          3,
          4,
          5,
          6,
          7,
          8,
          9,
          10,
          11,
          12,
          13,
          14,
          15,
          16,
          17,
          18,
          19,
          20,
          21,
          22,
          23
         ],
         "y": [
          0,
          0,
          0,
          0,
          0,
          0,
          0,
          0,
          0,
          0,
          0,
          0,
          0,
          0,
          0,
          1500,
          1500,
          1500,
          0,
          0,
          0,
          0,
          0,
          0
         ]
        },
        {
         "name": "Hydraulique 9",
         "stackgroup": "one",
         "type": "scatter",
         "x": [
          0,
          1,
          2,
          3,
          4,
          5,
          6,
          7,
          8,
          9,
          10,
          11,
          12,
          13,
          14,
          15,
          16,
          17,
          18,
          19,
          20,
          21,
          22,
          23
         ],
         "y": [
          0,
          0,
          0,
          0,
          0,
          0,
          1100,
          1100,
          900,
          0,
          0,
          0,
          0,
          0,
          0,
          1100,
          1100,
          1100,
          900,
          1100,
          900,
          900,
          900,
          1100
         ]
        },
        {
         "name": "Hydraulique 14",
         "stackgroup": "one",
         "type": "scatter",
         "x": [
          0,
          1,
          2,
          3,
          4,
          5,
          6,
          7,
          8,
          9,
          10,
          11,
          12,
          13,
          14,
          15,
          16,
          17,
          18,
          19,
          20,
          21,
          22,
          23
         ],
         "y": [
          0,
          0,
          0,
          0,
          0,
          0,
          1700,
          1700,
          1700,
          0,
          0,
          0,
          0,
          0,
          0,
          1700,
          1700,
          1700,
          0,
          0,
          1600,
          1700,
          1700,
          1700
         ]
        },
        {
         "name": "Pompage",
         "stackgroup": "two",
         "type": "scatter",
         "x": [
          0,
          1,
          2,
          3,
          4,
          5,
          6,
          7,
          8,
          9,
          10,
          11,
          12,
          13,
          14,
          15,
          16,
          17,
          18,
          19,
          20,
          21,
          22,
          23
         ],
         "y": [
          -3889.9999999996653,
          -3950.000000000037,
          -3950.000000000037,
          -3950.0000000000296,
          -3950.000000000037,
          -3950.000000000037,
          0,
          0,
          0,
          -950.0000000000093,
          -950.0000000000093,
          -950.0000000000093,
          -950.0000000000439,
          -950.0000000000439,
          -950.0000000000548,
          0,
          0,
          0,
          0,
          0,
          0,
          0,
          0,
          0
         ]
        },
        {
         "line": {
          "color": "red",
          "dash": "dash"
         },
         "name": "Production total",
         "type": "scatter",
         "x": [
          0,
          1,
          2,
          3,
          4,
          5,
          6,
          7,
          8,
          9,
          10,
          11,
          12,
          13,
          14,
          15,
          16,
          17,
          18,
          19,
          20,
          21,
          22,
          23
         ],
         "y": [
          15000,
          14999.999999999985,
          14999.999999999985,
          14999.999999999985,
          14999.999999999985,
          14999.999999999985,
          30000,
          30000,
          30000,
          24999.999999999993,
          24999.999999999993,
          24999.999999999993,
          24999.99999999998,
          24999.99999999998,
          24999.999999999978,
          40000,
          40000,
          40000,
          27000,
          27000,
          26999.999999999956,
          27000,
          27000,
          26999.999999999993
         ]
        },
        {
         "line": {
          "color": "black"
         },
         "name": "Coût MWh",
         "type": "scatter",
         "x": [
          0,
          1,
          2,
          3,
          4,
          5,
          6,
          7,
          8,
          9,
          10,
          11,
          12,
          13,
          14,
          15,
          16,
          17,
          18,
          19,
          20,
          21,
          22,
          23
         ],
         "y": [
          1.878133333333304,
          1.8833333333333369,
          1.8833333333333369,
          1.8833333333333362,
          1.8833333333333369,
          1.8833333333333369,
          1.6026666666666662,
          1.469333333333333,
          1.4816666666666662,
          1.6500000000000006,
          1.6500000000000006,
          1.6500000000000006,
          1.6500000000000024,
          1.6500000000000024,
          1.6500000000000026,
          1.6145,
          1.602,
          1.602,
          1.5422222222222222,
          1.5298148148148147,
          1.4398148148148149,
          1.4333333333333333,
          1.4333333333333333,
          1.4196296296296296
         ],
         "yaxis": "y2"
        },
        {
         "line": {
          "color": "grey"
         },
         "name": "Niveau réservoir",
         "type": "scatter",
         "x": [
          0,
          1,
          2,
          3,
          4,
          5,
          6,
          7,
          8,
          9,
          10,
          11,
          12,
          13,
          14,
          15,
          16,
          17,
          18,
          19,
          20,
          21,
          22,
          23
         ],
         "y": [
          1.2966666666665552,
          2.613333333333234,
          3.9299999999999127,
          5.246666666666589,
          6.563333333333268,
          7.879999999999947,
          6.939999999999946,
          5.999999999999946,
          5.129999999999946,
          5.446666666666616,
          5.763333333333286,
          6.079999999999956,
          6.396666666666637,
          6.713333333333319,
          7.030000000000004,
          6.090000000000003,
          5.150000000000003,
          4.210000000000003,
          3.9000000000000026,
          3.5200000000000027,
          2.6800000000000024,
          1.8100000000000023,
          0.9400000000000022,
          2.1094237467877974e-15
         ],
         "yaxis": "y3"
        }
       ],
       "layout": {
        "hovermode": "x",
        "template": {
         "data": {
          "bar": [
           {
            "error_x": {
             "color": "#2a3f5f"
            },
            "error_y": {
             "color": "#2a3f5f"
            },
            "marker": {
             "line": {
              "color": "#E5ECF6",
              "width": 0.5
             },
             "pattern": {
              "fillmode": "overlay",
              "size": 10,
              "solidity": 0.2
             }
            },
            "type": "bar"
           }
          ],
          "barpolar": [
           {
            "marker": {
             "line": {
              "color": "#E5ECF6",
              "width": 0.5
             },
             "pattern": {
              "fillmode": "overlay",
              "size": 10,
              "solidity": 0.2
             }
            },
            "type": "barpolar"
           }
          ],
          "carpet": [
           {
            "aaxis": {
             "endlinecolor": "#2a3f5f",
             "gridcolor": "white",
             "linecolor": "white",
             "minorgridcolor": "white",
             "startlinecolor": "#2a3f5f"
            },
            "baxis": {
             "endlinecolor": "#2a3f5f",
             "gridcolor": "white",
             "linecolor": "white",
             "minorgridcolor": "white",
             "startlinecolor": "#2a3f5f"
            },
            "type": "carpet"
           }
          ],
          "choropleth": [
           {
            "colorbar": {
             "outlinewidth": 0,
             "ticks": ""
            },
            "type": "choropleth"
           }
          ],
          "contour": [
           {
            "colorbar": {
             "outlinewidth": 0,
             "ticks": ""
            },
            "colorscale": [
             [
              0,
              "#0d0887"
             ],
             [
              0.1111111111111111,
              "#46039f"
             ],
             [
              0.2222222222222222,
              "#7201a8"
             ],
             [
              0.3333333333333333,
              "#9c179e"
             ],
             [
              0.4444444444444444,
              "#bd3786"
             ],
             [
              0.5555555555555556,
              "#d8576b"
             ],
             [
              0.6666666666666666,
              "#ed7953"
             ],
             [
              0.7777777777777778,
              "#fb9f3a"
             ],
             [
              0.8888888888888888,
              "#fdca26"
             ],
             [
              1,
              "#f0f921"
             ]
            ],
            "type": "contour"
           }
          ],
          "contourcarpet": [
           {
            "colorbar": {
             "outlinewidth": 0,
             "ticks": ""
            },
            "type": "contourcarpet"
           }
          ],
          "heatmap": [
           {
            "colorbar": {
             "outlinewidth": 0,
             "ticks": ""
            },
            "colorscale": [
             [
              0,
              "#0d0887"
             ],
             [
              0.1111111111111111,
              "#46039f"
             ],
             [
              0.2222222222222222,
              "#7201a8"
             ],
             [
              0.3333333333333333,
              "#9c179e"
             ],
             [
              0.4444444444444444,
              "#bd3786"
             ],
             [
              0.5555555555555556,
              "#d8576b"
             ],
             [
              0.6666666666666666,
              "#ed7953"
             ],
             [
              0.7777777777777778,
              "#fb9f3a"
             ],
             [
              0.8888888888888888,
              "#fdca26"
             ],
             [
              1,
              "#f0f921"
             ]
            ],
            "type": "heatmap"
           }
          ],
          "heatmapgl": [
           {
            "colorbar": {
             "outlinewidth": 0,
             "ticks": ""
            },
            "colorscale": [
             [
              0,
              "#0d0887"
             ],
             [
              0.1111111111111111,
              "#46039f"
             ],
             [
              0.2222222222222222,
              "#7201a8"
             ],
             [
              0.3333333333333333,
              "#9c179e"
             ],
             [
              0.4444444444444444,
              "#bd3786"
             ],
             [
              0.5555555555555556,
              "#d8576b"
             ],
             [
              0.6666666666666666,
              "#ed7953"
             ],
             [
              0.7777777777777778,
              "#fb9f3a"
             ],
             [
              0.8888888888888888,
              "#fdca26"
             ],
             [
              1,
              "#f0f921"
             ]
            ],
            "type": "heatmapgl"
           }
          ],
          "histogram": [
           {
            "marker": {
             "pattern": {
              "fillmode": "overlay",
              "size": 10,
              "solidity": 0.2
             }
            },
            "type": "histogram"
           }
          ],
          "histogram2d": [
           {
            "colorbar": {
             "outlinewidth": 0,
             "ticks": ""
            },
            "colorscale": [
             [
              0,
              "#0d0887"
             ],
             [
              0.1111111111111111,
              "#46039f"
             ],
             [
              0.2222222222222222,
              "#7201a8"
             ],
             [
              0.3333333333333333,
              "#9c179e"
             ],
             [
              0.4444444444444444,
              "#bd3786"
             ],
             [
              0.5555555555555556,
              "#d8576b"
             ],
             [
              0.6666666666666666,
              "#ed7953"
             ],
             [
              0.7777777777777778,
              "#fb9f3a"
             ],
             [
              0.8888888888888888,
              "#fdca26"
             ],
             [
              1,
              "#f0f921"
             ]
            ],
            "type": "histogram2d"
           }
          ],
          "histogram2dcontour": [
           {
            "colorbar": {
             "outlinewidth": 0,
             "ticks": ""
            },
            "colorscale": [
             [
              0,
              "#0d0887"
             ],
             [
              0.1111111111111111,
              "#46039f"
             ],
             [
              0.2222222222222222,
              "#7201a8"
             ],
             [
              0.3333333333333333,
              "#9c179e"
             ],
             [
              0.4444444444444444,
              "#bd3786"
             ],
             [
              0.5555555555555556,
              "#d8576b"
             ],
             [
              0.6666666666666666,
              "#ed7953"
             ],
             [
              0.7777777777777778,
              "#fb9f3a"
             ],
             [
              0.8888888888888888,
              "#fdca26"
             ],
             [
              1,
              "#f0f921"
             ]
            ],
            "type": "histogram2dcontour"
           }
          ],
          "mesh3d": [
           {
            "colorbar": {
             "outlinewidth": 0,
             "ticks": ""
            },
            "type": "mesh3d"
           }
          ],
          "parcoords": [
           {
            "line": {
             "colorbar": {
              "outlinewidth": 0,
              "ticks": ""
             }
            },
            "type": "parcoords"
           }
          ],
          "pie": [
           {
            "automargin": true,
            "type": "pie"
           }
          ],
          "scatter": [
           {
            "fillpattern": {
             "fillmode": "overlay",
             "size": 10,
             "solidity": 0.2
            },
            "type": "scatter"
           }
          ],
          "scatter3d": [
           {
            "line": {
             "colorbar": {
              "outlinewidth": 0,
              "ticks": ""
             }
            },
            "marker": {
             "colorbar": {
              "outlinewidth": 0,
              "ticks": ""
             }
            },
            "type": "scatter3d"
           }
          ],
          "scattercarpet": [
           {
            "marker": {
             "colorbar": {
              "outlinewidth": 0,
              "ticks": ""
             }
            },
            "type": "scattercarpet"
           }
          ],
          "scattergeo": [
           {
            "marker": {
             "colorbar": {
              "outlinewidth": 0,
              "ticks": ""
             }
            },
            "type": "scattergeo"
           }
          ],
          "scattergl": [
           {
            "marker": {
             "colorbar": {
              "outlinewidth": 0,
              "ticks": ""
             }
            },
            "type": "scattergl"
           }
          ],
          "scattermapbox": [
           {
            "marker": {
             "colorbar": {
              "outlinewidth": 0,
              "ticks": ""
             }
            },
            "type": "scattermapbox"
           }
          ],
          "scatterpolar": [
           {
            "marker": {
             "colorbar": {
              "outlinewidth": 0,
              "ticks": ""
             }
            },
            "type": "scatterpolar"
           }
          ],
          "scatterpolargl": [
           {
            "marker": {
             "colorbar": {
              "outlinewidth": 0,
              "ticks": ""
             }
            },
            "type": "scatterpolargl"
           }
          ],
          "scatterternary": [
           {
            "marker": {
             "colorbar": {
              "outlinewidth": 0,
              "ticks": ""
             }
            },
            "type": "scatterternary"
           }
          ],
          "surface": [
           {
            "colorbar": {
             "outlinewidth": 0,
             "ticks": ""
            },
            "colorscale": [
             [
              0,
              "#0d0887"
             ],
             [
              0.1111111111111111,
              "#46039f"
             ],
             [
              0.2222222222222222,
              "#7201a8"
             ],
             [
              0.3333333333333333,
              "#9c179e"
             ],
             [
              0.4444444444444444,
              "#bd3786"
             ],
             [
              0.5555555555555556,
              "#d8576b"
             ],
             [
              0.6666666666666666,
              "#ed7953"
             ],
             [
              0.7777777777777778,
              "#fb9f3a"
             ],
             [
              0.8888888888888888,
              "#fdca26"
             ],
             [
              1,
              "#f0f921"
             ]
            ],
            "type": "surface"
           }
          ],
          "table": [
           {
            "cells": {
             "fill": {
              "color": "#EBF0F8"
             },
             "line": {
              "color": "white"
             }
            },
            "header": {
             "fill": {
              "color": "#C8D4E3"
             },
             "line": {
              "color": "white"
             }
            },
            "type": "table"
           }
          ]
         },
         "layout": {
          "annotationdefaults": {
           "arrowcolor": "#2a3f5f",
           "arrowhead": 0,
           "arrowwidth": 1
          },
          "autotypenumbers": "strict",
          "coloraxis": {
           "colorbar": {
            "outlinewidth": 0,
            "ticks": ""
           }
          },
          "colorscale": {
           "diverging": [
            [
             0,
             "#8e0152"
            ],
            [
             0.1,
             "#c51b7d"
            ],
            [
             0.2,
             "#de77ae"
            ],
            [
             0.3,
             "#f1b6da"
            ],
            [
             0.4,
             "#fde0ef"
            ],
            [
             0.5,
             "#f7f7f7"
            ],
            [
             0.6,
             "#e6f5d0"
            ],
            [
             0.7,
             "#b8e186"
            ],
            [
             0.8,
             "#7fbc41"
            ],
            [
             0.9,
             "#4d9221"
            ],
            [
             1,
             "#276419"
            ]
           ],
           "sequential": [
            [
             0,
             "#0d0887"
            ],
            [
             0.1111111111111111,
             "#46039f"
            ],
            [
             0.2222222222222222,
             "#7201a8"
            ],
            [
             0.3333333333333333,
             "#9c179e"
            ],
            [
             0.4444444444444444,
             "#bd3786"
            ],
            [
             0.5555555555555556,
             "#d8576b"
            ],
            [
             0.6666666666666666,
             "#ed7953"
            ],
            [
             0.7777777777777778,
             "#fb9f3a"
            ],
            [
             0.8888888888888888,
             "#fdca26"
            ],
            [
             1,
             "#f0f921"
            ]
           ],
           "sequentialminus": [
            [
             0,
             "#0d0887"
            ],
            [
             0.1111111111111111,
             "#46039f"
            ],
            [
             0.2222222222222222,
             "#7201a8"
            ],
            [
             0.3333333333333333,
             "#9c179e"
            ],
            [
             0.4444444444444444,
             "#bd3786"
            ],
            [
             0.5555555555555556,
             "#d8576b"
            ],
            [
             0.6666666666666666,
             "#ed7953"
            ],
            [
             0.7777777777777778,
             "#fb9f3a"
            ],
            [
             0.8888888888888888,
             "#fdca26"
            ],
            [
             1,
             "#f0f921"
            ]
           ]
          },
          "colorway": [
           "#636efa",
           "#EF553B",
           "#00cc96",
           "#ab63fa",
           "#FFA15A",
           "#19d3f3",
           "#FF6692",
           "#B6E880",
           "#FF97FF",
           "#FECB52"
          ],
          "font": {
           "color": "#2a3f5f"
          },
          "geo": {
           "bgcolor": "white",
           "lakecolor": "white",
           "landcolor": "#E5ECF6",
           "showlakes": true,
           "showland": true,
           "subunitcolor": "white"
          },
          "hoverlabel": {
           "align": "left"
          },
          "hovermode": "closest",
          "mapbox": {
           "style": "light"
          },
          "paper_bgcolor": "white",
          "plot_bgcolor": "#E5ECF6",
          "polar": {
           "angularaxis": {
            "gridcolor": "white",
            "linecolor": "white",
            "ticks": ""
           },
           "bgcolor": "#E5ECF6",
           "radialaxis": {
            "gridcolor": "white",
            "linecolor": "white",
            "ticks": ""
           }
          },
          "scene": {
           "xaxis": {
            "backgroundcolor": "#E5ECF6",
            "gridcolor": "white",
            "gridwidth": 2,
            "linecolor": "white",
            "showbackground": true,
            "ticks": "",
            "zerolinecolor": "white"
           },
           "yaxis": {
            "backgroundcolor": "#E5ECF6",
            "gridcolor": "white",
            "gridwidth": 2,
            "linecolor": "white",
            "showbackground": true,
            "ticks": "",
            "zerolinecolor": "white"
           },
           "zaxis": {
            "backgroundcolor": "#E5ECF6",
            "gridcolor": "white",
            "gridwidth": 2,
            "linecolor": "white",
            "showbackground": true,
            "ticks": "",
            "zerolinecolor": "white"
           }
          },
          "shapedefaults": {
           "line": {
            "color": "#2a3f5f"
           }
          },
          "ternary": {
           "aaxis": {
            "gridcolor": "white",
            "linecolor": "white",
            "ticks": ""
           },
           "baxis": {
            "gridcolor": "white",
            "linecolor": "white",
            "ticks": ""
           },
           "bgcolor": "#E5ECF6",
           "caxis": {
            "gridcolor": "white",
            "linecolor": "white",
            "ticks": ""
           }
          },
          "title": {
           "x": 0.05
          },
          "xaxis": {
           "automargin": true,
           "gridcolor": "white",
           "linecolor": "white",
           "ticks": "",
           "title": {
            "standoff": 15
           },
           "zerolinecolor": "white",
           "zerolinewidth": 2
          },
          "yaxis": {
           "automargin": true,
           "gridcolor": "white",
           "linecolor": "white",
           "ticks": "",
           "title": {
            "standoff": 15
           },
           "zerolinecolor": "white",
           "zerolinewidth": 2
          }
         }
        },
        "title": {
         "text": "Répartition de la production électrique dans la journée - 5.4"
        },
        "yaxis": {
         "range": [
          -4345.000000000041,
          44000
         ],
         "title": {
          "text": "MW"
         }
        },
        "yaxis2": {
         "anchor": "free",
         "overlaying": "y",
         "position": 1,
         "range": [
          1.348648148148148,
          2.0716666666666708
         ],
         "side": "right",
         "title": {
          "text": "€/MWh"
         }
        },
        "yaxis3": {
         "anchor": "free",
         "overlaying": "y",
         "position": 0.05,
         "range": [
          2.3203661214665774e-15,
          8.667999999999942
         ],
         "side": "left",
         "title": {
          "text": "Réservoir (m)"
         }
        }
       }
      }
     },
     "metadata": {},
     "output_type": "display_data"
    }
   ],
   "source": [
    "df = df_results53(dict_N,dict_P,dict_Nstart,dict_Thermique,dict_H,dict_Hstart,dict_Hydro,dict_S,debit_S,consommation)\n",
    "fig = Results_viz52(df,dict_Thermique,dict_Hydro)\n",
    "A = \"5.4\"\n",
    "fig.update_layout(\n",
    "    title = f\"Répartition de la production électrique dans la journée - {A}\"\n",
    ")\n",
    "fig.show()\n",
    "fig.write_html(f\"HTML/Répartition de la production électrique dans la journée - {A}.html\")"
   ]
  },
  {
   "cell_type": "markdown",
   "metadata": {},
   "source": [
    "## 6 Désagrégation\n",
    "\n",
    "## 6.1 Individualisation des centrales\n",
    "\n",
    "Variables de décision :\n",
    "Pour une type de centrale $X \\in [A,B,C]$, $k$ l'identification de la $k$-ieme centrale, et une heure de la journée $t\\in {1,\\dots,24}$, on définit :\n",
    "$$\n",
    "N_t^{(X,k)} \\in\\{0,1\\} \\text{La $k$-ieme centrale $X$ fonctionne à $t$}\n",
    "$$\n",
    "$$\n",
    "N_{start,t}^{(X,k)} \\in\\{0,1\\} \\text{La $k$-ieme centrale $X$ est démarrée à $t$}\n",
    "$$\n",
    "$$\n",
    "P_t^{(X,k)} = \\text{Puissance de la $k$-ième centrale $X$ à l'instant $t$}\n",
    "$$\n",
    "Contraintes :\n",
    "$$\n",
    "N_t^{(X,k)} P_{min}^{(X)} \\leq P_t^{(X,k)} \\leq N_t^{(X,k)} P_{max}^{(X)} \\text{ ,  Contraintes sur la puissance totale de chaque centrale}\n",
    "$$\n",
    "$$\n",
    "\\text{Equilibre offre-demande : } \\sum_X \\sum_{k=1}^{N^{(X)}} P_t^{(X,k)} + \\sum_{Y,n} H_t^{(Y,n)}P^{(Y,n)}-S_t= D_t\n",
    "$$\n",
    "$$\n",
    "\\text{Réserve de puissance : } \\sum_X \\sum_{k=1}^{N^{(X)}} N_t^{(X,k)}P_{max}^{(X)} + \\sum_Y P^{(Y,n_{max})}\\geq D_t\\times 1,15\n",
    "$$\n",
    "Objectif :\n",
    "$$\n",
    "\\text{Minimiser} \\sum_X \\sum_{k=1}^{N^{(X)}} \\sum_t (P_t^{(X,k)} - P_{min}^{(X)}N_t^{(X,k)}) C_{MWh}^{(X)} + N_t^{(X,k)}C_{base}^{(X)} + N_{start,t}^{(X,k)}C_{start}^{(X)} + \\sum_{Y,n} \\sum_t H_t^{(Y,n)}C_{base}^{(Y,n)} + \\sum_Y H_{start,t}^{(Y)}C_{start}^{(Y)}\n",
    "$$"
   ]
  },
  {
   "cell_type": "code",
   "execution_count": 27,
   "metadata": {},
   "outputs": [
    {
     "name": "stdout",
     "output_type": "stream",
     "text": [
      "Gurobi Optimizer version 9.5.2 build v9.5.2rc0 (win64)\n",
      "Thread count: 4 physical cores, 8 logical processors, using up to 8 threads\n",
      "Optimize a model with 2281 rows, 2232 columns and 7488 nonzeros\n",
      "Model fingerprint: 0x18039317\n",
      "Variable types: 672 continuous, 1560 integer (1560 binary)\n",
      "Coefficient statistics:\n",
      "  Matrix range     [3e-04, 6e+04]\n",
      "  Objective range  [1e+00, 2e+03]\n",
      "  Bounds range     [1e+00, 1e+00]\n",
      "  RHS range        [1e+00, 4e+04]\n",
      "Presolve removed 216 rows and 48 columns\n",
      "Presolve time: 0.01s\n",
      "Presolved: 2065 rows, 2184 columns, 6552 nonzeros\n",
      "Variable types: 672 continuous, 1512 integer (1512 binary)\n",
      "Found heuristic solution: objective 1047900.0000\n",
      "Found heuristic solution: objective 1031950.0000\n",
      "\n",
      "Root relaxation: objective 9.830120e+05, 1384 iterations, 0.01 seconds (0.01 work units)\n",
      "\n",
      "    Nodes    |    Current Node    |     Objective Bounds      |     Work\n",
      " Expl Unexpl |  Obj  Depth IntInf | Incumbent    BestBd   Gap | It/Node Time\n",
      "\n",
      "     0     0 983011.964    0   31 1031950.00 983011.964  4.74%     -    0s\n",
      "H    0     0                    987010.00000 983011.964  0.41%     -    0s\n",
      "H    0     0                    986030.00000 983011.964  0.31%     -    0s\n",
      "     0     0 983319.501    0   60 986030.000 983319.501  0.27%     -    0s\n",
      "     0     0 983426.327    0   47 986030.000 983426.327  0.26%     -    0s\n",
      "H    0     0                    985170.00000 983426.327  0.18%     -    0s\n",
      "     0     0 983426.327    0   84 985170.000 983426.327  0.18%     -    0s\n",
      "     0     0 983426.327    0  103 985170.000 983426.327  0.18%     -    0s\n",
      "     0     0 983581.613    0   31 985170.000 983581.613  0.16%     -    0s\n",
      "     0     0 983583.107    0   74 985170.000 983583.107  0.16%     -    0s\n",
      "     0     0 983583.287    0   92 985170.000 983583.287  0.16%     -    0s\n",
      "     0     0 983592.739    0   68 985170.000 983592.739  0.16%     -    0s\n",
      "     0     0 983592.739    0   33 985170.000 983592.739  0.16%     -    0s\n",
      "     0     0 983592.739    0   52 985170.000 983592.739  0.16%     -    0s\n",
      "     0     0 983592.739    0   31 985170.000 983592.739  0.16%     -    0s\n",
      "     0     0 983593.162    0   35 985170.000 983593.162  0.16%     -    0s\n",
      "     0     0 983593.202    0   35 985170.000 983593.202  0.16%     -    0s\n",
      "H    0     0                    984260.00000 983593.202  0.07%     -    0s\n",
      "     0     0 983597.091    0   78 984260.000 983597.091  0.07%     -    0s\n",
      "     0     0 983597.162    0   78 984260.000 983597.162  0.07%     -    0s\n",
      "     0     0 983598.166    0  102 984260.000 983598.166  0.07%     -    0s\n",
      "     0     0 983598.277    0  102 984260.000 983598.277  0.07%     -    0s\n",
      "     0     0 983600.874    0   35 984260.000 983600.874  0.07%     -    0s\n",
      "     0     0 983601.083    0   35 984260.000 983601.083  0.07%     -    0s\n",
      "     0     0 983601.083    0   73 984260.000 983601.083  0.07%     -    0s\n",
      "     0     0 983601.083    0   35 984260.000 983601.083  0.07%     -    0s\n",
      "     0     0 983601.083    0   30 984260.000 983601.083  0.07%     -    0s\n",
      "     0     0 983601.083    0   30 984260.000 983601.083  0.07%     -    0s\n",
      "     0     0 983601.083    0   30 984260.000 983601.083  0.07%     -    0s\n",
      "     0     0 983601.083    0   34 984260.000 983601.083  0.07%     -    0s\n",
      "     0     0 983601.083    0   76 984260.000 983601.083  0.07%     -    0s\n",
      "     0     0 983601.970    0   95 984260.000 983601.970  0.07%     -    0s\n",
      "H    0     0                    983990.00000 983601.970  0.04%     -    0s\n",
      "     0     0 983601.984    0   28 983990.000 983601.984  0.04%     -    0s\n",
      "     0     0 983601.984    0   15 983990.000 983601.984  0.04%     -    0s\n",
      "     0     0 983601.984    0   31 983990.000 983601.984  0.04%     -    0s\n",
      "     0     0 983601.984    0   27 983990.000 983601.984  0.04%     -    0s\n",
      "     0     0 983602.405    0   27 983990.000 983602.405  0.04%     -    0s\n",
      "     0     0 983662.857    0    5 983990.000 983662.857  0.03%     -    0s\n",
      "     0     0 983662.857    0   10 983990.000 983662.857  0.03%     -    0s\n",
      "     0     0 983662.857    0    5 983990.000 983662.857  0.03%     -    0s\n",
      "H    0     0                    983820.00000 983662.857  0.02%     -    0s\n",
      "     0     0 983662.857    0    8 983820.000 983662.857  0.02%     -    0s\n",
      "     0     0 983662.857    0   22 983820.000 983662.857  0.02%     -    0s\n",
      "     0     0 983662.857    0    1 983820.000 983662.857  0.02%     -    0s\n",
      "     0     0 983662.857    0    3 983820.000 983662.857  0.02%     -    0s\n",
      "     0     0 983662.857    0    6 983820.000 983662.857  0.02%     -    0s\n",
      "     0     0 983662.857    0    4 983820.000 983662.857  0.02%     -    0s\n",
      "     0     0 983662.857    0    4 983820.000 983662.857  0.02%     -    0s\n",
      "     0     0 983662.857    0    4 983820.000 983662.857  0.02%     -    0s\n",
      "     0     2 983662.857    0    4 983820.000 983662.857  0.02%     -    0s\n",
      "H   95   155                    983750.00000 983662.857  0.01%  10.0    0s\n",
      "\n",
      "Cutting planes:\n",
      "  Gomory: 6\n",
      "  Lift-and-project: 6\n",
      "  MIR: 24\n",
      "  Flow cover: 11\n",
      "  RLT: 6\n",
      "\n",
      "Explored 173 nodes (7015 simplex iterations) in 0.96 seconds (0.52 work units)\n",
      "Thread count was 8 (of 8 available processors)\n",
      "\n",
      "Solution count 10: 983750 983820 983990 ... 1.0479e+06\n",
      "\n",
      "Optimal solution found (tolerance 1.00e-04)\n",
      "Best objective 9.837500000000e+05, best bound 9.836628571429e+05, gap 0.0089%\n"
     ]
    }
   ],
   "source": [
    "from utils import variables_decision_desagregation_thermique\n",
    "from utils import contraintes_thermique_desagregation, contraintes_equilibre_desagregation, contraintes_reserve_desagregation\n",
    "\n",
    "model = gp.Model(\"6.1\")\n",
    "\n",
    "dict_N, dict_P, dict_Nstart = variables_decision_desagregation_thermique(model,dict_Thermique)\n",
    "dict_H, dict_Hstart = variables_decision_hydraulique_palier(model,dict_Hydro)\n",
    "dict_S = {t : model.addVar(lb=0,vtype=gp.GRB.CONTINUOUS,name=f\"pompage à l'instant {t}\") for t in range(24)}\n",
    "dict_N_s = {t : model.addVar(lb=0,vtype=gp.GRB.BINARY,name=f\"fonctionnement pompe à l'instant {t}\") for t in range(24)}\n",
    "debit_S = 1/3000 # débit de pompage par MWh ou par MW pendant une heure\n",
    "M = sum([dict_Thermique[X].N * dict_Thermique[X].Pmax for X in dict_Thermique]) + sum([dict_Hydro[Y].P[dict_Hydro[Y].palier_max()] for Y in dict_Hydro])\n",
    "\n",
    "contraintes_reservoir_palier(model,dict_H,dict_Hydro,dict_S,debit_S)\n",
    "contraintes_hydraulique_palier(model,dict_H,dict_Hydro,dict_Hstart)\n",
    "contraintes_hydraulique_pompage(model,dict_H,dict_Hydro,dict_N_s,dict_S,M)\n",
    "contraintes_thermique_desagregation(model,dict_P,dict_N,dict_Nstart,dict_Thermique)\n",
    "contraintes_equilibre_desagregation(model,dict_P,dict_Thermique,dict_H,dict_Hydro,dict_S,consommation)\n",
    "contraintes_reserve_desagregation(model,dict_N,dict_Thermique,dict_Hydro,consommation)\n",
    "\n",
    "model.setObjective(\n",
    "    gp.quicksum([dict_N[X,k,t] * (dict_Thermique[X].Cbase - dict_Thermique[X].Pmin*dict_Thermique[X].Cmwh) for X in dict_Thermique for k in range(dict_Thermique[X].N) for t in range(24)]) + \n",
    "    gp.quicksum([dict_P[X,k,t] * dict_Thermique[X].Cmwh for X in dict_Thermique for k in range(dict_Thermique[X].N) for t in range(24)])+ \n",
    "    gp.quicksum([dict_Nstart[X,k,t]*dict_Thermique[X].Cstart for X in dict_Thermique for k in range(dict_Thermique[X].N) for t in range(24)])+\n",
    "    gp.quicksum([dict_H[Y,n,t] * dict_Hydro[Y].Cheure[n] for Y in dict_Hydro for t in range(24) for n in dict_Hydro[Y].Palier])+\n",
    "    gp.quicksum([dict_Hstart[Y,t] * dict_Hydro[Y].Cstart for Y in dict_Hydro for t in range(24)]),\n",
    "    gp.GRB.MINIMIZE\n",
    "    )\n",
    "\n",
    "model.optimize()"
   ]
  },
  {
   "cell_type": "code",
   "execution_count": 28,
   "metadata": {},
   "outputs": [
    {
     "data": {
      "application/vnd.plotly.v1+json": {
       "config": {
        "plotlyServerURL": "https://plot.ly"
       },
       "data": [
        {
         "name": "Thermique A",
         "stackgroup": "one",
         "type": "scatter",
         "x": [
          0,
          1,
          2,
          3,
          4,
          5,
          6,
          7,
          8,
          9,
          10,
          11,
          12,
          13,
          14,
          15,
          16,
          17,
          18,
          19,
          20,
          21,
          22,
          23
         ],
         "y": [
          10200,
          10200,
          10200,
          10200,
          10200,
          10200,
          11450,
          11450,
          11450,
          10200,
          10200,
          10229.999999999996,
          10200,
          10200,
          10200,
          20150,
          20150,
          20150,
          10350.000000000004,
          10349.999999999995,
          10200.000000000024,
          10200.000000000004,
          10200,
          10200
         ]
        },
        {
         "name": "Thermique B",
         "stackgroup": "one",
         "type": "scatter",
         "x": [
          0,
          1,
          2,
          3,
          4,
          5,
          6,
          7,
          8,
          9,
          10,
          11,
          12,
          13,
          14,
          15,
          16,
          17,
          18,
          19,
          20,
          21,
          22,
          23
         ],
         "y": [
          8750,
          8750,
          8750,
          8750,
          8750,
          8750,
          15750,
          15750,
          15750,
          15750,
          15750,
          15750,
          15750,
          15750,
          15750,
          15750,
          15750,
          15750,
          15749.999999999998,
          15750.000000000005,
          13999.999999999976,
          13999.999999999995,
          14000,
          14000
         ]
        },
        {
         "name": "Thermique C",
         "stackgroup": "one",
         "type": "scatter",
         "x": [
          0,
          1,
          2,
          3,
          4,
          5,
          6,
          7,
          8,
          9,
          10,
          11,
          12,
          13,
          14,
          15,
          16,
          17,
          18,
          19,
          20,
          21,
          22,
          23
         ],
         "y": [
          0,
          0,
          0,
          0,
          0,
          0,
          0,
          0,
          0,
          0,
          0,
          0,
          0,
          0,
          0,
          1500,
          1500,
          1500,
          0,
          0,
          0,
          0,
          0,
          0
         ]
        },
        {
         "name": "Hydraulique 9",
         "stackgroup": "one",
         "type": "scatter",
         "x": [
          0,
          1,
          2,
          3,
          4,
          5,
          6,
          7,
          8,
          9,
          10,
          11,
          12,
          13,
          14,
          15,
          16,
          17,
          18,
          19,
          20,
          21,
          22,
          23
         ],
         "y": [
          0,
          0,
          0,
          0,
          0,
          0,
          1100,
          1100,
          1100,
          0,
          0,
          0,
          0,
          0,
          0,
          900,
          900,
          900,
          900,
          900,
          1100,
          1100,
          1100,
          1100
         ]
        },
        {
         "name": "Hydraulique 14",
         "stackgroup": "one",
         "type": "scatter",
         "x": [
          0,
          1,
          2,
          3,
          4,
          5,
          6,
          7,
          8,
          9,
          10,
          11,
          12,
          13,
          14,
          15,
          16,
          17,
          18,
          19,
          20,
          21,
          22,
          23
         ],
         "y": [
          0,
          0,
          0,
          0,
          0,
          0,
          1700,
          1700,
          1700,
          0,
          0,
          0,
          0,
          0,
          0,
          1700,
          1700,
          1700,
          0,
          0,
          1700,
          1700,
          1700,
          1700
         ]
        },
        {
         "name": "Pompage",
         "stackgroup": "two",
         "type": "scatter",
         "x": [
          0,
          1,
          2,
          3,
          4,
          5,
          6,
          7,
          8,
          9,
          10,
          11,
          12,
          13,
          14,
          15,
          16,
          17,
          18,
          19,
          20,
          21,
          22,
          23
         ],
         "y": [
          -3950,
          -3950,
          -3950,
          -3950,
          -3950,
          -3950,
          0,
          0,
          0,
          -950,
          -950,
          -979.9999999999974,
          -950,
          -950,
          -950,
          0,
          0,
          0,
          0,
          0,
          0,
          0,
          0,
          0
         ]
        },
        {
         "line": {
          "color": "red",
          "dash": "dash"
         },
         "name": "Production total",
         "type": "scatter",
         "x": [
          0,
          1,
          2,
          3,
          4,
          5,
          6,
          7,
          8,
          9,
          10,
          11,
          12,
          13,
          14,
          15,
          16,
          17,
          18,
          19,
          20,
          21,
          22,
          23
         ],
         "y": [
          15000,
          15000,
          15000,
          15000,
          15000,
          15000,
          30000,
          30000,
          30000,
          25000,
          25000,
          25000,
          25000,
          25000,
          25000,
          40000,
          40000,
          40000,
          27000,
          27000,
          27000,
          27000,
          27000,
          27000
         ]
        },
        {
         "line": {
          "color": "black"
         },
         "name": "Coût MWh",
         "type": "scatter",
         "x": [
          0,
          1,
          2,
          3,
          4,
          5,
          6,
          7,
          8,
          9,
          10,
          11,
          12,
          13,
          14,
          15,
          16,
          17,
          18,
          19,
          20,
          21,
          22,
          23
         ],
         "y": [
          1.8833333333333333,
          1.8833333333333333,
          1.8833333333333333,
          1.8833333333333333,
          1.8833333333333333,
          1.8833333333333333,
          1.6026666666666667,
          1.4693333333333334,
          1.4693333333333334,
          1.65,
          1.65,
          1.6523999999999996,
          1.65,
          1.65,
          1.65,
          1.62375,
          1.61125,
          1.61125,
          1.5422222222222224,
          1.5422222222222222,
          1.4196296296296302,
          1.4196296296296296,
          1.4196296296296296,
          1.4196296296296296
         ],
         "yaxis": "y2"
        },
        {
         "line": {
          "color": "grey"
         },
         "name": "Niveau réservoir",
         "type": "scatter",
         "x": [
          0,
          1,
          2,
          3,
          4,
          5,
          6,
          7,
          8,
          9,
          10,
          11,
          12,
          13,
          14,
          15,
          16,
          17,
          18,
          19,
          20,
          21,
          22,
          23
         ],
         "y": [
          1.3166666666666667,
          2.6333333333333333,
          3.95,
          5.266666666666667,
          6.583333333333333,
          7.8999999999999995,
          6.959999999999999,
          6.019999999999999,
          5.079999999999998,
          5.396666666666665,
          5.713333333333331,
          6.039999999999997,
          6.356666666666664,
          6.67333333333333,
          6.989999999999997,
          6.1199999999999966,
          5.2499999999999964,
          4.379999999999996,
          4.069999999999997,
          3.7599999999999967,
          2.8199999999999967,
          1.8799999999999968,
          0.9399999999999967,
          -3.3306690738754696e-15
         ],
         "yaxis": "y3"
        }
       ],
       "layout": {
        "hovermode": "x",
        "template": {
         "data": {
          "bar": [
           {
            "error_x": {
             "color": "#2a3f5f"
            },
            "error_y": {
             "color": "#2a3f5f"
            },
            "marker": {
             "line": {
              "color": "#E5ECF6",
              "width": 0.5
             },
             "pattern": {
              "fillmode": "overlay",
              "size": 10,
              "solidity": 0.2
             }
            },
            "type": "bar"
           }
          ],
          "barpolar": [
           {
            "marker": {
             "line": {
              "color": "#E5ECF6",
              "width": 0.5
             },
             "pattern": {
              "fillmode": "overlay",
              "size": 10,
              "solidity": 0.2
             }
            },
            "type": "barpolar"
           }
          ],
          "carpet": [
           {
            "aaxis": {
             "endlinecolor": "#2a3f5f",
             "gridcolor": "white",
             "linecolor": "white",
             "minorgridcolor": "white",
             "startlinecolor": "#2a3f5f"
            },
            "baxis": {
             "endlinecolor": "#2a3f5f",
             "gridcolor": "white",
             "linecolor": "white",
             "minorgridcolor": "white",
             "startlinecolor": "#2a3f5f"
            },
            "type": "carpet"
           }
          ],
          "choropleth": [
           {
            "colorbar": {
             "outlinewidth": 0,
             "ticks": ""
            },
            "type": "choropleth"
           }
          ],
          "contour": [
           {
            "colorbar": {
             "outlinewidth": 0,
             "ticks": ""
            },
            "colorscale": [
             [
              0,
              "#0d0887"
             ],
             [
              0.1111111111111111,
              "#46039f"
             ],
             [
              0.2222222222222222,
              "#7201a8"
             ],
             [
              0.3333333333333333,
              "#9c179e"
             ],
             [
              0.4444444444444444,
              "#bd3786"
             ],
             [
              0.5555555555555556,
              "#d8576b"
             ],
             [
              0.6666666666666666,
              "#ed7953"
             ],
             [
              0.7777777777777778,
              "#fb9f3a"
             ],
             [
              0.8888888888888888,
              "#fdca26"
             ],
             [
              1,
              "#f0f921"
             ]
            ],
            "type": "contour"
           }
          ],
          "contourcarpet": [
           {
            "colorbar": {
             "outlinewidth": 0,
             "ticks": ""
            },
            "type": "contourcarpet"
           }
          ],
          "heatmap": [
           {
            "colorbar": {
             "outlinewidth": 0,
             "ticks": ""
            },
            "colorscale": [
             [
              0,
              "#0d0887"
             ],
             [
              0.1111111111111111,
              "#46039f"
             ],
             [
              0.2222222222222222,
              "#7201a8"
             ],
             [
              0.3333333333333333,
              "#9c179e"
             ],
             [
              0.4444444444444444,
              "#bd3786"
             ],
             [
              0.5555555555555556,
              "#d8576b"
             ],
             [
              0.6666666666666666,
              "#ed7953"
             ],
             [
              0.7777777777777778,
              "#fb9f3a"
             ],
             [
              0.8888888888888888,
              "#fdca26"
             ],
             [
              1,
              "#f0f921"
             ]
            ],
            "type": "heatmap"
           }
          ],
          "heatmapgl": [
           {
            "colorbar": {
             "outlinewidth": 0,
             "ticks": ""
            },
            "colorscale": [
             [
              0,
              "#0d0887"
             ],
             [
              0.1111111111111111,
              "#46039f"
             ],
             [
              0.2222222222222222,
              "#7201a8"
             ],
             [
              0.3333333333333333,
              "#9c179e"
             ],
             [
              0.4444444444444444,
              "#bd3786"
             ],
             [
              0.5555555555555556,
              "#d8576b"
             ],
             [
              0.6666666666666666,
              "#ed7953"
             ],
             [
              0.7777777777777778,
              "#fb9f3a"
             ],
             [
              0.8888888888888888,
              "#fdca26"
             ],
             [
              1,
              "#f0f921"
             ]
            ],
            "type": "heatmapgl"
           }
          ],
          "histogram": [
           {
            "marker": {
             "pattern": {
              "fillmode": "overlay",
              "size": 10,
              "solidity": 0.2
             }
            },
            "type": "histogram"
           }
          ],
          "histogram2d": [
           {
            "colorbar": {
             "outlinewidth": 0,
             "ticks": ""
            },
            "colorscale": [
             [
              0,
              "#0d0887"
             ],
             [
              0.1111111111111111,
              "#46039f"
             ],
             [
              0.2222222222222222,
              "#7201a8"
             ],
             [
              0.3333333333333333,
              "#9c179e"
             ],
             [
              0.4444444444444444,
              "#bd3786"
             ],
             [
              0.5555555555555556,
              "#d8576b"
             ],
             [
              0.6666666666666666,
              "#ed7953"
             ],
             [
              0.7777777777777778,
              "#fb9f3a"
             ],
             [
              0.8888888888888888,
              "#fdca26"
             ],
             [
              1,
              "#f0f921"
             ]
            ],
            "type": "histogram2d"
           }
          ],
          "histogram2dcontour": [
           {
            "colorbar": {
             "outlinewidth": 0,
             "ticks": ""
            },
            "colorscale": [
             [
              0,
              "#0d0887"
             ],
             [
              0.1111111111111111,
              "#46039f"
             ],
             [
              0.2222222222222222,
              "#7201a8"
             ],
             [
              0.3333333333333333,
              "#9c179e"
             ],
             [
              0.4444444444444444,
              "#bd3786"
             ],
             [
              0.5555555555555556,
              "#d8576b"
             ],
             [
              0.6666666666666666,
              "#ed7953"
             ],
             [
              0.7777777777777778,
              "#fb9f3a"
             ],
             [
              0.8888888888888888,
              "#fdca26"
             ],
             [
              1,
              "#f0f921"
             ]
            ],
            "type": "histogram2dcontour"
           }
          ],
          "mesh3d": [
           {
            "colorbar": {
             "outlinewidth": 0,
             "ticks": ""
            },
            "type": "mesh3d"
           }
          ],
          "parcoords": [
           {
            "line": {
             "colorbar": {
              "outlinewidth": 0,
              "ticks": ""
             }
            },
            "type": "parcoords"
           }
          ],
          "pie": [
           {
            "automargin": true,
            "type": "pie"
           }
          ],
          "scatter": [
           {
            "fillpattern": {
             "fillmode": "overlay",
             "size": 10,
             "solidity": 0.2
            },
            "type": "scatter"
           }
          ],
          "scatter3d": [
           {
            "line": {
             "colorbar": {
              "outlinewidth": 0,
              "ticks": ""
             }
            },
            "marker": {
             "colorbar": {
              "outlinewidth": 0,
              "ticks": ""
             }
            },
            "type": "scatter3d"
           }
          ],
          "scattercarpet": [
           {
            "marker": {
             "colorbar": {
              "outlinewidth": 0,
              "ticks": ""
             }
            },
            "type": "scattercarpet"
           }
          ],
          "scattergeo": [
           {
            "marker": {
             "colorbar": {
              "outlinewidth": 0,
              "ticks": ""
             }
            },
            "type": "scattergeo"
           }
          ],
          "scattergl": [
           {
            "marker": {
             "colorbar": {
              "outlinewidth": 0,
              "ticks": ""
             }
            },
            "type": "scattergl"
           }
          ],
          "scattermapbox": [
           {
            "marker": {
             "colorbar": {
              "outlinewidth": 0,
              "ticks": ""
             }
            },
            "type": "scattermapbox"
           }
          ],
          "scatterpolar": [
           {
            "marker": {
             "colorbar": {
              "outlinewidth": 0,
              "ticks": ""
             }
            },
            "type": "scatterpolar"
           }
          ],
          "scatterpolargl": [
           {
            "marker": {
             "colorbar": {
              "outlinewidth": 0,
              "ticks": ""
             }
            },
            "type": "scatterpolargl"
           }
          ],
          "scatterternary": [
           {
            "marker": {
             "colorbar": {
              "outlinewidth": 0,
              "ticks": ""
             }
            },
            "type": "scatterternary"
           }
          ],
          "surface": [
           {
            "colorbar": {
             "outlinewidth": 0,
             "ticks": ""
            },
            "colorscale": [
             [
              0,
              "#0d0887"
             ],
             [
              0.1111111111111111,
              "#46039f"
             ],
             [
              0.2222222222222222,
              "#7201a8"
             ],
             [
              0.3333333333333333,
              "#9c179e"
             ],
             [
              0.4444444444444444,
              "#bd3786"
             ],
             [
              0.5555555555555556,
              "#d8576b"
             ],
             [
              0.6666666666666666,
              "#ed7953"
             ],
             [
              0.7777777777777778,
              "#fb9f3a"
             ],
             [
              0.8888888888888888,
              "#fdca26"
             ],
             [
              1,
              "#f0f921"
             ]
            ],
            "type": "surface"
           }
          ],
          "table": [
           {
            "cells": {
             "fill": {
              "color": "#EBF0F8"
             },
             "line": {
              "color": "white"
             }
            },
            "header": {
             "fill": {
              "color": "#C8D4E3"
             },
             "line": {
              "color": "white"
             }
            },
            "type": "table"
           }
          ]
         },
         "layout": {
          "annotationdefaults": {
           "arrowcolor": "#2a3f5f",
           "arrowhead": 0,
           "arrowwidth": 1
          },
          "autotypenumbers": "strict",
          "coloraxis": {
           "colorbar": {
            "outlinewidth": 0,
            "ticks": ""
           }
          },
          "colorscale": {
           "diverging": [
            [
             0,
             "#8e0152"
            ],
            [
             0.1,
             "#c51b7d"
            ],
            [
             0.2,
             "#de77ae"
            ],
            [
             0.3,
             "#f1b6da"
            ],
            [
             0.4,
             "#fde0ef"
            ],
            [
             0.5,
             "#f7f7f7"
            ],
            [
             0.6,
             "#e6f5d0"
            ],
            [
             0.7,
             "#b8e186"
            ],
            [
             0.8,
             "#7fbc41"
            ],
            [
             0.9,
             "#4d9221"
            ],
            [
             1,
             "#276419"
            ]
           ],
           "sequential": [
            [
             0,
             "#0d0887"
            ],
            [
             0.1111111111111111,
             "#46039f"
            ],
            [
             0.2222222222222222,
             "#7201a8"
            ],
            [
             0.3333333333333333,
             "#9c179e"
            ],
            [
             0.4444444444444444,
             "#bd3786"
            ],
            [
             0.5555555555555556,
             "#d8576b"
            ],
            [
             0.6666666666666666,
             "#ed7953"
            ],
            [
             0.7777777777777778,
             "#fb9f3a"
            ],
            [
             0.8888888888888888,
             "#fdca26"
            ],
            [
             1,
             "#f0f921"
            ]
           ],
           "sequentialminus": [
            [
             0,
             "#0d0887"
            ],
            [
             0.1111111111111111,
             "#46039f"
            ],
            [
             0.2222222222222222,
             "#7201a8"
            ],
            [
             0.3333333333333333,
             "#9c179e"
            ],
            [
             0.4444444444444444,
             "#bd3786"
            ],
            [
             0.5555555555555556,
             "#d8576b"
            ],
            [
             0.6666666666666666,
             "#ed7953"
            ],
            [
             0.7777777777777778,
             "#fb9f3a"
            ],
            [
             0.8888888888888888,
             "#fdca26"
            ],
            [
             1,
             "#f0f921"
            ]
           ]
          },
          "colorway": [
           "#636efa",
           "#EF553B",
           "#00cc96",
           "#ab63fa",
           "#FFA15A",
           "#19d3f3",
           "#FF6692",
           "#B6E880",
           "#FF97FF",
           "#FECB52"
          ],
          "font": {
           "color": "#2a3f5f"
          },
          "geo": {
           "bgcolor": "white",
           "lakecolor": "white",
           "landcolor": "#E5ECF6",
           "showlakes": true,
           "showland": true,
           "subunitcolor": "white"
          },
          "hoverlabel": {
           "align": "left"
          },
          "hovermode": "closest",
          "mapbox": {
           "style": "light"
          },
          "paper_bgcolor": "white",
          "plot_bgcolor": "#E5ECF6",
          "polar": {
           "angularaxis": {
            "gridcolor": "white",
            "linecolor": "white",
            "ticks": ""
           },
           "bgcolor": "#E5ECF6",
           "radialaxis": {
            "gridcolor": "white",
            "linecolor": "white",
            "ticks": ""
           }
          },
          "scene": {
           "xaxis": {
            "backgroundcolor": "#E5ECF6",
            "gridcolor": "white",
            "gridwidth": 2,
            "linecolor": "white",
            "showbackground": true,
            "ticks": "",
            "zerolinecolor": "white"
           },
           "yaxis": {
            "backgroundcolor": "#E5ECF6",
            "gridcolor": "white",
            "gridwidth": 2,
            "linecolor": "white",
            "showbackground": true,
            "ticks": "",
            "zerolinecolor": "white"
           },
           "zaxis": {
            "backgroundcolor": "#E5ECF6",
            "gridcolor": "white",
            "gridwidth": 2,
            "linecolor": "white",
            "showbackground": true,
            "ticks": "",
            "zerolinecolor": "white"
           }
          },
          "shapedefaults": {
           "line": {
            "color": "#2a3f5f"
           }
          },
          "ternary": {
           "aaxis": {
            "gridcolor": "white",
            "linecolor": "white",
            "ticks": ""
           },
           "baxis": {
            "gridcolor": "white",
            "linecolor": "white",
            "ticks": ""
           },
           "bgcolor": "#E5ECF6",
           "caxis": {
            "gridcolor": "white",
            "linecolor": "white",
            "ticks": ""
           }
          },
          "title": {
           "x": 0.05
          },
          "xaxis": {
           "automargin": true,
           "gridcolor": "white",
           "linecolor": "white",
           "ticks": "",
           "title": {
            "standoff": 15
           },
           "zerolinecolor": "white",
           "zerolinewidth": 2
          },
          "yaxis": {
           "automargin": true,
           "gridcolor": "white",
           "linecolor": "white",
           "ticks": "",
           "title": {
            "standoff": 15
           },
           "zerolinecolor": "white",
           "zerolinewidth": 2
          }
         }
        },
        "title": {
         "text": "Répartition de la production électrique dans la journée - 6.1"
        },
        "yaxis": {
         "range": [
          -4345,
          44000
         ],
         "title": {
          "text": "MW"
         }
        },
        "yaxis2": {
         "anchor": "free",
         "overlaying": "y",
         "position": 1,
         "range": [
          1.348648148148148,
          2.0716666666666668
         ],
         "side": "right",
         "title": {
          "text": "€/MWh"
         }
        },
        "yaxis3": {
         "anchor": "free",
         "overlaying": "y",
         "position": 0.05,
         "range": [
          -3.6637359812630166e-15,
          8.69
         ],
         "side": "left",
         "title": {
          "text": "Réservoir (m)"
         }
        }
       }
      }
     },
     "metadata": {},
     "output_type": "display_data"
    }
   ],
   "source": [
    "from utils_viz import df_results61\n",
    "\n",
    "df = df_results61(dict_N,dict_P,dict_Nstart,dict_Thermique,dict_H,dict_Hstart,dict_Hydro,dict_S,debit_S,consommation)\n",
    "fig = Results_viz52(df,dict_Thermique,dict_Hydro)\n",
    "A = \"6.1\"\n",
    "fig.update_layout(\n",
    "    title = f\"Répartition de la production électrique dans la journée - {A}\"\n",
    ")\n",
    "fig.show()\n",
    "fig.write_html(f\"HTML/Répartition de la production électrique dans la journée - {A}.html\")\n"
   ]
  },
  {
   "cell_type": "markdown",
   "metadata": {},
   "source": [
    "### 6.3 Précision du profil de la demande"
   ]
  },
  {
   "cell_type": "code",
   "execution_count": 29,
   "metadata": {},
   "outputs": [
    {
     "name": "stdout",
     "output_type": "stream",
     "text": [
      "Gurobi Optimizer version 9.5.2 build v9.5.2rc0 (win64)\n",
      "Thread count: 4 physical cores, 8 logical processors, using up to 8 threads\n",
      "Optimize a model with 2281 rows, 2232 columns and 7488 nonzeros\n",
      "Model fingerprint: 0x763ca6d9\n",
      "Variable types: 672 continuous, 1560 integer (1560 binary)\n",
      "Coefficient statistics:\n",
      "  Matrix range     [3e-04, 6e+04]\n",
      "  Objective range  [1e+00, 2e+03]\n",
      "  Bounds range     [1e+00, 1e+00]\n",
      "  RHS range        [1e+00, 5e+04]\n",
      "Presolve removed 216 rows and 48 columns\n",
      "Presolve time: 0.01s\n",
      "Presolved: 2065 rows, 2184 columns, 6552 nonzeros\n",
      "Variable types: 672 continuous, 1512 integer (1512 binary)\n",
      "Found heuristic solution: objective 1047500.0000\n",
      "\n",
      "Root relaxation: objective 9.841490e+05, 1279 iterations, 0.01 seconds (0.01 work units)\n",
      "\n",
      "    Nodes    |    Current Node    |     Objective Bounds      |     Work\n",
      " Expl Unexpl |  Obj  Depth IntInf | Incumbent    BestBd   Gap | It/Node Time\n",
      "\n",
      "     0     0 984149.048    0   22 1047500.00 984149.048  6.05%     -    0s\n",
      "H    0     0                    988738.00000 984149.048  0.46%     -    0s\n",
      "H    0     0                    985975.00000 984221.217  0.18%     -    0s\n",
      "     0     0 984221.217    0   54 985975.000 984221.217  0.18%     -    0s\n",
      "H    0     0                    985565.00000 984221.217  0.14%     -    0s\n",
      "H    0     0                    985225.00000 984221.217  0.10%     -    0s\n",
      "     0     0 984297.176    0   18 985225.000 984297.176  0.09%     -    0s\n",
      "     0     0 984297.176    0   28 985225.000 984297.176  0.09%     -    0s\n",
      "     0     0 984297.261    0   26 985225.000 984297.261  0.09%     -    0s\n",
      "     0     0 984297.285    0   47 985225.000 984297.285  0.09%     -    0s\n",
      "     0     0 984299.529    0   20 985225.000 984299.529  0.09%     -    0s\n",
      "     0     0 984392.183    0   46 985225.000 984392.183  0.08%     -    0s\n",
      "H    0     0                    984940.00000 984392.183  0.06%     -    0s\n",
      "     0     0 984398.344    0   48 984940.000 984398.344  0.05%     -    0s\n",
      "     0     0 984398.344    0   48 984940.000 984398.344  0.05%     -    0s\n",
      "     0     0 984402.431    0   59 984940.000 984402.431  0.05%     -    0s\n",
      "     0     0 984410.617    0   60 984940.000 984410.617  0.05%     -    0s\n",
      "     0     0 984410.617    0   66 984940.000 984410.617  0.05%     -    0s\n",
      "     0     0 984417.086    0   70 984940.000 984417.086  0.05%     -    0s\n",
      "H    0     0                    984885.00000 984417.086  0.05%     -    0s\n",
      "     0     0 984417.086    0   77 984885.000 984417.086  0.05%     -    0s\n",
      "     0     0 984417.086    0   79 984885.000 984417.086  0.05%     -    0s\n",
      "     0     0 984417.119    0   92 984885.000 984417.119  0.05%     -    0s\n",
      "     0     0 984417.205    0   51 984885.000 984417.205  0.05%     -    0s\n",
      "     0     0 984417.370    0   34 984885.000 984417.370  0.05%     -    0s\n",
      "     0     0 984417.370    0   55 984885.000 984417.370  0.05%     -    0s\n",
      "     0     0 984417.370    0   61 984885.000 984417.370  0.05%     -    0s\n",
      "     0     0 984418.607    0   52 984885.000 984418.607  0.05%     -    0s\n",
      "     0     0 984418.607    0   18 984885.000 984418.607  0.05%     -    0s\n",
      "     0     0 984418.607    0   17 984885.000 984418.607  0.05%     -    0s\n",
      "     0     0 984418.607    0   48 984885.000 984418.607  0.05%     -    0s\n",
      "     0     0 984418.607    0   27 984885.000 984418.607  0.05%     -    0s\n",
      "     0     0 984418.607    0   29 984885.000 984418.607  0.05%     -    0s\n",
      "     0     0 984418.622    0   30 984885.000 984418.622  0.05%     -    0s\n",
      "H    0     0                    984565.00000 984418.622  0.01%     -    0s\n",
      "     0     0 984418.711    0   49 984565.000 984418.711  0.01%     -    0s\n",
      "H    0     0                    984530.00000 984418.711  0.01%     -    0s\n",
      "     0     0 984420.104    0   20 984530.000 984420.104  0.01%     -    0s\n",
      "     0     0 984420.104    0    7 984530.000 984420.104  0.01%     -    0s\n",
      "     0     0 984420.104    0   23 984530.000 984420.104  0.01%     -    0s\n",
      "     0     0 984420.104    0   14 984530.000 984420.104  0.01%     -    0s\n",
      "     0     0 984420.104    0   15 984530.000 984420.104  0.01%     -    0s\n",
      "     0     0 984420.104    0   17 984530.000 984420.104  0.01%     -    0s\n",
      "     0     0 984425.706    0   20 984530.000 984425.706  0.01%     -    0s\n",
      "     0     0 984425.706    0   22 984530.000 984425.706  0.01%     -    0s\n",
      "     0     0 984425.706    0   33 984530.000 984425.706  0.01%     -    0s\n",
      "     0     0 984428.729    0   29 984530.000 984428.729  0.01%     -    0s\n",
      "     0     0 984428.729    0   29 984530.000 984428.729  0.01%     -    0s\n",
      "     0     0 984428.808    0   21 984530.000 984428.808  0.01%     -    0s\n",
      "     0     0 984428.889    0   19 984530.000 984428.889  0.01%     -    0s\n",
      "     0     0 984428.889    0   19 984530.000 984428.889  0.01%     -    0s\n",
      "     0     2 984428.889    0   19 984530.000 984428.889  0.01%     -    0s\n",
      "\n",
      "Cutting planes:\n",
      "  Gomory: 1\n",
      "  MIR: 13\n",
      "  Flow cover: 8\n",
      "\n",
      "Explored 1 nodes (4251 simplex iterations) in 0.79 seconds (0.31 work units)\n",
      "Thread count was 8 (of 8 available processors)\n",
      "\n",
      "Solution count 10: 984530 984565 984885 ... 991145\n",
      "\n",
      "Optimal solution found (tolerance 1.00e-04)\n",
      "Best objective 9.845300000000e+05, best bound 9.844386852811e+05, gap 0.0093%\n"
     ]
    }
   ],
   "source": [
    "consommation = np.array([17,15,14,13,13,18,29,32,29,27,25,25,24,24,25,38,42,40,33,31,27,26,24,21])*1000\n",
    "\n",
    "model = gp.Model(\"6.2\")\n",
    "\n",
    "dict_N, dict_P, dict_Nstart = variables_decision_desagregation_thermique(model,dict_Thermique)\n",
    "dict_H, dict_Hstart = variables_decision_hydraulique_palier(model,dict_Hydro)\n",
    "dict_S = {t : model.addVar(lb=0,vtype=gp.GRB.CONTINUOUS,name=f\"pompage à l'instant {t}\") for t in range(24)}\n",
    "dict_N_s = {t : model.addVar(lb=0,vtype=gp.GRB.BINARY,name=f\"fonctionnement pompe à l'instant {t}\") for t in range(24)}\n",
    "debit_S = 1/3000 # débit de pompage par MWh ou par MW pendant une heure\n",
    "M = sum([dict_Thermique[X].N * dict_Thermique[X].Pmax for X in dict_Thermique]) + sum([dict_Hydro[Y].P[dict_Hydro[Y].palier_max()] for Y in dict_Hydro])\n",
    "\n",
    "contraintes_reservoir_palier(model,dict_H,dict_Hydro,dict_S,debit_S)\n",
    "contraintes_hydraulique_palier(model,dict_H,dict_Hydro,dict_Hstart)\n",
    "contraintes_hydraulique_pompage(model,dict_H,dict_Hydro,dict_N_s,dict_S,M)\n",
    "contraintes_thermique_desagregation(model,dict_P,dict_N,dict_Nstart,dict_Thermique)\n",
    "contraintes_equilibre_desagregation(model,dict_P,dict_Thermique,dict_H,dict_Hydro,dict_S,consommation)\n",
    "contraintes_reserve_desagregation(model,dict_N,dict_Thermique,dict_Hydro,consommation)\n",
    "\n",
    "model.setObjective(\n",
    "    gp.quicksum([dict_N[X,k,t] * (dict_Thermique[X].Cbase - dict_Thermique[X].Pmin*dict_Thermique[X].Cmwh) for X in dict_Thermique for k in range(dict_Thermique[X].N) for t in range(24)]) + \n",
    "    gp.quicksum([dict_P[X,k,t] * dict_Thermique[X].Cmwh for X in dict_Thermique for k in range(dict_Thermique[X].N) for t in range(24)])+ \n",
    "    gp.quicksum([dict_Nstart[X,k,t]*dict_Thermique[X].Cstart for X in dict_Thermique for k in range(dict_Thermique[X].N) for t in range(24)])+\n",
    "    gp.quicksum([dict_H[Y,n,t] * dict_Hydro[Y].Cheure[n] for Y in dict_Hydro for t in range(24) for n in dict_Hydro[Y].Palier])+\n",
    "    gp.quicksum([dict_Hstart[Y,t] * dict_Hydro[Y].Cstart for Y in dict_Hydro for t in range(24)]),\n",
    "    gp.GRB.MINIMIZE\n",
    "    )\n",
    "\n",
    "model.optimize()"
   ]
  },
  {
   "cell_type": "code",
   "execution_count": 30,
   "metadata": {},
   "outputs": [
    {
     "data": {
      "application/vnd.plotly.v1+json": {
       "config": {
        "plotlyServerURL": "https://plot.ly"
       },
       "data": [
        {
         "name": "Thermique A",
         "stackgroup": "one",
         "type": "scatter",
         "x": [
          0,
          1,
          2,
          3,
          4,
          5,
          6,
          7,
          8,
          9,
          10,
          11,
          12,
          13,
          14,
          15,
          16,
          17,
          18,
          19,
          20,
          21,
          22,
          23
         ],
         "y": [
          10200,
          10200,
          10200,
          10200,
          10200,
          10200,
          10450,
          13450,
          10450,
          10350,
          10200,
          10320.000000000015,
          10200,
          10200,
          10200,
          16400,
          20200,
          18200,
          11200,
          10700,
          10600,
          10300,
          10250,
          10549.999999999967
         ]
        },
        {
         "name": "Thermique B",
         "stackgroup": "one",
         "type": "scatter",
         "x": [
          0,
          1,
          2,
          3,
          4,
          5,
          6,
          7,
          8,
          9,
          10,
          11,
          12,
          13,
          14,
          15,
          16,
          17,
          18,
          19,
          20,
          21,
          22,
          23
         ],
         "y": [
          8750,
          8750,
          8750,
          8750,
          8750,
          8750,
          15750,
          15750,
          15750,
          15750,
          15750,
          15750,
          15750,
          15750,
          15750,
          17500,
          17500,
          17500,
          17500,
          17500,
          14000,
          14000,
          12250,
          8750.000000000033
         ]
        },
        {
         "name": "Thermique C",
         "stackgroup": "one",
         "type": "scatter",
         "x": [
          0,
          1,
          2,
          3,
          4,
          5,
          6,
          7,
          8,
          9,
          10,
          11,
          12,
          13,
          14,
          15,
          16,
          17,
          18,
          19,
          20,
          21,
          22,
          23
         ],
         "y": [
          0,
          0,
          0,
          0,
          0,
          0,
          0,
          0,
          0,
          0,
          0,
          0,
          0,
          0,
          0,
          1500,
          1500,
          1500,
          1500,
          0,
          0,
          0,
          0,
          0
         ]
        },
        {
         "name": "Hydraulique 9",
         "stackgroup": "one",
         "type": "scatter",
         "x": [
          0,
          1,
          2,
          3,
          4,
          5,
          6,
          7,
          8,
          9,
          10,
          11,
          12,
          13,
          14,
          15,
          16,
          17,
          18,
          19,
          20,
          21,
          22,
          23
         ],
         "y": [
          0,
          0,
          0,
          0,
          0,
          0,
          1100,
          1100,
          1100,
          900,
          0,
          0,
          0,
          0,
          0,
          900,
          1100,
          1100,
          1100,
          1100,
          900,
          0,
          0,
          0
         ]
        },
        {
         "name": "Hydraulique 14",
         "stackgroup": "one",
         "type": "scatter",
         "x": [
          0,
          1,
          2,
          3,
          4,
          5,
          6,
          7,
          8,
          9,
          10,
          11,
          12,
          13,
          14,
          15,
          16,
          17,
          18,
          19,
          20,
          21,
          22,
          23
         ],
         "y": [
          0,
          0,
          0,
          0,
          0,
          0,
          1700,
          1700,
          1700,
          0,
          0,
          0,
          0,
          0,
          0,
          1700,
          1700,
          1700,
          1700,
          1700,
          1500,
          1700,
          1500,
          1700
         ]
        },
        {
         "name": "Pompage",
         "stackgroup": "two",
         "type": "scatter",
         "x": [
          0,
          1,
          2,
          3,
          4,
          5,
          6,
          7,
          8,
          9,
          10,
          11,
          12,
          13,
          14,
          15,
          16,
          17,
          18,
          19,
          20,
          21,
          22,
          23
         ],
         "y": [
          -1950,
          -3950,
          -4950,
          -5950,
          -5950,
          -950,
          0,
          0,
          0,
          0,
          -950,
          -1070.0000000000143,
          -1950,
          -1950,
          -950,
          0,
          0,
          0,
          0,
          0,
          0,
          0,
          0,
          0
         ]
        },
        {
         "line": {
          "color": "red",
          "dash": "dash"
         },
         "name": "Production total",
         "type": "scatter",
         "x": [
          0,
          1,
          2,
          3,
          4,
          5,
          6,
          7,
          8,
          9,
          10,
          11,
          12,
          13,
          14,
          15,
          16,
          17,
          18,
          19,
          20,
          21,
          22,
          23
         ],
         "y": [
          17000,
          15000,
          14000,
          13000,
          13000,
          18000,
          29000,
          32000,
          29000,
          27000,
          25000,
          25000,
          24000,
          24000,
          25000,
          38000,
          42000,
          40000,
          33000,
          31000,
          27000,
          26000,
          24000,
          21000
         ]
        },
        {
         "line": {
          "color": "black"
         },
         "name": "Coût MWh",
         "type": "scatter",
         "x": [
          0,
          1,
          2,
          3,
          4,
          5,
          6,
          7,
          8,
          9,
          10,
          11,
          12,
          13,
          14,
          15,
          16,
          17,
          18,
          19,
          20,
          21,
          22,
          23
         ],
         "y": [
          1.661764705882353,
          1.8833333333333333,
          2.017857142857143,
          2.173076923076923,
          2.173076923076923,
          1.5694444444444444,
          1.5889655172413792,
          1.5025,
          1.4510344827586208,
          1.5422222222222222,
          1.65,
          1.659600000000001,
          1.71875,
          1.71875,
          1.65,
          1.6236842105263158,
          1.615,
          1.59575,
          1.51,
          1.4783870967741934,
          1.4464814814814815,
          1.4773076923076922,
          1.4589583333333334,
          1.3885714285714275
         ],
         "yaxis": "y2"
        },
        {
         "line": {
          "color": "grey"
         },
         "name": "Niveau réservoir",
         "type": "scatter",
         "x": [
          0,
          1,
          2,
          3,
          4,
          5,
          6,
          7,
          8,
          9,
          10,
          11,
          12,
          13,
          14,
          15,
          16,
          17,
          18,
          19,
          20,
          21,
          22,
          23
         ],
         "y": [
          0.65,
          1.9666666666666668,
          3.6166666666666667,
          5.6,
          7.583333333333333,
          7.8999999999999995,
          6.959999999999999,
          6.019999999999999,
          5.079999999999998,
          4.769999999999999,
          5.086666666666665,
          5.443333333333337,
          6.093333333333337,
          6.743333333333338,
          7.060000000000004,
          6.190000000000004,
          5.2500000000000036,
          4.310000000000003,
          3.370000000000003,
          2.4300000000000033,
          1.6200000000000032,
          1.0600000000000032,
          0.5600000000000032,
          3.1086244689504383e-15
         ],
         "yaxis": "y3"
        }
       ],
       "layout": {
        "hovermode": "x",
        "template": {
         "data": {
          "bar": [
           {
            "error_x": {
             "color": "#2a3f5f"
            },
            "error_y": {
             "color": "#2a3f5f"
            },
            "marker": {
             "line": {
              "color": "#E5ECF6",
              "width": 0.5
             },
             "pattern": {
              "fillmode": "overlay",
              "size": 10,
              "solidity": 0.2
             }
            },
            "type": "bar"
           }
          ],
          "barpolar": [
           {
            "marker": {
             "line": {
              "color": "#E5ECF6",
              "width": 0.5
             },
             "pattern": {
              "fillmode": "overlay",
              "size": 10,
              "solidity": 0.2
             }
            },
            "type": "barpolar"
           }
          ],
          "carpet": [
           {
            "aaxis": {
             "endlinecolor": "#2a3f5f",
             "gridcolor": "white",
             "linecolor": "white",
             "minorgridcolor": "white",
             "startlinecolor": "#2a3f5f"
            },
            "baxis": {
             "endlinecolor": "#2a3f5f",
             "gridcolor": "white",
             "linecolor": "white",
             "minorgridcolor": "white",
             "startlinecolor": "#2a3f5f"
            },
            "type": "carpet"
           }
          ],
          "choropleth": [
           {
            "colorbar": {
             "outlinewidth": 0,
             "ticks": ""
            },
            "type": "choropleth"
           }
          ],
          "contour": [
           {
            "colorbar": {
             "outlinewidth": 0,
             "ticks": ""
            },
            "colorscale": [
             [
              0,
              "#0d0887"
             ],
             [
              0.1111111111111111,
              "#46039f"
             ],
             [
              0.2222222222222222,
              "#7201a8"
             ],
             [
              0.3333333333333333,
              "#9c179e"
             ],
             [
              0.4444444444444444,
              "#bd3786"
             ],
             [
              0.5555555555555556,
              "#d8576b"
             ],
             [
              0.6666666666666666,
              "#ed7953"
             ],
             [
              0.7777777777777778,
              "#fb9f3a"
             ],
             [
              0.8888888888888888,
              "#fdca26"
             ],
             [
              1,
              "#f0f921"
             ]
            ],
            "type": "contour"
           }
          ],
          "contourcarpet": [
           {
            "colorbar": {
             "outlinewidth": 0,
             "ticks": ""
            },
            "type": "contourcarpet"
           }
          ],
          "heatmap": [
           {
            "colorbar": {
             "outlinewidth": 0,
             "ticks": ""
            },
            "colorscale": [
             [
              0,
              "#0d0887"
             ],
             [
              0.1111111111111111,
              "#46039f"
             ],
             [
              0.2222222222222222,
              "#7201a8"
             ],
             [
              0.3333333333333333,
              "#9c179e"
             ],
             [
              0.4444444444444444,
              "#bd3786"
             ],
             [
              0.5555555555555556,
              "#d8576b"
             ],
             [
              0.6666666666666666,
              "#ed7953"
             ],
             [
              0.7777777777777778,
              "#fb9f3a"
             ],
             [
              0.8888888888888888,
              "#fdca26"
             ],
             [
              1,
              "#f0f921"
             ]
            ],
            "type": "heatmap"
           }
          ],
          "heatmapgl": [
           {
            "colorbar": {
             "outlinewidth": 0,
             "ticks": ""
            },
            "colorscale": [
             [
              0,
              "#0d0887"
             ],
             [
              0.1111111111111111,
              "#46039f"
             ],
             [
              0.2222222222222222,
              "#7201a8"
             ],
             [
              0.3333333333333333,
              "#9c179e"
             ],
             [
              0.4444444444444444,
              "#bd3786"
             ],
             [
              0.5555555555555556,
              "#d8576b"
             ],
             [
              0.6666666666666666,
              "#ed7953"
             ],
             [
              0.7777777777777778,
              "#fb9f3a"
             ],
             [
              0.8888888888888888,
              "#fdca26"
             ],
             [
              1,
              "#f0f921"
             ]
            ],
            "type": "heatmapgl"
           }
          ],
          "histogram": [
           {
            "marker": {
             "pattern": {
              "fillmode": "overlay",
              "size": 10,
              "solidity": 0.2
             }
            },
            "type": "histogram"
           }
          ],
          "histogram2d": [
           {
            "colorbar": {
             "outlinewidth": 0,
             "ticks": ""
            },
            "colorscale": [
             [
              0,
              "#0d0887"
             ],
             [
              0.1111111111111111,
              "#46039f"
             ],
             [
              0.2222222222222222,
              "#7201a8"
             ],
             [
              0.3333333333333333,
              "#9c179e"
             ],
             [
              0.4444444444444444,
              "#bd3786"
             ],
             [
              0.5555555555555556,
              "#d8576b"
             ],
             [
              0.6666666666666666,
              "#ed7953"
             ],
             [
              0.7777777777777778,
              "#fb9f3a"
             ],
             [
              0.8888888888888888,
              "#fdca26"
             ],
             [
              1,
              "#f0f921"
             ]
            ],
            "type": "histogram2d"
           }
          ],
          "histogram2dcontour": [
           {
            "colorbar": {
             "outlinewidth": 0,
             "ticks": ""
            },
            "colorscale": [
             [
              0,
              "#0d0887"
             ],
             [
              0.1111111111111111,
              "#46039f"
             ],
             [
              0.2222222222222222,
              "#7201a8"
             ],
             [
              0.3333333333333333,
              "#9c179e"
             ],
             [
              0.4444444444444444,
              "#bd3786"
             ],
             [
              0.5555555555555556,
              "#d8576b"
             ],
             [
              0.6666666666666666,
              "#ed7953"
             ],
             [
              0.7777777777777778,
              "#fb9f3a"
             ],
             [
              0.8888888888888888,
              "#fdca26"
             ],
             [
              1,
              "#f0f921"
             ]
            ],
            "type": "histogram2dcontour"
           }
          ],
          "mesh3d": [
           {
            "colorbar": {
             "outlinewidth": 0,
             "ticks": ""
            },
            "type": "mesh3d"
           }
          ],
          "parcoords": [
           {
            "line": {
             "colorbar": {
              "outlinewidth": 0,
              "ticks": ""
             }
            },
            "type": "parcoords"
           }
          ],
          "pie": [
           {
            "automargin": true,
            "type": "pie"
           }
          ],
          "scatter": [
           {
            "fillpattern": {
             "fillmode": "overlay",
             "size": 10,
             "solidity": 0.2
            },
            "type": "scatter"
           }
          ],
          "scatter3d": [
           {
            "line": {
             "colorbar": {
              "outlinewidth": 0,
              "ticks": ""
             }
            },
            "marker": {
             "colorbar": {
              "outlinewidth": 0,
              "ticks": ""
             }
            },
            "type": "scatter3d"
           }
          ],
          "scattercarpet": [
           {
            "marker": {
             "colorbar": {
              "outlinewidth": 0,
              "ticks": ""
             }
            },
            "type": "scattercarpet"
           }
          ],
          "scattergeo": [
           {
            "marker": {
             "colorbar": {
              "outlinewidth": 0,
              "ticks": ""
             }
            },
            "type": "scattergeo"
           }
          ],
          "scattergl": [
           {
            "marker": {
             "colorbar": {
              "outlinewidth": 0,
              "ticks": ""
             }
            },
            "type": "scattergl"
           }
          ],
          "scattermapbox": [
           {
            "marker": {
             "colorbar": {
              "outlinewidth": 0,
              "ticks": ""
             }
            },
            "type": "scattermapbox"
           }
          ],
          "scatterpolar": [
           {
            "marker": {
             "colorbar": {
              "outlinewidth": 0,
              "ticks": ""
             }
            },
            "type": "scatterpolar"
           }
          ],
          "scatterpolargl": [
           {
            "marker": {
             "colorbar": {
              "outlinewidth": 0,
              "ticks": ""
             }
            },
            "type": "scatterpolargl"
           }
          ],
          "scatterternary": [
           {
            "marker": {
             "colorbar": {
              "outlinewidth": 0,
              "ticks": ""
             }
            },
            "type": "scatterternary"
           }
          ],
          "surface": [
           {
            "colorbar": {
             "outlinewidth": 0,
             "ticks": ""
            },
            "colorscale": [
             [
              0,
              "#0d0887"
             ],
             [
              0.1111111111111111,
              "#46039f"
             ],
             [
              0.2222222222222222,
              "#7201a8"
             ],
             [
              0.3333333333333333,
              "#9c179e"
             ],
             [
              0.4444444444444444,
              "#bd3786"
             ],
             [
              0.5555555555555556,
              "#d8576b"
             ],
             [
              0.6666666666666666,
              "#ed7953"
             ],
             [
              0.7777777777777778,
              "#fb9f3a"
             ],
             [
              0.8888888888888888,
              "#fdca26"
             ],
             [
              1,
              "#f0f921"
             ]
            ],
            "type": "surface"
           }
          ],
          "table": [
           {
            "cells": {
             "fill": {
              "color": "#EBF0F8"
             },
             "line": {
              "color": "white"
             }
            },
            "header": {
             "fill": {
              "color": "#C8D4E3"
             },
             "line": {
              "color": "white"
             }
            },
            "type": "table"
           }
          ]
         },
         "layout": {
          "annotationdefaults": {
           "arrowcolor": "#2a3f5f",
           "arrowhead": 0,
           "arrowwidth": 1
          },
          "autotypenumbers": "strict",
          "coloraxis": {
           "colorbar": {
            "outlinewidth": 0,
            "ticks": ""
           }
          },
          "colorscale": {
           "diverging": [
            [
             0,
             "#8e0152"
            ],
            [
             0.1,
             "#c51b7d"
            ],
            [
             0.2,
             "#de77ae"
            ],
            [
             0.3,
             "#f1b6da"
            ],
            [
             0.4,
             "#fde0ef"
            ],
            [
             0.5,
             "#f7f7f7"
            ],
            [
             0.6,
             "#e6f5d0"
            ],
            [
             0.7,
             "#b8e186"
            ],
            [
             0.8,
             "#7fbc41"
            ],
            [
             0.9,
             "#4d9221"
            ],
            [
             1,
             "#276419"
            ]
           ],
           "sequential": [
            [
             0,
             "#0d0887"
            ],
            [
             0.1111111111111111,
             "#46039f"
            ],
            [
             0.2222222222222222,
             "#7201a8"
            ],
            [
             0.3333333333333333,
             "#9c179e"
            ],
            [
             0.4444444444444444,
             "#bd3786"
            ],
            [
             0.5555555555555556,
             "#d8576b"
            ],
            [
             0.6666666666666666,
             "#ed7953"
            ],
            [
             0.7777777777777778,
             "#fb9f3a"
            ],
            [
             0.8888888888888888,
             "#fdca26"
            ],
            [
             1,
             "#f0f921"
            ]
           ],
           "sequentialminus": [
            [
             0,
             "#0d0887"
            ],
            [
             0.1111111111111111,
             "#46039f"
            ],
            [
             0.2222222222222222,
             "#7201a8"
            ],
            [
             0.3333333333333333,
             "#9c179e"
            ],
            [
             0.4444444444444444,
             "#bd3786"
            ],
            [
             0.5555555555555556,
             "#d8576b"
            ],
            [
             0.6666666666666666,
             "#ed7953"
            ],
            [
             0.7777777777777778,
             "#fb9f3a"
            ],
            [
             0.8888888888888888,
             "#fdca26"
            ],
            [
             1,
             "#f0f921"
            ]
           ]
          },
          "colorway": [
           "#636efa",
           "#EF553B",
           "#00cc96",
           "#ab63fa",
           "#FFA15A",
           "#19d3f3",
           "#FF6692",
           "#B6E880",
           "#FF97FF",
           "#FECB52"
          ],
          "font": {
           "color": "#2a3f5f"
          },
          "geo": {
           "bgcolor": "white",
           "lakecolor": "white",
           "landcolor": "#E5ECF6",
           "showlakes": true,
           "showland": true,
           "subunitcolor": "white"
          },
          "hoverlabel": {
           "align": "left"
          },
          "hovermode": "closest",
          "mapbox": {
           "style": "light"
          },
          "paper_bgcolor": "white",
          "plot_bgcolor": "#E5ECF6",
          "polar": {
           "angularaxis": {
            "gridcolor": "white",
            "linecolor": "white",
            "ticks": ""
           },
           "bgcolor": "#E5ECF6",
           "radialaxis": {
            "gridcolor": "white",
            "linecolor": "white",
            "ticks": ""
           }
          },
          "scene": {
           "xaxis": {
            "backgroundcolor": "#E5ECF6",
            "gridcolor": "white",
            "gridwidth": 2,
            "linecolor": "white",
            "showbackground": true,
            "ticks": "",
            "zerolinecolor": "white"
           },
           "yaxis": {
            "backgroundcolor": "#E5ECF6",
            "gridcolor": "white",
            "gridwidth": 2,
            "linecolor": "white",
            "showbackground": true,
            "ticks": "",
            "zerolinecolor": "white"
           },
           "zaxis": {
            "backgroundcolor": "#E5ECF6",
            "gridcolor": "white",
            "gridwidth": 2,
            "linecolor": "white",
            "showbackground": true,
            "ticks": "",
            "zerolinecolor": "white"
           }
          },
          "shapedefaults": {
           "line": {
            "color": "#2a3f5f"
           }
          },
          "ternary": {
           "aaxis": {
            "gridcolor": "white",
            "linecolor": "white",
            "ticks": ""
           },
           "baxis": {
            "gridcolor": "white",
            "linecolor": "white",
            "ticks": ""
           },
           "bgcolor": "#E5ECF6",
           "caxis": {
            "gridcolor": "white",
            "linecolor": "white",
            "ticks": ""
           }
          },
          "title": {
           "x": 0.05
          },
          "xaxis": {
           "automargin": true,
           "gridcolor": "white",
           "linecolor": "white",
           "ticks": "",
           "title": {
            "standoff": 15
           },
           "zerolinecolor": "white",
           "zerolinewidth": 2
          },
          "yaxis": {
           "automargin": true,
           "gridcolor": "white",
           "linecolor": "white",
           "ticks": "",
           "title": {
            "standoff": 15
           },
           "zerolinecolor": "white",
           "zerolinewidth": 2
          }
         }
        },
        "title": {
         "text": "Répartition de la production électrique dans la journée - 6.3"
        },
        "yaxis": {
         "range": [
          -6545.000000000001,
          46200.00000000001
         ],
         "title": {
          "text": "MW"
         }
        },
        "yaxis2": {
         "anchor": "free",
         "overlaying": "y",
         "position": 1,
         "range": [
          1.319142857142856,
          2.3903846153846153
         ],
         "side": "right",
         "title": {
          "text": "€/MWh"
         }
        },
        "yaxis3": {
         "anchor": "free",
         "overlaying": "y",
         "position": 0.05,
         "range": [
          3.4194869158454826e-15,
          8.69
         ],
         "side": "left",
         "title": {
          "text": "Réservoir (m)"
         }
        }
       }
      }
     },
     "metadata": {},
     "output_type": "display_data"
    }
   ],
   "source": [
    "df = df_results61(dict_N,dict_P,dict_Nstart,dict_Thermique,dict_H,dict_Hstart,dict_Hydro,dict_S,debit_S,consommation)\n",
    "fig = Results_viz52(df,dict_Thermique,dict_Hydro)\n",
    "A = \"6.3\"\n",
    "fig.update_layout(\n",
    "    title = f\"Répartition de la production électrique dans la journée - {A}\"\n",
    ")\n",
    "fig.show()\n",
    "fig.write_html(f\"HTML/Répartition de la production électrique dans la journée - {A}.html\")"
   ]
  },
  {
   "cell_type": "markdown",
   "metadata": {},
   "source": [
    "### 6.4 Discrétisation à un pas de deux heures"
   ]
  },
  {
   "cell_type": "code",
   "execution_count": 31,
   "metadata": {},
   "outputs": [
    {
     "name": "stdout",
     "output_type": "stream",
     "text": [
      "Gurobi Optimizer version 9.5.2 build v9.5.2rc0 (win64)\n",
      "Thread count: 4 physical cores, 8 logical processors, using up to 8 threads\n",
      "Optimize a model with 2281 rows, 2232 columns and 7488 nonzeros\n",
      "Model fingerprint: 0x35a75956\n",
      "Variable types: 672 continuous, 1560 integer (1560 binary)\n",
      "Coefficient statistics:\n",
      "  Matrix range     [3e-04, 6e+04]\n",
      "  Objective range  [1e+00, 2e+03]\n",
      "  Bounds range     [1e+00, 1e+00]\n",
      "  RHS range        [1e+00, 4e+04]\n",
      "Presolve removed 216 rows and 48 columns\n",
      "Presolve time: 0.01s\n",
      "Presolved: 2065 rows, 2184 columns, 6552 nonzeros\n",
      "Variable types: 672 continuous, 1512 integer (1512 binary)\n",
      "Found heuristic solution: objective 1044200.0000\n",
      "\n",
      "Root relaxation: objective 9.869988e+05, 1266 iterations, 0.01 seconds (0.01 work units)\n",
      "\n",
      "    Nodes    |    Current Node    |     Objective Bounds      |     Work\n",
      " Expl Unexpl |  Obj  Depth IntInf | Incumbent    BestBd   Gap | It/Node Time\n",
      "\n",
      "     0     0 986998.810    0   24 1044200.00 986998.810  5.48%     -    0s\n",
      "H    0     0                    988436.00000 986998.810  0.15%     -    0s\n",
      "     0     0 987190.000    0   19 988436.000 987190.000  0.13%     -    0s\n",
      "     0     0 987190.000    0   26 988436.000 987190.000  0.13%     -    0s\n",
      "     0     0 987191.949    0   33 988436.000 987191.949  0.13%     -    0s\n",
      "H    0     0                    988192.00000 987199.387  0.10%     -    0s\n",
      "     0     0 987199.387    0   60 988192.000 987199.387  0.10%     -    0s\n",
      "H    0     0                    987645.00000 987199.387  0.05%     -    0s\n",
      "     0     0 987200.756    0   59 987645.000 987200.756  0.04%     -    0s\n",
      "     0     0 987287.195    0   15 987645.000 987287.195  0.04%     -    0s\n",
      "     0     0 987287.195    0   14 987645.000 987287.195  0.04%     -    0s\n",
      "     0     0 987287.195    0   26 987645.000 987287.195  0.04%     -    0s\n",
      "     0     0 987287.195    0   19 987645.000 987287.195  0.04%     -    0s\n",
      "H    0     0                    987640.00000 987287.195  0.04%     -    0s\n",
      "     0     0 987287.195    0   40 987640.000 987287.195  0.04%     -    0s\n",
      "H    0     0                    987633.00000 987287.195  0.04%     -    0s\n",
      "     0     0 987287.195    0   35 987633.000 987287.195  0.04%     -    0s\n",
      "     0     0 987287.195    0   29 987633.000 987287.195  0.04%     -    0s\n",
      "     0     0 987287.195    0   48 987633.000 987287.195  0.04%     -    0s\n",
      "     0     0 987287.195    0   55 987633.000 987287.195  0.04%     -    0s\n",
      "     0     0 987287.195    0   70 987633.000 987287.195  0.04%     -    0s\n",
      "     0     0 987287.195    0   68 987633.000 987287.195  0.04%     -    0s\n",
      "     0     0 987287.195    0   70 987633.000 987287.195  0.04%     -    0s\n",
      "     0     0 987287.195    0   37 987633.000 987287.195  0.04%     -    0s\n",
      "     0     0 987287.195    0   37 987633.000 987287.195  0.04%     -    0s\n",
      "H    0     0                    987592.00000 987287.195  0.03%     -    0s\n",
      "H    0     0                    987495.00000 987287.195  0.02%     -    0s\n",
      "     0     0 987287.195    0    9 987495.000 987287.195  0.02%     -    0s\n",
      "     0     0 987287.195    0   29 987495.000 987287.195  0.02%     -    0s\n",
      "     0     0 987287.195    0   34 987495.000 987287.195  0.02%     -    0s\n",
      "     0     0 987287.391    0   23 987495.000 987287.391  0.02%     -    0s\n",
      "     0     0 987287.391    0   23 987495.000 987287.391  0.02%     -    0s\n",
      "     0     0 987287.391    0   34 987495.000 987287.391  0.02%     -    0s\n",
      "     0     0 987287.974    0    9 987495.000 987287.974  0.02%     -    0s\n",
      "H    0     0                    987445.00000 987287.974  0.02%     -    0s\n",
      "     0     0 987287.974    0   18 987445.000 987287.974  0.02%     -    0s\n",
      "     0     0 987287.974    0   29 987445.000 987287.974  0.02%     -    0s\n",
      "     0     0 987287.974    0   15 987445.000 987287.974  0.02%     -    0s\n",
      "H    0     0                    987426.00000 987287.974  0.01%     -    0s\n",
      "     0     0 987287.974    0   10 987426.000 987287.974  0.01%     -    0s\n",
      "H    0     0                    987394.00000 987287.974  0.01%     -    0s\n",
      "     0     0 987287.974    0    6 987394.000 987287.974  0.01%     -    0s\n",
      "     0     0 987287.974    0   17 987394.000 987287.974  0.01%     -    0s\n",
      "     0     0 987287.974    0    8 987394.000 987287.974  0.01%     -    0s\n",
      "     0     0 987287.974    0   16 987394.000 987287.974  0.01%     -    0s\n",
      "     0     0 987287.974    0   16 987394.000 987287.974  0.01%     -    0s\n",
      "     0     0 987287.974    0   20 987394.000 987287.974  0.01%     -    0s\n",
      "     0     0 987289.085    0    7 987394.000 987289.085  0.01%     -    0s\n",
      "     0     0 987289.085    0    8 987394.000 987289.085  0.01%     -    0s\n",
      "     0     0 987289.085    0    8 987394.000 987289.085  0.01%     -    0s\n",
      "     0     0 987289.085    0    6 987394.000 987289.085  0.01%     -    0s\n",
      "     0     0 987289.085    0   11 987394.000 987289.085  0.01%     -    0s\n",
      "     0     0 987289.085    0    8 987394.000 987289.085  0.01%     -    0s\n",
      "     0     0 987289.085    0    5 987394.000 987289.085  0.01%     -    0s\n",
      "     0     0 987289.085    0   10 987394.000 987289.085  0.01%     -    0s\n",
      "     0     0 987289.085    0   11 987394.000 987289.085  0.01%     -    0s\n",
      "     0     0 987289.085    0   16 987394.000 987289.085  0.01%     -    0s\n",
      "     0     0 987289.139    0   10 987394.000 987289.139  0.01%     -    0s\n",
      "     0     0 987289.139    0   10 987394.000 987289.139  0.01%     -    0s\n",
      "     0     2 987289.139    0   10 987394.000 987289.139  0.01%     -    0s\n",
      "H   44    26                    987385.00000 987290.476  0.01%   4.4    0s\n",
      "H   44    26                    987370.00000 987290.476  0.01%   4.4    0s\n",
      "\n",
      "Cutting planes:\n",
      "  Gomory: 3\n",
      "  Lift-and-project: 1\n",
      "  MIR: 6\n",
      "  Flow cover: 5\n",
      "\n",
      "Explored 47 nodes (4883 simplex iterations) in 0.79 seconds (0.32 work units)\n",
      "Thread count was 8 (of 8 available processors)\n",
      "\n",
      "Solution count 10: 987370 987385 987394 ... 987640\n",
      "\n",
      "Optimal solution found (tolerance 1.00e-04)\n",
      "Best objective 9.873700000000e+05, best bound 9.872904761905e+05, gap 0.0081%\n"
     ]
    }
   ],
   "source": [
    "consommation = np.array([16,16,14,14,16,16,30,30,28,28,25,25,24,24,33,33,41,41,32,32,26,26,22,22])*1000\n",
    "\n",
    "model = gp.Model(\"6.4\")\n",
    "\n",
    "dict_N, dict_P, dict_Nstart = variables_decision_desagregation_thermique(model,dict_Thermique)\n",
    "dict_H, dict_Hstart = variables_decision_hydraulique_palier(model,dict_Hydro)\n",
    "dict_S = {t : model.addVar(lb=0,vtype=gp.GRB.CONTINUOUS,name=f\"pompage à l'instant {t}\") for t in range(24)}\n",
    "dict_N_s = {t : model.addVar(lb=0,vtype=gp.GRB.BINARY,name=f\"fonctionnement pompe à l'instant {t}\") for t in range(24)}\n",
    "debit_S = 1/3000 # débit de pompage par MWh ou par MW pendant une heure\n",
    "M = sum([dict_Thermique[X].N * dict_Thermique[X].Pmax for X in dict_Thermique]) + sum([dict_Hydro[Y].P[dict_Hydro[Y].palier_max()] for Y in dict_Hydro])\n",
    "\n",
    "contraintes_reservoir_palier(model,dict_H,dict_Hydro,dict_S,debit_S)\n",
    "contraintes_hydraulique_palier(model,dict_H,dict_Hydro,dict_Hstart)\n",
    "contraintes_hydraulique_pompage(model,dict_H,dict_Hydro,dict_N_s,dict_S,M)\n",
    "contraintes_thermique_desagregation(model,dict_P,dict_N,dict_Nstart,dict_Thermique)\n",
    "contraintes_equilibre_desagregation(model,dict_P,dict_Thermique,dict_H,dict_Hydro,dict_S,consommation)\n",
    "contraintes_reserve_desagregation(model,dict_N,dict_Thermique,dict_Hydro,consommation)\n",
    "\n",
    "model.setObjective(\n",
    "    gp.quicksum([dict_N[X,k,t] * (dict_Thermique[X].Cbase - dict_Thermique[X].Pmin*dict_Thermique[X].Cmwh) for X in dict_Thermique for k in range(dict_Thermique[X].N) for t in range(24)]) + \n",
    "    gp.quicksum([dict_P[X,k,t] * dict_Thermique[X].Cmwh for X in dict_Thermique for k in range(dict_Thermique[X].N) for t in range(24)])+ \n",
    "    gp.quicksum([dict_Nstart[X,k,t]*dict_Thermique[X].Cstart for X in dict_Thermique for k in range(dict_Thermique[X].N) for t in range(24)])+\n",
    "    gp.quicksum([dict_H[Y,n,t] * dict_Hydro[Y].Cheure[n] for Y in dict_Hydro for t in range(24) for n in dict_Hydro[Y].Palier])+\n",
    "    gp.quicksum([dict_Hstart[Y,t] * dict_Hydro[Y].Cstart for Y in dict_Hydro for t in range(24)]),\n",
    "    gp.GRB.MINIMIZE\n",
    "    )\n",
    "\n",
    "model.optimize()"
   ]
  },
  {
   "cell_type": "code",
   "execution_count": 32,
   "metadata": {},
   "outputs": [
    {
     "data": {
      "application/vnd.plotly.v1+json": {
       "config": {
        "plotlyServerURL": "https://plot.ly"
       },
       "data": [
        {
         "name": "Thermique A",
         "stackgroup": "one",
         "type": "scatter",
         "x": [
          0,
          1,
          2,
          3,
          4,
          5,
          6,
          7,
          8,
          9,
          10,
          11,
          12,
          13,
          14,
          15,
          16,
          17,
          18,
          19,
          20,
          21,
          22,
          23
         ],
         "y": [
          10200,
          10200,
          10200,
          10200,
          10200,
          10200,
          11450,
          11450,
          10550,
          10550,
          10200,
          10200,
          10200,
          10200,
          11200,
          11200,
          19400,
          19400,
          11900,
          11900,
          10400,
          10300,
          10200.000000000002,
          10200.000000000004
         ]
        },
        {
         "name": "Thermique B",
         "stackgroup": "one",
         "type": "scatter",
         "x": [
          0,
          1,
          2,
          3,
          4,
          5,
          6,
          7,
          8,
          9,
          10,
          11,
          12,
          13,
          14,
          15,
          16,
          17,
          18,
          19,
          20,
          21,
          22,
          23
         ],
         "y": [
          8724.999999999993,
          8724.999999999993,
          8750,
          8750,
          8750,
          8750,
          15750,
          15750,
          15750,
          15750,
          15750,
          15750,
          15750,
          15750,
          17500,
          17500,
          17500,
          17500,
          17500,
          17500,
          14000,
          14000,
          12250,
          12250
         ]
        },
        {
         "name": "Thermique C",
         "stackgroup": "one",
         "type": "scatter",
         "x": [
          0,
          1,
          2,
          3,
          4,
          5,
          6,
          7,
          8,
          9,
          10,
          11,
          12,
          13,
          14,
          15,
          16,
          17,
          18,
          19,
          20,
          21,
          22,
          23
         ],
         "y": [
          0,
          0,
          0,
          0,
          0,
          0,
          0,
          0,
          0,
          0,
          0,
          0,
          0,
          0,
          1500,
          1500,
          1500,
          1500,
          0,
          0,
          0,
          0,
          0,
          0
         ]
        },
        {
         "name": "Hydraulique 9",
         "stackgroup": "one",
         "type": "scatter",
         "x": [
          0,
          1,
          2,
          3,
          4,
          5,
          6,
          7,
          8,
          9,
          10,
          11,
          12,
          13,
          14,
          15,
          16,
          17,
          18,
          19,
          20,
          21,
          22,
          23
         ],
         "y": [
          0,
          0,
          0,
          0,
          0,
          0,
          1100,
          1100,
          0,
          0,
          0,
          0,
          0,
          0,
          1100,
          1100,
          900,
          900,
          900,
          900,
          0,
          0,
          0,
          0
         ]
        },
        {
         "name": "Hydraulique 14",
         "stackgroup": "one",
         "type": "scatter",
         "x": [
          0,
          1,
          2,
          3,
          4,
          5,
          6,
          7,
          8,
          9,
          10,
          11,
          12,
          13,
          14,
          15,
          16,
          17,
          18,
          19,
          20,
          21,
          22,
          23
         ],
         "y": [
          0,
          0,
          0,
          0,
          0,
          0,
          1700,
          1700,
          1700,
          1700,
          0,
          0,
          0,
          0,
          1700,
          1700,
          1700,
          1700,
          1700,
          1700,
          1600,
          1700,
          0,
          0
         ]
        },
        {
         "name": "Pompage",
         "stackgroup": "two",
         "type": "scatter",
         "x": [
          0,
          1,
          2,
          3,
          4,
          5,
          6,
          7,
          8,
          9,
          10,
          11,
          12,
          13,
          14,
          15,
          16,
          17,
          18,
          19,
          20,
          21,
          22,
          23
         ],
         "y": [
          -2924.999999999992,
          -2924.999999999992,
          -4950,
          -4950,
          -2950,
          -2950,
          0,
          0,
          0,
          0,
          -950,
          -950,
          -1950,
          -1950,
          0,
          0,
          0,
          0,
          0,
          0,
          0,
          0,
          -450.0000000000018,
          -450.00000000000546
         ]
        },
        {
         "line": {
          "color": "red",
          "dash": "dash"
         },
         "name": "Production total",
         "type": "scatter",
         "x": [
          0,
          1,
          2,
          3,
          4,
          5,
          6,
          7,
          8,
          9,
          10,
          11,
          12,
          13,
          14,
          15,
          16,
          17,
          18,
          19,
          20,
          21,
          22,
          23
         ],
         "y": [
          16000,
          16000,
          14000,
          14000,
          16000,
          16000,
          30000,
          30000,
          28000,
          28000,
          25000,
          25000,
          24000,
          24000,
          33000,
          33000,
          41000,
          41000,
          32000,
          32000,
          26000,
          26000,
          22000,
          22000
         ]
        },
        {
         "line": {
          "color": "black"
         },
         "name": "Coût MWh",
         "type": "scatter",
         "x": [
          0,
          1,
          2,
          3,
          4,
          5,
          6,
          7,
          8,
          9,
          10,
          11,
          12,
          13,
          14,
          15,
          16,
          17,
          18,
          19,
          20,
          21,
          22,
          23
         ],
         "y": [
          1.7635937499999994,
          1.7635937499999994,
          2.017857142857143,
          2.017857142857143,
          1.765625,
          1.765625,
          1.6026666666666667,
          1.4693333333333334,
          1.5057142857142858,
          1.5057142857142858,
          1.65,
          1.65,
          1.71875,
          1.71875,
          1.5554545454545454,
          1.51,
          1.6146341463414635,
          1.6146341463414635,
          1.50625,
          1.50625,
          1.4840384615384616,
          1.4773076923076922,
          1.5795454545454546,
          1.5795454545454548
         ],
         "yaxis": "y2"
        },
        {
         "line": {
          "color": "grey"
         },
         "name": "Niveau réservoir",
         "type": "scatter",
         "x": [
          0,
          1,
          2,
          3,
          4,
          5,
          6,
          7,
          8,
          9,
          10,
          11,
          12,
          13,
          14,
          15,
          16,
          17,
          18,
          19,
          20,
          21,
          22,
          23
         ],
         "y": [
          0.9749999999999972,
          1.9499999999999944,
          3.5999999999999943,
          5.249999999999995,
          6.233333333333328,
          7.2166666666666615,
          6.276666666666661,
          5.336666666666661,
          4.77666666666666,
          4.21666666666666,
          4.533333333333326,
          4.8499999999999925,
          5.499999999999993,
          6.149999999999993,
          5.209999999999993,
          4.2699999999999925,
          3.3999999999999924,
          2.5299999999999923,
          1.6599999999999921,
          0.789999999999992,
          0.259999999999992,
          -0.30000000000000804,
          -0.15000000000000743,
          -5.6066262743570405e-15
         ],
         "yaxis": "y3"
        }
       ],
       "layout": {
        "hovermode": "x",
        "template": {
         "data": {
          "bar": [
           {
            "error_x": {
             "color": "#2a3f5f"
            },
            "error_y": {
             "color": "#2a3f5f"
            },
            "marker": {
             "line": {
              "color": "#E5ECF6",
              "width": 0.5
             },
             "pattern": {
              "fillmode": "overlay",
              "size": 10,
              "solidity": 0.2
             }
            },
            "type": "bar"
           }
          ],
          "barpolar": [
           {
            "marker": {
             "line": {
              "color": "#E5ECF6",
              "width": 0.5
             },
             "pattern": {
              "fillmode": "overlay",
              "size": 10,
              "solidity": 0.2
             }
            },
            "type": "barpolar"
           }
          ],
          "carpet": [
           {
            "aaxis": {
             "endlinecolor": "#2a3f5f",
             "gridcolor": "white",
             "linecolor": "white",
             "minorgridcolor": "white",
             "startlinecolor": "#2a3f5f"
            },
            "baxis": {
             "endlinecolor": "#2a3f5f",
             "gridcolor": "white",
             "linecolor": "white",
             "minorgridcolor": "white",
             "startlinecolor": "#2a3f5f"
            },
            "type": "carpet"
           }
          ],
          "choropleth": [
           {
            "colorbar": {
             "outlinewidth": 0,
             "ticks": ""
            },
            "type": "choropleth"
           }
          ],
          "contour": [
           {
            "colorbar": {
             "outlinewidth": 0,
             "ticks": ""
            },
            "colorscale": [
             [
              0,
              "#0d0887"
             ],
             [
              0.1111111111111111,
              "#46039f"
             ],
             [
              0.2222222222222222,
              "#7201a8"
             ],
             [
              0.3333333333333333,
              "#9c179e"
             ],
             [
              0.4444444444444444,
              "#bd3786"
             ],
             [
              0.5555555555555556,
              "#d8576b"
             ],
             [
              0.6666666666666666,
              "#ed7953"
             ],
             [
              0.7777777777777778,
              "#fb9f3a"
             ],
             [
              0.8888888888888888,
              "#fdca26"
             ],
             [
              1,
              "#f0f921"
             ]
            ],
            "type": "contour"
           }
          ],
          "contourcarpet": [
           {
            "colorbar": {
             "outlinewidth": 0,
             "ticks": ""
            },
            "type": "contourcarpet"
           }
          ],
          "heatmap": [
           {
            "colorbar": {
             "outlinewidth": 0,
             "ticks": ""
            },
            "colorscale": [
             [
              0,
              "#0d0887"
             ],
             [
              0.1111111111111111,
              "#46039f"
             ],
             [
              0.2222222222222222,
              "#7201a8"
             ],
             [
              0.3333333333333333,
              "#9c179e"
             ],
             [
              0.4444444444444444,
              "#bd3786"
             ],
             [
              0.5555555555555556,
              "#d8576b"
             ],
             [
              0.6666666666666666,
              "#ed7953"
             ],
             [
              0.7777777777777778,
              "#fb9f3a"
             ],
             [
              0.8888888888888888,
              "#fdca26"
             ],
             [
              1,
              "#f0f921"
             ]
            ],
            "type": "heatmap"
           }
          ],
          "heatmapgl": [
           {
            "colorbar": {
             "outlinewidth": 0,
             "ticks": ""
            },
            "colorscale": [
             [
              0,
              "#0d0887"
             ],
             [
              0.1111111111111111,
              "#46039f"
             ],
             [
              0.2222222222222222,
              "#7201a8"
             ],
             [
              0.3333333333333333,
              "#9c179e"
             ],
             [
              0.4444444444444444,
              "#bd3786"
             ],
             [
              0.5555555555555556,
              "#d8576b"
             ],
             [
              0.6666666666666666,
              "#ed7953"
             ],
             [
              0.7777777777777778,
              "#fb9f3a"
             ],
             [
              0.8888888888888888,
              "#fdca26"
             ],
             [
              1,
              "#f0f921"
             ]
            ],
            "type": "heatmapgl"
           }
          ],
          "histogram": [
           {
            "marker": {
             "pattern": {
              "fillmode": "overlay",
              "size": 10,
              "solidity": 0.2
             }
            },
            "type": "histogram"
           }
          ],
          "histogram2d": [
           {
            "colorbar": {
             "outlinewidth": 0,
             "ticks": ""
            },
            "colorscale": [
             [
              0,
              "#0d0887"
             ],
             [
              0.1111111111111111,
              "#46039f"
             ],
             [
              0.2222222222222222,
              "#7201a8"
             ],
             [
              0.3333333333333333,
              "#9c179e"
             ],
             [
              0.4444444444444444,
              "#bd3786"
             ],
             [
              0.5555555555555556,
              "#d8576b"
             ],
             [
              0.6666666666666666,
              "#ed7953"
             ],
             [
              0.7777777777777778,
              "#fb9f3a"
             ],
             [
              0.8888888888888888,
              "#fdca26"
             ],
             [
              1,
              "#f0f921"
             ]
            ],
            "type": "histogram2d"
           }
          ],
          "histogram2dcontour": [
           {
            "colorbar": {
             "outlinewidth": 0,
             "ticks": ""
            },
            "colorscale": [
             [
              0,
              "#0d0887"
             ],
             [
              0.1111111111111111,
              "#46039f"
             ],
             [
              0.2222222222222222,
              "#7201a8"
             ],
             [
              0.3333333333333333,
              "#9c179e"
             ],
             [
              0.4444444444444444,
              "#bd3786"
             ],
             [
              0.5555555555555556,
              "#d8576b"
             ],
             [
              0.6666666666666666,
              "#ed7953"
             ],
             [
              0.7777777777777778,
              "#fb9f3a"
             ],
             [
              0.8888888888888888,
              "#fdca26"
             ],
             [
              1,
              "#f0f921"
             ]
            ],
            "type": "histogram2dcontour"
           }
          ],
          "mesh3d": [
           {
            "colorbar": {
             "outlinewidth": 0,
             "ticks": ""
            },
            "type": "mesh3d"
           }
          ],
          "parcoords": [
           {
            "line": {
             "colorbar": {
              "outlinewidth": 0,
              "ticks": ""
             }
            },
            "type": "parcoords"
           }
          ],
          "pie": [
           {
            "automargin": true,
            "type": "pie"
           }
          ],
          "scatter": [
           {
            "fillpattern": {
             "fillmode": "overlay",
             "size": 10,
             "solidity": 0.2
            },
            "type": "scatter"
           }
          ],
          "scatter3d": [
           {
            "line": {
             "colorbar": {
              "outlinewidth": 0,
              "ticks": ""
             }
            },
            "marker": {
             "colorbar": {
              "outlinewidth": 0,
              "ticks": ""
             }
            },
            "type": "scatter3d"
           }
          ],
          "scattercarpet": [
           {
            "marker": {
             "colorbar": {
              "outlinewidth": 0,
              "ticks": ""
             }
            },
            "type": "scattercarpet"
           }
          ],
          "scattergeo": [
           {
            "marker": {
             "colorbar": {
              "outlinewidth": 0,
              "ticks": ""
             }
            },
            "type": "scattergeo"
           }
          ],
          "scattergl": [
           {
            "marker": {
             "colorbar": {
              "outlinewidth": 0,
              "ticks": ""
             }
            },
            "type": "scattergl"
           }
          ],
          "scattermapbox": [
           {
            "marker": {
             "colorbar": {
              "outlinewidth": 0,
              "ticks": ""
             }
            },
            "type": "scattermapbox"
           }
          ],
          "scatterpolar": [
           {
            "marker": {
             "colorbar": {
              "outlinewidth": 0,
              "ticks": ""
             }
            },
            "type": "scatterpolar"
           }
          ],
          "scatterpolargl": [
           {
            "marker": {
             "colorbar": {
              "outlinewidth": 0,
              "ticks": ""
             }
            },
            "type": "scatterpolargl"
           }
          ],
          "scatterternary": [
           {
            "marker": {
             "colorbar": {
              "outlinewidth": 0,
              "ticks": ""
             }
            },
            "type": "scatterternary"
           }
          ],
          "surface": [
           {
            "colorbar": {
             "outlinewidth": 0,
             "ticks": ""
            },
            "colorscale": [
             [
              0,
              "#0d0887"
             ],
             [
              0.1111111111111111,
              "#46039f"
             ],
             [
              0.2222222222222222,
              "#7201a8"
             ],
             [
              0.3333333333333333,
              "#9c179e"
             ],
             [
              0.4444444444444444,
              "#bd3786"
             ],
             [
              0.5555555555555556,
              "#d8576b"
             ],
             [
              0.6666666666666666,
              "#ed7953"
             ],
             [
              0.7777777777777778,
              "#fb9f3a"
             ],
             [
              0.8888888888888888,
              "#fdca26"
             ],
             [
              1,
              "#f0f921"
             ]
            ],
            "type": "surface"
           }
          ],
          "table": [
           {
            "cells": {
             "fill": {
              "color": "#EBF0F8"
             },
             "line": {
              "color": "white"
             }
            },
            "header": {
             "fill": {
              "color": "#C8D4E3"
             },
             "line": {
              "color": "white"
             }
            },
            "type": "table"
           }
          ]
         },
         "layout": {
          "annotationdefaults": {
           "arrowcolor": "#2a3f5f",
           "arrowhead": 0,
           "arrowwidth": 1
          },
          "autotypenumbers": "strict",
          "coloraxis": {
           "colorbar": {
            "outlinewidth": 0,
            "ticks": ""
           }
          },
          "colorscale": {
           "diverging": [
            [
             0,
             "#8e0152"
            ],
            [
             0.1,
             "#c51b7d"
            ],
            [
             0.2,
             "#de77ae"
            ],
            [
             0.3,
             "#f1b6da"
            ],
            [
             0.4,
             "#fde0ef"
            ],
            [
             0.5,
             "#f7f7f7"
            ],
            [
             0.6,
             "#e6f5d0"
            ],
            [
             0.7,
             "#b8e186"
            ],
            [
             0.8,
             "#7fbc41"
            ],
            [
             0.9,
             "#4d9221"
            ],
            [
             1,
             "#276419"
            ]
           ],
           "sequential": [
            [
             0,
             "#0d0887"
            ],
            [
             0.1111111111111111,
             "#46039f"
            ],
            [
             0.2222222222222222,
             "#7201a8"
            ],
            [
             0.3333333333333333,
             "#9c179e"
            ],
            [
             0.4444444444444444,
             "#bd3786"
            ],
            [
             0.5555555555555556,
             "#d8576b"
            ],
            [
             0.6666666666666666,
             "#ed7953"
            ],
            [
             0.7777777777777778,
             "#fb9f3a"
            ],
            [
             0.8888888888888888,
             "#fdca26"
            ],
            [
             1,
             "#f0f921"
            ]
           ],
           "sequentialminus": [
            [
             0,
             "#0d0887"
            ],
            [
             0.1111111111111111,
             "#46039f"
            ],
            [
             0.2222222222222222,
             "#7201a8"
            ],
            [
             0.3333333333333333,
             "#9c179e"
            ],
            [
             0.4444444444444444,
             "#bd3786"
            ],
            [
             0.5555555555555556,
             "#d8576b"
            ],
            [
             0.6666666666666666,
             "#ed7953"
            ],
            [
             0.7777777777777778,
             "#fb9f3a"
            ],
            [
             0.8888888888888888,
             "#fdca26"
            ],
            [
             1,
             "#f0f921"
            ]
           ]
          },
          "colorway": [
           "#636efa",
           "#EF553B",
           "#00cc96",
           "#ab63fa",
           "#FFA15A",
           "#19d3f3",
           "#FF6692",
           "#B6E880",
           "#FF97FF",
           "#FECB52"
          ],
          "font": {
           "color": "#2a3f5f"
          },
          "geo": {
           "bgcolor": "white",
           "lakecolor": "white",
           "landcolor": "#E5ECF6",
           "showlakes": true,
           "showland": true,
           "subunitcolor": "white"
          },
          "hoverlabel": {
           "align": "left"
          },
          "hovermode": "closest",
          "mapbox": {
           "style": "light"
          },
          "paper_bgcolor": "white",
          "plot_bgcolor": "#E5ECF6",
          "polar": {
           "angularaxis": {
            "gridcolor": "white",
            "linecolor": "white",
            "ticks": ""
           },
           "bgcolor": "#E5ECF6",
           "radialaxis": {
            "gridcolor": "white",
            "linecolor": "white",
            "ticks": ""
           }
          },
          "scene": {
           "xaxis": {
            "backgroundcolor": "#E5ECF6",
            "gridcolor": "white",
            "gridwidth": 2,
            "linecolor": "white",
            "showbackground": true,
            "ticks": "",
            "zerolinecolor": "white"
           },
           "yaxis": {
            "backgroundcolor": "#E5ECF6",
            "gridcolor": "white",
            "gridwidth": 2,
            "linecolor": "white",
            "showbackground": true,
            "ticks": "",
            "zerolinecolor": "white"
           },
           "zaxis": {
            "backgroundcolor": "#E5ECF6",
            "gridcolor": "white",
            "gridwidth": 2,
            "linecolor": "white",
            "showbackground": true,
            "ticks": "",
            "zerolinecolor": "white"
           }
          },
          "shapedefaults": {
           "line": {
            "color": "#2a3f5f"
           }
          },
          "ternary": {
           "aaxis": {
            "gridcolor": "white",
            "linecolor": "white",
            "ticks": ""
           },
           "baxis": {
            "gridcolor": "white",
            "linecolor": "white",
            "ticks": ""
           },
           "bgcolor": "#E5ECF6",
           "caxis": {
            "gridcolor": "white",
            "linecolor": "white",
            "ticks": ""
           }
          },
          "title": {
           "x": 0.05
          },
          "xaxis": {
           "automargin": true,
           "gridcolor": "white",
           "linecolor": "white",
           "ticks": "",
           "title": {
            "standoff": 15
           },
           "zerolinecolor": "white",
           "zerolinewidth": 2
          },
          "yaxis": {
           "automargin": true,
           "gridcolor": "white",
           "linecolor": "white",
           "ticks": "",
           "title": {
            "standoff": 15
           },
           "zerolinecolor": "white",
           "zerolinewidth": 2
          }
         }
        },
        "title": {
         "text": "Répartition de la production électrique dans la journée - 6.4"
        },
        "yaxis": {
         "range": [
          -5445,
          45100.00000000001
         ],
         "title": {
          "text": "MW"
         }
        },
        "yaxis2": {
         "anchor": "free",
         "overlaying": "y",
         "position": 1,
         "range": [
          1.3958666666666666,
          2.2196428571428575
         ],
         "side": "right",
         "title": {
          "text": "€/MWh"
         }
        },
        "yaxis3": {
         "anchor": "free",
         "overlaying": "y",
         "position": 0.05,
         "range": [
          -0.33000000000000884,
          7.938333333333328
         ],
         "side": "left",
         "title": {
          "text": "Réservoir (m)"
         }
        }
       }
      }
     },
     "metadata": {},
     "output_type": "display_data"
    }
   ],
   "source": [
    "df = df_results61(dict_N,dict_P,dict_Nstart,dict_Thermique,dict_H,dict_Hstart,dict_Hydro,dict_S,debit_S,consommation)\n",
    "fig = Results_viz52(df,dict_Thermique,dict_Hydro)\n",
    "A = \"6.4\"\n",
    "fig.update_layout(\n",
    "    title = f\"Répartition de la production électrique dans la journée - {A}\"\n",
    ")\n",
    "fig.show()\n",
    "fig.write_html(f\"HTML/Répartition de la production électrique dans la journée - {A}.html\")"
   ]
  },
  {
   "cell_type": "markdown",
   "metadata": {},
   "source": [
    "## 7 Disponibilité variable\n",
    "\n",
    "### 7.1 Maintenance nocturne des centrales A\n",
    "\n",
    "On ajoute la contrainte :\n",
    "$$\n",
    "\\forall t \\in \\{0,\\dots,6\\}\\cup\\{18,\\dots,23\\},\\sum_{k=1}^{N^{(A)}}N_t^{(A,k)} \\leq 10\n",
    "$$"
   ]
  },
  {
   "cell_type": "code",
   "execution_count": 33,
   "metadata": {},
   "outputs": [
    {
     "name": "stdout",
     "output_type": "stream",
     "text": [
      "Gurobi Optimizer version 9.5.2 build v9.5.2rc0 (win64)\n",
      "Thread count: 4 physical cores, 8 logical processors, using up to 8 threads\n",
      "Optimize a model with 2294 rows, 2232 columns and 7644 nonzeros\n",
      "Model fingerprint: 0x4f93571e\n",
      "Variable types: 672 continuous, 1560 integer (1560 binary)\n",
      "Coefficient statistics:\n",
      "  Matrix range     [3e-04, 6e+04]\n",
      "  Objective range  [1e+00, 2e+03]\n",
      "  Bounds range     [1e+00, 1e+00]\n",
      "  RHS range        [1e+00, 4e+04]\n",
      "Presolve removed 216 rows and 48 columns\n",
      "Presolve time: 0.01s\n",
      "Presolved: 2078 rows, 2184 columns, 6708 nonzeros\n",
      "Variable types: 672 continuous, 1512 integer (1512 binary)\n",
      "Found heuristic solution: objective 1119800.0000\n",
      "Found heuristic solution: objective 1045750.0000\n",
      "\n",
      "Root relaxation: objective 1.001384e+06, 1531 iterations, 0.01 seconds (0.02 work units)\n",
      "\n",
      "    Nodes    |    Current Node    |     Objective Bounds      |     Work\n",
      " Expl Unexpl |  Obj  Depth IntInf | Incumbent    BestBd   Gap | It/Node Time\n",
      "\n",
      "     0     0 1001384.13    0   28 1045750.00 1001384.13  4.24%     -    0s\n",
      "H    0     0                    1007230.0000 1001384.13  0.58%     -    0s\n",
      "H    0     0                    1005480.0000 1001384.13  0.41%     -    0s\n",
      "     0     0 1001597.14    0   90 1005480.00 1001597.14  0.39%     -    0s\n",
      "H    0     0                    1005255.0000 1001597.14  0.36%     -    0s\n",
      "H    0     0                    1005180.0000 1001597.14  0.36%     -    0s\n",
      "     0     0 1001597.14    0   90 1005180.00 1001597.14  0.36%     -    0s\n",
      "     0     0 1001733.53    0   72 1005180.00 1001733.53  0.34%     -    0s\n",
      "H    0     0                    1002440.0000 1001733.53  0.07%     -    0s\n",
      "     0     0 1001733.53    0   48 1002440.00 1001733.53  0.07%     -    0s\n",
      "     0     0 1001733.53    0   24 1002440.00 1001733.53  0.07%     -    0s\n",
      "     0     0 1001736.35    0   50 1002440.00 1001736.35  0.07%     -    0s\n",
      "     0     0 1001754.74    0   20 1002440.00 1001754.74  0.07%     -    0s\n",
      "     0     0 1001838.58    0   77 1002440.00 1001838.58  0.06%     -    0s\n",
      "     0     0 1001947.53    0   93 1002440.00 1001947.53  0.05%     -    0s\n",
      "     0     0 1001947.53    0   93 1002440.00 1001947.53  0.05%     -    0s\n",
      "     0     0 1001952.81    0   45 1002440.00 1001952.81  0.05%     -    0s\n",
      "H    0     0                    1002246.0000 1001952.81  0.03%     -    0s\n",
      "     0     0 1001952.81    0   15 1002246.00 1001952.81  0.03%     -    0s\n",
      "     0     0 1001952.81    0   44 1002246.00 1001952.81  0.03%     -    0s\n",
      "     0     0 1001952.81    0   38 1002246.00 1001952.81  0.03%     -    0s\n",
      "     0     0 1001974.91    0   42 1002246.00 1001974.91  0.03%     -    0s\n",
      "     0     0 1001983.53    0   41 1002246.00 1001983.53  0.03%     -    0s\n",
      "     0     0 1001986.12    0   45 1002246.00 1001986.12  0.03%     -    0s\n",
      "     0     0 1001996.32    0   57 1002246.00 1001996.32  0.02%     -    0s\n",
      "     0     0 1002005.35    0   58 1002246.00 1002005.35  0.02%     -    0s\n",
      "     0     0 1002011.12    0   58 1002246.00 1002011.12  0.02%     -    0s\n",
      "H    0     0                    1002211.0000 1002011.12  0.02%     -    0s\n",
      "     0     0 1002012.59    0   60 1002211.00 1002012.59  0.02%     -    0s\n",
      "     0     0 1002013.54    0   61 1002211.00 1002013.54  0.02%     -    0s\n",
      "     0     0 1002020.59    0   63 1002211.00 1002020.59  0.02%     -    0s\n",
      "     0     0 1002024.76    0   63 1002211.00 1002024.76  0.02%     -    0s\n",
      "     0     0 1002024.78    0   64 1002211.00 1002024.78  0.02%     -    0s\n",
      "     0     0 1002034.54    0   54 1002211.00 1002034.54  0.02%     -    0s\n",
      "     0     0 1002039.68    0   43 1002211.00 1002039.68  0.02%     -    0s\n",
      "     0     0 1002040.93    0   53 1002211.00 1002040.93  0.02%     -    0s\n",
      "     0     0 1002044.42    0   62 1002211.00 1002044.42  0.02%     -    0s\n",
      "     0     0 1002046.41    0   67 1002211.00 1002046.41  0.02%     -    0s\n",
      "     0     0 1002046.49    0   68 1002211.00 1002046.49  0.02%     -    0s\n",
      "     0     0 1002054.29    0    3 1002211.00 1002054.29  0.02%     -    0s\n",
      "     0     0 1002054.29    0    9 1002211.00 1002054.29  0.02%     -    0s\n",
      "     0     0 1002054.29    0   23 1002211.00 1002054.29  0.02%     -    0s\n",
      "     0     0 1002054.29    0   22 1002211.00 1002054.29  0.02%     -    0s\n",
      "     0     0 1002054.29    0   30 1002211.00 1002054.29  0.02%     -    0s\n",
      "     0     0 1002054.29    0   31 1002211.00 1002054.29  0.02%     -    0s\n",
      "     0     0 1002054.29    0   32 1002211.00 1002054.29  0.02%     -    0s\n",
      "     0     0 1002054.29    0   37 1002211.00 1002054.29  0.02%     -    0s\n",
      "     0     0 1002054.29    0   35 1002211.00 1002054.29  0.02%     -    0s\n",
      "     0     0 1002054.29    0   42 1002211.00 1002054.29  0.02%     -    0s\n",
      "     0     0 1002054.29    0   43 1002211.00 1002054.29  0.02%     -    0s\n",
      "     0     0 1002054.29    0    1 1002211.00 1002054.29  0.02%     -    0s\n",
      "     0     0 1002054.29    0    1 1002211.00 1002054.29  0.02%     -    0s\n",
      "     0     2 1002054.29    0    1 1002211.00 1002054.29  0.02%     -    0s\n",
      "\n",
      "Cutting planes:\n",
      "  Gomory: 2\n",
      "  Cover: 7\n",
      "  MIR: 60\n",
      "  Flow cover: 12\n",
      "  RLT: 1\n",
      "\n",
      "Explored 334 nodes (7416 simplex iterations) in 0.90 seconds (0.52 work units)\n",
      "Thread count was 8 (of 8 available processors)\n",
      "\n",
      "Solution count 10: 1.00221e+06 1.00225e+06 1.00244e+06 ... 1.007e+06\n",
      "\n",
      "Optimal solution found (tolerance 1.00e-04)\n",
      "Best objective 1.002211000000e+06, best bound 1.002178709677e+06, gap 0.0032%\n"
     ]
    }
   ],
   "source": [
    "heures_maintenance = np.array([0,1,2,3,4,5,6,18,19,20,21,22,23])\n",
    "consommation = np.array([15,15,15,15,15,15,30,30,30,25,25,25,25,25,25,40,40,40,27,27,27,27,27,27])*1000\n",
    "\n",
    "model = gp.Model(\"7.1\")\n",
    "\n",
    "dict_N, dict_P, dict_Nstart = variables_decision_desagregation_thermique(model,dict_Thermique)\n",
    "dict_H, dict_Hstart = variables_decision_hydraulique_palier(model,dict_Hydro)\n",
    "dict_S = {t : model.addVar(lb=0,vtype=gp.GRB.CONTINUOUS,name=f\"pompage à l'instant {t}\") for t in range(24)}\n",
    "dict_N_s = {t : model.addVar(lb=0,vtype=gp.GRB.BINARY,name=f\"fonctionnement pompe à l'instant {t}\") for t in range(24)}\n",
    "debit_S = 1/3000 # débit de pompage par MWh ou par MW pendant une heure\n",
    "M = sum([dict_Thermique[X].N * dict_Thermique[X].Pmax for X in dict_Thermique]) + sum([dict_Hydro[Y].P[dict_Hydro[Y].palier_max()] for Y in dict_Hydro])\n",
    "\n",
    "contraintes_reservoir_palier(model,dict_H,dict_Hydro,dict_S,debit_S)\n",
    "contraintes_hydraulique_palier(model,dict_H,dict_Hydro,dict_Hstart)\n",
    "contraintes_hydraulique_pompage(model,dict_H,dict_Hydro,dict_N_s,dict_S,M)\n",
    "contraintes_thermique_desagregation(model,dict_P,dict_N,dict_Nstart,dict_Thermique)\n",
    "contraintes_equilibre_desagregation(model,dict_P,dict_Thermique,dict_H,dict_Hydro,dict_S,consommation)\n",
    "contraintes_reserve_desagregation(model,dict_N,dict_Thermique,dict_Hydro,consommation)\n",
    "for t in heures_maintenance:\n",
    "    model.addConstr(\n",
    "        gp.quicksum([dict_N[\"A\",k,t] for k in range(dict_Thermique[\"A\"].N)])<=10,\n",
    "        name=f\"Contraintes maintance à {t}\"\n",
    "    )\n",
    "\n",
    "model.setObjective(\n",
    "    gp.quicksum([dict_N[X,k,t] * (dict_Thermique[X].Cbase - dict_Thermique[X].Pmin*dict_Thermique[X].Cmwh) for X in dict_Thermique for k in range(dict_Thermique[X].N) for t in range(24)]) + \n",
    "    gp.quicksum([dict_P[X,k,t] * dict_Thermique[X].Cmwh for X in dict_Thermique for k in range(dict_Thermique[X].N) for t in range(24)])+ \n",
    "    gp.quicksum([dict_Nstart[X,k,t]*dict_Thermique[X].Cstart for X in dict_Thermique for k in range(dict_Thermique[X].N) for t in range(24)])+\n",
    "    gp.quicksum([dict_H[Y,n,t] * dict_Hydro[Y].Cheure[n] for Y in dict_Hydro for t in range(24) for n in dict_Hydro[Y].Palier])+\n",
    "    gp.quicksum([dict_Hstart[Y,t] * dict_Hydro[Y].Cstart for Y in dict_Hydro for t in range(24)]),\n",
    "    gp.GRB.MINIMIZE\n",
    "    )\n",
    "\n",
    "model.optimize()"
   ]
  },
  {
   "cell_type": "code",
   "execution_count": 34,
   "metadata": {},
   "outputs": [
    {
     "data": {
      "application/vnd.plotly.v1+json": {
       "config": {
        "plotlyServerURL": "https://plot.ly"
       },
       "data": [
        {
         "name": "Thermique A",
         "stackgroup": "one",
         "type": "scatter",
         "x": [
          0,
          1,
          2,
          3,
          4,
          5,
          6,
          7,
          8,
          9,
          10,
          11,
          12,
          13,
          14,
          15,
          16,
          17,
          18,
          19,
          20,
          21,
          22,
          23
         ],
         "y": [
          8500.000000000005,
          8500.000000000005,
          8500.000000000005,
          8500.000000000005,
          8500.000000000005,
          8500.000000000005,
          11650,
          11450,
          11650,
          10200.000000000002,
          10200.000000000002,
          10200,
          10200,
          10200.000000000002,
          10200.000000000002,
          20150,
          20150,
          20150,
          8650.000000000005,
          9550,
          9550,
          8650.000000000005,
          8650.000000000005,
          8650
         ]
        },
        {
         "name": "Thermique B",
         "stackgroup": "one",
         "type": "scatter",
         "x": [
          0,
          1,
          2,
          3,
          4,
          5,
          6,
          7,
          8,
          9,
          10,
          11,
          12,
          13,
          14,
          15,
          16,
          17,
          18,
          19,
          20,
          21,
          22,
          23
         ],
         "y": [
          10499.999999999995,
          10469.999999999993,
          10499.999999999995,
          10499.999999999995,
          10499.999999999995,
          10499.999999999995,
          15750,
          15750,
          15750,
          15750,
          15750,
          15750,
          15750,
          15750,
          15750,
          15750,
          15750,
          15750,
          15749.999999999995,
          15750,
          15750,
          15749.999999999995,
          15749.999999999995,
          15750
         ]
        },
        {
         "name": "Thermique C",
         "stackgroup": "one",
         "type": "scatter",
         "x": [
          0,
          1,
          2,
          3,
          4,
          5,
          6,
          7,
          8,
          9,
          10,
          11,
          12,
          13,
          14,
          15,
          16,
          17,
          18,
          19,
          20,
          21,
          22,
          23
         ],
         "y": [
          0,
          0,
          0,
          0,
          0,
          0,
          0,
          0,
          0,
          0,
          0,
          0,
          0,
          0,
          0,
          1500,
          1500,
          1500,
          0,
          0,
          0,
          0,
          0,
          0
         ]
        },
        {
         "name": "Hydraulique 9",
         "stackgroup": "one",
         "type": "scatter",
         "x": [
          0,
          1,
          2,
          3,
          4,
          5,
          6,
          7,
          8,
          9,
          10,
          11,
          12,
          13,
          14,
          15,
          16,
          17,
          18,
          19,
          20,
          21,
          22,
          23
         ],
         "y": [
          0,
          0,
          0,
          0,
          0,
          0,
          900,
          1100,
          900,
          0,
          0,
          0,
          0,
          0,
          0,
          900,
          900,
          900,
          900,
          0,
          0,
          900,
          900,
          900
         ]
        },
        {
         "name": "Hydraulique 14",
         "stackgroup": "one",
         "type": "scatter",
         "x": [
          0,
          1,
          2,
          3,
          4,
          5,
          6,
          7,
          8,
          9,
          10,
          11,
          12,
          13,
          14,
          15,
          16,
          17,
          18,
          19,
          20,
          21,
          22,
          23
         ],
         "y": [
          0,
          0,
          0,
          0,
          0,
          0,
          1700,
          1700,
          1700,
          0,
          0,
          0,
          0,
          0,
          0,
          1700,
          1700,
          1700,
          1700,
          1700,
          1700,
          1700,
          1700,
          1700
         ]
        },
        {
         "name": "Pompage",
         "stackgroup": "two",
         "type": "scatter",
         "x": [
          0,
          1,
          2,
          3,
          4,
          5,
          6,
          7,
          8,
          9,
          10,
          11,
          12,
          13,
          14,
          15,
          16,
          17,
          18,
          19,
          20,
          21,
          22,
          23
         ],
         "y": [
          -4000,
          -3969.999999999999,
          -4000,
          -4000,
          -4000,
          -4000,
          0,
          0,
          0,
          -950.0000000000018,
          -950.0000000000018,
          -950,
          -950,
          -950.0000000000018,
          -950.0000000000018,
          0,
          0,
          0,
          0,
          0,
          0,
          0,
          0,
          0
         ]
        },
        {
         "line": {
          "color": "red",
          "dash": "dash"
         },
         "name": "Production total",
         "type": "scatter",
         "x": [
          0,
          1,
          2,
          3,
          4,
          5,
          6,
          7,
          8,
          9,
          10,
          11,
          12,
          13,
          14,
          15,
          16,
          17,
          18,
          19,
          20,
          21,
          22,
          23
         ],
         "y": [
          15000,
          15000,
          15000,
          15000,
          15000,
          15000,
          30000,
          30000,
          30000,
          25000,
          25000,
          25000,
          25000,
          25000,
          25000,
          40000,
          40000,
          40000,
          27000,
          27000,
          27000,
          27000,
          27000,
          27000
         ]
        },
        {
         "line": {
          "color": "black"
         },
         "name": "Coût MWh",
         "type": "scatter",
         "x": [
          0,
          1,
          2,
          3,
          4,
          5,
          6,
          7,
          8,
          9,
          10,
          11,
          12,
          13,
          14,
          15,
          16,
          17,
          18,
          19,
          20,
          21,
          22,
          23
         ],
         "y": [
          1.966666666666667,
          1.9640666666666666,
          1.966666666666667,
          1.966666666666667,
          1.966666666666667,
          1.966666666666667,
          1.6283333333333334,
          1.6026666666666667,
          1.4816666666666667,
          1.65,
          1.65,
          1.65,
          1.65,
          1.65,
          1.65,
          1.62375,
          1.61125,
          1.61125,
          1.4759259259259259,
          1.5392592592592593,
          1.5392592592592593,
          1.4759259259259259,
          1.4759259259259259,
          1.4759259259259259
         ],
         "yaxis": "y2"
        },
        {
         "line": {
          "color": "grey"
         },
         "name": "Niveau réservoir",
         "type": "scatter",
         "x": [
          0,
          1,
          2,
          3,
          4,
          5,
          6,
          7,
          8,
          9,
          10,
          11,
          12,
          13,
          14,
          15,
          16,
          17,
          18,
          19,
          20,
          21,
          22,
          23
         ],
         "y": [
          1.3333333333333333,
          2.6566666666666663,
          3.9899999999999993,
          5.323333333333332,
          6.656666666666665,
          7.989999999999998,
          7.119999999999998,
          6.179999999999998,
          5.309999999999998,
          5.626666666666665,
          5.9433333333333325,
          6.259999999999999,
          6.576666666666665,
          6.893333333333333,
          7.21,
          6.34,
          5.47,
          4.6,
          3.7299999999999995,
          3.1699999999999995,
          2.6099999999999994,
          1.7399999999999993,
          0.8699999999999992,
          -8.881784197001252e-16
         ],
         "yaxis": "y3"
        }
       ],
       "layout": {
        "hovermode": "x",
        "template": {
         "data": {
          "bar": [
           {
            "error_x": {
             "color": "#2a3f5f"
            },
            "error_y": {
             "color": "#2a3f5f"
            },
            "marker": {
             "line": {
              "color": "#E5ECF6",
              "width": 0.5
             },
             "pattern": {
              "fillmode": "overlay",
              "size": 10,
              "solidity": 0.2
             }
            },
            "type": "bar"
           }
          ],
          "barpolar": [
           {
            "marker": {
             "line": {
              "color": "#E5ECF6",
              "width": 0.5
             },
             "pattern": {
              "fillmode": "overlay",
              "size": 10,
              "solidity": 0.2
             }
            },
            "type": "barpolar"
           }
          ],
          "carpet": [
           {
            "aaxis": {
             "endlinecolor": "#2a3f5f",
             "gridcolor": "white",
             "linecolor": "white",
             "minorgridcolor": "white",
             "startlinecolor": "#2a3f5f"
            },
            "baxis": {
             "endlinecolor": "#2a3f5f",
             "gridcolor": "white",
             "linecolor": "white",
             "minorgridcolor": "white",
             "startlinecolor": "#2a3f5f"
            },
            "type": "carpet"
           }
          ],
          "choropleth": [
           {
            "colorbar": {
             "outlinewidth": 0,
             "ticks": ""
            },
            "type": "choropleth"
           }
          ],
          "contour": [
           {
            "colorbar": {
             "outlinewidth": 0,
             "ticks": ""
            },
            "colorscale": [
             [
              0,
              "#0d0887"
             ],
             [
              0.1111111111111111,
              "#46039f"
             ],
             [
              0.2222222222222222,
              "#7201a8"
             ],
             [
              0.3333333333333333,
              "#9c179e"
             ],
             [
              0.4444444444444444,
              "#bd3786"
             ],
             [
              0.5555555555555556,
              "#d8576b"
             ],
             [
              0.6666666666666666,
              "#ed7953"
             ],
             [
              0.7777777777777778,
              "#fb9f3a"
             ],
             [
              0.8888888888888888,
              "#fdca26"
             ],
             [
              1,
              "#f0f921"
             ]
            ],
            "type": "contour"
           }
          ],
          "contourcarpet": [
           {
            "colorbar": {
             "outlinewidth": 0,
             "ticks": ""
            },
            "type": "contourcarpet"
           }
          ],
          "heatmap": [
           {
            "colorbar": {
             "outlinewidth": 0,
             "ticks": ""
            },
            "colorscale": [
             [
              0,
              "#0d0887"
             ],
             [
              0.1111111111111111,
              "#46039f"
             ],
             [
              0.2222222222222222,
              "#7201a8"
             ],
             [
              0.3333333333333333,
              "#9c179e"
             ],
             [
              0.4444444444444444,
              "#bd3786"
             ],
             [
              0.5555555555555556,
              "#d8576b"
             ],
             [
              0.6666666666666666,
              "#ed7953"
             ],
             [
              0.7777777777777778,
              "#fb9f3a"
             ],
             [
              0.8888888888888888,
              "#fdca26"
             ],
             [
              1,
              "#f0f921"
             ]
            ],
            "type": "heatmap"
           }
          ],
          "heatmapgl": [
           {
            "colorbar": {
             "outlinewidth": 0,
             "ticks": ""
            },
            "colorscale": [
             [
              0,
              "#0d0887"
             ],
             [
              0.1111111111111111,
              "#46039f"
             ],
             [
              0.2222222222222222,
              "#7201a8"
             ],
             [
              0.3333333333333333,
              "#9c179e"
             ],
             [
              0.4444444444444444,
              "#bd3786"
             ],
             [
              0.5555555555555556,
              "#d8576b"
             ],
             [
              0.6666666666666666,
              "#ed7953"
             ],
             [
              0.7777777777777778,
              "#fb9f3a"
             ],
             [
              0.8888888888888888,
              "#fdca26"
             ],
             [
              1,
              "#f0f921"
             ]
            ],
            "type": "heatmapgl"
           }
          ],
          "histogram": [
           {
            "marker": {
             "pattern": {
              "fillmode": "overlay",
              "size": 10,
              "solidity": 0.2
             }
            },
            "type": "histogram"
           }
          ],
          "histogram2d": [
           {
            "colorbar": {
             "outlinewidth": 0,
             "ticks": ""
            },
            "colorscale": [
             [
              0,
              "#0d0887"
             ],
             [
              0.1111111111111111,
              "#46039f"
             ],
             [
              0.2222222222222222,
              "#7201a8"
             ],
             [
              0.3333333333333333,
              "#9c179e"
             ],
             [
              0.4444444444444444,
              "#bd3786"
             ],
             [
              0.5555555555555556,
              "#d8576b"
             ],
             [
              0.6666666666666666,
              "#ed7953"
             ],
             [
              0.7777777777777778,
              "#fb9f3a"
             ],
             [
              0.8888888888888888,
              "#fdca26"
             ],
             [
              1,
              "#f0f921"
             ]
            ],
            "type": "histogram2d"
           }
          ],
          "histogram2dcontour": [
           {
            "colorbar": {
             "outlinewidth": 0,
             "ticks": ""
            },
            "colorscale": [
             [
              0,
              "#0d0887"
             ],
             [
              0.1111111111111111,
              "#46039f"
             ],
             [
              0.2222222222222222,
              "#7201a8"
             ],
             [
              0.3333333333333333,
              "#9c179e"
             ],
             [
              0.4444444444444444,
              "#bd3786"
             ],
             [
              0.5555555555555556,
              "#d8576b"
             ],
             [
              0.6666666666666666,
              "#ed7953"
             ],
             [
              0.7777777777777778,
              "#fb9f3a"
             ],
             [
              0.8888888888888888,
              "#fdca26"
             ],
             [
              1,
              "#f0f921"
             ]
            ],
            "type": "histogram2dcontour"
           }
          ],
          "mesh3d": [
           {
            "colorbar": {
             "outlinewidth": 0,
             "ticks": ""
            },
            "type": "mesh3d"
           }
          ],
          "parcoords": [
           {
            "line": {
             "colorbar": {
              "outlinewidth": 0,
              "ticks": ""
             }
            },
            "type": "parcoords"
           }
          ],
          "pie": [
           {
            "automargin": true,
            "type": "pie"
           }
          ],
          "scatter": [
           {
            "fillpattern": {
             "fillmode": "overlay",
             "size": 10,
             "solidity": 0.2
            },
            "type": "scatter"
           }
          ],
          "scatter3d": [
           {
            "line": {
             "colorbar": {
              "outlinewidth": 0,
              "ticks": ""
             }
            },
            "marker": {
             "colorbar": {
              "outlinewidth": 0,
              "ticks": ""
             }
            },
            "type": "scatter3d"
           }
          ],
          "scattercarpet": [
           {
            "marker": {
             "colorbar": {
              "outlinewidth": 0,
              "ticks": ""
             }
            },
            "type": "scattercarpet"
           }
          ],
          "scattergeo": [
           {
            "marker": {
             "colorbar": {
              "outlinewidth": 0,
              "ticks": ""
             }
            },
            "type": "scattergeo"
           }
          ],
          "scattergl": [
           {
            "marker": {
             "colorbar": {
              "outlinewidth": 0,
              "ticks": ""
             }
            },
            "type": "scattergl"
           }
          ],
          "scattermapbox": [
           {
            "marker": {
             "colorbar": {
              "outlinewidth": 0,
              "ticks": ""
             }
            },
            "type": "scattermapbox"
           }
          ],
          "scatterpolar": [
           {
            "marker": {
             "colorbar": {
              "outlinewidth": 0,
              "ticks": ""
             }
            },
            "type": "scatterpolar"
           }
          ],
          "scatterpolargl": [
           {
            "marker": {
             "colorbar": {
              "outlinewidth": 0,
              "ticks": ""
             }
            },
            "type": "scatterpolargl"
           }
          ],
          "scatterternary": [
           {
            "marker": {
             "colorbar": {
              "outlinewidth": 0,
              "ticks": ""
             }
            },
            "type": "scatterternary"
           }
          ],
          "surface": [
           {
            "colorbar": {
             "outlinewidth": 0,
             "ticks": ""
            },
            "colorscale": [
             [
              0,
              "#0d0887"
             ],
             [
              0.1111111111111111,
              "#46039f"
             ],
             [
              0.2222222222222222,
              "#7201a8"
             ],
             [
              0.3333333333333333,
              "#9c179e"
             ],
             [
              0.4444444444444444,
              "#bd3786"
             ],
             [
              0.5555555555555556,
              "#d8576b"
             ],
             [
              0.6666666666666666,
              "#ed7953"
             ],
             [
              0.7777777777777778,
              "#fb9f3a"
             ],
             [
              0.8888888888888888,
              "#fdca26"
             ],
             [
              1,
              "#f0f921"
             ]
            ],
            "type": "surface"
           }
          ],
          "table": [
           {
            "cells": {
             "fill": {
              "color": "#EBF0F8"
             },
             "line": {
              "color": "white"
             }
            },
            "header": {
             "fill": {
              "color": "#C8D4E3"
             },
             "line": {
              "color": "white"
             }
            },
            "type": "table"
           }
          ]
         },
         "layout": {
          "annotationdefaults": {
           "arrowcolor": "#2a3f5f",
           "arrowhead": 0,
           "arrowwidth": 1
          },
          "autotypenumbers": "strict",
          "coloraxis": {
           "colorbar": {
            "outlinewidth": 0,
            "ticks": ""
           }
          },
          "colorscale": {
           "diverging": [
            [
             0,
             "#8e0152"
            ],
            [
             0.1,
             "#c51b7d"
            ],
            [
             0.2,
             "#de77ae"
            ],
            [
             0.3,
             "#f1b6da"
            ],
            [
             0.4,
             "#fde0ef"
            ],
            [
             0.5,
             "#f7f7f7"
            ],
            [
             0.6,
             "#e6f5d0"
            ],
            [
             0.7,
             "#b8e186"
            ],
            [
             0.8,
             "#7fbc41"
            ],
            [
             0.9,
             "#4d9221"
            ],
            [
             1,
             "#276419"
            ]
           ],
           "sequential": [
            [
             0,
             "#0d0887"
            ],
            [
             0.1111111111111111,
             "#46039f"
            ],
            [
             0.2222222222222222,
             "#7201a8"
            ],
            [
             0.3333333333333333,
             "#9c179e"
            ],
            [
             0.4444444444444444,
             "#bd3786"
            ],
            [
             0.5555555555555556,
             "#d8576b"
            ],
            [
             0.6666666666666666,
             "#ed7953"
            ],
            [
             0.7777777777777778,
             "#fb9f3a"
            ],
            [
             0.8888888888888888,
             "#fdca26"
            ],
            [
             1,
             "#f0f921"
            ]
           ],
           "sequentialminus": [
            [
             0,
             "#0d0887"
            ],
            [
             0.1111111111111111,
             "#46039f"
            ],
            [
             0.2222222222222222,
             "#7201a8"
            ],
            [
             0.3333333333333333,
             "#9c179e"
            ],
            [
             0.4444444444444444,
             "#bd3786"
            ],
            [
             0.5555555555555556,
             "#d8576b"
            ],
            [
             0.6666666666666666,
             "#ed7953"
            ],
            [
             0.7777777777777778,
             "#fb9f3a"
            ],
            [
             0.8888888888888888,
             "#fdca26"
            ],
            [
             1,
             "#f0f921"
            ]
           ]
          },
          "colorway": [
           "#636efa",
           "#EF553B",
           "#00cc96",
           "#ab63fa",
           "#FFA15A",
           "#19d3f3",
           "#FF6692",
           "#B6E880",
           "#FF97FF",
           "#FECB52"
          ],
          "font": {
           "color": "#2a3f5f"
          },
          "geo": {
           "bgcolor": "white",
           "lakecolor": "white",
           "landcolor": "#E5ECF6",
           "showlakes": true,
           "showland": true,
           "subunitcolor": "white"
          },
          "hoverlabel": {
           "align": "left"
          },
          "hovermode": "closest",
          "mapbox": {
           "style": "light"
          },
          "paper_bgcolor": "white",
          "plot_bgcolor": "#E5ECF6",
          "polar": {
           "angularaxis": {
            "gridcolor": "white",
            "linecolor": "white",
            "ticks": ""
           },
           "bgcolor": "#E5ECF6",
           "radialaxis": {
            "gridcolor": "white",
            "linecolor": "white",
            "ticks": ""
           }
          },
          "scene": {
           "xaxis": {
            "backgroundcolor": "#E5ECF6",
            "gridcolor": "white",
            "gridwidth": 2,
            "linecolor": "white",
            "showbackground": true,
            "ticks": "",
            "zerolinecolor": "white"
           },
           "yaxis": {
            "backgroundcolor": "#E5ECF6",
            "gridcolor": "white",
            "gridwidth": 2,
            "linecolor": "white",
            "showbackground": true,
            "ticks": "",
            "zerolinecolor": "white"
           },
           "zaxis": {
            "backgroundcolor": "#E5ECF6",
            "gridcolor": "white",
            "gridwidth": 2,
            "linecolor": "white",
            "showbackground": true,
            "ticks": "",
            "zerolinecolor": "white"
           }
          },
          "shapedefaults": {
           "line": {
            "color": "#2a3f5f"
           }
          },
          "ternary": {
           "aaxis": {
            "gridcolor": "white",
            "linecolor": "white",
            "ticks": ""
           },
           "baxis": {
            "gridcolor": "white",
            "linecolor": "white",
            "ticks": ""
           },
           "bgcolor": "#E5ECF6",
           "caxis": {
            "gridcolor": "white",
            "linecolor": "white",
            "ticks": ""
           }
          },
          "title": {
           "x": 0.05
          },
          "xaxis": {
           "automargin": true,
           "gridcolor": "white",
           "linecolor": "white",
           "ticks": "",
           "title": {
            "standoff": 15
           },
           "zerolinecolor": "white",
           "zerolinewidth": 2
          },
          "yaxis": {
           "automargin": true,
           "gridcolor": "white",
           "linecolor": "white",
           "ticks": "",
           "title": {
            "standoff": 15
           },
           "zerolinecolor": "white",
           "zerolinewidth": 2
          }
         }
        },
        "title": {
         "text": "Répartition de la production électrique dans la journée - 7.1"
        },
        "yaxis": {
         "range": [
          -4400,
          44000
         ],
         "title": {
          "text": "MW"
         }
        },
        "yaxis2": {
         "anchor": "free",
         "overlaying": "y",
         "position": 1,
         "range": [
          1.4021296296296295,
          2.163333333333334
         ],
         "side": "right",
         "title": {
          "text": "€/MWh"
         }
        },
        "yaxis3": {
         "anchor": "free",
         "overlaying": "y",
         "position": 0.05,
         "range": [
          -9.769962616701378e-16,
          8.789
         ],
         "side": "left",
         "title": {
          "text": "Réservoir (m)"
         }
        }
       }
      }
     },
     "metadata": {},
     "output_type": "display_data"
    }
   ],
   "source": [
    "df = df_results61(dict_N,dict_P,dict_Nstart,dict_Thermique,dict_H,dict_Hstart,dict_Hydro,dict_S,debit_S,consommation)\n",
    "fig = Results_viz52(df,dict_Thermique,dict_Hydro)\n",
    "A = \"7.1\"\n",
    "fig.update_layout(\n",
    "    title = f\"Répartition de la production électrique dans la journée - {A}\"\n",
    ")\n",
    "fig.show()\n",
    "fig.write_html(f\"HTML/Répartition de la production électrique dans la journée - {A}.html\")"
   ]
  },
  {
   "cell_type": "markdown",
   "metadata": {},
   "source": [
    "## 8 Contraintes de rampe\n",
    "\n",
    "### 8.1 Rampe croissante\n",
    "\n",
    "$$\n",
    "\\forall t, \\forall X , \\forall k \\in \\{0,\\dots,N^{(X)}\\}, P_{t}^{(X,k)}-P_{t-1}^{(X,k)}\\leq R_{montée}^{(X)}\n",
    "$$"
   ]
  },
  {
   "cell_type": "code",
   "execution_count": 35,
   "metadata": {},
   "outputs": [],
   "source": [
    "from utils import Centrale3\n",
    "\n",
    "dict_Thermique = {\n",
    "    \"A\" : Centrale3(\n",
    "    name=\"A\",\n",
    "    N=12,\n",
    "    Pmax=2000,\n",
    "    Pmin=850,\n",
    "    Cmwh=2,\n",
    "    Cstart=2000,\n",
    "    Cbase=1000,\n",
    "    Rampe_Start=1000,\n",
    "    Rampe_Stop=1000,\n",
    "    Rampe_Descendante=800,\n",
    "    Rampe_Montante=400\n",
    "    ),\n",
    "    \"B\" : Centrale3(\n",
    "    name=\"B\",\n",
    "    N=10,\n",
    "    Pmax=1750,\n",
    "    Pmin=1250,\n",
    "    Cmwh=1.3,\n",
    "    Cstart=1000,\n",
    "    Cbase=2600,\n",
    "    Rampe_Start=1500,\n",
    "    Rampe_Stop=1500,\n",
    "    Rampe_Descendante=1200,\n",
    "    Rampe_Montante=600\n",
    "    ),\n",
    "    \"C\" : Centrale3(\n",
    "    name=\"C\",\n",
    "    N=5,\n",
    "    Pmax=4000,\n",
    "    Pmin=1500,\n",
    "    Cmwh=3,\n",
    "    Cstart=500,\n",
    "    Cbase=3000,\n",
    "    Rampe_Start=2000,\n",
    "    Rampe_Stop=2000,\n",
    "    Rampe_Descendante=1700,\n",
    "    Rampe_Montante=800\n",
    "    )\n",
    "}"
   ]
  },
  {
   "cell_type": "code",
   "execution_count": 36,
   "metadata": {},
   "outputs": [
    {
     "name": "stdout",
     "output_type": "stream",
     "text": [
      "Gurobi Optimizer version 9.5.2 build v9.5.2rc0 (win64)\n",
      "Thread count: 4 physical cores, 8 logical processors, using up to 8 threads\n",
      "Optimize a model with 2929 rows, 2232 columns and 8784 nonzeros\n",
      "Model fingerprint: 0x49453d96\n",
      "Variable types: 672 continuous, 1560 integer (1560 binary)\n",
      "Coefficient statistics:\n",
      "  Matrix range     [3e-04, 6e+04]\n",
      "  Objective range  [1e+00, 2e+03]\n",
      "  Bounds range     [1e+00, 1e+00]\n",
      "  RHS range        [1e+00, 4e+04]\n",
      "Presolve removed 887 rows and 1317 columns\n",
      "Presolve time: 0.02s\n",
      "Presolved: 2042 rows, 915 columns, 5931 nonzeros\n",
      "Variable types: 672 continuous, 243 integer (243 binary)\n",
      "\n",
      "Root relaxation: objective 1.008054e+06, 969 iterations, 0.01 seconds (0.01 work units)\n",
      "\n",
      "    Nodes    |    Current Node    |     Objective Bounds      |     Work\n",
      " Expl Unexpl |  Obj  Depth IntInf | Incumbent    BestBd   Gap | It/Node Time\n",
      "\n",
      "     0     0 1008054.17    0    2          - 1008054.17      -     -    0s\n",
      "H    0     0                    1011030.0000 1008054.17  0.29%     -    0s\n",
      "     0     0 1008307.19    0    6 1011030.00 1008307.19  0.27%     -    0s\n",
      "     0     0 1008307.19    0    6 1011030.00 1008307.19  0.27%     -    0s\n",
      "     0     0 1008663.17    0    3 1011030.00 1008663.17  0.23%     -    0s\n",
      "     0     0 1008663.17    0    4 1011030.00 1008663.17  0.23%     -    0s\n",
      "     0     0 1008663.17    0    4 1011030.00 1008663.17  0.23%     -    0s\n",
      "     0     0 1008663.17    0    3 1011030.00 1008663.17  0.23%     -    0s\n",
      "     0     0 1009217.68    0    4 1011030.00 1009217.68  0.18%     -    0s\n",
      "     0     0 1009217.68    0    5 1011030.00 1009217.68  0.18%     -    0s\n",
      "     0     0 1009217.68    0    6 1011030.00 1009217.68  0.18%     -    0s\n",
      "     0     0 1009217.68    0    6 1011030.00 1009217.68  0.18%     -    0s\n",
      "     0     0 1009217.68    0    7 1011030.00 1009217.68  0.18%     -    0s\n",
      "     0     0 1009841.71    0    7 1011030.00 1009841.71  0.12%     -    0s\n",
      "     0     2 1009841.71    0    7 1011030.00 1009841.71  0.12%     -    0s\n",
      "\n",
      "Cutting planes:\n",
      "  Gomory: 2\n",
      "  Cover: 2\n",
      "  MIR: 11\n",
      "  Flow cover: 15\n",
      "\n",
      "Explored 34 nodes (1444 simplex iterations) in 0.32 seconds (0.16 work units)\n",
      "Thread count was 8 (of 8 available processors)\n",
      "\n",
      "Solution count 1: 1.01103e+06 \n",
      "\n",
      "Optimal solution found (tolerance 1.00e-04)\n",
      "Best objective 1.011030000000e+06, best bound 1.011011832273e+06, gap 0.0018%\n"
     ]
    }
   ],
   "source": [
    "heures_maintenance = np.array([0,1,2,3,4,5,6,18,19,20,21,22,23])\n",
    "consommation = np.array([15,15,15,15,15,15,30,30,30,25,25,25,25,25,25,40,40,40,27,27,27,27,27,27])*1000\n",
    "heures = np.arange(24)\n",
    "\n",
    "model = gp.Model(\"8.1\")\n",
    "\n",
    "dict_N, dict_P, dict_Nstart = variables_decision_desagregation_thermique(model,dict_Thermique)\n",
    "dict_H, dict_Hstart = variables_decision_hydraulique_palier(model,dict_Hydro)\n",
    "dict_S = {t : model.addVar(lb=0,vtype=gp.GRB.CONTINUOUS,name=f\"pompage à l'instant {t}\") for t in range(24)}\n",
    "dict_N_s = {t : model.addVar(lb=0,vtype=gp.GRB.BINARY,name=f\"fonctionnement pompe à l'instant {t}\") for t in range(24)}\n",
    "debit_S = 1/3000 # débit de pompage par MWh ou par MW pendant une heure\n",
    "M = sum([dict_Thermique[X].N * dict_Thermique[X].Pmax for X in dict_Thermique]) + sum([dict_Hydro[Y].P[dict_Hydro[Y].palier_max()] for Y in dict_Hydro])\n",
    "\n",
    "contraintes_reservoir_palier(model,dict_H,dict_Hydro,dict_S,debit_S)\n",
    "contraintes_hydraulique_palier(model,dict_H,dict_Hydro,dict_Hstart)\n",
    "contraintes_hydraulique_pompage(model,dict_H,dict_Hydro,dict_N_s,dict_S,M)\n",
    "contraintes_thermique_desagregation(model,dict_P,dict_N,dict_Nstart,dict_Thermique)\n",
    "contraintes_equilibre_desagregation(model,dict_P,dict_Thermique,dict_H,dict_Hydro,dict_S,consommation)\n",
    "contraintes_reserve_desagregation(model,dict_N,dict_Thermique,dict_Hydro,consommation)\n",
    "for t in range(24):\n",
    "    for X in dict_Thermique:\n",
    "        for k in range(dict_Thermique[X].N):\n",
    "            model.addConstr(dict_P[X,k,t]-dict_P[X,k,heure[t-1]]<=dict_Thermique[X].Rampe_Montante)\n",
    "\n",
    "\n",
    "\n",
    "model.setObjective(\n",
    "    gp.quicksum([dict_N[X,k,t] * (dict_Thermique[X].Cbase - dict_Thermique[X].Pmin*dict_Thermique[X].Cmwh) for X in dict_Thermique for k in range(dict_Thermique[X].N) for t in range(24)]) + \n",
    "    gp.quicksum([dict_P[X,k,t] * dict_Thermique[X].Cmwh for X in dict_Thermique for k in range(dict_Thermique[X].N) for t in range(24)])+ \n",
    "    gp.quicksum([dict_Nstart[X,k,t]*dict_Thermique[X].Cstart for X in dict_Thermique for k in range(dict_Thermique[X].N) for t in range(24)])+\n",
    "    gp.quicksum([dict_H[Y,n,t] * dict_Hydro[Y].Cheure[n] for Y in dict_Hydro for t in range(24) for n in dict_Hydro[Y].Palier])+\n",
    "    gp.quicksum([dict_Hstart[Y,t] * dict_Hydro[Y].Cstart for Y in dict_Hydro for t in range(24)]),\n",
    "    gp.GRB.MINIMIZE\n",
    "    )\n",
    "\n",
    "model.optimize()"
   ]
  },
  {
   "cell_type": "code",
   "execution_count": 37,
   "metadata": {},
   "outputs": [
    {
     "data": {
      "application/vnd.plotly.v1+json": {
       "config": {
        "plotlyServerURL": "https://plot.ly"
       },
       "data": [
        {
         "name": "Thermique A",
         "stackgroup": "one",
         "type": "scatter",
         "x": [
          0,
          1,
          2,
          3,
          4,
          5,
          6,
          7,
          8,
          9,
          10,
          11,
          12,
          13,
          14,
          15,
          16,
          17,
          18,
          19,
          20,
          21,
          22,
          23
         ],
         "y": [
          10200,
          10200,
          10200,
          10200,
          10200,
          10200,
          13950,
          13950,
          13950,
          10200,
          10200,
          10200,
          10200,
          11950,
          16750,
          21550,
          23950,
          23950,
          10950,
          10950,
          10950,
          10950,
          10950,
          10950
         ]
        },
        {
         "name": "Thermique B",
         "stackgroup": "one",
         "type": "scatter",
         "x": [
          0,
          1,
          2,
          3,
          4,
          5,
          6,
          7,
          8,
          9,
          10,
          11,
          12,
          13,
          14,
          15,
          16,
          17,
          18,
          19,
          20,
          21,
          22,
          23
         ],
         "y": [
          6250,
          6250,
          6750.000000000023,
          7250,
          6250,
          6250,
          8750,
          8750,
          8750,
          8700,
          8700,
          8700,
          8700,
          8550,
          6750,
          8750,
          8750,
          8750,
          8750,
          8750,
          8750,
          8750,
          8750,
          8750
         ]
        },
        {
         "name": "Thermique C",
         "stackgroup": "one",
         "type": "scatter",
         "x": [
          0,
          1,
          2,
          3,
          4,
          5,
          6,
          7,
          8,
          9,
          10,
          11,
          12,
          13,
          14,
          15,
          16,
          17,
          18,
          19,
          20,
          21,
          22,
          23
         ],
         "y": [
          4500,
          4500,
          4500,
          4500,
          4500,
          4500,
          4500,
          4500,
          4500,
          4500,
          4500,
          4500,
          4500,
          4500,
          4500,
          6900,
          4500,
          4500,
          4500,
          4500,
          4500,
          4500,
          4500,
          4500
         ]
        },
        {
         "name": "Hydraulique 9",
         "stackgroup": "one",
         "type": "scatter",
         "x": [
          0,
          1,
          2,
          3,
          4,
          5,
          6,
          7,
          8,
          9,
          10,
          11,
          12,
          13,
          14,
          15,
          16,
          17,
          18,
          19,
          20,
          21,
          22,
          23
         ],
         "y": [
          0,
          0,
          0,
          0,
          0,
          0,
          1100,
          1100,
          1100,
          0,
          0,
          0,
          0,
          0,
          0,
          1100,
          1100,
          1100,
          1100,
          1100,
          1100,
          1100,
          1100,
          1100
         ]
        },
        {
         "name": "Hydraulique 14",
         "stackgroup": "one",
         "type": "scatter",
         "x": [
          0,
          1,
          2,
          3,
          4,
          5,
          6,
          7,
          8,
          9,
          10,
          11,
          12,
          13,
          14,
          15,
          16,
          17,
          18,
          19,
          20,
          21,
          22,
          23
         ],
         "y": [
          0,
          0,
          0,
          0,
          0,
          0,
          1700,
          1700,
          1700,
          1600,
          1600,
          1600,
          1600,
          0,
          0,
          1700,
          1700,
          1700,
          1700,
          1700,
          1700,
          1700,
          1700,
          1700
         ]
        },
        {
         "name": "Pompage",
         "stackgroup": "two",
         "type": "scatter",
         "x": [
          0,
          1,
          2,
          3,
          4,
          5,
          6,
          7,
          8,
          9,
          10,
          11,
          12,
          13,
          14,
          15,
          16,
          17,
          18,
          19,
          20,
          21,
          22,
          23
         ],
         "y": [
          -5950,
          -5950,
          -6450.000000000023,
          -6950,
          -5950,
          -5950,
          0,
          0,
          0,
          0,
          0,
          0,
          0,
          0,
          -3000,
          0,
          0,
          0,
          0,
          0,
          0,
          0,
          0,
          0
         ]
        },
        {
         "line": {
          "color": "red",
          "dash": "dash"
         },
         "name": "Production total",
         "type": "scatter",
         "x": [
          0,
          1,
          2,
          3,
          4,
          5,
          6,
          7,
          8,
          9,
          10,
          11,
          12,
          13,
          14,
          15,
          16,
          17,
          18,
          19,
          20,
          21,
          22,
          23
         ],
         "y": [
          15000,
          15000,
          15000,
          15000,
          15000,
          15000,
          30000,
          30000,
          30000,
          25000,
          25000,
          25000,
          25000,
          25000,
          25000,
          40000,
          40000,
          40000,
          27000,
          27000,
          27000,
          27000,
          27000,
          27000
         ]
        },
        {
         "line": {
          "color": "black"
         },
         "name": "Coût MWh",
         "type": "scatter",
         "x": [
          0,
          1,
          2,
          3,
          4,
          5,
          6,
          7,
          8,
          9,
          10,
          11,
          12,
          13,
          14,
          15,
          16,
          17,
          18,
          19,
          20,
          21,
          22,
          23
         ],
         "y": [
          2.2666666666666666,
          2.2666666666666666,
          2.310000000000002,
          2.3533333333333335,
          2.2666666666666666,
          2.2666666666666666,
          1.5026666666666666,
          1.5026666666666666,
          1.5026666666666666,
          1.4948,
          1.4948,
          1.4948,
          1.4948,
          1.6196,
          1.91,
          1.687,
          1.627,
          1.627,
          1.4474074074074075,
          1.4474074074074075,
          1.4474074074074075,
          1.4474074074074075,
          1.4474074074074075,
          1.4474074074074075
         ],
         "yaxis": "y2"
        },
        {
         "line": {
          "color": "grey"
         },
         "name": "Niveau réservoir",
         "type": "scatter",
         "x": [
          0,
          1,
          2,
          3,
          4,
          5,
          6,
          7,
          8,
          9,
          10,
          11,
          12,
          13,
          14,
          15,
          16,
          17,
          18,
          19,
          20,
          21,
          22,
          23
         ],
         "y": [
          1.9833333333333332,
          3.9666666666666663,
          6.116666666666674,
          8.43333333333334,
          10.416666666666673,
          12.400000000000006,
          11.460000000000006,
          10.520000000000007,
          9.580000000000007,
          9.050000000000008,
          8.520000000000008,
          7.990000000000008,
          7.460000000000008,
          7.460000000000008,
          8.460000000000008,
          7.520000000000008,
          6.580000000000007,
          5.640000000000007,
          4.700000000000006,
          3.7600000000000064,
          2.8200000000000065,
          1.8800000000000066,
          0.9400000000000065,
          6.439293542825908e-15
         ],
         "yaxis": "y3"
        }
       ],
       "layout": {
        "hovermode": "x",
        "template": {
         "data": {
          "bar": [
           {
            "error_x": {
             "color": "#2a3f5f"
            },
            "error_y": {
             "color": "#2a3f5f"
            },
            "marker": {
             "line": {
              "color": "#E5ECF6",
              "width": 0.5
             },
             "pattern": {
              "fillmode": "overlay",
              "size": 10,
              "solidity": 0.2
             }
            },
            "type": "bar"
           }
          ],
          "barpolar": [
           {
            "marker": {
             "line": {
              "color": "#E5ECF6",
              "width": 0.5
             },
             "pattern": {
              "fillmode": "overlay",
              "size": 10,
              "solidity": 0.2
             }
            },
            "type": "barpolar"
           }
          ],
          "carpet": [
           {
            "aaxis": {
             "endlinecolor": "#2a3f5f",
             "gridcolor": "white",
             "linecolor": "white",
             "minorgridcolor": "white",
             "startlinecolor": "#2a3f5f"
            },
            "baxis": {
             "endlinecolor": "#2a3f5f",
             "gridcolor": "white",
             "linecolor": "white",
             "minorgridcolor": "white",
             "startlinecolor": "#2a3f5f"
            },
            "type": "carpet"
           }
          ],
          "choropleth": [
           {
            "colorbar": {
             "outlinewidth": 0,
             "ticks": ""
            },
            "type": "choropleth"
           }
          ],
          "contour": [
           {
            "colorbar": {
             "outlinewidth": 0,
             "ticks": ""
            },
            "colorscale": [
             [
              0,
              "#0d0887"
             ],
             [
              0.1111111111111111,
              "#46039f"
             ],
             [
              0.2222222222222222,
              "#7201a8"
             ],
             [
              0.3333333333333333,
              "#9c179e"
             ],
             [
              0.4444444444444444,
              "#bd3786"
             ],
             [
              0.5555555555555556,
              "#d8576b"
             ],
             [
              0.6666666666666666,
              "#ed7953"
             ],
             [
              0.7777777777777778,
              "#fb9f3a"
             ],
             [
              0.8888888888888888,
              "#fdca26"
             ],
             [
              1,
              "#f0f921"
             ]
            ],
            "type": "contour"
           }
          ],
          "contourcarpet": [
           {
            "colorbar": {
             "outlinewidth": 0,
             "ticks": ""
            },
            "type": "contourcarpet"
           }
          ],
          "heatmap": [
           {
            "colorbar": {
             "outlinewidth": 0,
             "ticks": ""
            },
            "colorscale": [
             [
              0,
              "#0d0887"
             ],
             [
              0.1111111111111111,
              "#46039f"
             ],
             [
              0.2222222222222222,
              "#7201a8"
             ],
             [
              0.3333333333333333,
              "#9c179e"
             ],
             [
              0.4444444444444444,
              "#bd3786"
             ],
             [
              0.5555555555555556,
              "#d8576b"
             ],
             [
              0.6666666666666666,
              "#ed7953"
             ],
             [
              0.7777777777777778,
              "#fb9f3a"
             ],
             [
              0.8888888888888888,
              "#fdca26"
             ],
             [
              1,
              "#f0f921"
             ]
            ],
            "type": "heatmap"
           }
          ],
          "heatmapgl": [
           {
            "colorbar": {
             "outlinewidth": 0,
             "ticks": ""
            },
            "colorscale": [
             [
              0,
              "#0d0887"
             ],
             [
              0.1111111111111111,
              "#46039f"
             ],
             [
              0.2222222222222222,
              "#7201a8"
             ],
             [
              0.3333333333333333,
              "#9c179e"
             ],
             [
              0.4444444444444444,
              "#bd3786"
             ],
             [
              0.5555555555555556,
              "#d8576b"
             ],
             [
              0.6666666666666666,
              "#ed7953"
             ],
             [
              0.7777777777777778,
              "#fb9f3a"
             ],
             [
              0.8888888888888888,
              "#fdca26"
             ],
             [
              1,
              "#f0f921"
             ]
            ],
            "type": "heatmapgl"
           }
          ],
          "histogram": [
           {
            "marker": {
             "pattern": {
              "fillmode": "overlay",
              "size": 10,
              "solidity": 0.2
             }
            },
            "type": "histogram"
           }
          ],
          "histogram2d": [
           {
            "colorbar": {
             "outlinewidth": 0,
             "ticks": ""
            },
            "colorscale": [
             [
              0,
              "#0d0887"
             ],
             [
              0.1111111111111111,
              "#46039f"
             ],
             [
              0.2222222222222222,
              "#7201a8"
             ],
             [
              0.3333333333333333,
              "#9c179e"
             ],
             [
              0.4444444444444444,
              "#bd3786"
             ],
             [
              0.5555555555555556,
              "#d8576b"
             ],
             [
              0.6666666666666666,
              "#ed7953"
             ],
             [
              0.7777777777777778,
              "#fb9f3a"
             ],
             [
              0.8888888888888888,
              "#fdca26"
             ],
             [
              1,
              "#f0f921"
             ]
            ],
            "type": "histogram2d"
           }
          ],
          "histogram2dcontour": [
           {
            "colorbar": {
             "outlinewidth": 0,
             "ticks": ""
            },
            "colorscale": [
             [
              0,
              "#0d0887"
             ],
             [
              0.1111111111111111,
              "#46039f"
             ],
             [
              0.2222222222222222,
              "#7201a8"
             ],
             [
              0.3333333333333333,
              "#9c179e"
             ],
             [
              0.4444444444444444,
              "#bd3786"
             ],
             [
              0.5555555555555556,
              "#d8576b"
             ],
             [
              0.6666666666666666,
              "#ed7953"
             ],
             [
              0.7777777777777778,
              "#fb9f3a"
             ],
             [
              0.8888888888888888,
              "#fdca26"
             ],
             [
              1,
              "#f0f921"
             ]
            ],
            "type": "histogram2dcontour"
           }
          ],
          "mesh3d": [
           {
            "colorbar": {
             "outlinewidth": 0,
             "ticks": ""
            },
            "type": "mesh3d"
           }
          ],
          "parcoords": [
           {
            "line": {
             "colorbar": {
              "outlinewidth": 0,
              "ticks": ""
             }
            },
            "type": "parcoords"
           }
          ],
          "pie": [
           {
            "automargin": true,
            "type": "pie"
           }
          ],
          "scatter": [
           {
            "fillpattern": {
             "fillmode": "overlay",
             "size": 10,
             "solidity": 0.2
            },
            "type": "scatter"
           }
          ],
          "scatter3d": [
           {
            "line": {
             "colorbar": {
              "outlinewidth": 0,
              "ticks": ""
             }
            },
            "marker": {
             "colorbar": {
              "outlinewidth": 0,
              "ticks": ""
             }
            },
            "type": "scatter3d"
           }
          ],
          "scattercarpet": [
           {
            "marker": {
             "colorbar": {
              "outlinewidth": 0,
              "ticks": ""
             }
            },
            "type": "scattercarpet"
           }
          ],
          "scattergeo": [
           {
            "marker": {
             "colorbar": {
              "outlinewidth": 0,
              "ticks": ""
             }
            },
            "type": "scattergeo"
           }
          ],
          "scattergl": [
           {
            "marker": {
             "colorbar": {
              "outlinewidth": 0,
              "ticks": ""
             }
            },
            "type": "scattergl"
           }
          ],
          "scattermapbox": [
           {
            "marker": {
             "colorbar": {
              "outlinewidth": 0,
              "ticks": ""
             }
            },
            "type": "scattermapbox"
           }
          ],
          "scatterpolar": [
           {
            "marker": {
             "colorbar": {
              "outlinewidth": 0,
              "ticks": ""
             }
            },
            "type": "scatterpolar"
           }
          ],
          "scatterpolargl": [
           {
            "marker": {
             "colorbar": {
              "outlinewidth": 0,
              "ticks": ""
             }
            },
            "type": "scatterpolargl"
           }
          ],
          "scatterternary": [
           {
            "marker": {
             "colorbar": {
              "outlinewidth": 0,
              "ticks": ""
             }
            },
            "type": "scatterternary"
           }
          ],
          "surface": [
           {
            "colorbar": {
             "outlinewidth": 0,
             "ticks": ""
            },
            "colorscale": [
             [
              0,
              "#0d0887"
             ],
             [
              0.1111111111111111,
              "#46039f"
             ],
             [
              0.2222222222222222,
              "#7201a8"
             ],
             [
              0.3333333333333333,
              "#9c179e"
             ],
             [
              0.4444444444444444,
              "#bd3786"
             ],
             [
              0.5555555555555556,
              "#d8576b"
             ],
             [
              0.6666666666666666,
              "#ed7953"
             ],
             [
              0.7777777777777778,
              "#fb9f3a"
             ],
             [
              0.8888888888888888,
              "#fdca26"
             ],
             [
              1,
              "#f0f921"
             ]
            ],
            "type": "surface"
           }
          ],
          "table": [
           {
            "cells": {
             "fill": {
              "color": "#EBF0F8"
             },
             "line": {
              "color": "white"
             }
            },
            "header": {
             "fill": {
              "color": "#C8D4E3"
             },
             "line": {
              "color": "white"
             }
            },
            "type": "table"
           }
          ]
         },
         "layout": {
          "annotationdefaults": {
           "arrowcolor": "#2a3f5f",
           "arrowhead": 0,
           "arrowwidth": 1
          },
          "autotypenumbers": "strict",
          "coloraxis": {
           "colorbar": {
            "outlinewidth": 0,
            "ticks": ""
           }
          },
          "colorscale": {
           "diverging": [
            [
             0,
             "#8e0152"
            ],
            [
             0.1,
             "#c51b7d"
            ],
            [
             0.2,
             "#de77ae"
            ],
            [
             0.3,
             "#f1b6da"
            ],
            [
             0.4,
             "#fde0ef"
            ],
            [
             0.5,
             "#f7f7f7"
            ],
            [
             0.6,
             "#e6f5d0"
            ],
            [
             0.7,
             "#b8e186"
            ],
            [
             0.8,
             "#7fbc41"
            ],
            [
             0.9,
             "#4d9221"
            ],
            [
             1,
             "#276419"
            ]
           ],
           "sequential": [
            [
             0,
             "#0d0887"
            ],
            [
             0.1111111111111111,
             "#46039f"
            ],
            [
             0.2222222222222222,
             "#7201a8"
            ],
            [
             0.3333333333333333,
             "#9c179e"
            ],
            [
             0.4444444444444444,
             "#bd3786"
            ],
            [
             0.5555555555555556,
             "#d8576b"
            ],
            [
             0.6666666666666666,
             "#ed7953"
            ],
            [
             0.7777777777777778,
             "#fb9f3a"
            ],
            [
             0.8888888888888888,
             "#fdca26"
            ],
            [
             1,
             "#f0f921"
            ]
           ],
           "sequentialminus": [
            [
             0,
             "#0d0887"
            ],
            [
             0.1111111111111111,
             "#46039f"
            ],
            [
             0.2222222222222222,
             "#7201a8"
            ],
            [
             0.3333333333333333,
             "#9c179e"
            ],
            [
             0.4444444444444444,
             "#bd3786"
            ],
            [
             0.5555555555555556,
             "#d8576b"
            ],
            [
             0.6666666666666666,
             "#ed7953"
            ],
            [
             0.7777777777777778,
             "#fb9f3a"
            ],
            [
             0.8888888888888888,
             "#fdca26"
            ],
            [
             1,
             "#f0f921"
            ]
           ]
          },
          "colorway": [
           "#636efa",
           "#EF553B",
           "#00cc96",
           "#ab63fa",
           "#FFA15A",
           "#19d3f3",
           "#FF6692",
           "#B6E880",
           "#FF97FF",
           "#FECB52"
          ],
          "font": {
           "color": "#2a3f5f"
          },
          "geo": {
           "bgcolor": "white",
           "lakecolor": "white",
           "landcolor": "#E5ECF6",
           "showlakes": true,
           "showland": true,
           "subunitcolor": "white"
          },
          "hoverlabel": {
           "align": "left"
          },
          "hovermode": "closest",
          "mapbox": {
           "style": "light"
          },
          "paper_bgcolor": "white",
          "plot_bgcolor": "#E5ECF6",
          "polar": {
           "angularaxis": {
            "gridcolor": "white",
            "linecolor": "white",
            "ticks": ""
           },
           "bgcolor": "#E5ECF6",
           "radialaxis": {
            "gridcolor": "white",
            "linecolor": "white",
            "ticks": ""
           }
          },
          "scene": {
           "xaxis": {
            "backgroundcolor": "#E5ECF6",
            "gridcolor": "white",
            "gridwidth": 2,
            "linecolor": "white",
            "showbackground": true,
            "ticks": "",
            "zerolinecolor": "white"
           },
           "yaxis": {
            "backgroundcolor": "#E5ECF6",
            "gridcolor": "white",
            "gridwidth": 2,
            "linecolor": "white",
            "showbackground": true,
            "ticks": "",
            "zerolinecolor": "white"
           },
           "zaxis": {
            "backgroundcolor": "#E5ECF6",
            "gridcolor": "white",
            "gridwidth": 2,
            "linecolor": "white",
            "showbackground": true,
            "ticks": "",
            "zerolinecolor": "white"
           }
          },
          "shapedefaults": {
           "line": {
            "color": "#2a3f5f"
           }
          },
          "ternary": {
           "aaxis": {
            "gridcolor": "white",
            "linecolor": "white",
            "ticks": ""
           },
           "baxis": {
            "gridcolor": "white",
            "linecolor": "white",
            "ticks": ""
           },
           "bgcolor": "#E5ECF6",
           "caxis": {
            "gridcolor": "white",
            "linecolor": "white",
            "ticks": ""
           }
          },
          "title": {
           "x": 0.05
          },
          "xaxis": {
           "automargin": true,
           "gridcolor": "white",
           "linecolor": "white",
           "ticks": "",
           "title": {
            "standoff": 15
           },
           "zerolinecolor": "white",
           "zerolinewidth": 2
          },
          "yaxis": {
           "automargin": true,
           "gridcolor": "white",
           "linecolor": "white",
           "ticks": "",
           "title": {
            "standoff": 15
           },
           "zerolinecolor": "white",
           "zerolinewidth": 2
          }
         }
        },
        "title": {
         "text": "Répartition de la production électrique dans la journée - 8.1"
        },
        "yaxis": {
         "range": [
          -7645.000000000001,
          44000
         ],
         "title": {
          "text": "MW"
         }
        },
        "yaxis2": {
         "anchor": "free",
         "overlaying": "y",
         "position": 1,
         "range": [
          1.375037037037037,
          2.588666666666667
         ],
         "side": "right",
         "title": {
          "text": "€/MWh"
         }
        },
        "yaxis3": {
         "anchor": "free",
         "overlaying": "y",
         "position": 0.05,
         "range": [
          7.083222897108499e-15,
          13.640000000000008
         ],
         "side": "left",
         "title": {
          "text": "Réservoir (m)"
         }
        }
       }
      }
     },
     "metadata": {},
     "output_type": "display_data"
    }
   ],
   "source": [
    "df = df_results61(dict_N,dict_P,dict_Nstart,dict_Thermique,dict_H,dict_Hstart,dict_Hydro,dict_S,debit_S,consommation)\n",
    "fig = Results_viz52(df,dict_Thermique,dict_Hydro)\n",
    "A = \"8.1\"\n",
    "fig.update_layout(\n",
    "    title = f\"Répartition de la production électrique dans la journée - {A}\"\n",
    ")\n",
    "fig.show()\n",
    "fig.write_html(f\"HTML/Répartition de la production électrique dans la journée - {A}.html\")"
   ]
  },
  {
   "cell_type": "markdown",
   "metadata": {},
   "source": [
    "### 8.2 Rampe démarrage\n",
    "\n",
    "$$\n",
    "\\forall t, \\forall X , \\forall k \\in \\{0,\\dots,N^{(X)}\\}, P_{t}^{(X,k)}-P_{t-1}^{(X,k)}\\leq R_{montée}^{(X)} + N_{start,t}{(X,k)}(R_{démarrage}^{(X)}-R_{montée}^{(X)})\n",
    "$$"
   ]
  },
  {
   "cell_type": "code",
   "execution_count": 38,
   "metadata": {},
   "outputs": [
    {
     "name": "stdout",
     "output_type": "stream",
     "text": [
      "Gurobi Optimizer version 9.5.2 build v9.5.2rc0 (win64)\n",
      "Thread count: 4 physical cores, 8 logical processors, using up to 8 threads\n",
      "Optimize a model with 2929 rows, 2232 columns and 9432 nonzeros\n",
      "Model fingerprint: 0x08181a39\n",
      "Variable types: 672 continuous, 1560 integer (1560 binary)\n",
      "Coefficient statistics:\n",
      "  Matrix range     [3e-04, 6e+04]\n",
      "  Objective range  [1e+00, 2e+03]\n",
      "  Bounds range     [1e+00, 1e+00]\n",
      "  RHS range        [1e+00, 4e+04]\n",
      "Presolve removed 216 rows and 48 columns\n",
      "Presolve time: 0.02s\n",
      "Presolved: 2713 rows, 2184 columns, 9144 nonzeros\n",
      "Variable types: 672 continuous, 1512 integer (1512 binary)\n",
      "Found heuristic solution: objective 1142240.0000\n",
      "\n",
      "Root relaxation: objective 9.839873e+05, 1488 iterations, 0.02 seconds (0.02 work units)\n",
      "\n",
      "    Nodes    |    Current Node    |     Objective Bounds      |     Work\n",
      " Expl Unexpl |  Obj  Depth IntInf | Incumbent    BestBd   Gap | It/Node Time\n",
      "\n",
      "     0     0 983987.262    0   96 1142240.00 983987.262  13.9%     -    0s\n",
      "H    0     0                    1017531.0000 983987.262  3.30%     -    0s\n",
      "H    0     0                    992390.00000 983987.262  0.85%     -    0s\n",
      "     0     0 985077.644    0   61 992390.000 985077.644  0.74%     -    0s\n",
      "H    0     0                    988310.00000 985077.644  0.33%     -    0s\n",
      "     0     0 985324.702    0   64 988310.000 985324.702  0.30%     -    0s\n",
      "H    0     0                    986202.00000 985324.702  0.09%     -    0s\n",
      "     0     0 985324.702    0   59 986202.000 985324.702  0.09%     -    0s\n",
      "     0     0 985347.829    0   64 986202.000 985347.829  0.09%     -    0s\n",
      "     0     0 985347.829    0   92 986202.000 985347.829  0.09%     -    0s\n",
      "     0     0 985347.829    0   72 986202.000 985347.829  0.09%     -    0s\n",
      "     0     0 985347.829    0   60 986202.000 985347.829  0.09%     -    0s\n",
      "     0     0 985347.842    0   72 986202.000 985347.842  0.09%     -    0s\n",
      "     0     0 985347.842    0   71 986202.000 985347.842  0.09%     -    0s\n",
      "     0     0 985448.397    0   75 986202.000 985448.397  0.08%     -    0s\n",
      "     0     0 985448.397    0   93 986202.000 985448.397  0.08%     -    0s\n",
      "H    0     0                    986134.00000 985448.397  0.07%     -    0s\n",
      "     0     0 985588.286    0   73 986134.000 985588.286  0.06%     -    0s\n",
      "     0     0 985589.730    0   92 986134.000 985589.730  0.06%     -    0s\n",
      "     0     0 985592.504    0  104 986134.000 985592.504  0.05%     -    0s\n",
      "     0     0 985593.584    0  105 986134.000 985593.584  0.05%     -    0s\n",
      "     0     0 985594.916    0   98 986134.000 985594.916  0.05%     -    0s\n",
      "     0     0 985595.249    0   97 986134.000 985595.249  0.05%     -    0s\n",
      "     0     0 985596.670    0   81 986134.000 985596.670  0.05%     -    0s\n",
      "     0     0 985596.688    0   92 986134.000 985596.688  0.05%     -    0s\n",
      "H    0     0                    985991.00000 985596.688  0.04%     -    0s\n",
      "     0     0 985596.688    0   78 985991.000 985596.688  0.04%     -    0s\n",
      "     0     0 985596.688    0   81 985991.000 985596.688  0.04%     -    0s\n",
      "     0     0 985596.901    0   69 985991.000 985596.901  0.04%     -    0s\n",
      "     0     0 985596.901    0   71 985991.000 985596.901  0.04%     -    0s\n",
      "     0     0 985596.901    0   65 985991.000 985596.901  0.04%     -    0s\n",
      "H    0     0                    985897.00000 985596.901  0.03%     -    0s\n",
      "     0     0 985596.901    0   61 985897.000 985596.901  0.03%     -    0s\n",
      "     0     0 985596.901    0   47 985897.000 985596.901  0.03%     -    0s\n",
      "     0     0 985596.901    0   49 985897.000 985596.901  0.03%     -    0s\n",
      "     0     0 985596.901    0   60 985897.000 985596.901  0.03%     -    0s\n",
      "     0     0 985596.901    0   48 985897.000 985596.901  0.03%     -    0s\n",
      "     0     0 985596.901    0   48 985897.000 985596.901  0.03%     -    0s\n",
      "     0     0 985596.901    0   60 985897.000 985596.901  0.03%     -    0s\n",
      "H    0     0                    985855.00000 985596.901  0.03%     -    0s\n",
      "     0     0 985596.901    0   63 985855.000 985596.901  0.03%     -    0s\n",
      "     0     0 985607.615    0   68 985855.000 985607.615  0.03%     -    0s\n",
      "     0     0 985608.687    0   42 985855.000 985608.687  0.02%     -    0s\n",
      "     0     0 985608.687    0   67 985855.000 985608.687  0.02%     -    0s\n",
      "     0     0 985608.687    0   82 985855.000 985608.687  0.02%     -    0s\n",
      "     0     0 985608.687    0   96 985855.000 985608.687  0.02%     -    0s\n",
      "     0     0 985608.687    0   36 985855.000 985608.687  0.02%     -    0s\n",
      "     0     2 985608.687    0   36 985855.000 985608.687  0.02%     -    0s\n",
      "*  236   280              49    985798.00000 985638.893  0.02%   3.8    1s\n",
      "*  958   704              48    985790.00000 985660.558  0.01%   5.0    1s\n",
      "H 1217   677                    985786.00000 985661.367  0.01%   5.0    1s\n",
      "\n",
      "Cutting planes:\n",
      "  Gomory: 9\n",
      "  Lift-and-project: 2\n",
      "  Implied bound: 13\n",
      "  MIR: 39\n",
      "  StrongCG: 2\n",
      "  Flow cover: 22\n",
      "  RLT: 5\n",
      "  Relax-and-lift: 4\n",
      "\n",
      "Explored 1249 nodes (11873 simplex iterations) in 1.63 seconds (0.97 work units)\n",
      "Thread count was 8 (of 8 available processors)\n",
      "\n",
      "Solution count 10: 985786 985790 985798 ... 988310\n",
      "\n",
      "Optimal solution found (tolerance 1.00e-04)\n",
      "Best objective 9.857860000000e+05, best bound 9.856891776059e+05, gap 0.0098%\n"
     ]
    }
   ],
   "source": [
    "heures_maintenance = np.array([0,1,2,3,4,5,6,18,19,20,21,22,23])\n",
    "consommation = np.array([15,15,15,15,15,15,30,30,30,25,25,25,25,25,25,40,40,40,27,27,27,27,27,27])*1000\n",
    "heures = np.arange(24)\n",
    "\n",
    "model = gp.Model(\"8.2\")\n",
    "\n",
    "dict_N, dict_P, dict_Nstart = variables_decision_desagregation_thermique(model,dict_Thermique)\n",
    "dict_H, dict_Hstart = variables_decision_hydraulique_palier(model,dict_Hydro)\n",
    "dict_S = {t : model.addVar(lb=0,vtype=gp.GRB.CONTINUOUS,name=f\"pompage à l'instant {t}\") for t in range(24)}\n",
    "dict_N_s = {t : model.addVar(lb=0,vtype=gp.GRB.BINARY,name=f\"fonctionnement pompe à l'instant {t}\") for t in range(24)}\n",
    "debit_S = 1/3000 # débit de pompage par MWh ou par MW pendant une heure\n",
    "M = sum([dict_Thermique[X].N * dict_Thermique[X].Pmax for X in dict_Thermique]) + sum([dict_Hydro[Y].P[dict_Hydro[Y].palier_max()] for Y in dict_Hydro])\n",
    "\n",
    "contraintes_reservoir_palier(model,dict_H,dict_Hydro,dict_S,debit_S)\n",
    "contraintes_hydraulique_palier(model,dict_H,dict_Hydro,dict_Hstart)\n",
    "contraintes_hydraulique_pompage(model,dict_H,dict_Hydro,dict_N_s,dict_S,M)\n",
    "contraintes_thermique_desagregation(model,dict_P,dict_N,dict_Nstart,dict_Thermique)\n",
    "contraintes_equilibre_desagregation(model,dict_P,dict_Thermique,dict_H,dict_Hydro,dict_S,consommation)\n",
    "contraintes_reserve_desagregation(model,dict_N,dict_Thermique,dict_Hydro,consommation)\n",
    "for t in range(24):\n",
    "    for X in dict_Thermique:\n",
    "        for k in range(dict_Thermique[X].N):\n",
    "            model.addConstr(dict_P[X,k,t]-dict_P[X,k,heure[t-1]]<=dict_Thermique[X].Rampe_Montante + dict_Nstart[X,k,t]*(dict_Thermique[X].Rampe_Start-dict_Thermique[X].Rampe_Montante))\n",
    "\n",
    "\n",
    "\n",
    "model.setObjective(\n",
    "    gp.quicksum([dict_N[X,k,t] * (dict_Thermique[X].Cbase - dict_Thermique[X].Pmin*dict_Thermique[X].Cmwh) for X in dict_Thermique for k in range(dict_Thermique[X].N) for t in range(24)]) + \n",
    "    gp.quicksum([dict_P[X,k,t] * dict_Thermique[X].Cmwh for X in dict_Thermique for k in range(dict_Thermique[X].N) for t in range(24)])+ \n",
    "    gp.quicksum([dict_Nstart[X,k,t]*dict_Thermique[X].Cstart for X in dict_Thermique for k in range(dict_Thermique[X].N) for t in range(24)])+\n",
    "    gp.quicksum([dict_H[Y,n,t] * dict_Hydro[Y].Cheure[n] for Y in dict_Hydro for t in range(24) for n in dict_Hydro[Y].Palier])+\n",
    "    gp.quicksum([dict_Hstart[Y,t] * dict_Hydro[Y].Cstart for Y in dict_Hydro for t in range(24)]),\n",
    "    gp.GRB.MINIMIZE\n",
    "    )\n",
    "\n",
    "model.optimize()"
   ]
  },
  {
   "cell_type": "code",
   "execution_count": 39,
   "metadata": {},
   "outputs": [
    {
     "data": {
      "application/vnd.plotly.v1+json": {
       "config": {
        "plotlyServerURL": "https://plot.ly"
       },
       "data": [
        {
         "name": "Thermique A",
         "stackgroup": "one",
         "type": "scatter",
         "x": [
          0,
          1,
          2,
          3,
          4,
          5,
          6,
          7,
          8,
          9,
          10,
          11,
          12,
          13,
          14,
          15,
          16,
          17,
          18,
          19,
          20,
          21,
          22,
          23
         ],
         "y": [
          10200,
          10200,
          10200,
          10200,
          10200,
          10200,
          12450,
          11449.999999999998,
          11449.999999999998,
          10200,
          10200,
          10200,
          10200,
          10200,
          13650,
          18450,
          18199.999999999996,
          18199.999999999993,
          10500,
          10300,
          10400,
          10399.999999999995,
          10400,
          10200
         ]
        },
        {
         "name": "Thermique B",
         "stackgroup": "one",
         "type": "scatter",
         "x": [
          0,
          1,
          2,
          3,
          4,
          5,
          6,
          7,
          8,
          9,
          10,
          11,
          12,
          13,
          14,
          15,
          16,
          17,
          18,
          19,
          20,
          21,
          22,
          23
         ],
         "y": [
          8720.000000000004,
          8750,
          8750,
          8750,
          8750,
          8750,
          14750,
          15750,
          15750,
          15750,
          15750,
          15750,
          15750,
          15750,
          15750,
          17250,
          17500,
          17500,
          14000,
          14000,
          14000,
          14000,
          14000,
          14000
         ]
        },
        {
         "name": "Thermique C",
         "stackgroup": "one",
         "type": "scatter",
         "x": [
          0,
          1,
          2,
          3,
          4,
          5,
          6,
          7,
          8,
          9,
          10,
          11,
          12,
          13,
          14,
          15,
          16,
          17,
          18,
          19,
          20,
          21,
          22,
          23
         ],
         "y": [
          0,
          0,
          0,
          0,
          0,
          0,
          0,
          0,
          0,
          0,
          0,
          0,
          0,
          0,
          0,
          1500,
          1500,
          1500,
          0,
          0,
          0,
          0,
          0,
          0
         ]
        },
        {
         "name": "Hydraulique 9",
         "stackgroup": "one",
         "type": "scatter",
         "x": [
          0,
          1,
          2,
          3,
          4,
          5,
          6,
          7,
          8,
          9,
          10,
          11,
          12,
          13,
          14,
          15,
          16,
          17,
          18,
          19,
          20,
          21,
          22,
          23
         ],
         "y": [
          0,
          0,
          0,
          0,
          0,
          0,
          1100,
          1100,
          1100,
          0,
          0,
          0,
          0,
          0,
          0,
          1100,
          1100,
          1100,
          900,
          1000,
          900,
          900,
          900,
          1100
         ]
        },
        {
         "name": "Hydraulique 14",
         "stackgroup": "one",
         "type": "scatter",
         "x": [
          0,
          1,
          2,
          3,
          4,
          5,
          6,
          7,
          8,
          9,
          10,
          11,
          12,
          13,
          14,
          15,
          16,
          17,
          18,
          19,
          20,
          21,
          22,
          23
         ],
         "y": [
          0,
          0,
          0,
          0,
          0,
          0,
          1700,
          1700,
          1700,
          0,
          0,
          0,
          0,
          0,
          0,
          1700,
          1700,
          1700,
          1600,
          1700,
          1700,
          1700,
          1700,
          1700
         ]
        },
        {
         "name": "Pompage",
         "stackgroup": "two",
         "type": "scatter",
         "x": [
          0,
          1,
          2,
          3,
          4,
          5,
          6,
          7,
          8,
          9,
          10,
          11,
          12,
          13,
          14,
          15,
          16,
          17,
          18,
          19,
          20,
          21,
          22,
          23
         ],
         "y": [
          -3920.000000000005,
          -3950,
          -3950,
          -3950,
          -3950,
          -3950,
          0,
          0,
          0,
          -950,
          -950,
          -950,
          -950,
          -950,
          -4399.999999999998,
          0,
          0,
          0,
          0,
          0,
          0,
          0,
          0,
          0
         ]
        },
        {
         "line": {
          "color": "red",
          "dash": "dash"
         },
         "name": "Production total",
         "type": "scatter",
         "x": [
          0,
          1,
          2,
          3,
          4,
          5,
          6,
          7,
          8,
          9,
          10,
          11,
          12,
          13,
          14,
          15,
          16,
          17,
          18,
          19,
          20,
          21,
          22,
          23
         ],
         "y": [
          14999.999999999998,
          15000,
          15000,
          15000,
          15000,
          15000,
          30000,
          30000,
          30000,
          25000,
          25000,
          25000,
          25000,
          25000,
          25000,
          40000,
          40000,
          39999.99999999999,
          27000,
          27000,
          27000,
          26999.999999999993,
          27000,
          27000
         ]
        },
        {
         "line": {
          "color": "black"
         },
         "name": "Coût MWh",
         "type": "scatter",
         "x": [
          0,
          1,
          2,
          3,
          4,
          5,
          6,
          7,
          8,
          9,
          10,
          11,
          12,
          13,
          14,
          15,
          16,
          17,
          18,
          19,
          20,
          21,
          22,
          23
         ],
         "y": [
          1.8807333333333338,
          1.8833333333333333,
          1.8833333333333333,
          1.8833333333333333,
          1.8833333333333333,
          1.8833333333333333,
          1.626,
          1.4693333333333334,
          1.4693333333333334,
          1.65,
          1.65,
          1.65,
          1.65,
          1.65,
          1.926,
          1.637625,
          1.5957499999999996,
          1.59575,
          1.4398148148148149,
          1.4264814814814815,
          1.4333333333333333,
          1.4333333333333333,
          1.4333333333333333,
          1.4196296296296296
         ],
         "yaxis": "y2"
        },
        {
         "line": {
          "color": "grey"
         },
         "name": "Niveau réservoir",
         "type": "scatter",
         "x": [
          0,
          1,
          2,
          3,
          4,
          5,
          6,
          7,
          8,
          9,
          10,
          11,
          12,
          13,
          14,
          15,
          16,
          17,
          18,
          19,
          20,
          21,
          22,
          23
         ],
         "y": [
          1.3066666666666682,
          2.623333333333335,
          3.9400000000000013,
          5.256666666666668,
          6.573333333333334,
          7.890000000000001,
          6.95,
          6.01,
          5.069999999999999,
          5.386666666666666,
          5.703333333333332,
          6.019999999999999,
          6.336666666666665,
          6.6533333333333315,
          8.119999999999997,
          7.179999999999997,
          6.239999999999997,
          5.299999999999996,
          4.459999999999996,
          3.5499999999999963,
          2.679999999999996,
          1.809999999999996,
          0.939999999999996,
          -4.107825191113079e-15
         ],
         "yaxis": "y3"
        }
       ],
       "layout": {
        "hovermode": "x",
        "template": {
         "data": {
          "bar": [
           {
            "error_x": {
             "color": "#2a3f5f"
            },
            "error_y": {
             "color": "#2a3f5f"
            },
            "marker": {
             "line": {
              "color": "#E5ECF6",
              "width": 0.5
             },
             "pattern": {
              "fillmode": "overlay",
              "size": 10,
              "solidity": 0.2
             }
            },
            "type": "bar"
           }
          ],
          "barpolar": [
           {
            "marker": {
             "line": {
              "color": "#E5ECF6",
              "width": 0.5
             },
             "pattern": {
              "fillmode": "overlay",
              "size": 10,
              "solidity": 0.2
             }
            },
            "type": "barpolar"
           }
          ],
          "carpet": [
           {
            "aaxis": {
             "endlinecolor": "#2a3f5f",
             "gridcolor": "white",
             "linecolor": "white",
             "minorgridcolor": "white",
             "startlinecolor": "#2a3f5f"
            },
            "baxis": {
             "endlinecolor": "#2a3f5f",
             "gridcolor": "white",
             "linecolor": "white",
             "minorgridcolor": "white",
             "startlinecolor": "#2a3f5f"
            },
            "type": "carpet"
           }
          ],
          "choropleth": [
           {
            "colorbar": {
             "outlinewidth": 0,
             "ticks": ""
            },
            "type": "choropleth"
           }
          ],
          "contour": [
           {
            "colorbar": {
             "outlinewidth": 0,
             "ticks": ""
            },
            "colorscale": [
             [
              0,
              "#0d0887"
             ],
             [
              0.1111111111111111,
              "#46039f"
             ],
             [
              0.2222222222222222,
              "#7201a8"
             ],
             [
              0.3333333333333333,
              "#9c179e"
             ],
             [
              0.4444444444444444,
              "#bd3786"
             ],
             [
              0.5555555555555556,
              "#d8576b"
             ],
             [
              0.6666666666666666,
              "#ed7953"
             ],
             [
              0.7777777777777778,
              "#fb9f3a"
             ],
             [
              0.8888888888888888,
              "#fdca26"
             ],
             [
              1,
              "#f0f921"
             ]
            ],
            "type": "contour"
           }
          ],
          "contourcarpet": [
           {
            "colorbar": {
             "outlinewidth": 0,
             "ticks": ""
            },
            "type": "contourcarpet"
           }
          ],
          "heatmap": [
           {
            "colorbar": {
             "outlinewidth": 0,
             "ticks": ""
            },
            "colorscale": [
             [
              0,
              "#0d0887"
             ],
             [
              0.1111111111111111,
              "#46039f"
             ],
             [
              0.2222222222222222,
              "#7201a8"
             ],
             [
              0.3333333333333333,
              "#9c179e"
             ],
             [
              0.4444444444444444,
              "#bd3786"
             ],
             [
              0.5555555555555556,
              "#d8576b"
             ],
             [
              0.6666666666666666,
              "#ed7953"
             ],
             [
              0.7777777777777778,
              "#fb9f3a"
             ],
             [
              0.8888888888888888,
              "#fdca26"
             ],
             [
              1,
              "#f0f921"
             ]
            ],
            "type": "heatmap"
           }
          ],
          "heatmapgl": [
           {
            "colorbar": {
             "outlinewidth": 0,
             "ticks": ""
            },
            "colorscale": [
             [
              0,
              "#0d0887"
             ],
             [
              0.1111111111111111,
              "#46039f"
             ],
             [
              0.2222222222222222,
              "#7201a8"
             ],
             [
              0.3333333333333333,
              "#9c179e"
             ],
             [
              0.4444444444444444,
              "#bd3786"
             ],
             [
              0.5555555555555556,
              "#d8576b"
             ],
             [
              0.6666666666666666,
              "#ed7953"
             ],
             [
              0.7777777777777778,
              "#fb9f3a"
             ],
             [
              0.8888888888888888,
              "#fdca26"
             ],
             [
              1,
              "#f0f921"
             ]
            ],
            "type": "heatmapgl"
           }
          ],
          "histogram": [
           {
            "marker": {
             "pattern": {
              "fillmode": "overlay",
              "size": 10,
              "solidity": 0.2
             }
            },
            "type": "histogram"
           }
          ],
          "histogram2d": [
           {
            "colorbar": {
             "outlinewidth": 0,
             "ticks": ""
            },
            "colorscale": [
             [
              0,
              "#0d0887"
             ],
             [
              0.1111111111111111,
              "#46039f"
             ],
             [
              0.2222222222222222,
              "#7201a8"
             ],
             [
              0.3333333333333333,
              "#9c179e"
             ],
             [
              0.4444444444444444,
              "#bd3786"
             ],
             [
              0.5555555555555556,
              "#d8576b"
             ],
             [
              0.6666666666666666,
              "#ed7953"
             ],
             [
              0.7777777777777778,
              "#fb9f3a"
             ],
             [
              0.8888888888888888,
              "#fdca26"
             ],
             [
              1,
              "#f0f921"
             ]
            ],
            "type": "histogram2d"
           }
          ],
          "histogram2dcontour": [
           {
            "colorbar": {
             "outlinewidth": 0,
             "ticks": ""
            },
            "colorscale": [
             [
              0,
              "#0d0887"
             ],
             [
              0.1111111111111111,
              "#46039f"
             ],
             [
              0.2222222222222222,
              "#7201a8"
             ],
             [
              0.3333333333333333,
              "#9c179e"
             ],
             [
              0.4444444444444444,
              "#bd3786"
             ],
             [
              0.5555555555555556,
              "#d8576b"
             ],
             [
              0.6666666666666666,
              "#ed7953"
             ],
             [
              0.7777777777777778,
              "#fb9f3a"
             ],
             [
              0.8888888888888888,
              "#fdca26"
             ],
             [
              1,
              "#f0f921"
             ]
            ],
            "type": "histogram2dcontour"
           }
          ],
          "mesh3d": [
           {
            "colorbar": {
             "outlinewidth": 0,
             "ticks": ""
            },
            "type": "mesh3d"
           }
          ],
          "parcoords": [
           {
            "line": {
             "colorbar": {
              "outlinewidth": 0,
              "ticks": ""
             }
            },
            "type": "parcoords"
           }
          ],
          "pie": [
           {
            "automargin": true,
            "type": "pie"
           }
          ],
          "scatter": [
           {
            "fillpattern": {
             "fillmode": "overlay",
             "size": 10,
             "solidity": 0.2
            },
            "type": "scatter"
           }
          ],
          "scatter3d": [
           {
            "line": {
             "colorbar": {
              "outlinewidth": 0,
              "ticks": ""
             }
            },
            "marker": {
             "colorbar": {
              "outlinewidth": 0,
              "ticks": ""
             }
            },
            "type": "scatter3d"
           }
          ],
          "scattercarpet": [
           {
            "marker": {
             "colorbar": {
              "outlinewidth": 0,
              "ticks": ""
             }
            },
            "type": "scattercarpet"
           }
          ],
          "scattergeo": [
           {
            "marker": {
             "colorbar": {
              "outlinewidth": 0,
              "ticks": ""
             }
            },
            "type": "scattergeo"
           }
          ],
          "scattergl": [
           {
            "marker": {
             "colorbar": {
              "outlinewidth": 0,
              "ticks": ""
             }
            },
            "type": "scattergl"
           }
          ],
          "scattermapbox": [
           {
            "marker": {
             "colorbar": {
              "outlinewidth": 0,
              "ticks": ""
             }
            },
            "type": "scattermapbox"
           }
          ],
          "scatterpolar": [
           {
            "marker": {
             "colorbar": {
              "outlinewidth": 0,
              "ticks": ""
             }
            },
            "type": "scatterpolar"
           }
          ],
          "scatterpolargl": [
           {
            "marker": {
             "colorbar": {
              "outlinewidth": 0,
              "ticks": ""
             }
            },
            "type": "scatterpolargl"
           }
          ],
          "scatterternary": [
           {
            "marker": {
             "colorbar": {
              "outlinewidth": 0,
              "ticks": ""
             }
            },
            "type": "scatterternary"
           }
          ],
          "surface": [
           {
            "colorbar": {
             "outlinewidth": 0,
             "ticks": ""
            },
            "colorscale": [
             [
              0,
              "#0d0887"
             ],
             [
              0.1111111111111111,
              "#46039f"
             ],
             [
              0.2222222222222222,
              "#7201a8"
             ],
             [
              0.3333333333333333,
              "#9c179e"
             ],
             [
              0.4444444444444444,
              "#bd3786"
             ],
             [
              0.5555555555555556,
              "#d8576b"
             ],
             [
              0.6666666666666666,
              "#ed7953"
             ],
             [
              0.7777777777777778,
              "#fb9f3a"
             ],
             [
              0.8888888888888888,
              "#fdca26"
             ],
             [
              1,
              "#f0f921"
             ]
            ],
            "type": "surface"
           }
          ],
          "table": [
           {
            "cells": {
             "fill": {
              "color": "#EBF0F8"
             },
             "line": {
              "color": "white"
             }
            },
            "header": {
             "fill": {
              "color": "#C8D4E3"
             },
             "line": {
              "color": "white"
             }
            },
            "type": "table"
           }
          ]
         },
         "layout": {
          "annotationdefaults": {
           "arrowcolor": "#2a3f5f",
           "arrowhead": 0,
           "arrowwidth": 1
          },
          "autotypenumbers": "strict",
          "coloraxis": {
           "colorbar": {
            "outlinewidth": 0,
            "ticks": ""
           }
          },
          "colorscale": {
           "diverging": [
            [
             0,
             "#8e0152"
            ],
            [
             0.1,
             "#c51b7d"
            ],
            [
             0.2,
             "#de77ae"
            ],
            [
             0.3,
             "#f1b6da"
            ],
            [
             0.4,
             "#fde0ef"
            ],
            [
             0.5,
             "#f7f7f7"
            ],
            [
             0.6,
             "#e6f5d0"
            ],
            [
             0.7,
             "#b8e186"
            ],
            [
             0.8,
             "#7fbc41"
            ],
            [
             0.9,
             "#4d9221"
            ],
            [
             1,
             "#276419"
            ]
           ],
           "sequential": [
            [
             0,
             "#0d0887"
            ],
            [
             0.1111111111111111,
             "#46039f"
            ],
            [
             0.2222222222222222,
             "#7201a8"
            ],
            [
             0.3333333333333333,
             "#9c179e"
            ],
            [
             0.4444444444444444,
             "#bd3786"
            ],
            [
             0.5555555555555556,
             "#d8576b"
            ],
            [
             0.6666666666666666,
             "#ed7953"
            ],
            [
             0.7777777777777778,
             "#fb9f3a"
            ],
            [
             0.8888888888888888,
             "#fdca26"
            ],
            [
             1,
             "#f0f921"
            ]
           ],
           "sequentialminus": [
            [
             0,
             "#0d0887"
            ],
            [
             0.1111111111111111,
             "#46039f"
            ],
            [
             0.2222222222222222,
             "#7201a8"
            ],
            [
             0.3333333333333333,
             "#9c179e"
            ],
            [
             0.4444444444444444,
             "#bd3786"
            ],
            [
             0.5555555555555556,
             "#d8576b"
            ],
            [
             0.6666666666666666,
             "#ed7953"
            ],
            [
             0.7777777777777778,
             "#fb9f3a"
            ],
            [
             0.8888888888888888,
             "#fdca26"
            ],
            [
             1,
             "#f0f921"
            ]
           ]
          },
          "colorway": [
           "#636efa",
           "#EF553B",
           "#00cc96",
           "#ab63fa",
           "#FFA15A",
           "#19d3f3",
           "#FF6692",
           "#B6E880",
           "#FF97FF",
           "#FECB52"
          ],
          "font": {
           "color": "#2a3f5f"
          },
          "geo": {
           "bgcolor": "white",
           "lakecolor": "white",
           "landcolor": "#E5ECF6",
           "showlakes": true,
           "showland": true,
           "subunitcolor": "white"
          },
          "hoverlabel": {
           "align": "left"
          },
          "hovermode": "closest",
          "mapbox": {
           "style": "light"
          },
          "paper_bgcolor": "white",
          "plot_bgcolor": "#E5ECF6",
          "polar": {
           "angularaxis": {
            "gridcolor": "white",
            "linecolor": "white",
            "ticks": ""
           },
           "bgcolor": "#E5ECF6",
           "radialaxis": {
            "gridcolor": "white",
            "linecolor": "white",
            "ticks": ""
           }
          },
          "scene": {
           "xaxis": {
            "backgroundcolor": "#E5ECF6",
            "gridcolor": "white",
            "gridwidth": 2,
            "linecolor": "white",
            "showbackground": true,
            "ticks": "",
            "zerolinecolor": "white"
           },
           "yaxis": {
            "backgroundcolor": "#E5ECF6",
            "gridcolor": "white",
            "gridwidth": 2,
            "linecolor": "white",
            "showbackground": true,
            "ticks": "",
            "zerolinecolor": "white"
           },
           "zaxis": {
            "backgroundcolor": "#E5ECF6",
            "gridcolor": "white",
            "gridwidth": 2,
            "linecolor": "white",
            "showbackground": true,
            "ticks": "",
            "zerolinecolor": "white"
           }
          },
          "shapedefaults": {
           "line": {
            "color": "#2a3f5f"
           }
          },
          "ternary": {
           "aaxis": {
            "gridcolor": "white",
            "linecolor": "white",
            "ticks": ""
           },
           "baxis": {
            "gridcolor": "white",
            "linecolor": "white",
            "ticks": ""
           },
           "bgcolor": "#E5ECF6",
           "caxis": {
            "gridcolor": "white",
            "linecolor": "white",
            "ticks": ""
           }
          },
          "title": {
           "x": 0.05
          },
          "xaxis": {
           "automargin": true,
           "gridcolor": "white",
           "linecolor": "white",
           "ticks": "",
           "title": {
            "standoff": 15
           },
           "zerolinecolor": "white",
           "zerolinewidth": 2
          },
          "yaxis": {
           "automargin": true,
           "gridcolor": "white",
           "linecolor": "white",
           "ticks": "",
           "title": {
            "standoff": 15
           },
           "zerolinecolor": "white",
           "zerolinewidth": 2
          }
         }
        },
        "title": {
         "text": "Répartition de la production électrique dans la journée - 8.2"
        },
        "yaxis": {
         "range": [
          -4839.999999999998,
          44000
         ],
         "title": {
          "text": "MW"
         }
        },
        "yaxis2": {
         "anchor": "free",
         "overlaying": "y",
         "position": 1,
         "range": [
          1.348648148148148,
          2.1186000000000003
         ],
         "side": "right",
         "title": {
          "text": "€/MWh"
         }
        },
        "yaxis3": {
         "anchor": "free",
         "overlaying": "y",
         "position": 0.05,
         "range": [
          -4.5186077102243874e-15,
          8.931999999999999
         ],
         "side": "left",
         "title": {
          "text": "Réservoir (m)"
         }
        }
       }
      }
     },
     "metadata": {},
     "output_type": "display_data"
    }
   ],
   "source": [
    "df = df_results61(dict_N,dict_P,dict_Nstart,dict_Thermique,dict_H,dict_Hstart,dict_Hydro,dict_S,debit_S,consommation)\n",
    "fig = Results_viz52(df,dict_Thermique,dict_Hydro)\n",
    "A = \"8.2\"\n",
    "fig.update_layout(\n",
    "    title = f\"Répartition de la production électrique dans la journée - {A}\"\n",
    ")\n",
    "fig.show()\n",
    "fig.write_html(f\"HTML/Répartition de la production électrique dans la journée - {A}.html\")"
   ]
  },
  {
   "cell_type": "markdown",
   "metadata": {},
   "source": [
    "### 8.3 Rampe décroissante et d'arrêt\n",
    "\n",
    "$$\n",
    "\\forall t, \\forall X , \\forall k \\in \\{0,\\dots,N^{(X)}\\}, P_{t}^{(X,k)}-P_{t-1}^{(X,k)}\\geq - R^{(X)}_{descente}\n",
    "$$"
   ]
  },
  {
   "cell_type": "code",
   "execution_count": 40,
   "metadata": {},
   "outputs": [
    {
     "name": "stdout",
     "output_type": "stream",
     "text": [
      "Gurobi Optimizer version 9.5.2 build v9.5.2rc0 (win64)\n",
      "Thread count: 4 physical cores, 8 logical processors, using up to 8 threads\n",
      "Optimize a model with 3577 rows, 2232 columns and 12672 nonzeros\n",
      "Model fingerprint: 0x2136459e\n",
      "Variable types: 672 continuous, 1560 integer (1560 binary)\n",
      "Coefficient statistics:\n",
      "  Matrix range     [3e-04, 6e+04]\n",
      "  Objective range  [1e+00, 2e+03]\n",
      "  Bounds range     [1e+00, 1e+00]\n",
      "  RHS range        [1e+00, 4e+04]\n",
      "Presolve removed 216 rows and 48 columns\n",
      "Presolve time: 0.02s\n",
      "Presolved: 3361 rows, 2184 columns, 11736 nonzeros\n",
      "Variable types: 672 continuous, 1512 integer (1512 binary)\n",
      "\n",
      "Root relaxation: objective 9.843724e+05, 1675 iterations, 0.02 seconds (0.02 work units)\n",
      "\n",
      "    Nodes    |    Current Node    |     Objective Bounds      |     Work\n",
      " Expl Unexpl |  Obj  Depth IntInf | Incumbent    BestBd   Gap | It/Node Time\n",
      "\n",
      "     0     0 984372.381    0   95          - 984372.381      -     -    0s\n",
      "H    0     0                    1000915.0000 984372.381  1.65%     -    0s\n",
      "H    0     0                    997080.00000 984372.381  1.27%     -    0s\n",
      "H    0     0                    992030.00000 984372.381  0.77%     -    0s\n",
      "     0     0 985317.189    0  119 992030.000 985317.189  0.68%     -    0s\n",
      "     0     0 985434.247    0  112 992030.000 985434.247  0.66%     -    0s\n",
      "     0     0 986067.847    0  113 992030.000 986067.847  0.60%     -    0s\n",
      "     0     0 986084.176    0   93 992030.000 986084.176  0.60%     -    0s\n",
      "H    0     0                    991775.00000 986084.176  0.57%     -    0s\n",
      "H    0     0                    987940.00000 986084.176  0.19%     -    0s\n",
      "     0     0 986391.343    0   87 987940.000 986391.343  0.16%     -    0s\n",
      "     0     0 986460.588    0  111 987940.000 986460.588  0.15%     -    0s\n",
      "     0     0 986461.082    0  116 987940.000 986461.082  0.15%     -    0s\n",
      "     0     0 986475.794    0   92 987940.000 986475.794  0.15%     -    0s\n",
      "     0     0 986475.794    0   89 987940.000 986475.794  0.15%     -    0s\n",
      "     0     0 986475.794    0  114 987940.000 986475.794  0.15%     -    0s\n",
      "     0     0 986475.794    0  108 987940.000 986475.794  0.15%     -    0s\n",
      "     0     0 986475.794    0   82 987940.000 986475.794  0.15%     -    0s\n",
      "     0     0 986475.794    0   56 987940.000 986475.794  0.15%     -    0s\n",
      "     0     0 986475.794    0   91 987940.000 986475.794  0.15%     -    0s\n",
      "     0     0 986475.794    0  100 987940.000 986475.794  0.15%     -    0s\n",
      "     0     0 986475.794    0  100 987940.000 986475.794  0.15%     -    0s\n",
      "     0     0 986475.794    0  103 987940.000 986475.794  0.15%     -    0s\n",
      "     0     0 986476.242    0  106 987940.000 986476.242  0.15%     -    0s\n",
      "     0     0 986476.500    0  107 987940.000 986476.500  0.15%     -    0s\n",
      "     0     0 986481.363    0  128 987940.000 986481.363  0.15%     -    0s\n",
      "     0     0 986481.424    0  119 987940.000 986481.424  0.15%     -    0s\n",
      "     0     0 986485.037    0  119 987940.000 986485.037  0.15%     -    0s\n",
      "     0     0 986485.093    0  132 987940.000 986485.093  0.15%     -    0s\n",
      "     0     0 986557.974    0  122 987940.000 986557.974  0.14%     -    0s\n",
      "     0     0 986558.171    0  123 987940.000 986558.171  0.14%     -    0s\n",
      "     0     0 986558.507    0  106 987940.000 986558.507  0.14%     -    0s\n",
      "     0     0 986559.640    0   77 987940.000 986559.640  0.14%     -    0s\n",
      "     0     0 986559.750    0   77 987940.000 986559.750  0.14%     -    0s\n",
      "     0     0 986560.267    0  122 987940.000 986560.267  0.14%     -    0s\n",
      "     0     0 986560.610    0  116 987940.000 986560.610  0.14%     -    0s\n",
      "     0     0 986560.610    0   52 987940.000 986560.610  0.14%     -    0s\n",
      "H    0     0                    987115.00000 986560.610  0.06%     -    1s\n",
      "H    0     0                    987007.00000 986560.610  0.05%     -    1s\n",
      "     0     0 986560.610    0   78 987007.000 986560.610  0.05%     -    1s\n",
      "     0     0 986560.610    0  102 987007.000 986560.610  0.05%     -    1s\n",
      "     0     0 986560.610    0   93 987007.000 986560.610  0.05%     -    1s\n",
      "     0     0 986560.610    0   67 987007.000 986560.610  0.05%     -    1s\n",
      "     0     0 986560.610    0   73 987007.000 986560.610  0.05%     -    1s\n",
      "     0     0 986560.610    0   73 987007.000 986560.610  0.05%     -    1s\n",
      "     0     0 986560.610    0   83 987007.000 986560.610  0.05%     -    1s\n",
      "     0     0 986560.610    0   90 987007.000 986560.610  0.05%     -    1s\n",
      "     0     0 986560.610    0   45 987007.000 986560.610  0.05%     -    1s\n",
      "     0     0 986560.610    0   46 987007.000 986560.610  0.05%     -    1s\n",
      "     0     0 986560.610    0   81 987007.000 986560.610  0.05%     -    1s\n",
      "     0     0 986560.610    0   81 987007.000 986560.610  0.05%     -    1s\n",
      "     0     0 986566.765    0   58 987007.000 986566.765  0.04%     -    1s\n",
      "     0     0 986566.835    0   36 987007.000 986566.835  0.04%     -    1s\n",
      "     0     0 986586.036    0   60 987007.000 986586.036  0.04%     -    1s\n",
      "     0     0 986586.125    0   75 987007.000 986586.125  0.04%     -    1s\n",
      "     0     0 986586.185    0   96 987007.000 986586.185  0.04%     -    1s\n",
      "     0     0 986586.314    0  116 987007.000 986586.314  0.04%     -    1s\n",
      "     0     0 986586.314    0   24 987007.000 986586.314  0.04%     -    1s\n",
      "     0     2 986586.314    0   24 987007.000 986586.314  0.04%     -    1s\n",
      "H  220   206                    986908.00000 986602.636  0.03%  10.3    1s\n",
      "H  983   720                    986840.00000 986617.835  0.02%   8.1    2s\n",
      "H  993   710                    986835.00000 986617.835  0.02%   8.1    2s\n",
      "H 1584   762                    986820.00000 986651.708  0.02%  11.5    3s\n",
      "H 1589   725                    986819.00000 986651.708  0.02%  11.6    3s\n",
      "H 2140   773                    986802.00000 986662.283  0.01%  12.7    3s\n",
      "  4910  1574 986748.250   32   47 986802.000 986690.981  0.01%  15.2    5s\n",
      "\n",
      "Cutting planes:\n",
      "  Gomory: 5\n",
      "  Implied bound: 69\n",
      "  MIR: 174\n",
      "  Flow cover: 85\n",
      "  Relax-and-lift: 2\n",
      "\n",
      "Explored 6356 nodes (108272 simplex iterations) in 5.59 seconds (4.74 work units)\n",
      "Thread count was 8 (of 8 available processors)\n",
      "\n",
      "Solution count 10: 986802 986819 986820 ... 988440\n",
      "\n",
      "Optimal solution found (tolerance 1.00e-04)\n",
      "Best objective 9.868020000000e+05, best bound 9.867040408891e+05, gap 0.0099%\n"
     ]
    }
   ],
   "source": [
    "from utils import contraintes_rampes\n",
    "\n",
    "heures_maintenance = np.array([0,1,2,3,4,5,6,18,19,20,21,22,23])\n",
    "consommation = np.array([15,15,15,15,15,15,30,30,30,25,25,25,25,25,25,40,40,40,27,27,27,27,27,27])*1000\n",
    "heures = np.arange(24)\n",
    "\n",
    "model = gp.Model(\"8.3\")\n",
    "\n",
    "dict_N, dict_P, dict_Nstart = variables_decision_desagregation_thermique(model,dict_Thermique)\n",
    "dict_H, dict_Hstart = variables_decision_hydraulique_palier(model,dict_Hydro)\n",
    "dict_S = {t : model.addVar(lb=0,vtype=gp.GRB.CONTINUOUS,name=f\"pompage à l'instant {t}\") for t in range(24)}\n",
    "dict_N_s = {t : model.addVar(lb=0,vtype=gp.GRB.BINARY,name=f\"fonctionnement pompe à l'instant {t}\") for t in range(24)}\n",
    "debit_S = 1/3000 # débit de pompage par MWh ou par MW pendant une heure\n",
    "M = sum([dict_Thermique[X].N * dict_Thermique[X].Pmax for X in dict_Thermique]) + sum([dict_Hydro[Y].P[dict_Hydro[Y].palier_max()] for Y in dict_Hydro])\n",
    "\n",
    "contraintes_reservoir_palier(model,dict_H,dict_Hydro,dict_S,debit_S)\n",
    "contraintes_hydraulique_palier(model,dict_H,dict_Hydro,dict_Hstart)\n",
    "contraintes_hydraulique_pompage(model,dict_H,dict_Hydro,dict_N_s,dict_S,M)\n",
    "contraintes_thermique_desagregation(model,dict_P,dict_N,dict_Nstart,dict_Thermique)\n",
    "contraintes_equilibre_desagregation(model,dict_P,dict_Thermique,dict_H,dict_Hydro,dict_S,consommation)\n",
    "contraintes_reserve_desagregation(model,dict_N,dict_Thermique,dict_Hydro,consommation)\n",
    "contraintes_rampes(model,dict_P,dict_N,dict_Thermique)\n",
    "\n",
    "\n",
    "model.setObjective(\n",
    "    gp.quicksum([dict_N[X,k,t] * (dict_Thermique[X].Cbase - dict_Thermique[X].Pmin*dict_Thermique[X].Cmwh) for X in dict_Thermique for k in range(dict_Thermique[X].N) for t in range(24)]) + \n",
    "    gp.quicksum([dict_P[X,k,t] * dict_Thermique[X].Cmwh for X in dict_Thermique for k in range(dict_Thermique[X].N) for t in range(24)])+ \n",
    "    gp.quicksum([dict_Nstart[X,k,t]*dict_Thermique[X].Cstart for X in dict_Thermique for k in range(dict_Thermique[X].N) for t in range(24)])+\n",
    "    gp.quicksum([dict_H[Y,n,t] * dict_Hydro[Y].Cheure[n] for Y in dict_Hydro for t in range(24) for n in dict_Hydro[Y].Palier])+\n",
    "    gp.quicksum([dict_Hstart[Y,t] * dict_Hydro[Y].Cstart for Y in dict_Hydro for t in range(24)]),\n",
    "    gp.GRB.MINIMIZE\n",
    "    )\n",
    "\n",
    "model.optimize()"
   ]
  },
  {
   "cell_type": "code",
   "execution_count": 41,
   "metadata": {},
   "outputs": [
    {
     "data": {
      "application/vnd.plotly.v1+json": {
       "config": {
        "plotlyServerURL": "https://plot.ly"
       },
       "data": [
        {
         "name": "Thermique A",
         "stackgroup": "one",
         "type": "scatter",
         "x": [
          0,
          1,
          2,
          3,
          4,
          5,
          6,
          7,
          8,
          9,
          10,
          11,
          12,
          13,
          14,
          15,
          16,
          17,
          18,
          19,
          20,
          21,
          22,
          23
         ],
         "y": [
          10200,
          10200,
          10200,
          10200,
          10200,
          10200,
          12450,
          11449.999999999998,
          11449.999999999998,
          10200,
          10200,
          10200,
          10200,
          10200,
          10650,
          15450,
          15199.999999999998,
          15199.999999999998,
          10399.999999999995,
          10350,
          10400,
          10200,
          10400,
          11150
         ]
        },
        {
         "name": "Thermique B",
         "stackgroup": "one",
         "type": "scatter",
         "x": [
          0,
          1,
          2,
          3,
          4,
          5,
          6,
          7,
          8,
          9,
          10,
          11,
          12,
          13,
          14,
          15,
          16,
          17,
          18,
          19,
          20,
          21,
          22,
          23
         ],
         "y": [
          8750,
          8750,
          8750,
          8750,
          8750,
          8750,
          14750,
          15750,
          15750,
          15750,
          15750,
          15750,
          15750,
          15750,
          15750,
          17250,
          17500,
          17500,
          16990,
          14000,
          14000,
          14000,
          14000,
          13250
         ]
        },
        {
         "name": "Thermique C",
         "stackgroup": "one",
         "type": "scatter",
         "x": [
          0,
          1,
          2,
          3,
          4,
          5,
          6,
          7,
          8,
          9,
          10,
          11,
          12,
          13,
          14,
          15,
          16,
          17,
          18,
          19,
          20,
          21,
          22,
          23
         ],
         "y": [
          0,
          0,
          0,
          0,
          0,
          0,
          0,
          0,
          0,
          0,
          0,
          0,
          0,
          0,
          0,
          4500,
          4500,
          4500,
          0,
          0,
          0,
          0,
          0,
          0
         ]
        },
        {
         "name": "Hydraulique 9",
         "stackgroup": "one",
         "type": "scatter",
         "x": [
          0,
          1,
          2,
          3,
          4,
          5,
          6,
          7,
          8,
          9,
          10,
          11,
          12,
          13,
          14,
          15,
          16,
          17,
          18,
          19,
          20,
          21,
          22,
          23
         ],
         "y": [
          0,
          0,
          0,
          0,
          0,
          0,
          1100,
          1100,
          1100,
          0,
          0,
          0,
          0,
          0,
          0,
          1100,
          1100,
          1100,
          0,
          950,
          900,
          1100,
          900,
          900
         ]
        },
        {
         "name": "Hydraulique 14",
         "stackgroup": "one",
         "type": "scatter",
         "x": [
          0,
          1,
          2,
          3,
          4,
          5,
          6,
          7,
          8,
          9,
          10,
          11,
          12,
          13,
          14,
          15,
          16,
          17,
          18,
          19,
          20,
          21,
          22,
          23
         ],
         "y": [
          0,
          0,
          0,
          0,
          0,
          0,
          1700,
          1700,
          1700,
          0,
          0,
          0,
          0,
          0,
          0,
          1700,
          1700,
          1700,
          0,
          1700,
          1700,
          1700,
          1700,
          1700
         ]
        },
        {
         "name": "Pompage",
         "stackgroup": "two",
         "type": "scatter",
         "x": [
          0,
          1,
          2,
          3,
          4,
          5,
          6,
          7,
          8,
          9,
          10,
          11,
          12,
          13,
          14,
          15,
          16,
          17,
          18,
          19,
          20,
          21,
          22,
          23
         ],
         "y": [
          -3950,
          -3950,
          -3950,
          -3950,
          -3950,
          -3950,
          0,
          0,
          0,
          -950,
          -950,
          -950,
          -950,
          -950,
          -1400,
          0,
          0,
          0,
          -390.00000000000085,
          0,
          0,
          0,
          0,
          0
         ]
        },
        {
         "line": {
          "color": "red",
          "dash": "dash"
         },
         "name": "Production total",
         "type": "scatter",
         "x": [
          0,
          1,
          2,
          3,
          4,
          5,
          6,
          7,
          8,
          9,
          10,
          11,
          12,
          13,
          14,
          15,
          16,
          17,
          18,
          19,
          20,
          21,
          22,
          23
         ],
         "y": [
          15000,
          15000,
          15000,
          15000,
          15000,
          15000,
          30000,
          30000,
          30000,
          25000,
          25000,
          25000,
          25000,
          25000,
          25000,
          40000,
          40000,
          40000,
          26999.999999999996,
          27000,
          27000,
          27000,
          27000,
          27000
         ]
        },
        {
         "line": {
          "color": "black"
         },
         "name": "Coût MWh",
         "type": "scatter",
         "x": [
          0,
          1,
          2,
          3,
          4,
          5,
          6,
          7,
          8,
          9,
          10,
          11,
          12,
          13,
          14,
          15,
          16,
          17,
          18,
          19,
          20,
          21,
          22,
          23
         ],
         "y": [
          1.8833333333333333,
          1.8833333333333333,
          1.8833333333333333,
          1.8833333333333333,
          1.8833333333333333,
          1.8833333333333333,
          1.626,
          1.4693333333333334,
          1.4693333333333334,
          1.65,
          1.65,
          1.65,
          1.65,
          1.65,
          1.686,
          1.662625,
          1.59575,
          1.59575,
          1.6384074074074073,
          1.4298148148148149,
          1.4333333333333333,
          1.4196296296296296,
          1.4333333333333333,
          1.452777777777778
         ],
         "yaxis": "y2"
        },
        {
         "line": {
          "color": "grey"
         },
         "name": "Niveau réservoir",
         "type": "scatter",
         "x": [
          0,
          1,
          2,
          3,
          4,
          5,
          6,
          7,
          8,
          9,
          10,
          11,
          12,
          13,
          14,
          15,
          16,
          17,
          18,
          19,
          20,
          21,
          22,
          23
         ],
         "y": [
          1.3166666666666667,
          2.6333333333333333,
          3.95,
          5.266666666666667,
          6.583333333333333,
          7.8999999999999995,
          6.959999999999999,
          6.019999999999999,
          5.079999999999998,
          5.396666666666665,
          5.713333333333331,
          6.029999999999998,
          6.346666666666664,
          6.66333333333333,
          7.129999999999997,
          6.189999999999997,
          5.2499999999999964,
          4.309999999999996,
          4.439999999999996,
          3.549999999999996,
          2.6799999999999957,
          1.7399999999999958,
          0.8699999999999957,
          -4.440892098500626e-15
         ],
         "yaxis": "y3"
        }
       ],
       "layout": {
        "hovermode": "x",
        "template": {
         "data": {
          "bar": [
           {
            "error_x": {
             "color": "#2a3f5f"
            },
            "error_y": {
             "color": "#2a3f5f"
            },
            "marker": {
             "line": {
              "color": "#E5ECF6",
              "width": 0.5
             },
             "pattern": {
              "fillmode": "overlay",
              "size": 10,
              "solidity": 0.2
             }
            },
            "type": "bar"
           }
          ],
          "barpolar": [
           {
            "marker": {
             "line": {
              "color": "#E5ECF6",
              "width": 0.5
             },
             "pattern": {
              "fillmode": "overlay",
              "size": 10,
              "solidity": 0.2
             }
            },
            "type": "barpolar"
           }
          ],
          "carpet": [
           {
            "aaxis": {
             "endlinecolor": "#2a3f5f",
             "gridcolor": "white",
             "linecolor": "white",
             "minorgridcolor": "white",
             "startlinecolor": "#2a3f5f"
            },
            "baxis": {
             "endlinecolor": "#2a3f5f",
             "gridcolor": "white",
             "linecolor": "white",
             "minorgridcolor": "white",
             "startlinecolor": "#2a3f5f"
            },
            "type": "carpet"
           }
          ],
          "choropleth": [
           {
            "colorbar": {
             "outlinewidth": 0,
             "ticks": ""
            },
            "type": "choropleth"
           }
          ],
          "contour": [
           {
            "colorbar": {
             "outlinewidth": 0,
             "ticks": ""
            },
            "colorscale": [
             [
              0,
              "#0d0887"
             ],
             [
              0.1111111111111111,
              "#46039f"
             ],
             [
              0.2222222222222222,
              "#7201a8"
             ],
             [
              0.3333333333333333,
              "#9c179e"
             ],
             [
              0.4444444444444444,
              "#bd3786"
             ],
             [
              0.5555555555555556,
              "#d8576b"
             ],
             [
              0.6666666666666666,
              "#ed7953"
             ],
             [
              0.7777777777777778,
              "#fb9f3a"
             ],
             [
              0.8888888888888888,
              "#fdca26"
             ],
             [
              1,
              "#f0f921"
             ]
            ],
            "type": "contour"
           }
          ],
          "contourcarpet": [
           {
            "colorbar": {
             "outlinewidth": 0,
             "ticks": ""
            },
            "type": "contourcarpet"
           }
          ],
          "heatmap": [
           {
            "colorbar": {
             "outlinewidth": 0,
             "ticks": ""
            },
            "colorscale": [
             [
              0,
              "#0d0887"
             ],
             [
              0.1111111111111111,
              "#46039f"
             ],
             [
              0.2222222222222222,
              "#7201a8"
             ],
             [
              0.3333333333333333,
              "#9c179e"
             ],
             [
              0.4444444444444444,
              "#bd3786"
             ],
             [
              0.5555555555555556,
              "#d8576b"
             ],
             [
              0.6666666666666666,
              "#ed7953"
             ],
             [
              0.7777777777777778,
              "#fb9f3a"
             ],
             [
              0.8888888888888888,
              "#fdca26"
             ],
             [
              1,
              "#f0f921"
             ]
            ],
            "type": "heatmap"
           }
          ],
          "heatmapgl": [
           {
            "colorbar": {
             "outlinewidth": 0,
             "ticks": ""
            },
            "colorscale": [
             [
              0,
              "#0d0887"
             ],
             [
              0.1111111111111111,
              "#46039f"
             ],
             [
              0.2222222222222222,
              "#7201a8"
             ],
             [
              0.3333333333333333,
              "#9c179e"
             ],
             [
              0.4444444444444444,
              "#bd3786"
             ],
             [
              0.5555555555555556,
              "#d8576b"
             ],
             [
              0.6666666666666666,
              "#ed7953"
             ],
             [
              0.7777777777777778,
              "#fb9f3a"
             ],
             [
              0.8888888888888888,
              "#fdca26"
             ],
             [
              1,
              "#f0f921"
             ]
            ],
            "type": "heatmapgl"
           }
          ],
          "histogram": [
           {
            "marker": {
             "pattern": {
              "fillmode": "overlay",
              "size": 10,
              "solidity": 0.2
             }
            },
            "type": "histogram"
           }
          ],
          "histogram2d": [
           {
            "colorbar": {
             "outlinewidth": 0,
             "ticks": ""
            },
            "colorscale": [
             [
              0,
              "#0d0887"
             ],
             [
              0.1111111111111111,
              "#46039f"
             ],
             [
              0.2222222222222222,
              "#7201a8"
             ],
             [
              0.3333333333333333,
              "#9c179e"
             ],
             [
              0.4444444444444444,
              "#bd3786"
             ],
             [
              0.5555555555555556,
              "#d8576b"
             ],
             [
              0.6666666666666666,
              "#ed7953"
             ],
             [
              0.7777777777777778,
              "#fb9f3a"
             ],
             [
              0.8888888888888888,
              "#fdca26"
             ],
             [
              1,
              "#f0f921"
             ]
            ],
            "type": "histogram2d"
           }
          ],
          "histogram2dcontour": [
           {
            "colorbar": {
             "outlinewidth": 0,
             "ticks": ""
            },
            "colorscale": [
             [
              0,
              "#0d0887"
             ],
             [
              0.1111111111111111,
              "#46039f"
             ],
             [
              0.2222222222222222,
              "#7201a8"
             ],
             [
              0.3333333333333333,
              "#9c179e"
             ],
             [
              0.4444444444444444,
              "#bd3786"
             ],
             [
              0.5555555555555556,
              "#d8576b"
             ],
             [
              0.6666666666666666,
              "#ed7953"
             ],
             [
              0.7777777777777778,
              "#fb9f3a"
             ],
             [
              0.8888888888888888,
              "#fdca26"
             ],
             [
              1,
              "#f0f921"
             ]
            ],
            "type": "histogram2dcontour"
           }
          ],
          "mesh3d": [
           {
            "colorbar": {
             "outlinewidth": 0,
             "ticks": ""
            },
            "type": "mesh3d"
           }
          ],
          "parcoords": [
           {
            "line": {
             "colorbar": {
              "outlinewidth": 0,
              "ticks": ""
             }
            },
            "type": "parcoords"
           }
          ],
          "pie": [
           {
            "automargin": true,
            "type": "pie"
           }
          ],
          "scatter": [
           {
            "fillpattern": {
             "fillmode": "overlay",
             "size": 10,
             "solidity": 0.2
            },
            "type": "scatter"
           }
          ],
          "scatter3d": [
           {
            "line": {
             "colorbar": {
              "outlinewidth": 0,
              "ticks": ""
             }
            },
            "marker": {
             "colorbar": {
              "outlinewidth": 0,
              "ticks": ""
             }
            },
            "type": "scatter3d"
           }
          ],
          "scattercarpet": [
           {
            "marker": {
             "colorbar": {
              "outlinewidth": 0,
              "ticks": ""
             }
            },
            "type": "scattercarpet"
           }
          ],
          "scattergeo": [
           {
            "marker": {
             "colorbar": {
              "outlinewidth": 0,
              "ticks": ""
             }
            },
            "type": "scattergeo"
           }
          ],
          "scattergl": [
           {
            "marker": {
             "colorbar": {
              "outlinewidth": 0,
              "ticks": ""
             }
            },
            "type": "scattergl"
           }
          ],
          "scattermapbox": [
           {
            "marker": {
             "colorbar": {
              "outlinewidth": 0,
              "ticks": ""
             }
            },
            "type": "scattermapbox"
           }
          ],
          "scatterpolar": [
           {
            "marker": {
             "colorbar": {
              "outlinewidth": 0,
              "ticks": ""
             }
            },
            "type": "scatterpolar"
           }
          ],
          "scatterpolargl": [
           {
            "marker": {
             "colorbar": {
              "outlinewidth": 0,
              "ticks": ""
             }
            },
            "type": "scatterpolargl"
           }
          ],
          "scatterternary": [
           {
            "marker": {
             "colorbar": {
              "outlinewidth": 0,
              "ticks": ""
             }
            },
            "type": "scatterternary"
           }
          ],
          "surface": [
           {
            "colorbar": {
             "outlinewidth": 0,
             "ticks": ""
            },
            "colorscale": [
             [
              0,
              "#0d0887"
             ],
             [
              0.1111111111111111,
              "#46039f"
             ],
             [
              0.2222222222222222,
              "#7201a8"
             ],
             [
              0.3333333333333333,
              "#9c179e"
             ],
             [
              0.4444444444444444,
              "#bd3786"
             ],
             [
              0.5555555555555556,
              "#d8576b"
             ],
             [
              0.6666666666666666,
              "#ed7953"
             ],
             [
              0.7777777777777778,
              "#fb9f3a"
             ],
             [
              0.8888888888888888,
              "#fdca26"
             ],
             [
              1,
              "#f0f921"
             ]
            ],
            "type": "surface"
           }
          ],
          "table": [
           {
            "cells": {
             "fill": {
              "color": "#EBF0F8"
             },
             "line": {
              "color": "white"
             }
            },
            "header": {
             "fill": {
              "color": "#C8D4E3"
             },
             "line": {
              "color": "white"
             }
            },
            "type": "table"
           }
          ]
         },
         "layout": {
          "annotationdefaults": {
           "arrowcolor": "#2a3f5f",
           "arrowhead": 0,
           "arrowwidth": 1
          },
          "autotypenumbers": "strict",
          "coloraxis": {
           "colorbar": {
            "outlinewidth": 0,
            "ticks": ""
           }
          },
          "colorscale": {
           "diverging": [
            [
             0,
             "#8e0152"
            ],
            [
             0.1,
             "#c51b7d"
            ],
            [
             0.2,
             "#de77ae"
            ],
            [
             0.3,
             "#f1b6da"
            ],
            [
             0.4,
             "#fde0ef"
            ],
            [
             0.5,
             "#f7f7f7"
            ],
            [
             0.6,
             "#e6f5d0"
            ],
            [
             0.7,
             "#b8e186"
            ],
            [
             0.8,
             "#7fbc41"
            ],
            [
             0.9,
             "#4d9221"
            ],
            [
             1,
             "#276419"
            ]
           ],
           "sequential": [
            [
             0,
             "#0d0887"
            ],
            [
             0.1111111111111111,
             "#46039f"
            ],
            [
             0.2222222222222222,
             "#7201a8"
            ],
            [
             0.3333333333333333,
             "#9c179e"
            ],
            [
             0.4444444444444444,
             "#bd3786"
            ],
            [
             0.5555555555555556,
             "#d8576b"
            ],
            [
             0.6666666666666666,
             "#ed7953"
            ],
            [
             0.7777777777777778,
             "#fb9f3a"
            ],
            [
             0.8888888888888888,
             "#fdca26"
            ],
            [
             1,
             "#f0f921"
            ]
           ],
           "sequentialminus": [
            [
             0,
             "#0d0887"
            ],
            [
             0.1111111111111111,
             "#46039f"
            ],
            [
             0.2222222222222222,
             "#7201a8"
            ],
            [
             0.3333333333333333,
             "#9c179e"
            ],
            [
             0.4444444444444444,
             "#bd3786"
            ],
            [
             0.5555555555555556,
             "#d8576b"
            ],
            [
             0.6666666666666666,
             "#ed7953"
            ],
            [
             0.7777777777777778,
             "#fb9f3a"
            ],
            [
             0.8888888888888888,
             "#fdca26"
            ],
            [
             1,
             "#f0f921"
            ]
           ]
          },
          "colorway": [
           "#636efa",
           "#EF553B",
           "#00cc96",
           "#ab63fa",
           "#FFA15A",
           "#19d3f3",
           "#FF6692",
           "#B6E880",
           "#FF97FF",
           "#FECB52"
          ],
          "font": {
           "color": "#2a3f5f"
          },
          "geo": {
           "bgcolor": "white",
           "lakecolor": "white",
           "landcolor": "#E5ECF6",
           "showlakes": true,
           "showland": true,
           "subunitcolor": "white"
          },
          "hoverlabel": {
           "align": "left"
          },
          "hovermode": "closest",
          "mapbox": {
           "style": "light"
          },
          "paper_bgcolor": "white",
          "plot_bgcolor": "#E5ECF6",
          "polar": {
           "angularaxis": {
            "gridcolor": "white",
            "linecolor": "white",
            "ticks": ""
           },
           "bgcolor": "#E5ECF6",
           "radialaxis": {
            "gridcolor": "white",
            "linecolor": "white",
            "ticks": ""
           }
          },
          "scene": {
           "xaxis": {
            "backgroundcolor": "#E5ECF6",
            "gridcolor": "white",
            "gridwidth": 2,
            "linecolor": "white",
            "showbackground": true,
            "ticks": "",
            "zerolinecolor": "white"
           },
           "yaxis": {
            "backgroundcolor": "#E5ECF6",
            "gridcolor": "white",
            "gridwidth": 2,
            "linecolor": "white",
            "showbackground": true,
            "ticks": "",
            "zerolinecolor": "white"
           },
           "zaxis": {
            "backgroundcolor": "#E5ECF6",
            "gridcolor": "white",
            "gridwidth": 2,
            "linecolor": "white",
            "showbackground": true,
            "ticks": "",
            "zerolinecolor": "white"
           }
          },
          "shapedefaults": {
           "line": {
            "color": "#2a3f5f"
           }
          },
          "ternary": {
           "aaxis": {
            "gridcolor": "white",
            "linecolor": "white",
            "ticks": ""
           },
           "baxis": {
            "gridcolor": "white",
            "linecolor": "white",
            "ticks": ""
           },
           "bgcolor": "#E5ECF6",
           "caxis": {
            "gridcolor": "white",
            "linecolor": "white",
            "ticks": ""
           }
          },
          "title": {
           "x": 0.05
          },
          "xaxis": {
           "automargin": true,
           "gridcolor": "white",
           "linecolor": "white",
           "ticks": "",
           "title": {
            "standoff": 15
           },
           "zerolinecolor": "white",
           "zerolinewidth": 2
          },
          "yaxis": {
           "automargin": true,
           "gridcolor": "white",
           "linecolor": "white",
           "ticks": "",
           "title": {
            "standoff": 15
           },
           "zerolinecolor": "white",
           "zerolinewidth": 2
          }
         }
        },
        "title": {
         "text": "Répartition de la production électrique dans la journée - 8.3"
        },
        "yaxis": {
         "range": [
          -4345,
          44000
         ],
         "title": {
          "text": "MW"
         }
        },
        "yaxis2": {
         "anchor": "free",
         "overlaying": "y",
         "position": 1,
         "range": [
          1.348648148148148,
          2.0716666666666668
         ],
         "side": "right",
         "title": {
          "text": "€/MWh"
         }
        },
        "yaxis3": {
         "anchor": "free",
         "overlaying": "y",
         "position": 0.05,
         "range": [
          -4.884981308350689e-15,
          8.69
         ],
         "side": "left",
         "title": {
          "text": "Réservoir (m)"
         }
        }
       }
      }
     },
     "metadata": {},
     "output_type": "display_data"
    }
   ],
   "source": [
    "df = df_results61(dict_N,dict_P,dict_Nstart,dict_Thermique,dict_H,dict_Hstart,dict_Hydro,dict_S,debit_S,consommation)\n",
    "fig = Results_viz52(df,dict_Thermique,dict_Hydro)\n",
    "A = \"8.3\"\n",
    "fig.update_layout(\n",
    "    title = f\"Répartition de la production électrique dans la journée - {A}\"\n",
    ")\n",
    "fig.show()\n",
    "fig.write_html(f\"HTML/Répartition de la production électrique dans la journée - {A}.html\")"
   ]
  },
  {
   "cell_type": "markdown",
   "metadata": {},
   "source": [
    "## 9 Prévention de l'usure\n",
    "\n",
    "### 9.1 Durée minimale d'activitée\n",
    "\n",
    "$$\n",
    "\\forall t,\\forall t' \\in \\{1,\\dots,8\\}, \\forall k, N_{start,t}^{(X,k)}\\leq N_{t+t'}^{(X,k)}\n",
    "$$"
   ]
  },
  {
   "cell_type": "code",
   "execution_count": 54,
   "metadata": {},
   "outputs": [
    {
     "name": "stdout",
     "output_type": "stream",
     "text": [
      "Gurobi Optimizer version 9.5.2 build v9.5.2rc0 (win64)\n",
      "Thread count: 4 physical cores, 8 logical processors, using up to 8 threads\n",
      "Optimize a model with 7249 rows, 2232 columns and 20016 nonzeros\n",
      "Model fingerprint: 0xbf5b939b\n",
      "Variable types: 672 continuous, 1560 integer (1560 binary)\n",
      "Coefficient statistics:\n",
      "  Matrix range     [3e-04, 6e+04]\n",
      "  Objective range  [1e+00, 2e+03]\n",
      "  Bounds range     [1e+00, 1e+00]\n",
      "  RHS range        [1e+00, 4e+04]\n",
      "Presolve removed 675 rows and 48 columns\n",
      "Presolve time: 0.05s\n",
      "Presolved: 6574 rows, 2184 columns, 18602 nonzeros\n",
      "Variable types: 672 continuous, 1512 integer (1512 binary)\n",
      "Found heuristic solution: objective 1125610.0000\n",
      "\n",
      "Root relaxation: objective 9.851788e+05, 1750 iterations, 0.04 seconds (0.04 work units)\n",
      "\n",
      "    Nodes    |    Current Node    |     Objective Bounds      |     Work\n",
      " Expl Unexpl |  Obj  Depth IntInf | Incumbent    BestBd   Gap | It/Node Time\n",
      "\n",
      "     0     0 985178.829    0  105 1125610.00 985178.829  12.5%     -    0s\n",
      "H    0     0                    995840.00000 985178.829  1.07%     -    0s\n",
      "H    0     0                    994720.00000 985178.829  0.96%     -    0s\n",
      "H    0     0                    993240.00000 985892.711  0.74%     -    0s\n",
      "     0     0 985892.711    0  121 993240.000 985892.711  0.74%     -    0s\n",
      "     0     0 986109.128    0  120 993240.000 986109.128  0.72%     -    0s\n",
      "     0     0 987571.608    0  112 993240.000 987571.608  0.57%     -    0s\n",
      "     0     0 987730.368    0  105 993240.000 987730.368  0.55%     -    0s\n",
      "     0     0 988351.766    0  109 993240.000 988351.766  0.49%     -    0s\n",
      "H    0     0                    990757.00000 988351.766  0.24%     -    0s\n",
      "     0     0 988359.490    0   80 990757.000 988359.490  0.24%     -    0s\n",
      "     0     0 988364.412    0   80 990757.000 988364.412  0.24%     -    0s\n",
      "H    0     0                    990055.00000 988372.133  0.17%     -    0s\n",
      "     0     0 988372.133    0   81 990055.000 988372.133  0.17%     -    0s\n",
      "     0     0 988378.588    0   73 990055.000 988378.588  0.17%     -    0s\n",
      "     0     0 988430.157    0   63 990055.000 988430.157  0.16%     -    0s\n",
      "H    0     0                    989737.00000 988430.157  0.13%     -    0s\n",
      "     0     0 988432.681    0   67 989737.000 988432.681  0.13%     -    0s\n",
      "     0     0 988433.493    0   68 989737.000 988433.493  0.13%     -    0s\n",
      "     0     0 988433.493    0   77 989737.000 988433.493  0.13%     -    0s\n",
      "     0     0 988433.493    0  103 989737.000 988433.493  0.13%     -    0s\n",
      "     0     0 988433.493    0  148 989737.000 988433.493  0.13%     -    1s\n",
      "     0     0 988433.493    0   97 989737.000 988433.493  0.13%     -    1s\n",
      "     0     0 988433.493    0   65 989737.000 988433.493  0.13%     -    1s\n",
      "     0     0 988433.493    0   63 989737.000 988433.493  0.13%     -    1s\n",
      "H    0     0                    989060.00000 988433.493  0.06%     -    1s\n",
      "     0     0 988433.493    0   74 989060.000 988433.493  0.06%     -    1s\n",
      "     0     0 988439.227    0   68 989060.000 988439.227  0.06%     -    1s\n",
      "     0     0 988439.227    0   74 989060.000 988439.227  0.06%     -    1s\n",
      "     0     0 988444.895    0   78 989060.000 988444.895  0.06%     -    1s\n",
      "     0     0 988444.895    0   78 989060.000 988444.895  0.06%     -    1s\n",
      "H    0     0                    988845.00000 988444.895  0.04%     -    1s\n",
      "     0     0 988457.500    0   28 988845.000 988457.500  0.04%     -    1s\n",
      "     0     0 988457.500    0   95 988845.000 988457.500  0.04%     -    1s\n",
      "     0     0 988457.500    0  119 988845.000 988457.500  0.04%     -    1s\n",
      "     0     0 988457.500    0   57 988845.000 988457.500  0.04%     -    1s\n",
      "     0     0 988457.500    0   63 988845.000 988457.500  0.04%     -    1s\n",
      "     0     0 988457.500    0   48 988845.000 988457.500  0.04%     -    1s\n",
      "     0     0 988457.500    0   74 988845.000 988457.500  0.04%     -    1s\n",
      "     0     0 988457.500    0   27 988845.000 988457.500  0.04%     -    1s\n",
      "     0     0 988457.500    0   33 988845.000 988457.500  0.04%     -    1s\n",
      "     0     0 988457.500    0   39 988845.000 988457.500  0.04%     -    1s\n",
      "H    0     0                    988795.00000 988457.500  0.03%     -    1s\n",
      "     0     0 988457.500    0   21 988795.000 988457.500  0.03%     -    1s\n",
      "     0     0 988457.500    0   21 988795.000 988457.500  0.03%     -    1s\n",
      "     0     0 988457.500    0   21 988795.000 988457.500  0.03%     -    1s\n",
      "     0     0 988457.500    0   99 988795.000 988457.500  0.03%     -    1s\n",
      "     0     0 988457.500    0   95 988795.000 988457.500  0.03%     -    1s\n",
      "     0     0 988457.500    0   57 988795.000 988457.500  0.03%     -    1s\n",
      "     0     0 988457.500    0   52 988795.000 988457.500  0.03%     -    1s\n",
      "     0     0 988457.500    0   60 988795.000 988457.500  0.03%     -    1s\n",
      "     0     0 988457.500    0   30 988795.000 988457.500  0.03%     -    1s\n",
      "     0     0 988457.500    0   20 988795.000 988457.500  0.03%     -    1s\n",
      "     0     0 988457.500    0   42 988795.000 988457.500  0.03%     -    1s\n",
      "     0     0 988457.523    0   62 988795.000 988457.523  0.03%     -    1s\n",
      "     0     0 988460.118    0   42 988795.000 988460.118  0.03%     -    1s\n",
      "     0     0 988460.118    0   30 988795.000 988460.118  0.03%     -    2s\n",
      "     0     2 988460.118    0   30 988795.000 988460.118  0.03%     -    2s\n",
      "H   63    86                    988794.00000 988486.954  0.03%   6.1    2s\n",
      "*  165   155              37    988650.00000 988486.954  0.02%   8.0    2s\n",
      "\n",
      "Cutting planes:\n",
      "  Gomory: 2\n",
      "  Implied bound: 53\n",
      "  MIR: 54\n",
      "  Flow cover: 23\n",
      "  Zero half: 2\n",
      "  RLT: 10\n",
      "  Relax-and-lift: 2\n",
      "\n",
      "Explored 2550 nodes (27607 simplex iterations) in 3.46 seconds (2.15 work units)\n",
      "Thread count was 8 (of 8 available processors)\n",
      "\n",
      "Solution count 10: 988650 988794 988795 ... 994720\n",
      "\n",
      "Optimal solution found (tolerance 1.00e-04)\n",
      "Best objective 9.886500000000e+05, best bound 9.885712339490e+05, gap 0.0080%\n"
     ]
    }
   ],
   "source": [
    "from utils import contraintes_rampes\n",
    "\n",
    "heures_maintenance = np.array([0,1,2,3,4,5,6,18,19,20,21,22,23])\n",
    "consommation = np.array([15,15,15,15,15,15,30,30,30,25,25,25,25,25,25,40,40,40,27,27,27,27,27,27])*1000\n",
    "heures = np.array([k for t in range(2) for k in range(24)])\n",
    "delai_fonctionnement = 8\n",
    "\n",
    "model = gp.Model(\"8.3\")\n",
    "\n",
    "dict_N, dict_P, dict_Nstart = variables_decision_desagregation_thermique(model,dict_Thermique)\n",
    "dict_H, dict_Hstart = variables_decision_hydraulique_palier(model,dict_Hydro)\n",
    "dict_S = {t : model.addVar(lb=0,vtype=gp.GRB.CONTINUOUS,name=f\"pompage à l'instant {t}\") for t in range(24)}\n",
    "dict_N_s = {t : model.addVar(lb=0,vtype=gp.GRB.BINARY,name=f\"fonctionnement pompe à l'instant {t}\") for t in range(24)}\n",
    "debit_S = 1/3000 # débit de pompage par MWh ou par MW pendant une heure\n",
    "M = sum([dict_Thermique[X].N * dict_Thermique[X].Pmax for X in dict_Thermique]) + sum([dict_Hydro[Y].P[dict_Hydro[Y].palier_max()] for Y in dict_Hydro])\n",
    "\n",
    "contraintes_reservoir_palier(model,dict_H,dict_Hydro,dict_S,debit_S)\n",
    "contraintes_hydraulique_palier(model,dict_H,dict_Hydro,dict_Hstart)\n",
    "contraintes_hydraulique_pompage(model,dict_H,dict_Hydro,dict_N_s,dict_S,M)\n",
    "contraintes_thermique_desagregation(model,dict_P,dict_N,dict_Nstart,dict_Thermique)\n",
    "contraintes_equilibre_desagregation(model,dict_P,dict_Thermique,dict_H,dict_Hydro,dict_S,consommation)\n",
    "contraintes_reserve_desagregation(model,dict_N,dict_Thermique,dict_Hydro,consommation)\n",
    "contraintes_rampes(model,dict_P,dict_N,dict_Thermique)\n",
    "for t in range(t):\n",
    "    for tprime in range(delai_fonctionnement):\n",
    "        for X in dict_Thermique:\n",
    "            for k in range(dict_Thermique[X].N):\n",
    "                model.addConstr(dict_Nstart[X,k,t]<=dict_N[X,k,heures[t+tprime]])\n",
    "\n",
    "\n",
    "model.setObjective(\n",
    "    gp.quicksum([dict_N[X,k,t] * (dict_Thermique[X].Cbase - dict_Thermique[X].Pmin*dict_Thermique[X].Cmwh) for X in dict_Thermique for k in range(dict_Thermique[X].N) for t in range(24)]) + \n",
    "    gp.quicksum([dict_P[X,k,t] * dict_Thermique[X].Cmwh for X in dict_Thermique for k in range(dict_Thermique[X].N) for t in range(24)])+ \n",
    "    gp.quicksum([dict_Nstart[X,k,t]*dict_Thermique[X].Cstart for X in dict_Thermique for k in range(dict_Thermique[X].N) for t in range(24)])+\n",
    "    gp.quicksum([dict_H[Y,n,t] * dict_Hydro[Y].Cheure[n] for Y in dict_Hydro for t in range(24) for n in dict_Hydro[Y].Palier])+\n",
    "    gp.quicksum([dict_Hstart[Y,t] * dict_Hydro[Y].Cstart for Y in dict_Hydro for t in range(24)]),\n",
    "    gp.GRB.MINIMIZE\n",
    "    )\n",
    "\n",
    "model.optimize()"
   ]
  },
  {
   "cell_type": "code",
   "execution_count": 55,
   "metadata": {},
   "outputs": [
    {
     "data": {
      "application/vnd.plotly.v1+json": {
       "config": {
        "plotlyServerURL": "https://plot.ly"
       },
       "data": [
        {
         "name": "Thermique A",
         "stackgroup": "one",
         "type": "scatter",
         "x": [
          0,
          1,
          2,
          3,
          4,
          5,
          6,
          7,
          8,
          9,
          10,
          11,
          12,
          13,
          14,
          15,
          16,
          17,
          18,
          19,
          20,
          21,
          22,
          23
         ],
         "y": [
          10200,
          10200,
          10200,
          10200,
          10200,
          10200,
          12899.99999999998,
          11449.999999999995,
          11649.999999999993,
          10200,
          10200,
          10200,
          10200,
          10200,
          13649.999999999998,
          18449.999999999996,
          18400.000000000004,
          18700,
          13900.000000000002,
          10200,
          10200.000000000002,
          10200.000000000007,
          10200.000000000011,
          11200.000000000002
         ]
        },
        {
         "name": "Thermique B",
         "stackgroup": "one",
         "type": "scatter",
         "x": [
          0,
          1,
          2,
          3,
          4,
          5,
          6,
          7,
          8,
          9,
          10,
          11,
          12,
          13,
          14,
          15,
          16,
          17,
          18,
          19,
          20,
          21,
          22,
          23
         ],
         "y": [
          7000,
          7000,
          7000,
          7000,
          7000,
          7000,
          14500.000000000002,
          15750.000000000002,
          15750.000000000002,
          15750.000000000002,
          15750.000000000002,
          15750.000000000002,
          15750.000000000002,
          15750.000000000002,
          15750.000000000002,
          17250.000000000004,
          17500,
          17000,
          14000,
          13900.000000000002,
          13900,
          13899.999999999993,
          13899.999999999989,
          13000
         ]
        },
        {
         "name": "Thermique C",
         "stackgroup": "one",
         "type": "scatter",
         "x": [
          0,
          1,
          2,
          3,
          4,
          5,
          6,
          7,
          8,
          9,
          10,
          11,
          12,
          13,
          14,
          15,
          16,
          17,
          18,
          19,
          20,
          21,
          22,
          23
         ],
         "y": [
          0,
          0,
          0,
          0,
          0,
          0,
          0,
          0,
          0,
          0,
          0,
          0,
          0,
          0,
          0,
          1500,
          1500,
          1500,
          1500,
          1500,
          1500,
          1500,
          1500,
          0
         ]
        },
        {
         "name": "Hydraulique 9",
         "stackgroup": "one",
         "type": "scatter",
         "x": [
          0,
          1,
          2,
          3,
          4,
          5,
          6,
          7,
          8,
          9,
          10,
          11,
          12,
          13,
          14,
          15,
          16,
          17,
          18,
          19,
          20,
          21,
          22,
          23
         ],
         "y": [
          0,
          0,
          0,
          0,
          0,
          0,
          900,
          1100,
          900,
          0,
          0,
          0,
          0,
          0,
          0,
          1100,
          900,
          1100,
          0,
          0,
          0,
          0,
          0,
          1100
         ]
        },
        {
         "name": "Hydraulique 14",
         "stackgroup": "one",
         "type": "scatter",
         "x": [
          0,
          1,
          2,
          3,
          4,
          5,
          6,
          7,
          8,
          9,
          10,
          11,
          12,
          13,
          14,
          15,
          16,
          17,
          18,
          19,
          20,
          21,
          22,
          23
         ],
         "y": [
          0,
          0,
          0,
          0,
          0,
          0,
          1700,
          1700,
          1700,
          0,
          0,
          0,
          0,
          0,
          0,
          1700,
          1700,
          1700,
          0,
          1400,
          1400,
          1400,
          1400,
          1700
         ]
        },
        {
         "name": "Pompage",
         "stackgroup": "two",
         "type": "scatter",
         "x": [
          0,
          1,
          2,
          3,
          4,
          5,
          6,
          7,
          8,
          9,
          10,
          11,
          12,
          13,
          14,
          15,
          16,
          17,
          18,
          19,
          20,
          21,
          22,
          23
         ],
         "y": [
          -2200,
          -2200,
          -2200,
          -2200,
          -2200,
          -2200,
          0,
          0,
          0,
          -950.000000000003,
          -950.000000000003,
          -950.000000000003,
          -950.000000000003,
          -950.000000000002,
          -4400,
          0,
          0,
          0,
          -2400,
          0,
          0,
          0,
          0,
          0
         ]
        },
        {
         "line": {
          "color": "red",
          "dash": "dash"
         },
         "name": "Production total",
         "type": "scatter",
         "x": [
          0,
          1,
          2,
          3,
          4,
          5,
          6,
          7,
          8,
          9,
          10,
          11,
          12,
          13,
          14,
          15,
          16,
          17,
          18,
          19,
          20,
          21,
          22,
          23
         ],
         "y": [
          15000,
          15000,
          15000,
          15000,
          15000,
          15000,
          29999.99999999998,
          29999.999999999996,
          29999.999999999996,
          25000,
          25000,
          25000,
          25000,
          25000,
          24999.999999999996,
          40000,
          40000,
          40000,
          27000,
          27000,
          27000,
          27000,
          27000,
          27000
         ]
        },
        {
         "line": {
          "color": "black"
         },
         "name": "Coût MWh",
         "type": "scatter",
         "x": [
          0,
          1,
          2,
          3,
          4,
          5,
          6,
          7,
          8,
          9,
          10,
          11,
          12,
          13,
          14,
          15,
          16,
          17,
          18,
          19,
          20,
          21,
          22,
          23
         ],
         "y": [
          1.6666666666666667,
          1.6666666666666667,
          1.6666666666666667,
          1.6666666666666667,
          1.6666666666666667,
          1.6666666666666667,
          1.6774999999999998,
          1.4693333333333336,
          1.481666666666667,
          1.6500000000000004,
          1.6500000000000004,
          1.6500000000000004,
          1.6500000000000004,
          1.6500000000000004,
          1.9260000000000004,
          1.637625,
          1.6050000000000004,
          1.6045,
          1.7925925925925925,
          1.5192592592592593,
          1.5192592592592593,
          1.5192592592592595,
          1.5192592592592595,
          1.4455555555555555
         ],
         "yaxis": "y2"
        },
        {
         "line": {
          "color": "grey"
         },
         "name": "Niveau réservoir",
         "type": "scatter",
         "x": [
          0,
          1,
          2,
          3,
          4,
          5,
          6,
          7,
          8,
          9,
          10,
          11,
          12,
          13,
          14,
          15,
          16,
          17,
          18,
          19,
          20,
          21,
          22,
          23
         ],
         "y": [
          0.7333333333333333,
          1.4666666666666666,
          2.1999999999999997,
          2.933333333333333,
          3.6666666666666665,
          4.3999999999999995,
          3.5299999999999994,
          2.5899999999999994,
          1.7199999999999993,
          2.036666666666667,
          2.353333333333335,
          2.6700000000000026,
          2.9866666666666704,
          3.3033333333333377,
          4.770000000000004,
          3.830000000000004,
          2.960000000000004,
          2.020000000000004,
          2.820000000000004,
          2.350000000000004,
          1.8800000000000041,
          1.4100000000000041,
          0.9400000000000042,
          4.107825191113079e-15
         ],
         "yaxis": "y3"
        }
       ],
       "layout": {
        "hovermode": "x",
        "template": {
         "data": {
          "bar": [
           {
            "error_x": {
             "color": "#2a3f5f"
            },
            "error_y": {
             "color": "#2a3f5f"
            },
            "marker": {
             "line": {
              "color": "#E5ECF6",
              "width": 0.5
             },
             "pattern": {
              "fillmode": "overlay",
              "size": 10,
              "solidity": 0.2
             }
            },
            "type": "bar"
           }
          ],
          "barpolar": [
           {
            "marker": {
             "line": {
              "color": "#E5ECF6",
              "width": 0.5
             },
             "pattern": {
              "fillmode": "overlay",
              "size": 10,
              "solidity": 0.2
             }
            },
            "type": "barpolar"
           }
          ],
          "carpet": [
           {
            "aaxis": {
             "endlinecolor": "#2a3f5f",
             "gridcolor": "white",
             "linecolor": "white",
             "minorgridcolor": "white",
             "startlinecolor": "#2a3f5f"
            },
            "baxis": {
             "endlinecolor": "#2a3f5f",
             "gridcolor": "white",
             "linecolor": "white",
             "minorgridcolor": "white",
             "startlinecolor": "#2a3f5f"
            },
            "type": "carpet"
           }
          ],
          "choropleth": [
           {
            "colorbar": {
             "outlinewidth": 0,
             "ticks": ""
            },
            "type": "choropleth"
           }
          ],
          "contour": [
           {
            "colorbar": {
             "outlinewidth": 0,
             "ticks": ""
            },
            "colorscale": [
             [
              0,
              "#0d0887"
             ],
             [
              0.1111111111111111,
              "#46039f"
             ],
             [
              0.2222222222222222,
              "#7201a8"
             ],
             [
              0.3333333333333333,
              "#9c179e"
             ],
             [
              0.4444444444444444,
              "#bd3786"
             ],
             [
              0.5555555555555556,
              "#d8576b"
             ],
             [
              0.6666666666666666,
              "#ed7953"
             ],
             [
              0.7777777777777778,
              "#fb9f3a"
             ],
             [
              0.8888888888888888,
              "#fdca26"
             ],
             [
              1,
              "#f0f921"
             ]
            ],
            "type": "contour"
           }
          ],
          "contourcarpet": [
           {
            "colorbar": {
             "outlinewidth": 0,
             "ticks": ""
            },
            "type": "contourcarpet"
           }
          ],
          "heatmap": [
           {
            "colorbar": {
             "outlinewidth": 0,
             "ticks": ""
            },
            "colorscale": [
             [
              0,
              "#0d0887"
             ],
             [
              0.1111111111111111,
              "#46039f"
             ],
             [
              0.2222222222222222,
              "#7201a8"
             ],
             [
              0.3333333333333333,
              "#9c179e"
             ],
             [
              0.4444444444444444,
              "#bd3786"
             ],
             [
              0.5555555555555556,
              "#d8576b"
             ],
             [
              0.6666666666666666,
              "#ed7953"
             ],
             [
              0.7777777777777778,
              "#fb9f3a"
             ],
             [
              0.8888888888888888,
              "#fdca26"
             ],
             [
              1,
              "#f0f921"
             ]
            ],
            "type": "heatmap"
           }
          ],
          "heatmapgl": [
           {
            "colorbar": {
             "outlinewidth": 0,
             "ticks": ""
            },
            "colorscale": [
             [
              0,
              "#0d0887"
             ],
             [
              0.1111111111111111,
              "#46039f"
             ],
             [
              0.2222222222222222,
              "#7201a8"
             ],
             [
              0.3333333333333333,
              "#9c179e"
             ],
             [
              0.4444444444444444,
              "#bd3786"
             ],
             [
              0.5555555555555556,
              "#d8576b"
             ],
             [
              0.6666666666666666,
              "#ed7953"
             ],
             [
              0.7777777777777778,
              "#fb9f3a"
             ],
             [
              0.8888888888888888,
              "#fdca26"
             ],
             [
              1,
              "#f0f921"
             ]
            ],
            "type": "heatmapgl"
           }
          ],
          "histogram": [
           {
            "marker": {
             "pattern": {
              "fillmode": "overlay",
              "size": 10,
              "solidity": 0.2
             }
            },
            "type": "histogram"
           }
          ],
          "histogram2d": [
           {
            "colorbar": {
             "outlinewidth": 0,
             "ticks": ""
            },
            "colorscale": [
             [
              0,
              "#0d0887"
             ],
             [
              0.1111111111111111,
              "#46039f"
             ],
             [
              0.2222222222222222,
              "#7201a8"
             ],
             [
              0.3333333333333333,
              "#9c179e"
             ],
             [
              0.4444444444444444,
              "#bd3786"
             ],
             [
              0.5555555555555556,
              "#d8576b"
             ],
             [
              0.6666666666666666,
              "#ed7953"
             ],
             [
              0.7777777777777778,
              "#fb9f3a"
             ],
             [
              0.8888888888888888,
              "#fdca26"
             ],
             [
              1,
              "#f0f921"
             ]
            ],
            "type": "histogram2d"
           }
          ],
          "histogram2dcontour": [
           {
            "colorbar": {
             "outlinewidth": 0,
             "ticks": ""
            },
            "colorscale": [
             [
              0,
              "#0d0887"
             ],
             [
              0.1111111111111111,
              "#46039f"
             ],
             [
              0.2222222222222222,
              "#7201a8"
             ],
             [
              0.3333333333333333,
              "#9c179e"
             ],
             [
              0.4444444444444444,
              "#bd3786"
             ],
             [
              0.5555555555555556,
              "#d8576b"
             ],
             [
              0.6666666666666666,
              "#ed7953"
             ],
             [
              0.7777777777777778,
              "#fb9f3a"
             ],
             [
              0.8888888888888888,
              "#fdca26"
             ],
             [
              1,
              "#f0f921"
             ]
            ],
            "type": "histogram2dcontour"
           }
          ],
          "mesh3d": [
           {
            "colorbar": {
             "outlinewidth": 0,
             "ticks": ""
            },
            "type": "mesh3d"
           }
          ],
          "parcoords": [
           {
            "line": {
             "colorbar": {
              "outlinewidth": 0,
              "ticks": ""
             }
            },
            "type": "parcoords"
           }
          ],
          "pie": [
           {
            "automargin": true,
            "type": "pie"
           }
          ],
          "scatter": [
           {
            "fillpattern": {
             "fillmode": "overlay",
             "size": 10,
             "solidity": 0.2
            },
            "type": "scatter"
           }
          ],
          "scatter3d": [
           {
            "line": {
             "colorbar": {
              "outlinewidth": 0,
              "ticks": ""
             }
            },
            "marker": {
             "colorbar": {
              "outlinewidth": 0,
              "ticks": ""
             }
            },
            "type": "scatter3d"
           }
          ],
          "scattercarpet": [
           {
            "marker": {
             "colorbar": {
              "outlinewidth": 0,
              "ticks": ""
             }
            },
            "type": "scattercarpet"
           }
          ],
          "scattergeo": [
           {
            "marker": {
             "colorbar": {
              "outlinewidth": 0,
              "ticks": ""
             }
            },
            "type": "scattergeo"
           }
          ],
          "scattergl": [
           {
            "marker": {
             "colorbar": {
              "outlinewidth": 0,
              "ticks": ""
             }
            },
            "type": "scattergl"
           }
          ],
          "scattermapbox": [
           {
            "marker": {
             "colorbar": {
              "outlinewidth": 0,
              "ticks": ""
             }
            },
            "type": "scattermapbox"
           }
          ],
          "scatterpolar": [
           {
            "marker": {
             "colorbar": {
              "outlinewidth": 0,
              "ticks": ""
             }
            },
            "type": "scatterpolar"
           }
          ],
          "scatterpolargl": [
           {
            "marker": {
             "colorbar": {
              "outlinewidth": 0,
              "ticks": ""
             }
            },
            "type": "scatterpolargl"
           }
          ],
          "scatterternary": [
           {
            "marker": {
             "colorbar": {
              "outlinewidth": 0,
              "ticks": ""
             }
            },
            "type": "scatterternary"
           }
          ],
          "surface": [
           {
            "colorbar": {
             "outlinewidth": 0,
             "ticks": ""
            },
            "colorscale": [
             [
              0,
              "#0d0887"
             ],
             [
              0.1111111111111111,
              "#46039f"
             ],
             [
              0.2222222222222222,
              "#7201a8"
             ],
             [
              0.3333333333333333,
              "#9c179e"
             ],
             [
              0.4444444444444444,
              "#bd3786"
             ],
             [
              0.5555555555555556,
              "#d8576b"
             ],
             [
              0.6666666666666666,
              "#ed7953"
             ],
             [
              0.7777777777777778,
              "#fb9f3a"
             ],
             [
              0.8888888888888888,
              "#fdca26"
             ],
             [
              1,
              "#f0f921"
             ]
            ],
            "type": "surface"
           }
          ],
          "table": [
           {
            "cells": {
             "fill": {
              "color": "#EBF0F8"
             },
             "line": {
              "color": "white"
             }
            },
            "header": {
             "fill": {
              "color": "#C8D4E3"
             },
             "line": {
              "color": "white"
             }
            },
            "type": "table"
           }
          ]
         },
         "layout": {
          "annotationdefaults": {
           "arrowcolor": "#2a3f5f",
           "arrowhead": 0,
           "arrowwidth": 1
          },
          "autotypenumbers": "strict",
          "coloraxis": {
           "colorbar": {
            "outlinewidth": 0,
            "ticks": ""
           }
          },
          "colorscale": {
           "diverging": [
            [
             0,
             "#8e0152"
            ],
            [
             0.1,
             "#c51b7d"
            ],
            [
             0.2,
             "#de77ae"
            ],
            [
             0.3,
             "#f1b6da"
            ],
            [
             0.4,
             "#fde0ef"
            ],
            [
             0.5,
             "#f7f7f7"
            ],
            [
             0.6,
             "#e6f5d0"
            ],
            [
             0.7,
             "#b8e186"
            ],
            [
             0.8,
             "#7fbc41"
            ],
            [
             0.9,
             "#4d9221"
            ],
            [
             1,
             "#276419"
            ]
           ],
           "sequential": [
            [
             0,
             "#0d0887"
            ],
            [
             0.1111111111111111,
             "#46039f"
            ],
            [
             0.2222222222222222,
             "#7201a8"
            ],
            [
             0.3333333333333333,
             "#9c179e"
            ],
            [
             0.4444444444444444,
             "#bd3786"
            ],
            [
             0.5555555555555556,
             "#d8576b"
            ],
            [
             0.6666666666666666,
             "#ed7953"
            ],
            [
             0.7777777777777778,
             "#fb9f3a"
            ],
            [
             0.8888888888888888,
             "#fdca26"
            ],
            [
             1,
             "#f0f921"
            ]
           ],
           "sequentialminus": [
            [
             0,
             "#0d0887"
            ],
            [
             0.1111111111111111,
             "#46039f"
            ],
            [
             0.2222222222222222,
             "#7201a8"
            ],
            [
             0.3333333333333333,
             "#9c179e"
            ],
            [
             0.4444444444444444,
             "#bd3786"
            ],
            [
             0.5555555555555556,
             "#d8576b"
            ],
            [
             0.6666666666666666,
             "#ed7953"
            ],
            [
             0.7777777777777778,
             "#fb9f3a"
            ],
            [
             0.8888888888888888,
             "#fdca26"
            ],
            [
             1,
             "#f0f921"
            ]
           ]
          },
          "colorway": [
           "#636efa",
           "#EF553B",
           "#00cc96",
           "#ab63fa",
           "#FFA15A",
           "#19d3f3",
           "#FF6692",
           "#B6E880",
           "#FF97FF",
           "#FECB52"
          ],
          "font": {
           "color": "#2a3f5f"
          },
          "geo": {
           "bgcolor": "white",
           "lakecolor": "white",
           "landcolor": "#E5ECF6",
           "showlakes": true,
           "showland": true,
           "subunitcolor": "white"
          },
          "hoverlabel": {
           "align": "left"
          },
          "hovermode": "closest",
          "mapbox": {
           "style": "light"
          },
          "paper_bgcolor": "white",
          "plot_bgcolor": "#E5ECF6",
          "polar": {
           "angularaxis": {
            "gridcolor": "white",
            "linecolor": "white",
            "ticks": ""
           },
           "bgcolor": "#E5ECF6",
           "radialaxis": {
            "gridcolor": "white",
            "linecolor": "white",
            "ticks": ""
           }
          },
          "scene": {
           "xaxis": {
            "backgroundcolor": "#E5ECF6",
            "gridcolor": "white",
            "gridwidth": 2,
            "linecolor": "white",
            "showbackground": true,
            "ticks": "",
            "zerolinecolor": "white"
           },
           "yaxis": {
            "backgroundcolor": "#E5ECF6",
            "gridcolor": "white",
            "gridwidth": 2,
            "linecolor": "white",
            "showbackground": true,
            "ticks": "",
            "zerolinecolor": "white"
           },
           "zaxis": {
            "backgroundcolor": "#E5ECF6",
            "gridcolor": "white",
            "gridwidth": 2,
            "linecolor": "white",
            "showbackground": true,
            "ticks": "",
            "zerolinecolor": "white"
           }
          },
          "shapedefaults": {
           "line": {
            "color": "#2a3f5f"
           }
          },
          "ternary": {
           "aaxis": {
            "gridcolor": "white",
            "linecolor": "white",
            "ticks": ""
           },
           "baxis": {
            "gridcolor": "white",
            "linecolor": "white",
            "ticks": ""
           },
           "bgcolor": "#E5ECF6",
           "caxis": {
            "gridcolor": "white",
            "linecolor": "white",
            "ticks": ""
           }
          },
          "title": {
           "x": 0.05
          },
          "xaxis": {
           "automargin": true,
           "gridcolor": "white",
           "linecolor": "white",
           "ticks": "",
           "title": {
            "standoff": 15
           },
           "zerolinecolor": "white",
           "zerolinewidth": 2
          },
          "yaxis": {
           "automargin": true,
           "gridcolor": "white",
           "linecolor": "white",
           "ticks": "",
           "title": {
            "standoff": 15
           },
           "zerolinecolor": "white",
           "zerolinewidth": 2
          }
         }
        },
        "title": {
         "text": "Répartition de la production électrique dans la journée - 9.1"
        },
        "yaxis": {
         "range": [
          -4840,
          44000
         ],
         "title": {
          "text": "MW"
         }
        },
        "yaxis2": {
         "anchor": "free",
         "overlaying": "y",
         "position": 1,
         "range": [
          1.3732777777777776,
          2.1186000000000007
         ],
         "side": "right",
         "title": {
          "text": "€/MWh"
         }
        },
        "yaxis3": {
         "anchor": "free",
         "overlaying": "y",
         "position": 0.05,
         "range": [
          4.5186077102243874e-15,
          5.247000000000005
         ],
         "side": "left",
         "title": {
          "text": "Réservoir (m)"
         }
        }
       }
      }
     },
     "metadata": {},
     "output_type": "display_data"
    }
   ],
   "source": [
    "df = df_results61(dict_N,dict_P,dict_Nstart,dict_Thermique,dict_H,dict_Hstart,dict_Hydro,dict_S,debit_S,consommation)\n",
    "fig = Results_viz52(df,dict_Thermique,dict_Hydro)\n",
    "A = \"9.1\"\n",
    "fig.update_layout(\n",
    "    title = f\"Répartition de la production électrique dans la journée - {A}\"\n",
    ")\n",
    "fig.show()\n",
    "fig.write_html(f\"HTML/Répartition de la production électrique dans la journée - {A}.html\")"
   ]
  },
  {
   "cell_type": "markdown",
   "metadata": {},
   "source": [
    "### 9.2 Durée minimale d'arrêt \n",
    "\n",
    "$$\n",
    "\\forall t,\\forall t' \\in \\{1,\\dots,8\\}, \\forall k, H_{t-1}^{(X,k)}-H_{t}^{(X,k)}+1\\geq H_{t+t'}^{(X,k)}\n",
    "$$"
   ]
  },
  {
   "cell_type": "code",
   "execution_count": 58,
   "metadata": {},
   "outputs": [
    {
     "name": "stdout",
     "output_type": "stream",
     "text": [
      "Gurobi Optimizer version 9.5.2 build v9.5.2rc0 (win64)\n",
      "Thread count: 4 physical cores, 8 logical processors, using up to 8 threads\n",
      "Optimize a model with 10057 rows, 2232 columns and 28467 nonzeros\n",
      "Model fingerprint: 0x999e5950\n",
      "Variable types: 672 continuous, 1560 integer (1560 binary)\n",
      "Coefficient statistics:\n",
      "  Matrix range     [3e-04, 6e+04]\n",
      "  Objective range  [1e+00, 2e+03]\n",
      "  Bounds range     [1e+00, 1e+00]\n",
      "  RHS range        [1e+00, 4e+04]\n",
      "Presolve removed 6696 rows and 453 columns\n",
      "Presolve time: 0.04s\n",
      "Presolved: 3361 rows, 1779 columns, 11569 nonzeros\n",
      "Variable types: 672 continuous, 1107 integer (1107 binary)\n",
      "\n",
      "Root relaxation: objective 9.860455e+05, 1440 iterations, 0.02 seconds (0.02 work units)\n",
      "\n",
      "    Nodes    |    Current Node    |     Objective Bounds      |     Work\n",
      " Expl Unexpl |  Obj  Depth IntInf | Incumbent    BestBd   Gap | It/Node Time\n",
      "\n",
      "     0     0 986045.464    0  108          - 986045.464      -     -    0s\n",
      "H    0     0                    997910.00000 986045.464  1.19%     -    0s\n",
      "H    0     0                    988205.00000 986045.464  0.22%     -    0s\n",
      "H    0     0                    988020.00000 986142.459  0.19%     -    0s\n",
      "     0     0 986142.459    0  132 988020.000 986142.459  0.19%     -    0s\n",
      "     0     0 986802.739    0   50 988020.000 986802.739  0.12%     -    0s\n",
      "     0     0 986806.081    0  129 988020.000 986806.081  0.12%     -    0s\n",
      "     0     0 986897.545    0  107 988020.000 986897.545  0.11%     -    0s\n",
      "     0     0 986897.545    0   92 988020.000 986897.545  0.11%     -    0s\n",
      "     0     0 986897.545    0  111 988020.000 986897.545  0.11%     -    0s\n",
      "     0     0 986897.545    0  100 988020.000 986897.545  0.11%     -    0s\n",
      "H    0     0                    987915.00000 986897.545  0.10%     -    0s\n",
      "     0     0 986947.621    0   62 987915.000 986947.621  0.10%     -    0s\n",
      "     0     0 987028.312    0  115 987915.000 987028.312  0.09%     -    0s\n",
      "     0     0 987028.312    0  115 987915.000 987028.312  0.09%     -    0s\n",
      "     0     0 987161.693    0   85 987915.000 987161.693  0.08%     -    0s\n",
      "     0     0 987161.763    0   69 987915.000 987161.763  0.08%     -    0s\n",
      "     0     0 987180.533    0  120 987915.000 987180.533  0.07%     -    0s\n",
      "H    0     0                    987865.00000 987180.533  0.07%     -    0s\n",
      "     0     0 987198.271    0  117 987865.000 987198.271  0.07%     -    0s\n",
      "     0     0 987206.073    0  100 987865.000 987206.073  0.07%     -    0s\n",
      "     0     0 987206.788    0   88 987865.000 987206.788  0.07%     -    0s\n",
      "     0     0 987206.905    0  125 987865.000 987206.905  0.07%     -    0s\n",
      "     0     0 987207.135    0  123 987865.000 987207.135  0.07%     -    0s\n",
      "     0     0 987208.209    0  125 987865.000 987208.209  0.07%     -    0s\n",
      "H    0     0                    987815.00000 987208.209  0.06%     -    0s\n",
      "     0     0 987210.425    0  119 987815.000 987210.425  0.06%     -    0s\n",
      "     0     0 987219.290    0  122 987815.000 987219.290  0.06%     -    0s\n",
      "     0     0 987219.542    0  148 987815.000 987219.542  0.06%     -    0s\n",
      "     0     0 987226.504    0  153 987815.000 987226.504  0.06%     -    0s\n",
      "     0     0 987226.761    0  123 987815.000 987226.761  0.06%     -    0s\n",
      "     0     0 987243.520    0  128 987815.000 987243.520  0.06%     -    0s\n",
      "     0     0 987243.520    0  128 987815.000 987243.520  0.06%     -    0s\n",
      "     0     0 987243.617    0  146 987815.000 987243.617  0.06%     -    1s\n",
      "     0     0 987243.617    0  181 987815.000 987243.617  0.06%     -    1s\n",
      "     0     0 987243.658    0  149 987815.000 987243.658  0.06%     -    1s\n",
      "     0     0 987243.658    0  142 987815.000 987243.658  0.06%     -    1s\n",
      "H    0     0                    987675.00000 987243.658  0.04%     -    1s\n",
      "     0     0 987243.658    0   42 987675.000 987243.658  0.04%     -    1s\n",
      "     0     0 987243.658    0   68 987675.000 987243.658  0.04%     -    1s\n",
      "     0     0 987243.658    0   74 987675.000 987243.658  0.04%     -    1s\n",
      "     0     0 987243.658    0   62 987675.000 987243.658  0.04%     -    1s\n",
      "     0     0 987243.658    0   71 987675.000 987243.658  0.04%     -    1s\n",
      "     0     0 987243.658    0   50 987675.000 987243.658  0.04%     -    1s\n",
      "     0     0 987243.658    0   72 987675.000 987243.658  0.04%     -    1s\n",
      "     0     0 987243.658    0   75 987675.000 987243.658  0.04%     -    1s\n",
      "     0     0 987243.658    0   76 987675.000 987243.658  0.04%     -    1s\n",
      "     0     0 987243.720    0   77 987675.000 987243.720  0.04%     -    1s\n",
      "     0     0 987243.720    0   81 987675.000 987243.720  0.04%     -    1s\n",
      "     0     0 987243.996    0  101 987675.000 987243.996  0.04%     -    1s\n",
      "     0     0 987244.095    0  103 987675.000 987244.095  0.04%     -    1s\n",
      "     0     0 987244.329    0   98 987675.000 987244.329  0.04%     -    1s\n",
      "     0     0 987244.329    0   86 987675.000 987244.329  0.04%     -    1s\n",
      "     0     0 987244.329    0   42 987675.000 987244.329  0.04%     -    1s\n",
      "     0     0 987244.329    0   58 987675.000 987244.329  0.04%     -    1s\n",
      "     0     0 987244.329    0   59 987675.000 987244.329  0.04%     -    1s\n",
      "     0     0 987244.329    0   59 987675.000 987244.329  0.04%     -    1s\n",
      "     0     0 987244.329    0   66 987675.000 987244.329  0.04%     -    1s\n",
      "     0     0 987244.329    0   75 987675.000 987244.329  0.04%     -    1s\n",
      "     0     0 987244.329    0   68 987675.000 987244.329  0.04%     -    1s\n",
      "     0     0 987244.329    0   69 987675.000 987244.329  0.04%     -    1s\n",
      "     0     0 987244.329    0   75 987675.000 987244.329  0.04%     -    1s\n",
      "     0     0 987246.410    0   91 987675.000 987246.410  0.04%     -    1s\n",
      "     0     0 987248.218    0   89 987675.000 987248.218  0.04%     -    1s\n",
      "     0     0 987253.895    0   96 987675.000 987253.895  0.04%     -    1s\n",
      "     0     0 987256.833    0   84 987675.000 987256.833  0.04%     -    1s\n",
      "     0     0 987257.818    0   89 987675.000 987257.818  0.04%     -    1s\n",
      "     0     0 987260.620    0   81 987675.000 987260.620  0.04%     -    1s\n",
      "     0     0 987260.628    0   81 987675.000 987260.628  0.04%     -    1s\n",
      "     0     0 987265.654    0   93 987675.000 987265.654  0.04%     -    1s\n",
      "     0     0 987273.986    0   88 987675.000 987273.986  0.04%     -    1s\n",
      "     0     0 987279.673    0   96 987675.000 987279.673  0.04%     -    1s\n",
      "     0     0 987280.800    0   95 987675.000 987280.800  0.04%     -    1s\n",
      "     0     0 987281.461    0   90 987675.000 987281.461  0.04%     -    1s\n",
      "     0     0 987284.340    0   99 987675.000 987284.340  0.04%     -    1s\n",
      "     0     0 987284.828    0  104 987675.000 987284.828  0.04%     -    1s\n",
      "     0     0 987285.022    0  100 987675.000 987285.022  0.04%     -    1s\n",
      "     0     0 987285.206    0  105 987675.000 987285.206  0.04%     -    1s\n",
      "     0     0 987286.116    0  111 987675.000 987286.116  0.04%     -    1s\n",
      "     0     0 987286.116    0   98 987675.000 987286.116  0.04%     -    2s\n",
      "     0     2 987286.116    0   98 987675.000 987286.116  0.04%     -    2s\n",
      "H  561   590                    987631.00000 987296.350  0.03%  13.8    2s\n",
      "H  615   530                    987585.00000 987296.350  0.03%  13.5    2s\n",
      "*  639   526              69    987580.00000 987296.350  0.03%  13.1    2s\n",
      "H  919   665                    987560.00000 987302.758  0.03%  13.1    2s\n",
      "H 1075   794                    987550.00000 987302.758  0.03%  12.7    2s\n",
      "H 1687  1051                    987520.00000 987328.715  0.02%  14.3    3s\n",
      "H 2645  1333                    987516.00000 987342.705  0.02%  13.7    4s\n",
      "  6078  2633 987421.555   29   52 987516.000 987388.547  0.01%  13.6    5s\n",
      "* 7676  2948              43    987507.00000 987395.651  0.01%  13.7    5s\n",
      "H 9271  3158                    987505.00000 987401.575  0.01%  14.0    6s\n",
      "\n",
      "Cutting planes:\n",
      "  Gomory: 1\n",
      "  Implied bound: 35\n",
      "  MIR: 143\n",
      "  Flow cover: 48\n",
      "  RLT: 5\n",
      "\n",
      "Explored 11101 nodes (165633 simplex iterations) in 6.38 seconds (4.82 work units)\n",
      "Thread count was 8 (of 8 available processors)\n",
      "\n",
      "Solution count 10: 987505 987507 987516 ... 987675\n",
      "\n",
      "Optimal solution found (tolerance 1.00e-04)\n",
      "Best objective 9.875050000000e+05, best bound 9.874090445992e+05, gap 0.0097%\n"
     ]
    }
   ],
   "source": [
    "from utils import contraintes_rampes\n",
    "\n",
    "heures_maintenance = np.array([0,1,2,3,4,5,6,18,19,20,21,22,23])\n",
    "consommation = np.array([15,15,15,15,15,15,30,30,30,25,25,25,25,25,25,40,40,40,27,27,27,27,27,27])*1000\n",
    "heures = np.array([k for t in range(2) for k in range(24)])\n",
    "delai_fonctionnement = 8\n",
    "\n",
    "model = gp.Model(\"8.3\")\n",
    "\n",
    "dict_N, dict_P, dict_Nstart = variables_decision_desagregation_thermique(model,dict_Thermique)\n",
    "dict_H, dict_Hstart = variables_decision_hydraulique_palier(model,dict_Hydro)\n",
    "dict_S = {t : model.addVar(lb=0,vtype=gp.GRB.CONTINUOUS,name=f\"pompage à l'instant {t}\") for t in range(24)}\n",
    "dict_N_s = {t : model.addVar(lb=0,vtype=gp.GRB.BINARY,name=f\"fonctionnement pompe à l'instant {t}\") for t in range(24)}\n",
    "debit_S = 1/3000 # débit de pompage par MWh ou par MW pendant une heure\n",
    "M = sum([dict_Thermique[X].N * dict_Thermique[X].Pmax for X in dict_Thermique]) + sum([dict_Hydro[Y].P[dict_Hydro[Y].palier_max()] for Y in dict_Hydro])\n",
    "\n",
    "contraintes_reservoir_palier(model,dict_H,dict_Hydro,dict_S,debit_S)\n",
    "contraintes_hydraulique_palier(model,dict_H,dict_Hydro,dict_Hstart)\n",
    "contraintes_hydraulique_pompage(model,dict_H,dict_Hydro,dict_N_s,dict_S,M)\n",
    "contraintes_thermique_desagregation(model,dict_P,dict_N,dict_Nstart,dict_Thermique)\n",
    "contraintes_equilibre_desagregation(model,dict_P,dict_Thermique,dict_H,dict_Hydro,dict_S,consommation)\n",
    "contraintes_reserve_desagregation(model,dict_N,dict_Thermique,dict_Hydro,consommation)\n",
    "contraintes_rampes(model,dict_P,dict_N,dict_Thermique)\n",
    "for t in range(t):\n",
    "    for tprime in range(delai_fonctionnement):\n",
    "        for X in dict_Thermique:\n",
    "            for k in range(dict_Thermique[X].N):\n",
    "                model.addConstr(dict_Nstart[X,k,t]<=dict_N[X,k,heures[t+tprime]])\n",
    "                model.addConstr(dict_N[X,k,heures[t-1]]-dict_N[X,k,t]+1>=dict_N[X,k,heures[t+tprime]])\n",
    "\n",
    "\n",
    "model.setObjective(\n",
    "    gp.quicksum([dict_N[X,k,t] * (dict_Thermique[X].Cbase - dict_Thermique[X].Pmin*dict_Thermique[X].Cmwh) for X in dict_Thermique for k in range(dict_Thermique[X].N) for t in range(24)]) + \n",
    "    gp.quicksum([dict_P[X,k,t] * dict_Thermique[X].Cmwh for X in dict_Thermique for k in range(dict_Thermique[X].N) for t in range(24)])+ \n",
    "    gp.quicksum([dict_Nstart[X,k,t]*dict_Thermique[X].Cstart for X in dict_Thermique for k in range(dict_Thermique[X].N) for t in range(24)])+\n",
    "    gp.quicksum([dict_H[Y,n,t] * dict_Hydro[Y].Cheure[n] for Y in dict_Hydro for t in range(24) for n in dict_Hydro[Y].Palier])+\n",
    "    gp.quicksum([dict_Hstart[Y,t] * dict_Hydro[Y].Cstart for Y in dict_Hydro for t in range(24)]),\n",
    "    gp.GRB.MINIMIZE\n",
    "    )\n",
    "\n",
    "model.optimize()"
   ]
  }
 ],
 "metadata": {
  "kernelspec": {
   "display_name": "Python 3 (ipykernel)",
   "language": "python",
   "name": "python3"
  },
  "language_info": {
   "codemirror_mode": {
    "name": "ipython",
    "version": 3
   },
   "file_extension": ".py",
   "mimetype": "text/x-python",
   "name": "python",
   "nbconvert_exporter": "python",
   "pygments_lexer": "ipython3",
   "version": "3.10.8"
  },
  "vscode": {
   "interpreter": {
    "hash": "153e8b4aaf1e7bee5b29f07f8dd36650b8c55b521facabbe75a683164f3644eb"
   }
  }
 },
 "nbformat": 4,
 "nbformat_minor": 2
}
