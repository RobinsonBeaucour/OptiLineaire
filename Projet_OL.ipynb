{
 "cells": [
  {
   "cell_type": "code",
   "execution_count": 71,
   "metadata": {},
   "outputs": [],
   "source": [
    "import gurobipy as gp\n",
    "from itertools import product\n",
    "import matplotlib.pyplot as plt\n",
    "import pandas as pd\n",
    "import numpy as np\n",
    "def division(a,b):\n",
    "    if a == 0:\n",
    "        return 0\n",
    "    if b == 0:\n",
    "        return 0\n",
    "    return a/b"
   ]
  },
  {
   "cell_type": "code",
   "execution_count": 2,
   "metadata": {},
   "outputs": [
    {
     "name": "stdout",
     "output_type": "stream",
     "text": [
      "Set parameter TokenServer to value \"dev.cma.mines-paristech.fr\"\n",
      "Gurobi Optimizer version 9.5.2 build v9.5.2rc0 (win64)\n",
      "Thread count: 4 physical cores, 8 logical processors, using up to 8 threads\n",
      "Optimize a model with 2 rows, 3 columns and 5 nonzeros\n",
      "Model fingerprint: 0x98886187\n",
      "Variable types: 0 continuous, 3 integer (3 binary)\n",
      "Coefficient statistics:\n",
      "  Matrix range     [1e+00, 3e+00]\n",
      "  Objective range  [1e+00, 2e+00]\n",
      "  Bounds range     [1e+00, 1e+00]\n",
      "  RHS range        [1e+00, 4e+00]\n",
      "Found heuristic solution: objective 2.0000000\n",
      "Presolve removed 2 rows and 3 columns\n",
      "Presolve time: 0.00s\n",
      "Presolve: All rows and columns removed\n",
      "\n",
      "Explored 0 nodes (0 simplex iterations) in 0.01 seconds (0.00 work units)\n",
      "Thread count was 1 (of 8 available processors)\n",
      "\n",
      "Solution count 2: 3 2 \n",
      "\n",
      "Optimal solution found (tolerance 1.00e-04)\n",
      "Best objective 3.000000000000e+00, best bound 3.000000000000e+00, gap 0.0000%\n",
      "Optimal objective value: 3.0\n",
      "Solution values: x=1.0, y=0.0, z=1.0\n"
     ]
    }
   ],
   "source": [
    "# Create a new model\n",
    "m = gp.Model()\n",
    "\n",
    "# Create variables\n",
    "x = m.addVar(vtype='B', name=\"x\")\n",
    "y = m.addVar(vtype='B', name=\"y\")\n",
    "z = m.addVar(vtype='B', name=\"z\")\n",
    "\n",
    "# Set objective function\n",
    "m.setObjective(x + y + 2 * z, gp.GRB.MAXIMIZE)\n",
    "\n",
    "# Add constraints\n",
    "m.addConstr(x + 2 * y + 3 * z <= 4)\n",
    "m.addConstr(x + y >= 1)\n",
    "\n",
    "# Solve it!\n",
    "m.optimize()\n",
    "\n",
    "print(f\"Optimal objective value: {m.objVal}\")\n",
    "print(f\"Solution values: x={x.X}, y={y.X}, z={z.X}\")"
   ]
  },
  {
   "cell_type": "markdown",
   "metadata": {},
   "source": [
    "## 1 Modèle de base des centrales thermiques\n",
    "\n",
    "### 1.1 Planification journalière du parc thermique\n",
    "\n",
    "Variables de décision :\n",
    "Pour une type de centrale $X \\in [A,B,C]$, et une heure de la journée $t\\in {1,\\dots,24}$, on définit :\n",
    "$$\n",
    "N_t^{(X)} = \\text{Nombre de centrales } X \\text{allumées à } t\\text{ h, (ENTIER)}\n",
    "$$\n",
    "$$\n",
    "P_t^{(X)} = \\text{Puissance totale produite par les centrales } X \\text{ à } t\\text{ h, (CONTINUE)}\n",
    "$$\n",
    "Contraintes :\n",
    "$$\n",
    "N_t^{(X)} P_{min}^{(X)} \\leq P_t^{(X)} \\leq N_t^{(X)} P_{max}^{(X)} \\text{ ,  Contraintes sur la puissance totale de chaque centrale}\n",
    "$$\n",
    "$$\n",
    "0 \\leq N_t^{(X)} \\leq N^{(X)} \\text{   ,   Contraintes sur le nombre de centrales allumées possible}\n",
    "$$\n",
    "$$\n",
    "\\forall t, \\sum_X P_t^{(X)} = D_t \\text{  ,  Contrainte équilibre offre-demande}\n",
    "$$\n",
    "Objectif :\n",
    "$$\n",
    "\\text{Minimiser} \\sum_X \\sum_T P_t^{(X)} C_{MWh}^{(X)}\n",
    "$$"
   ]
  },
  {
   "cell_type": "code",
   "execution_count": 3,
   "metadata": {},
   "outputs": [],
   "source": [
    "class Centrale:\n",
    "    def __init__(self, name, N, Pmin, Pmax, Cmwh):\n",
    "        self.name = name\n",
    "        self.N = N\n",
    "        self.Pmin = Pmin\n",
    "        self.Pmax = Pmax\n",
    "        self.Cmwh = Cmwh"
   ]
  },
  {
   "cell_type": "code",
   "execution_count": 68,
   "metadata": {},
   "outputs": [
    {
     "name": "stdout",
     "output_type": "stream",
     "text": [
      "1275.0\n",
      "1724.9999999999998\n",
      "4125.0\n"
     ]
    }
   ],
   "source": [
    "for X in dict_11:\n",
    "    print(dict_11[X].Pmin*dict_11[X].Cmwh)"
   ]
  },
  {
   "cell_type": "code",
   "execution_count": 4,
   "metadata": {},
   "outputs": [],
   "source": [
    "dict_11 = {}\n",
    "dict_11[\"A\"] = Centrale(\n",
    "    name=\"A\",\n",
    "    N=12,\n",
    "    Pmax=2000,\n",
    "    Pmin=850,\n",
    "    Cmwh=1.5\n",
    ")\n",
    "dict_11[\"B\"] = Centrale(\n",
    "    name=\"B\",\n",
    "    N=10,\n",
    "    Pmax=1750,\n",
    "    Pmin=1250,\n",
    "    Cmwh=1.38\n",
    ")\n",
    "dict_11[\"C\"] = Centrale(\n",
    "    name=\"C\",\n",
    "    N=5,\n",
    "    Pmax=4000,\n",
    "    Pmin=1500,\n",
    "    Cmwh=2.75\n",
    ")\n",
    "consommation = np.array([15,15,15,15,15,15,30,30,30,25,25,25,25,25,25,40,40,40,27,27,27,27,27,27])*1000"
   ]
  },
  {
   "cell_type": "code",
   "execution_count": 20,
   "metadata": {},
   "outputs": [],
   "source": [
    "model = gp.Model(name=\"1.1\")"
   ]
  },
  {
   "cell_type": "code",
   "execution_count": 21,
   "metadata": {},
   "outputs": [],
   "source": [
    "dict_N = {}\n",
    "dict_P = {}\n",
    "\n",
    "for t in range(24):\n",
    "    for X in dict_11:\n",
    "        dict_N[X,t] = model.addVar(lb=0,ub=dict_11[X].N,vtype=gp.GRB.INTEGER,name=f\"Nombre de centrale {X} allumées à {t}h\")\n",
    "    for X in dict_11:\n",
    "        dict_P[X,t] = model.addVar(name=f\"Puissance totale {X} à {t}h\")\n"
   ]
  },
  {
   "cell_type": "code",
   "execution_count": 22,
   "metadata": {},
   "outputs": [],
   "source": [
    "\n",
    "model.setObjective(gp.quicksum([dict_P[element[0],element[1]] * dict_11[element[0]].Cmwh for element in product(dict_11,range(24))]), gp.GRB.MINIMIZE)"
   ]
  },
  {
   "cell_type": "code",
   "execution_count": 23,
   "metadata": {},
   "outputs": [],
   "source": [
    "for t in range(24):\n",
    "    for X in dict_11:\n",
    "        model.addConstr(dict_P[X,t]<=dict_N[X,t] * dict_11[X].Pmax, name=f\"borne sup puissance, {X} à {t}h\")\n",
    "        model.addConstr(dict_P[X,t]>=dict_N[X,t] * dict_11[X].Pmin, name=f\"borne inf puissance, {X} à {t}h\")\n",
    "    model.addConstr(gp.quicksum([dict_P[X,t] for X in dict_11])==consommation[t])"
   ]
  },
  {
   "cell_type": "code",
   "execution_count": 24,
   "metadata": {},
   "outputs": [
    {
     "name": "stdout",
     "output_type": "stream",
     "text": [
      "Gurobi Optimizer version 9.5.2 build v9.5.2rc0 (win64)\n",
      "Thread count: 4 physical cores, 8 logical processors, using up to 8 threads\n",
      "Optimize a model with 168 rows, 144 columns and 360 nonzeros\n",
      "Model fingerprint: 0xe0a5527a\n",
      "Variable types: 72 continuous, 72 integer (0 binary)\n",
      "Coefficient statistics:\n",
      "  Matrix range     [1e+00, 4e+03]\n",
      "  Objective range  [1e+00, 3e+00]\n",
      "  Bounds range     [5e+00, 1e+01]\n",
      "  RHS range        [2e+04, 4e+04]\n",
      "Found heuristic solution: objective 1235375.0000\n",
      "Presolve removed 162 rows and 139 columns\n",
      "Presolve time: 0.01s\n",
      "Presolved: 6 rows, 5 columns, 14 nonzeros\n",
      "Found heuristic solution: objective 881275.00000\n",
      "Variable types: 2 continuous, 3 integer (0 binary)\n",
      "\n",
      "Root relaxation: objective 8.694000e+05, 2 iterations, 0.00 seconds (0.00 work units)\n",
      "\n",
      "    Nodes    |    Current Node    |     Objective Bounds      |     Work\n",
      " Expl Unexpl |  Obj  Depth IntInf | Incumbent    BestBd   Gap | It/Node Time\n",
      "\n",
      "     0     0 869400.000    0    1 881275.000 869400.000  1.35%     -    0s\n",
      "H    0     0                    869400.00000 869400.000  0.00%     -    0s\n",
      "     0     0 869400.000    0    1 869400.000 869400.000  0.00%     -    0s\n",
      "\n",
      "Explored 1 nodes (2 simplex iterations) in 0.03 seconds (0.00 work units)\n",
      "Thread count was 8 (of 8 available processors)\n",
      "\n",
      "Solution count 3: 869400 881275 1.23538e+06 \n",
      "\n",
      "Optimal solution found (tolerance 1.00e-04)\n",
      "Best objective 8.694000000000e+05, best bound 8.694000000000e+05, gap 0.0000%\n"
     ]
    }
   ],
   "source": [
    "model.optimize()"
   ]
  },
  {
   "cell_type": "code",
   "execution_count": 25,
   "metadata": {},
   "outputs": [
    {
     "name": "stdout",
     "output_type": "stream",
     "text": [
      "Coût : 869400.0\n"
     ]
    }
   ],
   "source": [
    "print(f\"Coût : {model.ObjVal}\")"
   ]
  },
  {
   "cell_type": "code",
   "execution_count": 73,
   "metadata": {},
   "outputs": [
    {
     "data": {
      "text/html": [
       "<div>\n",
       "<style scoped>\n",
       "    .dataframe tbody tr th:only-of-type {\n",
       "        vertical-align: middle;\n",
       "    }\n",
       "\n",
       "    .dataframe tbody tr th {\n",
       "        vertical-align: top;\n",
       "    }\n",
       "\n",
       "    .dataframe thead th {\n",
       "        text-align: right;\n",
       "    }\n",
       "</style>\n",
       "<table border=\"1\" class=\"dataframe\">\n",
       "  <thead>\n",
       "    <tr style=\"text-align: right;\">\n",
       "      <th></th>\n",
       "      <th>h</th>\n",
       "      <th>Consommation (MW)</th>\n",
       "      <th>Production total</th>\n",
       "      <th>Coût total</th>\n",
       "      <th>Nb centrale A</th>\n",
       "      <th>Puissance tot A</th>\n",
       "      <th>Coût A</th>\n",
       "      <th>Facteur de chargeA</th>\n",
       "      <th>Nb centrale B</th>\n",
       "      <th>Puissance tot B</th>\n",
       "      <th>Coût B</th>\n",
       "      <th>Facteur de chargeB</th>\n",
       "      <th>Nb centrale C</th>\n",
       "      <th>Puissance tot C</th>\n",
       "      <th>Coût C</th>\n",
       "      <th>Facteur de chargeC</th>\n",
       "      <th>Coût MWh</th>\n",
       "    </tr>\n",
       "  </thead>\n",
       "  <tbody>\n",
       "    <tr>\n",
       "      <th>0</th>\n",
       "      <td>0</td>\n",
       "      <td>15000</td>\n",
       "      <td>15000.0</td>\n",
       "      <td>21660.0</td>\n",
       "      <td>4</td>\n",
       "      <td>8000.0</td>\n",
       "      <td>12000.0</td>\n",
       "      <td>100</td>\n",
       "      <td>4</td>\n",
       "      <td>7000.0</td>\n",
       "      <td>9660.0</td>\n",
       "      <td>100</td>\n",
       "      <td>0</td>\n",
       "      <td>0.0</td>\n",
       "      <td>0.0</td>\n",
       "      <td>0</td>\n",
       "      <td>1.444000</td>\n",
       "    </tr>\n",
       "    <tr>\n",
       "      <th>1</th>\n",
       "      <td>1</td>\n",
       "      <td>15000</td>\n",
       "      <td>15000.0</td>\n",
       "      <td>21660.0</td>\n",
       "      <td>4</td>\n",
       "      <td>8000.0</td>\n",
       "      <td>12000.0</td>\n",
       "      <td>100</td>\n",
       "      <td>4</td>\n",
       "      <td>7000.0</td>\n",
       "      <td>9660.0</td>\n",
       "      <td>100</td>\n",
       "      <td>0</td>\n",
       "      <td>0.0</td>\n",
       "      <td>0.0</td>\n",
       "      <td>0</td>\n",
       "      <td>1.444000</td>\n",
       "    </tr>\n",
       "    <tr>\n",
       "      <th>2</th>\n",
       "      <td>2</td>\n",
       "      <td>15000</td>\n",
       "      <td>15000.0</td>\n",
       "      <td>21660.0</td>\n",
       "      <td>4</td>\n",
       "      <td>8000.0</td>\n",
       "      <td>12000.0</td>\n",
       "      <td>100</td>\n",
       "      <td>4</td>\n",
       "      <td>7000.0</td>\n",
       "      <td>9660.0</td>\n",
       "      <td>100</td>\n",
       "      <td>0</td>\n",
       "      <td>0.0</td>\n",
       "      <td>0.0</td>\n",
       "      <td>0</td>\n",
       "      <td>1.444000</td>\n",
       "    </tr>\n",
       "    <tr>\n",
       "      <th>3</th>\n",
       "      <td>3</td>\n",
       "      <td>15000</td>\n",
       "      <td>15000.0</td>\n",
       "      <td>21660.0</td>\n",
       "      <td>4</td>\n",
       "      <td>8000.0</td>\n",
       "      <td>12000.0</td>\n",
       "      <td>100</td>\n",
       "      <td>4</td>\n",
       "      <td>7000.0</td>\n",
       "      <td>9660.0</td>\n",
       "      <td>100</td>\n",
       "      <td>0</td>\n",
       "      <td>0.0</td>\n",
       "      <td>0.0</td>\n",
       "      <td>0</td>\n",
       "      <td>1.444000</td>\n",
       "    </tr>\n",
       "    <tr>\n",
       "      <th>4</th>\n",
       "      <td>4</td>\n",
       "      <td>15000</td>\n",
       "      <td>15000.0</td>\n",
       "      <td>21660.0</td>\n",
       "      <td>4</td>\n",
       "      <td>8000.0</td>\n",
       "      <td>12000.0</td>\n",
       "      <td>100</td>\n",
       "      <td>4</td>\n",
       "      <td>7000.0</td>\n",
       "      <td>9660.0</td>\n",
       "      <td>100</td>\n",
       "      <td>0</td>\n",
       "      <td>0.0</td>\n",
       "      <td>0.0</td>\n",
       "      <td>0</td>\n",
       "      <td>1.444000</td>\n",
       "    </tr>\n",
       "    <tr>\n",
       "      <th>5</th>\n",
       "      <td>5</td>\n",
       "      <td>15000</td>\n",
       "      <td>15000.0</td>\n",
       "      <td>21660.0</td>\n",
       "      <td>4</td>\n",
       "      <td>8000.0</td>\n",
       "      <td>12000.0</td>\n",
       "      <td>100</td>\n",
       "      <td>4</td>\n",
       "      <td>7000.0</td>\n",
       "      <td>9660.0</td>\n",
       "      <td>100</td>\n",
       "      <td>0</td>\n",
       "      <td>0.0</td>\n",
       "      <td>0.0</td>\n",
       "      <td>0</td>\n",
       "      <td>1.444000</td>\n",
       "    </tr>\n",
       "    <tr>\n",
       "      <th>6</th>\n",
       "      <td>6</td>\n",
       "      <td>30000</td>\n",
       "      <td>30000.0</td>\n",
       "      <td>43320.0</td>\n",
       "      <td>8</td>\n",
       "      <td>16000.0</td>\n",
       "      <td>24000.0</td>\n",
       "      <td>100</td>\n",
       "      <td>8</td>\n",
       "      <td>14000.0</td>\n",
       "      <td>19320.0</td>\n",
       "      <td>100</td>\n",
       "      <td>0</td>\n",
       "      <td>0.0</td>\n",
       "      <td>0.0</td>\n",
       "      <td>0</td>\n",
       "      <td>1.444000</td>\n",
       "    </tr>\n",
       "    <tr>\n",
       "      <th>7</th>\n",
       "      <td>7</td>\n",
       "      <td>30000</td>\n",
       "      <td>30000.0</td>\n",
       "      <td>43320.0</td>\n",
       "      <td>8</td>\n",
       "      <td>16000.0</td>\n",
       "      <td>24000.0</td>\n",
       "      <td>100</td>\n",
       "      <td>8</td>\n",
       "      <td>14000.0</td>\n",
       "      <td>19320.0</td>\n",
       "      <td>100</td>\n",
       "      <td>0</td>\n",
       "      <td>0.0</td>\n",
       "      <td>0.0</td>\n",
       "      <td>0</td>\n",
       "      <td>1.444000</td>\n",
       "    </tr>\n",
       "    <tr>\n",
       "      <th>8</th>\n",
       "      <td>8</td>\n",
       "      <td>30000</td>\n",
       "      <td>30000.0</td>\n",
       "      <td>43320.0</td>\n",
       "      <td>8</td>\n",
       "      <td>16000.0</td>\n",
       "      <td>24000.0</td>\n",
       "      <td>100</td>\n",
       "      <td>8</td>\n",
       "      <td>14000.0</td>\n",
       "      <td>19320.0</td>\n",
       "      <td>100</td>\n",
       "      <td>0</td>\n",
       "      <td>0.0</td>\n",
       "      <td>0.0</td>\n",
       "      <td>0</td>\n",
       "      <td>1.444000</td>\n",
       "    </tr>\n",
       "    <tr>\n",
       "      <th>9</th>\n",
       "      <td>9</td>\n",
       "      <td>25000</td>\n",
       "      <td>25000.0</td>\n",
       "      <td>35400.0</td>\n",
       "      <td>4</td>\n",
       "      <td>7500.0</td>\n",
       "      <td>11250.0</td>\n",
       "      <td>93</td>\n",
       "      <td>10</td>\n",
       "      <td>17500.0</td>\n",
       "      <td>24150.0</td>\n",
       "      <td>100</td>\n",
       "      <td>0</td>\n",
       "      <td>0.0</td>\n",
       "      <td>0.0</td>\n",
       "      <td>0</td>\n",
       "      <td>1.416000</td>\n",
       "    </tr>\n",
       "    <tr>\n",
       "      <th>10</th>\n",
       "      <td>10</td>\n",
       "      <td>25000</td>\n",
       "      <td>25000.0</td>\n",
       "      <td>35400.0</td>\n",
       "      <td>4</td>\n",
       "      <td>7500.0</td>\n",
       "      <td>11250.0</td>\n",
       "      <td>93</td>\n",
       "      <td>10</td>\n",
       "      <td>17500.0</td>\n",
       "      <td>24150.0</td>\n",
       "      <td>100</td>\n",
       "      <td>0</td>\n",
       "      <td>0.0</td>\n",
       "      <td>0.0</td>\n",
       "      <td>0</td>\n",
       "      <td>1.416000</td>\n",
       "    </tr>\n",
       "    <tr>\n",
       "      <th>11</th>\n",
       "      <td>11</td>\n",
       "      <td>25000</td>\n",
       "      <td>25000.0</td>\n",
       "      <td>35400.0</td>\n",
       "      <td>4</td>\n",
       "      <td>7500.0</td>\n",
       "      <td>11250.0</td>\n",
       "      <td>93</td>\n",
       "      <td>10</td>\n",
       "      <td>17500.0</td>\n",
       "      <td>24150.0</td>\n",
       "      <td>100</td>\n",
       "      <td>0</td>\n",
       "      <td>0.0</td>\n",
       "      <td>0.0</td>\n",
       "      <td>0</td>\n",
       "      <td>1.416000</td>\n",
       "    </tr>\n",
       "    <tr>\n",
       "      <th>12</th>\n",
       "      <td>12</td>\n",
       "      <td>25000</td>\n",
       "      <td>25000.0</td>\n",
       "      <td>35400.0</td>\n",
       "      <td>4</td>\n",
       "      <td>7500.0</td>\n",
       "      <td>11250.0</td>\n",
       "      <td>93</td>\n",
       "      <td>10</td>\n",
       "      <td>17500.0</td>\n",
       "      <td>24150.0</td>\n",
       "      <td>100</td>\n",
       "      <td>0</td>\n",
       "      <td>0.0</td>\n",
       "      <td>0.0</td>\n",
       "      <td>0</td>\n",
       "      <td>1.416000</td>\n",
       "    </tr>\n",
       "    <tr>\n",
       "      <th>13</th>\n",
       "      <td>13</td>\n",
       "      <td>25000</td>\n",
       "      <td>25000.0</td>\n",
       "      <td>35400.0</td>\n",
       "      <td>4</td>\n",
       "      <td>7500.0</td>\n",
       "      <td>11250.0</td>\n",
       "      <td>93</td>\n",
       "      <td>10</td>\n",
       "      <td>17500.0</td>\n",
       "      <td>24150.0</td>\n",
       "      <td>100</td>\n",
       "      <td>0</td>\n",
       "      <td>0.0</td>\n",
       "      <td>0.0</td>\n",
       "      <td>0</td>\n",
       "      <td>1.416000</td>\n",
       "    </tr>\n",
       "    <tr>\n",
       "      <th>14</th>\n",
       "      <td>14</td>\n",
       "      <td>25000</td>\n",
       "      <td>25000.0</td>\n",
       "      <td>35400.0</td>\n",
       "      <td>4</td>\n",
       "      <td>7500.0</td>\n",
       "      <td>11250.0</td>\n",
       "      <td>93</td>\n",
       "      <td>10</td>\n",
       "      <td>17500.0</td>\n",
       "      <td>24150.0</td>\n",
       "      <td>100</td>\n",
       "      <td>0</td>\n",
       "      <td>0.0</td>\n",
       "      <td>0.0</td>\n",
       "      <td>0</td>\n",
       "      <td>1.416000</td>\n",
       "    </tr>\n",
       "    <tr>\n",
       "      <th>15</th>\n",
       "      <td>15</td>\n",
       "      <td>40000</td>\n",
       "      <td>40000.0</td>\n",
       "      <td>57900.0</td>\n",
       "      <td>12</td>\n",
       "      <td>22500.0</td>\n",
       "      <td>33750.0</td>\n",
       "      <td>93</td>\n",
       "      <td>10</td>\n",
       "      <td>17500.0</td>\n",
       "      <td>24150.0</td>\n",
       "      <td>100</td>\n",
       "      <td>0</td>\n",
       "      <td>0.0</td>\n",
       "      <td>0.0</td>\n",
       "      <td>0</td>\n",
       "      <td>1.447500</td>\n",
       "    </tr>\n",
       "    <tr>\n",
       "      <th>16</th>\n",
       "      <td>16</td>\n",
       "      <td>40000</td>\n",
       "      <td>40000.0</td>\n",
       "      <td>57900.0</td>\n",
       "      <td>12</td>\n",
       "      <td>22500.0</td>\n",
       "      <td>33750.0</td>\n",
       "      <td>93</td>\n",
       "      <td>10</td>\n",
       "      <td>17500.0</td>\n",
       "      <td>24150.0</td>\n",
       "      <td>100</td>\n",
       "      <td>0</td>\n",
       "      <td>0.0</td>\n",
       "      <td>0.0</td>\n",
       "      <td>0</td>\n",
       "      <td>1.447500</td>\n",
       "    </tr>\n",
       "    <tr>\n",
       "      <th>17</th>\n",
       "      <td>17</td>\n",
       "      <td>40000</td>\n",
       "      <td>40000.0</td>\n",
       "      <td>57900.0</td>\n",
       "      <td>12</td>\n",
       "      <td>22500.0</td>\n",
       "      <td>33750.0</td>\n",
       "      <td>93</td>\n",
       "      <td>10</td>\n",
       "      <td>17500.0</td>\n",
       "      <td>24150.0</td>\n",
       "      <td>100</td>\n",
       "      <td>0</td>\n",
       "      <td>0.0</td>\n",
       "      <td>0.0</td>\n",
       "      <td>0</td>\n",
       "      <td>1.447500</td>\n",
       "    </tr>\n",
       "    <tr>\n",
       "      <th>18</th>\n",
       "      <td>18</td>\n",
       "      <td>27000</td>\n",
       "      <td>27000.0</td>\n",
       "      <td>38400.0</td>\n",
       "      <td>5</td>\n",
       "      <td>9500.0</td>\n",
       "      <td>14250.0</td>\n",
       "      <td>95</td>\n",
       "      <td>10</td>\n",
       "      <td>17500.0</td>\n",
       "      <td>24150.0</td>\n",
       "      <td>100</td>\n",
       "      <td>0</td>\n",
       "      <td>0.0</td>\n",
       "      <td>0.0</td>\n",
       "      <td>0</td>\n",
       "      <td>1.422222</td>\n",
       "    </tr>\n",
       "    <tr>\n",
       "      <th>19</th>\n",
       "      <td>19</td>\n",
       "      <td>27000</td>\n",
       "      <td>27000.0</td>\n",
       "      <td>38400.0</td>\n",
       "      <td>5</td>\n",
       "      <td>9500.0</td>\n",
       "      <td>14250.0</td>\n",
       "      <td>95</td>\n",
       "      <td>10</td>\n",
       "      <td>17500.0</td>\n",
       "      <td>24150.0</td>\n",
       "      <td>100</td>\n",
       "      <td>0</td>\n",
       "      <td>0.0</td>\n",
       "      <td>0.0</td>\n",
       "      <td>0</td>\n",
       "      <td>1.422222</td>\n",
       "    </tr>\n",
       "    <tr>\n",
       "      <th>20</th>\n",
       "      <td>20</td>\n",
       "      <td>27000</td>\n",
       "      <td>27000.0</td>\n",
       "      <td>38400.0</td>\n",
       "      <td>5</td>\n",
       "      <td>9500.0</td>\n",
       "      <td>14250.0</td>\n",
       "      <td>95</td>\n",
       "      <td>10</td>\n",
       "      <td>17500.0</td>\n",
       "      <td>24150.0</td>\n",
       "      <td>100</td>\n",
       "      <td>0</td>\n",
       "      <td>0.0</td>\n",
       "      <td>0.0</td>\n",
       "      <td>0</td>\n",
       "      <td>1.422222</td>\n",
       "    </tr>\n",
       "    <tr>\n",
       "      <th>21</th>\n",
       "      <td>21</td>\n",
       "      <td>27000</td>\n",
       "      <td>27000.0</td>\n",
       "      <td>38400.0</td>\n",
       "      <td>5</td>\n",
       "      <td>9500.0</td>\n",
       "      <td>14250.0</td>\n",
       "      <td>95</td>\n",
       "      <td>10</td>\n",
       "      <td>17500.0</td>\n",
       "      <td>24150.0</td>\n",
       "      <td>100</td>\n",
       "      <td>0</td>\n",
       "      <td>0.0</td>\n",
       "      <td>0.0</td>\n",
       "      <td>0</td>\n",
       "      <td>1.422222</td>\n",
       "    </tr>\n",
       "    <tr>\n",
       "      <th>22</th>\n",
       "      <td>22</td>\n",
       "      <td>27000</td>\n",
       "      <td>27000.0</td>\n",
       "      <td>38400.0</td>\n",
       "      <td>5</td>\n",
       "      <td>9500.0</td>\n",
       "      <td>14250.0</td>\n",
       "      <td>95</td>\n",
       "      <td>10</td>\n",
       "      <td>17500.0</td>\n",
       "      <td>24150.0</td>\n",
       "      <td>100</td>\n",
       "      <td>0</td>\n",
       "      <td>0.0</td>\n",
       "      <td>0.0</td>\n",
       "      <td>0</td>\n",
       "      <td>1.422222</td>\n",
       "    </tr>\n",
       "    <tr>\n",
       "      <th>23</th>\n",
       "      <td>23</td>\n",
       "      <td>27000</td>\n",
       "      <td>27000.0</td>\n",
       "      <td>38400.0</td>\n",
       "      <td>5</td>\n",
       "      <td>9500.0</td>\n",
       "      <td>14250.0</td>\n",
       "      <td>95</td>\n",
       "      <td>10</td>\n",
       "      <td>17500.0</td>\n",
       "      <td>24150.0</td>\n",
       "      <td>100</td>\n",
       "      <td>0</td>\n",
       "      <td>0.0</td>\n",
       "      <td>0.0</td>\n",
       "      <td>0</td>\n",
       "      <td>1.422222</td>\n",
       "    </tr>\n",
       "  </tbody>\n",
       "</table>\n",
       "</div>"
      ],
      "text/plain": [
       "     h  Consommation (MW)  Production total  Coût total  Nb centrale A  \\\n",
       "0    0              15000           15000.0     21660.0              4   \n",
       "1    1              15000           15000.0     21660.0              4   \n",
       "2    2              15000           15000.0     21660.0              4   \n",
       "3    3              15000           15000.0     21660.0              4   \n",
       "4    4              15000           15000.0     21660.0              4   \n",
       "5    5              15000           15000.0     21660.0              4   \n",
       "6    6              30000           30000.0     43320.0              8   \n",
       "7    7              30000           30000.0     43320.0              8   \n",
       "8    8              30000           30000.0     43320.0              8   \n",
       "9    9              25000           25000.0     35400.0              4   \n",
       "10  10              25000           25000.0     35400.0              4   \n",
       "11  11              25000           25000.0     35400.0              4   \n",
       "12  12              25000           25000.0     35400.0              4   \n",
       "13  13              25000           25000.0     35400.0              4   \n",
       "14  14              25000           25000.0     35400.0              4   \n",
       "15  15              40000           40000.0     57900.0             12   \n",
       "16  16              40000           40000.0     57900.0             12   \n",
       "17  17              40000           40000.0     57900.0             12   \n",
       "18  18              27000           27000.0     38400.0              5   \n",
       "19  19              27000           27000.0     38400.0              5   \n",
       "20  20              27000           27000.0     38400.0              5   \n",
       "21  21              27000           27000.0     38400.0              5   \n",
       "22  22              27000           27000.0     38400.0              5   \n",
       "23  23              27000           27000.0     38400.0              5   \n",
       "\n",
       "    Puissance tot A   Coût A  Facteur de chargeA  Nb centrale B  \\\n",
       "0            8000.0  12000.0                 100              4   \n",
       "1            8000.0  12000.0                 100              4   \n",
       "2            8000.0  12000.0                 100              4   \n",
       "3            8000.0  12000.0                 100              4   \n",
       "4            8000.0  12000.0                 100              4   \n",
       "5            8000.0  12000.0                 100              4   \n",
       "6           16000.0  24000.0                 100              8   \n",
       "7           16000.0  24000.0                 100              8   \n",
       "8           16000.0  24000.0                 100              8   \n",
       "9            7500.0  11250.0                  93             10   \n",
       "10           7500.0  11250.0                  93             10   \n",
       "11           7500.0  11250.0                  93             10   \n",
       "12           7500.0  11250.0                  93             10   \n",
       "13           7500.0  11250.0                  93             10   \n",
       "14           7500.0  11250.0                  93             10   \n",
       "15          22500.0  33750.0                  93             10   \n",
       "16          22500.0  33750.0                  93             10   \n",
       "17          22500.0  33750.0                  93             10   \n",
       "18           9500.0  14250.0                  95             10   \n",
       "19           9500.0  14250.0                  95             10   \n",
       "20           9500.0  14250.0                  95             10   \n",
       "21           9500.0  14250.0                  95             10   \n",
       "22           9500.0  14250.0                  95             10   \n",
       "23           9500.0  14250.0                  95             10   \n",
       "\n",
       "    Puissance tot B   Coût B  Facteur de chargeB  Nb centrale C  \\\n",
       "0            7000.0   9660.0                 100              0   \n",
       "1            7000.0   9660.0                 100              0   \n",
       "2            7000.0   9660.0                 100              0   \n",
       "3            7000.0   9660.0                 100              0   \n",
       "4            7000.0   9660.0                 100              0   \n",
       "5            7000.0   9660.0                 100              0   \n",
       "6           14000.0  19320.0                 100              0   \n",
       "7           14000.0  19320.0                 100              0   \n",
       "8           14000.0  19320.0                 100              0   \n",
       "9           17500.0  24150.0                 100              0   \n",
       "10          17500.0  24150.0                 100              0   \n",
       "11          17500.0  24150.0                 100              0   \n",
       "12          17500.0  24150.0                 100              0   \n",
       "13          17500.0  24150.0                 100              0   \n",
       "14          17500.0  24150.0                 100              0   \n",
       "15          17500.0  24150.0                 100              0   \n",
       "16          17500.0  24150.0                 100              0   \n",
       "17          17500.0  24150.0                 100              0   \n",
       "18          17500.0  24150.0                 100              0   \n",
       "19          17500.0  24150.0                 100              0   \n",
       "20          17500.0  24150.0                 100              0   \n",
       "21          17500.0  24150.0                 100              0   \n",
       "22          17500.0  24150.0                 100              0   \n",
       "23          17500.0  24150.0                 100              0   \n",
       "\n",
       "    Puissance tot C  Coût C  Facteur de chargeC  Coût MWh  \n",
       "0               0.0     0.0                   0  1.444000  \n",
       "1               0.0     0.0                   0  1.444000  \n",
       "2               0.0     0.0                   0  1.444000  \n",
       "3               0.0     0.0                   0  1.444000  \n",
       "4               0.0     0.0                   0  1.444000  \n",
       "5               0.0     0.0                   0  1.444000  \n",
       "6               0.0     0.0                   0  1.444000  \n",
       "7               0.0     0.0                   0  1.444000  \n",
       "8               0.0     0.0                   0  1.444000  \n",
       "9               0.0     0.0                   0  1.416000  \n",
       "10              0.0     0.0                   0  1.416000  \n",
       "11              0.0     0.0                   0  1.416000  \n",
       "12              0.0     0.0                   0  1.416000  \n",
       "13              0.0     0.0                   0  1.416000  \n",
       "14              0.0     0.0                   0  1.416000  \n",
       "15              0.0     0.0                   0  1.447500  \n",
       "16              0.0     0.0                   0  1.447500  \n",
       "17              0.0     0.0                   0  1.447500  \n",
       "18              0.0     0.0                   0  1.422222  \n",
       "19              0.0     0.0                   0  1.422222  \n",
       "20              0.0     0.0                   0  1.422222  \n",
       "21              0.0     0.0                   0  1.422222  \n",
       "22              0.0     0.0                   0  1.422222  \n",
       "23              0.0     0.0                   0  1.422222  "
      ]
     },
     "execution_count": 73,
     "metadata": {},
     "output_type": "execute_result"
    }
   ],
   "source": [
    "def df_results(dict_N,dict_P,dict_XX):\n",
    "    df = pd.DataFrame()\n",
    "    df[\"h\"] = range(24) \n",
    "    df[\"Consommation (MW)\"] = consommation\n",
    "    df[\"Production total\"] = 0\n",
    "    df[\"Coût total\"] = 0\n",
    "    for X in dict_XX:\n",
    "        df[f\"Nb centrale {X}\"] = [int(dict_N[X,t].X) for t in range(24)]\n",
    "        df[f\"Puissance tot {X}\"] = [dict_P[X,t].X for t in range(24)]\n",
    "        df[f\"Coût {X}\"] = [dict_P[X,t].X * dict_XX[X].Cmwh for t in range(24)]\n",
    "        df[f\"Facteur de charge{X}\"] = [int(division(dict_P[X,t].X ,dict_N[X,t].X * dict_11[X].Pmax)*100) for t in range(24)]\n",
    "        df[\"Production total\"] += df[f\"Puissance tot {X}\"]\n",
    "        df[\"Coût total\"] += df[f\"Coût {X}\"]\n",
    "    df[\"Coût MWh\"] = df[\"Coût total\"]/df[\"Production total\"]\n",
    "    return df\n",
    "df = df_results(dict_N,dict_P,dict_11)\n",
    "df"
   ]
  },
  {
   "cell_type": "code",
   "execution_count": 47,
   "metadata": {},
   "outputs": [
    {
     "data": {
      "application/vnd.plotly.v1+json": {
       "config": {
        "plotlyServerURL": "https://plot.ly"
       },
       "data": [
        {
         "fill": "tonexty",
         "name": "Production A",
         "type": "scatter",
         "x": [
          0,
          1,
          2,
          3,
          4,
          5,
          6,
          7,
          8,
          9,
          10,
          11,
          12,
          13,
          14,
          15,
          16,
          17,
          18,
          19,
          20,
          21,
          22,
          23
         ],
         "y": [
          8000,
          8000,
          8000,
          8000,
          8000,
          8000,
          16000,
          16000,
          16000,
          7500,
          7500,
          7500,
          7500,
          7500,
          7500,
          22500,
          22500,
          22500,
          9500,
          9500,
          9500,
          9500,
          9500,
          9500
         ]
        },
        {
         "fill": "tonexty",
         "name": "Production B",
         "type": "scatter",
         "x": [
          0,
          1,
          2,
          3,
          4,
          5,
          6,
          7,
          8,
          9,
          10,
          11,
          12,
          13,
          14,
          15,
          16,
          17,
          18,
          19,
          20,
          21,
          22,
          23
         ],
         "y": [
          15000,
          15000,
          15000,
          15000,
          15000,
          15000,
          30000,
          30000,
          30000,
          25000,
          25000,
          25000,
          25000,
          25000,
          25000,
          40000,
          40000,
          40000,
          27000,
          27000,
          27000,
          27000,
          27000,
          27000
         ]
        },
        {
         "fill": "tonexty",
         "name": "Production C",
         "type": "scatter",
         "x": [
          0,
          1,
          2,
          3,
          4,
          5,
          6,
          7,
          8,
          9,
          10,
          11,
          12,
          13,
          14,
          15,
          16,
          17,
          18,
          19,
          20,
          21,
          22,
          23
         ],
         "y": [
          15000,
          15000,
          15000,
          15000,
          15000,
          15000,
          30000,
          30000,
          30000,
          25000,
          25000,
          25000,
          25000,
          25000,
          25000,
          40000,
          40000,
          40000,
          27000,
          27000,
          27000,
          27000,
          27000,
          27000
         ]
        },
        {
         "line": {
          "color": "red",
          "dash": "dash"
         },
         "name": "Production total",
         "type": "scatter",
         "x": [
          0,
          1,
          2,
          3,
          4,
          5,
          6,
          7,
          8,
          9,
          10,
          11,
          12,
          13,
          14,
          15,
          16,
          17,
          18,
          19,
          20,
          21,
          22,
          23
         ],
         "y": [
          15000,
          15000,
          15000,
          15000,
          15000,
          15000,
          30000,
          30000,
          30000,
          25000,
          25000,
          25000,
          25000,
          25000,
          25000,
          40000,
          40000,
          40000,
          27000,
          27000,
          27000,
          27000,
          27000,
          27000
         ]
        },
        {
         "line": {
          "color": "black"
         },
         "name": "Coût MWh",
         "type": "scatter",
         "x": [
          0,
          1,
          2,
          3,
          4,
          5,
          6,
          7,
          8,
          9,
          10,
          11,
          12,
          13,
          14,
          15,
          16,
          17,
          18,
          19,
          20,
          21,
          22,
          23
         ],
         "y": [
          1.444,
          1.444,
          1.444,
          1.444,
          1.444,
          1.444,
          1.444,
          1.444,
          1.444,
          1.416,
          1.416,
          1.416,
          1.416,
          1.416,
          1.416,
          1.4475,
          1.4475,
          1.4475,
          1.4222222222222223,
          1.4222222222222223,
          1.4222222222222223,
          1.4222222222222223,
          1.4222222222222223,
          1.4222222222222223
         ],
         "yaxis": "y2"
        }
       ],
       "layout": {
        "hovermode": "x",
        "template": {
         "data": {
          "bar": [
           {
            "error_x": {
             "color": "#2a3f5f"
            },
            "error_y": {
             "color": "#2a3f5f"
            },
            "marker": {
             "line": {
              "color": "#E5ECF6",
              "width": 0.5
             },
             "pattern": {
              "fillmode": "overlay",
              "size": 10,
              "solidity": 0.2
             }
            },
            "type": "bar"
           }
          ],
          "barpolar": [
           {
            "marker": {
             "line": {
              "color": "#E5ECF6",
              "width": 0.5
             },
             "pattern": {
              "fillmode": "overlay",
              "size": 10,
              "solidity": 0.2
             }
            },
            "type": "barpolar"
           }
          ],
          "carpet": [
           {
            "aaxis": {
             "endlinecolor": "#2a3f5f",
             "gridcolor": "white",
             "linecolor": "white",
             "minorgridcolor": "white",
             "startlinecolor": "#2a3f5f"
            },
            "baxis": {
             "endlinecolor": "#2a3f5f",
             "gridcolor": "white",
             "linecolor": "white",
             "minorgridcolor": "white",
             "startlinecolor": "#2a3f5f"
            },
            "type": "carpet"
           }
          ],
          "choropleth": [
           {
            "colorbar": {
             "outlinewidth": 0,
             "ticks": ""
            },
            "type": "choropleth"
           }
          ],
          "contour": [
           {
            "colorbar": {
             "outlinewidth": 0,
             "ticks": ""
            },
            "colorscale": [
             [
              0,
              "#0d0887"
             ],
             [
              0.1111111111111111,
              "#46039f"
             ],
             [
              0.2222222222222222,
              "#7201a8"
             ],
             [
              0.3333333333333333,
              "#9c179e"
             ],
             [
              0.4444444444444444,
              "#bd3786"
             ],
             [
              0.5555555555555556,
              "#d8576b"
             ],
             [
              0.6666666666666666,
              "#ed7953"
             ],
             [
              0.7777777777777778,
              "#fb9f3a"
             ],
             [
              0.8888888888888888,
              "#fdca26"
             ],
             [
              1,
              "#f0f921"
             ]
            ],
            "type": "contour"
           }
          ],
          "contourcarpet": [
           {
            "colorbar": {
             "outlinewidth": 0,
             "ticks": ""
            },
            "type": "contourcarpet"
           }
          ],
          "heatmap": [
           {
            "colorbar": {
             "outlinewidth": 0,
             "ticks": ""
            },
            "colorscale": [
             [
              0,
              "#0d0887"
             ],
             [
              0.1111111111111111,
              "#46039f"
             ],
             [
              0.2222222222222222,
              "#7201a8"
             ],
             [
              0.3333333333333333,
              "#9c179e"
             ],
             [
              0.4444444444444444,
              "#bd3786"
             ],
             [
              0.5555555555555556,
              "#d8576b"
             ],
             [
              0.6666666666666666,
              "#ed7953"
             ],
             [
              0.7777777777777778,
              "#fb9f3a"
             ],
             [
              0.8888888888888888,
              "#fdca26"
             ],
             [
              1,
              "#f0f921"
             ]
            ],
            "type": "heatmap"
           }
          ],
          "heatmapgl": [
           {
            "colorbar": {
             "outlinewidth": 0,
             "ticks": ""
            },
            "colorscale": [
             [
              0,
              "#0d0887"
             ],
             [
              0.1111111111111111,
              "#46039f"
             ],
             [
              0.2222222222222222,
              "#7201a8"
             ],
             [
              0.3333333333333333,
              "#9c179e"
             ],
             [
              0.4444444444444444,
              "#bd3786"
             ],
             [
              0.5555555555555556,
              "#d8576b"
             ],
             [
              0.6666666666666666,
              "#ed7953"
             ],
             [
              0.7777777777777778,
              "#fb9f3a"
             ],
             [
              0.8888888888888888,
              "#fdca26"
             ],
             [
              1,
              "#f0f921"
             ]
            ],
            "type": "heatmapgl"
           }
          ],
          "histogram": [
           {
            "marker": {
             "pattern": {
              "fillmode": "overlay",
              "size": 10,
              "solidity": 0.2
             }
            },
            "type": "histogram"
           }
          ],
          "histogram2d": [
           {
            "colorbar": {
             "outlinewidth": 0,
             "ticks": ""
            },
            "colorscale": [
             [
              0,
              "#0d0887"
             ],
             [
              0.1111111111111111,
              "#46039f"
             ],
             [
              0.2222222222222222,
              "#7201a8"
             ],
             [
              0.3333333333333333,
              "#9c179e"
             ],
             [
              0.4444444444444444,
              "#bd3786"
             ],
             [
              0.5555555555555556,
              "#d8576b"
             ],
             [
              0.6666666666666666,
              "#ed7953"
             ],
             [
              0.7777777777777778,
              "#fb9f3a"
             ],
             [
              0.8888888888888888,
              "#fdca26"
             ],
             [
              1,
              "#f0f921"
             ]
            ],
            "type": "histogram2d"
           }
          ],
          "histogram2dcontour": [
           {
            "colorbar": {
             "outlinewidth": 0,
             "ticks": ""
            },
            "colorscale": [
             [
              0,
              "#0d0887"
             ],
             [
              0.1111111111111111,
              "#46039f"
             ],
             [
              0.2222222222222222,
              "#7201a8"
             ],
             [
              0.3333333333333333,
              "#9c179e"
             ],
             [
              0.4444444444444444,
              "#bd3786"
             ],
             [
              0.5555555555555556,
              "#d8576b"
             ],
             [
              0.6666666666666666,
              "#ed7953"
             ],
             [
              0.7777777777777778,
              "#fb9f3a"
             ],
             [
              0.8888888888888888,
              "#fdca26"
             ],
             [
              1,
              "#f0f921"
             ]
            ],
            "type": "histogram2dcontour"
           }
          ],
          "mesh3d": [
           {
            "colorbar": {
             "outlinewidth": 0,
             "ticks": ""
            },
            "type": "mesh3d"
           }
          ],
          "parcoords": [
           {
            "line": {
             "colorbar": {
              "outlinewidth": 0,
              "ticks": ""
             }
            },
            "type": "parcoords"
           }
          ],
          "pie": [
           {
            "automargin": true,
            "type": "pie"
           }
          ],
          "scatter": [
           {
            "fillpattern": {
             "fillmode": "overlay",
             "size": 10,
             "solidity": 0.2
            },
            "type": "scatter"
           }
          ],
          "scatter3d": [
           {
            "line": {
             "colorbar": {
              "outlinewidth": 0,
              "ticks": ""
             }
            },
            "marker": {
             "colorbar": {
              "outlinewidth": 0,
              "ticks": ""
             }
            },
            "type": "scatter3d"
           }
          ],
          "scattercarpet": [
           {
            "marker": {
             "colorbar": {
              "outlinewidth": 0,
              "ticks": ""
             }
            },
            "type": "scattercarpet"
           }
          ],
          "scattergeo": [
           {
            "marker": {
             "colorbar": {
              "outlinewidth": 0,
              "ticks": ""
             }
            },
            "type": "scattergeo"
           }
          ],
          "scattergl": [
           {
            "marker": {
             "colorbar": {
              "outlinewidth": 0,
              "ticks": ""
             }
            },
            "type": "scattergl"
           }
          ],
          "scattermapbox": [
           {
            "marker": {
             "colorbar": {
              "outlinewidth": 0,
              "ticks": ""
             }
            },
            "type": "scattermapbox"
           }
          ],
          "scatterpolar": [
           {
            "marker": {
             "colorbar": {
              "outlinewidth": 0,
              "ticks": ""
             }
            },
            "type": "scatterpolar"
           }
          ],
          "scatterpolargl": [
           {
            "marker": {
             "colorbar": {
              "outlinewidth": 0,
              "ticks": ""
             }
            },
            "type": "scatterpolargl"
           }
          ],
          "scatterternary": [
           {
            "marker": {
             "colorbar": {
              "outlinewidth": 0,
              "ticks": ""
             }
            },
            "type": "scatterternary"
           }
          ],
          "surface": [
           {
            "colorbar": {
             "outlinewidth": 0,
             "ticks": ""
            },
            "colorscale": [
             [
              0,
              "#0d0887"
             ],
             [
              0.1111111111111111,
              "#46039f"
             ],
             [
              0.2222222222222222,
              "#7201a8"
             ],
             [
              0.3333333333333333,
              "#9c179e"
             ],
             [
              0.4444444444444444,
              "#bd3786"
             ],
             [
              0.5555555555555556,
              "#d8576b"
             ],
             [
              0.6666666666666666,
              "#ed7953"
             ],
             [
              0.7777777777777778,
              "#fb9f3a"
             ],
             [
              0.8888888888888888,
              "#fdca26"
             ],
             [
              1,
              "#f0f921"
             ]
            ],
            "type": "surface"
           }
          ],
          "table": [
           {
            "cells": {
             "fill": {
              "color": "#EBF0F8"
             },
             "line": {
              "color": "white"
             }
            },
            "header": {
             "fill": {
              "color": "#C8D4E3"
             },
             "line": {
              "color": "white"
             }
            },
            "type": "table"
           }
          ]
         },
         "layout": {
          "annotationdefaults": {
           "arrowcolor": "#2a3f5f",
           "arrowhead": 0,
           "arrowwidth": 1
          },
          "autotypenumbers": "strict",
          "coloraxis": {
           "colorbar": {
            "outlinewidth": 0,
            "ticks": ""
           }
          },
          "colorscale": {
           "diverging": [
            [
             0,
             "#8e0152"
            ],
            [
             0.1,
             "#c51b7d"
            ],
            [
             0.2,
             "#de77ae"
            ],
            [
             0.3,
             "#f1b6da"
            ],
            [
             0.4,
             "#fde0ef"
            ],
            [
             0.5,
             "#f7f7f7"
            ],
            [
             0.6,
             "#e6f5d0"
            ],
            [
             0.7,
             "#b8e186"
            ],
            [
             0.8,
             "#7fbc41"
            ],
            [
             0.9,
             "#4d9221"
            ],
            [
             1,
             "#276419"
            ]
           ],
           "sequential": [
            [
             0,
             "#0d0887"
            ],
            [
             0.1111111111111111,
             "#46039f"
            ],
            [
             0.2222222222222222,
             "#7201a8"
            ],
            [
             0.3333333333333333,
             "#9c179e"
            ],
            [
             0.4444444444444444,
             "#bd3786"
            ],
            [
             0.5555555555555556,
             "#d8576b"
            ],
            [
             0.6666666666666666,
             "#ed7953"
            ],
            [
             0.7777777777777778,
             "#fb9f3a"
            ],
            [
             0.8888888888888888,
             "#fdca26"
            ],
            [
             1,
             "#f0f921"
            ]
           ],
           "sequentialminus": [
            [
             0,
             "#0d0887"
            ],
            [
             0.1111111111111111,
             "#46039f"
            ],
            [
             0.2222222222222222,
             "#7201a8"
            ],
            [
             0.3333333333333333,
             "#9c179e"
            ],
            [
             0.4444444444444444,
             "#bd3786"
            ],
            [
             0.5555555555555556,
             "#d8576b"
            ],
            [
             0.6666666666666666,
             "#ed7953"
            ],
            [
             0.7777777777777778,
             "#fb9f3a"
            ],
            [
             0.8888888888888888,
             "#fdca26"
            ],
            [
             1,
             "#f0f921"
            ]
           ]
          },
          "colorway": [
           "#636efa",
           "#EF553B",
           "#00cc96",
           "#ab63fa",
           "#FFA15A",
           "#19d3f3",
           "#FF6692",
           "#B6E880",
           "#FF97FF",
           "#FECB52"
          ],
          "font": {
           "color": "#2a3f5f"
          },
          "geo": {
           "bgcolor": "white",
           "lakecolor": "white",
           "landcolor": "#E5ECF6",
           "showlakes": true,
           "showland": true,
           "subunitcolor": "white"
          },
          "hoverlabel": {
           "align": "left"
          },
          "hovermode": "closest",
          "mapbox": {
           "style": "light"
          },
          "paper_bgcolor": "white",
          "plot_bgcolor": "#E5ECF6",
          "polar": {
           "angularaxis": {
            "gridcolor": "white",
            "linecolor": "white",
            "ticks": ""
           },
           "bgcolor": "#E5ECF6",
           "radialaxis": {
            "gridcolor": "white",
            "linecolor": "white",
            "ticks": ""
           }
          },
          "scene": {
           "xaxis": {
            "backgroundcolor": "#E5ECF6",
            "gridcolor": "white",
            "gridwidth": 2,
            "linecolor": "white",
            "showbackground": true,
            "ticks": "",
            "zerolinecolor": "white"
           },
           "yaxis": {
            "backgroundcolor": "#E5ECF6",
            "gridcolor": "white",
            "gridwidth": 2,
            "linecolor": "white",
            "showbackground": true,
            "ticks": "",
            "zerolinecolor": "white"
           },
           "zaxis": {
            "backgroundcolor": "#E5ECF6",
            "gridcolor": "white",
            "gridwidth": 2,
            "linecolor": "white",
            "showbackground": true,
            "ticks": "",
            "zerolinecolor": "white"
           }
          },
          "shapedefaults": {
           "line": {
            "color": "#2a3f5f"
           }
          },
          "ternary": {
           "aaxis": {
            "gridcolor": "white",
            "linecolor": "white",
            "ticks": ""
           },
           "baxis": {
            "gridcolor": "white",
            "linecolor": "white",
            "ticks": ""
           },
           "bgcolor": "#E5ECF6",
           "caxis": {
            "gridcolor": "white",
            "linecolor": "white",
            "ticks": ""
           }
          },
          "title": {
           "x": 0.05
          },
          "xaxis": {
           "automargin": true,
           "gridcolor": "white",
           "linecolor": "white",
           "ticks": "",
           "title": {
            "standoff": 15
           },
           "zerolinecolor": "white",
           "zerolinewidth": 2
          },
          "yaxis": {
           "automargin": true,
           "gridcolor": "white",
           "linecolor": "white",
           "ticks": "",
           "title": {
            "standoff": 15
           },
           "zerolinecolor": "white",
           "zerolinewidth": 2
          }
         }
        },
        "title": {
         "text": "Répartition de la production électrique dans la journée"
        },
        "yaxis": {
         "range": [
          0,
          44000
         ],
         "title": {
          "text": "MW"
         }
        },
        "yaxis2": {
         "anchor": "free",
         "overlaying": "y",
         "position": 1,
         "range": [
          1.3452,
          1.5922500000000002
         ],
         "side": "right",
         "title": {
          "text": "€/MWh"
         }
        }
       }
      }
     },
     "metadata": {},
     "output_type": "display_data"
    }
   ],
   "source": [
    "from turtle import color\n",
    "import plotly.graph_objects as go\n",
    "\n",
    "fig = go.Figure()\n",
    "\n",
    "Y = df[\"Consommation (MW)\"].copy()*0\n",
    "for X in dict_11:\n",
    "    Y += df[f\"Puissance tot {X}\"]\n",
    "    fig.add_trace(\n",
    "        go.Scatter(\n",
    "        x=df[\"h\"], \n",
    "        y=Y, \n",
    "        fill='tonexty',\n",
    "        name = f\"Production {X}\"\n",
    "        )\n",
    "    )\n",
    "\n",
    "# fig.add_trace(\n",
    "#     go.Scatter(\n",
    "#         x = df[\"h\"],\n",
    "#         y = df[\"Consommation (MW)\"],\n",
    "#         name = \"Consommation\"\n",
    "#     )\n",
    "# )\n",
    "fig.add_trace(\n",
    "    go.Scatter(\n",
    "        x = df[\"h\"],\n",
    "        y = df[\"Production total\"],\n",
    "        name=\"Production total\",\n",
    "        line = dict(dash='dash',color=\"red\")\n",
    "    )\n",
    ")\n",
    "fig.add_trace(\n",
    "    go.Scatter(\n",
    "        x=df[\"h\"],\n",
    "        y=df[\"Coût MWh\"],\n",
    "        yaxis=\"y2\",\n",
    "        name=\"Coût MWh\",\n",
    "        line_color=\"black\"\n",
    "    )\n",
    ")\n",
    "\n",
    "fig.update_layout(\n",
    "    hovermode='x',\n",
    "    yaxis=dict(title=\"MW\" ,range=[0,df[\"Consommation (MW)\"].max()*1.1]),\n",
    "    yaxis2=dict(title=\"€/MWh\",\n",
    "    range=[df[\"Coût MWh\"].min()*0.95,df[\"Coût MWh\"].max()*1.1],\n",
    "    anchor=\"free\",\n",
    "    overlaying=\"y\",\n",
    "    side=\"right\",\n",
    "    position=1\n",
    "    ),\n",
    "    title = \"Répartition de la production électrique dans la journée\"\n",
    ")\n",
    "fig\n",
    "fig.show()"
   ]
  },
  {
   "cell_type": "code",
   "execution_count": 29,
   "metadata": {},
   "outputs": [
    {
     "name": "stdout",
     "output_type": "stream",
     "text": [
      "Gurobi Optimizer version 9.5.2 build v9.5.2rc0 (win64)\n",
      "Thread count: 4 physical cores, 8 logical processors, using up to 8 threads\n",
      "Optimize a model with 168 rows, 144 columns and 360 nonzeros\n",
      "Model fingerprint: 0x48de0531\n",
      "Coefficient statistics:\n",
      "  Matrix range     [1e+00, 4e+03]\n",
      "  Objective range  [1e+00, 3e+00]\n",
      "  Bounds range     [5e+00, 1e+01]\n",
      "  RHS range        [2e+04, 4e+04]\n",
      "Presolve removed 153 rows and 99 columns\n",
      "Presolve time: 0.01s\n",
      "Presolved: 15 rows, 45 columns, 45 nonzeros\n",
      "\n",
      "Iteration    Objective       Primal Inf.    Dual Inf.      Time\n",
      "       0    8.5266000e+05   1.743750e+04   0.000000e+00      0s\n",
      "      15    8.6940000e+05   0.000000e+00   0.000000e+00      0s\n",
      "\n",
      "Solved in 15 iterations and 0.01 seconds (0.00 work units)\n",
      "Optimal objective  8.694000000e+05\n"
     ]
    }
   ],
   "source": [
    "model_relax = model.relax()\n",
    "model_relax.optimize()"
   ]
  },
  {
   "cell_type": "code",
   "execution_count": 30,
   "metadata": {},
   "outputs": [
    {
     "name": "stdout",
     "output_type": "stream",
     "text": [
      "Coût : 869400.0\n"
     ]
    }
   ],
   "source": [
    "print(f\"Coût : {model_relax.ObjVal}\")"
   ]
  },
  {
   "cell_type": "markdown",
   "metadata": {},
   "source": [
    "## 2 Coût d'opération\n",
    "\n",
    "### 2.1 Coût de fonctionnement\n",
    "\n",
    "Pour ce problème on modifie la fonction objectif.<br>\n",
    "Objectif :\n",
    "$$\n",
    "\\text{Minimiser} \\sum_X \\sum_T (P_t^{(X)} - P_{min}^{(X)}N_t^{(X)}) C_{MWh}^{(X)} + N_t^{(X)}C_{base}^{(X)}\n",
    "$$"
   ]
  },
  {
   "cell_type": "code",
   "execution_count": 76,
   "metadata": {},
   "outputs": [],
   "source": [
    "class Centrale2:\n",
    "    def __init__(self, name, N, Pmin, Pmax, Cstart, Cbase, Cmwh):\n",
    "        self.name = name\n",
    "        self.N = N\n",
    "        self.Pmin = Pmin\n",
    "        self.Pmax = Pmax\n",
    "        self.Cstart = Cstart\n",
    "        self.Cbase = Cbase\n",
    "        self.Cmwh = Cmwh"
   ]
  },
  {
   "cell_type": "code",
   "execution_count": 77,
   "metadata": {},
   "outputs": [],
   "source": [
    "dict_2 = {}\n",
    "dict_2[\"A\"] = Centrale2(\n",
    "    name=\"A\",\n",
    "    N=12,\n",
    "    Pmax=2000,\n",
    "    Pmin=850,\n",
    "    Cmwh=2,\n",
    "    Cstart=2000,\n",
    "    Cbase=1000\n",
    ")\n",
    "dict_2[\"B\"] = Centrale2(\n",
    "    name=\"B\",\n",
    "    N=10,\n",
    "    Pmax=1750,\n",
    "    Pmin=1250,\n",
    "    Cmwh=1.3,\n",
    "    Cstart=1000,\n",
    "    Cbase=2600\n",
    ")\n",
    "dict_2[\"C\"] = Centrale2(\n",
    "    name=\"C\",\n",
    "    N=5,\n",
    "    Pmax=4000,\n",
    "    Pmin=1500,\n",
    "    Cmwh=3,\n",
    "    Cstart=500,\n",
    "    Cbase=3000\n",
    ")"
   ]
  },
  {
   "cell_type": "code",
   "execution_count": 78,
   "metadata": {},
   "outputs": [
    {
     "name": "stdout",
     "output_type": "stream",
     "text": [
      "Gurobi Optimizer version 9.5.2 build v9.5.2rc0 (win64)\n",
      "Thread count: 4 physical cores, 8 logical processors, using up to 8 threads\n",
      "Optimize a model with 168 rows, 144 columns and 360 nonzeros\n",
      "Model fingerprint: 0x05c3801a\n",
      "Variable types: 72 continuous, 72 integer (0 binary)\n",
      "Coefficient statistics:\n",
      "  Matrix range     [1e+00, 4e+03]\n",
      "  Objective range  [1e+00, 2e+03]\n",
      "  Bounds range     [5e+00, 1e+01]\n",
      "  RHS range        [2e+04, 4e+04]\n",
      "Found heuristic solution: objective 1626950.0000\n",
      "Presolve removed 162 rows and 139 columns\n",
      "Presolve time: 0.03s\n",
      "Presolved: 6 rows, 5 columns, 14 nonzeros\n",
      "Found heuristic solution: objective 1282700.0000\n",
      "Variable types: 2 continuous, 3 integer (0 binary)\n",
      "\n",
      "Root relaxation: objective 1.269413e+06, 1 iterations, 0.00 seconds (0.00 work units)\n",
      "\n",
      "    Nodes    |    Current Node    |     Objective Bounds      |     Work\n",
      " Expl Unexpl |  Obj  Depth IntInf | Incumbent    BestBd   Gap | It/Node Time\n",
      "\n",
      "     0     0 1269412.50    0    1 1282700.00 1269412.50  1.04%     -    0s\n",
      "H    0     0                    1269450.0000 1269412.50  0.00%     -    0s\n",
      "\n",
      "Explored 1 nodes (1 simplex iterations) in 0.05 seconds (0.00 work units)\n",
      "Thread count was 8 (of 8 available processors)\n",
      "\n",
      "Solution count 3: 1.26945e+06 1.2827e+06 1.62695e+06 \n",
      "\n",
      "Optimal solution found (tolerance 1.00e-04)\n",
      "Best objective 1.269450000000e+06, best bound 1.269412500000e+06, gap 0.0030%\n"
     ]
    }
   ],
   "source": [
    "model = gp.Model(name=\"2.2\")\n",
    "\n",
    "dict_N = {}\n",
    "dict_P = {}\n",
    "\n",
    "for t in range(24):\n",
    "    for X in dict_2:\n",
    "        dict_N[X,t] = model.addVar(lb=0,ub=dict_2[X].N,vtype=gp.GRB.INTEGER,name=f\"Nombre de centrale {X} allumées à {t}h\")\n",
    "    for X in dict_2:\n",
    "        dict_P[X,t] = model.addVar(name=f\"Puissance supplémentaire {X} à {t}h\",vtype=gp.GRB.CONTINUOUS)\n",
    "\n",
    "model.setObjective(gp.quicksum([dict_N[element[0],element[1]] * (dict_2[element[0]].Cbase - dict_2[element[0]].Pmin) + dict_P[element[0],element[1]] * dict_2[element[0]].Cmwh for element in product(dict_2,range(24))]), gp.GRB.MINIMIZE)\n",
    "\n",
    "for t in range(24):\n",
    "    for X in dict_11:\n",
    "        model.addConstr(dict_P[X,t]<=dict_N[X,t] * dict_2[X].Pmax, name=f\"borne sup puissance, {X} à {t}h\")\n",
    "        model.addConstr(dict_P[X,t]>=dict_N[X,t] * dict_2[X].Pmin, name=f\"borne inf puissance, {X} à {t}h\")\n",
    "    model.addConstr(gp.quicksum([dict_P[X,t] for X in dict_2])==consommation[t])\n",
    "    # model.addConstr(gp.quicksum([dict_P[X,t] for X in dict_11])==consommation[t])\n",
    "model.optimize()"
   ]
  },
  {
   "cell_type": "code",
   "execution_count": 59,
   "metadata": {},
   "outputs": [
    {
     "name": "stdout",
     "output_type": "stream",
     "text": [
      "Coût : 1269450.0\n"
     ]
    }
   ],
   "source": [
    "print(f\"Coût : {model.ObjVal}\")"
   ]
  },
  {
   "cell_type": "code",
   "execution_count": 53,
   "metadata": {},
   "outputs": [
    {
     "data": {
      "text/html": [
       "<div>\n",
       "<style scoped>\n",
       "    .dataframe tbody tr th:only-of-type {\n",
       "        vertical-align: middle;\n",
       "    }\n",
       "\n",
       "    .dataframe tbody tr th {\n",
       "        vertical-align: top;\n",
       "    }\n",
       "\n",
       "    .dataframe thead th {\n",
       "        text-align: right;\n",
       "    }\n",
       "</style>\n",
       "<table border=\"1\" class=\"dataframe\">\n",
       "  <thead>\n",
       "    <tr style=\"text-align: right;\">\n",
       "      <th></th>\n",
       "      <th>h</th>\n",
       "      <th>Consommation (MW)</th>\n",
       "      <th>Production total</th>\n",
       "      <th>Coût total</th>\n",
       "      <th>Nb centrale A</th>\n",
       "      <th>Puissance tot A</th>\n",
       "      <th>Coût A</th>\n",
       "      <th>Nb centrale B</th>\n",
       "      <th>Puissance tot B</th>\n",
       "      <th>Coût B</th>\n",
       "      <th>Nb centrale C</th>\n",
       "      <th>Puissance tot C</th>\n",
       "      <th>Coût C</th>\n",
       "      <th>Coût MWh</th>\n",
       "    </tr>\n",
       "  </thead>\n",
       "  <tbody>\n",
       "    <tr>\n",
       "      <th>0</th>\n",
       "      <td>0</td>\n",
       "      <td>15000</td>\n",
       "      <td>15000.0</td>\n",
       "      <td>26200.0</td>\n",
       "      <td>4</td>\n",
       "      <td>8000.0</td>\n",
       "      <td>13200.0</td>\n",
       "      <td>4</td>\n",
       "      <td>7000.0</td>\n",
       "      <td>13000.0</td>\n",
       "      <td>0</td>\n",
       "      <td>0.0</td>\n",
       "      <td>0.0</td>\n",
       "      <td>1.746667</td>\n",
       "    </tr>\n",
       "    <tr>\n",
       "      <th>1</th>\n",
       "      <td>1</td>\n",
       "      <td>15000</td>\n",
       "      <td>15000.0</td>\n",
       "      <td>26200.0</td>\n",
       "      <td>4</td>\n",
       "      <td>8000.0</td>\n",
       "      <td>13200.0</td>\n",
       "      <td>4</td>\n",
       "      <td>7000.0</td>\n",
       "      <td>13000.0</td>\n",
       "      <td>0</td>\n",
       "      <td>0.0</td>\n",
       "      <td>0.0</td>\n",
       "      <td>1.746667</td>\n",
       "    </tr>\n",
       "    <tr>\n",
       "      <th>2</th>\n",
       "      <td>2</td>\n",
       "      <td>15000</td>\n",
       "      <td>15000.0</td>\n",
       "      <td>26200.0</td>\n",
       "      <td>4</td>\n",
       "      <td>8000.0</td>\n",
       "      <td>13200.0</td>\n",
       "      <td>4</td>\n",
       "      <td>7000.0</td>\n",
       "      <td>13000.0</td>\n",
       "      <td>0</td>\n",
       "      <td>0.0</td>\n",
       "      <td>0.0</td>\n",
       "      <td>1.746667</td>\n",
       "    </tr>\n",
       "    <tr>\n",
       "      <th>3</th>\n",
       "      <td>3</td>\n",
       "      <td>15000</td>\n",
       "      <td>15000.0</td>\n",
       "      <td>26200.0</td>\n",
       "      <td>4</td>\n",
       "      <td>8000.0</td>\n",
       "      <td>13200.0</td>\n",
       "      <td>4</td>\n",
       "      <td>7000.0</td>\n",
       "      <td>13000.0</td>\n",
       "      <td>0</td>\n",
       "      <td>0.0</td>\n",
       "      <td>0.0</td>\n",
       "      <td>1.746667</td>\n",
       "    </tr>\n",
       "    <tr>\n",
       "      <th>4</th>\n",
       "      <td>4</td>\n",
       "      <td>15000</td>\n",
       "      <td>15000.0</td>\n",
       "      <td>26200.0</td>\n",
       "      <td>4</td>\n",
       "      <td>8000.0</td>\n",
       "      <td>13200.0</td>\n",
       "      <td>4</td>\n",
       "      <td>7000.0</td>\n",
       "      <td>13000.0</td>\n",
       "      <td>0</td>\n",
       "      <td>0.0</td>\n",
       "      <td>0.0</td>\n",
       "      <td>1.746667</td>\n",
       "    </tr>\n",
       "    <tr>\n",
       "      <th>5</th>\n",
       "      <td>5</td>\n",
       "      <td>15000</td>\n",
       "      <td>15000.0</td>\n",
       "      <td>26200.0</td>\n",
       "      <td>4</td>\n",
       "      <td>8000.0</td>\n",
       "      <td>13200.0</td>\n",
       "      <td>4</td>\n",
       "      <td>7000.0</td>\n",
       "      <td>13000.0</td>\n",
       "      <td>0</td>\n",
       "      <td>0.0</td>\n",
       "      <td>0.0</td>\n",
       "      <td>1.746667</td>\n",
       "    </tr>\n",
       "    <tr>\n",
       "      <th>6</th>\n",
       "      <td>6</td>\n",
       "      <td>30000</td>\n",
       "      <td>30000.0</td>\n",
       "      <td>52400.0</td>\n",
       "      <td>8</td>\n",
       "      <td>16000.0</td>\n",
       "      <td>26400.0</td>\n",
       "      <td>8</td>\n",
       "      <td>14000.0</td>\n",
       "      <td>26000.0</td>\n",
       "      <td>0</td>\n",
       "      <td>0.0</td>\n",
       "      <td>0.0</td>\n",
       "      <td>1.746667</td>\n",
       "    </tr>\n",
       "    <tr>\n",
       "      <th>7</th>\n",
       "      <td>7</td>\n",
       "      <td>30000</td>\n",
       "      <td>30000.0</td>\n",
       "      <td>52400.0</td>\n",
       "      <td>8</td>\n",
       "      <td>16000.0</td>\n",
       "      <td>26400.0</td>\n",
       "      <td>8</td>\n",
       "      <td>14000.0</td>\n",
       "      <td>26000.0</td>\n",
       "      <td>0</td>\n",
       "      <td>0.0</td>\n",
       "      <td>0.0</td>\n",
       "      <td>1.746667</td>\n",
       "    </tr>\n",
       "    <tr>\n",
       "      <th>8</th>\n",
       "      <td>8</td>\n",
       "      <td>30000</td>\n",
       "      <td>30000.0</td>\n",
       "      <td>52400.0</td>\n",
       "      <td>8</td>\n",
       "      <td>16000.0</td>\n",
       "      <td>26400.0</td>\n",
       "      <td>8</td>\n",
       "      <td>14000.0</td>\n",
       "      <td>26000.0</td>\n",
       "      <td>0</td>\n",
       "      <td>0.0</td>\n",
       "      <td>0.0</td>\n",
       "      <td>1.746667</td>\n",
       "    </tr>\n",
       "    <tr>\n",
       "      <th>9</th>\n",
       "      <td>9</td>\n",
       "      <td>25000</td>\n",
       "      <td>25000.0</td>\n",
       "      <td>44700.0</td>\n",
       "      <td>4</td>\n",
       "      <td>7500.0</td>\n",
       "      <td>12200.0</td>\n",
       "      <td>10</td>\n",
       "      <td>17500.0</td>\n",
       "      <td>32500.0</td>\n",
       "      <td>0</td>\n",
       "      <td>0.0</td>\n",
       "      <td>0.0</td>\n",
       "      <td>1.788000</td>\n",
       "    </tr>\n",
       "    <tr>\n",
       "      <th>10</th>\n",
       "      <td>10</td>\n",
       "      <td>25000</td>\n",
       "      <td>25000.0</td>\n",
       "      <td>44700.0</td>\n",
       "      <td>4</td>\n",
       "      <td>7500.0</td>\n",
       "      <td>12200.0</td>\n",
       "      <td>10</td>\n",
       "      <td>17500.0</td>\n",
       "      <td>32500.0</td>\n",
       "      <td>0</td>\n",
       "      <td>0.0</td>\n",
       "      <td>0.0</td>\n",
       "      <td>1.788000</td>\n",
       "    </tr>\n",
       "    <tr>\n",
       "      <th>11</th>\n",
       "      <td>11</td>\n",
       "      <td>25000</td>\n",
       "      <td>25000.0</td>\n",
       "      <td>44700.0</td>\n",
       "      <td>4</td>\n",
       "      <td>7500.0</td>\n",
       "      <td>12200.0</td>\n",
       "      <td>10</td>\n",
       "      <td>17500.0</td>\n",
       "      <td>32500.0</td>\n",
       "      <td>0</td>\n",
       "      <td>0.0</td>\n",
       "      <td>0.0</td>\n",
       "      <td>1.788000</td>\n",
       "    </tr>\n",
       "    <tr>\n",
       "      <th>12</th>\n",
       "      <td>12</td>\n",
       "      <td>25000</td>\n",
       "      <td>25000.0</td>\n",
       "      <td>44700.0</td>\n",
       "      <td>4</td>\n",
       "      <td>7500.0</td>\n",
       "      <td>12200.0</td>\n",
       "      <td>10</td>\n",
       "      <td>17500.0</td>\n",
       "      <td>32500.0</td>\n",
       "      <td>0</td>\n",
       "      <td>0.0</td>\n",
       "      <td>0.0</td>\n",
       "      <td>1.788000</td>\n",
       "    </tr>\n",
       "    <tr>\n",
       "      <th>13</th>\n",
       "      <td>13</td>\n",
       "      <td>25000</td>\n",
       "      <td>25000.0</td>\n",
       "      <td>44700.0</td>\n",
       "      <td>4</td>\n",
       "      <td>7500.0</td>\n",
       "      <td>12200.0</td>\n",
       "      <td>10</td>\n",
       "      <td>17500.0</td>\n",
       "      <td>32500.0</td>\n",
       "      <td>0</td>\n",
       "      <td>0.0</td>\n",
       "      <td>0.0</td>\n",
       "      <td>1.788000</td>\n",
       "    </tr>\n",
       "    <tr>\n",
       "      <th>14</th>\n",
       "      <td>14</td>\n",
       "      <td>25000</td>\n",
       "      <td>25000.0</td>\n",
       "      <td>44700.0</td>\n",
       "      <td>4</td>\n",
       "      <td>7500.0</td>\n",
       "      <td>12200.0</td>\n",
       "      <td>10</td>\n",
       "      <td>17500.0</td>\n",
       "      <td>32500.0</td>\n",
       "      <td>0</td>\n",
       "      <td>0.0</td>\n",
       "      <td>0.0</td>\n",
       "      <td>1.788000</td>\n",
       "    </tr>\n",
       "    <tr>\n",
       "      <th>15</th>\n",
       "      <td>15</td>\n",
       "      <td>40000</td>\n",
       "      <td>40000.0</td>\n",
       "      <td>69100.0</td>\n",
       "      <td>12</td>\n",
       "      <td>22500.0</td>\n",
       "      <td>36600.0</td>\n",
       "      <td>10</td>\n",
       "      <td>17500.0</td>\n",
       "      <td>32500.0</td>\n",
       "      <td>0</td>\n",
       "      <td>0.0</td>\n",
       "      <td>0.0</td>\n",
       "      <td>1.727500</td>\n",
       "    </tr>\n",
       "    <tr>\n",
       "      <th>16</th>\n",
       "      <td>16</td>\n",
       "      <td>40000</td>\n",
       "      <td>40000.0</td>\n",
       "      <td>69100.0</td>\n",
       "      <td>12</td>\n",
       "      <td>22500.0</td>\n",
       "      <td>36600.0</td>\n",
       "      <td>10</td>\n",
       "      <td>17500.0</td>\n",
       "      <td>32500.0</td>\n",
       "      <td>0</td>\n",
       "      <td>0.0</td>\n",
       "      <td>0.0</td>\n",
       "      <td>1.727500</td>\n",
       "    </tr>\n",
       "    <tr>\n",
       "      <th>17</th>\n",
       "      <td>17</td>\n",
       "      <td>40000</td>\n",
       "      <td>40000.0</td>\n",
       "      <td>69100.0</td>\n",
       "      <td>12</td>\n",
       "      <td>22500.0</td>\n",
       "      <td>36600.0</td>\n",
       "      <td>10</td>\n",
       "      <td>17500.0</td>\n",
       "      <td>32500.0</td>\n",
       "      <td>0</td>\n",
       "      <td>0.0</td>\n",
       "      <td>0.0</td>\n",
       "      <td>1.727500</td>\n",
       "    </tr>\n",
       "    <tr>\n",
       "      <th>18</th>\n",
       "      <td>18</td>\n",
       "      <td>27000</td>\n",
       "      <td>27000.0</td>\n",
       "      <td>48000.0</td>\n",
       "      <td>5</td>\n",
       "      <td>9500.0</td>\n",
       "      <td>15500.0</td>\n",
       "      <td>10</td>\n",
       "      <td>17500.0</td>\n",
       "      <td>32500.0</td>\n",
       "      <td>0</td>\n",
       "      <td>0.0</td>\n",
       "      <td>0.0</td>\n",
       "      <td>1.777778</td>\n",
       "    </tr>\n",
       "    <tr>\n",
       "      <th>19</th>\n",
       "      <td>19</td>\n",
       "      <td>27000</td>\n",
       "      <td>27000.0</td>\n",
       "      <td>48000.0</td>\n",
       "      <td>5</td>\n",
       "      <td>9500.0</td>\n",
       "      <td>15500.0</td>\n",
       "      <td>10</td>\n",
       "      <td>17500.0</td>\n",
       "      <td>32500.0</td>\n",
       "      <td>0</td>\n",
       "      <td>0.0</td>\n",
       "      <td>0.0</td>\n",
       "      <td>1.777778</td>\n",
       "    </tr>\n",
       "    <tr>\n",
       "      <th>20</th>\n",
       "      <td>20</td>\n",
       "      <td>27000</td>\n",
       "      <td>27000.0</td>\n",
       "      <td>48000.0</td>\n",
       "      <td>5</td>\n",
       "      <td>9500.0</td>\n",
       "      <td>15500.0</td>\n",
       "      <td>10</td>\n",
       "      <td>17500.0</td>\n",
       "      <td>32500.0</td>\n",
       "      <td>0</td>\n",
       "      <td>0.0</td>\n",
       "      <td>0.0</td>\n",
       "      <td>1.777778</td>\n",
       "    </tr>\n",
       "    <tr>\n",
       "      <th>21</th>\n",
       "      <td>21</td>\n",
       "      <td>27000</td>\n",
       "      <td>27000.0</td>\n",
       "      <td>48000.0</td>\n",
       "      <td>5</td>\n",
       "      <td>9500.0</td>\n",
       "      <td>15500.0</td>\n",
       "      <td>10</td>\n",
       "      <td>17500.0</td>\n",
       "      <td>32500.0</td>\n",
       "      <td>0</td>\n",
       "      <td>0.0</td>\n",
       "      <td>0.0</td>\n",
       "      <td>1.777778</td>\n",
       "    </tr>\n",
       "    <tr>\n",
       "      <th>22</th>\n",
       "      <td>22</td>\n",
       "      <td>27000</td>\n",
       "      <td>27000.0</td>\n",
       "      <td>48000.0</td>\n",
       "      <td>5</td>\n",
       "      <td>9500.0</td>\n",
       "      <td>15500.0</td>\n",
       "      <td>10</td>\n",
       "      <td>17500.0</td>\n",
       "      <td>32500.0</td>\n",
       "      <td>0</td>\n",
       "      <td>0.0</td>\n",
       "      <td>0.0</td>\n",
       "      <td>1.777778</td>\n",
       "    </tr>\n",
       "    <tr>\n",
       "      <th>23</th>\n",
       "      <td>23</td>\n",
       "      <td>27000</td>\n",
       "      <td>27000.0</td>\n",
       "      <td>48000.0</td>\n",
       "      <td>5</td>\n",
       "      <td>9500.0</td>\n",
       "      <td>15500.0</td>\n",
       "      <td>10</td>\n",
       "      <td>17500.0</td>\n",
       "      <td>32500.0</td>\n",
       "      <td>0</td>\n",
       "      <td>0.0</td>\n",
       "      <td>0.0</td>\n",
       "      <td>1.777778</td>\n",
       "    </tr>\n",
       "  </tbody>\n",
       "</table>\n",
       "</div>"
      ],
      "text/plain": [
       "     h  Consommation (MW)  Production total  Coût total  Nb centrale A  \\\n",
       "0    0              15000           15000.0     26200.0              4   \n",
       "1    1              15000           15000.0     26200.0              4   \n",
       "2    2              15000           15000.0     26200.0              4   \n",
       "3    3              15000           15000.0     26200.0              4   \n",
       "4    4              15000           15000.0     26200.0              4   \n",
       "5    5              15000           15000.0     26200.0              4   \n",
       "6    6              30000           30000.0     52400.0              8   \n",
       "7    7              30000           30000.0     52400.0              8   \n",
       "8    8              30000           30000.0     52400.0              8   \n",
       "9    9              25000           25000.0     44700.0              4   \n",
       "10  10              25000           25000.0     44700.0              4   \n",
       "11  11              25000           25000.0     44700.0              4   \n",
       "12  12              25000           25000.0     44700.0              4   \n",
       "13  13              25000           25000.0     44700.0              4   \n",
       "14  14              25000           25000.0     44700.0              4   \n",
       "15  15              40000           40000.0     69100.0             12   \n",
       "16  16              40000           40000.0     69100.0             12   \n",
       "17  17              40000           40000.0     69100.0             12   \n",
       "18  18              27000           27000.0     48000.0              5   \n",
       "19  19              27000           27000.0     48000.0              5   \n",
       "20  20              27000           27000.0     48000.0              5   \n",
       "21  21              27000           27000.0     48000.0              5   \n",
       "22  22              27000           27000.0     48000.0              5   \n",
       "23  23              27000           27000.0     48000.0              5   \n",
       "\n",
       "    Puissance tot A   Coût A  Nb centrale B  Puissance tot B   Coût B  \\\n",
       "0            8000.0  13200.0              4           7000.0  13000.0   \n",
       "1            8000.0  13200.0              4           7000.0  13000.0   \n",
       "2            8000.0  13200.0              4           7000.0  13000.0   \n",
       "3            8000.0  13200.0              4           7000.0  13000.0   \n",
       "4            8000.0  13200.0              4           7000.0  13000.0   \n",
       "5            8000.0  13200.0              4           7000.0  13000.0   \n",
       "6           16000.0  26400.0              8          14000.0  26000.0   \n",
       "7           16000.0  26400.0              8          14000.0  26000.0   \n",
       "8           16000.0  26400.0              8          14000.0  26000.0   \n",
       "9            7500.0  12200.0             10          17500.0  32500.0   \n",
       "10           7500.0  12200.0             10          17500.0  32500.0   \n",
       "11           7500.0  12200.0             10          17500.0  32500.0   \n",
       "12           7500.0  12200.0             10          17500.0  32500.0   \n",
       "13           7500.0  12200.0             10          17500.0  32500.0   \n",
       "14           7500.0  12200.0             10          17500.0  32500.0   \n",
       "15          22500.0  36600.0             10          17500.0  32500.0   \n",
       "16          22500.0  36600.0             10          17500.0  32500.0   \n",
       "17          22500.0  36600.0             10          17500.0  32500.0   \n",
       "18           9500.0  15500.0             10          17500.0  32500.0   \n",
       "19           9500.0  15500.0             10          17500.0  32500.0   \n",
       "20           9500.0  15500.0             10          17500.0  32500.0   \n",
       "21           9500.0  15500.0             10          17500.0  32500.0   \n",
       "22           9500.0  15500.0             10          17500.0  32500.0   \n",
       "23           9500.0  15500.0             10          17500.0  32500.0   \n",
       "\n",
       "    Nb centrale C  Puissance tot C  Coût C  Coût MWh  \n",
       "0               0              0.0     0.0  1.746667  \n",
       "1               0              0.0     0.0  1.746667  \n",
       "2               0              0.0     0.0  1.746667  \n",
       "3               0              0.0     0.0  1.746667  \n",
       "4               0              0.0     0.0  1.746667  \n",
       "5               0              0.0     0.0  1.746667  \n",
       "6               0              0.0     0.0  1.746667  \n",
       "7               0              0.0     0.0  1.746667  \n",
       "8               0              0.0     0.0  1.746667  \n",
       "9               0              0.0     0.0  1.788000  \n",
       "10              0              0.0     0.0  1.788000  \n",
       "11              0              0.0     0.0  1.788000  \n",
       "12              0              0.0     0.0  1.788000  \n",
       "13              0              0.0     0.0  1.788000  \n",
       "14              0              0.0     0.0  1.788000  \n",
       "15              0              0.0     0.0  1.727500  \n",
       "16              0              0.0     0.0  1.727500  \n",
       "17              0              0.0     0.0  1.727500  \n",
       "18              0              0.0     0.0  1.777778  \n",
       "19              0              0.0     0.0  1.777778  \n",
       "20              0              0.0     0.0  1.777778  \n",
       "21              0              0.0     0.0  1.777778  \n",
       "22              0              0.0     0.0  1.777778  \n",
       "23              0              0.0     0.0  1.777778  "
      ]
     },
     "execution_count": 53,
     "metadata": {},
     "output_type": "execute_result"
    }
   ],
   "source": [
    "def df_results2(dict_N,dict_P,dict_XX):\n",
    "    df = pd.DataFrame()\n",
    "    df[\"h\"] = range(24) \n",
    "    df[\"Consommation (MW)\"] = consommation\n",
    "    df[\"Production total\"] = 0\n",
    "    df[\"Coût total\"] = 0\n",
    "    for X in dict_XX:\n",
    "        df[f\"Nb centrale {X}\"] = [int(dict_N[X,t].X) for t in range(24)]\n",
    "        df[f\"Puissance tot {X}\"] = [dict_P[X,t].X for t in range(24)]\n",
    "        df[f\"Coût {X}\"] = [dict_N[X,t].X * dict_XX[X].Cbase + (dict_P[X,t].X - dict_N[X,t].X * dict_XX[X].Pmin) * dict_XX[X].Cmwh for t in range(24)]\n",
    "        df[\"Production total\"] += df[f\"Puissance tot {X}\"]\n",
    "        df[\"Coût total\"] += df[f\"Coût {X}\"]\n",
    "    df[\"Coût MWh\"] = df[\"Coût total\"]/df[\"Production total\"]\n",
    "    return df\n",
    "df_results2(dict_N=dict_N,dict_P=dict_P,dict_XX=dict_2)"
   ]
  },
  {
   "cell_type": "markdown",
   "metadata": {},
   "source": [
    "### 2.2 Coût du démarrage\n",
    "\n",
    "Pour ce problème on modifie les variables de décisions et on y adapte les contraintes.\n",
    "\n",
    "Variables de décision :\n",
    "Pour une type de centrale $X \\in [A,B,C]$, et une heure de la journée $t\\in {1,\\dots,24}$, on définit :\n",
    "$$\n",
    "N_t^{(X)} = \\text{Nombre de centrales } X \\text{allumées à } t\\text{ h, (ENTIER)}\n",
    "$$\n",
    "$$\n",
    "N_{start,t}^{(X)} = \\text{Nombre de centrales } X \\text{démarrées à } t\\text{ h, (ENTIER)}\n",
    "$$\n",
    "$$\n",
    "P_t^{(X)} = \\text{Puissance totale produite par les centrales } X \\text{ à } t\\text{ h, (CONTINUE)}\n",
    "$$\n",
    "Contraintes (par convention $N_{-1}^{(X)}=0$):\n",
    "$$\n",
    "N_t^{(X)} P_{min}^{(X)} \\leq P_t^{(X)} \\leq N_t^{(X)} P_{max}^{(X)} \\text{ ,  Contraintes sur la puissance totale de chaque centrale}\n",
    "$$\n",
    "$$\n",
    "N_{start,t}^{(X)} \\leq N_t^{(X)} \\leq N_{start,t}^{(X)}+N_{t-1}^{(X)} \\text{   ,   Contraintes sur le nombre de centrales allumées possible}\n",
    "$$\n",
    "$$\n",
    "0 \\leq N_{start,t}^{(X)} \\leq N^{(X)}-N_{t-1}^{(X)} \\text{   ,   Contraintes sur le nombre de centrales adémarrées possible}\n",
    "$$\n",
    "$$\n",
    "\\sum_X P_t^{(X)} = D_t \\text{  ,  Contrainte équilibre offre-demande}\n",
    "$$\n",
    "Objectif :\n",
    "$$\n",
    "\\text{Minimiser} \\sum_X \\sum_T (P_t^{(X)} - P_{min}^{(X)}N_t^{(X)}) C_{MWh}^{(X)} + N_t^{(X)}C_{base}^{(X)} + N_{start,t}^{(X)}C_{start}^{(X)}\n",
    "$$"
   ]
  },
  {
   "cell_type": "markdown",
   "metadata": {},
   "source": [
    "## 3 Réserve de puissance\n",
    "\n",
    "Pour intégrer la réserve de puissance on ajoute la contrainte :\n",
    "$$\n",
    "\\sum_X N_t^{(X)}P_{max}^{(X)}\\geq D_t\\times 1,15\n",
    "$$"
   ]
  },
  {
   "cell_type": "markdown",
   "metadata": {},
   "source": [
    "## 4 Planification cyclique\n",
    "\n",
    "Pour ce problème on modifie la convention $N_{-1}^{(X)}=0$ par $N_{-1}^{(X)}=N_{23}^{(X)}$"
   ]
  },
  {
   "cell_type": "markdown",
   "metadata": {},
   "source": [
    "## 5 Centrales hydroélectriques\n",
    "\n",
    "### 5.1\n",
    "\n",
    "On ajoute les variables de décisions suivantes:<br>\n",
    "pour $Y\\in[9,14]$ (pour les centrales de 900 MW et 1400MW),<br>\n",
    "$$\n",
    "H_t^{(Y)} \\in \\{0,1\\} \\text{  , vaut 1 si la centrale $X$ fonctionne à } t \\text{ h 0 sinon}\n",
    "$$\n",
    "$$\n",
    "H_{start,t}^{(Y)} \\in \\{0,1\\} \\text{  , vaut 1  si la centrale $X$ démarre à } t \\text{ h 0 sinon}\n",
    "$$\n",
    "Avec les contraintes :\n",
    "$$\n",
    "H_{start,t}^{(Y)} \\leq 1 - H_{t-1}^{(Y)} \\text{  ,  Il n'y a pas de démarrage si la centrale est déjà allumée}\n",
    "$$\n",
    "$$\n",
    "H_{start,t}^{(Y)} \\leq H_{t}^{(Y)} \\text{  ,  La centrale fonctionne lorsqu'elle est est démarrée}\n",
    "$$\n",
    "$$\n",
    "\\sum_X P_t^{(X)} + \\sum_Y N_t^{(Y)}P^{(Y)}= D_t \\text{  ,  Contrainte équilibre offre-demande}\n",
    "$$\n",
    "$$\n",
    "\\sum_X N_t^{(X)}P_{max}^{(X)} + \\sum_X (1-H_t^{(Y)})P^{(Y)}\\geq D_t\\times 1,15 \\text{  ,  marges de sécurité}\n",
    "$$\n",
    "L'objectif mis à jour devient:\n",
    "$$\n",
    "\\text{Minimiser} \\sum_X \\sum_t (P_t^{(X)} - P_{min}^{(X)}N_t^{(X)}) C_{MWh}^{(X)} + N_t^{(X)}C_{base}^{(X)} + N_{start,t}^{(X)}C_{start}^{(X)} + \\sum_Y \\sum_t H_t^{(Y)}C_{base}^{(Y)} + H_t^{(Y)}C_{start}^{(Y)}\n",
    "$$"
   ]
  },
  {
   "cell_type": "markdown",
   "metadata": {},
   "source": [
    "### 5.2\n",
    "\n",
    "On ajoute les variables de décision suivante :\n",
    "$$\n",
    "S_t =  \\text{Puissance appelée par le pompage à l'instant }t\n",
    "$$\n",
    "Puis la contrainte :\n",
    "$$\n",
    "S_t d^{(S)} = \\sum_Y N_t^{(Y)}d^{(Y)}\n",
    "$$\n",
    "Où $d^{(S)}$ représente la hauteur d'eau élevée par MWh et $d^{(Y)}$ la hauteur d'eau prélevée lorsque la centrale $Y$ fonctionne.<br>\n",
    "On met à jour les contraintes suivante:\n",
    "$$\n",
    "\\sum_X P_t^{(X)} + \\sum_Y N_t^{(Y)}P^{(Y)}-S_t= D_t \\text{  ,  Contrainte équilibre offre-demande}\n",
    "$$"
   ]
  }
 ],
 "metadata": {
  "kernelspec": {
   "display_name": "Python 3.10.7 ('OL': venv)",
   "language": "python",
   "name": "python3"
  },
  "language_info": {
   "codemirror_mode": {
    "name": "ipython",
    "version": 3
   },
   "file_extension": ".py",
   "mimetype": "text/x-python",
   "name": "python",
   "nbconvert_exporter": "python",
   "pygments_lexer": "ipython3",
   "version": "3.10.7"
  },
  "orig_nbformat": 4,
  "vscode": {
   "interpreter": {
    "hash": "153e8b4aaf1e7bee5b29f07f8dd36650b8c55b521facabbe75a683164f3644eb"
   }
  }
 },
 "nbformat": 4,
 "nbformat_minor": 2
}
