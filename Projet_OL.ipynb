{
 "cells": [
  {
   "cell_type": "code",
   "execution_count": 1,
   "metadata": {},
   "outputs": [],
   "source": [
    "import gurobipy as gp\n",
    "from itertools import product\n",
    "import matplotlib.pyplot as plt\n",
    "import pandas as pd\n",
    "import numpy as np"
   ]
  },
  {
   "cell_type": "markdown",
   "metadata": {},
   "source": [
    "Test gurobipy"
   ]
  },
  {
   "cell_type": "code",
   "execution_count": 2,
   "metadata": {},
   "outputs": [
    {
     "name": "stdout",
     "output_type": "stream",
     "text": [
      "Set parameter TokenServer to value \"dev.cma.mines-paristech.fr\"\n",
      "Gurobi Optimizer version 9.5.2 build v9.5.2rc0 (win64)\n",
      "Thread count: 4 physical cores, 8 logical processors, using up to 8 threads\n",
      "Optimize a model with 2 rows, 3 columns and 5 nonzeros\n",
      "Model fingerprint: 0x98886187\n",
      "Variable types: 0 continuous, 3 integer (3 binary)\n",
      "Coefficient statistics:\n",
      "  Matrix range     [1e+00, 3e+00]\n",
      "  Objective range  [1e+00, 2e+00]\n",
      "  Bounds range     [1e+00, 1e+00]\n",
      "  RHS range        [1e+00, 4e+00]\n",
      "Found heuristic solution: objective 2.0000000\n",
      "Presolve removed 2 rows and 3 columns\n",
      "Presolve time: 0.00s\n",
      "Presolve: All rows and columns removed\n",
      "\n",
      "Explored 0 nodes (0 simplex iterations) in 0.00 seconds (0.00 work units)\n",
      "Thread count was 1 (of 8 available processors)\n",
      "\n",
      "Solution count 2: 3 2 \n",
      "\n",
      "Optimal solution found (tolerance 1.00e-04)\n",
      "Best objective 3.000000000000e+00, best bound 3.000000000000e+00, gap 0.0000%\n",
      "Optimal objective value: 3.0\n",
      "Solution values: x=1.0, y=0.0, z=1.0\n"
     ]
    }
   ],
   "source": [
    "# Create a new model\n",
    "m = gp.Model()\n",
    "\n",
    "# Create variables\n",
    "x = m.addVar(vtype='B', name=\"x\")\n",
    "y = m.addVar(vtype='B', name=\"y\")\n",
    "z = m.addVar(vtype='B', name=\"z\")\n",
    "\n",
    "# Set objective function\n",
    "m.setObjective(x + y + 2 * z, gp.GRB.MAXIMIZE)\n",
    "\n",
    "# Add constraints\n",
    "m.addConstr(x + 2 * y + 3 * z <= 4)\n",
    "m.addConstr(x + y >= 1)\n",
    "\n",
    "# Solve it!\n",
    "m.optimize()\n",
    "\n",
    "print(f\"Optimal objective value: {m.objVal}\")\n",
    "print(f\"Solution values: x={x.X}, y={y.X}, z={z.X}\")"
   ]
  },
  {
   "cell_type": "markdown",
   "metadata": {},
   "source": [
    "## 1 Modèle de base des centrales thermiques\n",
    "\n",
    "### 1.1 Planification journalière du parc thermique"
   ]
  },
  {
   "cell_type": "code",
   "execution_count": 3,
   "metadata": {},
   "outputs": [],
   "source": [
    "class Centrale:\n",
    "    def __init__(self, name, N, Pmin, Pmax, Cmwh):\n",
    "        self.name = name\n",
    "        self.N = N\n",
    "        self.Pmin = Pmin\n",
    "        self.Pmax = Pmax\n",
    "        self.Cmwh = Cmwh"
   ]
  },
  {
   "cell_type": "code",
   "execution_count": 4,
   "metadata": {},
   "outputs": [],
   "source": [
    "dict_11 = {}\n",
    "dict_11[\"A\"] = Centrale(\n",
    "    name=\"A\",\n",
    "    N=12,\n",
    "    Pmax=2000,\n",
    "    Pmin=850,\n",
    "    Cmwh=1.5\n",
    ")\n",
    "dict_11[\"B\"] = Centrale(\n",
    "    name=\"B\",\n",
    "    N=10,\n",
    "    Pmax=1750,\n",
    "    Pmin=1250,\n",
    "    Cmwh=1.38\n",
    ")\n",
    "dict_11[\"C\"] = Centrale(\n",
    "    name=\"C\",\n",
    "    N=5,\n",
    "    Pmax=4000,\n",
    "    Pmin=1500,\n",
    "    Cmwh=2.75\n",
    ")"
   ]
  },
  {
   "cell_type": "code",
   "execution_count": 5,
   "metadata": {},
   "outputs": [],
   "source": [
    "model = gp.Model(name=\"1.1\")"
   ]
  },
  {
   "cell_type": "code",
   "execution_count": 6,
   "metadata": {},
   "outputs": [],
   "source": [
    "from unicodedata import name\n",
    "\n",
    "\n",
    "dict_N = {}\n",
    "dict_P = {}\n",
    "\n",
    "for t in range(24):\n",
    "    for X in dict_11:\n",
    "        dict_N[X,t] = model.addVar(lb=0,ub=dict_11[X].N,vtype=gp.GRB.INTEGER,name=f\"Nombre de centrale {X} allumées à {t}h\")\n",
    "    for X in dict_11:\n",
    "        dict_P[X,t] = model.addVar(name=f\"Puissance totale {X} à {t}h\")\n"
   ]
  },
  {
   "cell_type": "code",
   "execution_count": 7,
   "metadata": {},
   "outputs": [],
   "source": [
    "for element in product(dict_11,range(24)):\n",
    "    dict_P[element[0],element[1]]"
   ]
  },
  {
   "cell_type": "code",
   "execution_count": 8,
   "metadata": {},
   "outputs": [],
   "source": [
    "\n",
    "model.setObjective(gp.quicksum([dict_P[element[0],element[1]] * dict_11[element[0]].Cmwh for element in product(dict_11,range(24))]), gp.GRB.MINIMIZE)"
   ]
  },
  {
   "cell_type": "code",
   "execution_count": 9,
   "metadata": {},
   "outputs": [],
   "source": [
    "for t in range(24):\n",
    "    for X in dict_11:\n",
    "        model.addConstr(dict_P[X,t]<=dict_N[X,t] * dict_11[X].Pmax, name=f\"borne sup puissance, {X} à {t}h\")\n",
    "        model.addConstr(dict_P[X,t]>=dict_N[X,t] * dict_11[X].Pmin, name=f\"borne inf puissance, {X} à {t}h\")\n",
    "    if t < 6:\n",
    "        model.addConstr(gp.quicksum([dict_P[X,t] for X in dict_11])==15000)\n",
    "    if (t >= 6)&(t<9):\n",
    "        model.addConstr(gp.quicksum([dict_P[X,t] for X in dict_11])==30000)\n",
    "    if (t >= 9)&(t<15):\n",
    "        model.addConstr(gp.quicksum([dict_P[X,t] for X in dict_11])==25000)\n",
    "    if (t >= 15)&(t<18):\n",
    "        model.addConstr(gp.quicksum([dict_P[X,t] for X in dict_11])==40000)\n",
    "    if t >= 18:\n",
    "        model.addConstr(gp.quicksum([dict_P[X,t] for X in dict_11])==27000)"
   ]
  },
  {
   "cell_type": "code",
   "execution_count": 10,
   "metadata": {},
   "outputs": [
    {
     "name": "stdout",
     "output_type": "stream",
     "text": [
      "Gurobi Optimizer version 9.5.2 build v9.5.2rc0 (win64)\n",
      "Thread count: 4 physical cores, 8 logical processors, using up to 8 threads\n",
      "Optimize a model with 168 rows, 144 columns and 360 nonzeros\n",
      "Model fingerprint: 0xe0a5527a\n",
      "Variable types: 72 continuous, 72 integer (0 binary)\n",
      "Coefficient statistics:\n",
      "  Matrix range     [1e+00, 4e+03]\n",
      "  Objective range  [1e+00, 3e+00]\n",
      "  Bounds range     [5e+00, 1e+01]\n",
      "  RHS range        [2e+04, 4e+04]\n",
      "Found heuristic solution: objective 1235375.0000\n",
      "Presolve removed 162 rows and 139 columns\n",
      "Presolve time: 0.01s\n",
      "Presolved: 6 rows, 5 columns, 14 nonzeros\n",
      "Found heuristic solution: objective 881275.00000\n",
      "Variable types: 2 continuous, 3 integer (0 binary)\n",
      "\n",
      "Root relaxation: objective 8.694000e+05, 2 iterations, 0.00 seconds (0.00 work units)\n",
      "\n",
      "    Nodes    |    Current Node    |     Objective Bounds      |     Work\n",
      " Expl Unexpl |  Obj  Depth IntInf | Incumbent    BestBd   Gap | It/Node Time\n",
      "\n",
      "     0     0 869400.000    0    1 881275.000 869400.000  1.35%     -    0s\n",
      "H    0     0                    869400.00000 869400.000  0.00%     -    0s\n",
      "     0     0 869400.000    0    1 869400.000 869400.000  0.00%     -    0s\n",
      "\n",
      "Explored 1 nodes (2 simplex iterations) in 0.03 seconds (0.00 work units)\n",
      "Thread count was 8 (of 8 available processors)\n",
      "\n",
      "Solution count 3: 869400 881275 1.23538e+06 \n",
      "\n",
      "Optimal solution found (tolerance 1.00e-04)\n",
      "Best objective 8.694000000000e+05, best bound 8.694000000000e+05, gap 0.0000%\n"
     ]
    }
   ],
   "source": [
    "model.optimize()"
   ]
  },
  {
   "cell_type": "code",
   "execution_count": 11,
   "metadata": {},
   "outputs": [
    {
     "name": "stdout",
     "output_type": "stream",
     "text": [
      "Coût : 869400.0\n"
     ]
    }
   ],
   "source": [
    "print(f\"Coût : {model.ObjVal}\")"
   ]
  },
  {
   "cell_type": "code",
   "execution_count": 12,
   "metadata": {},
   "outputs": [],
   "source": [
    "df = pd.DataFrame()\n",
    "df[\"h\"] = range(24) \n",
    "df[\"Consommation (MW)\"] = np.array([15,15,15,15,15,15,30,30,30,25,25,25,25,25,25,40,40,40,27,27,27,27,27,27])*1000\n",
    "df[\"Production total\"] = 0\n",
    "df[\"Coût total\"] = 0\n",
    "for X in dict_11:\n",
    "    df[f\"Nb centrale {X}\"] = [int(dict_N[X,t].X) for t in range(24)]\n",
    "    df[f\"Puissance tot {X}\"] = [dict_P[X,t].X for t in range(24)]\n",
    "    df[f\"Coût {X}\"] = [dict_P[X,t].X * dict_11[X].Cmwh for t in range(24)]\n",
    "    df[\"Production total\"] += df[f\"Puissance tot {X}\"]\n",
    "    df[\"Coût total\"] += df[f\"Coût {X}\"]\n",
    "df[\"Coût MWh\"] = df[\"Coût total\"]/df[\"Production total\"]"
   ]
  },
  {
   "cell_type": "code",
   "execution_count": 55,
   "metadata": {},
   "outputs": [
    {
     "data": {
      "application/vnd.plotly.v1+json": {
       "config": {
        "plotlyServerURL": "https://plot.ly"
       },
       "data": [
        {
         "fill": "tonexty",
         "name": "Production A",
         "type": "scatter",
         "x": [
          0,
          1,
          2,
          3,
          4,
          5,
          6,
          7,
          8,
          9,
          10,
          11,
          12,
          13,
          14,
          15,
          16,
          17,
          18,
          19,
          20,
          21,
          22,
          23
         ],
         "y": [
          0,
          0,
          0,
          0,
          0,
          0,
          12500,
          12500,
          12500,
          7500,
          7500,
          7500,
          7500,
          7500,
          7500,
          22500,
          22500,
          22500,
          9500,
          9500,
          9500,
          9500,
          9500,
          9500
         ]
        },
        {
         "fill": "tonexty",
         "name": "Production B",
         "type": "scatter",
         "x": [
          0,
          1,
          2,
          3,
          4,
          5,
          6,
          7,
          8,
          9,
          10,
          11,
          12,
          13,
          14,
          15,
          16,
          17,
          18,
          19,
          20,
          21,
          22,
          23
         ],
         "y": [
          15000,
          15000,
          15000,
          15000,
          15000,
          15000,
          30000,
          30000,
          30000,
          25000,
          25000,
          25000,
          25000,
          25000,
          25000,
          40000,
          40000,
          40000,
          27000,
          27000,
          27000,
          27000,
          27000,
          27000
         ]
        },
        {
         "fill": "tonexty",
         "name": "Production C",
         "type": "scatter",
         "x": [
          0,
          1,
          2,
          3,
          4,
          5,
          6,
          7,
          8,
          9,
          10,
          11,
          12,
          13,
          14,
          15,
          16,
          17,
          18,
          19,
          20,
          21,
          22,
          23
         ],
         "y": [
          15000,
          15000,
          15000,
          15000,
          15000,
          15000,
          30000,
          30000,
          30000,
          25000,
          25000,
          25000,
          25000,
          25000,
          25000,
          40000,
          40000,
          40000,
          27000,
          27000,
          27000,
          27000,
          27000,
          27000
         ]
        },
        {
         "line": {
          "color": "red",
          "dash": "dash"
         },
         "name": "Production total",
         "type": "scatter",
         "x": [
          0,
          1,
          2,
          3,
          4,
          5,
          6,
          7,
          8,
          9,
          10,
          11,
          12,
          13,
          14,
          15,
          16,
          17,
          18,
          19,
          20,
          21,
          22,
          23
         ],
         "y": [
          15000,
          15000,
          15000,
          15000,
          15000,
          15000,
          30000,
          30000,
          30000,
          25000,
          25000,
          25000,
          25000,
          25000,
          25000,
          40000,
          40000,
          40000,
          27000,
          27000,
          27000,
          27000,
          27000,
          27000
         ]
        },
        {
         "line": {
          "color": "black"
         },
         "name": "Coût MWh",
         "type": "scatter",
         "x": [
          0,
          1,
          2,
          3,
          4,
          5,
          6,
          7,
          8,
          9,
          10,
          11,
          12,
          13,
          14,
          15,
          16,
          17,
          18,
          19,
          20,
          21,
          22,
          23
         ],
         "y": [
          1.38,
          1.38,
          1.38,
          1.38,
          1.38,
          1.38,
          1.43,
          1.43,
          1.43,
          1.416,
          1.416,
          1.416,
          1.416,
          1.416,
          1.416,
          1.4475,
          1.4475,
          1.4475,
          1.4222222222222223,
          1.4222222222222223,
          1.4222222222222223,
          1.4222222222222223,
          1.4222222222222223,
          1.4222222222222223
         ],
         "yaxis": "y2"
        }
       ],
       "layout": {
        "hovermode": "x",
        "template": {
         "data": {
          "bar": [
           {
            "error_x": {
             "color": "#2a3f5f"
            },
            "error_y": {
             "color": "#2a3f5f"
            },
            "marker": {
             "line": {
              "color": "#E5ECF6",
              "width": 0.5
             },
             "pattern": {
              "fillmode": "overlay",
              "size": 10,
              "solidity": 0.2
             }
            },
            "type": "bar"
           }
          ],
          "barpolar": [
           {
            "marker": {
             "line": {
              "color": "#E5ECF6",
              "width": 0.5
             },
             "pattern": {
              "fillmode": "overlay",
              "size": 10,
              "solidity": 0.2
             }
            },
            "type": "barpolar"
           }
          ],
          "carpet": [
           {
            "aaxis": {
             "endlinecolor": "#2a3f5f",
             "gridcolor": "white",
             "linecolor": "white",
             "minorgridcolor": "white",
             "startlinecolor": "#2a3f5f"
            },
            "baxis": {
             "endlinecolor": "#2a3f5f",
             "gridcolor": "white",
             "linecolor": "white",
             "minorgridcolor": "white",
             "startlinecolor": "#2a3f5f"
            },
            "type": "carpet"
           }
          ],
          "choropleth": [
           {
            "colorbar": {
             "outlinewidth": 0,
             "ticks": ""
            },
            "type": "choropleth"
           }
          ],
          "contour": [
           {
            "colorbar": {
             "outlinewidth": 0,
             "ticks": ""
            },
            "colorscale": [
             [
              0,
              "#0d0887"
             ],
             [
              0.1111111111111111,
              "#46039f"
             ],
             [
              0.2222222222222222,
              "#7201a8"
             ],
             [
              0.3333333333333333,
              "#9c179e"
             ],
             [
              0.4444444444444444,
              "#bd3786"
             ],
             [
              0.5555555555555556,
              "#d8576b"
             ],
             [
              0.6666666666666666,
              "#ed7953"
             ],
             [
              0.7777777777777778,
              "#fb9f3a"
             ],
             [
              0.8888888888888888,
              "#fdca26"
             ],
             [
              1,
              "#f0f921"
             ]
            ],
            "type": "contour"
           }
          ],
          "contourcarpet": [
           {
            "colorbar": {
             "outlinewidth": 0,
             "ticks": ""
            },
            "type": "contourcarpet"
           }
          ],
          "heatmap": [
           {
            "colorbar": {
             "outlinewidth": 0,
             "ticks": ""
            },
            "colorscale": [
             [
              0,
              "#0d0887"
             ],
             [
              0.1111111111111111,
              "#46039f"
             ],
             [
              0.2222222222222222,
              "#7201a8"
             ],
             [
              0.3333333333333333,
              "#9c179e"
             ],
             [
              0.4444444444444444,
              "#bd3786"
             ],
             [
              0.5555555555555556,
              "#d8576b"
             ],
             [
              0.6666666666666666,
              "#ed7953"
             ],
             [
              0.7777777777777778,
              "#fb9f3a"
             ],
             [
              0.8888888888888888,
              "#fdca26"
             ],
             [
              1,
              "#f0f921"
             ]
            ],
            "type": "heatmap"
           }
          ],
          "heatmapgl": [
           {
            "colorbar": {
             "outlinewidth": 0,
             "ticks": ""
            },
            "colorscale": [
             [
              0,
              "#0d0887"
             ],
             [
              0.1111111111111111,
              "#46039f"
             ],
             [
              0.2222222222222222,
              "#7201a8"
             ],
             [
              0.3333333333333333,
              "#9c179e"
             ],
             [
              0.4444444444444444,
              "#bd3786"
             ],
             [
              0.5555555555555556,
              "#d8576b"
             ],
             [
              0.6666666666666666,
              "#ed7953"
             ],
             [
              0.7777777777777778,
              "#fb9f3a"
             ],
             [
              0.8888888888888888,
              "#fdca26"
             ],
             [
              1,
              "#f0f921"
             ]
            ],
            "type": "heatmapgl"
           }
          ],
          "histogram": [
           {
            "marker": {
             "pattern": {
              "fillmode": "overlay",
              "size": 10,
              "solidity": 0.2
             }
            },
            "type": "histogram"
           }
          ],
          "histogram2d": [
           {
            "colorbar": {
             "outlinewidth": 0,
             "ticks": ""
            },
            "colorscale": [
             [
              0,
              "#0d0887"
             ],
             [
              0.1111111111111111,
              "#46039f"
             ],
             [
              0.2222222222222222,
              "#7201a8"
             ],
             [
              0.3333333333333333,
              "#9c179e"
             ],
             [
              0.4444444444444444,
              "#bd3786"
             ],
             [
              0.5555555555555556,
              "#d8576b"
             ],
             [
              0.6666666666666666,
              "#ed7953"
             ],
             [
              0.7777777777777778,
              "#fb9f3a"
             ],
             [
              0.8888888888888888,
              "#fdca26"
             ],
             [
              1,
              "#f0f921"
             ]
            ],
            "type": "histogram2d"
           }
          ],
          "histogram2dcontour": [
           {
            "colorbar": {
             "outlinewidth": 0,
             "ticks": ""
            },
            "colorscale": [
             [
              0,
              "#0d0887"
             ],
             [
              0.1111111111111111,
              "#46039f"
             ],
             [
              0.2222222222222222,
              "#7201a8"
             ],
             [
              0.3333333333333333,
              "#9c179e"
             ],
             [
              0.4444444444444444,
              "#bd3786"
             ],
             [
              0.5555555555555556,
              "#d8576b"
             ],
             [
              0.6666666666666666,
              "#ed7953"
             ],
             [
              0.7777777777777778,
              "#fb9f3a"
             ],
             [
              0.8888888888888888,
              "#fdca26"
             ],
             [
              1,
              "#f0f921"
             ]
            ],
            "type": "histogram2dcontour"
           }
          ],
          "mesh3d": [
           {
            "colorbar": {
             "outlinewidth": 0,
             "ticks": ""
            },
            "type": "mesh3d"
           }
          ],
          "parcoords": [
           {
            "line": {
             "colorbar": {
              "outlinewidth": 0,
              "ticks": ""
             }
            },
            "type": "parcoords"
           }
          ],
          "pie": [
           {
            "automargin": true,
            "type": "pie"
           }
          ],
          "scatter": [
           {
            "fillpattern": {
             "fillmode": "overlay",
             "size": 10,
             "solidity": 0.2
            },
            "type": "scatter"
           }
          ],
          "scatter3d": [
           {
            "line": {
             "colorbar": {
              "outlinewidth": 0,
              "ticks": ""
             }
            },
            "marker": {
             "colorbar": {
              "outlinewidth": 0,
              "ticks": ""
             }
            },
            "type": "scatter3d"
           }
          ],
          "scattercarpet": [
           {
            "marker": {
             "colorbar": {
              "outlinewidth": 0,
              "ticks": ""
             }
            },
            "type": "scattercarpet"
           }
          ],
          "scattergeo": [
           {
            "marker": {
             "colorbar": {
              "outlinewidth": 0,
              "ticks": ""
             }
            },
            "type": "scattergeo"
           }
          ],
          "scattergl": [
           {
            "marker": {
             "colorbar": {
              "outlinewidth": 0,
              "ticks": ""
             }
            },
            "type": "scattergl"
           }
          ],
          "scattermapbox": [
           {
            "marker": {
             "colorbar": {
              "outlinewidth": 0,
              "ticks": ""
             }
            },
            "type": "scattermapbox"
           }
          ],
          "scatterpolar": [
           {
            "marker": {
             "colorbar": {
              "outlinewidth": 0,
              "ticks": ""
             }
            },
            "type": "scatterpolar"
           }
          ],
          "scatterpolargl": [
           {
            "marker": {
             "colorbar": {
              "outlinewidth": 0,
              "ticks": ""
             }
            },
            "type": "scatterpolargl"
           }
          ],
          "scatterternary": [
           {
            "marker": {
             "colorbar": {
              "outlinewidth": 0,
              "ticks": ""
             }
            },
            "type": "scatterternary"
           }
          ],
          "surface": [
           {
            "colorbar": {
             "outlinewidth": 0,
             "ticks": ""
            },
            "colorscale": [
             [
              0,
              "#0d0887"
             ],
             [
              0.1111111111111111,
              "#46039f"
             ],
             [
              0.2222222222222222,
              "#7201a8"
             ],
             [
              0.3333333333333333,
              "#9c179e"
             ],
             [
              0.4444444444444444,
              "#bd3786"
             ],
             [
              0.5555555555555556,
              "#d8576b"
             ],
             [
              0.6666666666666666,
              "#ed7953"
             ],
             [
              0.7777777777777778,
              "#fb9f3a"
             ],
             [
              0.8888888888888888,
              "#fdca26"
             ],
             [
              1,
              "#f0f921"
             ]
            ],
            "type": "surface"
           }
          ],
          "table": [
           {
            "cells": {
             "fill": {
              "color": "#EBF0F8"
             },
             "line": {
              "color": "white"
             }
            },
            "header": {
             "fill": {
              "color": "#C8D4E3"
             },
             "line": {
              "color": "white"
             }
            },
            "type": "table"
           }
          ]
         },
         "layout": {
          "annotationdefaults": {
           "arrowcolor": "#2a3f5f",
           "arrowhead": 0,
           "arrowwidth": 1
          },
          "autotypenumbers": "strict",
          "coloraxis": {
           "colorbar": {
            "outlinewidth": 0,
            "ticks": ""
           }
          },
          "colorscale": {
           "diverging": [
            [
             0,
             "#8e0152"
            ],
            [
             0.1,
             "#c51b7d"
            ],
            [
             0.2,
             "#de77ae"
            ],
            [
             0.3,
             "#f1b6da"
            ],
            [
             0.4,
             "#fde0ef"
            ],
            [
             0.5,
             "#f7f7f7"
            ],
            [
             0.6,
             "#e6f5d0"
            ],
            [
             0.7,
             "#b8e186"
            ],
            [
             0.8,
             "#7fbc41"
            ],
            [
             0.9,
             "#4d9221"
            ],
            [
             1,
             "#276419"
            ]
           ],
           "sequential": [
            [
             0,
             "#0d0887"
            ],
            [
             0.1111111111111111,
             "#46039f"
            ],
            [
             0.2222222222222222,
             "#7201a8"
            ],
            [
             0.3333333333333333,
             "#9c179e"
            ],
            [
             0.4444444444444444,
             "#bd3786"
            ],
            [
             0.5555555555555556,
             "#d8576b"
            ],
            [
             0.6666666666666666,
             "#ed7953"
            ],
            [
             0.7777777777777778,
             "#fb9f3a"
            ],
            [
             0.8888888888888888,
             "#fdca26"
            ],
            [
             1,
             "#f0f921"
            ]
           ],
           "sequentialminus": [
            [
             0,
             "#0d0887"
            ],
            [
             0.1111111111111111,
             "#46039f"
            ],
            [
             0.2222222222222222,
             "#7201a8"
            ],
            [
             0.3333333333333333,
             "#9c179e"
            ],
            [
             0.4444444444444444,
             "#bd3786"
            ],
            [
             0.5555555555555556,
             "#d8576b"
            ],
            [
             0.6666666666666666,
             "#ed7953"
            ],
            [
             0.7777777777777778,
             "#fb9f3a"
            ],
            [
             0.8888888888888888,
             "#fdca26"
            ],
            [
             1,
             "#f0f921"
            ]
           ]
          },
          "colorway": [
           "#636efa",
           "#EF553B",
           "#00cc96",
           "#ab63fa",
           "#FFA15A",
           "#19d3f3",
           "#FF6692",
           "#B6E880",
           "#FF97FF",
           "#FECB52"
          ],
          "font": {
           "color": "#2a3f5f"
          },
          "geo": {
           "bgcolor": "white",
           "lakecolor": "white",
           "landcolor": "#E5ECF6",
           "showlakes": true,
           "showland": true,
           "subunitcolor": "white"
          },
          "hoverlabel": {
           "align": "left"
          },
          "hovermode": "closest",
          "mapbox": {
           "style": "light"
          },
          "paper_bgcolor": "white",
          "plot_bgcolor": "#E5ECF6",
          "polar": {
           "angularaxis": {
            "gridcolor": "white",
            "linecolor": "white",
            "ticks": ""
           },
           "bgcolor": "#E5ECF6",
           "radialaxis": {
            "gridcolor": "white",
            "linecolor": "white",
            "ticks": ""
           }
          },
          "scene": {
           "xaxis": {
            "backgroundcolor": "#E5ECF6",
            "gridcolor": "white",
            "gridwidth": 2,
            "linecolor": "white",
            "showbackground": true,
            "ticks": "",
            "zerolinecolor": "white"
           },
           "yaxis": {
            "backgroundcolor": "#E5ECF6",
            "gridcolor": "white",
            "gridwidth": 2,
            "linecolor": "white",
            "showbackground": true,
            "ticks": "",
            "zerolinecolor": "white"
           },
           "zaxis": {
            "backgroundcolor": "#E5ECF6",
            "gridcolor": "white",
            "gridwidth": 2,
            "linecolor": "white",
            "showbackground": true,
            "ticks": "",
            "zerolinecolor": "white"
           }
          },
          "shapedefaults": {
           "line": {
            "color": "#2a3f5f"
           }
          },
          "ternary": {
           "aaxis": {
            "gridcolor": "white",
            "linecolor": "white",
            "ticks": ""
           },
           "baxis": {
            "gridcolor": "white",
            "linecolor": "white",
            "ticks": ""
           },
           "bgcolor": "#E5ECF6",
           "caxis": {
            "gridcolor": "white",
            "linecolor": "white",
            "ticks": ""
           }
          },
          "title": {
           "x": 0.05
          },
          "xaxis": {
           "automargin": true,
           "gridcolor": "white",
           "linecolor": "white",
           "ticks": "",
           "title": {
            "standoff": 15
           },
           "zerolinecolor": "white",
           "zerolinewidth": 2
          },
          "yaxis": {
           "automargin": true,
           "gridcolor": "white",
           "linecolor": "white",
           "ticks": "",
           "title": {
            "standoff": 15
           },
           "zerolinecolor": "white",
           "zerolinewidth": 2
          }
         }
        },
        "title": {
         "text": "Répartition de la production électrique dans la journée"
        },
        "yaxis": {
         "range": [
          0,
          44000
         ],
         "title": {
          "text": "MW"
         }
        },
        "yaxis2": {
         "anchor": "free",
         "overlaying": "y",
         "position": 1,
         "range": [
          1.311,
          1.5922500000000002
         ],
         "side": "right",
         "title": {
          "text": "€/MWh"
         }
        }
       }
      }
     },
     "metadata": {},
     "output_type": "display_data"
    }
   ],
   "source": [
    "from turtle import color\n",
    "import plotly.graph_objects as go\n",
    "\n",
    "fig = go.Figure()\n",
    "\n",
    "Y = df[\"Consommation (MW)\"].copy()*0\n",
    "for X in dict_11:\n",
    "    Y += df[f\"Puissance tot {X}\"]\n",
    "    fig.add_trace(\n",
    "        go.Scatter(\n",
    "        x=df[\"h\"], \n",
    "        y=Y, \n",
    "        fill='tonexty',\n",
    "        name = f\"Production {X}\"\n",
    "        )\n",
    "    )\n",
    "\n",
    "# fig.add_trace(\n",
    "#     go.Scatter(\n",
    "#         x = df[\"h\"],\n",
    "#         y = df[\"Consommation (MW)\"],\n",
    "#         name = \"Consommation\"\n",
    "#     )\n",
    "# )\n",
    "fig.add_trace(\n",
    "    go.Scatter(\n",
    "        x = df[\"h\"],\n",
    "        y = df[\"Production total\"],\n",
    "        name=\"Production total\",\n",
    "        line = dict(dash='dash',color=\"red\")\n",
    "    )\n",
    ")\n",
    "fig.add_trace(\n",
    "    go.Scatter(\n",
    "        x=df[\"h\"],\n",
    "        y=df[\"Coût MWh\"],\n",
    "        yaxis=\"y2\",\n",
    "        name=\"Coût MWh\",\n",
    "        line_color=\"black\"\n",
    "    )\n",
    ")\n",
    "\n",
    "fig.update_layout(\n",
    "    hovermode='x',\n",
    "    yaxis=dict(title=\"MW\" ,range=[0,df[\"Consommation (MW)\"].max()*1.1]),\n",
    "    yaxis2=dict(title=\"€/MWh\",\n",
    "    range=[df[\"Coût MWh\"].min()*0.95,df[\"Coût MWh\"].max()*1.1],\n",
    "    anchor=\"free\",\n",
    "    overlaying=\"y\",\n",
    "    side=\"right\",\n",
    "    position=1\n",
    "    ),\n",
    "    title = \"Répartition de la production électrique dans la journée\"\n",
    ")\n",
    "fig\n",
    "fig.show()"
   ]
  }
 ],
 "metadata": {
  "kernelspec": {
   "display_name": "Python 3.10.7 ('OL': venv)",
   "language": "python",
   "name": "python3"
  },
  "language_info": {
   "codemirror_mode": {
    "name": "ipython",
    "version": 3
   },
   "file_extension": ".py",
   "mimetype": "text/x-python",
   "name": "python",
   "nbconvert_exporter": "python",
   "pygments_lexer": "ipython3",
   "version": "3.10.7"
  },
  "orig_nbformat": 4,
  "vscode": {
   "interpreter": {
    "hash": "153e8b4aaf1e7bee5b29f07f8dd36650b8c55b521facabbe75a683164f3644eb"
   }
  }
 },
 "nbformat": 4,
 "nbformat_minor": 2
}
