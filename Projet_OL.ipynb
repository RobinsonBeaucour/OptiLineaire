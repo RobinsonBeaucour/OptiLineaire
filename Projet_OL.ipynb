{
 "cells": [
  {
   "cell_type": "code",
   "execution_count": 28,
   "metadata": {},
   "outputs": [],
   "source": [
    "import gurobipy as gp\n",
    "from itertools import product\n",
    "import matplotlib.pyplot as plt\n",
    "import pandas as pd\n",
    "import numpy as np\n",
    "from utils  import division"
   ]
  },
  {
   "cell_type": "markdown",
   "metadata": {},
   "source": [
    "## 1 Modèle de base des centrales thermiques\n",
    "\n",
    "### 1.1 Planification journalière du parc thermique\n",
    "\n",
    "Variables de décision :\n",
    "Pour une type de centrale $X \\in [A,B,C]$, et une heure de la journée $t\\in {1,\\dots,24}$, on définit :\n",
    "$$\n",
    "N_t^{(X)} = \\text{Nombre de centrales } X \\text{allumées à } t\\text{ h, (ENTIER)}\n",
    "$$\n",
    "$$\n",
    "P_t^{(X)} = \\text{Puissance totale produite par les centrales } X \\text{ à } t\\text{ h, (CONTINUE)}\n",
    "$$\n",
    "Contraintes :\n",
    "$$\n",
    "N_t^{(X)} P_{min}^{(X)} \\leq P_t^{(X)} \\leq N_t^{(X)} P_{max}^{(X)} \\text{ ,  Contraintes sur la puissance totale de chaque centrale}\n",
    "$$\n",
    "$$\n",
    "0 \\leq N_t^{(X)} \\leq N^{(X)} \\text{   ,   Contraintes sur le nombre de centrales allumées possible}\n",
    "$$\n",
    "$$\n",
    "\\forall t, \\sum_X P_t^{(X)} = D_t \\text{  ,  Contrainte équilibre offre-demande}\n",
    "$$\n",
    "Objectif :\n",
    "$$\n",
    "\\text{Minimiser} \\sum_X \\sum_T P_t^{(X)} C_{MWh}^{(X)}\n",
    "$$"
   ]
  },
  {
   "cell_type": "code",
   "execution_count": 29,
   "metadata": {},
   "outputs": [],
   "source": [
    "from utils import Centrale\n",
    "\n",
    "dict_Thermique = {\n",
    "    \"A\" : Centrale(\n",
    "    name=\"A\",\n",
    "    N=12,\n",
    "    Pmax=2000,\n",
    "    Pmin=850,\n",
    "    Cmwh=1.5\n",
    "    ),\n",
    "    \"B\" : Centrale(\n",
    "    name=\"B\",\n",
    "    N=10,\n",
    "    Pmax=1750,\n",
    "    Pmin=1250,\n",
    "    Cmwh=1.38\n",
    "    ),\n",
    "    \"C\" : Centrale(\n",
    "    name=\"C\",\n",
    "    N=5,\n",
    "    Pmax=4000,\n",
    "    Pmin=1500,\n",
    "    Cmwh=2.75\n",
    "    )\n",
    "}\n",
    "consommation = np.array([15,15,15,15,15,15,30,30,30,25,25,25,25,25,25,40,40,40,27,27,27,27,27,27])*1000\n",
    "heure = np.arange(24)"
   ]
  },
  {
   "cell_type": "code",
   "execution_count": 30,
   "metadata": {},
   "outputs": [],
   "source": [
    "from utils import variable_decision_thermique, contraintes_equilibre, contraintes_puissance_thermique\n",
    "\n",
    "model = gp.Model(name=\"1.1\")\n",
    "dict_N, dict_P = variable_decision_thermique(model=model,dict_Thermique=dict_Thermique)\n",
    "contraintes_puissance_thermique(model,dict_N,dict_P,dict_Thermique)\n",
    "contraintes_equilibre(model,dict_P,dict_Thermique,consommation)\n",
    "model.setObjective(gp.quicksum([dict_P[element[0],element[1]] * dict_Thermique[element[0]].Cmwh for element in product(dict_Thermique,range(24))]), gp.GRB.MINIMIZE)"
   ]
  },
  {
   "cell_type": "code",
   "execution_count": 31,
   "metadata": {},
   "outputs": [
    {
     "name": "stdout",
     "output_type": "stream",
     "text": [
      "Gurobi Optimizer version 9.5.2 build v9.5.2rc0 (win64)\n",
      "Thread count: 4 physical cores, 8 logical processors, using up to 8 threads\n",
      "Optimize a model with 168 rows, 144 columns and 360 nonzeros\n",
      "Model fingerprint: 0xf31da896\n",
      "Variable types: 72 continuous, 72 integer (0 binary)\n",
      "Coefficient statistics:\n",
      "  Matrix range     [1e+00, 4e+03]\n",
      "  Objective range  [1e+00, 3e+00]\n",
      "  Bounds range     [5e+00, 1e+01]\n",
      "  RHS range        [2e+04, 4e+04]\n",
      "Found heuristic solution: objective 1235375.0000\n",
      "Presolve removed 162 rows and 139 columns\n",
      "Presolve time: 0.02s\n",
      "Presolved: 6 rows, 5 columns, 14 nonzeros\n",
      "Found heuristic solution: objective 881275.00000\n",
      "Variable types: 2 continuous, 3 integer (0 binary)\n",
      "\n",
      "Root relaxation: objective 8.694000e+05, 2 iterations, 0.00 seconds (0.00 work units)\n",
      "\n",
      "    Nodes    |    Current Node    |     Objective Bounds      |     Work\n",
      " Expl Unexpl |  Obj  Depth IntInf | Incumbent    BestBd   Gap | It/Node Time\n",
      "\n",
      "     0     0 869400.000    0    1 881275.000 869400.000  1.35%     -    0s\n",
      "H    0     0                    869400.00000 869400.000  0.00%     -    0s\n",
      "     0     0 869400.000    0    1 869400.000 869400.000  0.00%     -    0s\n",
      "\n",
      "Explored 1 nodes (2 simplex iterations) in 0.03 seconds (0.00 work units)\n",
      "Thread count was 8 (of 8 available processors)\n",
      "\n",
      "Solution count 3: 869400 881275 1.23538e+06 \n",
      "\n",
      "Optimal solution found (tolerance 1.00e-04)\n",
      "Best objective 8.694000000000e+05, best bound 8.694000000000e+05, gap 0.0000%\n",
      "Coût : 869400.0\n"
     ]
    }
   ],
   "source": [
    "model.optimize()\n",
    "print(f\"Coût : {model.ObjVal}\")"
   ]
  },
  {
   "cell_type": "code",
   "execution_count": 32,
   "metadata": {},
   "outputs": [
    {
     "data": {
      "application/vnd.plotly.v1+json": {
       "config": {
        "plotlyServerURL": "https://plot.ly"
       },
       "data": [
        {
         "name": "Production A",
         "stackgroup": "one",
         "type": "scatter",
         "x": [
          0,
          1,
          2,
          3,
          4,
          5,
          6,
          7,
          8,
          9,
          10,
          11,
          12,
          13,
          14,
          15,
          16,
          17,
          18,
          19,
          20,
          21,
          22,
          23
         ],
         "y": [
          0,
          0,
          0,
          0,
          0,
          0,
          12500,
          12500,
          12500,
          7500,
          7500,
          7500,
          7500,
          7500,
          7500,
          22500,
          22500,
          22500,
          9500,
          9500,
          9500,
          9500,
          9500,
          9500
         ]
        },
        {
         "name": "Production B",
         "stackgroup": "one",
         "type": "scatter",
         "x": [
          0,
          1,
          2,
          3,
          4,
          5,
          6,
          7,
          8,
          9,
          10,
          11,
          12,
          13,
          14,
          15,
          16,
          17,
          18,
          19,
          20,
          21,
          22,
          23
         ],
         "y": [
          15000,
          15000,
          15000,
          15000,
          15000,
          15000,
          17500,
          17500,
          17500,
          17500,
          17500,
          17500,
          17500,
          17500,
          17500,
          17500,
          17500,
          17500,
          17500,
          17500,
          17500,
          17500,
          17500,
          17500
         ]
        },
        {
         "name": "Production C",
         "stackgroup": "one",
         "type": "scatter",
         "x": [
          0,
          1,
          2,
          3,
          4,
          5,
          6,
          7,
          8,
          9,
          10,
          11,
          12,
          13,
          14,
          15,
          16,
          17,
          18,
          19,
          20,
          21,
          22,
          23
         ],
         "y": [
          0,
          0,
          0,
          0,
          0,
          0,
          0,
          0,
          0,
          0,
          0,
          0,
          0,
          0,
          0,
          0,
          0,
          0,
          0,
          0,
          0,
          0,
          0,
          0
         ]
        },
        {
         "line": {
          "color": "red",
          "dash": "dash"
         },
         "name": "Production total",
         "type": "scatter",
         "x": [
          0,
          1,
          2,
          3,
          4,
          5,
          6,
          7,
          8,
          9,
          10,
          11,
          12,
          13,
          14,
          15,
          16,
          17,
          18,
          19,
          20,
          21,
          22,
          23
         ],
         "y": [
          15000,
          15000,
          15000,
          15000,
          15000,
          15000,
          30000,
          30000,
          30000,
          25000,
          25000,
          25000,
          25000,
          25000,
          25000,
          40000,
          40000,
          40000,
          27000,
          27000,
          27000,
          27000,
          27000,
          27000
         ]
        },
        {
         "line": {
          "color": "black"
         },
         "name": "Coût MWh",
         "type": "scatter",
         "x": [
          0,
          1,
          2,
          3,
          4,
          5,
          6,
          7,
          8,
          9,
          10,
          11,
          12,
          13,
          14,
          15,
          16,
          17,
          18,
          19,
          20,
          21,
          22,
          23
         ],
         "y": [
          1.38,
          1.38,
          1.38,
          1.38,
          1.38,
          1.38,
          1.43,
          1.43,
          1.43,
          1.416,
          1.416,
          1.416,
          1.416,
          1.416,
          1.416,
          1.4475,
          1.4475,
          1.4475,
          1.4222222222222223,
          1.4222222222222223,
          1.4222222222222223,
          1.4222222222222223,
          1.4222222222222223,
          1.4222222222222223
         ],
         "yaxis": "y2"
        }
       ],
       "layout": {
        "hovermode": "x",
        "template": {
         "data": {
          "bar": [
           {
            "error_x": {
             "color": "#2a3f5f"
            },
            "error_y": {
             "color": "#2a3f5f"
            },
            "marker": {
             "line": {
              "color": "#E5ECF6",
              "width": 0.5
             },
             "pattern": {
              "fillmode": "overlay",
              "size": 10,
              "solidity": 0.2
             }
            },
            "type": "bar"
           }
          ],
          "barpolar": [
           {
            "marker": {
             "line": {
              "color": "#E5ECF6",
              "width": 0.5
             },
             "pattern": {
              "fillmode": "overlay",
              "size": 10,
              "solidity": 0.2
             }
            },
            "type": "barpolar"
           }
          ],
          "carpet": [
           {
            "aaxis": {
             "endlinecolor": "#2a3f5f",
             "gridcolor": "white",
             "linecolor": "white",
             "minorgridcolor": "white",
             "startlinecolor": "#2a3f5f"
            },
            "baxis": {
             "endlinecolor": "#2a3f5f",
             "gridcolor": "white",
             "linecolor": "white",
             "minorgridcolor": "white",
             "startlinecolor": "#2a3f5f"
            },
            "type": "carpet"
           }
          ],
          "choropleth": [
           {
            "colorbar": {
             "outlinewidth": 0,
             "ticks": ""
            },
            "type": "choropleth"
           }
          ],
          "contour": [
           {
            "colorbar": {
             "outlinewidth": 0,
             "ticks": ""
            },
            "colorscale": [
             [
              0,
              "#0d0887"
             ],
             [
              0.1111111111111111,
              "#46039f"
             ],
             [
              0.2222222222222222,
              "#7201a8"
             ],
             [
              0.3333333333333333,
              "#9c179e"
             ],
             [
              0.4444444444444444,
              "#bd3786"
             ],
             [
              0.5555555555555556,
              "#d8576b"
             ],
             [
              0.6666666666666666,
              "#ed7953"
             ],
             [
              0.7777777777777778,
              "#fb9f3a"
             ],
             [
              0.8888888888888888,
              "#fdca26"
             ],
             [
              1,
              "#f0f921"
             ]
            ],
            "type": "contour"
           }
          ],
          "contourcarpet": [
           {
            "colorbar": {
             "outlinewidth": 0,
             "ticks": ""
            },
            "type": "contourcarpet"
           }
          ],
          "heatmap": [
           {
            "colorbar": {
             "outlinewidth": 0,
             "ticks": ""
            },
            "colorscale": [
             [
              0,
              "#0d0887"
             ],
             [
              0.1111111111111111,
              "#46039f"
             ],
             [
              0.2222222222222222,
              "#7201a8"
             ],
             [
              0.3333333333333333,
              "#9c179e"
             ],
             [
              0.4444444444444444,
              "#bd3786"
             ],
             [
              0.5555555555555556,
              "#d8576b"
             ],
             [
              0.6666666666666666,
              "#ed7953"
             ],
             [
              0.7777777777777778,
              "#fb9f3a"
             ],
             [
              0.8888888888888888,
              "#fdca26"
             ],
             [
              1,
              "#f0f921"
             ]
            ],
            "type": "heatmap"
           }
          ],
          "heatmapgl": [
           {
            "colorbar": {
             "outlinewidth": 0,
             "ticks": ""
            },
            "colorscale": [
             [
              0,
              "#0d0887"
             ],
             [
              0.1111111111111111,
              "#46039f"
             ],
             [
              0.2222222222222222,
              "#7201a8"
             ],
             [
              0.3333333333333333,
              "#9c179e"
             ],
             [
              0.4444444444444444,
              "#bd3786"
             ],
             [
              0.5555555555555556,
              "#d8576b"
             ],
             [
              0.6666666666666666,
              "#ed7953"
             ],
             [
              0.7777777777777778,
              "#fb9f3a"
             ],
             [
              0.8888888888888888,
              "#fdca26"
             ],
             [
              1,
              "#f0f921"
             ]
            ],
            "type": "heatmapgl"
           }
          ],
          "histogram": [
           {
            "marker": {
             "pattern": {
              "fillmode": "overlay",
              "size": 10,
              "solidity": 0.2
             }
            },
            "type": "histogram"
           }
          ],
          "histogram2d": [
           {
            "colorbar": {
             "outlinewidth": 0,
             "ticks": ""
            },
            "colorscale": [
             [
              0,
              "#0d0887"
             ],
             [
              0.1111111111111111,
              "#46039f"
             ],
             [
              0.2222222222222222,
              "#7201a8"
             ],
             [
              0.3333333333333333,
              "#9c179e"
             ],
             [
              0.4444444444444444,
              "#bd3786"
             ],
             [
              0.5555555555555556,
              "#d8576b"
             ],
             [
              0.6666666666666666,
              "#ed7953"
             ],
             [
              0.7777777777777778,
              "#fb9f3a"
             ],
             [
              0.8888888888888888,
              "#fdca26"
             ],
             [
              1,
              "#f0f921"
             ]
            ],
            "type": "histogram2d"
           }
          ],
          "histogram2dcontour": [
           {
            "colorbar": {
             "outlinewidth": 0,
             "ticks": ""
            },
            "colorscale": [
             [
              0,
              "#0d0887"
             ],
             [
              0.1111111111111111,
              "#46039f"
             ],
             [
              0.2222222222222222,
              "#7201a8"
             ],
             [
              0.3333333333333333,
              "#9c179e"
             ],
             [
              0.4444444444444444,
              "#bd3786"
             ],
             [
              0.5555555555555556,
              "#d8576b"
             ],
             [
              0.6666666666666666,
              "#ed7953"
             ],
             [
              0.7777777777777778,
              "#fb9f3a"
             ],
             [
              0.8888888888888888,
              "#fdca26"
             ],
             [
              1,
              "#f0f921"
             ]
            ],
            "type": "histogram2dcontour"
           }
          ],
          "mesh3d": [
           {
            "colorbar": {
             "outlinewidth": 0,
             "ticks": ""
            },
            "type": "mesh3d"
           }
          ],
          "parcoords": [
           {
            "line": {
             "colorbar": {
              "outlinewidth": 0,
              "ticks": ""
             }
            },
            "type": "parcoords"
           }
          ],
          "pie": [
           {
            "automargin": true,
            "type": "pie"
           }
          ],
          "scatter": [
           {
            "fillpattern": {
             "fillmode": "overlay",
             "size": 10,
             "solidity": 0.2
            },
            "type": "scatter"
           }
          ],
          "scatter3d": [
           {
            "line": {
             "colorbar": {
              "outlinewidth": 0,
              "ticks": ""
             }
            },
            "marker": {
             "colorbar": {
              "outlinewidth": 0,
              "ticks": ""
             }
            },
            "type": "scatter3d"
           }
          ],
          "scattercarpet": [
           {
            "marker": {
             "colorbar": {
              "outlinewidth": 0,
              "ticks": ""
             }
            },
            "type": "scattercarpet"
           }
          ],
          "scattergeo": [
           {
            "marker": {
             "colorbar": {
              "outlinewidth": 0,
              "ticks": ""
             }
            },
            "type": "scattergeo"
           }
          ],
          "scattergl": [
           {
            "marker": {
             "colorbar": {
              "outlinewidth": 0,
              "ticks": ""
             }
            },
            "type": "scattergl"
           }
          ],
          "scattermapbox": [
           {
            "marker": {
             "colorbar": {
              "outlinewidth": 0,
              "ticks": ""
             }
            },
            "type": "scattermapbox"
           }
          ],
          "scatterpolar": [
           {
            "marker": {
             "colorbar": {
              "outlinewidth": 0,
              "ticks": ""
             }
            },
            "type": "scatterpolar"
           }
          ],
          "scatterpolargl": [
           {
            "marker": {
             "colorbar": {
              "outlinewidth": 0,
              "ticks": ""
             }
            },
            "type": "scatterpolargl"
           }
          ],
          "scatterternary": [
           {
            "marker": {
             "colorbar": {
              "outlinewidth": 0,
              "ticks": ""
             }
            },
            "type": "scatterternary"
           }
          ],
          "surface": [
           {
            "colorbar": {
             "outlinewidth": 0,
             "ticks": ""
            },
            "colorscale": [
             [
              0,
              "#0d0887"
             ],
             [
              0.1111111111111111,
              "#46039f"
             ],
             [
              0.2222222222222222,
              "#7201a8"
             ],
             [
              0.3333333333333333,
              "#9c179e"
             ],
             [
              0.4444444444444444,
              "#bd3786"
             ],
             [
              0.5555555555555556,
              "#d8576b"
             ],
             [
              0.6666666666666666,
              "#ed7953"
             ],
             [
              0.7777777777777778,
              "#fb9f3a"
             ],
             [
              0.8888888888888888,
              "#fdca26"
             ],
             [
              1,
              "#f0f921"
             ]
            ],
            "type": "surface"
           }
          ],
          "table": [
           {
            "cells": {
             "fill": {
              "color": "#EBF0F8"
             },
             "line": {
              "color": "white"
             }
            },
            "header": {
             "fill": {
              "color": "#C8D4E3"
             },
             "line": {
              "color": "white"
             }
            },
            "type": "table"
           }
          ]
         },
         "layout": {
          "annotationdefaults": {
           "arrowcolor": "#2a3f5f",
           "arrowhead": 0,
           "arrowwidth": 1
          },
          "autotypenumbers": "strict",
          "coloraxis": {
           "colorbar": {
            "outlinewidth": 0,
            "ticks": ""
           }
          },
          "colorscale": {
           "diverging": [
            [
             0,
             "#8e0152"
            ],
            [
             0.1,
             "#c51b7d"
            ],
            [
             0.2,
             "#de77ae"
            ],
            [
             0.3,
             "#f1b6da"
            ],
            [
             0.4,
             "#fde0ef"
            ],
            [
             0.5,
             "#f7f7f7"
            ],
            [
             0.6,
             "#e6f5d0"
            ],
            [
             0.7,
             "#b8e186"
            ],
            [
             0.8,
             "#7fbc41"
            ],
            [
             0.9,
             "#4d9221"
            ],
            [
             1,
             "#276419"
            ]
           ],
           "sequential": [
            [
             0,
             "#0d0887"
            ],
            [
             0.1111111111111111,
             "#46039f"
            ],
            [
             0.2222222222222222,
             "#7201a8"
            ],
            [
             0.3333333333333333,
             "#9c179e"
            ],
            [
             0.4444444444444444,
             "#bd3786"
            ],
            [
             0.5555555555555556,
             "#d8576b"
            ],
            [
             0.6666666666666666,
             "#ed7953"
            ],
            [
             0.7777777777777778,
             "#fb9f3a"
            ],
            [
             0.8888888888888888,
             "#fdca26"
            ],
            [
             1,
             "#f0f921"
            ]
           ],
           "sequentialminus": [
            [
             0,
             "#0d0887"
            ],
            [
             0.1111111111111111,
             "#46039f"
            ],
            [
             0.2222222222222222,
             "#7201a8"
            ],
            [
             0.3333333333333333,
             "#9c179e"
            ],
            [
             0.4444444444444444,
             "#bd3786"
            ],
            [
             0.5555555555555556,
             "#d8576b"
            ],
            [
             0.6666666666666666,
             "#ed7953"
            ],
            [
             0.7777777777777778,
             "#fb9f3a"
            ],
            [
             0.8888888888888888,
             "#fdca26"
            ],
            [
             1,
             "#f0f921"
            ]
           ]
          },
          "colorway": [
           "#636efa",
           "#EF553B",
           "#00cc96",
           "#ab63fa",
           "#FFA15A",
           "#19d3f3",
           "#FF6692",
           "#B6E880",
           "#FF97FF",
           "#FECB52"
          ],
          "font": {
           "color": "#2a3f5f"
          },
          "geo": {
           "bgcolor": "white",
           "lakecolor": "white",
           "landcolor": "#E5ECF6",
           "showlakes": true,
           "showland": true,
           "subunitcolor": "white"
          },
          "hoverlabel": {
           "align": "left"
          },
          "hovermode": "closest",
          "mapbox": {
           "style": "light"
          },
          "paper_bgcolor": "white",
          "plot_bgcolor": "#E5ECF6",
          "polar": {
           "angularaxis": {
            "gridcolor": "white",
            "linecolor": "white",
            "ticks": ""
           },
           "bgcolor": "#E5ECF6",
           "radialaxis": {
            "gridcolor": "white",
            "linecolor": "white",
            "ticks": ""
           }
          },
          "scene": {
           "xaxis": {
            "backgroundcolor": "#E5ECF6",
            "gridcolor": "white",
            "gridwidth": 2,
            "linecolor": "white",
            "showbackground": true,
            "ticks": "",
            "zerolinecolor": "white"
           },
           "yaxis": {
            "backgroundcolor": "#E5ECF6",
            "gridcolor": "white",
            "gridwidth": 2,
            "linecolor": "white",
            "showbackground": true,
            "ticks": "",
            "zerolinecolor": "white"
           },
           "zaxis": {
            "backgroundcolor": "#E5ECF6",
            "gridcolor": "white",
            "gridwidth": 2,
            "linecolor": "white",
            "showbackground": true,
            "ticks": "",
            "zerolinecolor": "white"
           }
          },
          "shapedefaults": {
           "line": {
            "color": "#2a3f5f"
           }
          },
          "ternary": {
           "aaxis": {
            "gridcolor": "white",
            "linecolor": "white",
            "ticks": ""
           },
           "baxis": {
            "gridcolor": "white",
            "linecolor": "white",
            "ticks": ""
           },
           "bgcolor": "#E5ECF6",
           "caxis": {
            "gridcolor": "white",
            "linecolor": "white",
            "ticks": ""
           }
          },
          "title": {
           "x": 0.05
          },
          "xaxis": {
           "automargin": true,
           "gridcolor": "white",
           "linecolor": "white",
           "ticks": "",
           "title": {
            "standoff": 15
           },
           "zerolinecolor": "white",
           "zerolinewidth": 2
          },
          "yaxis": {
           "automargin": true,
           "gridcolor": "white",
           "linecolor": "white",
           "ticks": "",
           "title": {
            "standoff": 15
           },
           "zerolinecolor": "white",
           "zerolinewidth": 2
          }
         }
        },
        "title": {
         "text": "Répartition de la production électrique dans la journée - 1"
        },
        "yaxis": {
         "range": [
          0,
          44000
         ],
         "title": {
          "text": "MW"
         }
        },
        "yaxis2": {
         "anchor": "free",
         "overlaying": "y",
         "position": 1,
         "range": [
          1.311,
          1.5922500000000002
         ],
         "side": "right",
         "title": {
          "text": "€/MWh"
         }
        }
       }
      }
     },
     "metadata": {},
     "output_type": "display_data"
    }
   ],
   "source": [
    "from turtle import color\n",
    "import plotly.graph_objects as go\n",
    "from utils_viz import df_results, Results_viz\n",
    "df = df_results(dict_N,dict_P,dict_Thermique,consommation)\n",
    "fig = Results_viz(df,dict_Thermique)\n",
    "A = 1\n",
    "fig.update_layout(\n",
    "    title = f\"Répartition de la production électrique dans la journée - {A}\"\n",
    ")\n",
    "fig.show()\n",
    "fig.write_html(f\"HTML/Répartition de la production électrique dans la journée - {A}.html\")"
   ]
  },
  {
   "cell_type": "code",
   "execution_count": 33,
   "metadata": {},
   "outputs": [
    {
     "name": "stdout",
     "output_type": "stream",
     "text": [
      "Gurobi Optimizer version 9.5.2 build v9.5.2rc0 (win64)\n",
      "Thread count: 4 physical cores, 8 logical processors, using up to 8 threads\n",
      "Optimize a model with 168 rows, 144 columns and 360 nonzeros\n",
      "Model fingerprint: 0x635b27b9\n",
      "Coefficient statistics:\n",
      "  Matrix range     [1e+00, 4e+03]\n",
      "  Objective range  [1e+00, 3e+00]\n",
      "  Bounds range     [5e+00, 1e+01]\n",
      "  RHS range        [2e+04, 4e+04]\n",
      "Presolve removed 153 rows and 99 columns\n",
      "Presolve time: 0.01s\n",
      "Presolved: 15 rows, 45 columns, 45 nonzeros\n",
      "\n",
      "Iteration    Objective       Primal Inf.    Dual Inf.      Time\n",
      "       0    8.5266000e+05   1.743750e+04   0.000000e+00      0s\n",
      "      15    8.6940000e+05   0.000000e+00   0.000000e+00      0s\n",
      "\n",
      "Solved in 15 iterations and 0.01 seconds (0.00 work units)\n",
      "Optimal objective  8.694000000e+05\n",
      "Coût : 869400.0\n"
     ]
    }
   ],
   "source": [
    "model_relax = model.relax()\n",
    "model_relax.optimize()\n",
    "print(f\"Coût : {model_relax.ObjVal}\")"
   ]
  },
  {
   "cell_type": "markdown",
   "metadata": {},
   "source": [
    "## 2 Coût d'opération\n",
    "\n",
    "### 2.1 Coût de fonctionnement\n",
    "\n",
    "Pour ce problème on modifie la fonction objectif.<br>\n",
    "Objectif :\n",
    "$$\n",
    "\\text{Minimiser} \\sum_X \\sum_T (P_t^{(X)} - P_{min}^{(X)}N_t^{(X)}) C_{MWh}^{(X)} + N_t^{(X)}C_{base}^{(X)}\n",
    "$$"
   ]
  },
  {
   "cell_type": "code",
   "execution_count": 34,
   "metadata": {},
   "outputs": [],
   "source": [
    "from utils import Centrale2\n",
    "\n",
    "dict_Thermique = {\n",
    "    \"A\" : Centrale2(\n",
    "    name=\"A\",\n",
    "    N=12,\n",
    "    Pmax=2000,\n",
    "    Pmin=850,\n",
    "    Cmwh=2,\n",
    "    Cstart=2000,\n",
    "    Cbase=1000\n",
    "    ),\n",
    "    \"B\" : Centrale2(\n",
    "    name=\"B\",\n",
    "    N=10,\n",
    "    Pmax=1750,\n",
    "    Pmin=1250,\n",
    "    Cmwh=1.3,\n",
    "    Cstart=1000,\n",
    "    Cbase=2600\n",
    "    ),\n",
    "    \"C\" : Centrale2(\n",
    "    name=\"C\",\n",
    "    N=5,\n",
    "    Pmax=4000,\n",
    "    Pmin=1500,\n",
    "    Cmwh=3,\n",
    "    Cstart=500,\n",
    "    Cbase=3000\n",
    "    )\n",
    "}"
   ]
  },
  {
   "cell_type": "code",
   "execution_count": 35,
   "metadata": {},
   "outputs": [
    {
     "name": "stdout",
     "output_type": "stream",
     "text": [
      "Gurobi Optimizer version 9.5.2 build v9.5.2rc0 (win64)\n",
      "Thread count: 4 physical cores, 8 logical processors, using up to 8 threads\n",
      "Optimize a model with 168 rows, 144 columns and 360 nonzeros\n",
      "Model fingerprint: 0x7066cec8\n",
      "Variable types: 72 continuous, 72 integer (0 binary)\n",
      "Coefficient statistics:\n",
      "  Matrix range     [1e+00, 4e+03]\n",
      "  Objective range  [1e+00, 2e+03]\n",
      "  Bounds range     [5e+00, 1e+01]\n",
      "  RHS range        [2e+04, 4e+04]\n",
      "Found heuristic solution: objective 1271875.0000\n",
      "Presolve removed 162 rows and 139 columns\n",
      "Presolve time: 0.03s\n",
      "Presolved: 6 rows, 5 columns, 14 nonzeros\n",
      "Found heuristic solution: objective 987500.00000\n",
      "Variable types: 2 continuous, 3 integer (0 binary)\n",
      "Found heuristic solution: objective 985950.00000\n",
      "\n",
      "Root relaxation: objective 9.787500e+05, 2 iterations, 0.00 seconds (0.00 work units)\n",
      "\n",
      "    Nodes    |    Current Node    |     Objective Bounds      |     Work\n",
      " Expl Unexpl |  Obj  Depth IntInf | Incumbent    BestBd   Gap | It/Node Time\n",
      "\n",
      "     0     0 978750.000    0    1 985950.000 978750.000  0.73%     -    0s\n",
      "H    0     0                    978900.00000 978750.000  0.02%     -    0s\n",
      "     0     0 978750.000    0    1 978900.000 978750.000  0.02%     -    0s\n",
      "\n",
      "Explored 1 nodes (2 simplex iterations) in 0.05 seconds (0.00 work units)\n",
      "Thread count was 8 (of 8 available processors)\n",
      "\n",
      "Solution count 4: 978900 985950 987500 1.27188e+06 \n",
      "\n",
      "Optimal solution found (tolerance 1.00e-04)\n",
      "Best objective 9.789000000000e+05, best bound 9.789000000000e+05, gap 0.0000%\n",
      "Coût : 978900.0\n"
     ]
    }
   ],
   "source": [
    "model = gp.Model(name=\"2.1\")\n",
    "dict_N, dict_P = variable_decision_thermique(model,dict_Thermique)\n",
    "contraintes_puissance_thermique(model,dict_N=dict_N,dict_P=dict_P,dict_Thermique=dict_Thermique)\n",
    "contraintes_equilibre(model,dict_P,dict_Thermique,consommation)\n",
    "\n",
    "model.setObjective(gp.quicksum([dict_N[element[0],element[1]] * (dict_Thermique[element[0]].Cbase - dict_Thermique[element[0]].Pmin*dict_Thermique[element[0]].Cmwh) + dict_P[element[0],element[1]] * dict_Thermique[element[0]].Cmwh for element in product(dict_Thermique,range(24))]), gp.GRB.MINIMIZE)\n",
    "\n",
    "model.optimize()\n",
    "print(f\"Coût : {model.ObjVal}\")"
   ]
  },
  {
   "cell_type": "code",
   "execution_count": 36,
   "metadata": {},
   "outputs": [
    {
     "data": {
      "application/vnd.plotly.v1+json": {
       "config": {
        "plotlyServerURL": "https://plot.ly"
       },
       "data": [
        {
         "name": "Production A",
         "stackgroup": "one",
         "type": "scatter",
         "x": [
          0,
          1,
          2,
          3,
          4,
          5,
          6,
          7,
          8,
          9,
          10,
          11,
          12,
          13,
          14,
          15,
          16,
          17,
          18,
          19,
          20,
          21,
          22,
          23
         ],
         "y": [
          11500,
          11500,
          11500,
          11500,
          11500,
          11500,
          12500,
          12500,
          12500,
          11000,
          11000,
          11000,
          11000,
          11000,
          11000,
          22500,
          22500,
          22500,
          11250,
          11250,
          11250,
          11250,
          11250,
          11250
         ]
        },
        {
         "name": "Production B",
         "stackgroup": "one",
         "type": "scatter",
         "x": [
          0,
          1,
          2,
          3,
          4,
          5,
          6,
          7,
          8,
          9,
          10,
          11,
          12,
          13,
          14,
          15,
          16,
          17,
          18,
          19,
          20,
          21,
          22,
          23
         ],
         "y": [
          3500,
          3500,
          3500,
          3500,
          3500,
          3500,
          17500,
          17500,
          17500,
          14000,
          14000,
          14000,
          14000,
          14000,
          14000,
          17500,
          17500,
          17500,
          15750,
          15750,
          15750,
          15750,
          15750,
          15750
         ]
        },
        {
         "name": "Production C",
         "stackgroup": "one",
         "type": "scatter",
         "x": [
          0,
          1,
          2,
          3,
          4,
          5,
          6,
          7,
          8,
          9,
          10,
          11,
          12,
          13,
          14,
          15,
          16,
          17,
          18,
          19,
          20,
          21,
          22,
          23
         ],
         "y": [
          0,
          0,
          0,
          0,
          0,
          0,
          0,
          0,
          0,
          0,
          0,
          0,
          0,
          0,
          0,
          0,
          0,
          0,
          0,
          0,
          0,
          0,
          0,
          0
         ]
        },
        {
         "line": {
          "color": "red",
          "dash": "dash"
         },
         "name": "Production total",
         "type": "scatter",
         "x": [
          0,
          1,
          2,
          3,
          4,
          5,
          6,
          7,
          8,
          9,
          10,
          11,
          12,
          13,
          14,
          15,
          16,
          17,
          18,
          19,
          20,
          21,
          22,
          23
         ],
         "y": [
          15000,
          15000,
          15000,
          15000,
          15000,
          15000,
          30000,
          30000,
          30000,
          25000,
          25000,
          25000,
          25000,
          25000,
          25000,
          40000,
          40000,
          40000,
          27000,
          27000,
          27000,
          27000,
          27000,
          27000
         ]
        },
        {
         "line": {
          "color": "black"
         },
         "name": "Coût MWh",
         "type": "scatter",
         "x": [
          0,
          1,
          2,
          3,
          4,
          5,
          6,
          7,
          8,
          9,
          10,
          11,
          12,
          13,
          14,
          15,
          16,
          17,
          18,
          19,
          20,
          21,
          22,
          23
         ],
         "y": [
          1.4066666666666667,
          1.4066666666666667,
          1.4066666666666667,
          1.4066666666666667,
          1.4066666666666667,
          1.4066666666666667,
          1.6366666666666667,
          1.6366666666666667,
          1.6366666666666667,
          1.584,
          1.584,
          1.584,
          1.584,
          1.584,
          1.584,
          1.7275,
          1.7275,
          1.7275,
          1.6055555555555556,
          1.6055555555555556,
          1.6055555555555556,
          1.6055555555555556,
          1.6055555555555556,
          1.6055555555555556
         ],
         "yaxis": "y2"
        }
       ],
       "layout": {
        "hovermode": "x",
        "template": {
         "data": {
          "bar": [
           {
            "error_x": {
             "color": "#2a3f5f"
            },
            "error_y": {
             "color": "#2a3f5f"
            },
            "marker": {
             "line": {
              "color": "#E5ECF6",
              "width": 0.5
             },
             "pattern": {
              "fillmode": "overlay",
              "size": 10,
              "solidity": 0.2
             }
            },
            "type": "bar"
           }
          ],
          "barpolar": [
           {
            "marker": {
             "line": {
              "color": "#E5ECF6",
              "width": 0.5
             },
             "pattern": {
              "fillmode": "overlay",
              "size": 10,
              "solidity": 0.2
             }
            },
            "type": "barpolar"
           }
          ],
          "carpet": [
           {
            "aaxis": {
             "endlinecolor": "#2a3f5f",
             "gridcolor": "white",
             "linecolor": "white",
             "minorgridcolor": "white",
             "startlinecolor": "#2a3f5f"
            },
            "baxis": {
             "endlinecolor": "#2a3f5f",
             "gridcolor": "white",
             "linecolor": "white",
             "minorgridcolor": "white",
             "startlinecolor": "#2a3f5f"
            },
            "type": "carpet"
           }
          ],
          "choropleth": [
           {
            "colorbar": {
             "outlinewidth": 0,
             "ticks": ""
            },
            "type": "choropleth"
           }
          ],
          "contour": [
           {
            "colorbar": {
             "outlinewidth": 0,
             "ticks": ""
            },
            "colorscale": [
             [
              0,
              "#0d0887"
             ],
             [
              0.1111111111111111,
              "#46039f"
             ],
             [
              0.2222222222222222,
              "#7201a8"
             ],
             [
              0.3333333333333333,
              "#9c179e"
             ],
             [
              0.4444444444444444,
              "#bd3786"
             ],
             [
              0.5555555555555556,
              "#d8576b"
             ],
             [
              0.6666666666666666,
              "#ed7953"
             ],
             [
              0.7777777777777778,
              "#fb9f3a"
             ],
             [
              0.8888888888888888,
              "#fdca26"
             ],
             [
              1,
              "#f0f921"
             ]
            ],
            "type": "contour"
           }
          ],
          "contourcarpet": [
           {
            "colorbar": {
             "outlinewidth": 0,
             "ticks": ""
            },
            "type": "contourcarpet"
           }
          ],
          "heatmap": [
           {
            "colorbar": {
             "outlinewidth": 0,
             "ticks": ""
            },
            "colorscale": [
             [
              0,
              "#0d0887"
             ],
             [
              0.1111111111111111,
              "#46039f"
             ],
             [
              0.2222222222222222,
              "#7201a8"
             ],
             [
              0.3333333333333333,
              "#9c179e"
             ],
             [
              0.4444444444444444,
              "#bd3786"
             ],
             [
              0.5555555555555556,
              "#d8576b"
             ],
             [
              0.6666666666666666,
              "#ed7953"
             ],
             [
              0.7777777777777778,
              "#fb9f3a"
             ],
             [
              0.8888888888888888,
              "#fdca26"
             ],
             [
              1,
              "#f0f921"
             ]
            ],
            "type": "heatmap"
           }
          ],
          "heatmapgl": [
           {
            "colorbar": {
             "outlinewidth": 0,
             "ticks": ""
            },
            "colorscale": [
             [
              0,
              "#0d0887"
             ],
             [
              0.1111111111111111,
              "#46039f"
             ],
             [
              0.2222222222222222,
              "#7201a8"
             ],
             [
              0.3333333333333333,
              "#9c179e"
             ],
             [
              0.4444444444444444,
              "#bd3786"
             ],
             [
              0.5555555555555556,
              "#d8576b"
             ],
             [
              0.6666666666666666,
              "#ed7953"
             ],
             [
              0.7777777777777778,
              "#fb9f3a"
             ],
             [
              0.8888888888888888,
              "#fdca26"
             ],
             [
              1,
              "#f0f921"
             ]
            ],
            "type": "heatmapgl"
           }
          ],
          "histogram": [
           {
            "marker": {
             "pattern": {
              "fillmode": "overlay",
              "size": 10,
              "solidity": 0.2
             }
            },
            "type": "histogram"
           }
          ],
          "histogram2d": [
           {
            "colorbar": {
             "outlinewidth": 0,
             "ticks": ""
            },
            "colorscale": [
             [
              0,
              "#0d0887"
             ],
             [
              0.1111111111111111,
              "#46039f"
             ],
             [
              0.2222222222222222,
              "#7201a8"
             ],
             [
              0.3333333333333333,
              "#9c179e"
             ],
             [
              0.4444444444444444,
              "#bd3786"
             ],
             [
              0.5555555555555556,
              "#d8576b"
             ],
             [
              0.6666666666666666,
              "#ed7953"
             ],
             [
              0.7777777777777778,
              "#fb9f3a"
             ],
             [
              0.8888888888888888,
              "#fdca26"
             ],
             [
              1,
              "#f0f921"
             ]
            ],
            "type": "histogram2d"
           }
          ],
          "histogram2dcontour": [
           {
            "colorbar": {
             "outlinewidth": 0,
             "ticks": ""
            },
            "colorscale": [
             [
              0,
              "#0d0887"
             ],
             [
              0.1111111111111111,
              "#46039f"
             ],
             [
              0.2222222222222222,
              "#7201a8"
             ],
             [
              0.3333333333333333,
              "#9c179e"
             ],
             [
              0.4444444444444444,
              "#bd3786"
             ],
             [
              0.5555555555555556,
              "#d8576b"
             ],
             [
              0.6666666666666666,
              "#ed7953"
             ],
             [
              0.7777777777777778,
              "#fb9f3a"
             ],
             [
              0.8888888888888888,
              "#fdca26"
             ],
             [
              1,
              "#f0f921"
             ]
            ],
            "type": "histogram2dcontour"
           }
          ],
          "mesh3d": [
           {
            "colorbar": {
             "outlinewidth": 0,
             "ticks": ""
            },
            "type": "mesh3d"
           }
          ],
          "parcoords": [
           {
            "line": {
             "colorbar": {
              "outlinewidth": 0,
              "ticks": ""
             }
            },
            "type": "parcoords"
           }
          ],
          "pie": [
           {
            "automargin": true,
            "type": "pie"
           }
          ],
          "scatter": [
           {
            "fillpattern": {
             "fillmode": "overlay",
             "size": 10,
             "solidity": 0.2
            },
            "type": "scatter"
           }
          ],
          "scatter3d": [
           {
            "line": {
             "colorbar": {
              "outlinewidth": 0,
              "ticks": ""
             }
            },
            "marker": {
             "colorbar": {
              "outlinewidth": 0,
              "ticks": ""
             }
            },
            "type": "scatter3d"
           }
          ],
          "scattercarpet": [
           {
            "marker": {
             "colorbar": {
              "outlinewidth": 0,
              "ticks": ""
             }
            },
            "type": "scattercarpet"
           }
          ],
          "scattergeo": [
           {
            "marker": {
             "colorbar": {
              "outlinewidth": 0,
              "ticks": ""
             }
            },
            "type": "scattergeo"
           }
          ],
          "scattergl": [
           {
            "marker": {
             "colorbar": {
              "outlinewidth": 0,
              "ticks": ""
             }
            },
            "type": "scattergl"
           }
          ],
          "scattermapbox": [
           {
            "marker": {
             "colorbar": {
              "outlinewidth": 0,
              "ticks": ""
             }
            },
            "type": "scattermapbox"
           }
          ],
          "scatterpolar": [
           {
            "marker": {
             "colorbar": {
              "outlinewidth": 0,
              "ticks": ""
             }
            },
            "type": "scatterpolar"
           }
          ],
          "scatterpolargl": [
           {
            "marker": {
             "colorbar": {
              "outlinewidth": 0,
              "ticks": ""
             }
            },
            "type": "scatterpolargl"
           }
          ],
          "scatterternary": [
           {
            "marker": {
             "colorbar": {
              "outlinewidth": 0,
              "ticks": ""
             }
            },
            "type": "scatterternary"
           }
          ],
          "surface": [
           {
            "colorbar": {
             "outlinewidth": 0,
             "ticks": ""
            },
            "colorscale": [
             [
              0,
              "#0d0887"
             ],
             [
              0.1111111111111111,
              "#46039f"
             ],
             [
              0.2222222222222222,
              "#7201a8"
             ],
             [
              0.3333333333333333,
              "#9c179e"
             ],
             [
              0.4444444444444444,
              "#bd3786"
             ],
             [
              0.5555555555555556,
              "#d8576b"
             ],
             [
              0.6666666666666666,
              "#ed7953"
             ],
             [
              0.7777777777777778,
              "#fb9f3a"
             ],
             [
              0.8888888888888888,
              "#fdca26"
             ],
             [
              1,
              "#f0f921"
             ]
            ],
            "type": "surface"
           }
          ],
          "table": [
           {
            "cells": {
             "fill": {
              "color": "#EBF0F8"
             },
             "line": {
              "color": "white"
             }
            },
            "header": {
             "fill": {
              "color": "#C8D4E3"
             },
             "line": {
              "color": "white"
             }
            },
            "type": "table"
           }
          ]
         },
         "layout": {
          "annotationdefaults": {
           "arrowcolor": "#2a3f5f",
           "arrowhead": 0,
           "arrowwidth": 1
          },
          "autotypenumbers": "strict",
          "coloraxis": {
           "colorbar": {
            "outlinewidth": 0,
            "ticks": ""
           }
          },
          "colorscale": {
           "diverging": [
            [
             0,
             "#8e0152"
            ],
            [
             0.1,
             "#c51b7d"
            ],
            [
             0.2,
             "#de77ae"
            ],
            [
             0.3,
             "#f1b6da"
            ],
            [
             0.4,
             "#fde0ef"
            ],
            [
             0.5,
             "#f7f7f7"
            ],
            [
             0.6,
             "#e6f5d0"
            ],
            [
             0.7,
             "#b8e186"
            ],
            [
             0.8,
             "#7fbc41"
            ],
            [
             0.9,
             "#4d9221"
            ],
            [
             1,
             "#276419"
            ]
           ],
           "sequential": [
            [
             0,
             "#0d0887"
            ],
            [
             0.1111111111111111,
             "#46039f"
            ],
            [
             0.2222222222222222,
             "#7201a8"
            ],
            [
             0.3333333333333333,
             "#9c179e"
            ],
            [
             0.4444444444444444,
             "#bd3786"
            ],
            [
             0.5555555555555556,
             "#d8576b"
            ],
            [
             0.6666666666666666,
             "#ed7953"
            ],
            [
             0.7777777777777778,
             "#fb9f3a"
            ],
            [
             0.8888888888888888,
             "#fdca26"
            ],
            [
             1,
             "#f0f921"
            ]
           ],
           "sequentialminus": [
            [
             0,
             "#0d0887"
            ],
            [
             0.1111111111111111,
             "#46039f"
            ],
            [
             0.2222222222222222,
             "#7201a8"
            ],
            [
             0.3333333333333333,
             "#9c179e"
            ],
            [
             0.4444444444444444,
             "#bd3786"
            ],
            [
             0.5555555555555556,
             "#d8576b"
            ],
            [
             0.6666666666666666,
             "#ed7953"
            ],
            [
             0.7777777777777778,
             "#fb9f3a"
            ],
            [
             0.8888888888888888,
             "#fdca26"
            ],
            [
             1,
             "#f0f921"
            ]
           ]
          },
          "colorway": [
           "#636efa",
           "#EF553B",
           "#00cc96",
           "#ab63fa",
           "#FFA15A",
           "#19d3f3",
           "#FF6692",
           "#B6E880",
           "#FF97FF",
           "#FECB52"
          ],
          "font": {
           "color": "#2a3f5f"
          },
          "geo": {
           "bgcolor": "white",
           "lakecolor": "white",
           "landcolor": "#E5ECF6",
           "showlakes": true,
           "showland": true,
           "subunitcolor": "white"
          },
          "hoverlabel": {
           "align": "left"
          },
          "hovermode": "closest",
          "mapbox": {
           "style": "light"
          },
          "paper_bgcolor": "white",
          "plot_bgcolor": "#E5ECF6",
          "polar": {
           "angularaxis": {
            "gridcolor": "white",
            "linecolor": "white",
            "ticks": ""
           },
           "bgcolor": "#E5ECF6",
           "radialaxis": {
            "gridcolor": "white",
            "linecolor": "white",
            "ticks": ""
           }
          },
          "scene": {
           "xaxis": {
            "backgroundcolor": "#E5ECF6",
            "gridcolor": "white",
            "gridwidth": 2,
            "linecolor": "white",
            "showbackground": true,
            "ticks": "",
            "zerolinecolor": "white"
           },
           "yaxis": {
            "backgroundcolor": "#E5ECF6",
            "gridcolor": "white",
            "gridwidth": 2,
            "linecolor": "white",
            "showbackground": true,
            "ticks": "",
            "zerolinecolor": "white"
           },
           "zaxis": {
            "backgroundcolor": "#E5ECF6",
            "gridcolor": "white",
            "gridwidth": 2,
            "linecolor": "white",
            "showbackground": true,
            "ticks": "",
            "zerolinecolor": "white"
           }
          },
          "shapedefaults": {
           "line": {
            "color": "#2a3f5f"
           }
          },
          "ternary": {
           "aaxis": {
            "gridcolor": "white",
            "linecolor": "white",
            "ticks": ""
           },
           "baxis": {
            "gridcolor": "white",
            "linecolor": "white",
            "ticks": ""
           },
           "bgcolor": "#E5ECF6",
           "caxis": {
            "gridcolor": "white",
            "linecolor": "white",
            "ticks": ""
           }
          },
          "title": {
           "x": 0.05
          },
          "xaxis": {
           "automargin": true,
           "gridcolor": "white",
           "linecolor": "white",
           "ticks": "",
           "title": {
            "standoff": 15
           },
           "zerolinecolor": "white",
           "zerolinewidth": 2
          },
          "yaxis": {
           "automargin": true,
           "gridcolor": "white",
           "linecolor": "white",
           "ticks": "",
           "title": {
            "standoff": 15
           },
           "zerolinecolor": "white",
           "zerolinewidth": 2
          }
         }
        },
        "title": {
         "text": "Répartition de la production électrique dans la journée - 2.1"
        },
        "yaxis": {
         "range": [
          0,
          44000
         ],
         "title": {
          "text": "MW"
         }
        },
        "yaxis2": {
         "anchor": "free",
         "overlaying": "y",
         "position": 1,
         "range": [
          1.3363333333333334,
          1.9002500000000002
         ],
         "side": "right",
         "title": {
          "text": "€/MWh"
         }
        }
       }
      }
     },
     "metadata": {},
     "output_type": "display_data"
    }
   ],
   "source": [
    "from utils_viz import df_results2\n",
    "df = df_results2(dict_N=dict_N,dict_P=dict_P,dict_XX=dict_Thermique,consommation=consommation)\n",
    "fig = Results_viz(df,dict_Thermique)\n",
    "A = \"2.1\"\n",
    "fig.update_layout(\n",
    "    title = f\"Répartition de la production électrique dans la journée - {A}\"\n",
    ")\n",
    "fig.show()\n",
    "fig.write_html(f\"HTML/Répartition de la production électrique dans la journée - {A}.html\")"
   ]
  },
  {
   "cell_type": "markdown",
   "metadata": {},
   "source": [
    "### 2.2 Coût du démarrage\n",
    "\n",
    "Pour ce problème on modifie les variables de décisions et on y adapte les contraintes.\n",
    "\n",
    "Variables de décision :\n",
    "Pour une type de centrale $X \\in [A,B,C]$, et une heure de la journée $t\\in {1,\\dots,24}$, on définit :\n",
    "$$\n",
    "N_t^{(X)} = \\text{Nombre de centrales } X \\text{allumées à } t\\text{ h, (ENTIER)}\n",
    "$$\n",
    "$$\n",
    "N_{start,t}^{(X)} = \\text{Nombre de centrales } X \\text{démarrées à } t\\text{ h, (ENTIER)}\n",
    "$$\n",
    "$$\n",
    "P_t^{(X)} = \\text{Puissance totale produite par les centrales } X \\text{ à } t\\text{ h, (CONTINUE)}\n",
    "$$\n",
    "Contraintes (par convention $N_{-1}^{(X)}=0$):\n",
    "$$\n",
    "N_t^{(X)} P_{min}^{(X)} \\leq P_t^{(X)} \\leq N_t^{(X)} P_{max}^{(X)} \\text{ ,  Contraintes sur la puissance totale de chaque centrale}\n",
    "$$\n",
    "$$\n",
    "N_{start,t}^{(X)} \\leq N_t^{(X)} \\leq N_{start,t}^{(X)}+N_{t-1}^{(X)} \\text{   ,   Contraintes sur le nombre de centrales allumées possible}\n",
    "$$\n",
    "$$\n",
    "0 \\leq N_{start,t}^{(X)} \\leq N^{(X)}-N_{t-1}^{(X)} \\text{   ,   Contraintes sur le nombre de centrales démarrable possible}\n",
    "$$\n",
    "$$\n",
    "\\sum_X P_t^{(X)} = D_t \\text{  ,  Contrainte équilibre offre-demande}\n",
    "$$\n",
    "Objectif :\n",
    "$$\n",
    "\\text{Minimiser} \\sum_X \\sum_T (P_t^{(X)} - P_{min}^{(X)}N_t^{(X)}) C_{MWh}^{(X)} + N_t^{(X)}C_{base}^{(X)} + N_{start,t}^{(X)}C_{start}^{(X)}\n",
    "$$"
   ]
  },
  {
   "cell_type": "code",
   "execution_count": 37,
   "metadata": {},
   "outputs": [
    {
     "name": "stdout",
     "output_type": "stream",
     "text": [
      "Gurobi Optimizer version 9.5.2 build v9.5.2rc0 (win64)\n",
      "Thread count: 4 physical cores, 8 logical processors, using up to 8 threads\n",
      "Optimize a model with 312 rows, 216 columns and 714 nonzeros\n",
      "Model fingerprint: 0xafd71f6e\n",
      "Variable types: 72 continuous, 144 integer (0 binary)\n",
      "Coefficient statistics:\n",
      "  Matrix range     [1e+00, 4e+03]\n",
      "  Objective range  [1e+00, 2e+03]\n",
      "  Bounds range     [5e+00, 1e+01]\n",
      "  RHS range        [5e+00, 4e+04]\n",
      "Found heuristic solution: objective 1474375.0000\n",
      "Presolve removed 108 rows and 30 columns\n",
      "Presolve time: 0.00s\n",
      "Presolved: 204 rows, 186 columns, 522 nonzeros\n",
      "Variable types: 42 continuous, 144 integer (0 binary)\n",
      "Found heuristic solution: objective 1378930.0000\n",
      "\n",
      "Root relaxation: objective 1.011257e+06, 52 iterations, 0.00 seconds (0.00 work units)\n",
      "\n",
      "    Nodes    |    Current Node    |     Objective Bounds      |     Work\n",
      " Expl Unexpl |  Obj  Depth IntInf | Incumbent    BestBd   Gap | It/Node Time\n",
      "\n",
      "     0     0 1011257.14    0   26 1378930.00 1011257.14  26.7%     -    0s\n",
      "H    0     0                    1019660.0000 1011257.14  0.82%     -    0s\n",
      "H    0     0                    1018090.0000 1011257.14  0.67%     -    0s\n",
      "H    0     0                    1016340.0000 1011257.14  0.50%     -    0s\n",
      "H    0     0                    1016100.0000 1011257.14  0.48%     -    0s\n",
      "     0     0 1014233.33    0    4 1016100.00 1014233.33  0.18%     -    0s\n",
      "H    0     0                    1015860.0000 1014233.33  0.16%     -    0s\n",
      "H    0     0                    1014650.0000 1014233.33  0.04%     -    0s\n",
      "H    0     0                    1014400.0000 1014233.33  0.02%     -    0s\n",
      "\n",
      "Cutting planes:\n",
      "  Gomory: 3\n",
      "  MIR: 27\n",
      "  StrongCG: 2\n",
      "\n",
      "Explored 1 nodes (92 simplex iterations) in 0.03 seconds (0.00 work units)\n",
      "Thread count was 8 (of 8 available processors)\n",
      "\n",
      "Solution count 9: 1.0144e+06 1.01465e+06 1.01586e+06 ... 1.47438e+06\n",
      "\n",
      "Optimal solution found (tolerance 1.00e-04)\n",
      "Best objective 1.014400000000e+06, best bound 1.014400000000e+06, gap 0.0000%\n"
     ]
    }
   ],
   "source": [
    "from utils import variable_decision_thermique_avec_demarrage, contraintes_demarrage\n",
    "\n",
    "model = gp.Model(name=\"2.2\")\n",
    "\n",
    "dict_N, dict_Nstart, dict_P = variable_decision_thermique_avec_demarrage(model,dict_Thermique)\n",
    "\n",
    "model.setObjective(gp.quicksum([dict_N[element[0],element[1]] * (dict_Thermique[element[0]].Cbase - dict_Thermique[element[0]].Pmin*dict_Thermique[element[0]].Cmwh) + dict_P[element[0],element[1]] * dict_Thermique[element[0]].Cmwh + dict_Nstart[element[0],element[1]]*dict_Thermique[element[0]].Cstart for element in product(dict_Thermique,range(24))]), gp.GRB.MINIMIZE)\n",
    "\n",
    "contraintes_demarrage(model,dict_N,dict_Nstart,dict_Thermique,cyclique=False)\n",
    "contraintes_puissance_thermique(model,dict_N,dict_P,dict_Thermique)\n",
    "contraintes_equilibre(model,dict_P,dict_Thermique,consommation)\n",
    "\n",
    "model.optimize()"
   ]
  },
  {
   "cell_type": "code",
   "execution_count": 38,
   "metadata": {},
   "outputs": [
    {
     "data": {
      "application/vnd.plotly.v1+json": {
       "config": {
        "plotlyServerURL": "https://plot.ly"
       },
       "data": [
        {
         "name": "Production A",
         "stackgroup": "one",
         "type": "scatter",
         "x": [
          0,
          1,
          2,
          3,
          4,
          5,
          6,
          7,
          8,
          9,
          10,
          11,
          12,
          13,
          14,
          15,
          16,
          17,
          18,
          19,
          20,
          21,
          22,
          23
         ],
         "y": [
          11500,
          11500,
          11500,
          11500,
          11500,
          11500,
          16000,
          16000,
          16000,
          11000,
          11000,
          11000,
          11000,
          11000,
          11000,
          22500,
          22500,
          22500,
          11250,
          11250,
          11250,
          11250,
          11250,
          11250
         ]
        },
        {
         "name": "Production B",
         "stackgroup": "one",
         "type": "scatter",
         "x": [
          0,
          1,
          2,
          3,
          4,
          5,
          6,
          7,
          8,
          9,
          10,
          11,
          12,
          13,
          14,
          15,
          16,
          17,
          18,
          19,
          20,
          21,
          22,
          23
         ],
         "y": [
          3500,
          3500,
          3500,
          3500,
          3500,
          3500,
          14000,
          14000,
          14000,
          14000,
          14000,
          14000,
          14000,
          14000,
          14000,
          17500,
          17500,
          17500,
          15750,
          15750,
          15750,
          15750,
          15750,
          15750
         ]
        },
        {
         "name": "Production C",
         "stackgroup": "one",
         "type": "scatter",
         "x": [
          0,
          1,
          2,
          3,
          4,
          5,
          6,
          7,
          8,
          9,
          10,
          11,
          12,
          13,
          14,
          15,
          16,
          17,
          18,
          19,
          20,
          21,
          22,
          23
         ],
         "y": [
          0,
          0,
          0,
          0,
          0,
          0,
          0,
          0,
          0,
          0,
          0,
          0,
          0,
          0,
          0,
          0,
          0,
          0,
          0,
          0,
          0,
          0,
          0,
          0
         ]
        },
        {
         "line": {
          "color": "red",
          "dash": "dash"
         },
         "name": "Production total",
         "type": "scatter",
         "x": [
          0,
          1,
          2,
          3,
          4,
          5,
          6,
          7,
          8,
          9,
          10,
          11,
          12,
          13,
          14,
          15,
          16,
          17,
          18,
          19,
          20,
          21,
          22,
          23
         ],
         "y": [
          15000,
          15000,
          15000,
          15000,
          15000,
          15000,
          30000,
          30000,
          30000,
          25000,
          25000,
          25000,
          25000,
          25000,
          25000,
          40000,
          40000,
          40000,
          27000,
          27000,
          27000,
          27000,
          27000,
          27000
         ]
        },
        {
         "line": {
          "color": "black"
         },
         "name": "Coût MWh",
         "type": "scatter",
         "x": [
          0,
          1,
          2,
          3,
          4,
          5,
          6,
          7,
          8,
          9,
          10,
          11,
          12,
          13,
          14,
          15,
          16,
          17,
          18,
          19,
          20,
          21,
          22,
          23
         ],
         "y": [
          3.14,
          1.4066666666666667,
          1.4066666666666667,
          1.4066666666666667,
          1.4066666666666667,
          1.4066666666666667,
          1.8533333333333333,
          1.6533333333333333,
          1.6533333333333333,
          1.584,
          1.584,
          1.584,
          1.584,
          1.584,
          1.584,
          1.7775,
          1.7275,
          1.7275,
          1.6055555555555556,
          1.6055555555555556,
          1.6055555555555556,
          1.6055555555555556,
          1.6055555555555556,
          1.6055555555555556
         ],
         "yaxis": "y2"
        }
       ],
       "layout": {
        "hovermode": "x",
        "template": {
         "data": {
          "bar": [
           {
            "error_x": {
             "color": "#2a3f5f"
            },
            "error_y": {
             "color": "#2a3f5f"
            },
            "marker": {
             "line": {
              "color": "#E5ECF6",
              "width": 0.5
             },
             "pattern": {
              "fillmode": "overlay",
              "size": 10,
              "solidity": 0.2
             }
            },
            "type": "bar"
           }
          ],
          "barpolar": [
           {
            "marker": {
             "line": {
              "color": "#E5ECF6",
              "width": 0.5
             },
             "pattern": {
              "fillmode": "overlay",
              "size": 10,
              "solidity": 0.2
             }
            },
            "type": "barpolar"
           }
          ],
          "carpet": [
           {
            "aaxis": {
             "endlinecolor": "#2a3f5f",
             "gridcolor": "white",
             "linecolor": "white",
             "minorgridcolor": "white",
             "startlinecolor": "#2a3f5f"
            },
            "baxis": {
             "endlinecolor": "#2a3f5f",
             "gridcolor": "white",
             "linecolor": "white",
             "minorgridcolor": "white",
             "startlinecolor": "#2a3f5f"
            },
            "type": "carpet"
           }
          ],
          "choropleth": [
           {
            "colorbar": {
             "outlinewidth": 0,
             "ticks": ""
            },
            "type": "choropleth"
           }
          ],
          "contour": [
           {
            "colorbar": {
             "outlinewidth": 0,
             "ticks": ""
            },
            "colorscale": [
             [
              0,
              "#0d0887"
             ],
             [
              0.1111111111111111,
              "#46039f"
             ],
             [
              0.2222222222222222,
              "#7201a8"
             ],
             [
              0.3333333333333333,
              "#9c179e"
             ],
             [
              0.4444444444444444,
              "#bd3786"
             ],
             [
              0.5555555555555556,
              "#d8576b"
             ],
             [
              0.6666666666666666,
              "#ed7953"
             ],
             [
              0.7777777777777778,
              "#fb9f3a"
             ],
             [
              0.8888888888888888,
              "#fdca26"
             ],
             [
              1,
              "#f0f921"
             ]
            ],
            "type": "contour"
           }
          ],
          "contourcarpet": [
           {
            "colorbar": {
             "outlinewidth": 0,
             "ticks": ""
            },
            "type": "contourcarpet"
           }
          ],
          "heatmap": [
           {
            "colorbar": {
             "outlinewidth": 0,
             "ticks": ""
            },
            "colorscale": [
             [
              0,
              "#0d0887"
             ],
             [
              0.1111111111111111,
              "#46039f"
             ],
             [
              0.2222222222222222,
              "#7201a8"
             ],
             [
              0.3333333333333333,
              "#9c179e"
             ],
             [
              0.4444444444444444,
              "#bd3786"
             ],
             [
              0.5555555555555556,
              "#d8576b"
             ],
             [
              0.6666666666666666,
              "#ed7953"
             ],
             [
              0.7777777777777778,
              "#fb9f3a"
             ],
             [
              0.8888888888888888,
              "#fdca26"
             ],
             [
              1,
              "#f0f921"
             ]
            ],
            "type": "heatmap"
           }
          ],
          "heatmapgl": [
           {
            "colorbar": {
             "outlinewidth": 0,
             "ticks": ""
            },
            "colorscale": [
             [
              0,
              "#0d0887"
             ],
             [
              0.1111111111111111,
              "#46039f"
             ],
             [
              0.2222222222222222,
              "#7201a8"
             ],
             [
              0.3333333333333333,
              "#9c179e"
             ],
             [
              0.4444444444444444,
              "#bd3786"
             ],
             [
              0.5555555555555556,
              "#d8576b"
             ],
             [
              0.6666666666666666,
              "#ed7953"
             ],
             [
              0.7777777777777778,
              "#fb9f3a"
             ],
             [
              0.8888888888888888,
              "#fdca26"
             ],
             [
              1,
              "#f0f921"
             ]
            ],
            "type": "heatmapgl"
           }
          ],
          "histogram": [
           {
            "marker": {
             "pattern": {
              "fillmode": "overlay",
              "size": 10,
              "solidity": 0.2
             }
            },
            "type": "histogram"
           }
          ],
          "histogram2d": [
           {
            "colorbar": {
             "outlinewidth": 0,
             "ticks": ""
            },
            "colorscale": [
             [
              0,
              "#0d0887"
             ],
             [
              0.1111111111111111,
              "#46039f"
             ],
             [
              0.2222222222222222,
              "#7201a8"
             ],
             [
              0.3333333333333333,
              "#9c179e"
             ],
             [
              0.4444444444444444,
              "#bd3786"
             ],
             [
              0.5555555555555556,
              "#d8576b"
             ],
             [
              0.6666666666666666,
              "#ed7953"
             ],
             [
              0.7777777777777778,
              "#fb9f3a"
             ],
             [
              0.8888888888888888,
              "#fdca26"
             ],
             [
              1,
              "#f0f921"
             ]
            ],
            "type": "histogram2d"
           }
          ],
          "histogram2dcontour": [
           {
            "colorbar": {
             "outlinewidth": 0,
             "ticks": ""
            },
            "colorscale": [
             [
              0,
              "#0d0887"
             ],
             [
              0.1111111111111111,
              "#46039f"
             ],
             [
              0.2222222222222222,
              "#7201a8"
             ],
             [
              0.3333333333333333,
              "#9c179e"
             ],
             [
              0.4444444444444444,
              "#bd3786"
             ],
             [
              0.5555555555555556,
              "#d8576b"
             ],
             [
              0.6666666666666666,
              "#ed7953"
             ],
             [
              0.7777777777777778,
              "#fb9f3a"
             ],
             [
              0.8888888888888888,
              "#fdca26"
             ],
             [
              1,
              "#f0f921"
             ]
            ],
            "type": "histogram2dcontour"
           }
          ],
          "mesh3d": [
           {
            "colorbar": {
             "outlinewidth": 0,
             "ticks": ""
            },
            "type": "mesh3d"
           }
          ],
          "parcoords": [
           {
            "line": {
             "colorbar": {
              "outlinewidth": 0,
              "ticks": ""
             }
            },
            "type": "parcoords"
           }
          ],
          "pie": [
           {
            "automargin": true,
            "type": "pie"
           }
          ],
          "scatter": [
           {
            "fillpattern": {
             "fillmode": "overlay",
             "size": 10,
             "solidity": 0.2
            },
            "type": "scatter"
           }
          ],
          "scatter3d": [
           {
            "line": {
             "colorbar": {
              "outlinewidth": 0,
              "ticks": ""
             }
            },
            "marker": {
             "colorbar": {
              "outlinewidth": 0,
              "ticks": ""
             }
            },
            "type": "scatter3d"
           }
          ],
          "scattercarpet": [
           {
            "marker": {
             "colorbar": {
              "outlinewidth": 0,
              "ticks": ""
             }
            },
            "type": "scattercarpet"
           }
          ],
          "scattergeo": [
           {
            "marker": {
             "colorbar": {
              "outlinewidth": 0,
              "ticks": ""
             }
            },
            "type": "scattergeo"
           }
          ],
          "scattergl": [
           {
            "marker": {
             "colorbar": {
              "outlinewidth": 0,
              "ticks": ""
             }
            },
            "type": "scattergl"
           }
          ],
          "scattermapbox": [
           {
            "marker": {
             "colorbar": {
              "outlinewidth": 0,
              "ticks": ""
             }
            },
            "type": "scattermapbox"
           }
          ],
          "scatterpolar": [
           {
            "marker": {
             "colorbar": {
              "outlinewidth": 0,
              "ticks": ""
             }
            },
            "type": "scatterpolar"
           }
          ],
          "scatterpolargl": [
           {
            "marker": {
             "colorbar": {
              "outlinewidth": 0,
              "ticks": ""
             }
            },
            "type": "scatterpolargl"
           }
          ],
          "scatterternary": [
           {
            "marker": {
             "colorbar": {
              "outlinewidth": 0,
              "ticks": ""
             }
            },
            "type": "scatterternary"
           }
          ],
          "surface": [
           {
            "colorbar": {
             "outlinewidth": 0,
             "ticks": ""
            },
            "colorscale": [
             [
              0,
              "#0d0887"
             ],
             [
              0.1111111111111111,
              "#46039f"
             ],
             [
              0.2222222222222222,
              "#7201a8"
             ],
             [
              0.3333333333333333,
              "#9c179e"
             ],
             [
              0.4444444444444444,
              "#bd3786"
             ],
             [
              0.5555555555555556,
              "#d8576b"
             ],
             [
              0.6666666666666666,
              "#ed7953"
             ],
             [
              0.7777777777777778,
              "#fb9f3a"
             ],
             [
              0.8888888888888888,
              "#fdca26"
             ],
             [
              1,
              "#f0f921"
             ]
            ],
            "type": "surface"
           }
          ],
          "table": [
           {
            "cells": {
             "fill": {
              "color": "#EBF0F8"
             },
             "line": {
              "color": "white"
             }
            },
            "header": {
             "fill": {
              "color": "#C8D4E3"
             },
             "line": {
              "color": "white"
             }
            },
            "type": "table"
           }
          ]
         },
         "layout": {
          "annotationdefaults": {
           "arrowcolor": "#2a3f5f",
           "arrowhead": 0,
           "arrowwidth": 1
          },
          "autotypenumbers": "strict",
          "coloraxis": {
           "colorbar": {
            "outlinewidth": 0,
            "ticks": ""
           }
          },
          "colorscale": {
           "diverging": [
            [
             0,
             "#8e0152"
            ],
            [
             0.1,
             "#c51b7d"
            ],
            [
             0.2,
             "#de77ae"
            ],
            [
             0.3,
             "#f1b6da"
            ],
            [
             0.4,
             "#fde0ef"
            ],
            [
             0.5,
             "#f7f7f7"
            ],
            [
             0.6,
             "#e6f5d0"
            ],
            [
             0.7,
             "#b8e186"
            ],
            [
             0.8,
             "#7fbc41"
            ],
            [
             0.9,
             "#4d9221"
            ],
            [
             1,
             "#276419"
            ]
           ],
           "sequential": [
            [
             0,
             "#0d0887"
            ],
            [
             0.1111111111111111,
             "#46039f"
            ],
            [
             0.2222222222222222,
             "#7201a8"
            ],
            [
             0.3333333333333333,
             "#9c179e"
            ],
            [
             0.4444444444444444,
             "#bd3786"
            ],
            [
             0.5555555555555556,
             "#d8576b"
            ],
            [
             0.6666666666666666,
             "#ed7953"
            ],
            [
             0.7777777777777778,
             "#fb9f3a"
            ],
            [
             0.8888888888888888,
             "#fdca26"
            ],
            [
             1,
             "#f0f921"
            ]
           ],
           "sequentialminus": [
            [
             0,
             "#0d0887"
            ],
            [
             0.1111111111111111,
             "#46039f"
            ],
            [
             0.2222222222222222,
             "#7201a8"
            ],
            [
             0.3333333333333333,
             "#9c179e"
            ],
            [
             0.4444444444444444,
             "#bd3786"
            ],
            [
             0.5555555555555556,
             "#d8576b"
            ],
            [
             0.6666666666666666,
             "#ed7953"
            ],
            [
             0.7777777777777778,
             "#fb9f3a"
            ],
            [
             0.8888888888888888,
             "#fdca26"
            ],
            [
             1,
             "#f0f921"
            ]
           ]
          },
          "colorway": [
           "#636efa",
           "#EF553B",
           "#00cc96",
           "#ab63fa",
           "#FFA15A",
           "#19d3f3",
           "#FF6692",
           "#B6E880",
           "#FF97FF",
           "#FECB52"
          ],
          "font": {
           "color": "#2a3f5f"
          },
          "geo": {
           "bgcolor": "white",
           "lakecolor": "white",
           "landcolor": "#E5ECF6",
           "showlakes": true,
           "showland": true,
           "subunitcolor": "white"
          },
          "hoverlabel": {
           "align": "left"
          },
          "hovermode": "closest",
          "mapbox": {
           "style": "light"
          },
          "paper_bgcolor": "white",
          "plot_bgcolor": "#E5ECF6",
          "polar": {
           "angularaxis": {
            "gridcolor": "white",
            "linecolor": "white",
            "ticks": ""
           },
           "bgcolor": "#E5ECF6",
           "radialaxis": {
            "gridcolor": "white",
            "linecolor": "white",
            "ticks": ""
           }
          },
          "scene": {
           "xaxis": {
            "backgroundcolor": "#E5ECF6",
            "gridcolor": "white",
            "gridwidth": 2,
            "linecolor": "white",
            "showbackground": true,
            "ticks": "",
            "zerolinecolor": "white"
           },
           "yaxis": {
            "backgroundcolor": "#E5ECF6",
            "gridcolor": "white",
            "gridwidth": 2,
            "linecolor": "white",
            "showbackground": true,
            "ticks": "",
            "zerolinecolor": "white"
           },
           "zaxis": {
            "backgroundcolor": "#E5ECF6",
            "gridcolor": "white",
            "gridwidth": 2,
            "linecolor": "white",
            "showbackground": true,
            "ticks": "",
            "zerolinecolor": "white"
           }
          },
          "shapedefaults": {
           "line": {
            "color": "#2a3f5f"
           }
          },
          "ternary": {
           "aaxis": {
            "gridcolor": "white",
            "linecolor": "white",
            "ticks": ""
           },
           "baxis": {
            "gridcolor": "white",
            "linecolor": "white",
            "ticks": ""
           },
           "bgcolor": "#E5ECF6",
           "caxis": {
            "gridcolor": "white",
            "linecolor": "white",
            "ticks": ""
           }
          },
          "title": {
           "x": 0.05
          },
          "xaxis": {
           "automargin": true,
           "gridcolor": "white",
           "linecolor": "white",
           "ticks": "",
           "title": {
            "standoff": 15
           },
           "zerolinecolor": "white",
           "zerolinewidth": 2
          },
          "yaxis": {
           "automargin": true,
           "gridcolor": "white",
           "linecolor": "white",
           "ticks": "",
           "title": {
            "standoff": 15
           },
           "zerolinecolor": "white",
           "zerolinewidth": 2
          }
         }
        },
        "title": {
         "text": "Répartition de la production électrique dans la journée - 2.2"
        },
        "yaxis": {
         "range": [
          0,
          44000
         ],
         "title": {
          "text": "MW"
         }
        },
        "yaxis2": {
         "anchor": "free",
         "overlaying": "y",
         "position": 1,
         "range": [
          1.3363333333333334,
          3.4540000000000006
         ],
         "side": "right",
         "title": {
          "text": "€/MWh"
         }
        }
       }
      }
     },
     "metadata": {},
     "output_type": "display_data"
    }
   ],
   "source": [
    "from utils_viz import df_results22\n",
    "df = df_results22(dict_N=dict_N,dict_P=dict_P,dict_Nstart=dict_Nstart,dict_XX=dict_Thermique,consommation=consommation)\n",
    "fig = Results_viz(df,dict_Thermique)\n",
    "A = \"2.2\"\n",
    "fig.update_layout(\n",
    "    title = f\"Répartition de la production électrique dans la journée - {A}\"\n",
    ")\n",
    "fig.show()\n",
    "fig.write_html(f\"HTML/Répartition de la production électrique dans la journée - {A}.html\")"
   ]
  },
  {
   "cell_type": "markdown",
   "metadata": {},
   "source": [
    "## 3 Réserve de puissance\n",
    "\n",
    "Pour intégrer la réserve de puissance on ajoute la contrainte :\n",
    "$$\n",
    "\\sum_X N_t^{(X)}P_{max}^{(X)}\\geq D_t\\times 1,15\n",
    "$$"
   ]
  },
  {
   "cell_type": "code",
   "execution_count": 39,
   "metadata": {},
   "outputs": [
    {
     "name": "stdout",
     "output_type": "stream",
     "text": [
      "Gurobi Optimizer version 9.5.2 build v9.5.2rc0 (win64)\n",
      "Thread count: 4 physical cores, 8 logical processors, using up to 8 threads\n",
      "Optimize a model with 336 rows, 216 columns and 786 nonzeros\n",
      "Model fingerprint: 0x11b5f8ee\n",
      "Variable types: 72 continuous, 144 integer (0 binary)\n",
      "Coefficient statistics:\n",
      "  Matrix range     [1e+00, 4e+03]\n",
      "  Objective range  [1e+00, 2e+03]\n",
      "  Bounds range     [5e+00, 1e+01]\n",
      "  RHS range        [5e+00, 5e+04]\n",
      "\n",
      "MIP start from previous solve did not produce a new incumbent solution\n",
      "MIP start from previous solve violates constraint Réserve_de_puissance_à_15 by 4500.000000000\n",
      "\n",
      "Found heuristic solution: objective 1316565.0000\n",
      "Presolve removed 108 rows and 30 columns\n",
      "Presolve time: 0.00s\n",
      "Presolved: 228 rows, 186 columns, 594 nonzeros\n",
      "Found heuristic solution: objective 1229165.0000\n",
      "Variable types: 42 continuous, 144 integer (0 binary)\n",
      "Found heuristic solution: objective 1198245.0000\n",
      "\n",
      "Root relaxation: objective 1.012257e+06, 59 iterations, 0.00 seconds (0.00 work units)\n",
      "\n",
      "    Nodes    |    Current Node    |     Objective Bounds      |     Work\n",
      " Expl Unexpl |  Obj  Depth IntInf | Incumbent    BestBd   Gap | It/Node Time\n",
      "\n",
      "     0     0 1012257.14    0   26 1198245.00 1012257.14  15.5%     -    0s\n",
      "H    0     0                    1020660.0000 1012257.14  0.82%     -    0s\n",
      "H    0     0                    1017340.0000 1012257.14  0.50%     -    0s\n",
      "H    0     0                    1017100.0000 1012257.14  0.48%     -    0s\n",
      "     0     0 1015150.00    0   12 1017100.00 1015150.00  0.19%     -    0s\n",
      "H    0     0                    1016860.0000 1015150.00  0.17%     -    0s\n",
      "H    0     0                    1015725.0000 1015150.00  0.06%     -    0s\n",
      "H    0     0                    1015150.0000 1015150.00  0.00%     -    0s\n",
      "\n",
      "Cutting planes:\n",
      "  Gomory: 1\n",
      "  MIR: 25\n",
      "\n",
      "Explored 1 nodes (94 simplex iterations) in 0.04 seconds (0.00 work units)\n",
      "Thread count was 8 (of 8 available processors)\n",
      "\n",
      "Solution count 9: 1.01515e+06 1.01572e+06 1.01686e+06 ... 1.31657e+06\n",
      "\n",
      "Optimal solution found (tolerance 1.00e-04)\n",
      "Best objective 1.015150000000e+06, best bound 1.015150000000e+06, gap 0.0000%\n"
     ]
    }
   ],
   "source": [
    "from utils import contraintes_reserve_de_puissance\n",
    "\n",
    "contraintes_reserve_de_puissance(model,dict_N,dict_Thermique,consommation)\n",
    "\n",
    "model.optimize()"
   ]
  },
  {
   "cell_type": "code",
   "execution_count": 40,
   "metadata": {},
   "outputs": [
    {
     "data": {
      "application/vnd.plotly.v1+json": {
       "config": {
        "plotlyServerURL": "https://plot.ly"
       },
       "data": [
        {
         "name": "Production A",
         "stackgroup": "one",
         "type": "scatter",
         "x": [
          0,
          1,
          2,
          3,
          4,
          5,
          6,
          7,
          8,
          9,
          10,
          11,
          12,
          13,
          14,
          15,
          16,
          17,
          18,
          19,
          20,
          21,
          22,
          23
         ],
         "y": [
          11500,
          11500,
          11500,
          11500,
          11500,
          11500,
          15999.999999999996,
          15999.999999999996,
          15999.999999999996,
          10999.999999999998,
          10999.999999999998,
          10999.999999999998,
          10999.999999999998,
          10999.999999999998,
          10999.999999999998,
          21249.999999999993,
          21249.999999999993,
          21249.999999999993,
          11249.999999999993,
          11249.999999999993,
          11249.999999999993,
          11249.999999999993,
          11249.999999999993,
          11249.999999999993
         ]
        },
        {
         "name": "Production B",
         "stackgroup": "one",
         "type": "scatter",
         "x": [
          0,
          1,
          2,
          3,
          4,
          5,
          6,
          7,
          8,
          9,
          10,
          11,
          12,
          13,
          14,
          15,
          16,
          17,
          18,
          19,
          20,
          21,
          22,
          23
         ],
         "y": [
          3500.000000000001,
          3500.000000000001,
          3500.000000000001,
          3500.000000000001,
          3500.000000000001,
          3500.000000000001,
          14000.000000000004,
          14000.000000000004,
          14000.000000000004,
          14000.000000000002,
          14000.000000000002,
          14000.000000000002,
          14000.000000000002,
          14000.000000000002,
          14000.000000000002,
          15750.000000000005,
          15750.000000000005,
          15750.000000000005,
          15750.000000000007,
          15750.000000000007,
          15750.000000000007,
          15750.000000000007,
          15750.000000000007,
          15750.000000000007
         ]
        },
        {
         "name": "Production C",
         "stackgroup": "one",
         "type": "scatter",
         "x": [
          0,
          1,
          2,
          3,
          4,
          5,
          6,
          7,
          8,
          9,
          10,
          11,
          12,
          13,
          14,
          15,
          16,
          17,
          18,
          19,
          20,
          21,
          22,
          23
         ],
         "y": [
          0,
          0,
          0,
          0,
          0,
          0,
          0,
          0,
          0,
          0,
          0,
          0,
          0,
          0,
          0,
          3000,
          3000,
          3000,
          0,
          0,
          0,
          0,
          0,
          0
         ]
        },
        {
         "line": {
          "color": "red",
          "dash": "dash"
         },
         "name": "Production total",
         "type": "scatter",
         "x": [
          0,
          1,
          2,
          3,
          4,
          5,
          6,
          7,
          8,
          9,
          10,
          11,
          12,
          13,
          14,
          15,
          16,
          17,
          18,
          19,
          20,
          21,
          22,
          23
         ],
         "y": [
          15000,
          15000,
          15000,
          15000,
          15000,
          15000,
          30000,
          30000,
          30000,
          25000,
          25000,
          25000,
          25000,
          25000,
          25000,
          40000,
          40000,
          40000,
          27000,
          27000,
          27000,
          27000,
          27000,
          27000
         ]
        },
        {
         "line": {
          "color": "black"
         },
         "name": "Coût MWh",
         "type": "scatter",
         "x": [
          0,
          1,
          2,
          3,
          4,
          5,
          6,
          7,
          8,
          9,
          10,
          11,
          12,
          13,
          14,
          15,
          16,
          17,
          18,
          19,
          20,
          21,
          22,
          23
         ],
         "y": [
          3.14,
          1.4066666666666667,
          1.4066666666666667,
          1.4066666666666667,
          1.4066666666666667,
          1.4066666666666667,
          1.8533333333333333,
          1.6533333333333333,
          1.6533333333333333,
          1.584,
          1.584,
          1.584,
          1.584,
          1.584,
          1.584,
          1.78375,
          1.73375,
          1.73375,
          1.6055555555555556,
          1.6055555555555556,
          1.6055555555555556,
          1.6055555555555556,
          1.6055555555555556,
          1.6055555555555556
         ],
         "yaxis": "y2"
        }
       ],
       "layout": {
        "hovermode": "x",
        "template": {
         "data": {
          "bar": [
           {
            "error_x": {
             "color": "#2a3f5f"
            },
            "error_y": {
             "color": "#2a3f5f"
            },
            "marker": {
             "line": {
              "color": "#E5ECF6",
              "width": 0.5
             },
             "pattern": {
              "fillmode": "overlay",
              "size": 10,
              "solidity": 0.2
             }
            },
            "type": "bar"
           }
          ],
          "barpolar": [
           {
            "marker": {
             "line": {
              "color": "#E5ECF6",
              "width": 0.5
             },
             "pattern": {
              "fillmode": "overlay",
              "size": 10,
              "solidity": 0.2
             }
            },
            "type": "barpolar"
           }
          ],
          "carpet": [
           {
            "aaxis": {
             "endlinecolor": "#2a3f5f",
             "gridcolor": "white",
             "linecolor": "white",
             "minorgridcolor": "white",
             "startlinecolor": "#2a3f5f"
            },
            "baxis": {
             "endlinecolor": "#2a3f5f",
             "gridcolor": "white",
             "linecolor": "white",
             "minorgridcolor": "white",
             "startlinecolor": "#2a3f5f"
            },
            "type": "carpet"
           }
          ],
          "choropleth": [
           {
            "colorbar": {
             "outlinewidth": 0,
             "ticks": ""
            },
            "type": "choropleth"
           }
          ],
          "contour": [
           {
            "colorbar": {
             "outlinewidth": 0,
             "ticks": ""
            },
            "colorscale": [
             [
              0,
              "#0d0887"
             ],
             [
              0.1111111111111111,
              "#46039f"
             ],
             [
              0.2222222222222222,
              "#7201a8"
             ],
             [
              0.3333333333333333,
              "#9c179e"
             ],
             [
              0.4444444444444444,
              "#bd3786"
             ],
             [
              0.5555555555555556,
              "#d8576b"
             ],
             [
              0.6666666666666666,
              "#ed7953"
             ],
             [
              0.7777777777777778,
              "#fb9f3a"
             ],
             [
              0.8888888888888888,
              "#fdca26"
             ],
             [
              1,
              "#f0f921"
             ]
            ],
            "type": "contour"
           }
          ],
          "contourcarpet": [
           {
            "colorbar": {
             "outlinewidth": 0,
             "ticks": ""
            },
            "type": "contourcarpet"
           }
          ],
          "heatmap": [
           {
            "colorbar": {
             "outlinewidth": 0,
             "ticks": ""
            },
            "colorscale": [
             [
              0,
              "#0d0887"
             ],
             [
              0.1111111111111111,
              "#46039f"
             ],
             [
              0.2222222222222222,
              "#7201a8"
             ],
             [
              0.3333333333333333,
              "#9c179e"
             ],
             [
              0.4444444444444444,
              "#bd3786"
             ],
             [
              0.5555555555555556,
              "#d8576b"
             ],
             [
              0.6666666666666666,
              "#ed7953"
             ],
             [
              0.7777777777777778,
              "#fb9f3a"
             ],
             [
              0.8888888888888888,
              "#fdca26"
             ],
             [
              1,
              "#f0f921"
             ]
            ],
            "type": "heatmap"
           }
          ],
          "heatmapgl": [
           {
            "colorbar": {
             "outlinewidth": 0,
             "ticks": ""
            },
            "colorscale": [
             [
              0,
              "#0d0887"
             ],
             [
              0.1111111111111111,
              "#46039f"
             ],
             [
              0.2222222222222222,
              "#7201a8"
             ],
             [
              0.3333333333333333,
              "#9c179e"
             ],
             [
              0.4444444444444444,
              "#bd3786"
             ],
             [
              0.5555555555555556,
              "#d8576b"
             ],
             [
              0.6666666666666666,
              "#ed7953"
             ],
             [
              0.7777777777777778,
              "#fb9f3a"
             ],
             [
              0.8888888888888888,
              "#fdca26"
             ],
             [
              1,
              "#f0f921"
             ]
            ],
            "type": "heatmapgl"
           }
          ],
          "histogram": [
           {
            "marker": {
             "pattern": {
              "fillmode": "overlay",
              "size": 10,
              "solidity": 0.2
             }
            },
            "type": "histogram"
           }
          ],
          "histogram2d": [
           {
            "colorbar": {
             "outlinewidth": 0,
             "ticks": ""
            },
            "colorscale": [
             [
              0,
              "#0d0887"
             ],
             [
              0.1111111111111111,
              "#46039f"
             ],
             [
              0.2222222222222222,
              "#7201a8"
             ],
             [
              0.3333333333333333,
              "#9c179e"
             ],
             [
              0.4444444444444444,
              "#bd3786"
             ],
             [
              0.5555555555555556,
              "#d8576b"
             ],
             [
              0.6666666666666666,
              "#ed7953"
             ],
             [
              0.7777777777777778,
              "#fb9f3a"
             ],
             [
              0.8888888888888888,
              "#fdca26"
             ],
             [
              1,
              "#f0f921"
             ]
            ],
            "type": "histogram2d"
           }
          ],
          "histogram2dcontour": [
           {
            "colorbar": {
             "outlinewidth": 0,
             "ticks": ""
            },
            "colorscale": [
             [
              0,
              "#0d0887"
             ],
             [
              0.1111111111111111,
              "#46039f"
             ],
             [
              0.2222222222222222,
              "#7201a8"
             ],
             [
              0.3333333333333333,
              "#9c179e"
             ],
             [
              0.4444444444444444,
              "#bd3786"
             ],
             [
              0.5555555555555556,
              "#d8576b"
             ],
             [
              0.6666666666666666,
              "#ed7953"
             ],
             [
              0.7777777777777778,
              "#fb9f3a"
             ],
             [
              0.8888888888888888,
              "#fdca26"
             ],
             [
              1,
              "#f0f921"
             ]
            ],
            "type": "histogram2dcontour"
           }
          ],
          "mesh3d": [
           {
            "colorbar": {
             "outlinewidth": 0,
             "ticks": ""
            },
            "type": "mesh3d"
           }
          ],
          "parcoords": [
           {
            "line": {
             "colorbar": {
              "outlinewidth": 0,
              "ticks": ""
             }
            },
            "type": "parcoords"
           }
          ],
          "pie": [
           {
            "automargin": true,
            "type": "pie"
           }
          ],
          "scatter": [
           {
            "fillpattern": {
             "fillmode": "overlay",
             "size": 10,
             "solidity": 0.2
            },
            "type": "scatter"
           }
          ],
          "scatter3d": [
           {
            "line": {
             "colorbar": {
              "outlinewidth": 0,
              "ticks": ""
             }
            },
            "marker": {
             "colorbar": {
              "outlinewidth": 0,
              "ticks": ""
             }
            },
            "type": "scatter3d"
           }
          ],
          "scattercarpet": [
           {
            "marker": {
             "colorbar": {
              "outlinewidth": 0,
              "ticks": ""
             }
            },
            "type": "scattercarpet"
           }
          ],
          "scattergeo": [
           {
            "marker": {
             "colorbar": {
              "outlinewidth": 0,
              "ticks": ""
             }
            },
            "type": "scattergeo"
           }
          ],
          "scattergl": [
           {
            "marker": {
             "colorbar": {
              "outlinewidth": 0,
              "ticks": ""
             }
            },
            "type": "scattergl"
           }
          ],
          "scattermapbox": [
           {
            "marker": {
             "colorbar": {
              "outlinewidth": 0,
              "ticks": ""
             }
            },
            "type": "scattermapbox"
           }
          ],
          "scatterpolar": [
           {
            "marker": {
             "colorbar": {
              "outlinewidth": 0,
              "ticks": ""
             }
            },
            "type": "scatterpolar"
           }
          ],
          "scatterpolargl": [
           {
            "marker": {
             "colorbar": {
              "outlinewidth": 0,
              "ticks": ""
             }
            },
            "type": "scatterpolargl"
           }
          ],
          "scatterternary": [
           {
            "marker": {
             "colorbar": {
              "outlinewidth": 0,
              "ticks": ""
             }
            },
            "type": "scatterternary"
           }
          ],
          "surface": [
           {
            "colorbar": {
             "outlinewidth": 0,
             "ticks": ""
            },
            "colorscale": [
             [
              0,
              "#0d0887"
             ],
             [
              0.1111111111111111,
              "#46039f"
             ],
             [
              0.2222222222222222,
              "#7201a8"
             ],
             [
              0.3333333333333333,
              "#9c179e"
             ],
             [
              0.4444444444444444,
              "#bd3786"
             ],
             [
              0.5555555555555556,
              "#d8576b"
             ],
             [
              0.6666666666666666,
              "#ed7953"
             ],
             [
              0.7777777777777778,
              "#fb9f3a"
             ],
             [
              0.8888888888888888,
              "#fdca26"
             ],
             [
              1,
              "#f0f921"
             ]
            ],
            "type": "surface"
           }
          ],
          "table": [
           {
            "cells": {
             "fill": {
              "color": "#EBF0F8"
             },
             "line": {
              "color": "white"
             }
            },
            "header": {
             "fill": {
              "color": "#C8D4E3"
             },
             "line": {
              "color": "white"
             }
            },
            "type": "table"
           }
          ]
         },
         "layout": {
          "annotationdefaults": {
           "arrowcolor": "#2a3f5f",
           "arrowhead": 0,
           "arrowwidth": 1
          },
          "autotypenumbers": "strict",
          "coloraxis": {
           "colorbar": {
            "outlinewidth": 0,
            "ticks": ""
           }
          },
          "colorscale": {
           "diverging": [
            [
             0,
             "#8e0152"
            ],
            [
             0.1,
             "#c51b7d"
            ],
            [
             0.2,
             "#de77ae"
            ],
            [
             0.3,
             "#f1b6da"
            ],
            [
             0.4,
             "#fde0ef"
            ],
            [
             0.5,
             "#f7f7f7"
            ],
            [
             0.6,
             "#e6f5d0"
            ],
            [
             0.7,
             "#b8e186"
            ],
            [
             0.8,
             "#7fbc41"
            ],
            [
             0.9,
             "#4d9221"
            ],
            [
             1,
             "#276419"
            ]
           ],
           "sequential": [
            [
             0,
             "#0d0887"
            ],
            [
             0.1111111111111111,
             "#46039f"
            ],
            [
             0.2222222222222222,
             "#7201a8"
            ],
            [
             0.3333333333333333,
             "#9c179e"
            ],
            [
             0.4444444444444444,
             "#bd3786"
            ],
            [
             0.5555555555555556,
             "#d8576b"
            ],
            [
             0.6666666666666666,
             "#ed7953"
            ],
            [
             0.7777777777777778,
             "#fb9f3a"
            ],
            [
             0.8888888888888888,
             "#fdca26"
            ],
            [
             1,
             "#f0f921"
            ]
           ],
           "sequentialminus": [
            [
             0,
             "#0d0887"
            ],
            [
             0.1111111111111111,
             "#46039f"
            ],
            [
             0.2222222222222222,
             "#7201a8"
            ],
            [
             0.3333333333333333,
             "#9c179e"
            ],
            [
             0.4444444444444444,
             "#bd3786"
            ],
            [
             0.5555555555555556,
             "#d8576b"
            ],
            [
             0.6666666666666666,
             "#ed7953"
            ],
            [
             0.7777777777777778,
             "#fb9f3a"
            ],
            [
             0.8888888888888888,
             "#fdca26"
            ],
            [
             1,
             "#f0f921"
            ]
           ]
          },
          "colorway": [
           "#636efa",
           "#EF553B",
           "#00cc96",
           "#ab63fa",
           "#FFA15A",
           "#19d3f3",
           "#FF6692",
           "#B6E880",
           "#FF97FF",
           "#FECB52"
          ],
          "font": {
           "color": "#2a3f5f"
          },
          "geo": {
           "bgcolor": "white",
           "lakecolor": "white",
           "landcolor": "#E5ECF6",
           "showlakes": true,
           "showland": true,
           "subunitcolor": "white"
          },
          "hoverlabel": {
           "align": "left"
          },
          "hovermode": "closest",
          "mapbox": {
           "style": "light"
          },
          "paper_bgcolor": "white",
          "plot_bgcolor": "#E5ECF6",
          "polar": {
           "angularaxis": {
            "gridcolor": "white",
            "linecolor": "white",
            "ticks": ""
           },
           "bgcolor": "#E5ECF6",
           "radialaxis": {
            "gridcolor": "white",
            "linecolor": "white",
            "ticks": ""
           }
          },
          "scene": {
           "xaxis": {
            "backgroundcolor": "#E5ECF6",
            "gridcolor": "white",
            "gridwidth": 2,
            "linecolor": "white",
            "showbackground": true,
            "ticks": "",
            "zerolinecolor": "white"
           },
           "yaxis": {
            "backgroundcolor": "#E5ECF6",
            "gridcolor": "white",
            "gridwidth": 2,
            "linecolor": "white",
            "showbackground": true,
            "ticks": "",
            "zerolinecolor": "white"
           },
           "zaxis": {
            "backgroundcolor": "#E5ECF6",
            "gridcolor": "white",
            "gridwidth": 2,
            "linecolor": "white",
            "showbackground": true,
            "ticks": "",
            "zerolinecolor": "white"
           }
          },
          "shapedefaults": {
           "line": {
            "color": "#2a3f5f"
           }
          },
          "ternary": {
           "aaxis": {
            "gridcolor": "white",
            "linecolor": "white",
            "ticks": ""
           },
           "baxis": {
            "gridcolor": "white",
            "linecolor": "white",
            "ticks": ""
           },
           "bgcolor": "#E5ECF6",
           "caxis": {
            "gridcolor": "white",
            "linecolor": "white",
            "ticks": ""
           }
          },
          "title": {
           "x": 0.05
          },
          "xaxis": {
           "automargin": true,
           "gridcolor": "white",
           "linecolor": "white",
           "ticks": "",
           "title": {
            "standoff": 15
           },
           "zerolinecolor": "white",
           "zerolinewidth": 2
          },
          "yaxis": {
           "automargin": true,
           "gridcolor": "white",
           "linecolor": "white",
           "ticks": "",
           "title": {
            "standoff": 15
           },
           "zerolinecolor": "white",
           "zerolinewidth": 2
          }
         }
        },
        "title": {
         "text": "Répartition de la production électrique dans la journée - 3"
        },
        "yaxis": {
         "range": [
          0,
          44000
         ],
         "title": {
          "text": "MW"
         }
        },
        "yaxis2": {
         "anchor": "free",
         "overlaying": "y",
         "position": 1,
         "range": [
          1.3363333333333334,
          3.4540000000000006
         ],
         "side": "right",
         "title": {
          "text": "€/MWh"
         }
        }
       }
      }
     },
     "metadata": {},
     "output_type": "display_data"
    }
   ],
   "source": [
    "df = df_results22(dict_N=dict_N,dict_P=dict_P,dict_Nstart=dict_Nstart,dict_XX=dict_Thermique,consommation=consommation)\n",
    "fig = Results_viz(df,dict_Thermique)\n",
    "A = 3\n",
    "fig.update_layout(\n",
    "    title = f\"Répartition de la production électrique dans la journée - {A}\"\n",
    ")\n",
    "fig.show()\n",
    "fig.write_html(f\"HTML/Répartition de la production électrique dans la journée - {A}.html\")\n"
   ]
  },
  {
   "cell_type": "markdown",
   "metadata": {},
   "source": [
    "## 4 Planification cyclique\n",
    "\n",
    "Pour ce problème on modifie la convention $N_{-1}^{(X)}=0$ par $N_{-1}^{(X)}=N_{23}^{(X)}$"
   ]
  },
  {
   "cell_type": "code",
   "execution_count": 41,
   "metadata": {},
   "outputs": [
    {
     "name": "stdout",
     "output_type": "stream",
     "text": [
      "Gurobi Optimizer version 9.5.2 build v9.5.2rc0 (win64)\n",
      "Thread count: 4 physical cores, 8 logical processors, using up to 8 threads\n",
      "Optimize a model with 336 rows, 216 columns and 792 nonzeros\n",
      "Model fingerprint: 0xfaf92924\n",
      "Variable types: 72 continuous, 144 integer (0 binary)\n",
      "Coefficient statistics:\n",
      "  Matrix range     [1e+00, 4e+03]\n",
      "  Objective range  [1e+00, 2e+03]\n",
      "  Bounds range     [5e+00, 1e+01]\n",
      "  RHS range        [5e+00, 5e+04]\n",
      "Found heuristic solution: objective 1313700.0000\n",
      "Presolve removed 105 rows and 27 columns\n",
      "Presolve time: 0.00s\n",
      "Presolved: 231 rows, 189 columns, 603 nonzeros\n",
      "Found heuristic solution: objective 1225165.0000\n",
      "Variable types: 42 continuous, 147 integer (0 binary)\n",
      "Found heuristic solution: objective 1192195.0000\n",
      "\n",
      "Root relaxation: objective 9.855143e+05, 54 iterations, 0.00 seconds (0.00 work units)\n",
      "\n",
      "    Nodes    |    Current Node    |     Objective Bounds      |     Work\n",
      " Expl Unexpl |  Obj  Depth IntInf | Incumbent    BestBd   Gap | It/Node Time\n",
      "\n",
      "     0     0 985514.286    0   26 1192195.00 985514.286  17.3%     -    0s\n",
      "H    0     0                    993725.00000 985514.286  0.83%     -    0s\n",
      "H    0     0                    990405.00000 985514.286  0.49%     -    0s\n",
      "H    0     0                    990165.00000 985514.286  0.47%     -    0s\n",
      "H    0     0                    989030.00000 988540.000  0.05%     -    0s\n",
      "     0     0 988540.000    0    3 989030.000 988540.000  0.05%     -    0s\n",
      "H    0     0                    988540.00000 988540.000  0.00%     -    0s\n",
      "     0     0 988540.000    0    3 988540.000 988540.000  0.00%     -    0s\n",
      "\n",
      "Cutting planes:\n",
      "  MIR: 18\n",
      "\n",
      "Explored 1 nodes (85 simplex iterations) in 0.03 seconds (0.00 work units)\n",
      "Thread count was 8 (of 8 available processors)\n",
      "\n",
      "Solution count 8: 988540 989030 990165 ... 1.3137e+06\n",
      "\n",
      "Optimal solution found (tolerance 1.00e-04)\n",
      "Best objective 9.885400000000e+05, best bound 9.885400000000e+05, gap 0.0000%\n"
     ]
    }
   ],
   "source": [
    "model = gp.Model(name=\"4\")\n",
    "\n",
    "dict_N, dict_Nstart, dict_P = variable_decision_thermique_avec_demarrage(model,dict_Thermique)\n",
    "\n",
    "model.setObjective(gp.quicksum([dict_N[element[0],element[1]] * (dict_Thermique[element[0]].Cbase - dict_Thermique[element[0]].Pmin*dict_Thermique[element[0]].Cmwh) + dict_P[element[0],element[1]] * dict_Thermique[element[0]].Cmwh + dict_Nstart[element[0],element[1]]*dict_Thermique[element[0]].Cstart for element in product(dict_Thermique,range(24))]), gp.GRB.MINIMIZE)\n",
    "\n",
    "contraintes_demarrage(model,dict_N,dict_Nstart,dict_Thermique,cyclique=True)\n",
    "contraintes_puissance_thermique(model,dict_N,dict_P,dict_Thermique)\n",
    "contraintes_equilibre(model,dict_P,dict_Thermique,consommation)\n",
    "contraintes_reserve_de_puissance(model,dict_N,dict_Thermique,consommation)\n",
    "\n",
    "\n",
    "model.optimize()"
   ]
  },
  {
   "cell_type": "code",
   "execution_count": 42,
   "metadata": {},
   "outputs": [
    {
     "data": {
      "application/vnd.plotly.v1+json": {
       "config": {
        "plotlyServerURL": "https://plot.ly"
       },
       "data": [
        {
         "name": "Production A",
         "stackgroup": "one",
         "type": "scatter",
         "x": [
          0,
          1,
          2,
          3,
          4,
          5,
          6,
          7,
          8,
          9,
          10,
          11,
          12,
          13,
          14,
          15,
          16,
          17,
          18,
          19,
          20,
          21,
          22,
          23
         ],
         "y": [
          10199.999999999996,
          10199.999999999996,
          10199.999999999996,
          10199.999999999996,
          10199.999999999996,
          10199.999999999996,
          15999.999999999998,
          16000,
          16000,
          10999.999999999956,
          10999.999999999947,
          10999.999999999953,
          10999.99999999996,
          10999.999999999978,
          10999.999999999998,
          21250,
          21250,
          21250,
          11249.999999999996,
          11249.999999999996,
          11249.999999999996,
          11249.999999999996,
          11249.999999999996,
          11249.999999999996
         ]
        },
        {
         "name": "Production B",
         "stackgroup": "one",
         "type": "scatter",
         "x": [
          0,
          1,
          2,
          3,
          4,
          5,
          6,
          7,
          8,
          9,
          10,
          11,
          12,
          13,
          14,
          15,
          16,
          17,
          18,
          19,
          20,
          21,
          22,
          23
         ],
         "y": [
          4800.000000000005,
          4800.000000000005,
          4800.000000000005,
          4800.000000000005,
          4800.000000000005,
          4800.000000000005,
          14000.000000000002,
          14000,
          14000,
          14000.000000000044,
          14000.000000000053,
          14000.000000000047,
          14000.00000000004,
          14000.000000000022,
          14000.000000000002,
          15750,
          15750,
          15750,
          15750.000000000004,
          15750.000000000004,
          15750.000000000004,
          15750.000000000004,
          15750.000000000004,
          15750.000000000004
         ]
        },
        {
         "name": "Production C",
         "stackgroup": "one",
         "type": "scatter",
         "x": [
          0,
          1,
          2,
          3,
          4,
          5,
          6,
          7,
          8,
          9,
          10,
          11,
          12,
          13,
          14,
          15,
          16,
          17,
          18,
          19,
          20,
          21,
          22,
          23
         ],
         "y": [
          0,
          0,
          0,
          0,
          0,
          0,
          0,
          0,
          0,
          0,
          0,
          0,
          0,
          0,
          0,
          3000,
          3000,
          3000,
          0,
          0,
          0,
          0,
          0,
          0
         ]
        },
        {
         "line": {
          "color": "red",
          "dash": "dash"
         },
         "name": "Production total",
         "type": "scatter",
         "x": [
          0,
          1,
          2,
          3,
          4,
          5,
          6,
          7,
          8,
          9,
          10,
          11,
          12,
          13,
          14,
          15,
          16,
          17,
          18,
          19,
          20,
          21,
          22,
          23
         ],
         "y": [
          15000,
          15000,
          15000,
          15000,
          15000,
          15000,
          30000,
          30000,
          30000,
          25000,
          25000,
          25000,
          25000,
          25000,
          25000,
          40000,
          40000,
          40000,
          27000,
          27000,
          27000,
          27000,
          27000,
          27000
         ]
        },
        {
         "line": {
          "color": "black"
         },
         "name": "Coût MWh",
         "type": "scatter",
         "x": [
          0,
          1,
          2,
          3,
          4,
          5,
          6,
          7,
          8,
          9,
          10,
          11,
          12,
          13,
          14,
          15,
          16,
          17,
          18,
          19,
          20,
          21,
          22,
          23
         ],
         "y": [
          1.411,
          1.411,
          1.411,
          1.411,
          1.411,
          1.411,
          1.82,
          1.6533333333333333,
          1.6533333333333333,
          1.5839999999999987,
          1.5839999999999985,
          1.5839999999999987,
          1.5839999999999987,
          1.5839999999999994,
          1.584,
          1.78375,
          1.73375,
          1.73375,
          1.6055555555555556,
          1.6055555555555556,
          1.6055555555555556,
          1.6055555555555556,
          1.6055555555555556,
          1.6055555555555556
         ],
         "yaxis": "y2"
        }
       ],
       "layout": {
        "hovermode": "x",
        "template": {
         "data": {
          "bar": [
           {
            "error_x": {
             "color": "#2a3f5f"
            },
            "error_y": {
             "color": "#2a3f5f"
            },
            "marker": {
             "line": {
              "color": "#E5ECF6",
              "width": 0.5
             },
             "pattern": {
              "fillmode": "overlay",
              "size": 10,
              "solidity": 0.2
             }
            },
            "type": "bar"
           }
          ],
          "barpolar": [
           {
            "marker": {
             "line": {
              "color": "#E5ECF6",
              "width": 0.5
             },
             "pattern": {
              "fillmode": "overlay",
              "size": 10,
              "solidity": 0.2
             }
            },
            "type": "barpolar"
           }
          ],
          "carpet": [
           {
            "aaxis": {
             "endlinecolor": "#2a3f5f",
             "gridcolor": "white",
             "linecolor": "white",
             "minorgridcolor": "white",
             "startlinecolor": "#2a3f5f"
            },
            "baxis": {
             "endlinecolor": "#2a3f5f",
             "gridcolor": "white",
             "linecolor": "white",
             "minorgridcolor": "white",
             "startlinecolor": "#2a3f5f"
            },
            "type": "carpet"
           }
          ],
          "choropleth": [
           {
            "colorbar": {
             "outlinewidth": 0,
             "ticks": ""
            },
            "type": "choropleth"
           }
          ],
          "contour": [
           {
            "colorbar": {
             "outlinewidth": 0,
             "ticks": ""
            },
            "colorscale": [
             [
              0,
              "#0d0887"
             ],
             [
              0.1111111111111111,
              "#46039f"
             ],
             [
              0.2222222222222222,
              "#7201a8"
             ],
             [
              0.3333333333333333,
              "#9c179e"
             ],
             [
              0.4444444444444444,
              "#bd3786"
             ],
             [
              0.5555555555555556,
              "#d8576b"
             ],
             [
              0.6666666666666666,
              "#ed7953"
             ],
             [
              0.7777777777777778,
              "#fb9f3a"
             ],
             [
              0.8888888888888888,
              "#fdca26"
             ],
             [
              1,
              "#f0f921"
             ]
            ],
            "type": "contour"
           }
          ],
          "contourcarpet": [
           {
            "colorbar": {
             "outlinewidth": 0,
             "ticks": ""
            },
            "type": "contourcarpet"
           }
          ],
          "heatmap": [
           {
            "colorbar": {
             "outlinewidth": 0,
             "ticks": ""
            },
            "colorscale": [
             [
              0,
              "#0d0887"
             ],
             [
              0.1111111111111111,
              "#46039f"
             ],
             [
              0.2222222222222222,
              "#7201a8"
             ],
             [
              0.3333333333333333,
              "#9c179e"
             ],
             [
              0.4444444444444444,
              "#bd3786"
             ],
             [
              0.5555555555555556,
              "#d8576b"
             ],
             [
              0.6666666666666666,
              "#ed7953"
             ],
             [
              0.7777777777777778,
              "#fb9f3a"
             ],
             [
              0.8888888888888888,
              "#fdca26"
             ],
             [
              1,
              "#f0f921"
             ]
            ],
            "type": "heatmap"
           }
          ],
          "heatmapgl": [
           {
            "colorbar": {
             "outlinewidth": 0,
             "ticks": ""
            },
            "colorscale": [
             [
              0,
              "#0d0887"
             ],
             [
              0.1111111111111111,
              "#46039f"
             ],
             [
              0.2222222222222222,
              "#7201a8"
             ],
             [
              0.3333333333333333,
              "#9c179e"
             ],
             [
              0.4444444444444444,
              "#bd3786"
             ],
             [
              0.5555555555555556,
              "#d8576b"
             ],
             [
              0.6666666666666666,
              "#ed7953"
             ],
             [
              0.7777777777777778,
              "#fb9f3a"
             ],
             [
              0.8888888888888888,
              "#fdca26"
             ],
             [
              1,
              "#f0f921"
             ]
            ],
            "type": "heatmapgl"
           }
          ],
          "histogram": [
           {
            "marker": {
             "pattern": {
              "fillmode": "overlay",
              "size": 10,
              "solidity": 0.2
             }
            },
            "type": "histogram"
           }
          ],
          "histogram2d": [
           {
            "colorbar": {
             "outlinewidth": 0,
             "ticks": ""
            },
            "colorscale": [
             [
              0,
              "#0d0887"
             ],
             [
              0.1111111111111111,
              "#46039f"
             ],
             [
              0.2222222222222222,
              "#7201a8"
             ],
             [
              0.3333333333333333,
              "#9c179e"
             ],
             [
              0.4444444444444444,
              "#bd3786"
             ],
             [
              0.5555555555555556,
              "#d8576b"
             ],
             [
              0.6666666666666666,
              "#ed7953"
             ],
             [
              0.7777777777777778,
              "#fb9f3a"
             ],
             [
              0.8888888888888888,
              "#fdca26"
             ],
             [
              1,
              "#f0f921"
             ]
            ],
            "type": "histogram2d"
           }
          ],
          "histogram2dcontour": [
           {
            "colorbar": {
             "outlinewidth": 0,
             "ticks": ""
            },
            "colorscale": [
             [
              0,
              "#0d0887"
             ],
             [
              0.1111111111111111,
              "#46039f"
             ],
             [
              0.2222222222222222,
              "#7201a8"
             ],
             [
              0.3333333333333333,
              "#9c179e"
             ],
             [
              0.4444444444444444,
              "#bd3786"
             ],
             [
              0.5555555555555556,
              "#d8576b"
             ],
             [
              0.6666666666666666,
              "#ed7953"
             ],
             [
              0.7777777777777778,
              "#fb9f3a"
             ],
             [
              0.8888888888888888,
              "#fdca26"
             ],
             [
              1,
              "#f0f921"
             ]
            ],
            "type": "histogram2dcontour"
           }
          ],
          "mesh3d": [
           {
            "colorbar": {
             "outlinewidth": 0,
             "ticks": ""
            },
            "type": "mesh3d"
           }
          ],
          "parcoords": [
           {
            "line": {
             "colorbar": {
              "outlinewidth": 0,
              "ticks": ""
             }
            },
            "type": "parcoords"
           }
          ],
          "pie": [
           {
            "automargin": true,
            "type": "pie"
           }
          ],
          "scatter": [
           {
            "fillpattern": {
             "fillmode": "overlay",
             "size": 10,
             "solidity": 0.2
            },
            "type": "scatter"
           }
          ],
          "scatter3d": [
           {
            "line": {
             "colorbar": {
              "outlinewidth": 0,
              "ticks": ""
             }
            },
            "marker": {
             "colorbar": {
              "outlinewidth": 0,
              "ticks": ""
             }
            },
            "type": "scatter3d"
           }
          ],
          "scattercarpet": [
           {
            "marker": {
             "colorbar": {
              "outlinewidth": 0,
              "ticks": ""
             }
            },
            "type": "scattercarpet"
           }
          ],
          "scattergeo": [
           {
            "marker": {
             "colorbar": {
              "outlinewidth": 0,
              "ticks": ""
             }
            },
            "type": "scattergeo"
           }
          ],
          "scattergl": [
           {
            "marker": {
             "colorbar": {
              "outlinewidth": 0,
              "ticks": ""
             }
            },
            "type": "scattergl"
           }
          ],
          "scattermapbox": [
           {
            "marker": {
             "colorbar": {
              "outlinewidth": 0,
              "ticks": ""
             }
            },
            "type": "scattermapbox"
           }
          ],
          "scatterpolar": [
           {
            "marker": {
             "colorbar": {
              "outlinewidth": 0,
              "ticks": ""
             }
            },
            "type": "scatterpolar"
           }
          ],
          "scatterpolargl": [
           {
            "marker": {
             "colorbar": {
              "outlinewidth": 0,
              "ticks": ""
             }
            },
            "type": "scatterpolargl"
           }
          ],
          "scatterternary": [
           {
            "marker": {
             "colorbar": {
              "outlinewidth": 0,
              "ticks": ""
             }
            },
            "type": "scatterternary"
           }
          ],
          "surface": [
           {
            "colorbar": {
             "outlinewidth": 0,
             "ticks": ""
            },
            "colorscale": [
             [
              0,
              "#0d0887"
             ],
             [
              0.1111111111111111,
              "#46039f"
             ],
             [
              0.2222222222222222,
              "#7201a8"
             ],
             [
              0.3333333333333333,
              "#9c179e"
             ],
             [
              0.4444444444444444,
              "#bd3786"
             ],
             [
              0.5555555555555556,
              "#d8576b"
             ],
             [
              0.6666666666666666,
              "#ed7953"
             ],
             [
              0.7777777777777778,
              "#fb9f3a"
             ],
             [
              0.8888888888888888,
              "#fdca26"
             ],
             [
              1,
              "#f0f921"
             ]
            ],
            "type": "surface"
           }
          ],
          "table": [
           {
            "cells": {
             "fill": {
              "color": "#EBF0F8"
             },
             "line": {
              "color": "white"
             }
            },
            "header": {
             "fill": {
              "color": "#C8D4E3"
             },
             "line": {
              "color": "white"
             }
            },
            "type": "table"
           }
          ]
         },
         "layout": {
          "annotationdefaults": {
           "arrowcolor": "#2a3f5f",
           "arrowhead": 0,
           "arrowwidth": 1
          },
          "autotypenumbers": "strict",
          "coloraxis": {
           "colorbar": {
            "outlinewidth": 0,
            "ticks": ""
           }
          },
          "colorscale": {
           "diverging": [
            [
             0,
             "#8e0152"
            ],
            [
             0.1,
             "#c51b7d"
            ],
            [
             0.2,
             "#de77ae"
            ],
            [
             0.3,
             "#f1b6da"
            ],
            [
             0.4,
             "#fde0ef"
            ],
            [
             0.5,
             "#f7f7f7"
            ],
            [
             0.6,
             "#e6f5d0"
            ],
            [
             0.7,
             "#b8e186"
            ],
            [
             0.8,
             "#7fbc41"
            ],
            [
             0.9,
             "#4d9221"
            ],
            [
             1,
             "#276419"
            ]
           ],
           "sequential": [
            [
             0,
             "#0d0887"
            ],
            [
             0.1111111111111111,
             "#46039f"
            ],
            [
             0.2222222222222222,
             "#7201a8"
            ],
            [
             0.3333333333333333,
             "#9c179e"
            ],
            [
             0.4444444444444444,
             "#bd3786"
            ],
            [
             0.5555555555555556,
             "#d8576b"
            ],
            [
             0.6666666666666666,
             "#ed7953"
            ],
            [
             0.7777777777777778,
             "#fb9f3a"
            ],
            [
             0.8888888888888888,
             "#fdca26"
            ],
            [
             1,
             "#f0f921"
            ]
           ],
           "sequentialminus": [
            [
             0,
             "#0d0887"
            ],
            [
             0.1111111111111111,
             "#46039f"
            ],
            [
             0.2222222222222222,
             "#7201a8"
            ],
            [
             0.3333333333333333,
             "#9c179e"
            ],
            [
             0.4444444444444444,
             "#bd3786"
            ],
            [
             0.5555555555555556,
             "#d8576b"
            ],
            [
             0.6666666666666666,
             "#ed7953"
            ],
            [
             0.7777777777777778,
             "#fb9f3a"
            ],
            [
             0.8888888888888888,
             "#fdca26"
            ],
            [
             1,
             "#f0f921"
            ]
           ]
          },
          "colorway": [
           "#636efa",
           "#EF553B",
           "#00cc96",
           "#ab63fa",
           "#FFA15A",
           "#19d3f3",
           "#FF6692",
           "#B6E880",
           "#FF97FF",
           "#FECB52"
          ],
          "font": {
           "color": "#2a3f5f"
          },
          "geo": {
           "bgcolor": "white",
           "lakecolor": "white",
           "landcolor": "#E5ECF6",
           "showlakes": true,
           "showland": true,
           "subunitcolor": "white"
          },
          "hoverlabel": {
           "align": "left"
          },
          "hovermode": "closest",
          "mapbox": {
           "style": "light"
          },
          "paper_bgcolor": "white",
          "plot_bgcolor": "#E5ECF6",
          "polar": {
           "angularaxis": {
            "gridcolor": "white",
            "linecolor": "white",
            "ticks": ""
           },
           "bgcolor": "#E5ECF6",
           "radialaxis": {
            "gridcolor": "white",
            "linecolor": "white",
            "ticks": ""
           }
          },
          "scene": {
           "xaxis": {
            "backgroundcolor": "#E5ECF6",
            "gridcolor": "white",
            "gridwidth": 2,
            "linecolor": "white",
            "showbackground": true,
            "ticks": "",
            "zerolinecolor": "white"
           },
           "yaxis": {
            "backgroundcolor": "#E5ECF6",
            "gridcolor": "white",
            "gridwidth": 2,
            "linecolor": "white",
            "showbackground": true,
            "ticks": "",
            "zerolinecolor": "white"
           },
           "zaxis": {
            "backgroundcolor": "#E5ECF6",
            "gridcolor": "white",
            "gridwidth": 2,
            "linecolor": "white",
            "showbackground": true,
            "ticks": "",
            "zerolinecolor": "white"
           }
          },
          "shapedefaults": {
           "line": {
            "color": "#2a3f5f"
           }
          },
          "ternary": {
           "aaxis": {
            "gridcolor": "white",
            "linecolor": "white",
            "ticks": ""
           },
           "baxis": {
            "gridcolor": "white",
            "linecolor": "white",
            "ticks": ""
           },
           "bgcolor": "#E5ECF6",
           "caxis": {
            "gridcolor": "white",
            "linecolor": "white",
            "ticks": ""
           }
          },
          "title": {
           "x": 0.05
          },
          "xaxis": {
           "automargin": true,
           "gridcolor": "white",
           "linecolor": "white",
           "ticks": "",
           "title": {
            "standoff": 15
           },
           "zerolinecolor": "white",
           "zerolinewidth": 2
          },
          "yaxis": {
           "automargin": true,
           "gridcolor": "white",
           "linecolor": "white",
           "ticks": "",
           "title": {
            "standoff": 15
           },
           "zerolinecolor": "white",
           "zerolinewidth": 2
          }
         }
        },
        "title": {
         "text": "Répartition de la production électrique dans la journée - 4"
        },
        "yaxis": {
         "range": [
          0,
          44000
         ],
         "title": {
          "text": "MW"
         }
        },
        "yaxis2": {
         "anchor": "free",
         "overlaying": "y",
         "position": 1,
         "range": [
          1.34045,
          2.0020000000000002
         ],
         "side": "right",
         "title": {
          "text": "€/MWh"
         }
        }
       }
      }
     },
     "metadata": {},
     "output_type": "display_data"
    }
   ],
   "source": [
    "df = df_results22(dict_N=dict_N,dict_P=dict_P,dict_Nstart=dict_Nstart,dict_XX=dict_Thermique,consommation=consommation)\n",
    "fig = Results_viz(df,dict_Thermique)\n",
    "fig.update_layout(\n",
    "    title = \"Répartition de la production électrique dans la journée - 4\"\n",
    ")\n",
    "fig.show()\n",
    "fig.write_html(\"HTML/Répartition de la production électrique dans la journée - 4.html\")\n"
   ]
  },
  {
   "cell_type": "markdown",
   "metadata": {},
   "source": [
    "## 5 Centrales hydroélectriques\n",
    "\n",
    "### 5.1\n",
    "\n",
    "On ajoute les variables de décisions suivantes:<br>\n",
    "pour $Y\\in[9,14]$ (pour les centrales de 900 MW et 1400MW),<br>\n",
    "$$\n",
    "H_t^{(Y)} \\in \\{0,1\\} \\text{  , vaut 1 si la centrale $Y$ fonctionne à } t \\text{ h 0 sinon}\n",
    "$$\n",
    "$$\n",
    "H_{start,t}^{(Y)} \\in \\{0,1\\} \\text{  , vaut 1  si la centrale $Y$ démarre à } t \\text{ h 0 sinon}\n",
    "$$\n",
    "Avec les contraintes :\n",
    "$$\n",
    "H_{start,t}^{(Y)} \\leq 1 - H_{t-1}^{(Y)} \\text{  ,  S'il y a un démarrage alors la centrale n'était pas allumée}\n",
    "$$\n",
    "Autre option :\n",
    "$$\n",
    "H_{t}^{(Y)} \\leq H_{start,t}^{(Y)}  + H_{t-1}^{(Y)} \\text{  ,  Si la centrale fonctionne alors elle était allumée ou elle démarre}\n",
    "$$\n",
    "$$\n",
    "H_{start,t}^{(Y)} \\leq H_{t}^{(Y)} \\text{  ,  La centrale fonctionne lorsqu'elle est est démarrée}\n",
    "$$\n",
    "$$\n",
    "\\sum_X P_t^{(X)} + \\sum_Y N_t^{(Y)}P^{(Y)}= D_t \\text{  ,  Contrainte équilibre offre-demande}\n",
    "$$\n",
    "$$\n",
    "\\sum_X N_t^{(X)}P_{max}^{(X)} + \\sum_Y P^{(Y)}\\geq D_t\\times 1,15 \\text{  ,  marges de sécurité}\n",
    "$$\n",
    "L'objectif mis à jour devient:\n",
    "$$\n",
    "\\text{Minimiser} \\sum_X \\sum_t (P_t^{(X)} - P_{min}^{(X)}N_t^{(X)}) C_{MWh}^{(X)} + N_t^{(X)}C_{base}^{(X)} + N_{start,t}^{(X)}C_{start}^{(X)} + \\sum_Y \\sum_t H_t^{(Y)}C_{base}^{(Y)} + H_t^{(Y)}C_{start}^{(Y)}\n",
    "$$"
   ]
  },
  {
   "cell_type": "code",
   "execution_count": 43,
   "metadata": {},
   "outputs": [],
   "source": [
    "from utils import Centrale_hydro"
   ]
  },
  {
   "cell_type": "code",
   "execution_count": 44,
   "metadata": {},
   "outputs": [],
   "source": [
    "dict_Hydro = {\n",
    "    9 : Centrale_hydro(\n",
    "    name = \"Hydro 900 MW\",\n",
    "    P = 900,\n",
    "    Cstart = 1500,\n",
    "    Cheure=90,\n",
    "    debit=0.31\n",
    "),\n",
    "    14 : Centrale_hydro(\n",
    "    name = \"Hydro 1400 MW\",\n",
    "    P = 1400,\n",
    "    Cstart = 1200,\n",
    "    Cheure=150,\n",
    "    debit=0.47\n",
    ")\n",
    "}"
   ]
  },
  {
   "cell_type": "code",
   "execution_count": 45,
   "metadata": {},
   "outputs": [
    {
     "name": "stdout",
     "output_type": "stream",
     "text": [
      "Gurobi Optimizer version 9.5.2 build v9.5.2rc0 (win64)\n",
      "Thread count: 4 physical cores, 8 logical processors, using up to 8 threads\n",
      "Optimize a model with 432 rows, 312 columns and 1080 nonzeros\n",
      "Model fingerprint: 0x568b7ef7\n",
      "Variable types: 72 continuous, 240 integer (96 binary)\n",
      "Coefficient statistics:\n",
      "  Matrix range     [1e+00, 4e+03]\n",
      "  Objective range  [1e+00, 2e+03]\n",
      "  Bounds range     [1e+00, 1e+01]\n",
      "  RHS range        [5e+00, 4e+04]\n",
      "Found heuristic solution: objective 1447255.0000\n",
      "Presolve removed 120 rows and 0 columns\n",
      "Presolve time: 0.00s\n",
      "Presolved: 312 rows, 312 columns, 840 nonzeros\n",
      "Variable types: 72 continuous, 240 integer (96 binary)\n",
      "Found heuristic solution: objective 1429430.0000\n",
      "\n",
      "Root relaxation: objective 8.884163e+05, 90 iterations, 0.00 seconds (0.00 work units)\n",
      "\n",
      "    Nodes    |    Current Node    |     Objective Bounds      |     Work\n",
      " Expl Unexpl |  Obj  Depth IntInf | Incumbent    BestBd   Gap | It/Node Time\n",
      "\n",
      "     0     0 888416.250    0   30 1429430.00 888416.250  37.8%     -    0s\n",
      "H    0     0                    906941.25000 888416.250  2.04%     -    0s\n",
      "H    0     0                    893135.00000 888416.250  0.53%     -    0s\n",
      "H    0     0                    890510.00000 888416.250  0.24%     -    0s\n",
      "H    0     0                    890260.00000 888474.286  0.20%     -    0s\n",
      "     0     0 890176.667    0   22 890260.000 890176.667  0.01%     -    0s\n",
      "\n",
      "Cutting planes:\n",
      "  Gomory: 2\n",
      "  MIR: 33\n",
      "\n",
      "Explored 1 nodes (132 simplex iterations) in 0.04 seconds (0.00 work units)\n",
      "Thread count was 8 (of 8 available processors)\n",
      "\n",
      "Solution count 6: 890260 890510 893135 ... 1.44726e+06\n",
      "\n",
      "Optimal solution found (tolerance 1.00e-04)\n",
      "Best objective 8.902600000000e+05, best bound 8.901766666667e+05, gap 0.0094%\n"
     ]
    }
   ],
   "source": [
    "from utils import variable_decision_hydraulique, contraintes_equilibre_avec_hydro, contraintes_reserve_avec_hydro, contraintes_hydraulique\n",
    "\n",
    "model = gp.Model(name=\"5\")\n",
    "\n",
    "dict_H, dict_Hstart = variable_decision_hydraulique(model,dict_Hydro)\n",
    "dict_N, dict_Nstart, dict_P = variable_decision_thermique_avec_demarrage(model,dict_Thermique)\n",
    "\n",
    "model.setObjective(\n",
    "    gp.quicksum([dict_N[element[0],element[1]] * (dict_Thermique[element[0]].Cbase - dict_Thermique[element[0]].Pmin*dict_Thermique[element[0]].Cmwh) for element in product(dict_Thermique,range(24))]) + \n",
    "    gp.quicksum([dict_P[element[0],element[1]] * dict_Thermique[element[0]].Cmwh for element in product(dict_Thermique,range(24))])+ \n",
    "    gp.quicksum([dict_Nstart[element[0],element[1]]*dict_Thermique[element[0]].Cstart for element in product(dict_Thermique,range(24))])+\n",
    "    gp.quicksum([dict_H[element[0],element[1]] * dict_Hydro[element[0]].Cheure for element in product(dict_Hydro,range(24))])+\n",
    "    gp.quicksum([dict_Hstart[element[0],element[1]] * dict_Hydro[element[0]].Cstart for element in product(dict_Hydro,range(24))]),\n",
    "    gp.GRB.MINIMIZE\n",
    "    )\n",
    "\n",
    "contraintes_demarrage(model,dict_N,dict_Nstart,dict_Thermique,cyclique=True)\n",
    "contraintes_puissance_thermique(model,dict_N,dict_P,dict_Thermique)\n",
    "contraintes_equilibre_avec_hydro(model,dict_H,dict_P,dict_Thermique,dict_Hydro,consommation)\n",
    "contraintes_reserve_avec_hydro(model,dict_N,dict_Thermique,dict_Hydro,consommation)\n",
    "contraintes_hydraulique(model,dict_Hstart,dict_H,dict_Hydro)\n",
    "\n",
    "\n",
    "\n",
    "model.optimize()\n",
    "        \n"
   ]
  },
  {
   "cell_type": "code",
   "execution_count": 46,
   "metadata": {},
   "outputs": [
    {
     "data": {
      "application/vnd.plotly.v1+json": {
       "config": {
        "plotlyServerURL": "https://plot.ly"
       },
       "data": [
        {
         "name": "Thermique A",
         "stackgroup": "one",
         "type": "scatter",
         "x": [
          0,
          1,
          2,
          3,
          4,
          5,
          6,
          7,
          8,
          9,
          10,
          11,
          12,
          13,
          14,
          15,
          16,
          17,
          18,
          19,
          20,
          21,
          22,
          23
         ],
         "y": [
          10950,
          10950,
          10950,
          10950,
          10950,
          10949.999999999996,
          15450,
          15450,
          15450,
          10450,
          10450,
          10450,
          10450,
          10450,
          10449.999999999978,
          20450,
          20450,
          20450,
          10700,
          10700,
          10700,
          10700,
          10700,
          10700
         ]
        },
        {
         "name": "Thermique B",
         "stackgroup": "one",
         "type": "scatter",
         "x": [
          0,
          1,
          2,
          3,
          4,
          5,
          6,
          7,
          8,
          9,
          10,
          11,
          12,
          13,
          14,
          15,
          16,
          17,
          18,
          19,
          20,
          21,
          22,
          23
         ],
         "y": [
          1750,
          1750,
          1750,
          1750,
          1750,
          1750.0000000000036,
          12250,
          12250,
          12250,
          12250,
          12250,
          12250,
          12250,
          12250,
          12250.000000000022,
          15750,
          15750,
          15750,
          14000,
          14000,
          14000,
          14000,
          14000,
          14000
         ]
        },
        {
         "name": "Thermique C",
         "stackgroup": "one",
         "type": "scatter",
         "x": [
          0,
          1,
          2,
          3,
          4,
          5,
          6,
          7,
          8,
          9,
          10,
          11,
          12,
          13,
          14,
          15,
          16,
          17,
          18,
          19,
          20,
          21,
          22,
          23
         ],
         "y": [
          0,
          0,
          0,
          0,
          0,
          0,
          0,
          0,
          0,
          0,
          0,
          0,
          0,
          0,
          0,
          1500,
          1500,
          1500,
          0,
          0,
          0,
          0,
          0,
          0
         ]
        },
        {
         "name": "Hydraulique 9",
         "stackgroup": "one",
         "type": "scatter",
         "x": [
          0,
          1,
          2,
          3,
          4,
          5,
          6,
          7,
          8,
          9,
          10,
          11,
          12,
          13,
          14,
          15,
          16,
          17,
          18,
          19,
          20,
          21,
          22,
          23
         ],
         "y": [
          900,
          900,
          900,
          900,
          900,
          900,
          900,
          900,
          900,
          900,
          900,
          900,
          900,
          900,
          900,
          900,
          900,
          900,
          900,
          900,
          900,
          900,
          900,
          900
         ]
        },
        {
         "name": "Hydraulique 14",
         "stackgroup": "one",
         "type": "scatter",
         "x": [
          0,
          1,
          2,
          3,
          4,
          5,
          6,
          7,
          8,
          9,
          10,
          11,
          12,
          13,
          14,
          15,
          16,
          17,
          18,
          19,
          20,
          21,
          22,
          23
         ],
         "y": [
          1400,
          1400,
          1400,
          1400,
          1400,
          1400,
          1400,
          1400,
          1400,
          1400,
          1400,
          1400,
          1400,
          1400,
          1400,
          1400,
          1400,
          1400,
          1400,
          1400,
          1400,
          1400,
          1400,
          1400
         ]
        },
        {
         "line": {
          "color": "red",
          "dash": "dash"
         },
         "name": "Production total",
         "type": "scatter",
         "x": [
          0,
          1,
          2,
          3,
          4,
          5,
          6,
          7,
          8,
          9,
          10,
          11,
          12,
          13,
          14,
          15,
          16,
          17,
          18,
          19,
          20,
          21,
          22,
          23
         ],
         "y": [
          15000,
          15000,
          15000,
          15000,
          15000,
          15000,
          30000,
          30000,
          30000,
          25000,
          25000,
          25000,
          25000,
          25000,
          25000,
          40000,
          40000,
          40000,
          27000,
          27000,
          27000,
          27000,
          27000,
          27000
         ]
        },
        {
         "line": {
          "color": "black"
         },
         "name": "Coût MWh",
         "type": "scatter",
         "x": [
          0,
          1,
          2,
          3,
          4,
          5,
          6,
          7,
          8,
          9,
          10,
          11,
          12,
          13,
          14,
          15,
          16,
          17,
          18,
          19,
          20,
          21,
          22,
          23
         ],
         "y": [
          1.1326666666666667,
          1.1326666666666667,
          1.1326666666666667,
          1.1326666666666667,
          1.1326666666666667,
          1.1326666666666665,
          1.7163333333333333,
          1.5163333333333333,
          1.5163333333333333,
          1.4196,
          1.4196,
          1.4196,
          1.4196,
          1.4196,
          1.4195999999999995,
          1.68725,
          1.62475,
          1.62475,
          1.4533333333333334,
          1.4533333333333334,
          1.4533333333333334,
          1.4533333333333334,
          1.4533333333333334,
          1.4533333333333334
         ],
         "yaxis": "y2"
        }
       ],
       "layout": {
        "hovermode": "x",
        "template": {
         "data": {
          "bar": [
           {
            "error_x": {
             "color": "#2a3f5f"
            },
            "error_y": {
             "color": "#2a3f5f"
            },
            "marker": {
             "line": {
              "color": "#E5ECF6",
              "width": 0.5
             },
             "pattern": {
              "fillmode": "overlay",
              "size": 10,
              "solidity": 0.2
             }
            },
            "type": "bar"
           }
          ],
          "barpolar": [
           {
            "marker": {
             "line": {
              "color": "#E5ECF6",
              "width": 0.5
             },
             "pattern": {
              "fillmode": "overlay",
              "size": 10,
              "solidity": 0.2
             }
            },
            "type": "barpolar"
           }
          ],
          "carpet": [
           {
            "aaxis": {
             "endlinecolor": "#2a3f5f",
             "gridcolor": "white",
             "linecolor": "white",
             "minorgridcolor": "white",
             "startlinecolor": "#2a3f5f"
            },
            "baxis": {
             "endlinecolor": "#2a3f5f",
             "gridcolor": "white",
             "linecolor": "white",
             "minorgridcolor": "white",
             "startlinecolor": "#2a3f5f"
            },
            "type": "carpet"
           }
          ],
          "choropleth": [
           {
            "colorbar": {
             "outlinewidth": 0,
             "ticks": ""
            },
            "type": "choropleth"
           }
          ],
          "contour": [
           {
            "colorbar": {
             "outlinewidth": 0,
             "ticks": ""
            },
            "colorscale": [
             [
              0,
              "#0d0887"
             ],
             [
              0.1111111111111111,
              "#46039f"
             ],
             [
              0.2222222222222222,
              "#7201a8"
             ],
             [
              0.3333333333333333,
              "#9c179e"
             ],
             [
              0.4444444444444444,
              "#bd3786"
             ],
             [
              0.5555555555555556,
              "#d8576b"
             ],
             [
              0.6666666666666666,
              "#ed7953"
             ],
             [
              0.7777777777777778,
              "#fb9f3a"
             ],
             [
              0.8888888888888888,
              "#fdca26"
             ],
             [
              1,
              "#f0f921"
             ]
            ],
            "type": "contour"
           }
          ],
          "contourcarpet": [
           {
            "colorbar": {
             "outlinewidth": 0,
             "ticks": ""
            },
            "type": "contourcarpet"
           }
          ],
          "heatmap": [
           {
            "colorbar": {
             "outlinewidth": 0,
             "ticks": ""
            },
            "colorscale": [
             [
              0,
              "#0d0887"
             ],
             [
              0.1111111111111111,
              "#46039f"
             ],
             [
              0.2222222222222222,
              "#7201a8"
             ],
             [
              0.3333333333333333,
              "#9c179e"
             ],
             [
              0.4444444444444444,
              "#bd3786"
             ],
             [
              0.5555555555555556,
              "#d8576b"
             ],
             [
              0.6666666666666666,
              "#ed7953"
             ],
             [
              0.7777777777777778,
              "#fb9f3a"
             ],
             [
              0.8888888888888888,
              "#fdca26"
             ],
             [
              1,
              "#f0f921"
             ]
            ],
            "type": "heatmap"
           }
          ],
          "heatmapgl": [
           {
            "colorbar": {
             "outlinewidth": 0,
             "ticks": ""
            },
            "colorscale": [
             [
              0,
              "#0d0887"
             ],
             [
              0.1111111111111111,
              "#46039f"
             ],
             [
              0.2222222222222222,
              "#7201a8"
             ],
             [
              0.3333333333333333,
              "#9c179e"
             ],
             [
              0.4444444444444444,
              "#bd3786"
             ],
             [
              0.5555555555555556,
              "#d8576b"
             ],
             [
              0.6666666666666666,
              "#ed7953"
             ],
             [
              0.7777777777777778,
              "#fb9f3a"
             ],
             [
              0.8888888888888888,
              "#fdca26"
             ],
             [
              1,
              "#f0f921"
             ]
            ],
            "type": "heatmapgl"
           }
          ],
          "histogram": [
           {
            "marker": {
             "pattern": {
              "fillmode": "overlay",
              "size": 10,
              "solidity": 0.2
             }
            },
            "type": "histogram"
           }
          ],
          "histogram2d": [
           {
            "colorbar": {
             "outlinewidth": 0,
             "ticks": ""
            },
            "colorscale": [
             [
              0,
              "#0d0887"
             ],
             [
              0.1111111111111111,
              "#46039f"
             ],
             [
              0.2222222222222222,
              "#7201a8"
             ],
             [
              0.3333333333333333,
              "#9c179e"
             ],
             [
              0.4444444444444444,
              "#bd3786"
             ],
             [
              0.5555555555555556,
              "#d8576b"
             ],
             [
              0.6666666666666666,
              "#ed7953"
             ],
             [
              0.7777777777777778,
              "#fb9f3a"
             ],
             [
              0.8888888888888888,
              "#fdca26"
             ],
             [
              1,
              "#f0f921"
             ]
            ],
            "type": "histogram2d"
           }
          ],
          "histogram2dcontour": [
           {
            "colorbar": {
             "outlinewidth": 0,
             "ticks": ""
            },
            "colorscale": [
             [
              0,
              "#0d0887"
             ],
             [
              0.1111111111111111,
              "#46039f"
             ],
             [
              0.2222222222222222,
              "#7201a8"
             ],
             [
              0.3333333333333333,
              "#9c179e"
             ],
             [
              0.4444444444444444,
              "#bd3786"
             ],
             [
              0.5555555555555556,
              "#d8576b"
             ],
             [
              0.6666666666666666,
              "#ed7953"
             ],
             [
              0.7777777777777778,
              "#fb9f3a"
             ],
             [
              0.8888888888888888,
              "#fdca26"
             ],
             [
              1,
              "#f0f921"
             ]
            ],
            "type": "histogram2dcontour"
           }
          ],
          "mesh3d": [
           {
            "colorbar": {
             "outlinewidth": 0,
             "ticks": ""
            },
            "type": "mesh3d"
           }
          ],
          "parcoords": [
           {
            "line": {
             "colorbar": {
              "outlinewidth": 0,
              "ticks": ""
             }
            },
            "type": "parcoords"
           }
          ],
          "pie": [
           {
            "automargin": true,
            "type": "pie"
           }
          ],
          "scatter": [
           {
            "fillpattern": {
             "fillmode": "overlay",
             "size": 10,
             "solidity": 0.2
            },
            "type": "scatter"
           }
          ],
          "scatter3d": [
           {
            "line": {
             "colorbar": {
              "outlinewidth": 0,
              "ticks": ""
             }
            },
            "marker": {
             "colorbar": {
              "outlinewidth": 0,
              "ticks": ""
             }
            },
            "type": "scatter3d"
           }
          ],
          "scattercarpet": [
           {
            "marker": {
             "colorbar": {
              "outlinewidth": 0,
              "ticks": ""
             }
            },
            "type": "scattercarpet"
           }
          ],
          "scattergeo": [
           {
            "marker": {
             "colorbar": {
              "outlinewidth": 0,
              "ticks": ""
             }
            },
            "type": "scattergeo"
           }
          ],
          "scattergl": [
           {
            "marker": {
             "colorbar": {
              "outlinewidth": 0,
              "ticks": ""
             }
            },
            "type": "scattergl"
           }
          ],
          "scattermapbox": [
           {
            "marker": {
             "colorbar": {
              "outlinewidth": 0,
              "ticks": ""
             }
            },
            "type": "scattermapbox"
           }
          ],
          "scatterpolar": [
           {
            "marker": {
             "colorbar": {
              "outlinewidth": 0,
              "ticks": ""
             }
            },
            "type": "scatterpolar"
           }
          ],
          "scatterpolargl": [
           {
            "marker": {
             "colorbar": {
              "outlinewidth": 0,
              "ticks": ""
             }
            },
            "type": "scatterpolargl"
           }
          ],
          "scatterternary": [
           {
            "marker": {
             "colorbar": {
              "outlinewidth": 0,
              "ticks": ""
             }
            },
            "type": "scatterternary"
           }
          ],
          "surface": [
           {
            "colorbar": {
             "outlinewidth": 0,
             "ticks": ""
            },
            "colorscale": [
             [
              0,
              "#0d0887"
             ],
             [
              0.1111111111111111,
              "#46039f"
             ],
             [
              0.2222222222222222,
              "#7201a8"
             ],
             [
              0.3333333333333333,
              "#9c179e"
             ],
             [
              0.4444444444444444,
              "#bd3786"
             ],
             [
              0.5555555555555556,
              "#d8576b"
             ],
             [
              0.6666666666666666,
              "#ed7953"
             ],
             [
              0.7777777777777778,
              "#fb9f3a"
             ],
             [
              0.8888888888888888,
              "#fdca26"
             ],
             [
              1,
              "#f0f921"
             ]
            ],
            "type": "surface"
           }
          ],
          "table": [
           {
            "cells": {
             "fill": {
              "color": "#EBF0F8"
             },
             "line": {
              "color": "white"
             }
            },
            "header": {
             "fill": {
              "color": "#C8D4E3"
             },
             "line": {
              "color": "white"
             }
            },
            "type": "table"
           }
          ]
         },
         "layout": {
          "annotationdefaults": {
           "arrowcolor": "#2a3f5f",
           "arrowhead": 0,
           "arrowwidth": 1
          },
          "autotypenumbers": "strict",
          "coloraxis": {
           "colorbar": {
            "outlinewidth": 0,
            "ticks": ""
           }
          },
          "colorscale": {
           "diverging": [
            [
             0,
             "#8e0152"
            ],
            [
             0.1,
             "#c51b7d"
            ],
            [
             0.2,
             "#de77ae"
            ],
            [
             0.3,
             "#f1b6da"
            ],
            [
             0.4,
             "#fde0ef"
            ],
            [
             0.5,
             "#f7f7f7"
            ],
            [
             0.6,
             "#e6f5d0"
            ],
            [
             0.7,
             "#b8e186"
            ],
            [
             0.8,
             "#7fbc41"
            ],
            [
             0.9,
             "#4d9221"
            ],
            [
             1,
             "#276419"
            ]
           ],
           "sequential": [
            [
             0,
             "#0d0887"
            ],
            [
             0.1111111111111111,
             "#46039f"
            ],
            [
             0.2222222222222222,
             "#7201a8"
            ],
            [
             0.3333333333333333,
             "#9c179e"
            ],
            [
             0.4444444444444444,
             "#bd3786"
            ],
            [
             0.5555555555555556,
             "#d8576b"
            ],
            [
             0.6666666666666666,
             "#ed7953"
            ],
            [
             0.7777777777777778,
             "#fb9f3a"
            ],
            [
             0.8888888888888888,
             "#fdca26"
            ],
            [
             1,
             "#f0f921"
            ]
           ],
           "sequentialminus": [
            [
             0,
             "#0d0887"
            ],
            [
             0.1111111111111111,
             "#46039f"
            ],
            [
             0.2222222222222222,
             "#7201a8"
            ],
            [
             0.3333333333333333,
             "#9c179e"
            ],
            [
             0.4444444444444444,
             "#bd3786"
            ],
            [
             0.5555555555555556,
             "#d8576b"
            ],
            [
             0.6666666666666666,
             "#ed7953"
            ],
            [
             0.7777777777777778,
             "#fb9f3a"
            ],
            [
             0.8888888888888888,
             "#fdca26"
            ],
            [
             1,
             "#f0f921"
            ]
           ]
          },
          "colorway": [
           "#636efa",
           "#EF553B",
           "#00cc96",
           "#ab63fa",
           "#FFA15A",
           "#19d3f3",
           "#FF6692",
           "#B6E880",
           "#FF97FF",
           "#FECB52"
          ],
          "font": {
           "color": "#2a3f5f"
          },
          "geo": {
           "bgcolor": "white",
           "lakecolor": "white",
           "landcolor": "#E5ECF6",
           "showlakes": true,
           "showland": true,
           "subunitcolor": "white"
          },
          "hoverlabel": {
           "align": "left"
          },
          "hovermode": "closest",
          "mapbox": {
           "style": "light"
          },
          "paper_bgcolor": "white",
          "plot_bgcolor": "#E5ECF6",
          "polar": {
           "angularaxis": {
            "gridcolor": "white",
            "linecolor": "white",
            "ticks": ""
           },
           "bgcolor": "#E5ECF6",
           "radialaxis": {
            "gridcolor": "white",
            "linecolor": "white",
            "ticks": ""
           }
          },
          "scene": {
           "xaxis": {
            "backgroundcolor": "#E5ECF6",
            "gridcolor": "white",
            "gridwidth": 2,
            "linecolor": "white",
            "showbackground": true,
            "ticks": "",
            "zerolinecolor": "white"
           },
           "yaxis": {
            "backgroundcolor": "#E5ECF6",
            "gridcolor": "white",
            "gridwidth": 2,
            "linecolor": "white",
            "showbackground": true,
            "ticks": "",
            "zerolinecolor": "white"
           },
           "zaxis": {
            "backgroundcolor": "#E5ECF6",
            "gridcolor": "white",
            "gridwidth": 2,
            "linecolor": "white",
            "showbackground": true,
            "ticks": "",
            "zerolinecolor": "white"
           }
          },
          "shapedefaults": {
           "line": {
            "color": "#2a3f5f"
           }
          },
          "ternary": {
           "aaxis": {
            "gridcolor": "white",
            "linecolor": "white",
            "ticks": ""
           },
           "baxis": {
            "gridcolor": "white",
            "linecolor": "white",
            "ticks": ""
           },
           "bgcolor": "#E5ECF6",
           "caxis": {
            "gridcolor": "white",
            "linecolor": "white",
            "ticks": ""
           }
          },
          "title": {
           "x": 0.05
          },
          "xaxis": {
           "automargin": true,
           "gridcolor": "white",
           "linecolor": "white",
           "ticks": "",
           "title": {
            "standoff": 15
           },
           "zerolinecolor": "white",
           "zerolinewidth": 2
          },
          "yaxis": {
           "automargin": true,
           "gridcolor": "white",
           "linecolor": "white",
           "ticks": "",
           "title": {
            "standoff": 15
           },
           "zerolinecolor": "white",
           "zerolinewidth": 2
          }
         }
        },
        "title": {
         "text": "Répartition de la production électrique dans la journée - {A}"
        },
        "yaxis": {
         "range": [
          0,
          44000
         ],
         "title": {
          "text": "MW"
         }
        },
        "yaxis2": {
         "anchor": "free",
         "overlaying": "y",
         "position": 1,
         "range": [
          1.0760333333333332,
          1.8879666666666668
         ],
         "side": "right",
         "title": {
          "text": "€/MWh"
         }
        }
       }
      }
     },
     "metadata": {},
     "output_type": "display_data"
    }
   ],
   "source": [
    "from utils_viz import df_results5, Results_viz5\n",
    "df = df_results5(dict_N,dict_P,dict_Nstart,dict_Thermique,dict_H,dict_Hstart,dict_Hydro=dict_Hydro,consommation=consommation)\n",
    "fig = Results_viz5(df,dict_Thermique,dict_Hydro)\n",
    "A = \"5.1\"\n",
    "fig.update_layout(\n",
    "    title = \"Répartition de la production électrique dans la journée - {A}\"\n",
    ")\n",
    "fig.show()\n",
    "fig.write_html(\"HTML/Répartition de la production électrique dans la journée - {A}.html\")"
   ]
  },
  {
   "cell_type": "markdown",
   "metadata": {},
   "source": [
    "### 5.2\n",
    "\n",
    "On ajoute les variables de décision suivante :\n",
    "$$\n",
    "S_t =  \\text{Puissance appelée par le pompage à l'instant }t\n",
    "$$\n",
    "Puis la contrainte :\n",
    "$$\n",
    "\\sum_tS_t d^{(S)} = \\sum_{t,Y} H_t^{(Y)}d^{(Y)}\n",
    "$$\n",
    "Où $d^{(S)}$ représente la hauteur d'eau élevée par MWh et $d^{(Y)}$ la hauteur d'eau prélevée lorsque la centrale $Y$ fonctionne.<br>\n",
    "On met à jour les contraintes suivante:\n",
    "$$\n",
    "\\sum_X P_t^{(X)} + \\sum_Y H_t^{(Y)}P^{(Y)}-S_t= D_t \\text{  ,  Contrainte équilibre offre-demande}\n",
    "$$"
   ]
  },
  {
   "cell_type": "code",
   "execution_count": 47,
   "metadata": {},
   "outputs": [
    {
     "name": "stdout",
     "output_type": "stream",
     "text": [
      "Gurobi Optimizer version 9.5.2 build v9.5.2rc0 (win64)\n",
      "Thread count: 4 physical cores, 8 logical processors, using up to 8 threads\n",
      "Optimize a model with 433 rows, 336 columns and 1176 nonzeros\n",
      "Model fingerprint: 0x2bb1f118\n",
      "Variable types: 96 continuous, 240 integer (96 binary)\n",
      "Coefficient statistics:\n",
      "  Matrix range     [3e-04, 4e+03]\n",
      "  Objective range  [1e+00, 2e+03]\n",
      "  Bounds range     [1e+00, 1e+01]\n",
      "  RHS range        [5e+00, 4e+04]\n",
      "Found heuristic solution: objective 1468770.0000\n",
      "Presolve removed 120 rows and 0 columns\n",
      "Presolve time: 0.00s\n",
      "Presolved: 313 rows, 336 columns, 936 nonzeros\n",
      "Variable types: 96 continuous, 240 integer (96 binary)\n",
      "Found heuristic solution: objective 1428970.0000\n",
      "\n",
      "Root relaxation: objective 9.850143e+05, 145 iterations, 0.00 seconds (0.00 work units)\n",
      "\n",
      "    Nodes    |    Current Node    |     Objective Bounds      |     Work\n",
      " Expl Unexpl |  Obj  Depth IntInf | Incumbent    BestBd   Gap | It/Node Time\n",
      "\n",
      "     0     0 985014.286    0   26 1428970.00 985014.286  31.1%     -    0s\n",
      "H    0     0                    994935.00000 985014.286  1.00%     -    0s\n",
      "H    0     0                    991890.00000 985014.286  0.69%     -    0s\n",
      "H    0     0                    990145.00000 985014.286  0.52%     -    0s\n",
      "     0     0 985814.126    0   48 990145.000 985814.126  0.44%     -    0s\n",
      "     0     0 985814.126    0   48 990145.000 985814.126  0.44%     -    0s\n",
      "H    0     0                    988290.00000 985814.126  0.25%     -    0s\n",
      "H    0     0                    988040.00000 985814.126  0.23%     -    0s\n",
      "     0     2 985814.126    0   48 988040.000 985814.126  0.23%     -    0s\n",
      "H    2     4                    988002.00000 986022.114  0.20%   4.0    0s\n",
      "H    5     8                    986630.00000 986022.114  0.06%   8.8    0s\n",
      "H   21    13                    986290.00000 986051.521  0.02%   8.0    0s\n",
      "\n",
      "Cutting planes:\n",
      "  Gomory: 5\n",
      "  MIR: 24\n",
      "\n",
      "Explored 45 nodes (439 simplex iterations) in 0.10 seconds (0.04 work units)\n",
      "Thread count was 8 (of 8 available processors)\n",
      "\n",
      "Solution count 10: 986290 986630 988002 ... 1.46877e+06\n",
      "\n",
      "Optimal solution found (tolerance 1.00e-04)\n",
      "Best objective 9.862900000000e+05, best bound 9.862900000000e+05, gap 0.0000%\n"
     ]
    }
   ],
   "source": [
    "from utils import contraintes_reservoir, contraintes_equilibre_avec_STEP\n",
    "\n",
    "model = gp.Model(name=\"5.2\")\n",
    "\n",
    "dict_H, dict_Hstart = variable_decision_hydraulique(model,dict_Hydro)\n",
    "dict_N, dict_Nstart, dict_P = variable_decision_thermique_avec_demarrage(model,dict_Thermique)\n",
    "dict_S = {t : model.addVar(lb=0,vtype=gp.GRB.CONTINUOUS,name=f\"pompage à l'instant {t}\") for t in range(24)}\n",
    "debit_S = 1/3000 # débit de pompage par MWh ou par MW pendant une heure\n",
    "\n",
    "model.setObjective(\n",
    "    gp.quicksum([dict_N[X,t] * (dict_Thermique[X].Cbase - dict_Thermique[X].Pmin*dict_Thermique[X].Cmwh) for X in dict_Thermique for t in range(24)]) + \n",
    "    gp.quicksum([dict_P[X,t] * dict_Thermique[X].Cmwh for X in dict_Thermique for t in range(24)])+ \n",
    "    gp.quicksum([dict_Nstart[X,t]*dict_Thermique[X].Cstart for X in dict_Thermique for t in range(24)])+\n",
    "    gp.quicksum([dict_H[Y,t] * dict_Hydro[Y].Cheure for Y in dict_Hydro for t in range(24)])+\n",
    "    gp.quicksum([dict_Hstart[Y,t] * dict_Hydro[Y].Cstart for Y in dict_Hydro for t in range(24)]),\n",
    "    gp.GRB.MINIMIZE\n",
    "    )\n",
    "\n",
    "contraintes_demarrage(model,dict_N,dict_Nstart,dict_Thermique,cyclique=True)\n",
    "contraintes_puissance_thermique(model,dict_N,dict_P,dict_Thermique)\n",
    "contraintes_reservoir(model,dict_S,dict_Hydro,dict_H,debit_S)\n",
    "contraintes_equilibre_avec_STEP(model,dict_H,dict_P,dict_Thermique,dict_Hydro,dict_S,consommation)\n",
    "contraintes_reserve_avec_hydro(model,dict_N,dict_Thermique,dict_Hydro,consommation)\n",
    "contraintes_hydraulique(model,dict_Hstart,dict_H,dict_Hydro)\n",
    "\n",
    "model.optimize()"
   ]
  },
  {
   "cell_type": "code",
   "execution_count": 48,
   "metadata": {},
   "outputs": [
    {
     "data": {
      "application/vnd.plotly.v1+json": {
       "config": {
        "plotlyServerURL": "https://plot.ly"
       },
       "data": [
        {
         "name": "Thermique A",
         "stackgroup": "one",
         "type": "scatter",
         "x": [
          0,
          1,
          2,
          3,
          4,
          5,
          6,
          7,
          8,
          9,
          10,
          11,
          12,
          13,
          14,
          15,
          16,
          17,
          18,
          19,
          20,
          21,
          22,
          23
         ],
         "y": [
          10200,
          10200,
          10200,
          10200,
          10200,
          10200,
          14250,
          14250,
          14250,
          10200,
          10200,
          10200,
          10200,
          10200,
          10200,
          21350,
          21350,
          21350,
          10200,
          10200,
          10269.999999999996,
          10200.000000000004,
          11250,
          11250
         ]
        },
        {
         "name": "Thermique B",
         "stackgroup": "one",
         "type": "scatter",
         "x": [
          0,
          1,
          2,
          3,
          4,
          5,
          6,
          7,
          8,
          9,
          10,
          11,
          12,
          13,
          14,
          15,
          16,
          17,
          18,
          19,
          20,
          21,
          22,
          23
         ],
         "y": [
          5250,
          5250,
          5250,
          5250,
          5250,
          5250,
          15750,
          15750,
          15750,
          15750,
          15750,
          15750,
          15750,
          15750,
          15750,
          15750,
          15750,
          15750,
          15750,
          15750,
          15750,
          15750,
          15750,
          15750
         ]
        },
        {
         "name": "Thermique C",
         "stackgroup": "one",
         "type": "scatter",
         "x": [
          0,
          1,
          2,
          3,
          4,
          5,
          6,
          7,
          8,
          9,
          10,
          11,
          12,
          13,
          14,
          15,
          16,
          17,
          18,
          19,
          20,
          21,
          22,
          23
         ],
         "y": [
          0,
          0,
          0,
          0,
          0,
          0,
          0,
          0,
          0,
          0,
          0,
          0,
          0,
          0,
          0,
          1500,
          1500,
          1500,
          0,
          0,
          0,
          0,
          0,
          0
         ]
        },
        {
         "name": "Hydraulique 9",
         "stackgroup": "one",
         "type": "scatter",
         "x": [
          0,
          1,
          2,
          3,
          4,
          5,
          6,
          7,
          8,
          9,
          10,
          11,
          12,
          13,
          14,
          15,
          16,
          17,
          18,
          19,
          20,
          21,
          22,
          23
         ],
         "y": [
          0,
          0,
          0,
          0,
          0,
          0,
          0,
          0,
          0,
          0,
          0,
          0,
          0,
          0,
          0,
          0,
          0,
          0,
          0,
          0,
          0,
          0,
          0,
          0
         ]
        },
        {
         "name": "Hydraulique 14",
         "stackgroup": "one",
         "type": "scatter",
         "x": [
          0,
          1,
          2,
          3,
          4,
          5,
          6,
          7,
          8,
          9,
          10,
          11,
          12,
          13,
          14,
          15,
          16,
          17,
          18,
          19,
          20,
          21,
          22,
          23
         ],
         "y": [
          0,
          0,
          0,
          0,
          0,
          0,
          0,
          0,
          0,
          0,
          0,
          0,
          0,
          0,
          0,
          1400,
          1400,
          1400,
          1400,
          1400,
          1400,
          1400,
          0,
          0
         ]
        },
        {
         "name": "Pompage",
         "stackgroup": "two",
         "type": "scatter",
         "x": [
          0,
          1,
          2,
          3,
          4,
          5,
          6,
          7,
          8,
          9,
          10,
          11,
          12,
          13,
          14,
          15,
          16,
          17,
          18,
          19,
          20,
          21,
          22,
          23
         ],
         "y": [
          -450,
          -450,
          -450,
          -450,
          -450,
          -450,
          0,
          0,
          0,
          -950,
          -950,
          -950,
          -950,
          -950,
          -950,
          0,
          0,
          0,
          -350,
          -350,
          -419.99999999999545,
          -350.00000000000273,
          0,
          0
         ]
        },
        {
         "line": {
          "color": "red",
          "dash": "dash"
         },
         "name": "Production total",
         "type": "scatter",
         "x": [
          0,
          1,
          2,
          3,
          4,
          5,
          6,
          7,
          8,
          9,
          10,
          11,
          12,
          13,
          14,
          15,
          16,
          17,
          18,
          19,
          20,
          21,
          22,
          23
         ],
         "y": [
          15000,
          15000,
          15000,
          15000,
          15000,
          15000,
          30000,
          30000,
          30000,
          25000,
          25000,
          25000,
          25000,
          25000,
          25000,
          40000,
          40000,
          40000,
          27000,
          27000,
          27000,
          27000,
          27000,
          27000
         ]
        },
        {
         "line": {
          "color": "black"
         },
         "name": "Coût MWh",
         "type": "scatter",
         "x": [
          0,
          1,
          2,
          3,
          4,
          5,
          6,
          7,
          8,
          9,
          10,
          11,
          12,
          13,
          14,
          15,
          16,
          17,
          18,
          19,
          20,
          21,
          22,
          23
         ],
         "y": [
          1.45,
          1.45,
          1.45,
          1.45,
          1.45,
          1.45,
          1.845,
          1.645,
          1.645,
          1.65,
          1.65,
          1.65,
          1.65,
          1.65,
          1.65,
          1.71,
          1.6675,
          1.6675,
          1.5333333333333334,
          1.5333333333333334,
          1.5385185185185182,
          1.5333333333333337,
          1.6055555555555556,
          1.6055555555555556
         ],
         "yaxis": "y2"
        },
        {
         "line": {
          "color": "grey"
         },
         "name": "Niveau réservoir",
         "type": "scatter",
         "x": [
          0,
          1,
          2,
          3,
          4,
          5,
          6,
          7,
          8,
          9,
          10,
          11,
          12,
          13,
          14,
          15,
          16,
          17,
          18,
          19,
          20,
          21,
          22,
          23
         ],
         "y": [
          0.15,
          0.3,
          0.44999999999999996,
          0.6,
          0.75,
          0.9,
          0.9,
          0.9,
          0.9,
          1.2166666666666668,
          1.5333333333333334,
          1.85,
          2.166666666666667,
          2.4833333333333334,
          2.8,
          2.33,
          1.86,
          1.3900000000000001,
          1.0366666666666668,
          0.6833333333333336,
          0.35333333333333206,
          -3.3306690738754696e-16,
          -3.3306690738754696e-16,
          -3.3306690738754696e-16
         ],
         "yaxis": "y3"
        }
       ],
       "layout": {
        "hovermode": "x",
        "template": {
         "data": {
          "bar": [
           {
            "error_x": {
             "color": "#2a3f5f"
            },
            "error_y": {
             "color": "#2a3f5f"
            },
            "marker": {
             "line": {
              "color": "#E5ECF6",
              "width": 0.5
             },
             "pattern": {
              "fillmode": "overlay",
              "size": 10,
              "solidity": 0.2
             }
            },
            "type": "bar"
           }
          ],
          "barpolar": [
           {
            "marker": {
             "line": {
              "color": "#E5ECF6",
              "width": 0.5
             },
             "pattern": {
              "fillmode": "overlay",
              "size": 10,
              "solidity": 0.2
             }
            },
            "type": "barpolar"
           }
          ],
          "carpet": [
           {
            "aaxis": {
             "endlinecolor": "#2a3f5f",
             "gridcolor": "white",
             "linecolor": "white",
             "minorgridcolor": "white",
             "startlinecolor": "#2a3f5f"
            },
            "baxis": {
             "endlinecolor": "#2a3f5f",
             "gridcolor": "white",
             "linecolor": "white",
             "minorgridcolor": "white",
             "startlinecolor": "#2a3f5f"
            },
            "type": "carpet"
           }
          ],
          "choropleth": [
           {
            "colorbar": {
             "outlinewidth": 0,
             "ticks": ""
            },
            "type": "choropleth"
           }
          ],
          "contour": [
           {
            "colorbar": {
             "outlinewidth": 0,
             "ticks": ""
            },
            "colorscale": [
             [
              0,
              "#0d0887"
             ],
             [
              0.1111111111111111,
              "#46039f"
             ],
             [
              0.2222222222222222,
              "#7201a8"
             ],
             [
              0.3333333333333333,
              "#9c179e"
             ],
             [
              0.4444444444444444,
              "#bd3786"
             ],
             [
              0.5555555555555556,
              "#d8576b"
             ],
             [
              0.6666666666666666,
              "#ed7953"
             ],
             [
              0.7777777777777778,
              "#fb9f3a"
             ],
             [
              0.8888888888888888,
              "#fdca26"
             ],
             [
              1,
              "#f0f921"
             ]
            ],
            "type": "contour"
           }
          ],
          "contourcarpet": [
           {
            "colorbar": {
             "outlinewidth": 0,
             "ticks": ""
            },
            "type": "contourcarpet"
           }
          ],
          "heatmap": [
           {
            "colorbar": {
             "outlinewidth": 0,
             "ticks": ""
            },
            "colorscale": [
             [
              0,
              "#0d0887"
             ],
             [
              0.1111111111111111,
              "#46039f"
             ],
             [
              0.2222222222222222,
              "#7201a8"
             ],
             [
              0.3333333333333333,
              "#9c179e"
             ],
             [
              0.4444444444444444,
              "#bd3786"
             ],
             [
              0.5555555555555556,
              "#d8576b"
             ],
             [
              0.6666666666666666,
              "#ed7953"
             ],
             [
              0.7777777777777778,
              "#fb9f3a"
             ],
             [
              0.8888888888888888,
              "#fdca26"
             ],
             [
              1,
              "#f0f921"
             ]
            ],
            "type": "heatmap"
           }
          ],
          "heatmapgl": [
           {
            "colorbar": {
             "outlinewidth": 0,
             "ticks": ""
            },
            "colorscale": [
             [
              0,
              "#0d0887"
             ],
             [
              0.1111111111111111,
              "#46039f"
             ],
             [
              0.2222222222222222,
              "#7201a8"
             ],
             [
              0.3333333333333333,
              "#9c179e"
             ],
             [
              0.4444444444444444,
              "#bd3786"
             ],
             [
              0.5555555555555556,
              "#d8576b"
             ],
             [
              0.6666666666666666,
              "#ed7953"
             ],
             [
              0.7777777777777778,
              "#fb9f3a"
             ],
             [
              0.8888888888888888,
              "#fdca26"
             ],
             [
              1,
              "#f0f921"
             ]
            ],
            "type": "heatmapgl"
           }
          ],
          "histogram": [
           {
            "marker": {
             "pattern": {
              "fillmode": "overlay",
              "size": 10,
              "solidity": 0.2
             }
            },
            "type": "histogram"
           }
          ],
          "histogram2d": [
           {
            "colorbar": {
             "outlinewidth": 0,
             "ticks": ""
            },
            "colorscale": [
             [
              0,
              "#0d0887"
             ],
             [
              0.1111111111111111,
              "#46039f"
             ],
             [
              0.2222222222222222,
              "#7201a8"
             ],
             [
              0.3333333333333333,
              "#9c179e"
             ],
             [
              0.4444444444444444,
              "#bd3786"
             ],
             [
              0.5555555555555556,
              "#d8576b"
             ],
             [
              0.6666666666666666,
              "#ed7953"
             ],
             [
              0.7777777777777778,
              "#fb9f3a"
             ],
             [
              0.8888888888888888,
              "#fdca26"
             ],
             [
              1,
              "#f0f921"
             ]
            ],
            "type": "histogram2d"
           }
          ],
          "histogram2dcontour": [
           {
            "colorbar": {
             "outlinewidth": 0,
             "ticks": ""
            },
            "colorscale": [
             [
              0,
              "#0d0887"
             ],
             [
              0.1111111111111111,
              "#46039f"
             ],
             [
              0.2222222222222222,
              "#7201a8"
             ],
             [
              0.3333333333333333,
              "#9c179e"
             ],
             [
              0.4444444444444444,
              "#bd3786"
             ],
             [
              0.5555555555555556,
              "#d8576b"
             ],
             [
              0.6666666666666666,
              "#ed7953"
             ],
             [
              0.7777777777777778,
              "#fb9f3a"
             ],
             [
              0.8888888888888888,
              "#fdca26"
             ],
             [
              1,
              "#f0f921"
             ]
            ],
            "type": "histogram2dcontour"
           }
          ],
          "mesh3d": [
           {
            "colorbar": {
             "outlinewidth": 0,
             "ticks": ""
            },
            "type": "mesh3d"
           }
          ],
          "parcoords": [
           {
            "line": {
             "colorbar": {
              "outlinewidth": 0,
              "ticks": ""
             }
            },
            "type": "parcoords"
           }
          ],
          "pie": [
           {
            "automargin": true,
            "type": "pie"
           }
          ],
          "scatter": [
           {
            "fillpattern": {
             "fillmode": "overlay",
             "size": 10,
             "solidity": 0.2
            },
            "type": "scatter"
           }
          ],
          "scatter3d": [
           {
            "line": {
             "colorbar": {
              "outlinewidth": 0,
              "ticks": ""
             }
            },
            "marker": {
             "colorbar": {
              "outlinewidth": 0,
              "ticks": ""
             }
            },
            "type": "scatter3d"
           }
          ],
          "scattercarpet": [
           {
            "marker": {
             "colorbar": {
              "outlinewidth": 0,
              "ticks": ""
             }
            },
            "type": "scattercarpet"
           }
          ],
          "scattergeo": [
           {
            "marker": {
             "colorbar": {
              "outlinewidth": 0,
              "ticks": ""
             }
            },
            "type": "scattergeo"
           }
          ],
          "scattergl": [
           {
            "marker": {
             "colorbar": {
              "outlinewidth": 0,
              "ticks": ""
             }
            },
            "type": "scattergl"
           }
          ],
          "scattermapbox": [
           {
            "marker": {
             "colorbar": {
              "outlinewidth": 0,
              "ticks": ""
             }
            },
            "type": "scattermapbox"
           }
          ],
          "scatterpolar": [
           {
            "marker": {
             "colorbar": {
              "outlinewidth": 0,
              "ticks": ""
             }
            },
            "type": "scatterpolar"
           }
          ],
          "scatterpolargl": [
           {
            "marker": {
             "colorbar": {
              "outlinewidth": 0,
              "ticks": ""
             }
            },
            "type": "scatterpolargl"
           }
          ],
          "scatterternary": [
           {
            "marker": {
             "colorbar": {
              "outlinewidth": 0,
              "ticks": ""
             }
            },
            "type": "scatterternary"
           }
          ],
          "surface": [
           {
            "colorbar": {
             "outlinewidth": 0,
             "ticks": ""
            },
            "colorscale": [
             [
              0,
              "#0d0887"
             ],
             [
              0.1111111111111111,
              "#46039f"
             ],
             [
              0.2222222222222222,
              "#7201a8"
             ],
             [
              0.3333333333333333,
              "#9c179e"
             ],
             [
              0.4444444444444444,
              "#bd3786"
             ],
             [
              0.5555555555555556,
              "#d8576b"
             ],
             [
              0.6666666666666666,
              "#ed7953"
             ],
             [
              0.7777777777777778,
              "#fb9f3a"
             ],
             [
              0.8888888888888888,
              "#fdca26"
             ],
             [
              1,
              "#f0f921"
             ]
            ],
            "type": "surface"
           }
          ],
          "table": [
           {
            "cells": {
             "fill": {
              "color": "#EBF0F8"
             },
             "line": {
              "color": "white"
             }
            },
            "header": {
             "fill": {
              "color": "#C8D4E3"
             },
             "line": {
              "color": "white"
             }
            },
            "type": "table"
           }
          ]
         },
         "layout": {
          "annotationdefaults": {
           "arrowcolor": "#2a3f5f",
           "arrowhead": 0,
           "arrowwidth": 1
          },
          "autotypenumbers": "strict",
          "coloraxis": {
           "colorbar": {
            "outlinewidth": 0,
            "ticks": ""
           }
          },
          "colorscale": {
           "diverging": [
            [
             0,
             "#8e0152"
            ],
            [
             0.1,
             "#c51b7d"
            ],
            [
             0.2,
             "#de77ae"
            ],
            [
             0.3,
             "#f1b6da"
            ],
            [
             0.4,
             "#fde0ef"
            ],
            [
             0.5,
             "#f7f7f7"
            ],
            [
             0.6,
             "#e6f5d0"
            ],
            [
             0.7,
             "#b8e186"
            ],
            [
             0.8,
             "#7fbc41"
            ],
            [
             0.9,
             "#4d9221"
            ],
            [
             1,
             "#276419"
            ]
           ],
           "sequential": [
            [
             0,
             "#0d0887"
            ],
            [
             0.1111111111111111,
             "#46039f"
            ],
            [
             0.2222222222222222,
             "#7201a8"
            ],
            [
             0.3333333333333333,
             "#9c179e"
            ],
            [
             0.4444444444444444,
             "#bd3786"
            ],
            [
             0.5555555555555556,
             "#d8576b"
            ],
            [
             0.6666666666666666,
             "#ed7953"
            ],
            [
             0.7777777777777778,
             "#fb9f3a"
            ],
            [
             0.8888888888888888,
             "#fdca26"
            ],
            [
             1,
             "#f0f921"
            ]
           ],
           "sequentialminus": [
            [
             0,
             "#0d0887"
            ],
            [
             0.1111111111111111,
             "#46039f"
            ],
            [
             0.2222222222222222,
             "#7201a8"
            ],
            [
             0.3333333333333333,
             "#9c179e"
            ],
            [
             0.4444444444444444,
             "#bd3786"
            ],
            [
             0.5555555555555556,
             "#d8576b"
            ],
            [
             0.6666666666666666,
             "#ed7953"
            ],
            [
             0.7777777777777778,
             "#fb9f3a"
            ],
            [
             0.8888888888888888,
             "#fdca26"
            ],
            [
             1,
             "#f0f921"
            ]
           ]
          },
          "colorway": [
           "#636efa",
           "#EF553B",
           "#00cc96",
           "#ab63fa",
           "#FFA15A",
           "#19d3f3",
           "#FF6692",
           "#B6E880",
           "#FF97FF",
           "#FECB52"
          ],
          "font": {
           "color": "#2a3f5f"
          },
          "geo": {
           "bgcolor": "white",
           "lakecolor": "white",
           "landcolor": "#E5ECF6",
           "showlakes": true,
           "showland": true,
           "subunitcolor": "white"
          },
          "hoverlabel": {
           "align": "left"
          },
          "hovermode": "closest",
          "mapbox": {
           "style": "light"
          },
          "paper_bgcolor": "white",
          "plot_bgcolor": "#E5ECF6",
          "polar": {
           "angularaxis": {
            "gridcolor": "white",
            "linecolor": "white",
            "ticks": ""
           },
           "bgcolor": "#E5ECF6",
           "radialaxis": {
            "gridcolor": "white",
            "linecolor": "white",
            "ticks": ""
           }
          },
          "scene": {
           "xaxis": {
            "backgroundcolor": "#E5ECF6",
            "gridcolor": "white",
            "gridwidth": 2,
            "linecolor": "white",
            "showbackground": true,
            "ticks": "",
            "zerolinecolor": "white"
           },
           "yaxis": {
            "backgroundcolor": "#E5ECF6",
            "gridcolor": "white",
            "gridwidth": 2,
            "linecolor": "white",
            "showbackground": true,
            "ticks": "",
            "zerolinecolor": "white"
           },
           "zaxis": {
            "backgroundcolor": "#E5ECF6",
            "gridcolor": "white",
            "gridwidth": 2,
            "linecolor": "white",
            "showbackground": true,
            "ticks": "",
            "zerolinecolor": "white"
           }
          },
          "shapedefaults": {
           "line": {
            "color": "#2a3f5f"
           }
          },
          "ternary": {
           "aaxis": {
            "gridcolor": "white",
            "linecolor": "white",
            "ticks": ""
           },
           "baxis": {
            "gridcolor": "white",
            "linecolor": "white",
            "ticks": ""
           },
           "bgcolor": "#E5ECF6",
           "caxis": {
            "gridcolor": "white",
            "linecolor": "white",
            "ticks": ""
           }
          },
          "title": {
           "x": 0.05
          },
          "xaxis": {
           "automargin": true,
           "gridcolor": "white",
           "linecolor": "white",
           "ticks": "",
           "title": {
            "standoff": 15
           },
           "zerolinecolor": "white",
           "zerolinewidth": 2
          },
          "yaxis": {
           "automargin": true,
           "gridcolor": "white",
           "linecolor": "white",
           "ticks": "",
           "title": {
            "standoff": 15
           },
           "zerolinecolor": "white",
           "zerolinewidth": 2
          }
         }
        },
        "title": {
         "text": "Répartition de la production électrique dans la journée - {A}"
        },
        "yaxis": {
         "range": [
          -1045,
          44000
         ],
         "title": {
          "text": "MW"
         }
        },
        "yaxis2": {
         "anchor": "free",
         "overlaying": "y",
         "position": 1,
         "range": [
          1.3775,
          2.0295
         ],
         "side": "right",
         "title": {
          "text": "€/MWh"
         }
        },
        "yaxis3": {
         "anchor": "free",
         "overlaying": "y",
         "position": 0.05,
         "range": [
          -3.663735981263017e-16,
          3.08
         ],
         "side": "left",
         "title": {
          "text": "Réservoir (m)"
         }
        }
       }
      }
     },
     "metadata": {},
     "output_type": "display_data"
    }
   ],
   "source": [
    "from utils_viz import df_results52, Results_viz52\n",
    "df = df_results52(dict_N,dict_P,dict_Nstart,dict_Thermique,dict_H,dict_Hstart,dict_Hydro,dict_S,debit_S,consommation)\n",
    "fig = Results_viz52(df,dict_Thermique,dict_Hydro)\n",
    "A = \"5.2\"\n",
    "fig.update_layout(\n",
    "    title = \"Répartition de la production électrique dans la journée - {A}\"\n",
    ")\n",
    "fig.show()\n",
    "fig.write_html(\"HTML/Répartition de la production électrique dans la journée - {A}.html\")"
   ]
  },
  {
   "cell_type": "markdown",
   "metadata": {},
   "source": [
    "### 5.3 Paliers de fonctionnement\n",
    "\n",
    "Les variables de décisions concernant l'hydroélectricité deviennent :\n",
    "$$\n",
    "H_t^{(Y,n)} \\in \\{0,1\\} = \\text{La centrale hydroélectrique } Y \\text{ fonctionne au palier } n \\text{ à l'instant } t\n",
    "$$\n",
    "$$\n",
    "H_{start,t}^{(Y)} \\in \\{0,1\\} = \\text{  La centrale hydroélectrique $Y$ démarre à l'instant $t$}\n",
    "$$\n",
    "Les contraintes suivantes sont modifiées :\n",
    "\n",
    "$$\n",
    "\\text{Equilibre offre-demande : } \\sum_X P_t^{(X)} + \\sum_{Y,n} H_t^{(Y,n)}P^{(Y,n)}-S_t= D_t\n",
    "$$\n",
    "$$\n",
    "\\text{Réserve de puissance : } \\sum_X N_t^{(X)}P_{max}^{(X)} + \\sum_Y P^{(Y,n_{max})}\\geq D_t\\times 1,15\n",
    "$$\n",
    "$$\n",
    "\\text{Niveau réservoir : } \\sum_t S_t d^{(S)} = \\sum_{t,Y,n} H_t^{(Y,n)}d^{(Y,n)}\n",
    "$$\n",
    "\n",
    "Les contraintes sur les démarrages et les paliers deviennent :\n",
    "$$\n",
    "\\text{Un seul palier fonctionne à la fois , }\\sum_n H_t^{(Y,n)} \\leq 1\n",
    "$$\n",
    "$$\n",
    "\\text{ Si un palier fonctionne alors il y avait déjà un palier actif ou la centrale est démarrée , } H_t^{(Y,n)} \\leq \\sum_n H_{t-1}^{(Y,n)} + H_{start,t}^{(Y)}\n",
    "$$\n",
    "Modification de la fonction objectif :\n",
    "$$\n",
    "\\text{Minimiser} \\sum_X \\sum_t (P_t^{(X)} - P_{min}^{(X)}N_t^{(X)}) C_{MWh}^{(X)} + N_t^{(X)}C_{base}^{(X)} + N_{start,t}^{(X)}C_{start}^{(X)} + \\sum_{Y,n} \\sum_t H_t^{(Y,n)}C_{base}^{(Y,n)} + \\sum_Y H_{start,t}^{(Y)}C_{start}^{(Y)}\n",
    "$$\n",
    "Où $P^{(Y,n)}$ est la puissance de la centrale $Y$ au palier $n$, $d^{(Y,n)}$ est l'abaissement sur une heure quand la centrale $Y$ fonctionne au palier $n$ et $C_{base}^{(Y,n)}$ est le coût du fonctionnement de la centrale $Y$ pendant une heure de fonctionnement au palier $n$"
   ]
  },
  {
   "cell_type": "code",
   "execution_count": 49,
   "metadata": {},
   "outputs": [
    {
     "name": "stdout",
     "output_type": "stream",
     "text": [
      "Gurobi Optimizer version 9.5.2 build v9.5.2rc0 (win64)\n",
      "Thread count: 4 physical cores, 8 logical processors, using up to 8 threads\n",
      "Optimize a model with 577 rows, 480 columns and 2184 nonzeros\n",
      "Model fingerprint: 0x72ec853a\n",
      "Variable types: 96 continuous, 384 integer (240 binary)\n",
      "Coefficient statistics:\n",
      "  Matrix range     [3e-04, 4e+03]\n",
      "  Objective range  [1e+00, 2e+03]\n",
      "  Bounds range     [1e+00, 1e+01]\n",
      "  RHS range        [1e+00, 4e+04]\n",
      "Presolve removed 264 rows and 48 columns\n",
      "Presolve time: 0.00s\n",
      "Presolved: 313 rows, 432 columns, 1272 nonzeros\n",
      "Variable types: 96 continuous, 336 integer (192 binary)\n",
      "Found heuristic solution: objective 1114770.0000\n",
      "Found heuristic solution: objective 1026475.0000\n",
      "\n",
      "Root relaxation: objective 9.830546e+05, 174 iterations, 0.00 seconds (0.00 work units)\n",
      "\n",
      "    Nodes    |    Current Node    |     Objective Bounds      |     Work\n",
      " Expl Unexpl |  Obj  Depth IntInf | Incumbent    BestBd   Gap | It/Node Time\n",
      "\n",
      "     0     0 983054.622    0   32 1026475.00 983054.622  4.23%     -    0s\n",
      "H    0     0                    991400.00000 983054.622  0.84%     -    0s\n",
      "H    0     0                    985225.00000 983054.622  0.22%     -    0s\n",
      "H    0     0                    984810.00000 983054.622  0.18%     -    0s\n",
      "H    0     0                    984786.00000 983535.974  0.13%     -    0s\n",
      "H    0     0                    984610.00000 983535.974  0.11%     -    0s\n",
      "     0     0 983535.974    0   13 984610.000 983535.974  0.11%     -    0s\n",
      "     0     0 983540.974    0   19 984610.000 983540.974  0.11%     -    0s\n",
      "     0     0 983574.383    0    9 984610.000 983574.383  0.11%     -    0s\n",
      "H    0     0                    984310.00000 983574.383  0.07%     -    0s\n",
      "H    0     0                    984118.00000 983574.383  0.06%     -    0s\n",
      "H    0     0                    983924.00000 983574.383  0.04%     -    0s\n",
      "     0     0 983581.429    0    7 983924.000 983581.429  0.03%     -    0s\n",
      "     0     0 983581.429    0   12 983924.000 983581.429  0.03%     -    0s\n",
      "     0     0 983581.429    0    4 983924.000 983581.429  0.03%     -    0s\n",
      "     0     0 983581.429    0    6 983924.000 983581.429  0.03%     -    0s\n",
      "     0     0 983581.429    0    6 983924.000 983581.429  0.03%     -    0s\n",
      "     0     2 983581.429    0    6 983924.000 983581.429  0.03%     -    0s\n",
      "H   29    35                    983860.00000 983678.486  0.02%   6.3    0s\n",
      "H   31    35                    983835.00000 983678.486  0.02%   6.0    0s\n",
      "H   33    35                    983730.00000 983678.486  0.01%   5.7    0s\n",
      "\n",
      "Cutting planes:\n",
      "  Gomory: 6\n",
      "  MIR: 25\n",
      "\n",
      "Explored 37 nodes (546 simplex iterations) in 0.15 seconds (0.04 work units)\n",
      "Thread count was 8 (of 8 available processors)\n",
      "\n",
      "Solution count 10: 983730 983835 983860 ... 985225\n",
      "\n",
      "Optimal solution found (tolerance 1.00e-04)\n",
      "Best objective 9.837300000000e+05, best bound 9.836784859155e+05, gap 0.0052%\n"
     ]
    }
   ],
   "source": [
    "from utils import Centrale_hydro2\n",
    "from utils import variables_decision_hydraulique_palier\n",
    "from utils import contraintes_reserve_palier, contraintes_reservoir_palier, contraintes_hydraulique_palier, contraintes_equilibre_palier\n",
    "\n",
    "model = gp.Model(name=\"5.3\")\n",
    "\n",
    "dict_Hydro = {\n",
    "    9 : Centrale_hydro2(\n",
    "    name = \"Hydro 900 MW\",\n",
    "    P = {1 : 900, 2 : 950, 3 : 1000, 4 : 1100},\n",
    "    Cstart = 1500,\n",
    "    Cheure= {1 : 90, 2 : 95, 3 : 105, 4 : 120},\n",
    "    Palier = [1, 2, 3, 4],\n",
    "    debit= {1 : 0.31, 2 : 0.33, 3 : 0.35, 4 : 0.38}\n",
    "),\n",
    "    14 : Centrale_hydro2(\n",
    "    name = \"Hydro 1400 MW\",\n",
    "    P = {1 : 1400, 2 : 1500, 3 : 1600, 4 : 1700},\n",
    "    Cstart = 1200,\n",
    "    Cheure= {1 : 150, 2 : 165, 3 : 185, 4 : 210},\n",
    "    Palier = [1, 2, 3, 4],\n",
    "    debit= {1 : 0.47, 2 : 0.50, 3 : 0.53, 4 : 0.56}\n",
    ")\n",
    "}\n",
    "\n",
    "dict_H, dict_Hstart = variables_decision_hydraulique_palier(model,dict_Hydro)\n",
    "dict_N, dict_Nstart, dict_P = variable_decision_thermique_avec_demarrage(model,dict_Thermique)\n",
    "dict_S = {t : model.addVar(lb=0,vtype=gp.GRB.CONTINUOUS,name=f\"pompage à l'instant {t}\") for t in range(24)}\n",
    "debit_S = 1/3000 # débit de pompage par MWh ou par MW pendant une heure\n",
    "\n",
    "model.setObjective(\n",
    "    gp.quicksum([dict_N[X,t] * (dict_Thermique[X].Cbase - dict_Thermique[X].Pmin*dict_Thermique[X].Cmwh) for X in dict_Thermique for t in range(24)]) + \n",
    "    gp.quicksum([dict_P[X,t] * dict_Thermique[X].Cmwh for X in dict_Thermique for t in range(24)])+ \n",
    "    gp.quicksum([dict_Nstart[X,t]*dict_Thermique[X].Cstart for X in dict_Thermique for t in range(24)])+\n",
    "    gp.quicksum([dict_H[Y,n,t] * dict_Hydro[Y].Cheure[n] for Y in dict_Hydro for t in range(24) for n in dict_Hydro[Y].Palier])+\n",
    "    gp.quicksum([dict_Hstart[Y,t] * dict_Hydro[Y].Cstart for Y in dict_Hydro for t in range(24)]),\n",
    "    gp.GRB.MINIMIZE\n",
    "    )\n",
    "\n",
    "contraintes_demarrage(model,dict_N,dict_Nstart,dict_Thermique,cyclique=True)\n",
    "contraintes_puissance_thermique(model,dict_N,dict_P,dict_Thermique)\n",
    "contraintes_equilibre_palier(model,dict_P,dict_Thermique,dict_H,dict_Hydro,dict_S,consommation)\n",
    "contraintes_reserve_palier(model,dict_N,dict_Thermique,dict_Hydro,consommation)\n",
    "contraintes_reservoir_palier(model,dict_H,dict_Hydro,dict_S,debit_S)\n",
    "contraintes_hydraulique_palier(model,dict_H,dict_Hydro,dict_Hstart)\n",
    "\n",
    "model.optimize()"
   ]
  },
  {
   "cell_type": "code",
   "execution_count": 50,
   "metadata": {},
   "outputs": [],
   "source": [
    "def df_results53(dict_N,dict_P,dict_Nstart,dict_Thermique,dict_H,dict_Hstart,dict_Hydro,dict_S,debit_S,consommation):\n",
    "    df = pd.DataFrame()\n",
    "    df[\"h\"] = range(24) \n",
    "    df[\"Consommation (MW)\"] = consommation\n",
    "    df[\"Production total\"] = 0\n",
    "    df[\"Coût total\"] = 0\n",
    "    for X in dict_Thermique:\n",
    "        df[f\"Nb centrale {X}\"] = [int(dict_N[X,t].X) for t in range(24)]\n",
    "        df[f\"Puissance tot {X}\"] = [dict_P[X,t].X for t in range(24)]\n",
    "        df[f\"Coût {X}\"] = [dict_N[X,t].X * dict_Thermique[X].Cbase + (dict_P[X,t].X - dict_N[X,t].X * dict_Thermique[X].Pmin) * dict_Thermique[X].Cmwh + dict_Nstart[X,t].X*dict_Thermique[X].Cstart for t in range(24)]\n",
    "        df[\"Production total\"] += df[f\"Puissance tot {X}\"]\n",
    "        df[\"Coût total\"] += df[f\"Coût {X}\"]\n",
    "    for Y in dict_Hydro:\n",
    "        for n in dict_Hydro[Y].Palier:\n",
    "            df[f\"Fonctionnement {Y}, palier {n}\"] = [dict_H[Y,n,t].X for t in range(24)]\n",
    "            df[f\"Puissance tot {Y}, palier {n}\"] = [dict_H[Y,n,t].X * dict_Hydro[Y].P[n] for t in range(24)]\n",
    "            df[f\"Coût {Y}, palier {n}\"] = [dict_H[Y,n,t].X * dict_Hydro[Y].Cheure[n] for t in range(24)]\n",
    "        df[f\"Démarrage {Y}\"] = [dict_Hstart[Y,t].X for t in range(24)]\n",
    "        df[f\"Fonctionnement {Y}\"] = [sum(dict_H[Y,n,t].X for n in dict_Hydro[Y].Palier) for t in range(24)]\n",
    "        df[f\"Puissance tot {Y}\"] = df[[f\"Puissance tot {Y}, palier {n}\" for n in dict_Hydro[Y].Palier]].sum(1)\n",
    "        df[f\"Coût {Y}\"] = df[[f\"Coût {Y}, palier {n}\" for n in dict_Hydro[Y].Palier]].sum(1) + pd.DataFrame([dict_Hstart[Y,t].X * dict_Hydro[Y].Cstart for t in range(24)])[0]\n",
    "        df[\"Production total\"] += df[f\"Puissance tot {Y}\"]\n",
    "        df[\"Coût total\"] += df[f\"Coût {Y}\"]\n",
    "    df[\"Pompage\"] = [-dict_S[t].X for t in range(24)]\n",
    "    df[\"Production total\"] += df[\"Pompage\"]\n",
    "    df[\"Réservoir variation\"] = [dict_S[t].X * debit_S - sum([dict_H[Y,n,t].X * dict_Hydro[Y].debit[n] for Y in dict_Hydro for n in dict_Hydro[Y].Palier]) for t in range(24)]\n",
    "    df[\"Réservoir\"] = df[\"Réservoir variation\"].cumsum()\n",
    "    df[\"Coût MWh\"] = df[\"Coût total\"]/df[\"Production total\"]\n",
    "    return df\n"
   ]
  },
  {
   "cell_type": "code",
   "execution_count": 51,
   "metadata": {},
   "outputs": [
    {
     "data": {
      "application/vnd.plotly.v1+json": {
       "config": {
        "plotlyServerURL": "https://plot.ly"
       },
       "data": [
        {
         "name": "Thermique A",
         "stackgroup": "one",
         "type": "scatter",
         "x": [
          0,
          1,
          2,
          3,
          4,
          5,
          6,
          7,
          8,
          9,
          10,
          11,
          12,
          13,
          14,
          15,
          16,
          17,
          18,
          19,
          20,
          21,
          22,
          23
         ],
         "y": [
          10199.999999999993,
          10199.999999999993,
          10199.999999999993,
          10199.999999999993,
          10199.999999999993,
          10199.999999999993,
          11650,
          11650,
          11650,
          10199.999999999993,
          10200,
          10199.999999999993,
          10200,
          10200,
          10199.999999999993,
          19950,
          19950,
          19950,
          10199.999999999995,
          10260.00000000008,
          10200,
          10400,
          10200,
          10200
         ]
        },
        {
         "name": "Thermique B",
         "stackgroup": "one",
         "type": "scatter",
         "x": [
          0,
          1,
          2,
          3,
          4,
          5,
          6,
          7,
          8,
          9,
          10,
          11,
          12,
          13,
          14,
          15,
          16,
          17,
          18,
          19,
          20,
          21,
          22,
          23
         ],
         "y": [
          8750,
          8750,
          8750,
          8750,
          8750,
          8750,
          15750,
          15750,
          15750,
          15750,
          15750,
          15750,
          15750,
          15750,
          15750,
          15750,
          15750,
          15750,
          15750,
          15750,
          14000,
          14000,
          14000,
          14000
         ]
        },
        {
         "name": "Thermique C",
         "stackgroup": "one",
         "type": "scatter",
         "x": [
          0,
          1,
          2,
          3,
          4,
          5,
          6,
          7,
          8,
          9,
          10,
          11,
          12,
          13,
          14,
          15,
          16,
          17,
          18,
          19,
          20,
          21,
          22,
          23
         ],
         "y": [
          0,
          0,
          0,
          0,
          0,
          0,
          0,
          0,
          0,
          0,
          0,
          0,
          0,
          0,
          0,
          1500,
          1500,
          1500,
          0,
          0,
          0,
          0,
          0,
          0
         ]
        },
        {
         "name": "Hydraulique 9",
         "stackgroup": "one",
         "type": "scatter",
         "x": [
          0,
          1,
          2,
          3,
          4,
          5,
          6,
          7,
          8,
          9,
          10,
          11,
          12,
          13,
          14,
          15,
          16,
          17,
          18,
          19,
          20,
          21,
          22,
          23
         ],
         "y": [
          0,
          0,
          0,
          0,
          0,
          0,
          900,
          900,
          900,
          0,
          0,
          0,
          0,
          0,
          0,
          1100,
          1100,
          1100,
          0,
          0,
          1100,
          900,
          1100,
          1100
         ]
        },
        {
         "name": "Hydraulique 14",
         "stackgroup": "one",
         "type": "scatter",
         "x": [
          0,
          1,
          2,
          3,
          4,
          5,
          6,
          7,
          8,
          9,
          10,
          11,
          12,
          13,
          14,
          15,
          16,
          17,
          18,
          19,
          20,
          21,
          22,
          23
         ],
         "y": [
          0,
          0,
          0,
          0,
          0,
          0,
          1700,
          1700,
          1700,
          0,
          0,
          0,
          0,
          0,
          0,
          1700,
          1700,
          1700,
          1500,
          1500,
          1700,
          1700,
          1700,
          1700
         ]
        },
        {
         "name": "Pompage",
         "stackgroup": "two",
         "type": "scatter",
         "x": [
          0,
          1,
          2,
          3,
          4,
          5,
          6,
          7,
          8,
          9,
          10,
          11,
          12,
          13,
          14,
          15,
          16,
          17,
          18,
          19,
          20,
          21,
          22,
          23
         ],
         "y": [
          -3949.9999999999927,
          -3949.9999999999927,
          -3949.9999999999927,
          -3949.9999999999927,
          -3949.9999999999927,
          -3949.9999999999927,
          0,
          0,
          0,
          -949.9999999999927,
          -950,
          -949.9999999999927,
          -950,
          -950,
          -949.9999999999927,
          0,
          0,
          0,
          -449.99999999999454,
          -510.00000000007975,
          0,
          0,
          0,
          0
         ]
        },
        {
         "line": {
          "color": "red",
          "dash": "dash"
         },
         "name": "Production total",
         "type": "scatter",
         "x": [
          0,
          1,
          2,
          3,
          4,
          5,
          6,
          7,
          8,
          9,
          10,
          11,
          12,
          13,
          14,
          15,
          16,
          17,
          18,
          19,
          20,
          21,
          22,
          23
         ],
         "y": [
          15000,
          15000,
          15000,
          15000,
          15000,
          15000,
          30000,
          30000,
          30000,
          25000,
          25000,
          25000,
          25000,
          25000,
          25000,
          40000,
          40000,
          40000,
          27000,
          27000,
          27000,
          27000,
          27000,
          27000
         ]
        },
        {
         "line": {
          "color": "black"
         },
         "name": "Coût MWh",
         "type": "scatter",
         "x": [
          0,
          1,
          2,
          3,
          4,
          5,
          6,
          7,
          8,
          9,
          10,
          11,
          12,
          13,
          14,
          15,
          16,
          17,
          18,
          19,
          20,
          21,
          22,
          23
         ],
         "y": [
          1.8833333333333324,
          1.8833333333333324,
          1.8833333333333324,
          1.8833333333333324,
          1.8833333333333324,
          1.8833333333333324,
          1.615,
          1.4816666666666667,
          1.4816666666666667,
          1.6499999999999995,
          1.65,
          1.6499999999999995,
          1.65,
          1.65,
          1.6499999999999995,
          1.6145,
          1.602,
          1.602,
          1.5338888888888884,
          1.5383333333333393,
          1.4196296296296296,
          1.4333333333333333,
          1.4196296296296296,
          1.4196296296296296
         ],
         "yaxis": "y2"
        },
        {
         "line": {
          "color": "grey"
         },
         "name": "Niveau réservoir",
         "type": "scatter",
         "x": [
          0,
          1,
          2,
          3,
          4,
          5,
          6,
          7,
          8,
          9,
          10,
          11,
          12,
          13,
          14,
          15,
          16,
          17,
          18,
          19,
          20,
          21,
          22,
          23
         ],
         "y": [
          1.3166666666666642,
          2.6333333333333284,
          3.9499999999999926,
          5.266666666666657,
          6.5833333333333215,
          7.899999999999986,
          7.029999999999986,
          6.159999999999986,
          5.289999999999986,
          5.60666666666665,
          5.923333333333316,
          6.239999999999981,
          6.556666666666647,
          6.8733333333333135,
          7.189999999999978,
          6.249999999999978,
          5.309999999999977,
          4.369999999999977,
          4.019999999999975,
          3.6900000000000013,
          2.7500000000000013,
          1.8800000000000012,
          0.9400000000000012,
          1.1102230246251565e-15
         ],
         "yaxis": "y3"
        }
       ],
       "layout": {
        "hovermode": "x",
        "template": {
         "data": {
          "bar": [
           {
            "error_x": {
             "color": "#2a3f5f"
            },
            "error_y": {
             "color": "#2a3f5f"
            },
            "marker": {
             "line": {
              "color": "#E5ECF6",
              "width": 0.5
             },
             "pattern": {
              "fillmode": "overlay",
              "size": 10,
              "solidity": 0.2
             }
            },
            "type": "bar"
           }
          ],
          "barpolar": [
           {
            "marker": {
             "line": {
              "color": "#E5ECF6",
              "width": 0.5
             },
             "pattern": {
              "fillmode": "overlay",
              "size": 10,
              "solidity": 0.2
             }
            },
            "type": "barpolar"
           }
          ],
          "carpet": [
           {
            "aaxis": {
             "endlinecolor": "#2a3f5f",
             "gridcolor": "white",
             "linecolor": "white",
             "minorgridcolor": "white",
             "startlinecolor": "#2a3f5f"
            },
            "baxis": {
             "endlinecolor": "#2a3f5f",
             "gridcolor": "white",
             "linecolor": "white",
             "minorgridcolor": "white",
             "startlinecolor": "#2a3f5f"
            },
            "type": "carpet"
           }
          ],
          "choropleth": [
           {
            "colorbar": {
             "outlinewidth": 0,
             "ticks": ""
            },
            "type": "choropleth"
           }
          ],
          "contour": [
           {
            "colorbar": {
             "outlinewidth": 0,
             "ticks": ""
            },
            "colorscale": [
             [
              0,
              "#0d0887"
             ],
             [
              0.1111111111111111,
              "#46039f"
             ],
             [
              0.2222222222222222,
              "#7201a8"
             ],
             [
              0.3333333333333333,
              "#9c179e"
             ],
             [
              0.4444444444444444,
              "#bd3786"
             ],
             [
              0.5555555555555556,
              "#d8576b"
             ],
             [
              0.6666666666666666,
              "#ed7953"
             ],
             [
              0.7777777777777778,
              "#fb9f3a"
             ],
             [
              0.8888888888888888,
              "#fdca26"
             ],
             [
              1,
              "#f0f921"
             ]
            ],
            "type": "contour"
           }
          ],
          "contourcarpet": [
           {
            "colorbar": {
             "outlinewidth": 0,
             "ticks": ""
            },
            "type": "contourcarpet"
           }
          ],
          "heatmap": [
           {
            "colorbar": {
             "outlinewidth": 0,
             "ticks": ""
            },
            "colorscale": [
             [
              0,
              "#0d0887"
             ],
             [
              0.1111111111111111,
              "#46039f"
             ],
             [
              0.2222222222222222,
              "#7201a8"
             ],
             [
              0.3333333333333333,
              "#9c179e"
             ],
             [
              0.4444444444444444,
              "#bd3786"
             ],
             [
              0.5555555555555556,
              "#d8576b"
             ],
             [
              0.6666666666666666,
              "#ed7953"
             ],
             [
              0.7777777777777778,
              "#fb9f3a"
             ],
             [
              0.8888888888888888,
              "#fdca26"
             ],
             [
              1,
              "#f0f921"
             ]
            ],
            "type": "heatmap"
           }
          ],
          "heatmapgl": [
           {
            "colorbar": {
             "outlinewidth": 0,
             "ticks": ""
            },
            "colorscale": [
             [
              0,
              "#0d0887"
             ],
             [
              0.1111111111111111,
              "#46039f"
             ],
             [
              0.2222222222222222,
              "#7201a8"
             ],
             [
              0.3333333333333333,
              "#9c179e"
             ],
             [
              0.4444444444444444,
              "#bd3786"
             ],
             [
              0.5555555555555556,
              "#d8576b"
             ],
             [
              0.6666666666666666,
              "#ed7953"
             ],
             [
              0.7777777777777778,
              "#fb9f3a"
             ],
             [
              0.8888888888888888,
              "#fdca26"
             ],
             [
              1,
              "#f0f921"
             ]
            ],
            "type": "heatmapgl"
           }
          ],
          "histogram": [
           {
            "marker": {
             "pattern": {
              "fillmode": "overlay",
              "size": 10,
              "solidity": 0.2
             }
            },
            "type": "histogram"
           }
          ],
          "histogram2d": [
           {
            "colorbar": {
             "outlinewidth": 0,
             "ticks": ""
            },
            "colorscale": [
             [
              0,
              "#0d0887"
             ],
             [
              0.1111111111111111,
              "#46039f"
             ],
             [
              0.2222222222222222,
              "#7201a8"
             ],
             [
              0.3333333333333333,
              "#9c179e"
             ],
             [
              0.4444444444444444,
              "#bd3786"
             ],
             [
              0.5555555555555556,
              "#d8576b"
             ],
             [
              0.6666666666666666,
              "#ed7953"
             ],
             [
              0.7777777777777778,
              "#fb9f3a"
             ],
             [
              0.8888888888888888,
              "#fdca26"
             ],
             [
              1,
              "#f0f921"
             ]
            ],
            "type": "histogram2d"
           }
          ],
          "histogram2dcontour": [
           {
            "colorbar": {
             "outlinewidth": 0,
             "ticks": ""
            },
            "colorscale": [
             [
              0,
              "#0d0887"
             ],
             [
              0.1111111111111111,
              "#46039f"
             ],
             [
              0.2222222222222222,
              "#7201a8"
             ],
             [
              0.3333333333333333,
              "#9c179e"
             ],
             [
              0.4444444444444444,
              "#bd3786"
             ],
             [
              0.5555555555555556,
              "#d8576b"
             ],
             [
              0.6666666666666666,
              "#ed7953"
             ],
             [
              0.7777777777777778,
              "#fb9f3a"
             ],
             [
              0.8888888888888888,
              "#fdca26"
             ],
             [
              1,
              "#f0f921"
             ]
            ],
            "type": "histogram2dcontour"
           }
          ],
          "mesh3d": [
           {
            "colorbar": {
             "outlinewidth": 0,
             "ticks": ""
            },
            "type": "mesh3d"
           }
          ],
          "parcoords": [
           {
            "line": {
             "colorbar": {
              "outlinewidth": 0,
              "ticks": ""
             }
            },
            "type": "parcoords"
           }
          ],
          "pie": [
           {
            "automargin": true,
            "type": "pie"
           }
          ],
          "scatter": [
           {
            "fillpattern": {
             "fillmode": "overlay",
             "size": 10,
             "solidity": 0.2
            },
            "type": "scatter"
           }
          ],
          "scatter3d": [
           {
            "line": {
             "colorbar": {
              "outlinewidth": 0,
              "ticks": ""
             }
            },
            "marker": {
             "colorbar": {
              "outlinewidth": 0,
              "ticks": ""
             }
            },
            "type": "scatter3d"
           }
          ],
          "scattercarpet": [
           {
            "marker": {
             "colorbar": {
              "outlinewidth": 0,
              "ticks": ""
             }
            },
            "type": "scattercarpet"
           }
          ],
          "scattergeo": [
           {
            "marker": {
             "colorbar": {
              "outlinewidth": 0,
              "ticks": ""
             }
            },
            "type": "scattergeo"
           }
          ],
          "scattergl": [
           {
            "marker": {
             "colorbar": {
              "outlinewidth": 0,
              "ticks": ""
             }
            },
            "type": "scattergl"
           }
          ],
          "scattermapbox": [
           {
            "marker": {
             "colorbar": {
              "outlinewidth": 0,
              "ticks": ""
             }
            },
            "type": "scattermapbox"
           }
          ],
          "scatterpolar": [
           {
            "marker": {
             "colorbar": {
              "outlinewidth": 0,
              "ticks": ""
             }
            },
            "type": "scatterpolar"
           }
          ],
          "scatterpolargl": [
           {
            "marker": {
             "colorbar": {
              "outlinewidth": 0,
              "ticks": ""
             }
            },
            "type": "scatterpolargl"
           }
          ],
          "scatterternary": [
           {
            "marker": {
             "colorbar": {
              "outlinewidth": 0,
              "ticks": ""
             }
            },
            "type": "scatterternary"
           }
          ],
          "surface": [
           {
            "colorbar": {
             "outlinewidth": 0,
             "ticks": ""
            },
            "colorscale": [
             [
              0,
              "#0d0887"
             ],
             [
              0.1111111111111111,
              "#46039f"
             ],
             [
              0.2222222222222222,
              "#7201a8"
             ],
             [
              0.3333333333333333,
              "#9c179e"
             ],
             [
              0.4444444444444444,
              "#bd3786"
             ],
             [
              0.5555555555555556,
              "#d8576b"
             ],
             [
              0.6666666666666666,
              "#ed7953"
             ],
             [
              0.7777777777777778,
              "#fb9f3a"
             ],
             [
              0.8888888888888888,
              "#fdca26"
             ],
             [
              1,
              "#f0f921"
             ]
            ],
            "type": "surface"
           }
          ],
          "table": [
           {
            "cells": {
             "fill": {
              "color": "#EBF0F8"
             },
             "line": {
              "color": "white"
             }
            },
            "header": {
             "fill": {
              "color": "#C8D4E3"
             },
             "line": {
              "color": "white"
             }
            },
            "type": "table"
           }
          ]
         },
         "layout": {
          "annotationdefaults": {
           "arrowcolor": "#2a3f5f",
           "arrowhead": 0,
           "arrowwidth": 1
          },
          "autotypenumbers": "strict",
          "coloraxis": {
           "colorbar": {
            "outlinewidth": 0,
            "ticks": ""
           }
          },
          "colorscale": {
           "diverging": [
            [
             0,
             "#8e0152"
            ],
            [
             0.1,
             "#c51b7d"
            ],
            [
             0.2,
             "#de77ae"
            ],
            [
             0.3,
             "#f1b6da"
            ],
            [
             0.4,
             "#fde0ef"
            ],
            [
             0.5,
             "#f7f7f7"
            ],
            [
             0.6,
             "#e6f5d0"
            ],
            [
             0.7,
             "#b8e186"
            ],
            [
             0.8,
             "#7fbc41"
            ],
            [
             0.9,
             "#4d9221"
            ],
            [
             1,
             "#276419"
            ]
           ],
           "sequential": [
            [
             0,
             "#0d0887"
            ],
            [
             0.1111111111111111,
             "#46039f"
            ],
            [
             0.2222222222222222,
             "#7201a8"
            ],
            [
             0.3333333333333333,
             "#9c179e"
            ],
            [
             0.4444444444444444,
             "#bd3786"
            ],
            [
             0.5555555555555556,
             "#d8576b"
            ],
            [
             0.6666666666666666,
             "#ed7953"
            ],
            [
             0.7777777777777778,
             "#fb9f3a"
            ],
            [
             0.8888888888888888,
             "#fdca26"
            ],
            [
             1,
             "#f0f921"
            ]
           ],
           "sequentialminus": [
            [
             0,
             "#0d0887"
            ],
            [
             0.1111111111111111,
             "#46039f"
            ],
            [
             0.2222222222222222,
             "#7201a8"
            ],
            [
             0.3333333333333333,
             "#9c179e"
            ],
            [
             0.4444444444444444,
             "#bd3786"
            ],
            [
             0.5555555555555556,
             "#d8576b"
            ],
            [
             0.6666666666666666,
             "#ed7953"
            ],
            [
             0.7777777777777778,
             "#fb9f3a"
            ],
            [
             0.8888888888888888,
             "#fdca26"
            ],
            [
             1,
             "#f0f921"
            ]
           ]
          },
          "colorway": [
           "#636efa",
           "#EF553B",
           "#00cc96",
           "#ab63fa",
           "#FFA15A",
           "#19d3f3",
           "#FF6692",
           "#B6E880",
           "#FF97FF",
           "#FECB52"
          ],
          "font": {
           "color": "#2a3f5f"
          },
          "geo": {
           "bgcolor": "white",
           "lakecolor": "white",
           "landcolor": "#E5ECF6",
           "showlakes": true,
           "showland": true,
           "subunitcolor": "white"
          },
          "hoverlabel": {
           "align": "left"
          },
          "hovermode": "closest",
          "mapbox": {
           "style": "light"
          },
          "paper_bgcolor": "white",
          "plot_bgcolor": "#E5ECF6",
          "polar": {
           "angularaxis": {
            "gridcolor": "white",
            "linecolor": "white",
            "ticks": ""
           },
           "bgcolor": "#E5ECF6",
           "radialaxis": {
            "gridcolor": "white",
            "linecolor": "white",
            "ticks": ""
           }
          },
          "scene": {
           "xaxis": {
            "backgroundcolor": "#E5ECF6",
            "gridcolor": "white",
            "gridwidth": 2,
            "linecolor": "white",
            "showbackground": true,
            "ticks": "",
            "zerolinecolor": "white"
           },
           "yaxis": {
            "backgroundcolor": "#E5ECF6",
            "gridcolor": "white",
            "gridwidth": 2,
            "linecolor": "white",
            "showbackground": true,
            "ticks": "",
            "zerolinecolor": "white"
           },
           "zaxis": {
            "backgroundcolor": "#E5ECF6",
            "gridcolor": "white",
            "gridwidth": 2,
            "linecolor": "white",
            "showbackground": true,
            "ticks": "",
            "zerolinecolor": "white"
           }
          },
          "shapedefaults": {
           "line": {
            "color": "#2a3f5f"
           }
          },
          "ternary": {
           "aaxis": {
            "gridcolor": "white",
            "linecolor": "white",
            "ticks": ""
           },
           "baxis": {
            "gridcolor": "white",
            "linecolor": "white",
            "ticks": ""
           },
           "bgcolor": "#E5ECF6",
           "caxis": {
            "gridcolor": "white",
            "linecolor": "white",
            "ticks": ""
           }
          },
          "title": {
           "x": 0.05
          },
          "xaxis": {
           "automargin": true,
           "gridcolor": "white",
           "linecolor": "white",
           "ticks": "",
           "title": {
            "standoff": 15
           },
           "zerolinecolor": "white",
           "zerolinewidth": 2
          },
          "yaxis": {
           "automargin": true,
           "gridcolor": "white",
           "linecolor": "white",
           "ticks": "",
           "title": {
            "standoff": 15
           },
           "zerolinecolor": "white",
           "zerolinewidth": 2
          }
         }
        },
        "title": {
         "text": "Répartition de la production électrique dans la journée - {A}"
        },
        "yaxis": {
         "range": [
          -4344.999999999993,
          44000
         ],
         "title": {
          "text": "MW"
         }
        },
        "yaxis2": {
         "anchor": "free",
         "overlaying": "y",
         "position": 1,
         "range": [
          1.348648148148148,
          2.071666666666666
         ],
         "side": "right",
         "title": {
          "text": "€/MWh"
         }
        },
        "yaxis3": {
         "anchor": "free",
         "overlaying": "y",
         "position": 0.05,
         "range": [
          1.2212453270876722e-15,
          8.689999999999985
         ],
         "side": "left",
         "title": {
          "text": "Réservoir (m)"
         }
        }
       }
      }
     },
     "metadata": {},
     "output_type": "display_data"
    }
   ],
   "source": [
    "df = df_results53(dict_N,dict_P,dict_Nstart,dict_Thermique,dict_H,dict_Hstart,dict_Hydro,dict_S,debit_S,consommation)\n",
    "fig = Results_viz52(df,dict_Thermique,dict_Hydro)\n",
    "A = \"5.3\"\n",
    "fig.update_layout(\n",
    "    title = \"Répartition de la production électrique dans la journée - {A}\"\n",
    ")\n",
    "fig.show()\n",
    "fig.write_html(\"HTML/Répartition de la production électrique dans la journée - {A}.html\")"
   ]
  },
  {
   "cell_type": "markdown",
   "metadata": {},
   "source": [
    "### 5.4 Exclusion pompage et génération hydro\n",
    "\n",
    "On introduit la variable de décision suivante :\n",
    "$$\n",
    "N^{S}_t \\in \\{0,1\\} = \\text{La pompage est en fonctionnement}\n",
    "$$\n",
    "On ajoute les contraintes suivante :\n",
    "$$\n",
    "\\text{Si une centrale hydroélectrique est activée alors le pompage est désactivé , } \\frac{1}{\\text{Nb centrale hydro}}\\sum_{Y,n}H_t^{Y,n} \\leq 1 - N_t^{(S)}\n",
    "$$\n",
    "$$\n",
    "\\text{Si aucune centrale hydroélectrique est allumée alors il peut y avoir du pompage , } S_t \\leq M \\times  N_t^{(S)}\n",
    "$$"
   ]
  },
  {
   "cell_type": "code",
   "execution_count": 52,
   "metadata": {},
   "outputs": [
    {
     "name": "stdout",
     "output_type": "stream",
     "text": [
      "Gurobi Optimizer version 9.5.2 build v9.5.2rc0 (win64)\n",
      "Thread count: 4 physical cores, 8 logical processors, using up to 8 threads\n",
      "Optimize a model with 625 rows, 504 columns and 2448 nonzeros\n",
      "Model fingerprint: 0x2871af22\n",
      "Variable types: 96 continuous, 408 integer (264 binary)\n",
      "Coefficient statistics:\n",
      "  Matrix range     [3e-04, 6e+04]\n",
      "  Objective range  [1e+00, 2e+03]\n",
      "  Bounds range     [1e+00, 1e+01]\n",
      "  RHS range        [1e+00, 4e+04]\n",
      "Presolve removed 288 rows and 48 columns\n",
      "Presolve time: 0.00s\n",
      "Presolved: 337 rows, 456 columns, 1368 nonzeros\n",
      "Variable types: 96 continuous, 360 integer (216 binary)\n",
      "Found heuristic solution: objective 1155935.0000\n",
      "Found heuristic solution: objective 1037700.0000\n",
      "Found heuristic solution: objective 1026475.0000\n",
      "\n",
      "Root relaxation: objective 9.830546e+05, 202 iterations, 0.00 seconds (0.00 work units)\n",
      "\n",
      "    Nodes    |    Current Node    |     Objective Bounds      |     Work\n",
      " Expl Unexpl |  Obj  Depth IntInf | Incumbent    BestBd   Gap | It/Node Time\n",
      "\n",
      "     0     0 983054.622    0   32 1026475.00 983054.622  4.23%     -    0s\n",
      "H    0     0                    991400.00000 983054.622  0.84%     -    0s\n",
      "H    0     0                    987535.00000 983054.622  0.45%     -    0s\n",
      "H    0     0                    987120.00000 983054.622  0.41%     -    0s\n",
      "     0     0 983536.082    0   25 987120.000 983536.082  0.36%     -    0s\n",
      "H    0     0                    986500.00000 983536.082  0.30%     -    0s\n",
      "     0     0 983539.676    0   31 986500.000 983539.676  0.30%     -    0s\n",
      "     0     0 983545.096    0   31 986500.000 983545.096  0.30%     -    0s\n",
      "H    0     0                    986490.00000 983545.096  0.30%     -    0s\n",
      "H    0     0                    986245.00000 983545.096  0.27%     -    0s\n",
      "H    0     0                    984510.00000 983545.096  0.10%     -    0s\n",
      "H    0     0                    984315.00000 983545.096  0.08%     -    0s\n",
      "H    0     0                    984080.00000 983592.569  0.05%     -    0s\n",
      "     0     0 983592.569    0   31 984080.000 983592.569  0.05%     -    0s\n",
      "     0     0 983598.857    0   31 984080.000 983598.857  0.05%     -    0s\n",
      "H    0     0                    984075.00000 983598.857  0.05%     -    0s\n",
      "H    0     0                    984070.00000 983598.857  0.05%     -    0s\n",
      "     0     0 983599.650    0   31 984070.000 983599.650  0.05%     -    0s\n",
      "H    0     0                    984030.00000 983600.645  0.04%     -    0s\n",
      "     0     0 983600.645    0   31 984030.000 983600.645  0.04%     -    0s\n",
      "     0     0 983600.816    0   36 984030.000 983600.816  0.04%     -    0s\n",
      "     0     0 983601.103    0   26 984030.000 983601.103  0.04%     -    0s\n",
      "     0     0 983601.103    0   26 984030.000 983601.103  0.04%     -    0s\n",
      "H    0     0                    983822.00000 983601.103  0.02%     -    0s\n",
      "     0     0 983601.103    0    9 983822.000 983601.103  0.02%     -    0s\n",
      "     0     0 983601.103    0   20 983822.000 983601.103  0.02%     -    0s\n",
      "     0     0 983601.103    0   25 983822.000 983601.103  0.02%     -    0s\n",
      "     0     0 983601.103    0   21 983822.000 983601.103  0.02%     -    0s\n",
      "     0     0 983604.525    0   21 983822.000 983604.525  0.02%     -    0s\n",
      "     0     0 983616.970    0   32 983822.000 983616.970  0.02%     -    0s\n",
      "     0     0 983620.908    0   32 983822.000 983620.908  0.02%     -    0s\n",
      "     0     0 983620.927    0   35 983822.000 983620.927  0.02%     -    0s\n",
      "     0     0 983622.813    0   39 983822.000 983622.813  0.02%     -    0s\n",
      "     0     0 983622.933    0   39 983822.000 983622.933  0.02%     -    0s\n",
      "     0     0 983624.044    0   44 983822.000 983624.044  0.02%     -    0s\n",
      "     0     0 983624.044    0   44 983822.000 983624.044  0.02%     -    0s\n",
      "     0     2 983624.044    0   44 983822.000 983624.044  0.02%     -    0s\n",
      "\n",
      "Cutting planes:\n",
      "  Gomory: 6\n",
      "  MIR: 26\n",
      "  Relax-and-lift: 15\n",
      "\n",
      "Explored 5 nodes (945 simplex iterations) in 0.29 seconds (0.08 work units)\n",
      "Thread count was 8 (of 8 available processors)\n",
      "\n",
      "Solution count 10: 983822 984030 984070 ... 986500\n",
      "\n",
      "Optimal solution found (tolerance 1.00e-04)\n",
      "Best objective 9.838220000000e+05, best bound 9.837300758352e+05, gap 0.0093%\n"
     ]
    }
   ],
   "source": [
    "from utils import contraintes_hydraulique_pompage\n",
    "\n",
    "model = gp.Model(\"5.4\")\n",
    "\n",
    "dict_H, dict_Hstart = variables_decision_hydraulique_palier(model,dict_Hydro)\n",
    "dict_N, dict_Nstart, dict_P = variable_decision_thermique_avec_demarrage(model,dict_Thermique)\n",
    "dict_S = {t : model.addVar(lb=0,vtype=gp.GRB.CONTINUOUS,name=f\"pompage à l'instant {t}\") for t in range(24)}\n",
    "dict_N_s = {t : model.addVar(lb=0,vtype=gp.GRB.BINARY,name=f\"fonctionnement pompe à l'instant {t}\") for t in range(24)}\n",
    "debit_S = 1/3000 # débit de pompage par MWh ou par MW pendant une heure\n",
    "M = sum([dict_Thermique[X].N * dict_Thermique[X].Pmax for X in dict_Thermique]) + sum([dict_Hydro[Y].P[dict_Hydro[Y].palier_max()] for Y in dict_Hydro])\n",
    "\n",
    "model.setObjective(\n",
    "    gp.quicksum([dict_N[X,t] * (dict_Thermique[X].Cbase - dict_Thermique[X].Pmin*dict_Thermique[X].Cmwh) for X in dict_Thermique for t in range(24)]) + \n",
    "    gp.quicksum([dict_P[X,t] * dict_Thermique[X].Cmwh for X in dict_Thermique for t in range(24)])+ \n",
    "    gp.quicksum([dict_Nstart[X,t]*dict_Thermique[X].Cstart for X in dict_Thermique for t in range(24)])+\n",
    "    gp.quicksum([dict_H[Y,n,t] * dict_Hydro[Y].Cheure[n] for Y in dict_Hydro for t in range(24) for n in dict_Hydro[Y].Palier])+\n",
    "    gp.quicksum([dict_Hstart[Y,t] * dict_Hydro[Y].Cstart for Y in dict_Hydro for t in range(24)]),\n",
    "    gp.GRB.MINIMIZE\n",
    "    )\n",
    "\n",
    "contraintes_demarrage(model,dict_N,dict_Nstart,dict_Thermique,cyclique=True)\n",
    "contraintes_puissance_thermique(model,dict_N,dict_P,dict_Thermique)\n",
    "contraintes_equilibre_palier(model,dict_P,dict_Thermique,dict_H,dict_Hydro,dict_S,consommation)\n",
    "contraintes_reserve_palier(model,dict_N,dict_Thermique,dict_Hydro,consommation)\n",
    "contraintes_reservoir_palier(model,dict_H,dict_Hydro,dict_S,debit_S)\n",
    "contraintes_hydraulique_palier(model,dict_H,dict_Hydro,dict_Hstart)\n",
    "contraintes_hydraulique_pompage(model,dict_H,dict_Hydro,dict_N_s,dict_S,M)\n",
    "\n",
    "model.optimize()"
   ]
  },
  {
   "cell_type": "code",
   "execution_count": 53,
   "metadata": {},
   "outputs": [
    {
     "data": {
      "application/vnd.plotly.v1+json": {
       "config": {
        "plotlyServerURL": "https://plot.ly"
       },
       "data": [
        {
         "name": "Thermique A",
         "stackgroup": "one",
         "type": "scatter",
         "x": [
          0,
          1,
          2,
          3,
          4,
          5,
          6,
          7,
          8,
          9,
          10,
          11,
          12,
          13,
          14,
          15,
          16,
          17,
          18,
          19,
          20,
          21,
          22,
          23
         ],
         "y": [
          10199.999999999993,
          10199.999999999993,
          10199.999999999993,
          10199.999999999993,
          10199.999999999993,
          10199.999999999993,
          11449.999999999978,
          11449.999999999985,
          11649.999999999985,
          10199.999999999993,
          10199.999999999993,
          10199.999999999993,
          10199.999999999993,
          10199.999999999993,
          10199.999999999985,
          19950,
          19950,
          19950,
          10350,
          10200.000000000002,
          10500,
          10400,
          10400,
          10199.999999999993
         ]
        },
        {
         "name": "Thermique B",
         "stackgroup": "one",
         "type": "scatter",
         "x": [
          0,
          1,
          2,
          3,
          4,
          5,
          6,
          7,
          8,
          9,
          10,
          11,
          12,
          13,
          14,
          15,
          16,
          17,
          18,
          19,
          20,
          21,
          22,
          23
         ],
         "y": [
          8689.999999999673,
          8750.000000000031,
          8750.000000000031,
          8750.000000000024,
          8750.000000000031,
          8750.000000000031,
          15750.000000000022,
          15750.000000000015,
          15750.000000000015,
          15750.000000000011,
          15750.000000000011,
          15750.000000000011,
          15750.000000000033,
          15750.000000000033,
          15750.000000000047,
          15750,
          15750,
          15750,
          15750,
          15699.999999999998,
          13999.999999999958,
          14000,
          14000,
          14000
         ]
        },
        {
         "name": "Thermique C",
         "stackgroup": "one",
         "type": "scatter",
         "x": [
          0,
          1,
          2,
          3,
          4,
          5,
          6,
          7,
          8,
          9,
          10,
          11,
          12,
          13,
          14,
          15,
          16,
          17,
          18,
          19,
          20,
          21,
          22,
          23
         ],
         "y": [
          0,
          0,
          0,
          0,
          0,
          0,
          0,
          0,
          0,
          0,
          0,
          0,
          0,
          0,
          0,
          1500,
          1500,
          1500,
          0,
          0,
          0,
          0,
          0,
          0
         ]
        },
        {
         "name": "Hydraulique 9",
         "stackgroup": "one",
         "type": "scatter",
         "x": [
          0,
          1,
          2,
          3,
          4,
          5,
          6,
          7,
          8,
          9,
          10,
          11,
          12,
          13,
          14,
          15,
          16,
          17,
          18,
          19,
          20,
          21,
          22,
          23
         ],
         "y": [
          0,
          0,
          0,
          0,
          0,
          0,
          1100,
          1100,
          900,
          0,
          0,
          0,
          0,
          0,
          0,
          1100,
          1100,
          1100,
          900,
          1100,
          900,
          900,
          900,
          1100
         ]
        },
        {
         "name": "Hydraulique 14",
         "stackgroup": "one",
         "type": "scatter",
         "x": [
          0,
          1,
          2,
          3,
          4,
          5,
          6,
          7,
          8,
          9,
          10,
          11,
          12,
          13,
          14,
          15,
          16,
          17,
          18,
          19,
          20,
          21,
          22,
          23
         ],
         "y": [
          0,
          0,
          0,
          0,
          0,
          0,
          1700,
          1700,
          1700,
          0,
          0,
          0,
          0,
          0,
          0,
          1700,
          1700,
          1700,
          0,
          0,
          1600,
          1700,
          1700,
          1700
         ]
        },
        {
         "name": "Pompage",
         "stackgroup": "two",
         "type": "scatter",
         "x": [
          0,
          1,
          2,
          3,
          4,
          5,
          6,
          7,
          8,
          9,
          10,
          11,
          12,
          13,
          14,
          15,
          16,
          17,
          18,
          19,
          20,
          21,
          22,
          23
         ],
         "y": [
          -3889.9999999996653,
          -3950.000000000037,
          -3950.000000000037,
          -3950.0000000000296,
          -3950.000000000037,
          -3950.000000000037,
          0,
          0,
          0,
          -950.0000000000093,
          -950.0000000000093,
          -950.0000000000093,
          -950.0000000000439,
          -950.0000000000439,
          -950.0000000000548,
          0,
          0,
          0,
          0,
          0,
          0,
          0,
          0,
          0
         ]
        },
        {
         "line": {
          "color": "red",
          "dash": "dash"
         },
         "name": "Production total",
         "type": "scatter",
         "x": [
          0,
          1,
          2,
          3,
          4,
          5,
          6,
          7,
          8,
          9,
          10,
          11,
          12,
          13,
          14,
          15,
          16,
          17,
          18,
          19,
          20,
          21,
          22,
          23
         ],
         "y": [
          15000,
          14999.999999999985,
          14999.999999999985,
          14999.999999999985,
          14999.999999999985,
          14999.999999999985,
          30000,
          30000,
          30000,
          24999.999999999993,
          24999.999999999993,
          24999.999999999993,
          24999.99999999998,
          24999.99999999998,
          24999.999999999978,
          40000,
          40000,
          40000,
          27000,
          27000,
          26999.999999999956,
          27000,
          27000,
          26999.999999999993
         ]
        },
        {
         "line": {
          "color": "black"
         },
         "name": "Coût MWh",
         "type": "scatter",
         "x": [
          0,
          1,
          2,
          3,
          4,
          5,
          6,
          7,
          8,
          9,
          10,
          11,
          12,
          13,
          14,
          15,
          16,
          17,
          18,
          19,
          20,
          21,
          22,
          23
         ],
         "y": [
          1.878133333333304,
          1.8833333333333369,
          1.8833333333333369,
          1.8833333333333362,
          1.8833333333333369,
          1.8833333333333369,
          1.6026666666666662,
          1.469333333333333,
          1.4816666666666662,
          1.6500000000000006,
          1.6500000000000006,
          1.6500000000000006,
          1.6500000000000024,
          1.6500000000000024,
          1.6500000000000026,
          1.6145,
          1.602,
          1.602,
          1.5422222222222222,
          1.5298148148148147,
          1.4398148148148149,
          1.4333333333333333,
          1.4333333333333333,
          1.4196296296296296
         ],
         "yaxis": "y2"
        },
        {
         "line": {
          "color": "grey"
         },
         "name": "Niveau réservoir",
         "type": "scatter",
         "x": [
          0,
          1,
          2,
          3,
          4,
          5,
          6,
          7,
          8,
          9,
          10,
          11,
          12,
          13,
          14,
          15,
          16,
          17,
          18,
          19,
          20,
          21,
          22,
          23
         ],
         "y": [
          1.2966666666665552,
          2.613333333333234,
          3.9299999999999127,
          5.246666666666589,
          6.563333333333268,
          7.879999999999947,
          6.939999999999946,
          5.999999999999946,
          5.129999999999946,
          5.446666666666616,
          5.763333333333286,
          6.079999999999956,
          6.396666666666637,
          6.713333333333319,
          7.030000000000004,
          6.090000000000003,
          5.150000000000003,
          4.210000000000003,
          3.9000000000000026,
          3.5200000000000027,
          2.6800000000000024,
          1.8100000000000023,
          0.9400000000000022,
          2.1094237467877974e-15
         ],
         "yaxis": "y3"
        }
       ],
       "layout": {
        "hovermode": "x",
        "template": {
         "data": {
          "bar": [
           {
            "error_x": {
             "color": "#2a3f5f"
            },
            "error_y": {
             "color": "#2a3f5f"
            },
            "marker": {
             "line": {
              "color": "#E5ECF6",
              "width": 0.5
             },
             "pattern": {
              "fillmode": "overlay",
              "size": 10,
              "solidity": 0.2
             }
            },
            "type": "bar"
           }
          ],
          "barpolar": [
           {
            "marker": {
             "line": {
              "color": "#E5ECF6",
              "width": 0.5
             },
             "pattern": {
              "fillmode": "overlay",
              "size": 10,
              "solidity": 0.2
             }
            },
            "type": "barpolar"
           }
          ],
          "carpet": [
           {
            "aaxis": {
             "endlinecolor": "#2a3f5f",
             "gridcolor": "white",
             "linecolor": "white",
             "minorgridcolor": "white",
             "startlinecolor": "#2a3f5f"
            },
            "baxis": {
             "endlinecolor": "#2a3f5f",
             "gridcolor": "white",
             "linecolor": "white",
             "minorgridcolor": "white",
             "startlinecolor": "#2a3f5f"
            },
            "type": "carpet"
           }
          ],
          "choropleth": [
           {
            "colorbar": {
             "outlinewidth": 0,
             "ticks": ""
            },
            "type": "choropleth"
           }
          ],
          "contour": [
           {
            "colorbar": {
             "outlinewidth": 0,
             "ticks": ""
            },
            "colorscale": [
             [
              0,
              "#0d0887"
             ],
             [
              0.1111111111111111,
              "#46039f"
             ],
             [
              0.2222222222222222,
              "#7201a8"
             ],
             [
              0.3333333333333333,
              "#9c179e"
             ],
             [
              0.4444444444444444,
              "#bd3786"
             ],
             [
              0.5555555555555556,
              "#d8576b"
             ],
             [
              0.6666666666666666,
              "#ed7953"
             ],
             [
              0.7777777777777778,
              "#fb9f3a"
             ],
             [
              0.8888888888888888,
              "#fdca26"
             ],
             [
              1,
              "#f0f921"
             ]
            ],
            "type": "contour"
           }
          ],
          "contourcarpet": [
           {
            "colorbar": {
             "outlinewidth": 0,
             "ticks": ""
            },
            "type": "contourcarpet"
           }
          ],
          "heatmap": [
           {
            "colorbar": {
             "outlinewidth": 0,
             "ticks": ""
            },
            "colorscale": [
             [
              0,
              "#0d0887"
             ],
             [
              0.1111111111111111,
              "#46039f"
             ],
             [
              0.2222222222222222,
              "#7201a8"
             ],
             [
              0.3333333333333333,
              "#9c179e"
             ],
             [
              0.4444444444444444,
              "#bd3786"
             ],
             [
              0.5555555555555556,
              "#d8576b"
             ],
             [
              0.6666666666666666,
              "#ed7953"
             ],
             [
              0.7777777777777778,
              "#fb9f3a"
             ],
             [
              0.8888888888888888,
              "#fdca26"
             ],
             [
              1,
              "#f0f921"
             ]
            ],
            "type": "heatmap"
           }
          ],
          "heatmapgl": [
           {
            "colorbar": {
             "outlinewidth": 0,
             "ticks": ""
            },
            "colorscale": [
             [
              0,
              "#0d0887"
             ],
             [
              0.1111111111111111,
              "#46039f"
             ],
             [
              0.2222222222222222,
              "#7201a8"
             ],
             [
              0.3333333333333333,
              "#9c179e"
             ],
             [
              0.4444444444444444,
              "#bd3786"
             ],
             [
              0.5555555555555556,
              "#d8576b"
             ],
             [
              0.6666666666666666,
              "#ed7953"
             ],
             [
              0.7777777777777778,
              "#fb9f3a"
             ],
             [
              0.8888888888888888,
              "#fdca26"
             ],
             [
              1,
              "#f0f921"
             ]
            ],
            "type": "heatmapgl"
           }
          ],
          "histogram": [
           {
            "marker": {
             "pattern": {
              "fillmode": "overlay",
              "size": 10,
              "solidity": 0.2
             }
            },
            "type": "histogram"
           }
          ],
          "histogram2d": [
           {
            "colorbar": {
             "outlinewidth": 0,
             "ticks": ""
            },
            "colorscale": [
             [
              0,
              "#0d0887"
             ],
             [
              0.1111111111111111,
              "#46039f"
             ],
             [
              0.2222222222222222,
              "#7201a8"
             ],
             [
              0.3333333333333333,
              "#9c179e"
             ],
             [
              0.4444444444444444,
              "#bd3786"
             ],
             [
              0.5555555555555556,
              "#d8576b"
             ],
             [
              0.6666666666666666,
              "#ed7953"
             ],
             [
              0.7777777777777778,
              "#fb9f3a"
             ],
             [
              0.8888888888888888,
              "#fdca26"
             ],
             [
              1,
              "#f0f921"
             ]
            ],
            "type": "histogram2d"
           }
          ],
          "histogram2dcontour": [
           {
            "colorbar": {
             "outlinewidth": 0,
             "ticks": ""
            },
            "colorscale": [
             [
              0,
              "#0d0887"
             ],
             [
              0.1111111111111111,
              "#46039f"
             ],
             [
              0.2222222222222222,
              "#7201a8"
             ],
             [
              0.3333333333333333,
              "#9c179e"
             ],
             [
              0.4444444444444444,
              "#bd3786"
             ],
             [
              0.5555555555555556,
              "#d8576b"
             ],
             [
              0.6666666666666666,
              "#ed7953"
             ],
             [
              0.7777777777777778,
              "#fb9f3a"
             ],
             [
              0.8888888888888888,
              "#fdca26"
             ],
             [
              1,
              "#f0f921"
             ]
            ],
            "type": "histogram2dcontour"
           }
          ],
          "mesh3d": [
           {
            "colorbar": {
             "outlinewidth": 0,
             "ticks": ""
            },
            "type": "mesh3d"
           }
          ],
          "parcoords": [
           {
            "line": {
             "colorbar": {
              "outlinewidth": 0,
              "ticks": ""
             }
            },
            "type": "parcoords"
           }
          ],
          "pie": [
           {
            "automargin": true,
            "type": "pie"
           }
          ],
          "scatter": [
           {
            "fillpattern": {
             "fillmode": "overlay",
             "size": 10,
             "solidity": 0.2
            },
            "type": "scatter"
           }
          ],
          "scatter3d": [
           {
            "line": {
             "colorbar": {
              "outlinewidth": 0,
              "ticks": ""
             }
            },
            "marker": {
             "colorbar": {
              "outlinewidth": 0,
              "ticks": ""
             }
            },
            "type": "scatter3d"
           }
          ],
          "scattercarpet": [
           {
            "marker": {
             "colorbar": {
              "outlinewidth": 0,
              "ticks": ""
             }
            },
            "type": "scattercarpet"
           }
          ],
          "scattergeo": [
           {
            "marker": {
             "colorbar": {
              "outlinewidth": 0,
              "ticks": ""
             }
            },
            "type": "scattergeo"
           }
          ],
          "scattergl": [
           {
            "marker": {
             "colorbar": {
              "outlinewidth": 0,
              "ticks": ""
             }
            },
            "type": "scattergl"
           }
          ],
          "scattermapbox": [
           {
            "marker": {
             "colorbar": {
              "outlinewidth": 0,
              "ticks": ""
             }
            },
            "type": "scattermapbox"
           }
          ],
          "scatterpolar": [
           {
            "marker": {
             "colorbar": {
              "outlinewidth": 0,
              "ticks": ""
             }
            },
            "type": "scatterpolar"
           }
          ],
          "scatterpolargl": [
           {
            "marker": {
             "colorbar": {
              "outlinewidth": 0,
              "ticks": ""
             }
            },
            "type": "scatterpolargl"
           }
          ],
          "scatterternary": [
           {
            "marker": {
             "colorbar": {
              "outlinewidth": 0,
              "ticks": ""
             }
            },
            "type": "scatterternary"
           }
          ],
          "surface": [
           {
            "colorbar": {
             "outlinewidth": 0,
             "ticks": ""
            },
            "colorscale": [
             [
              0,
              "#0d0887"
             ],
             [
              0.1111111111111111,
              "#46039f"
             ],
             [
              0.2222222222222222,
              "#7201a8"
             ],
             [
              0.3333333333333333,
              "#9c179e"
             ],
             [
              0.4444444444444444,
              "#bd3786"
             ],
             [
              0.5555555555555556,
              "#d8576b"
             ],
             [
              0.6666666666666666,
              "#ed7953"
             ],
             [
              0.7777777777777778,
              "#fb9f3a"
             ],
             [
              0.8888888888888888,
              "#fdca26"
             ],
             [
              1,
              "#f0f921"
             ]
            ],
            "type": "surface"
           }
          ],
          "table": [
           {
            "cells": {
             "fill": {
              "color": "#EBF0F8"
             },
             "line": {
              "color": "white"
             }
            },
            "header": {
             "fill": {
              "color": "#C8D4E3"
             },
             "line": {
              "color": "white"
             }
            },
            "type": "table"
           }
          ]
         },
         "layout": {
          "annotationdefaults": {
           "arrowcolor": "#2a3f5f",
           "arrowhead": 0,
           "arrowwidth": 1
          },
          "autotypenumbers": "strict",
          "coloraxis": {
           "colorbar": {
            "outlinewidth": 0,
            "ticks": ""
           }
          },
          "colorscale": {
           "diverging": [
            [
             0,
             "#8e0152"
            ],
            [
             0.1,
             "#c51b7d"
            ],
            [
             0.2,
             "#de77ae"
            ],
            [
             0.3,
             "#f1b6da"
            ],
            [
             0.4,
             "#fde0ef"
            ],
            [
             0.5,
             "#f7f7f7"
            ],
            [
             0.6,
             "#e6f5d0"
            ],
            [
             0.7,
             "#b8e186"
            ],
            [
             0.8,
             "#7fbc41"
            ],
            [
             0.9,
             "#4d9221"
            ],
            [
             1,
             "#276419"
            ]
           ],
           "sequential": [
            [
             0,
             "#0d0887"
            ],
            [
             0.1111111111111111,
             "#46039f"
            ],
            [
             0.2222222222222222,
             "#7201a8"
            ],
            [
             0.3333333333333333,
             "#9c179e"
            ],
            [
             0.4444444444444444,
             "#bd3786"
            ],
            [
             0.5555555555555556,
             "#d8576b"
            ],
            [
             0.6666666666666666,
             "#ed7953"
            ],
            [
             0.7777777777777778,
             "#fb9f3a"
            ],
            [
             0.8888888888888888,
             "#fdca26"
            ],
            [
             1,
             "#f0f921"
            ]
           ],
           "sequentialminus": [
            [
             0,
             "#0d0887"
            ],
            [
             0.1111111111111111,
             "#46039f"
            ],
            [
             0.2222222222222222,
             "#7201a8"
            ],
            [
             0.3333333333333333,
             "#9c179e"
            ],
            [
             0.4444444444444444,
             "#bd3786"
            ],
            [
             0.5555555555555556,
             "#d8576b"
            ],
            [
             0.6666666666666666,
             "#ed7953"
            ],
            [
             0.7777777777777778,
             "#fb9f3a"
            ],
            [
             0.8888888888888888,
             "#fdca26"
            ],
            [
             1,
             "#f0f921"
            ]
           ]
          },
          "colorway": [
           "#636efa",
           "#EF553B",
           "#00cc96",
           "#ab63fa",
           "#FFA15A",
           "#19d3f3",
           "#FF6692",
           "#B6E880",
           "#FF97FF",
           "#FECB52"
          ],
          "font": {
           "color": "#2a3f5f"
          },
          "geo": {
           "bgcolor": "white",
           "lakecolor": "white",
           "landcolor": "#E5ECF6",
           "showlakes": true,
           "showland": true,
           "subunitcolor": "white"
          },
          "hoverlabel": {
           "align": "left"
          },
          "hovermode": "closest",
          "mapbox": {
           "style": "light"
          },
          "paper_bgcolor": "white",
          "plot_bgcolor": "#E5ECF6",
          "polar": {
           "angularaxis": {
            "gridcolor": "white",
            "linecolor": "white",
            "ticks": ""
           },
           "bgcolor": "#E5ECF6",
           "radialaxis": {
            "gridcolor": "white",
            "linecolor": "white",
            "ticks": ""
           }
          },
          "scene": {
           "xaxis": {
            "backgroundcolor": "#E5ECF6",
            "gridcolor": "white",
            "gridwidth": 2,
            "linecolor": "white",
            "showbackground": true,
            "ticks": "",
            "zerolinecolor": "white"
           },
           "yaxis": {
            "backgroundcolor": "#E5ECF6",
            "gridcolor": "white",
            "gridwidth": 2,
            "linecolor": "white",
            "showbackground": true,
            "ticks": "",
            "zerolinecolor": "white"
           },
           "zaxis": {
            "backgroundcolor": "#E5ECF6",
            "gridcolor": "white",
            "gridwidth": 2,
            "linecolor": "white",
            "showbackground": true,
            "ticks": "",
            "zerolinecolor": "white"
           }
          },
          "shapedefaults": {
           "line": {
            "color": "#2a3f5f"
           }
          },
          "ternary": {
           "aaxis": {
            "gridcolor": "white",
            "linecolor": "white",
            "ticks": ""
           },
           "baxis": {
            "gridcolor": "white",
            "linecolor": "white",
            "ticks": ""
           },
           "bgcolor": "#E5ECF6",
           "caxis": {
            "gridcolor": "white",
            "linecolor": "white",
            "ticks": ""
           }
          },
          "title": {
           "x": 0.05
          },
          "xaxis": {
           "automargin": true,
           "gridcolor": "white",
           "linecolor": "white",
           "ticks": "",
           "title": {
            "standoff": 15
           },
           "zerolinecolor": "white",
           "zerolinewidth": 2
          },
          "yaxis": {
           "automargin": true,
           "gridcolor": "white",
           "linecolor": "white",
           "ticks": "",
           "title": {
            "standoff": 15
           },
           "zerolinecolor": "white",
           "zerolinewidth": 2
          }
         }
        },
        "title": {
         "text": "Répartition de la production électrique dans la journée - {A}"
        },
        "yaxis": {
         "range": [
          -4345.000000000041,
          44000
         ],
         "title": {
          "text": "MW"
         }
        },
        "yaxis2": {
         "anchor": "free",
         "overlaying": "y",
         "position": 1,
         "range": [
          1.348648148148148,
          2.0716666666666708
         ],
         "side": "right",
         "title": {
          "text": "€/MWh"
         }
        },
        "yaxis3": {
         "anchor": "free",
         "overlaying": "y",
         "position": 0.05,
         "range": [
          2.3203661214665774e-15,
          8.667999999999942
         ],
         "side": "left",
         "title": {
          "text": "Réservoir (m)"
         }
        }
       }
      }
     },
     "metadata": {},
     "output_type": "display_data"
    }
   ],
   "source": [
    "df = df_results53(dict_N,dict_P,dict_Nstart,dict_Thermique,dict_H,dict_Hstart,dict_Hydro,dict_S,debit_S,consommation)\n",
    "fig = Results_viz52(df,dict_Thermique,dict_Hydro)\n",
    "A = \"5.4\"\n",
    "fig.update_layout(\n",
    "    title = \"Répartition de la production électrique dans la journée - {A}\"\n",
    ")\n",
    "fig.show()\n",
    "fig.write_html(\"HTML/Répartition de la production électrique dans la journée - {A}.html\")"
   ]
  },
  {
   "cell_type": "markdown",
   "metadata": {},
   "source": [
    "## 6 Désagrégation\n",
    "\n",
    "## 6.1 Individualisation des centrales\n",
    "\n",
    "Variables de décision :\n",
    "Pour une type de centrale $X \\in [A,B,C]$, $k$ l'identification de la $k$-ieme centrale, et une heure de la journée $t\\in {1,\\dots,24}$, on définit :\n",
    "$$\n",
    "N_t^{(X,k)} \\in\\{0,1\\} \\text{La $k$-ieme centrale $X$ fonctionne à $t$}\n",
    "$$\n",
    "$$\n",
    "N_{start,t}^{(X,k)} \\in\\{0,1\\} \\text{La $k$-ieme centrale $X$ est démarrée à $t$}\n",
    "$$\n",
    "$$\n",
    "P_t^{(X,k)} = \\text{Puissance de la $k$-ième centrale $X$ à l'instant $t$}\n",
    "$$\n",
    "Contraintes :\n",
    "$$\n",
    "N_t^{(X,k)} P_{min}^{(X)} \\leq P_t^{(X,k)} \\leq N_t^{(X,k)} P_{max}^{(X)} \\text{ ,  Contraintes sur la puissance totale de chaque centrale}\n",
    "$$\n",
    "$$\n",
    "\\text{Equilibre offre-demande : } \\sum_X \\sum_{k=1}^{N^{(X)}} P_t^{(X,k)} + \\sum_{Y,n} H_t^{(Y,n)}P^{(Y,n)}-S_t= D_t\n",
    "$$\n",
    "$$\n",
    "\\text{Réserve de puissance : } \\sum_X \\sum_{k=1}^{N^{(X)}} N_t^{(X,k)}P_{max}^{(X)} + \\sum_Y P^{(Y,n_{max})}\\geq D_t\\times 1,15\n",
    "$$\n",
    "Objectif :\n",
    "$$\n",
    "\\text{Minimiser} \\sum_X \\sum_{k=1}^{N^{(X)}} \\sum_t (P_t^{(X,k)} - P_{min}^{(X)}N_t^{(X,k)}) C_{MWh}^{(X)} + N_t^{(X,k)}C_{base}^{(X)} + N_{start,t}^{(X,k)}C_{start}^{(X)} + \\sum_{Y,n} \\sum_t H_t^{(Y,n)}C_{base}^{(Y,n)} + \\sum_Y H_{start,t}^{(Y)}C_{start}^{(Y)}\n",
    "$$"
   ]
  },
  {
   "cell_type": "code",
   "execution_count": 25,
   "metadata": {},
   "outputs": [
    {
     "name": "stdout",
     "output_type": "stream",
     "text": [
      "Gurobi Optimizer version 9.5.2 build v9.5.2rc0 (win64)\n",
      "Thread count: 4 physical cores, 8 logical processors, using up to 8 threads\n",
      "Optimize a model with 2281 rows, 2232 columns and 7488 nonzeros\n",
      "Model fingerprint: 0x18039317\n",
      "Variable types: 672 continuous, 1560 integer (1560 binary)\n",
      "Coefficient statistics:\n",
      "  Matrix range     [3e-04, 6e+04]\n",
      "  Objective range  [1e+00, 2e+03]\n",
      "  Bounds range     [1e+00, 1e+00]\n",
      "  RHS range        [1e+00, 4e+04]\n",
      "Presolve removed 216 rows and 48 columns\n",
      "Presolve time: 0.01s\n",
      "Presolved: 2065 rows, 2184 columns, 6552 nonzeros\n",
      "Variable types: 672 continuous, 1512 integer (1512 binary)\n",
      "Found heuristic solution: objective 1047900.0000\n",
      "Found heuristic solution: objective 1031950.0000\n",
      "\n",
      "Root relaxation: objective 9.830120e+05, 1384 iterations, 0.01 seconds (0.01 work units)\n",
      "\n",
      "    Nodes    |    Current Node    |     Objective Bounds      |     Work\n",
      " Expl Unexpl |  Obj  Depth IntInf | Incumbent    BestBd   Gap | It/Node Time\n",
      "\n",
      "     0     0 983011.964    0   31 1031950.00 983011.964  4.74%     -    0s\n",
      "H    0     0                    987010.00000 983011.964  0.41%     -    0s\n",
      "H    0     0                    986030.00000 983011.964  0.31%     -    0s\n",
      "     0     0 983319.501    0   60 986030.000 983319.501  0.27%     -    0s\n",
      "     0     0 983426.327    0   47 986030.000 983426.327  0.26%     -    0s\n",
      "H    0     0                    985170.00000 983426.327  0.18%     -    0s\n",
      "     0     0 983426.327    0   84 985170.000 983426.327  0.18%     -    0s\n",
      "     0     0 983426.327    0  103 985170.000 983426.327  0.18%     -    0s\n",
      "     0     0 983581.613    0   31 985170.000 983581.613  0.16%     -    0s\n",
      "     0     0 983583.107    0   74 985170.000 983583.107  0.16%     -    0s\n",
      "     0     0 983583.287    0   92 985170.000 983583.287  0.16%     -    0s\n",
      "     0     0 983592.739    0   68 985170.000 983592.739  0.16%     -    0s\n",
      "     0     0 983592.739    0   33 985170.000 983592.739  0.16%     -    0s\n",
      "     0     0 983592.739    0   52 985170.000 983592.739  0.16%     -    0s\n",
      "     0     0 983592.739    0   31 985170.000 983592.739  0.16%     -    0s\n",
      "     0     0 983593.162    0   35 985170.000 983593.162  0.16%     -    0s\n",
      "     0     0 983593.202    0   35 985170.000 983593.202  0.16%     -    0s\n",
      "H    0     0                    984260.00000 983593.202  0.07%     -    0s\n",
      "     0     0 983597.091    0   78 984260.000 983597.091  0.07%     -    0s\n",
      "     0     0 983597.162    0   78 984260.000 983597.162  0.07%     -    0s\n",
      "     0     0 983598.166    0  102 984260.000 983598.166  0.07%     -    0s\n",
      "     0     0 983598.277    0  102 984260.000 983598.277  0.07%     -    0s\n",
      "     0     0 983600.874    0   35 984260.000 983600.874  0.07%     -    0s\n",
      "     0     0 983601.083    0   35 984260.000 983601.083  0.07%     -    0s\n",
      "     0     0 983601.083    0   73 984260.000 983601.083  0.07%     -    0s\n",
      "     0     0 983601.083    0   35 984260.000 983601.083  0.07%     -    0s\n",
      "     0     0 983601.083    0   30 984260.000 983601.083  0.07%     -    0s\n",
      "     0     0 983601.083    0   30 984260.000 983601.083  0.07%     -    0s\n",
      "     0     0 983601.083    0   30 984260.000 983601.083  0.07%     -    0s\n",
      "     0     0 983601.083    0   34 984260.000 983601.083  0.07%     -    0s\n",
      "     0     0 983601.083    0   76 984260.000 983601.083  0.07%     -    0s\n",
      "     0     0 983601.970    0   95 984260.000 983601.970  0.07%     -    0s\n",
      "H    0     0                    983990.00000 983601.970  0.04%     -    0s\n",
      "     0     0 983601.984    0   28 983990.000 983601.984  0.04%     -    0s\n",
      "     0     0 983601.984    0   15 983990.000 983601.984  0.04%     -    0s\n",
      "     0     0 983601.984    0   31 983990.000 983601.984  0.04%     -    0s\n",
      "     0     0 983601.984    0   27 983990.000 983601.984  0.04%     -    0s\n",
      "     0     0 983602.405    0   27 983990.000 983602.405  0.04%     -    0s\n",
      "     0     0 983662.857    0    5 983990.000 983662.857  0.03%     -    0s\n",
      "     0     0 983662.857    0   10 983990.000 983662.857  0.03%     -    0s\n",
      "     0     0 983662.857    0    5 983990.000 983662.857  0.03%     -    0s\n",
      "H    0     0                    983820.00000 983662.857  0.02%     -    0s\n",
      "     0     0 983662.857    0    8 983820.000 983662.857  0.02%     -    0s\n",
      "     0     0 983662.857    0   22 983820.000 983662.857  0.02%     -    0s\n",
      "     0     0 983662.857    0    1 983820.000 983662.857  0.02%     -    0s\n",
      "     0     0 983662.857    0    3 983820.000 983662.857  0.02%     -    0s\n",
      "     0     0 983662.857    0    6 983820.000 983662.857  0.02%     -    0s\n",
      "     0     0 983662.857    0    4 983820.000 983662.857  0.02%     -    0s\n",
      "     0     0 983662.857    0    4 983820.000 983662.857  0.02%     -    0s\n",
      "     0     0 983662.857    0    4 983820.000 983662.857  0.02%     -    0s\n",
      "     0     2 983662.857    0    4 983820.000 983662.857  0.02%     -    0s\n",
      "H   95   155                    983750.00000 983662.857  0.01%  10.0    1s\n",
      "\n",
      "Cutting planes:\n",
      "  Gomory: 6\n",
      "  Lift-and-project: 6\n",
      "  MIR: 24\n",
      "  Flow cover: 11\n",
      "  RLT: 6\n",
      "\n",
      "Explored 173 nodes (7015 simplex iterations) in 1.02 seconds (0.52 work units)\n",
      "Thread count was 8 (of 8 available processors)\n",
      "\n",
      "Solution count 10: 983750 983820 983990 ... 1.0479e+06\n",
      "\n",
      "Optimal solution found (tolerance 1.00e-04)\n",
      "Best objective 9.837500000000e+05, best bound 9.836628571429e+05, gap 0.0089%\n"
     ]
    }
   ],
   "source": [
    "from utils import variables_decision_desagregation_thermique\n",
    "from utils import contraintes_thermique_desagregation, contraintes_equilibre_desagregation, contraintes_reserve_desagregation\n",
    "\n",
    "model = gp.Model(\"6.1\")\n",
    "\n",
    "dict_N, dict_P, dict_Nstart = variables_decision_desagregation_thermique(model,dict_Thermique)\n",
    "dict_H, dict_Hstart = variables_decision_hydraulique_palier(model,dict_Hydro)\n",
    "dict_S = {t : model.addVar(lb=0,vtype=gp.GRB.CONTINUOUS,name=f\"pompage à l'instant {t}\") for t in range(24)}\n",
    "dict_N_s = {t : model.addVar(lb=0,vtype=gp.GRB.BINARY,name=f\"fonctionnement pompe à l'instant {t}\") for t in range(24)}\n",
    "debit_S = 1/3000 # débit de pompage par MWh ou par MW pendant une heure\n",
    "M = sum([dict_Thermique[X].N * dict_Thermique[X].Pmax for X in dict_Thermique]) + sum([dict_Hydro[Y].P[dict_Hydro[Y].palier_max()] for Y in dict_Hydro])\n",
    "\n",
    "contraintes_reservoir_palier(model,dict_H,dict_Hydro,dict_S,debit_S)\n",
    "contraintes_hydraulique_palier(model,dict_H,dict_Hydro,dict_Hstart)\n",
    "contraintes_hydraulique_pompage(model,dict_H,dict_Hydro,dict_N_s,dict_S,M)\n",
    "contraintes_thermique_desagregation(model,dict_P,dict_N,dict_Nstart,dict_Thermique)\n",
    "contraintes_equilibre_desagregation(model,dict_P,dict_Thermique,dict_H,dict_Hydro,dict_S,consommation)\n",
    "contraintes_reserve_desagregation(model,dict_N,dict_Thermique,dict_Hydro,consommation)\n",
    "\n",
    "model.setObjective(\n",
    "    gp.quicksum([dict_N[X,k,t] * (dict_Thermique[X].Cbase - dict_Thermique[X].Pmin*dict_Thermique[X].Cmwh) for X in dict_Thermique for k in range(dict_Thermique[X].N) for t in range(24)]) + \n",
    "    gp.quicksum([dict_P[X,k,t] * dict_Thermique[X].Cmwh for X in dict_Thermique for k in range(dict_Thermique[X].N) for t in range(24)])+ \n",
    "    gp.quicksum([dict_Nstart[X,k,t]*dict_Thermique[X].Cstart for X in dict_Thermique for k in range(dict_Thermique[X].N) for t in range(24)])+\n",
    "    gp.quicksum([dict_H[Y,n,t] * dict_Hydro[Y].Cheure[n] for Y in dict_Hydro for t in range(24) for n in dict_Hydro[Y].Palier])+\n",
    "    gp.quicksum([dict_Hstart[Y,t] * dict_Hydro[Y].Cstart for Y in dict_Hydro for t in range(24)]),\n",
    "    gp.GRB.MINIMIZE\n",
    "    )\n",
    "\n",
    "model.optimize()"
   ]
  },
  {
   "cell_type": "markdown",
   "metadata": {},
   "source": [
    "### 6.3 Précision du profil de la demande"
   ]
  },
  {
   "cell_type": "code",
   "execution_count": 26,
   "metadata": {},
   "outputs": [
    {
     "name": "stdout",
     "output_type": "stream",
     "text": [
      "Gurobi Optimizer version 9.5.2 build v9.5.2rc0 (win64)\n",
      "Thread count: 4 physical cores, 8 logical processors, using up to 8 threads\n",
      "Optimize a model with 2281 rows, 2232 columns and 7488 nonzeros\n",
      "Model fingerprint: 0x763ca6d9\n",
      "Variable types: 672 continuous, 1560 integer (1560 binary)\n",
      "Coefficient statistics:\n",
      "  Matrix range     [3e-04, 6e+04]\n",
      "  Objective range  [1e+00, 2e+03]\n",
      "  Bounds range     [1e+00, 1e+00]\n",
      "  RHS range        [1e+00, 5e+04]\n",
      "Presolve removed 216 rows and 48 columns\n",
      "Presolve time: 0.01s\n",
      "Presolved: 2065 rows, 2184 columns, 6552 nonzeros\n",
      "Variable types: 672 continuous, 1512 integer (1512 binary)\n",
      "Found heuristic solution: objective 1047500.0000\n",
      "\n",
      "Root relaxation: objective 9.841490e+05, 1279 iterations, 0.01 seconds (0.01 work units)\n",
      "\n",
      "    Nodes    |    Current Node    |     Objective Bounds      |     Work\n",
      " Expl Unexpl |  Obj  Depth IntInf | Incumbent    BestBd   Gap | It/Node Time\n",
      "\n",
      "     0     0 984149.048    0   22 1047500.00 984149.048  6.05%     -    0s\n",
      "H    0     0                    988738.00000 984149.048  0.46%     -    0s\n",
      "H    0     0                    985975.00000 984221.217  0.18%     -    0s\n",
      "     0     0 984221.217    0   54 985975.000 984221.217  0.18%     -    0s\n",
      "H    0     0                    985565.00000 984221.217  0.14%     -    0s\n",
      "H    0     0                    985225.00000 984221.217  0.10%     -    0s\n",
      "     0     0 984297.176    0   18 985225.000 984297.176  0.09%     -    0s\n",
      "     0     0 984297.176    0   28 985225.000 984297.176  0.09%     -    0s\n",
      "     0     0 984297.261    0   26 985225.000 984297.261  0.09%     -    0s\n",
      "     0     0 984297.285    0   47 985225.000 984297.285  0.09%     -    0s\n",
      "     0     0 984299.529    0   20 985225.000 984299.529  0.09%     -    0s\n",
      "     0     0 984392.183    0   46 985225.000 984392.183  0.08%     -    0s\n",
      "H    0     0                    984940.00000 984392.183  0.06%     -    0s\n",
      "     0     0 984398.344    0   48 984940.000 984398.344  0.05%     -    0s\n",
      "     0     0 984398.344    0   48 984940.000 984398.344  0.05%     -    0s\n",
      "     0     0 984402.431    0   59 984940.000 984402.431  0.05%     -    0s\n",
      "     0     0 984410.617    0   60 984940.000 984410.617  0.05%     -    0s\n",
      "     0     0 984410.617    0   66 984940.000 984410.617  0.05%     -    0s\n",
      "     0     0 984417.086    0   70 984940.000 984417.086  0.05%     -    0s\n",
      "H    0     0                    984885.00000 984417.086  0.05%     -    0s\n",
      "     0     0 984417.086    0   77 984885.000 984417.086  0.05%     -    0s\n",
      "     0     0 984417.086    0   79 984885.000 984417.086  0.05%     -    0s\n",
      "     0     0 984417.119    0   92 984885.000 984417.119  0.05%     -    0s\n",
      "     0     0 984417.205    0   51 984885.000 984417.205  0.05%     -    0s\n",
      "     0     0 984417.370    0   34 984885.000 984417.370  0.05%     -    0s\n",
      "     0     0 984417.370    0   55 984885.000 984417.370  0.05%     -    0s\n",
      "     0     0 984417.370    0   61 984885.000 984417.370  0.05%     -    0s\n",
      "     0     0 984418.607    0   52 984885.000 984418.607  0.05%     -    0s\n",
      "     0     0 984418.607    0   18 984885.000 984418.607  0.05%     -    0s\n",
      "     0     0 984418.607    0   17 984885.000 984418.607  0.05%     -    0s\n",
      "     0     0 984418.607    0   48 984885.000 984418.607  0.05%     -    0s\n",
      "     0     0 984418.607    0   27 984885.000 984418.607  0.05%     -    0s\n",
      "     0     0 984418.607    0   29 984885.000 984418.607  0.05%     -    0s\n",
      "     0     0 984418.622    0   30 984885.000 984418.622  0.05%     -    0s\n",
      "H    0     0                    984565.00000 984418.622  0.01%     -    0s\n",
      "     0     0 984418.711    0   49 984565.000 984418.711  0.01%     -    0s\n",
      "H    0     0                    984530.00000 984418.711  0.01%     -    0s\n",
      "     0     0 984420.104    0   20 984530.000 984420.104  0.01%     -    0s\n",
      "     0     0 984420.104    0    7 984530.000 984420.104  0.01%     -    0s\n",
      "     0     0 984420.104    0   23 984530.000 984420.104  0.01%     -    0s\n",
      "     0     0 984420.104    0   14 984530.000 984420.104  0.01%     -    0s\n",
      "     0     0 984420.104    0   15 984530.000 984420.104  0.01%     -    0s\n",
      "     0     0 984420.104    0   17 984530.000 984420.104  0.01%     -    0s\n",
      "     0     0 984425.706    0   20 984530.000 984425.706  0.01%     -    0s\n",
      "     0     0 984425.706    0   22 984530.000 984425.706  0.01%     -    0s\n",
      "     0     0 984425.706    0   33 984530.000 984425.706  0.01%     -    0s\n",
      "     0     0 984428.729    0   29 984530.000 984428.729  0.01%     -    0s\n",
      "     0     0 984428.729    0   29 984530.000 984428.729  0.01%     -    0s\n",
      "     0     0 984428.808    0   21 984530.000 984428.808  0.01%     -    0s\n",
      "     0     0 984428.889    0   19 984530.000 984428.889  0.01%     -    0s\n",
      "     0     0 984428.889    0   19 984530.000 984428.889  0.01%     -    0s\n",
      "     0     2 984428.889    0   19 984530.000 984428.889  0.01%     -    0s\n",
      "\n",
      "Cutting planes:\n",
      "  Gomory: 1\n",
      "  MIR: 13\n",
      "  Flow cover: 8\n",
      "\n",
      "Explored 1 nodes (4251 simplex iterations) in 0.73 seconds (0.31 work units)\n",
      "Thread count was 8 (of 8 available processors)\n",
      "\n",
      "Solution count 10: 984530 984565 984885 ... 991145\n",
      "\n",
      "Optimal solution found (tolerance 1.00e-04)\n",
      "Best objective 9.845300000000e+05, best bound 9.844386852811e+05, gap 0.0093%\n"
     ]
    }
   ],
   "source": [
    "consommation = np.array([17,15,14,13,13,18,29,32,29,27,25,25,24,24,25,38,42,40,33,31,27,26,24,21])*1000\n",
    "\n",
    "model = gp.Model(\"6.2\")\n",
    "\n",
    "dict_N, dict_P, dict_Nstart = variables_decision_desagregation_thermique(model,dict_Thermique)\n",
    "dict_H, dict_Hstart = variables_decision_hydraulique_palier(model,dict_Hydro)\n",
    "dict_S = {t : model.addVar(lb=0,vtype=gp.GRB.CONTINUOUS,name=f\"pompage à l'instant {t}\") for t in range(24)}\n",
    "dict_N_s = {t : model.addVar(lb=0,vtype=gp.GRB.BINARY,name=f\"fonctionnement pompe à l'instant {t}\") for t in range(24)}\n",
    "debit_S = 1/3000 # débit de pompage par MWh ou par MW pendant une heure\n",
    "M = sum([dict_Thermique[X].N * dict_Thermique[X].Pmax for X in dict_Thermique]) + sum([dict_Hydro[Y].P[dict_Hydro[Y].palier_max()] for Y in dict_Hydro])\n",
    "\n",
    "contraintes_reservoir_palier(model,dict_H,dict_Hydro,dict_S,debit_S)\n",
    "contraintes_hydraulique_palier(model,dict_H,dict_Hydro,dict_Hstart)\n",
    "contraintes_hydraulique_pompage(model,dict_H,dict_Hydro,dict_N_s,dict_S,M)\n",
    "contraintes_thermique_desagregation(model,dict_P,dict_N,dict_Nstart,dict_Thermique)\n",
    "contraintes_equilibre_desagregation(model,dict_P,dict_Thermique,dict_H,dict_Hydro,dict_S,consommation)\n",
    "contraintes_reserve_desagregation(model,dict_N,dict_Thermique,dict_Hydro,consommation)\n",
    "\n",
    "model.setObjective(\n",
    "    gp.quicksum([dict_N[X,k,t] * (dict_Thermique[X].Cbase - dict_Thermique[X].Pmin*dict_Thermique[X].Cmwh) for X in dict_Thermique for k in range(dict_Thermique[X].N) for t in range(24)]) + \n",
    "    gp.quicksum([dict_P[X,k,t] * dict_Thermique[X].Cmwh for X in dict_Thermique for k in range(dict_Thermique[X].N) for t in range(24)])+ \n",
    "    gp.quicksum([dict_Nstart[X,k,t]*dict_Thermique[X].Cstart for X in dict_Thermique for k in range(dict_Thermique[X].N) for t in range(24)])+\n",
    "    gp.quicksum([dict_H[Y,n,t] * dict_Hydro[Y].Cheure[n] for Y in dict_Hydro for t in range(24) for n in dict_Hydro[Y].Palier])+\n",
    "    gp.quicksum([dict_Hstart[Y,t] * dict_Hydro[Y].Cstart for Y in dict_Hydro for t in range(24)]),\n",
    "    gp.GRB.MINIMIZE\n",
    "    )\n",
    "\n",
    "model.optimize()"
   ]
  },
  {
   "cell_type": "markdown",
   "metadata": {},
   "source": [
    "### 6.4 Discrétisation à un pas de deux heures"
   ]
  },
  {
   "cell_type": "code",
   "execution_count": 27,
   "metadata": {},
   "outputs": [
    {
     "name": "stdout",
     "output_type": "stream",
     "text": [
      "Gurobi Optimizer version 9.5.2 build v9.5.2rc0 (win64)\n",
      "Thread count: 4 physical cores, 8 logical processors, using up to 8 threads\n",
      "Optimize a model with 2281 rows, 2232 columns and 7488 nonzeros\n",
      "Model fingerprint: 0x35a75956\n",
      "Variable types: 672 continuous, 1560 integer (1560 binary)\n",
      "Coefficient statistics:\n",
      "  Matrix range     [3e-04, 6e+04]\n",
      "  Objective range  [1e+00, 2e+03]\n",
      "  Bounds range     [1e+00, 1e+00]\n",
      "  RHS range        [1e+00, 4e+04]\n",
      "Presolve removed 216 rows and 48 columns\n",
      "Presolve time: 0.01s\n",
      "Presolved: 2065 rows, 2184 columns, 6552 nonzeros\n",
      "Variable types: 672 continuous, 1512 integer (1512 binary)\n",
      "Found heuristic solution: objective 1044200.0000\n",
      "\n",
      "Root relaxation: objective 9.869988e+05, 1266 iterations, 0.01 seconds (0.01 work units)\n",
      "\n",
      "    Nodes    |    Current Node    |     Objective Bounds      |     Work\n",
      " Expl Unexpl |  Obj  Depth IntInf | Incumbent    BestBd   Gap | It/Node Time\n",
      "\n",
      "     0     0 986998.810    0   24 1044200.00 986998.810  5.48%     -    0s\n",
      "H    0     0                    988436.00000 986998.810  0.15%     -    0s\n",
      "     0     0 987190.000    0   19 988436.000 987190.000  0.13%     -    0s\n",
      "     0     0 987190.000    0   26 988436.000 987190.000  0.13%     -    0s\n",
      "     0     0 987191.949    0   33 988436.000 987191.949  0.13%     -    0s\n",
      "H    0     0                    988192.00000 987199.387  0.10%     -    0s\n",
      "     0     0 987199.387    0   60 988192.000 987199.387  0.10%     -    0s\n",
      "H    0     0                    987645.00000 987199.387  0.05%     -    0s\n",
      "     0     0 987200.756    0   59 987645.000 987200.756  0.04%     -    0s\n",
      "     0     0 987287.195    0   15 987645.000 987287.195  0.04%     -    0s\n",
      "     0     0 987287.195    0   14 987645.000 987287.195  0.04%     -    0s\n",
      "     0     0 987287.195    0   26 987645.000 987287.195  0.04%     -    0s\n",
      "     0     0 987287.195    0   19 987645.000 987287.195  0.04%     -    0s\n",
      "H    0     0                    987640.00000 987287.195  0.04%     -    0s\n",
      "     0     0 987287.195    0   40 987640.000 987287.195  0.04%     -    0s\n",
      "H    0     0                    987633.00000 987287.195  0.04%     -    0s\n",
      "     0     0 987287.195    0   35 987633.000 987287.195  0.04%     -    0s\n",
      "     0     0 987287.195    0   29 987633.000 987287.195  0.04%     -    0s\n",
      "     0     0 987287.195    0   48 987633.000 987287.195  0.04%     -    0s\n",
      "     0     0 987287.195    0   55 987633.000 987287.195  0.04%     -    0s\n",
      "     0     0 987287.195    0   70 987633.000 987287.195  0.04%     -    0s\n",
      "     0     0 987287.195    0   68 987633.000 987287.195  0.04%     -    0s\n",
      "     0     0 987287.195    0   70 987633.000 987287.195  0.04%     -    0s\n",
      "     0     0 987287.195    0   37 987633.000 987287.195  0.04%     -    0s\n",
      "     0     0 987287.195    0   37 987633.000 987287.195  0.04%     -    0s\n",
      "H    0     0                    987592.00000 987287.195  0.03%     -    0s\n",
      "H    0     0                    987495.00000 987287.195  0.02%     -    0s\n",
      "     0     0 987287.195    0    9 987495.000 987287.195  0.02%     -    0s\n",
      "     0     0 987287.195    0   29 987495.000 987287.195  0.02%     -    0s\n",
      "     0     0 987287.195    0   34 987495.000 987287.195  0.02%     -    0s\n",
      "     0     0 987287.391    0   23 987495.000 987287.391  0.02%     -    0s\n",
      "     0     0 987287.391    0   23 987495.000 987287.391  0.02%     -    0s\n",
      "     0     0 987287.391    0   34 987495.000 987287.391  0.02%     -    0s\n",
      "     0     0 987287.974    0    9 987495.000 987287.974  0.02%     -    0s\n",
      "H    0     0                    987445.00000 987287.974  0.02%     -    0s\n",
      "     0     0 987287.974    0   18 987445.000 987287.974  0.02%     -    0s\n",
      "     0     0 987287.974    0   29 987445.000 987287.974  0.02%     -    0s\n",
      "     0     0 987287.974    0   15 987445.000 987287.974  0.02%     -    0s\n",
      "H    0     0                    987426.00000 987287.974  0.01%     -    0s\n",
      "     0     0 987287.974    0   10 987426.000 987287.974  0.01%     -    0s\n",
      "H    0     0                    987394.00000 987287.974  0.01%     -    0s\n",
      "     0     0 987287.974    0    6 987394.000 987287.974  0.01%     -    0s\n",
      "     0     0 987287.974    0   17 987394.000 987287.974  0.01%     -    0s\n",
      "     0     0 987287.974    0    8 987394.000 987287.974  0.01%     -    0s\n",
      "     0     0 987287.974    0   16 987394.000 987287.974  0.01%     -    0s\n",
      "     0     0 987287.974    0   16 987394.000 987287.974  0.01%     -    0s\n",
      "     0     0 987287.974    0   20 987394.000 987287.974  0.01%     -    0s\n",
      "     0     0 987289.085    0    7 987394.000 987289.085  0.01%     -    0s\n",
      "     0     0 987289.085    0    8 987394.000 987289.085  0.01%     -    0s\n",
      "     0     0 987289.085    0    8 987394.000 987289.085  0.01%     -    0s\n",
      "     0     0 987289.085    0    6 987394.000 987289.085  0.01%     -    0s\n",
      "     0     0 987289.085    0   11 987394.000 987289.085  0.01%     -    0s\n",
      "     0     0 987289.085    0    8 987394.000 987289.085  0.01%     -    0s\n",
      "     0     0 987289.085    0    5 987394.000 987289.085  0.01%     -    0s\n",
      "     0     0 987289.085    0   10 987394.000 987289.085  0.01%     -    0s\n",
      "     0     0 987289.085    0   11 987394.000 987289.085  0.01%     -    0s\n",
      "     0     0 987289.085    0   16 987394.000 987289.085  0.01%     -    0s\n",
      "     0     0 987289.139    0   10 987394.000 987289.139  0.01%     -    0s\n",
      "     0     0 987289.139    0   10 987394.000 987289.139  0.01%     -    0s\n",
      "     0     2 987289.139    0   10 987394.000 987289.139  0.01%     -    0s\n",
      "H   44    26                    987385.00000 987290.476  0.01%   4.4    0s\n",
      "H   44    26                    987370.00000 987290.476  0.01%   4.4    0s\n",
      "\n",
      "Cutting planes:\n",
      "  Gomory: 3\n",
      "  Lift-and-project: 1\n",
      "  MIR: 6\n",
      "  Flow cover: 5\n",
      "\n",
      "Explored 47 nodes (4883 simplex iterations) in 0.78 seconds (0.32 work units)\n",
      "Thread count was 8 (of 8 available processors)\n",
      "\n",
      "Solution count 10: 987370 987385 987394 ... 987640\n",
      "\n",
      "Optimal solution found (tolerance 1.00e-04)\n",
      "Best objective 9.873700000000e+05, best bound 9.872904761905e+05, gap 0.0081%\n"
     ]
    }
   ],
   "source": [
    "consommation = np.array([16,16,14,14,16,16,30,30,28,28,25,25,24,24,33,33,41,41,32,32,26,26,22,22])*1000\n",
    "\n",
    "model = gp.Model(\"6.2\")\n",
    "\n",
    "dict_N, dict_P, dict_Nstart = variables_decision_desagregation_thermique(model,dict_Thermique)\n",
    "dict_H, dict_Hstart = variables_decision_hydraulique_palier(model,dict_Hydro)\n",
    "dict_S = {t : model.addVar(lb=0,vtype=gp.GRB.CONTINUOUS,name=f\"pompage à l'instant {t}\") for t in range(24)}\n",
    "dict_N_s = {t : model.addVar(lb=0,vtype=gp.GRB.BINARY,name=f\"fonctionnement pompe à l'instant {t}\") for t in range(24)}\n",
    "debit_S = 1/3000 # débit de pompage par MWh ou par MW pendant une heure\n",
    "M = sum([dict_Thermique[X].N * dict_Thermique[X].Pmax for X in dict_Thermique]) + sum([dict_Hydro[Y].P[dict_Hydro[Y].palier_max()] for Y in dict_Hydro])\n",
    "\n",
    "contraintes_reservoir_palier(model,dict_H,dict_Hydro,dict_S,debit_S)\n",
    "contraintes_hydraulique_palier(model,dict_H,dict_Hydro,dict_Hstart)\n",
    "contraintes_hydraulique_pompage(model,dict_H,dict_Hydro,dict_N_s,dict_S,M)\n",
    "contraintes_thermique_desagregation(model,dict_P,dict_N,dict_Nstart,dict_Thermique)\n",
    "contraintes_equilibre_desagregation(model,dict_P,dict_Thermique,dict_H,dict_Hydro,dict_S,consommation)\n",
    "contraintes_reserve_desagregation(model,dict_N,dict_Thermique,dict_Hydro,consommation)\n",
    "\n",
    "model.setObjective(\n",
    "    gp.quicksum([dict_N[X,k,t] * (dict_Thermique[X].Cbase - dict_Thermique[X].Pmin*dict_Thermique[X].Cmwh) for X in dict_Thermique for k in range(dict_Thermique[X].N) for t in range(24)]) + \n",
    "    gp.quicksum([dict_P[X,k,t] * dict_Thermique[X].Cmwh for X in dict_Thermique for k in range(dict_Thermique[X].N) for t in range(24)])+ \n",
    "    gp.quicksum([dict_Nstart[X,k,t]*dict_Thermique[X].Cstart for X in dict_Thermique for k in range(dict_Thermique[X].N) for t in range(24)])+\n",
    "    gp.quicksum([dict_H[Y,n,t] * dict_Hydro[Y].Cheure[n] for Y in dict_Hydro for t in range(24) for n in dict_Hydro[Y].Palier])+\n",
    "    gp.quicksum([dict_Hstart[Y,t] * dict_Hydro[Y].Cstart for Y in dict_Hydro for t in range(24)]),\n",
    "    gp.GRB.MINIMIZE\n",
    "    )\n",
    "\n",
    "model.optimize()"
   ]
  },
  {
   "cell_type": "markdown",
   "metadata": {},
   "source": [
    "## 7 Disponibilité variable\n",
    "\n",
    "### 7.1 Maintenance nocturne des centrales A\n",
    "\n",
    "On ajoute la contrainte :\n",
    "$$\n",
    "\\forall t \\in \\{0,\\dots,6\\}\\cup\\{18,\\dots,23\\},\\sum_{k=1}^{N^{(A)}}N_t^{(A,k)} \\leq 10\n",
    "$$"
   ]
  },
  {
   "cell_type": "markdown",
   "metadata": {},
   "source": [
    "## 8 Contraintes de rampe\n",
    "\n",
    "### 8.1 Rampe croissante\n",
    "\n",
    "$$\n",
    "\\forall t, \\forall X , \\forall k \\in \\{0,\\dots,N^{(X)}\\}, P_{t}^{(X,k)}-P_{t-1}^{(X,k)}\\leq R_{montée}^{(X)}\n",
    "$$"
   ]
  },
  {
   "cell_type": "markdown",
   "metadata": {},
   "source": [
    "### 8.2 Rampe démarrage\n",
    "\n",
    "$$\n",
    "\\forall t, \\forall X , \\forall k \\in \\{0,\\dots,N^{(X)}\\}, P_{t}^{(X,k)}-P_{t-1}^{(X,k)}\\leq R_{montée}^{(X)} + N_{start,t}{(X,k)}(R_{démarrage}^{(X)}-R_{montée}^{(X)})\n",
    "$$"
   ]
  },
  {
   "cell_type": "markdown",
   "metadata": {},
   "source": [
    "### 8.3 Rampe décroissante et d'arrêt\n",
    "\n",
    "$$\n",
    "\\forall t, \\forall X , \\forall k \\in \\{0,\\dots,N^{(X)}\\}, P_{t}^{(X,k)}-P_{t-1}^{(X,k)}\\geq R^{(X)}_{descente}\n",
    "$$"
   ]
  },
  {
   "cell_type": "markdown",
   "metadata": {},
   "source": [
    "## 9 Prévention de l'usure\n",
    "\n",
    "### 9.1 Durée minimale d'activitée\n",
    "\n",
    "$$\n",
    "\\forall t,\\forall t' \\in \\{1,\\dots,8\\}, \\forall k, H_{start,t}^{(X,k)}\\leq H_{t+t'}^{(X,k)}\n",
    "$$"
   ]
  },
  {
   "cell_type": "markdown",
   "metadata": {},
   "source": [
    "### 9.2 Durée minimale d'arrêt \n",
    "\n",
    "$$\n",
    "\\forall t,\\forall t' \\in \\{1,\\dots,8\\}, \\forall k, \\frac{H_{t-1}^{(X,k)}-H_{t}^{(X,k)}+1}{2}\\geq H_{t+t'}^{(X,k)}\n",
    "$$"
   ]
  }
 ],
 "metadata": {
  "kernelspec": {
   "display_name": "Python 3 (ipykernel)",
   "language": "python",
   "name": "python3"
  },
  "language_info": {
   "codemirror_mode": {
    "name": "ipython",
    "version": 3
   },
   "file_extension": ".py",
   "mimetype": "text/x-python",
   "name": "python",
   "nbconvert_exporter": "python",
   "pygments_lexer": "ipython3",
   "version": "3.10.8"
  },
  "vscode": {
   "interpreter": {
    "hash": "153e8b4aaf1e7bee5b29f07f8dd36650b8c55b521facabbe75a683164f3644eb"
   }
  }
 },
 "nbformat": 4,
 "nbformat_minor": 2
}
