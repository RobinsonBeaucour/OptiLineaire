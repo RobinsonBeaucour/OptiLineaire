{
 "cells": [
  {
   "cell_type": "code",
   "execution_count": 1,
   "metadata": {},
   "outputs": [],
   "source": [
    "import gurobipy as gp\n",
    "from itertools import product\n",
    "import matplotlib.pyplot as plt\n",
    "import pandas as pd\n",
    "import numpy as np\n",
    "from utils  import division"
   ]
  },
  {
   "cell_type": "markdown",
   "metadata": {},
   "source": [
    "## 1 Modèle de base des centrales thermiques\n",
    "\n",
    "### 1.1 Planification journalière du parc thermique\n",
    "\n",
    "Variables de décision :\n",
    "Pour une type de centrale $X \\in [A,B,C]$, et une heure de la journée $t\\in {1,\\dots,24}$, on définit :\n",
    "$$\n",
    "N_t^{(X)} = \\text{Nombre de centrales } X \\text{allumées à } t\\text{ h, (ENTIER)}\n",
    "$$\n",
    "$$\n",
    "P_t^{(X)} = \\text{Puissance totale produite par les centrales } X \\text{ à } t\\text{ h, (CONTINUE)}\n",
    "$$\n",
    "Contraintes :\n",
    "$$\n",
    "N_t^{(X)} P_{min}^{(X)} \\leq P_t^{(X)} \\leq N_t^{(X)} P_{max}^{(X)} \\text{ ,  Contraintes sur la puissance totale de chaque centrale}\n",
    "$$\n",
    "$$\n",
    "0 \\leq N_t^{(X)} \\leq N^{(X)} \\text{   ,   Contraintes sur le nombre de centrales allumées possible}\n",
    "$$\n",
    "$$\n",
    "\\forall t, \\sum_X P_t^{(X)} = D_t \\text{  ,  Contrainte équilibre offre-demande}\n",
    "$$\n",
    "Objectif :\n",
    "$$\n",
    "\\text{Minimiser} \\sum_X \\sum_T P_t^{(X)} C_{MWh}^{(X)}\n",
    "$$"
   ]
  },
  {
   "cell_type": "code",
   "execution_count": 2,
   "metadata": {},
   "outputs": [],
   "source": [
    "from utils import Centrale\n",
    "\n",
    "dict_Thermique = {\n",
    "    \"A\" : Centrale(\n",
    "    name=\"A\",\n",
    "    N=12,\n",
    "    Pmax=2000,\n",
    "    Pmin=850,\n",
    "    Cmwh=1.5\n",
    "    ),\n",
    "    \"B\" : Centrale(\n",
    "    name=\"B\",\n",
    "    N=10,\n",
    "    Pmax=1750,\n",
    "    Pmin=1250,\n",
    "    Cmwh=1.38\n",
    "    ),\n",
    "    \"C\" : Centrale(\n",
    "    name=\"C\",\n",
    "    N=5,\n",
    "    Pmax=4000,\n",
    "    Pmin=1500,\n",
    "    Cmwh=2.75\n",
    "    )\n",
    "}\n",
    "consommation = np.array([15,15,15,15,15,15,30,30,30,25,25,25,25,25,25,40,40,40,27,27,27,27,27,27])*1000\n",
    "heure = np.arange(24)"
   ]
  },
  {
   "cell_type": "code",
   "execution_count": 3,
   "metadata": {},
   "outputs": [
    {
     "name": "stdout",
     "output_type": "stream",
     "text": [
      "Set parameter TokenServer to value \"dev.cma.mines-paristech.fr\"\n"
     ]
    }
   ],
   "source": [
    "from utils import variable_decision_thermique, contraintes_equilibre, contraintes_puissance_thermique\n",
    "\n",
    "model = gp.Model(name=\"1.1\")\n",
    "dict_N, dict_P = variable_decision_thermique(model=model,dict_Thermique=dict_Thermique)\n",
    "contraintes_puissance_thermique(model,dict_N,dict_P,dict_Thermique)\n",
    "contraintes_equilibre(model,dict_P,dict_Thermique,consommation)\n",
    "model.setObjective(gp.quicksum([dict_P[element[0],element[1]] * dict_Thermique[element[0]].Cmwh for element in product(dict_Thermique,range(24))]), gp.GRB.MINIMIZE)"
   ]
  },
  {
   "cell_type": "code",
   "execution_count": 4,
   "metadata": {},
   "outputs": [
    {
     "name": "stdout",
     "output_type": "stream",
     "text": [
      "Gurobi Optimizer version 9.5.2 build v9.5.2rc0 (win64)\n",
      "Thread count: 4 physical cores, 8 logical processors, using up to 8 threads\n",
      "Optimize a model with 168 rows, 144 columns and 360 nonzeros\n",
      "Model fingerprint: 0xf31da896\n",
      "Variable types: 72 continuous, 72 integer (0 binary)\n",
      "Coefficient statistics:\n",
      "  Matrix range     [1e+00, 4e+03]\n",
      "  Objective range  [1e+00, 3e+00]\n",
      "  Bounds range     [5e+00, 1e+01]\n",
      "  RHS range        [2e+04, 4e+04]\n",
      "Found heuristic solution: objective 1235375.0000\n",
      "Presolve removed 162 rows and 139 columns\n",
      "Presolve time: 0.03s\n",
      "Presolved: 6 rows, 5 columns, 14 nonzeros\n",
      "Found heuristic solution: objective 881275.00000\n",
      "Variable types: 2 continuous, 3 integer (0 binary)\n",
      "\n",
      "Root relaxation: objective 8.694000e+05, 2 iterations, 0.00 seconds (0.00 work units)\n",
      "\n",
      "    Nodes    |    Current Node    |     Objective Bounds      |     Work\n",
      " Expl Unexpl |  Obj  Depth IntInf | Incumbent    BestBd   Gap | It/Node Time\n",
      "\n",
      "     0     0 869400.000    0    1 881275.000 869400.000  1.35%     -    0s\n",
      "H    0     0                    869400.00000 869400.000  0.00%     -    0s\n",
      "     0     0 869400.000    0    1 869400.000 869400.000  0.00%     -    0s\n",
      "\n",
      "Explored 1 nodes (2 simplex iterations) in 0.05 seconds (0.00 work units)\n",
      "Thread count was 8 (of 8 available processors)\n",
      "\n",
      "Solution count 3: 869400 881275 1.23538e+06 \n",
      "\n",
      "Optimal solution found (tolerance 1.00e-04)\n",
      "Best objective 8.694000000000e+05, best bound 8.694000000000e+05, gap 0.0000%\n",
      "Coût : 869400.0\n"
     ]
    }
   ],
   "source": [
    "model.optimize()\n",
    "print(f\"Coût : {model.ObjVal}\")"
   ]
  },
  {
   "cell_type": "code",
   "execution_count": 5,
   "metadata": {},
   "outputs": [
    {
     "data": {
      "application/vnd.plotly.v1+json": {
       "config": {
        "plotlyServerURL": "https://plot.ly"
       },
       "data": [
        {
         "name": "Production A",
         "stackgroup": "one",
         "type": "scatter",
         "x": [
          0,
          1,
          2,
          3,
          4,
          5,
          6,
          7,
          8,
          9,
          10,
          11,
          12,
          13,
          14,
          15,
          16,
          17,
          18,
          19,
          20,
          21,
          22,
          23
         ],
         "y": [
          0,
          0,
          0,
          0,
          0,
          0,
          12500,
          12500,
          12500,
          7500,
          7500,
          7500,
          7500,
          7500,
          7500,
          22500,
          22500,
          22500,
          9500,
          9500,
          9500,
          9500,
          9500,
          9500
         ]
        },
        {
         "name": "Production B",
         "stackgroup": "one",
         "type": "scatter",
         "x": [
          0,
          1,
          2,
          3,
          4,
          5,
          6,
          7,
          8,
          9,
          10,
          11,
          12,
          13,
          14,
          15,
          16,
          17,
          18,
          19,
          20,
          21,
          22,
          23
         ],
         "y": [
          15000,
          15000,
          15000,
          15000,
          15000,
          15000,
          17500,
          17500,
          17500,
          17500,
          17500,
          17500,
          17500,
          17500,
          17500,
          17500,
          17500,
          17500,
          17500,
          17500,
          17500,
          17500,
          17500,
          17500
         ]
        },
        {
         "name": "Production C",
         "stackgroup": "one",
         "type": "scatter",
         "x": [
          0,
          1,
          2,
          3,
          4,
          5,
          6,
          7,
          8,
          9,
          10,
          11,
          12,
          13,
          14,
          15,
          16,
          17,
          18,
          19,
          20,
          21,
          22,
          23
         ],
         "y": [
          0,
          0,
          0,
          0,
          0,
          0,
          0,
          0,
          0,
          0,
          0,
          0,
          0,
          0,
          0,
          0,
          0,
          0,
          0,
          0,
          0,
          0,
          0,
          0
         ]
        },
        {
         "line": {
          "color": "red",
          "dash": "dash"
         },
         "name": "Production total",
         "type": "scatter",
         "x": [
          0,
          1,
          2,
          3,
          4,
          5,
          6,
          7,
          8,
          9,
          10,
          11,
          12,
          13,
          14,
          15,
          16,
          17,
          18,
          19,
          20,
          21,
          22,
          23
         ],
         "y": [
          15000,
          15000,
          15000,
          15000,
          15000,
          15000,
          30000,
          30000,
          30000,
          25000,
          25000,
          25000,
          25000,
          25000,
          25000,
          40000,
          40000,
          40000,
          27000,
          27000,
          27000,
          27000,
          27000,
          27000
         ]
        },
        {
         "line": {
          "color": "black"
         },
         "name": "Coût MWh",
         "type": "scatter",
         "x": [
          0,
          1,
          2,
          3,
          4,
          5,
          6,
          7,
          8,
          9,
          10,
          11,
          12,
          13,
          14,
          15,
          16,
          17,
          18,
          19,
          20,
          21,
          22,
          23
         ],
         "y": [
          1.38,
          1.38,
          1.38,
          1.38,
          1.38,
          1.38,
          1.43,
          1.43,
          1.43,
          1.416,
          1.416,
          1.416,
          1.416,
          1.416,
          1.416,
          1.4475,
          1.4475,
          1.4475,
          1.4222222222222223,
          1.4222222222222223,
          1.4222222222222223,
          1.4222222222222223,
          1.4222222222222223,
          1.4222222222222223
         ],
         "yaxis": "y2"
        }
       ],
       "layout": {
        "hovermode": "x",
        "legend": {
         "orientation": "h",
         "x": 1,
         "xanchor": "right",
         "y": 1.02,
         "yanchor": "bottom"
        },
        "template": {
         "data": {
          "bar": [
           {
            "error_x": {
             "color": "#2a3f5f"
            },
            "error_y": {
             "color": "#2a3f5f"
            },
            "marker": {
             "line": {
              "color": "#E5ECF6",
              "width": 0.5
             },
             "pattern": {
              "fillmode": "overlay",
              "size": 10,
              "solidity": 0.2
             }
            },
            "type": "bar"
           }
          ],
          "barpolar": [
           {
            "marker": {
             "line": {
              "color": "#E5ECF6",
              "width": 0.5
             },
             "pattern": {
              "fillmode": "overlay",
              "size": 10,
              "solidity": 0.2
             }
            },
            "type": "barpolar"
           }
          ],
          "carpet": [
           {
            "aaxis": {
             "endlinecolor": "#2a3f5f",
             "gridcolor": "white",
             "linecolor": "white",
             "minorgridcolor": "white",
             "startlinecolor": "#2a3f5f"
            },
            "baxis": {
             "endlinecolor": "#2a3f5f",
             "gridcolor": "white",
             "linecolor": "white",
             "minorgridcolor": "white",
             "startlinecolor": "#2a3f5f"
            },
            "type": "carpet"
           }
          ],
          "choropleth": [
           {
            "colorbar": {
             "outlinewidth": 0,
             "ticks": ""
            },
            "type": "choropleth"
           }
          ],
          "contour": [
           {
            "colorbar": {
             "outlinewidth": 0,
             "ticks": ""
            },
            "colorscale": [
             [
              0,
              "#0d0887"
             ],
             [
              0.1111111111111111,
              "#46039f"
             ],
             [
              0.2222222222222222,
              "#7201a8"
             ],
             [
              0.3333333333333333,
              "#9c179e"
             ],
             [
              0.4444444444444444,
              "#bd3786"
             ],
             [
              0.5555555555555556,
              "#d8576b"
             ],
             [
              0.6666666666666666,
              "#ed7953"
             ],
             [
              0.7777777777777778,
              "#fb9f3a"
             ],
             [
              0.8888888888888888,
              "#fdca26"
             ],
             [
              1,
              "#f0f921"
             ]
            ],
            "type": "contour"
           }
          ],
          "contourcarpet": [
           {
            "colorbar": {
             "outlinewidth": 0,
             "ticks": ""
            },
            "type": "contourcarpet"
           }
          ],
          "heatmap": [
           {
            "colorbar": {
             "outlinewidth": 0,
             "ticks": ""
            },
            "colorscale": [
             [
              0,
              "#0d0887"
             ],
             [
              0.1111111111111111,
              "#46039f"
             ],
             [
              0.2222222222222222,
              "#7201a8"
             ],
             [
              0.3333333333333333,
              "#9c179e"
             ],
             [
              0.4444444444444444,
              "#bd3786"
             ],
             [
              0.5555555555555556,
              "#d8576b"
             ],
             [
              0.6666666666666666,
              "#ed7953"
             ],
             [
              0.7777777777777778,
              "#fb9f3a"
             ],
             [
              0.8888888888888888,
              "#fdca26"
             ],
             [
              1,
              "#f0f921"
             ]
            ],
            "type": "heatmap"
           }
          ],
          "heatmapgl": [
           {
            "colorbar": {
             "outlinewidth": 0,
             "ticks": ""
            },
            "colorscale": [
             [
              0,
              "#0d0887"
             ],
             [
              0.1111111111111111,
              "#46039f"
             ],
             [
              0.2222222222222222,
              "#7201a8"
             ],
             [
              0.3333333333333333,
              "#9c179e"
             ],
             [
              0.4444444444444444,
              "#bd3786"
             ],
             [
              0.5555555555555556,
              "#d8576b"
             ],
             [
              0.6666666666666666,
              "#ed7953"
             ],
             [
              0.7777777777777778,
              "#fb9f3a"
             ],
             [
              0.8888888888888888,
              "#fdca26"
             ],
             [
              1,
              "#f0f921"
             ]
            ],
            "type": "heatmapgl"
           }
          ],
          "histogram": [
           {
            "marker": {
             "pattern": {
              "fillmode": "overlay",
              "size": 10,
              "solidity": 0.2
             }
            },
            "type": "histogram"
           }
          ],
          "histogram2d": [
           {
            "colorbar": {
             "outlinewidth": 0,
             "ticks": ""
            },
            "colorscale": [
             [
              0,
              "#0d0887"
             ],
             [
              0.1111111111111111,
              "#46039f"
             ],
             [
              0.2222222222222222,
              "#7201a8"
             ],
             [
              0.3333333333333333,
              "#9c179e"
             ],
             [
              0.4444444444444444,
              "#bd3786"
             ],
             [
              0.5555555555555556,
              "#d8576b"
             ],
             [
              0.6666666666666666,
              "#ed7953"
             ],
             [
              0.7777777777777778,
              "#fb9f3a"
             ],
             [
              0.8888888888888888,
              "#fdca26"
             ],
             [
              1,
              "#f0f921"
             ]
            ],
            "type": "histogram2d"
           }
          ],
          "histogram2dcontour": [
           {
            "colorbar": {
             "outlinewidth": 0,
             "ticks": ""
            },
            "colorscale": [
             [
              0,
              "#0d0887"
             ],
             [
              0.1111111111111111,
              "#46039f"
             ],
             [
              0.2222222222222222,
              "#7201a8"
             ],
             [
              0.3333333333333333,
              "#9c179e"
             ],
             [
              0.4444444444444444,
              "#bd3786"
             ],
             [
              0.5555555555555556,
              "#d8576b"
             ],
             [
              0.6666666666666666,
              "#ed7953"
             ],
             [
              0.7777777777777778,
              "#fb9f3a"
             ],
             [
              0.8888888888888888,
              "#fdca26"
             ],
             [
              1,
              "#f0f921"
             ]
            ],
            "type": "histogram2dcontour"
           }
          ],
          "mesh3d": [
           {
            "colorbar": {
             "outlinewidth": 0,
             "ticks": ""
            },
            "type": "mesh3d"
           }
          ],
          "parcoords": [
           {
            "line": {
             "colorbar": {
              "outlinewidth": 0,
              "ticks": ""
             }
            },
            "type": "parcoords"
           }
          ],
          "pie": [
           {
            "automargin": true,
            "type": "pie"
           }
          ],
          "scatter": [
           {
            "fillpattern": {
             "fillmode": "overlay",
             "size": 10,
             "solidity": 0.2
            },
            "type": "scatter"
           }
          ],
          "scatter3d": [
           {
            "line": {
             "colorbar": {
              "outlinewidth": 0,
              "ticks": ""
             }
            },
            "marker": {
             "colorbar": {
              "outlinewidth": 0,
              "ticks": ""
             }
            },
            "type": "scatter3d"
           }
          ],
          "scattercarpet": [
           {
            "marker": {
             "colorbar": {
              "outlinewidth": 0,
              "ticks": ""
             }
            },
            "type": "scattercarpet"
           }
          ],
          "scattergeo": [
           {
            "marker": {
             "colorbar": {
              "outlinewidth": 0,
              "ticks": ""
             }
            },
            "type": "scattergeo"
           }
          ],
          "scattergl": [
           {
            "marker": {
             "colorbar": {
              "outlinewidth": 0,
              "ticks": ""
             }
            },
            "type": "scattergl"
           }
          ],
          "scattermapbox": [
           {
            "marker": {
             "colorbar": {
              "outlinewidth": 0,
              "ticks": ""
             }
            },
            "type": "scattermapbox"
           }
          ],
          "scatterpolar": [
           {
            "marker": {
             "colorbar": {
              "outlinewidth": 0,
              "ticks": ""
             }
            },
            "type": "scatterpolar"
           }
          ],
          "scatterpolargl": [
           {
            "marker": {
             "colorbar": {
              "outlinewidth": 0,
              "ticks": ""
             }
            },
            "type": "scatterpolargl"
           }
          ],
          "scatterternary": [
           {
            "marker": {
             "colorbar": {
              "outlinewidth": 0,
              "ticks": ""
             }
            },
            "type": "scatterternary"
           }
          ],
          "surface": [
           {
            "colorbar": {
             "outlinewidth": 0,
             "ticks": ""
            },
            "colorscale": [
             [
              0,
              "#0d0887"
             ],
             [
              0.1111111111111111,
              "#46039f"
             ],
             [
              0.2222222222222222,
              "#7201a8"
             ],
             [
              0.3333333333333333,
              "#9c179e"
             ],
             [
              0.4444444444444444,
              "#bd3786"
             ],
             [
              0.5555555555555556,
              "#d8576b"
             ],
             [
              0.6666666666666666,
              "#ed7953"
             ],
             [
              0.7777777777777778,
              "#fb9f3a"
             ],
             [
              0.8888888888888888,
              "#fdca26"
             ],
             [
              1,
              "#f0f921"
             ]
            ],
            "type": "surface"
           }
          ],
          "table": [
           {
            "cells": {
             "fill": {
              "color": "#EBF0F8"
             },
             "line": {
              "color": "white"
             }
            },
            "header": {
             "fill": {
              "color": "#C8D4E3"
             },
             "line": {
              "color": "white"
             }
            },
            "type": "table"
           }
          ]
         },
         "layout": {
          "annotationdefaults": {
           "arrowcolor": "#2a3f5f",
           "arrowhead": 0,
           "arrowwidth": 1
          },
          "autotypenumbers": "strict",
          "coloraxis": {
           "colorbar": {
            "outlinewidth": 0,
            "ticks": ""
           }
          },
          "colorscale": {
           "diverging": [
            [
             0,
             "#8e0152"
            ],
            [
             0.1,
             "#c51b7d"
            ],
            [
             0.2,
             "#de77ae"
            ],
            [
             0.3,
             "#f1b6da"
            ],
            [
             0.4,
             "#fde0ef"
            ],
            [
             0.5,
             "#f7f7f7"
            ],
            [
             0.6,
             "#e6f5d0"
            ],
            [
             0.7,
             "#b8e186"
            ],
            [
             0.8,
             "#7fbc41"
            ],
            [
             0.9,
             "#4d9221"
            ],
            [
             1,
             "#276419"
            ]
           ],
           "sequential": [
            [
             0,
             "#0d0887"
            ],
            [
             0.1111111111111111,
             "#46039f"
            ],
            [
             0.2222222222222222,
             "#7201a8"
            ],
            [
             0.3333333333333333,
             "#9c179e"
            ],
            [
             0.4444444444444444,
             "#bd3786"
            ],
            [
             0.5555555555555556,
             "#d8576b"
            ],
            [
             0.6666666666666666,
             "#ed7953"
            ],
            [
             0.7777777777777778,
             "#fb9f3a"
            ],
            [
             0.8888888888888888,
             "#fdca26"
            ],
            [
             1,
             "#f0f921"
            ]
           ],
           "sequentialminus": [
            [
             0,
             "#0d0887"
            ],
            [
             0.1111111111111111,
             "#46039f"
            ],
            [
             0.2222222222222222,
             "#7201a8"
            ],
            [
             0.3333333333333333,
             "#9c179e"
            ],
            [
             0.4444444444444444,
             "#bd3786"
            ],
            [
             0.5555555555555556,
             "#d8576b"
            ],
            [
             0.6666666666666666,
             "#ed7953"
            ],
            [
             0.7777777777777778,
             "#fb9f3a"
            ],
            [
             0.8888888888888888,
             "#fdca26"
            ],
            [
             1,
             "#f0f921"
            ]
           ]
          },
          "colorway": [
           "#636efa",
           "#EF553B",
           "#00cc96",
           "#ab63fa",
           "#FFA15A",
           "#19d3f3",
           "#FF6692",
           "#B6E880",
           "#FF97FF",
           "#FECB52"
          ],
          "font": {
           "color": "#2a3f5f"
          },
          "geo": {
           "bgcolor": "white",
           "lakecolor": "white",
           "landcolor": "#E5ECF6",
           "showlakes": true,
           "showland": true,
           "subunitcolor": "white"
          },
          "hoverlabel": {
           "align": "left"
          },
          "hovermode": "closest",
          "mapbox": {
           "style": "light"
          },
          "paper_bgcolor": "white",
          "plot_bgcolor": "#E5ECF6",
          "polar": {
           "angularaxis": {
            "gridcolor": "white",
            "linecolor": "white",
            "ticks": ""
           },
           "bgcolor": "#E5ECF6",
           "radialaxis": {
            "gridcolor": "white",
            "linecolor": "white",
            "ticks": ""
           }
          },
          "scene": {
           "xaxis": {
            "backgroundcolor": "#E5ECF6",
            "gridcolor": "white",
            "gridwidth": 2,
            "linecolor": "white",
            "showbackground": true,
            "ticks": "",
            "zerolinecolor": "white"
           },
           "yaxis": {
            "backgroundcolor": "#E5ECF6",
            "gridcolor": "white",
            "gridwidth": 2,
            "linecolor": "white",
            "showbackground": true,
            "ticks": "",
            "zerolinecolor": "white"
           },
           "zaxis": {
            "backgroundcolor": "#E5ECF6",
            "gridcolor": "white",
            "gridwidth": 2,
            "linecolor": "white",
            "showbackground": true,
            "ticks": "",
            "zerolinecolor": "white"
           }
          },
          "shapedefaults": {
           "line": {
            "color": "#2a3f5f"
           }
          },
          "ternary": {
           "aaxis": {
            "gridcolor": "white",
            "linecolor": "white",
            "ticks": ""
           },
           "baxis": {
            "gridcolor": "white",
            "linecolor": "white",
            "ticks": ""
           },
           "bgcolor": "#E5ECF6",
           "caxis": {
            "gridcolor": "white",
            "linecolor": "white",
            "ticks": ""
           }
          },
          "title": {
           "x": 0.05
          },
          "xaxis": {
           "automargin": true,
           "gridcolor": "white",
           "linecolor": "white",
           "ticks": "",
           "title": {
            "standoff": 15
           },
           "zerolinecolor": "white",
           "zerolinewidth": 2
          },
          "yaxis": {
           "automargin": true,
           "gridcolor": "white",
           "linecolor": "white",
           "ticks": "",
           "title": {
            "standoff": 15
           },
           "zerolinecolor": "white",
           "zerolinewidth": 2
          }
         }
        },
        "title": {
         "text": "Répartition de la production électrique dans la journée - 1 - Coût de la journée : 869 k€"
        },
        "yaxis": {
         "range": [
          0,
          44000
         ],
         "title": {
          "text": "MW"
         }
        },
        "yaxis2": {
         "anchor": "free",
         "overlaying": "y",
         "position": 1,
         "range": [
          1.311,
          1.5922500000000002
         ],
         "side": "right",
         "title": {
          "text": "€/MWh"
         }
        }
       }
      }
     },
     "metadata": {},
     "output_type": "display_data"
    }
   ],
   "source": [
    "from turtle import color\n",
    "import plotly.graph_objects as go\n",
    "from utils_viz import df_results, Results_viz\n",
    "df = df_results(dict_N,dict_P,dict_Thermique,consommation)\n",
    "fig = Results_viz(df,dict_Thermique)\n",
    "A = 1\n",
    "fig.update_layout(\n",
    "    title = f\"Répartition de la production électrique dans la journée - {A} - Coût de la journée : {int(np.around(model.ObjVal/1000,0))} k€\"\n",
    ")\n",
    "fig.show()\n",
    "fig.write_html(f\"HTML/Répartition de la production électrique dans la journée - {A}.html\")\n",
    "df.to_csv(f\"CSV/Résultats - {A}.csv\",index=False)"
   ]
  },
  {
   "cell_type": "code",
   "execution_count": 6,
   "metadata": {},
   "outputs": [
    {
     "name": "stdout",
     "output_type": "stream",
     "text": [
      "Gurobi Optimizer version 9.5.2 build v9.5.2rc0 (win64)\n",
      "Thread count: 4 physical cores, 8 logical processors, using up to 8 threads\n",
      "Optimize a model with 168 rows, 144 columns and 360 nonzeros\n",
      "Model fingerprint: 0x635b27b9\n",
      "Coefficient statistics:\n",
      "  Matrix range     [1e+00, 4e+03]\n",
      "  Objective range  [1e+00, 3e+00]\n",
      "  Bounds range     [5e+00, 1e+01]\n",
      "  RHS range        [2e+04, 4e+04]\n",
      "Presolve removed 153 rows and 99 columns\n",
      "Presolve time: 0.01s\n",
      "Presolved: 15 rows, 45 columns, 45 nonzeros\n",
      "\n",
      "Iteration    Objective       Primal Inf.    Dual Inf.      Time\n",
      "       0    8.5266000e+05   1.743750e+04   0.000000e+00      0s\n",
      "      15    8.6940000e+05   0.000000e+00   0.000000e+00      0s\n",
      "\n",
      "Solved in 15 iterations and 0.01 seconds (0.00 work units)\n",
      "Optimal objective  8.694000000e+05\n",
      "Coût : 869400.0\n"
     ]
    }
   ],
   "source": [
    "model_relax = model.relax()\n",
    "model_relax.optimize()\n",
    "print(f\"Coût : {model_relax.ObjVal}\")"
   ]
  },
  {
   "cell_type": "markdown",
   "metadata": {},
   "source": [
    "## 2 Coût d'opération\n",
    "\n",
    "### 2.1 Coût de fonctionnement\n",
    "\n",
    "Pour ce problème on modifie la fonction objectif.<br>\n",
    "Objectif :\n",
    "$$\n",
    "\\text{Minimiser} \\sum_X \\sum_T (P_t^{(X)} - P_{min}^{(X)}N_t^{(X)}) C_{MWh}^{(X)} + N_t^{(X)}C_{base}^{(X)}\n",
    "$$"
   ]
  },
  {
   "cell_type": "code",
   "execution_count": 7,
   "metadata": {},
   "outputs": [],
   "source": [
    "from utils import Centrale2\n",
    "\n",
    "dict_Thermique = {\n",
    "    \"A\" : Centrale2(\n",
    "    name=\"A\",\n",
    "    N=12,\n",
    "    Pmax=2000,\n",
    "    Pmin=850,\n",
    "    Cmwh=2,\n",
    "    Cstart=2000,\n",
    "    Cbase=1000\n",
    "    ),\n",
    "    \"B\" : Centrale2(\n",
    "    name=\"B\",\n",
    "    N=10,\n",
    "    Pmax=1750,\n",
    "    Pmin=1250,\n",
    "    Cmwh=1.3,\n",
    "    Cstart=1000,\n",
    "    Cbase=2600\n",
    "    ),\n",
    "    \"C\" : Centrale2(\n",
    "    name=\"C\",\n",
    "    N=5,\n",
    "    Pmax=4000,\n",
    "    Pmin=1500,\n",
    "    Cmwh=3,\n",
    "    Cstart=500,\n",
    "    Cbase=3000\n",
    "    )\n",
    "}"
   ]
  },
  {
   "cell_type": "code",
   "execution_count": 8,
   "metadata": {},
   "outputs": [
    {
     "name": "stdout",
     "output_type": "stream",
     "text": [
      "Gurobi Optimizer version 9.5.2 build v9.5.2rc0 (win64)\n",
      "Thread count: 4 physical cores, 8 logical processors, using up to 8 threads\n",
      "Optimize a model with 168 rows, 144 columns and 360 nonzeros\n",
      "Model fingerprint: 0x7066cec8\n",
      "Variable types: 72 continuous, 72 integer (0 binary)\n",
      "Coefficient statistics:\n",
      "  Matrix range     [1e+00, 4e+03]\n",
      "  Objective range  [1e+00, 2e+03]\n",
      "  Bounds range     [5e+00, 1e+01]\n",
      "  RHS range        [2e+04, 4e+04]\n",
      "Found heuristic solution: objective 1271875.0000\n",
      "Presolve removed 162 rows and 139 columns\n",
      "Presolve time: 0.03s\n",
      "Presolved: 6 rows, 5 columns, 14 nonzeros\n",
      "Found heuristic solution: objective 987500.00000\n",
      "Variable types: 2 continuous, 3 integer (0 binary)\n",
      "Found heuristic solution: objective 985950.00000\n",
      "\n",
      "Root relaxation: objective 9.787500e+05, 2 iterations, 0.00 seconds (0.00 work units)\n",
      "\n",
      "    Nodes    |    Current Node    |     Objective Bounds      |     Work\n",
      " Expl Unexpl |  Obj  Depth IntInf | Incumbent    BestBd   Gap | It/Node Time\n",
      "\n",
      "     0     0 978750.000    0    1 985950.000 978750.000  0.73%     -    0s\n",
      "H    0     0                    978900.00000 978750.000  0.02%     -    0s\n",
      "     0     0 978750.000    0    1 978900.000 978750.000  0.02%     -    0s\n",
      "\n",
      "Explored 1 nodes (2 simplex iterations) in 0.04 seconds (0.00 work units)\n",
      "Thread count was 8 (of 8 available processors)\n",
      "\n",
      "Solution count 4: 978900 985950 987500 1.27188e+06 \n",
      "\n",
      "Optimal solution found (tolerance 1.00e-04)\n",
      "Best objective 9.789000000000e+05, best bound 9.789000000000e+05, gap 0.0000%\n",
      "Coût : 978900.0\n"
     ]
    }
   ],
   "source": [
    "model = gp.Model(name=\"2.1\")\n",
    "dict_N, dict_P = variable_decision_thermique(model,dict_Thermique)\n",
    "contraintes_puissance_thermique(model,dict_N=dict_N,dict_P=dict_P,dict_Thermique=dict_Thermique)\n",
    "contraintes_equilibre(model,dict_P,dict_Thermique,consommation)\n",
    "\n",
    "model.setObjective(gp.quicksum([dict_N[element[0],element[1]] * (dict_Thermique[element[0]].Cbase - dict_Thermique[element[0]].Pmin*dict_Thermique[element[0]].Cmwh) + dict_P[element[0],element[1]] * dict_Thermique[element[0]].Cmwh for element in product(dict_Thermique,range(24))]), gp.GRB.MINIMIZE)\n",
    "\n",
    "model.optimize()\n",
    "print(f\"Coût : {model.ObjVal}\")"
   ]
  },
  {
   "cell_type": "code",
   "execution_count": 9,
   "metadata": {},
   "outputs": [
    {
     "data": {
      "application/vnd.plotly.v1+json": {
       "config": {
        "plotlyServerURL": "https://plot.ly"
       },
       "data": [
        {
         "name": "Production A",
         "stackgroup": "one",
         "type": "scatter",
         "x": [
          0,
          1,
          2,
          3,
          4,
          5,
          6,
          7,
          8,
          9,
          10,
          11,
          12,
          13,
          14,
          15,
          16,
          17,
          18,
          19,
          20,
          21,
          22,
          23
         ],
         "y": [
          11500,
          11500,
          11500,
          11500,
          11500,
          11500,
          12500,
          12500,
          12500,
          11000,
          11000,
          11000,
          11000,
          11000,
          11000,
          22500,
          22500,
          22500,
          11250,
          11250,
          11250,
          11250,
          11250,
          11250
         ]
        },
        {
         "name": "Production B",
         "stackgroup": "one",
         "type": "scatter",
         "x": [
          0,
          1,
          2,
          3,
          4,
          5,
          6,
          7,
          8,
          9,
          10,
          11,
          12,
          13,
          14,
          15,
          16,
          17,
          18,
          19,
          20,
          21,
          22,
          23
         ],
         "y": [
          3500,
          3500,
          3500,
          3500,
          3500,
          3500,
          17500,
          17500,
          17500,
          14000,
          14000,
          14000,
          14000,
          14000,
          14000,
          17500,
          17500,
          17500,
          15750,
          15750,
          15750,
          15750,
          15750,
          15750
         ]
        },
        {
         "name": "Production C",
         "stackgroup": "one",
         "type": "scatter",
         "x": [
          0,
          1,
          2,
          3,
          4,
          5,
          6,
          7,
          8,
          9,
          10,
          11,
          12,
          13,
          14,
          15,
          16,
          17,
          18,
          19,
          20,
          21,
          22,
          23
         ],
         "y": [
          0,
          0,
          0,
          0,
          0,
          0,
          0,
          0,
          0,
          0,
          0,
          0,
          0,
          0,
          0,
          0,
          0,
          0,
          0,
          0,
          0,
          0,
          0,
          0
         ]
        },
        {
         "line": {
          "color": "red",
          "dash": "dash"
         },
         "name": "Production total",
         "type": "scatter",
         "x": [
          0,
          1,
          2,
          3,
          4,
          5,
          6,
          7,
          8,
          9,
          10,
          11,
          12,
          13,
          14,
          15,
          16,
          17,
          18,
          19,
          20,
          21,
          22,
          23
         ],
         "y": [
          15000,
          15000,
          15000,
          15000,
          15000,
          15000,
          30000,
          30000,
          30000,
          25000,
          25000,
          25000,
          25000,
          25000,
          25000,
          40000,
          40000,
          40000,
          27000,
          27000,
          27000,
          27000,
          27000,
          27000
         ]
        },
        {
         "line": {
          "color": "black"
         },
         "name": "Coût MWh",
         "type": "scatter",
         "x": [
          0,
          1,
          2,
          3,
          4,
          5,
          6,
          7,
          8,
          9,
          10,
          11,
          12,
          13,
          14,
          15,
          16,
          17,
          18,
          19,
          20,
          21,
          22,
          23
         ],
         "y": [
          1.4066666666666667,
          1.4066666666666667,
          1.4066666666666667,
          1.4066666666666667,
          1.4066666666666667,
          1.4066666666666667,
          1.6366666666666667,
          1.6366666666666667,
          1.6366666666666667,
          1.584,
          1.584,
          1.584,
          1.584,
          1.584,
          1.584,
          1.7275,
          1.7275,
          1.7275,
          1.6055555555555556,
          1.6055555555555556,
          1.6055555555555556,
          1.6055555555555556,
          1.6055555555555556,
          1.6055555555555556
         ],
         "yaxis": "y2"
        }
       ],
       "layout": {
        "hovermode": "x",
        "legend": {
         "orientation": "h",
         "x": 1,
         "xanchor": "right",
         "y": 1.02,
         "yanchor": "bottom"
        },
        "template": {
         "data": {
          "bar": [
           {
            "error_x": {
             "color": "#2a3f5f"
            },
            "error_y": {
             "color": "#2a3f5f"
            },
            "marker": {
             "line": {
              "color": "#E5ECF6",
              "width": 0.5
             },
             "pattern": {
              "fillmode": "overlay",
              "size": 10,
              "solidity": 0.2
             }
            },
            "type": "bar"
           }
          ],
          "barpolar": [
           {
            "marker": {
             "line": {
              "color": "#E5ECF6",
              "width": 0.5
             },
             "pattern": {
              "fillmode": "overlay",
              "size": 10,
              "solidity": 0.2
             }
            },
            "type": "barpolar"
           }
          ],
          "carpet": [
           {
            "aaxis": {
             "endlinecolor": "#2a3f5f",
             "gridcolor": "white",
             "linecolor": "white",
             "minorgridcolor": "white",
             "startlinecolor": "#2a3f5f"
            },
            "baxis": {
             "endlinecolor": "#2a3f5f",
             "gridcolor": "white",
             "linecolor": "white",
             "minorgridcolor": "white",
             "startlinecolor": "#2a3f5f"
            },
            "type": "carpet"
           }
          ],
          "choropleth": [
           {
            "colorbar": {
             "outlinewidth": 0,
             "ticks": ""
            },
            "type": "choropleth"
           }
          ],
          "contour": [
           {
            "colorbar": {
             "outlinewidth": 0,
             "ticks": ""
            },
            "colorscale": [
             [
              0,
              "#0d0887"
             ],
             [
              0.1111111111111111,
              "#46039f"
             ],
             [
              0.2222222222222222,
              "#7201a8"
             ],
             [
              0.3333333333333333,
              "#9c179e"
             ],
             [
              0.4444444444444444,
              "#bd3786"
             ],
             [
              0.5555555555555556,
              "#d8576b"
             ],
             [
              0.6666666666666666,
              "#ed7953"
             ],
             [
              0.7777777777777778,
              "#fb9f3a"
             ],
             [
              0.8888888888888888,
              "#fdca26"
             ],
             [
              1,
              "#f0f921"
             ]
            ],
            "type": "contour"
           }
          ],
          "contourcarpet": [
           {
            "colorbar": {
             "outlinewidth": 0,
             "ticks": ""
            },
            "type": "contourcarpet"
           }
          ],
          "heatmap": [
           {
            "colorbar": {
             "outlinewidth": 0,
             "ticks": ""
            },
            "colorscale": [
             [
              0,
              "#0d0887"
             ],
             [
              0.1111111111111111,
              "#46039f"
             ],
             [
              0.2222222222222222,
              "#7201a8"
             ],
             [
              0.3333333333333333,
              "#9c179e"
             ],
             [
              0.4444444444444444,
              "#bd3786"
             ],
             [
              0.5555555555555556,
              "#d8576b"
             ],
             [
              0.6666666666666666,
              "#ed7953"
             ],
             [
              0.7777777777777778,
              "#fb9f3a"
             ],
             [
              0.8888888888888888,
              "#fdca26"
             ],
             [
              1,
              "#f0f921"
             ]
            ],
            "type": "heatmap"
           }
          ],
          "heatmapgl": [
           {
            "colorbar": {
             "outlinewidth": 0,
             "ticks": ""
            },
            "colorscale": [
             [
              0,
              "#0d0887"
             ],
             [
              0.1111111111111111,
              "#46039f"
             ],
             [
              0.2222222222222222,
              "#7201a8"
             ],
             [
              0.3333333333333333,
              "#9c179e"
             ],
             [
              0.4444444444444444,
              "#bd3786"
             ],
             [
              0.5555555555555556,
              "#d8576b"
             ],
             [
              0.6666666666666666,
              "#ed7953"
             ],
             [
              0.7777777777777778,
              "#fb9f3a"
             ],
             [
              0.8888888888888888,
              "#fdca26"
             ],
             [
              1,
              "#f0f921"
             ]
            ],
            "type": "heatmapgl"
           }
          ],
          "histogram": [
           {
            "marker": {
             "pattern": {
              "fillmode": "overlay",
              "size": 10,
              "solidity": 0.2
             }
            },
            "type": "histogram"
           }
          ],
          "histogram2d": [
           {
            "colorbar": {
             "outlinewidth": 0,
             "ticks": ""
            },
            "colorscale": [
             [
              0,
              "#0d0887"
             ],
             [
              0.1111111111111111,
              "#46039f"
             ],
             [
              0.2222222222222222,
              "#7201a8"
             ],
             [
              0.3333333333333333,
              "#9c179e"
             ],
             [
              0.4444444444444444,
              "#bd3786"
             ],
             [
              0.5555555555555556,
              "#d8576b"
             ],
             [
              0.6666666666666666,
              "#ed7953"
             ],
             [
              0.7777777777777778,
              "#fb9f3a"
             ],
             [
              0.8888888888888888,
              "#fdca26"
             ],
             [
              1,
              "#f0f921"
             ]
            ],
            "type": "histogram2d"
           }
          ],
          "histogram2dcontour": [
           {
            "colorbar": {
             "outlinewidth": 0,
             "ticks": ""
            },
            "colorscale": [
             [
              0,
              "#0d0887"
             ],
             [
              0.1111111111111111,
              "#46039f"
             ],
             [
              0.2222222222222222,
              "#7201a8"
             ],
             [
              0.3333333333333333,
              "#9c179e"
             ],
             [
              0.4444444444444444,
              "#bd3786"
             ],
             [
              0.5555555555555556,
              "#d8576b"
             ],
             [
              0.6666666666666666,
              "#ed7953"
             ],
             [
              0.7777777777777778,
              "#fb9f3a"
             ],
             [
              0.8888888888888888,
              "#fdca26"
             ],
             [
              1,
              "#f0f921"
             ]
            ],
            "type": "histogram2dcontour"
           }
          ],
          "mesh3d": [
           {
            "colorbar": {
             "outlinewidth": 0,
             "ticks": ""
            },
            "type": "mesh3d"
           }
          ],
          "parcoords": [
           {
            "line": {
             "colorbar": {
              "outlinewidth": 0,
              "ticks": ""
             }
            },
            "type": "parcoords"
           }
          ],
          "pie": [
           {
            "automargin": true,
            "type": "pie"
           }
          ],
          "scatter": [
           {
            "fillpattern": {
             "fillmode": "overlay",
             "size": 10,
             "solidity": 0.2
            },
            "type": "scatter"
           }
          ],
          "scatter3d": [
           {
            "line": {
             "colorbar": {
              "outlinewidth": 0,
              "ticks": ""
             }
            },
            "marker": {
             "colorbar": {
              "outlinewidth": 0,
              "ticks": ""
             }
            },
            "type": "scatter3d"
           }
          ],
          "scattercarpet": [
           {
            "marker": {
             "colorbar": {
              "outlinewidth": 0,
              "ticks": ""
             }
            },
            "type": "scattercarpet"
           }
          ],
          "scattergeo": [
           {
            "marker": {
             "colorbar": {
              "outlinewidth": 0,
              "ticks": ""
             }
            },
            "type": "scattergeo"
           }
          ],
          "scattergl": [
           {
            "marker": {
             "colorbar": {
              "outlinewidth": 0,
              "ticks": ""
             }
            },
            "type": "scattergl"
           }
          ],
          "scattermapbox": [
           {
            "marker": {
             "colorbar": {
              "outlinewidth": 0,
              "ticks": ""
             }
            },
            "type": "scattermapbox"
           }
          ],
          "scatterpolar": [
           {
            "marker": {
             "colorbar": {
              "outlinewidth": 0,
              "ticks": ""
             }
            },
            "type": "scatterpolar"
           }
          ],
          "scatterpolargl": [
           {
            "marker": {
             "colorbar": {
              "outlinewidth": 0,
              "ticks": ""
             }
            },
            "type": "scatterpolargl"
           }
          ],
          "scatterternary": [
           {
            "marker": {
             "colorbar": {
              "outlinewidth": 0,
              "ticks": ""
             }
            },
            "type": "scatterternary"
           }
          ],
          "surface": [
           {
            "colorbar": {
             "outlinewidth": 0,
             "ticks": ""
            },
            "colorscale": [
             [
              0,
              "#0d0887"
             ],
             [
              0.1111111111111111,
              "#46039f"
             ],
             [
              0.2222222222222222,
              "#7201a8"
             ],
             [
              0.3333333333333333,
              "#9c179e"
             ],
             [
              0.4444444444444444,
              "#bd3786"
             ],
             [
              0.5555555555555556,
              "#d8576b"
             ],
             [
              0.6666666666666666,
              "#ed7953"
             ],
             [
              0.7777777777777778,
              "#fb9f3a"
             ],
             [
              0.8888888888888888,
              "#fdca26"
             ],
             [
              1,
              "#f0f921"
             ]
            ],
            "type": "surface"
           }
          ],
          "table": [
           {
            "cells": {
             "fill": {
              "color": "#EBF0F8"
             },
             "line": {
              "color": "white"
             }
            },
            "header": {
             "fill": {
              "color": "#C8D4E3"
             },
             "line": {
              "color": "white"
             }
            },
            "type": "table"
           }
          ]
         },
         "layout": {
          "annotationdefaults": {
           "arrowcolor": "#2a3f5f",
           "arrowhead": 0,
           "arrowwidth": 1
          },
          "autotypenumbers": "strict",
          "coloraxis": {
           "colorbar": {
            "outlinewidth": 0,
            "ticks": ""
           }
          },
          "colorscale": {
           "diverging": [
            [
             0,
             "#8e0152"
            ],
            [
             0.1,
             "#c51b7d"
            ],
            [
             0.2,
             "#de77ae"
            ],
            [
             0.3,
             "#f1b6da"
            ],
            [
             0.4,
             "#fde0ef"
            ],
            [
             0.5,
             "#f7f7f7"
            ],
            [
             0.6,
             "#e6f5d0"
            ],
            [
             0.7,
             "#b8e186"
            ],
            [
             0.8,
             "#7fbc41"
            ],
            [
             0.9,
             "#4d9221"
            ],
            [
             1,
             "#276419"
            ]
           ],
           "sequential": [
            [
             0,
             "#0d0887"
            ],
            [
             0.1111111111111111,
             "#46039f"
            ],
            [
             0.2222222222222222,
             "#7201a8"
            ],
            [
             0.3333333333333333,
             "#9c179e"
            ],
            [
             0.4444444444444444,
             "#bd3786"
            ],
            [
             0.5555555555555556,
             "#d8576b"
            ],
            [
             0.6666666666666666,
             "#ed7953"
            ],
            [
             0.7777777777777778,
             "#fb9f3a"
            ],
            [
             0.8888888888888888,
             "#fdca26"
            ],
            [
             1,
             "#f0f921"
            ]
           ],
           "sequentialminus": [
            [
             0,
             "#0d0887"
            ],
            [
             0.1111111111111111,
             "#46039f"
            ],
            [
             0.2222222222222222,
             "#7201a8"
            ],
            [
             0.3333333333333333,
             "#9c179e"
            ],
            [
             0.4444444444444444,
             "#bd3786"
            ],
            [
             0.5555555555555556,
             "#d8576b"
            ],
            [
             0.6666666666666666,
             "#ed7953"
            ],
            [
             0.7777777777777778,
             "#fb9f3a"
            ],
            [
             0.8888888888888888,
             "#fdca26"
            ],
            [
             1,
             "#f0f921"
            ]
           ]
          },
          "colorway": [
           "#636efa",
           "#EF553B",
           "#00cc96",
           "#ab63fa",
           "#FFA15A",
           "#19d3f3",
           "#FF6692",
           "#B6E880",
           "#FF97FF",
           "#FECB52"
          ],
          "font": {
           "color": "#2a3f5f"
          },
          "geo": {
           "bgcolor": "white",
           "lakecolor": "white",
           "landcolor": "#E5ECF6",
           "showlakes": true,
           "showland": true,
           "subunitcolor": "white"
          },
          "hoverlabel": {
           "align": "left"
          },
          "hovermode": "closest",
          "mapbox": {
           "style": "light"
          },
          "paper_bgcolor": "white",
          "plot_bgcolor": "#E5ECF6",
          "polar": {
           "angularaxis": {
            "gridcolor": "white",
            "linecolor": "white",
            "ticks": ""
           },
           "bgcolor": "#E5ECF6",
           "radialaxis": {
            "gridcolor": "white",
            "linecolor": "white",
            "ticks": ""
           }
          },
          "scene": {
           "xaxis": {
            "backgroundcolor": "#E5ECF6",
            "gridcolor": "white",
            "gridwidth": 2,
            "linecolor": "white",
            "showbackground": true,
            "ticks": "",
            "zerolinecolor": "white"
           },
           "yaxis": {
            "backgroundcolor": "#E5ECF6",
            "gridcolor": "white",
            "gridwidth": 2,
            "linecolor": "white",
            "showbackground": true,
            "ticks": "",
            "zerolinecolor": "white"
           },
           "zaxis": {
            "backgroundcolor": "#E5ECF6",
            "gridcolor": "white",
            "gridwidth": 2,
            "linecolor": "white",
            "showbackground": true,
            "ticks": "",
            "zerolinecolor": "white"
           }
          },
          "shapedefaults": {
           "line": {
            "color": "#2a3f5f"
           }
          },
          "ternary": {
           "aaxis": {
            "gridcolor": "white",
            "linecolor": "white",
            "ticks": ""
           },
           "baxis": {
            "gridcolor": "white",
            "linecolor": "white",
            "ticks": ""
           },
           "bgcolor": "#E5ECF6",
           "caxis": {
            "gridcolor": "white",
            "linecolor": "white",
            "ticks": ""
           }
          },
          "title": {
           "x": 0.05
          },
          "xaxis": {
           "automargin": true,
           "gridcolor": "white",
           "linecolor": "white",
           "ticks": "",
           "title": {
            "standoff": 15
           },
           "zerolinecolor": "white",
           "zerolinewidth": 2
          },
          "yaxis": {
           "automargin": true,
           "gridcolor": "white",
           "linecolor": "white",
           "ticks": "",
           "title": {
            "standoff": 15
           },
           "zerolinecolor": "white",
           "zerolinewidth": 2
          }
         }
        },
        "title": {
         "text": "Répartition de la production électrique dans la journée - 2.1 - Coût de la journée : 979 k€"
        },
        "yaxis": {
         "range": [
          0,
          44000
         ],
         "title": {
          "text": "MW"
         }
        },
        "yaxis2": {
         "anchor": "free",
         "overlaying": "y",
         "position": 1,
         "range": [
          1.3363333333333334,
          1.9002500000000002
         ],
         "side": "right",
         "title": {
          "text": "€/MWh"
         }
        }
       }
      }
     },
     "metadata": {},
     "output_type": "display_data"
    }
   ],
   "source": [
    "from utils_viz import df_results2\n",
    "df = df_results2(dict_N=dict_N,dict_P=dict_P,dict_XX=dict_Thermique,consommation=consommation)\n",
    "fig = Results_viz(df,dict_Thermique)\n",
    "A = \"2.1\"\n",
    "fig.update_layout(\n",
    "    title = f\"Répartition de la production électrique dans la journée - {A} - Coût de la journée : {int(np.around(model.ObjVal/1000,0))} k€\"\n",
    ")\n",
    "fig.show()\n",
    "fig.write_html(f\"HTML/Répartition de la production électrique dans la journée - {A}.html\")\n",
    "df.to_csv(f\"CSV/Résultats - {A}.csv\",index=False)"
   ]
  },
  {
   "cell_type": "markdown",
   "metadata": {},
   "source": [
    "### 2.2 Coût du démarrage\n",
    "\n",
    "Pour ce problème on modifie les variables de décisions et on y adapte les contraintes.\n",
    "\n",
    "Variables de décision :\n",
    "Pour une type de centrale $X \\in [A,B,C]$, et une heure de la journée $t\\in {1,\\dots,24}$, on définit :\n",
    "$$\n",
    "N_t^{(X)} = \\text{Nombre de centrales } X \\text{allumées à } t\\text{ h, (ENTIER)}\n",
    "$$\n",
    "$$\n",
    "N_{start,t}^{(X)} = \\text{Nombre de centrales } X \\text{démarrées à } t\\text{ h, (ENTIER)}\n",
    "$$\n",
    "$$\n",
    "P_t^{(X)} = \\text{Puissance totale produite par les centrales } X \\text{ à } t\\text{ h, (CONTINUE)}\n",
    "$$\n",
    "Contraintes (par convention $N_{-1}^{(X)}=0$):\n",
    "$$\n",
    "N_t^{(X)} P_{min}^{(X)} \\leq P_t^{(X)} \\leq N_t^{(X)} P_{max}^{(X)} \\text{ ,  Contraintes sur la puissance totale de chaque centrale}\n",
    "$$\n",
    "- Si la centrale fonctionne alors elle a été démarée ou elle fonctionne déjà.\n",
    "$$\n",
    "N_t^{(X)} \\leq N_{start,t}^{(X)}+N_{t-1}^{(X)} \\text{ , (2.2.1) Contraintes sur le nombre de centrales allumées possible}\n",
    "$$\n",
    "- Le nombre de centrale démarrable est majorée.\n",
    "$$\n",
    "N_{start,t}^{(X)} \\leq N^{(X)}-N_{t-1}^{(X)} \\text{   , (2.2.2)  Contraintes sur le nombre de centrales démarrable possible}\n",
    "$$\n",
    "$$\n",
    "\\sum_X P_t^{(X)} = D_t \\text{  ,  Contrainte équilibre offre-demande}\n",
    "$$\n",
    "Objectif :\n",
    "$$\n",
    "\\text{Minimiser} \\sum_X \\sum_T (P_t^{(X)} - P_{min}^{(X)}N_t^{(X)}) C_{MWh}^{(X)} + N_t^{(X)}C_{base}^{(X)} + N_{start,t}^{(X)}C_{start}^{(X)}\n",
    "$$"
   ]
  },
  {
   "cell_type": "code",
   "execution_count": 10,
   "metadata": {},
   "outputs": [
    {
     "name": "stdout",
     "output_type": "stream",
     "text": [
      "Gurobi Optimizer version 9.5.2 build v9.5.2rc0 (win64)\n",
      "Thread count: 4 physical cores, 8 logical processors, using up to 8 threads\n",
      "Optimize a model with 312 rows, 216 columns and 714 nonzeros\n",
      "Model fingerprint: 0xafd71f6e\n",
      "Variable types: 72 continuous, 144 integer (0 binary)\n",
      "Coefficient statistics:\n",
      "  Matrix range     [1e+00, 4e+03]\n",
      "  Objective range  [1e+00, 2e+03]\n",
      "  Bounds range     [5e+00, 1e+01]\n",
      "  RHS range        [5e+00, 4e+04]\n",
      "Found heuristic solution: objective 1474375.0000\n",
      "Presolve removed 108 rows and 30 columns\n",
      "Presolve time: 0.00s\n",
      "Presolved: 204 rows, 186 columns, 522 nonzeros\n",
      "Variable types: 42 continuous, 144 integer (0 binary)\n",
      "Found heuristic solution: objective 1378930.0000\n",
      "\n",
      "Root relaxation: objective 1.011257e+06, 52 iterations, 0.00 seconds (0.00 work units)\n",
      "\n",
      "    Nodes    |    Current Node    |     Objective Bounds      |     Work\n",
      " Expl Unexpl |  Obj  Depth IntInf | Incumbent    BestBd   Gap | It/Node Time\n",
      "\n",
      "     0     0 1011257.14    0   26 1378930.00 1011257.14  26.7%     -    0s\n",
      "H    0     0                    1019660.0000 1011257.14  0.82%     -    0s\n",
      "H    0     0                    1018090.0000 1011257.14  0.67%     -    0s\n",
      "H    0     0                    1016340.0000 1011257.14  0.50%     -    0s\n",
      "H    0     0                    1016100.0000 1011257.14  0.48%     -    0s\n",
      "     0     0 1014233.33    0    4 1016100.00 1014233.33  0.18%     -    0s\n",
      "H    0     0                    1015860.0000 1014233.33  0.16%     -    0s\n",
      "H    0     0                    1014650.0000 1014233.33  0.04%     -    0s\n",
      "H    0     0                    1014400.0000 1014233.33  0.02%     -    0s\n",
      "\n",
      "Cutting planes:\n",
      "  Gomory: 3\n",
      "  MIR: 27\n",
      "  StrongCG: 2\n",
      "\n",
      "Explored 1 nodes (92 simplex iterations) in 0.04 seconds (0.00 work units)\n",
      "Thread count was 8 (of 8 available processors)\n",
      "\n",
      "Solution count 9: 1.0144e+06 1.01465e+06 1.01586e+06 ... 1.47438e+06\n",
      "\n",
      "Optimal solution found (tolerance 1.00e-04)\n",
      "Best objective 1.014400000000e+06, best bound 1.014400000000e+06, gap 0.0000%\n"
     ]
    }
   ],
   "source": [
    "from utils import variable_decision_thermique_avec_demarrage, contraintes_demarrage\n",
    "\n",
    "model = gp.Model(name=\"2.2\")\n",
    "\n",
    "dict_N, dict_Nstart, dict_P = variable_decision_thermique_avec_demarrage(model,dict_Thermique)\n",
    "\n",
    "model.setObjective(gp.quicksum([dict_N[element[0],element[1]] * (dict_Thermique[element[0]].Cbase - dict_Thermique[element[0]].Pmin*dict_Thermique[element[0]].Cmwh) + dict_P[element[0],element[1]] * dict_Thermique[element[0]].Cmwh + dict_Nstart[element[0],element[1]]*dict_Thermique[element[0]].Cstart for element in product(dict_Thermique,range(24))]), gp.GRB.MINIMIZE)\n",
    "\n",
    "contraintes_demarrage(model,dict_N,dict_Nstart,dict_Thermique,cyclique=False)\n",
    "contraintes_puissance_thermique(model,dict_N,dict_P,dict_Thermique)\n",
    "contraintes_equilibre(model,dict_P,dict_Thermique,consommation)\n",
    "\n",
    "model.optimize()"
   ]
  },
  {
   "cell_type": "code",
   "execution_count": 11,
   "metadata": {},
   "outputs": [
    {
     "data": {
      "application/vnd.plotly.v1+json": {
       "config": {
        "plotlyServerURL": "https://plot.ly"
       },
       "data": [
        {
         "name": "Production A",
         "stackgroup": "one",
         "type": "scatter",
         "x": [
          0,
          1,
          2,
          3,
          4,
          5,
          6,
          7,
          8,
          9,
          10,
          11,
          12,
          13,
          14,
          15,
          16,
          17,
          18,
          19,
          20,
          21,
          22,
          23
         ],
         "y": [
          11500,
          11500,
          11500,
          11500,
          11500,
          11500,
          16000,
          16000,
          16000,
          11000,
          11000,
          11000,
          11000,
          11000,
          11000,
          22500,
          22500,
          22500,
          11250,
          11250,
          11250,
          11250,
          11250,
          11250
         ]
        },
        {
         "name": "Production B",
         "stackgroup": "one",
         "type": "scatter",
         "x": [
          0,
          1,
          2,
          3,
          4,
          5,
          6,
          7,
          8,
          9,
          10,
          11,
          12,
          13,
          14,
          15,
          16,
          17,
          18,
          19,
          20,
          21,
          22,
          23
         ],
         "y": [
          3500,
          3500,
          3500,
          3500,
          3500,
          3500,
          14000,
          14000,
          14000,
          14000,
          14000,
          14000,
          14000,
          14000,
          14000,
          17500,
          17500,
          17500,
          15750,
          15750,
          15750,
          15750,
          15750,
          15750
         ]
        },
        {
         "name": "Production C",
         "stackgroup": "one",
         "type": "scatter",
         "x": [
          0,
          1,
          2,
          3,
          4,
          5,
          6,
          7,
          8,
          9,
          10,
          11,
          12,
          13,
          14,
          15,
          16,
          17,
          18,
          19,
          20,
          21,
          22,
          23
         ],
         "y": [
          0,
          0,
          0,
          0,
          0,
          0,
          0,
          0,
          0,
          0,
          0,
          0,
          0,
          0,
          0,
          0,
          0,
          0,
          0,
          0,
          0,
          0,
          0,
          0
         ]
        },
        {
         "line": {
          "color": "red",
          "dash": "dash"
         },
         "name": "Production total",
         "type": "scatter",
         "x": [
          0,
          1,
          2,
          3,
          4,
          5,
          6,
          7,
          8,
          9,
          10,
          11,
          12,
          13,
          14,
          15,
          16,
          17,
          18,
          19,
          20,
          21,
          22,
          23
         ],
         "y": [
          15000,
          15000,
          15000,
          15000,
          15000,
          15000,
          30000,
          30000,
          30000,
          25000,
          25000,
          25000,
          25000,
          25000,
          25000,
          40000,
          40000,
          40000,
          27000,
          27000,
          27000,
          27000,
          27000,
          27000
         ]
        },
        {
         "line": {
          "color": "black"
         },
         "name": "Coût MWh",
         "type": "scatter",
         "x": [
          0,
          1,
          2,
          3,
          4,
          5,
          6,
          7,
          8,
          9,
          10,
          11,
          12,
          13,
          14,
          15,
          16,
          17,
          18,
          19,
          20,
          21,
          22,
          23
         ],
         "y": [
          3.14,
          1.4066666666666667,
          1.4066666666666667,
          1.4066666666666667,
          1.4066666666666667,
          1.4066666666666667,
          1.8533333333333333,
          1.6533333333333333,
          1.6533333333333333,
          1.584,
          1.584,
          1.584,
          1.584,
          1.584,
          1.584,
          1.7775,
          1.7275,
          1.7275,
          1.6055555555555556,
          1.6055555555555556,
          1.6055555555555556,
          1.6055555555555556,
          1.6055555555555556,
          1.6055555555555556
         ],
         "yaxis": "y2"
        }
       ],
       "layout": {
        "hovermode": "x",
        "legend": {
         "orientation": "h",
         "x": 1,
         "xanchor": "right",
         "y": 1.02,
         "yanchor": "bottom"
        },
        "template": {
         "data": {
          "bar": [
           {
            "error_x": {
             "color": "#2a3f5f"
            },
            "error_y": {
             "color": "#2a3f5f"
            },
            "marker": {
             "line": {
              "color": "#E5ECF6",
              "width": 0.5
             },
             "pattern": {
              "fillmode": "overlay",
              "size": 10,
              "solidity": 0.2
             }
            },
            "type": "bar"
           }
          ],
          "barpolar": [
           {
            "marker": {
             "line": {
              "color": "#E5ECF6",
              "width": 0.5
             },
             "pattern": {
              "fillmode": "overlay",
              "size": 10,
              "solidity": 0.2
             }
            },
            "type": "barpolar"
           }
          ],
          "carpet": [
           {
            "aaxis": {
             "endlinecolor": "#2a3f5f",
             "gridcolor": "white",
             "linecolor": "white",
             "minorgridcolor": "white",
             "startlinecolor": "#2a3f5f"
            },
            "baxis": {
             "endlinecolor": "#2a3f5f",
             "gridcolor": "white",
             "linecolor": "white",
             "minorgridcolor": "white",
             "startlinecolor": "#2a3f5f"
            },
            "type": "carpet"
           }
          ],
          "choropleth": [
           {
            "colorbar": {
             "outlinewidth": 0,
             "ticks": ""
            },
            "type": "choropleth"
           }
          ],
          "contour": [
           {
            "colorbar": {
             "outlinewidth": 0,
             "ticks": ""
            },
            "colorscale": [
             [
              0,
              "#0d0887"
             ],
             [
              0.1111111111111111,
              "#46039f"
             ],
             [
              0.2222222222222222,
              "#7201a8"
             ],
             [
              0.3333333333333333,
              "#9c179e"
             ],
             [
              0.4444444444444444,
              "#bd3786"
             ],
             [
              0.5555555555555556,
              "#d8576b"
             ],
             [
              0.6666666666666666,
              "#ed7953"
             ],
             [
              0.7777777777777778,
              "#fb9f3a"
             ],
             [
              0.8888888888888888,
              "#fdca26"
             ],
             [
              1,
              "#f0f921"
             ]
            ],
            "type": "contour"
           }
          ],
          "contourcarpet": [
           {
            "colorbar": {
             "outlinewidth": 0,
             "ticks": ""
            },
            "type": "contourcarpet"
           }
          ],
          "heatmap": [
           {
            "colorbar": {
             "outlinewidth": 0,
             "ticks": ""
            },
            "colorscale": [
             [
              0,
              "#0d0887"
             ],
             [
              0.1111111111111111,
              "#46039f"
             ],
             [
              0.2222222222222222,
              "#7201a8"
             ],
             [
              0.3333333333333333,
              "#9c179e"
             ],
             [
              0.4444444444444444,
              "#bd3786"
             ],
             [
              0.5555555555555556,
              "#d8576b"
             ],
             [
              0.6666666666666666,
              "#ed7953"
             ],
             [
              0.7777777777777778,
              "#fb9f3a"
             ],
             [
              0.8888888888888888,
              "#fdca26"
             ],
             [
              1,
              "#f0f921"
             ]
            ],
            "type": "heatmap"
           }
          ],
          "heatmapgl": [
           {
            "colorbar": {
             "outlinewidth": 0,
             "ticks": ""
            },
            "colorscale": [
             [
              0,
              "#0d0887"
             ],
             [
              0.1111111111111111,
              "#46039f"
             ],
             [
              0.2222222222222222,
              "#7201a8"
             ],
             [
              0.3333333333333333,
              "#9c179e"
             ],
             [
              0.4444444444444444,
              "#bd3786"
             ],
             [
              0.5555555555555556,
              "#d8576b"
             ],
             [
              0.6666666666666666,
              "#ed7953"
             ],
             [
              0.7777777777777778,
              "#fb9f3a"
             ],
             [
              0.8888888888888888,
              "#fdca26"
             ],
             [
              1,
              "#f0f921"
             ]
            ],
            "type": "heatmapgl"
           }
          ],
          "histogram": [
           {
            "marker": {
             "pattern": {
              "fillmode": "overlay",
              "size": 10,
              "solidity": 0.2
             }
            },
            "type": "histogram"
           }
          ],
          "histogram2d": [
           {
            "colorbar": {
             "outlinewidth": 0,
             "ticks": ""
            },
            "colorscale": [
             [
              0,
              "#0d0887"
             ],
             [
              0.1111111111111111,
              "#46039f"
             ],
             [
              0.2222222222222222,
              "#7201a8"
             ],
             [
              0.3333333333333333,
              "#9c179e"
             ],
             [
              0.4444444444444444,
              "#bd3786"
             ],
             [
              0.5555555555555556,
              "#d8576b"
             ],
             [
              0.6666666666666666,
              "#ed7953"
             ],
             [
              0.7777777777777778,
              "#fb9f3a"
             ],
             [
              0.8888888888888888,
              "#fdca26"
             ],
             [
              1,
              "#f0f921"
             ]
            ],
            "type": "histogram2d"
           }
          ],
          "histogram2dcontour": [
           {
            "colorbar": {
             "outlinewidth": 0,
             "ticks": ""
            },
            "colorscale": [
             [
              0,
              "#0d0887"
             ],
             [
              0.1111111111111111,
              "#46039f"
             ],
             [
              0.2222222222222222,
              "#7201a8"
             ],
             [
              0.3333333333333333,
              "#9c179e"
             ],
             [
              0.4444444444444444,
              "#bd3786"
             ],
             [
              0.5555555555555556,
              "#d8576b"
             ],
             [
              0.6666666666666666,
              "#ed7953"
             ],
             [
              0.7777777777777778,
              "#fb9f3a"
             ],
             [
              0.8888888888888888,
              "#fdca26"
             ],
             [
              1,
              "#f0f921"
             ]
            ],
            "type": "histogram2dcontour"
           }
          ],
          "mesh3d": [
           {
            "colorbar": {
             "outlinewidth": 0,
             "ticks": ""
            },
            "type": "mesh3d"
           }
          ],
          "parcoords": [
           {
            "line": {
             "colorbar": {
              "outlinewidth": 0,
              "ticks": ""
             }
            },
            "type": "parcoords"
           }
          ],
          "pie": [
           {
            "automargin": true,
            "type": "pie"
           }
          ],
          "scatter": [
           {
            "fillpattern": {
             "fillmode": "overlay",
             "size": 10,
             "solidity": 0.2
            },
            "type": "scatter"
           }
          ],
          "scatter3d": [
           {
            "line": {
             "colorbar": {
              "outlinewidth": 0,
              "ticks": ""
             }
            },
            "marker": {
             "colorbar": {
              "outlinewidth": 0,
              "ticks": ""
             }
            },
            "type": "scatter3d"
           }
          ],
          "scattercarpet": [
           {
            "marker": {
             "colorbar": {
              "outlinewidth": 0,
              "ticks": ""
             }
            },
            "type": "scattercarpet"
           }
          ],
          "scattergeo": [
           {
            "marker": {
             "colorbar": {
              "outlinewidth": 0,
              "ticks": ""
             }
            },
            "type": "scattergeo"
           }
          ],
          "scattergl": [
           {
            "marker": {
             "colorbar": {
              "outlinewidth": 0,
              "ticks": ""
             }
            },
            "type": "scattergl"
           }
          ],
          "scattermapbox": [
           {
            "marker": {
             "colorbar": {
              "outlinewidth": 0,
              "ticks": ""
             }
            },
            "type": "scattermapbox"
           }
          ],
          "scatterpolar": [
           {
            "marker": {
             "colorbar": {
              "outlinewidth": 0,
              "ticks": ""
             }
            },
            "type": "scatterpolar"
           }
          ],
          "scatterpolargl": [
           {
            "marker": {
             "colorbar": {
              "outlinewidth": 0,
              "ticks": ""
             }
            },
            "type": "scatterpolargl"
           }
          ],
          "scatterternary": [
           {
            "marker": {
             "colorbar": {
              "outlinewidth": 0,
              "ticks": ""
             }
            },
            "type": "scatterternary"
           }
          ],
          "surface": [
           {
            "colorbar": {
             "outlinewidth": 0,
             "ticks": ""
            },
            "colorscale": [
             [
              0,
              "#0d0887"
             ],
             [
              0.1111111111111111,
              "#46039f"
             ],
             [
              0.2222222222222222,
              "#7201a8"
             ],
             [
              0.3333333333333333,
              "#9c179e"
             ],
             [
              0.4444444444444444,
              "#bd3786"
             ],
             [
              0.5555555555555556,
              "#d8576b"
             ],
             [
              0.6666666666666666,
              "#ed7953"
             ],
             [
              0.7777777777777778,
              "#fb9f3a"
             ],
             [
              0.8888888888888888,
              "#fdca26"
             ],
             [
              1,
              "#f0f921"
             ]
            ],
            "type": "surface"
           }
          ],
          "table": [
           {
            "cells": {
             "fill": {
              "color": "#EBF0F8"
             },
             "line": {
              "color": "white"
             }
            },
            "header": {
             "fill": {
              "color": "#C8D4E3"
             },
             "line": {
              "color": "white"
             }
            },
            "type": "table"
           }
          ]
         },
         "layout": {
          "annotationdefaults": {
           "arrowcolor": "#2a3f5f",
           "arrowhead": 0,
           "arrowwidth": 1
          },
          "autotypenumbers": "strict",
          "coloraxis": {
           "colorbar": {
            "outlinewidth": 0,
            "ticks": ""
           }
          },
          "colorscale": {
           "diverging": [
            [
             0,
             "#8e0152"
            ],
            [
             0.1,
             "#c51b7d"
            ],
            [
             0.2,
             "#de77ae"
            ],
            [
             0.3,
             "#f1b6da"
            ],
            [
             0.4,
             "#fde0ef"
            ],
            [
             0.5,
             "#f7f7f7"
            ],
            [
             0.6,
             "#e6f5d0"
            ],
            [
             0.7,
             "#b8e186"
            ],
            [
             0.8,
             "#7fbc41"
            ],
            [
             0.9,
             "#4d9221"
            ],
            [
             1,
             "#276419"
            ]
           ],
           "sequential": [
            [
             0,
             "#0d0887"
            ],
            [
             0.1111111111111111,
             "#46039f"
            ],
            [
             0.2222222222222222,
             "#7201a8"
            ],
            [
             0.3333333333333333,
             "#9c179e"
            ],
            [
             0.4444444444444444,
             "#bd3786"
            ],
            [
             0.5555555555555556,
             "#d8576b"
            ],
            [
             0.6666666666666666,
             "#ed7953"
            ],
            [
             0.7777777777777778,
             "#fb9f3a"
            ],
            [
             0.8888888888888888,
             "#fdca26"
            ],
            [
             1,
             "#f0f921"
            ]
           ],
           "sequentialminus": [
            [
             0,
             "#0d0887"
            ],
            [
             0.1111111111111111,
             "#46039f"
            ],
            [
             0.2222222222222222,
             "#7201a8"
            ],
            [
             0.3333333333333333,
             "#9c179e"
            ],
            [
             0.4444444444444444,
             "#bd3786"
            ],
            [
             0.5555555555555556,
             "#d8576b"
            ],
            [
             0.6666666666666666,
             "#ed7953"
            ],
            [
             0.7777777777777778,
             "#fb9f3a"
            ],
            [
             0.8888888888888888,
             "#fdca26"
            ],
            [
             1,
             "#f0f921"
            ]
           ]
          },
          "colorway": [
           "#636efa",
           "#EF553B",
           "#00cc96",
           "#ab63fa",
           "#FFA15A",
           "#19d3f3",
           "#FF6692",
           "#B6E880",
           "#FF97FF",
           "#FECB52"
          ],
          "font": {
           "color": "#2a3f5f"
          },
          "geo": {
           "bgcolor": "white",
           "lakecolor": "white",
           "landcolor": "#E5ECF6",
           "showlakes": true,
           "showland": true,
           "subunitcolor": "white"
          },
          "hoverlabel": {
           "align": "left"
          },
          "hovermode": "closest",
          "mapbox": {
           "style": "light"
          },
          "paper_bgcolor": "white",
          "plot_bgcolor": "#E5ECF6",
          "polar": {
           "angularaxis": {
            "gridcolor": "white",
            "linecolor": "white",
            "ticks": ""
           },
           "bgcolor": "#E5ECF6",
           "radialaxis": {
            "gridcolor": "white",
            "linecolor": "white",
            "ticks": ""
           }
          },
          "scene": {
           "xaxis": {
            "backgroundcolor": "#E5ECF6",
            "gridcolor": "white",
            "gridwidth": 2,
            "linecolor": "white",
            "showbackground": true,
            "ticks": "",
            "zerolinecolor": "white"
           },
           "yaxis": {
            "backgroundcolor": "#E5ECF6",
            "gridcolor": "white",
            "gridwidth": 2,
            "linecolor": "white",
            "showbackground": true,
            "ticks": "",
            "zerolinecolor": "white"
           },
           "zaxis": {
            "backgroundcolor": "#E5ECF6",
            "gridcolor": "white",
            "gridwidth": 2,
            "linecolor": "white",
            "showbackground": true,
            "ticks": "",
            "zerolinecolor": "white"
           }
          },
          "shapedefaults": {
           "line": {
            "color": "#2a3f5f"
           }
          },
          "ternary": {
           "aaxis": {
            "gridcolor": "white",
            "linecolor": "white",
            "ticks": ""
           },
           "baxis": {
            "gridcolor": "white",
            "linecolor": "white",
            "ticks": ""
           },
           "bgcolor": "#E5ECF6",
           "caxis": {
            "gridcolor": "white",
            "linecolor": "white",
            "ticks": ""
           }
          },
          "title": {
           "x": 0.05
          },
          "xaxis": {
           "automargin": true,
           "gridcolor": "white",
           "linecolor": "white",
           "ticks": "",
           "title": {
            "standoff": 15
           },
           "zerolinecolor": "white",
           "zerolinewidth": 2
          },
          "yaxis": {
           "automargin": true,
           "gridcolor": "white",
           "linecolor": "white",
           "ticks": "",
           "title": {
            "standoff": 15
           },
           "zerolinecolor": "white",
           "zerolinewidth": 2
          }
         }
        },
        "title": {
         "text": "Répartition de la production électrique dans la journée - 2.2 - Coût de la journée : 1014 k€"
        },
        "yaxis": {
         "range": [
          0,
          44000
         ],
         "title": {
          "text": "MW"
         }
        },
        "yaxis2": {
         "anchor": "free",
         "overlaying": "y",
         "position": 1,
         "range": [
          1.3363333333333334,
          3.4540000000000006
         ],
         "side": "right",
         "title": {
          "text": "€/MWh"
         }
        }
       }
      }
     },
     "metadata": {},
     "output_type": "display_data"
    }
   ],
   "source": [
    "from utils_viz import df_results22\n",
    "df = df_results22(dict_N=dict_N,dict_P=dict_P,dict_Nstart=dict_Nstart,dict_XX=dict_Thermique,consommation=consommation)\n",
    "fig = Results_viz(df,dict_Thermique)\n",
    "A = \"2.2\"\n",
    "fig.update_layout(\n",
    "    title = f\"Répartition de la production électrique dans la journée - {A} - Coût de la journée : {int(np.around(model.ObjVal/1000,0))} k€\"\n",
    ")\n",
    "fig.show()\n",
    "fig.write_html(f\"HTML/Répartition de la production électrique dans la journée - {A}.html\")\n",
    "df.to_csv(f\"CSV/Résultats - {A}.csv\",index=False)"
   ]
  },
  {
   "cell_type": "markdown",
   "metadata": {},
   "source": [
    "## 3 Réserve de puissance\n",
    "\n",
    "Pour intégrer la réserve de puissance on ajoute la contrainte :\n",
    "$$\n",
    "\\sum_X N_t^{(X)}P_{max}^{(X)}\\geq D_t\\times 1,15\n",
    "$$"
   ]
  },
  {
   "cell_type": "code",
   "execution_count": 12,
   "metadata": {},
   "outputs": [
    {
     "name": "stdout",
     "output_type": "stream",
     "text": [
      "Gurobi Optimizer version 9.5.2 build v9.5.2rc0 (win64)\n",
      "Thread count: 4 physical cores, 8 logical processors, using up to 8 threads\n",
      "Optimize a model with 336 rows, 216 columns and 786 nonzeros\n",
      "Model fingerprint: 0x11b5f8ee\n",
      "Variable types: 72 continuous, 144 integer (0 binary)\n",
      "Coefficient statistics:\n",
      "  Matrix range     [1e+00, 4e+03]\n",
      "  Objective range  [1e+00, 2e+03]\n",
      "  Bounds range     [5e+00, 1e+01]\n",
      "  RHS range        [5e+00, 5e+04]\n",
      "\n",
      "MIP start from previous solve did not produce a new incumbent solution\n",
      "MIP start from previous solve violates constraint Réserve_de_puissance_à_15 by 4500.000000000\n",
      "\n",
      "Found heuristic solution: objective 1316565.0000\n",
      "Presolve removed 108 rows and 30 columns\n",
      "Presolve time: 0.00s\n",
      "Presolved: 228 rows, 186 columns, 594 nonzeros\n",
      "Found heuristic solution: objective 1229165.0000\n",
      "Variable types: 42 continuous, 144 integer (0 binary)\n",
      "Found heuristic solution: objective 1198245.0000\n",
      "\n",
      "Root relaxation: objective 1.012257e+06, 59 iterations, 0.00 seconds (0.00 work units)\n",
      "\n",
      "    Nodes    |    Current Node    |     Objective Bounds      |     Work\n",
      " Expl Unexpl |  Obj  Depth IntInf | Incumbent    BestBd   Gap | It/Node Time\n",
      "\n",
      "     0     0 1012257.14    0   26 1198245.00 1012257.14  15.5%     -    0s\n",
      "H    0     0                    1020660.0000 1012257.14  0.82%     -    0s\n",
      "H    0     0                    1017340.0000 1012257.14  0.50%     -    0s\n",
      "H    0     0                    1017100.0000 1012257.14  0.48%     -    0s\n",
      "     0     0 1015150.00    0   12 1017100.00 1015150.00  0.19%     -    0s\n",
      "H    0     0                    1016860.0000 1015150.00  0.17%     -    0s\n",
      "H    0     0                    1015725.0000 1015150.00  0.06%     -    0s\n",
      "H    0     0                    1015150.0000 1015150.00  0.00%     -    0s\n",
      "\n",
      "Cutting planes:\n",
      "  Gomory: 1\n",
      "  MIR: 25\n",
      "\n",
      "Explored 1 nodes (94 simplex iterations) in 0.04 seconds (0.00 work units)\n",
      "Thread count was 8 (of 8 available processors)\n",
      "\n",
      "Solution count 9: 1.01515e+06 1.01572e+06 1.01686e+06 ... 1.31657e+06\n",
      "\n",
      "Optimal solution found (tolerance 1.00e-04)\n",
      "Best objective 1.015150000000e+06, best bound 1.015150000000e+06, gap 0.0000%\n"
     ]
    }
   ],
   "source": [
    "from utils import contraintes_reserve_de_puissance\n",
    "\n",
    "contraintes_reserve_de_puissance(model,dict_N,dict_Thermique,consommation)\n",
    "\n",
    "model.optimize()"
   ]
  },
  {
   "cell_type": "code",
   "execution_count": 13,
   "metadata": {},
   "outputs": [
    {
     "data": {
      "application/vnd.plotly.v1+json": {
       "config": {
        "plotlyServerURL": "https://plot.ly"
       },
       "data": [
        {
         "name": "Production A",
         "stackgroup": "one",
         "type": "scatter",
         "x": [
          0,
          1,
          2,
          3,
          4,
          5,
          6,
          7,
          8,
          9,
          10,
          11,
          12,
          13,
          14,
          15,
          16,
          17,
          18,
          19,
          20,
          21,
          22,
          23
         ],
         "y": [
          11500,
          11500,
          11500,
          11500,
          11500,
          11500,
          15999.999999999996,
          15999.999999999996,
          15999.999999999996,
          10999.999999999998,
          10999.999999999998,
          10999.999999999998,
          10999.999999999998,
          10999.999999999998,
          10999.999999999998,
          21249.999999999993,
          21249.999999999993,
          21249.999999999993,
          11249.999999999993,
          11249.999999999993,
          11249.999999999993,
          11249.999999999993,
          11249.999999999993,
          11249.999999999993
         ]
        },
        {
         "name": "Production B",
         "stackgroup": "one",
         "type": "scatter",
         "x": [
          0,
          1,
          2,
          3,
          4,
          5,
          6,
          7,
          8,
          9,
          10,
          11,
          12,
          13,
          14,
          15,
          16,
          17,
          18,
          19,
          20,
          21,
          22,
          23
         ],
         "y": [
          3500.000000000001,
          3500.000000000001,
          3500.000000000001,
          3500.000000000001,
          3500.000000000001,
          3500.000000000001,
          14000.000000000004,
          14000.000000000004,
          14000.000000000004,
          14000.000000000002,
          14000.000000000002,
          14000.000000000002,
          14000.000000000002,
          14000.000000000002,
          14000.000000000002,
          15750.000000000005,
          15750.000000000005,
          15750.000000000005,
          15750.000000000007,
          15750.000000000007,
          15750.000000000007,
          15750.000000000007,
          15750.000000000007,
          15750.000000000007
         ]
        },
        {
         "name": "Production C",
         "stackgroup": "one",
         "type": "scatter",
         "x": [
          0,
          1,
          2,
          3,
          4,
          5,
          6,
          7,
          8,
          9,
          10,
          11,
          12,
          13,
          14,
          15,
          16,
          17,
          18,
          19,
          20,
          21,
          22,
          23
         ],
         "y": [
          0,
          0,
          0,
          0,
          0,
          0,
          0,
          0,
          0,
          0,
          0,
          0,
          0,
          0,
          0,
          3000,
          3000,
          3000,
          0,
          0,
          0,
          0,
          0,
          0
         ]
        },
        {
         "line": {
          "color": "red",
          "dash": "dash"
         },
         "name": "Production total",
         "type": "scatter",
         "x": [
          0,
          1,
          2,
          3,
          4,
          5,
          6,
          7,
          8,
          9,
          10,
          11,
          12,
          13,
          14,
          15,
          16,
          17,
          18,
          19,
          20,
          21,
          22,
          23
         ],
         "y": [
          15000,
          15000,
          15000,
          15000,
          15000,
          15000,
          30000,
          30000,
          30000,
          25000,
          25000,
          25000,
          25000,
          25000,
          25000,
          40000,
          40000,
          40000,
          27000,
          27000,
          27000,
          27000,
          27000,
          27000
         ]
        },
        {
         "line": {
          "color": "black"
         },
         "name": "Coût MWh",
         "type": "scatter",
         "x": [
          0,
          1,
          2,
          3,
          4,
          5,
          6,
          7,
          8,
          9,
          10,
          11,
          12,
          13,
          14,
          15,
          16,
          17,
          18,
          19,
          20,
          21,
          22,
          23
         ],
         "y": [
          3.14,
          1.4066666666666667,
          1.4066666666666667,
          1.4066666666666667,
          1.4066666666666667,
          1.4066666666666667,
          1.8533333333333333,
          1.6533333333333333,
          1.6533333333333333,
          1.584,
          1.584,
          1.584,
          1.584,
          1.584,
          1.584,
          1.78375,
          1.73375,
          1.73375,
          1.6055555555555556,
          1.6055555555555556,
          1.6055555555555556,
          1.6055555555555556,
          1.6055555555555556,
          1.6055555555555556
         ],
         "yaxis": "y2"
        }
       ],
       "layout": {
        "hovermode": "x",
        "legend": {
         "orientation": "h",
         "x": 1,
         "xanchor": "right",
         "y": 1.02,
         "yanchor": "bottom"
        },
        "template": {
         "data": {
          "bar": [
           {
            "error_x": {
             "color": "#2a3f5f"
            },
            "error_y": {
             "color": "#2a3f5f"
            },
            "marker": {
             "line": {
              "color": "#E5ECF6",
              "width": 0.5
             },
             "pattern": {
              "fillmode": "overlay",
              "size": 10,
              "solidity": 0.2
             }
            },
            "type": "bar"
           }
          ],
          "barpolar": [
           {
            "marker": {
             "line": {
              "color": "#E5ECF6",
              "width": 0.5
             },
             "pattern": {
              "fillmode": "overlay",
              "size": 10,
              "solidity": 0.2
             }
            },
            "type": "barpolar"
           }
          ],
          "carpet": [
           {
            "aaxis": {
             "endlinecolor": "#2a3f5f",
             "gridcolor": "white",
             "linecolor": "white",
             "minorgridcolor": "white",
             "startlinecolor": "#2a3f5f"
            },
            "baxis": {
             "endlinecolor": "#2a3f5f",
             "gridcolor": "white",
             "linecolor": "white",
             "minorgridcolor": "white",
             "startlinecolor": "#2a3f5f"
            },
            "type": "carpet"
           }
          ],
          "choropleth": [
           {
            "colorbar": {
             "outlinewidth": 0,
             "ticks": ""
            },
            "type": "choropleth"
           }
          ],
          "contour": [
           {
            "colorbar": {
             "outlinewidth": 0,
             "ticks": ""
            },
            "colorscale": [
             [
              0,
              "#0d0887"
             ],
             [
              0.1111111111111111,
              "#46039f"
             ],
             [
              0.2222222222222222,
              "#7201a8"
             ],
             [
              0.3333333333333333,
              "#9c179e"
             ],
             [
              0.4444444444444444,
              "#bd3786"
             ],
             [
              0.5555555555555556,
              "#d8576b"
             ],
             [
              0.6666666666666666,
              "#ed7953"
             ],
             [
              0.7777777777777778,
              "#fb9f3a"
             ],
             [
              0.8888888888888888,
              "#fdca26"
             ],
             [
              1,
              "#f0f921"
             ]
            ],
            "type": "contour"
           }
          ],
          "contourcarpet": [
           {
            "colorbar": {
             "outlinewidth": 0,
             "ticks": ""
            },
            "type": "contourcarpet"
           }
          ],
          "heatmap": [
           {
            "colorbar": {
             "outlinewidth": 0,
             "ticks": ""
            },
            "colorscale": [
             [
              0,
              "#0d0887"
             ],
             [
              0.1111111111111111,
              "#46039f"
             ],
             [
              0.2222222222222222,
              "#7201a8"
             ],
             [
              0.3333333333333333,
              "#9c179e"
             ],
             [
              0.4444444444444444,
              "#bd3786"
             ],
             [
              0.5555555555555556,
              "#d8576b"
             ],
             [
              0.6666666666666666,
              "#ed7953"
             ],
             [
              0.7777777777777778,
              "#fb9f3a"
             ],
             [
              0.8888888888888888,
              "#fdca26"
             ],
             [
              1,
              "#f0f921"
             ]
            ],
            "type": "heatmap"
           }
          ],
          "heatmapgl": [
           {
            "colorbar": {
             "outlinewidth": 0,
             "ticks": ""
            },
            "colorscale": [
             [
              0,
              "#0d0887"
             ],
             [
              0.1111111111111111,
              "#46039f"
             ],
             [
              0.2222222222222222,
              "#7201a8"
             ],
             [
              0.3333333333333333,
              "#9c179e"
             ],
             [
              0.4444444444444444,
              "#bd3786"
             ],
             [
              0.5555555555555556,
              "#d8576b"
             ],
             [
              0.6666666666666666,
              "#ed7953"
             ],
             [
              0.7777777777777778,
              "#fb9f3a"
             ],
             [
              0.8888888888888888,
              "#fdca26"
             ],
             [
              1,
              "#f0f921"
             ]
            ],
            "type": "heatmapgl"
           }
          ],
          "histogram": [
           {
            "marker": {
             "pattern": {
              "fillmode": "overlay",
              "size": 10,
              "solidity": 0.2
             }
            },
            "type": "histogram"
           }
          ],
          "histogram2d": [
           {
            "colorbar": {
             "outlinewidth": 0,
             "ticks": ""
            },
            "colorscale": [
             [
              0,
              "#0d0887"
             ],
             [
              0.1111111111111111,
              "#46039f"
             ],
             [
              0.2222222222222222,
              "#7201a8"
             ],
             [
              0.3333333333333333,
              "#9c179e"
             ],
             [
              0.4444444444444444,
              "#bd3786"
             ],
             [
              0.5555555555555556,
              "#d8576b"
             ],
             [
              0.6666666666666666,
              "#ed7953"
             ],
             [
              0.7777777777777778,
              "#fb9f3a"
             ],
             [
              0.8888888888888888,
              "#fdca26"
             ],
             [
              1,
              "#f0f921"
             ]
            ],
            "type": "histogram2d"
           }
          ],
          "histogram2dcontour": [
           {
            "colorbar": {
             "outlinewidth": 0,
             "ticks": ""
            },
            "colorscale": [
             [
              0,
              "#0d0887"
             ],
             [
              0.1111111111111111,
              "#46039f"
             ],
             [
              0.2222222222222222,
              "#7201a8"
             ],
             [
              0.3333333333333333,
              "#9c179e"
             ],
             [
              0.4444444444444444,
              "#bd3786"
             ],
             [
              0.5555555555555556,
              "#d8576b"
             ],
             [
              0.6666666666666666,
              "#ed7953"
             ],
             [
              0.7777777777777778,
              "#fb9f3a"
             ],
             [
              0.8888888888888888,
              "#fdca26"
             ],
             [
              1,
              "#f0f921"
             ]
            ],
            "type": "histogram2dcontour"
           }
          ],
          "mesh3d": [
           {
            "colorbar": {
             "outlinewidth": 0,
             "ticks": ""
            },
            "type": "mesh3d"
           }
          ],
          "parcoords": [
           {
            "line": {
             "colorbar": {
              "outlinewidth": 0,
              "ticks": ""
             }
            },
            "type": "parcoords"
           }
          ],
          "pie": [
           {
            "automargin": true,
            "type": "pie"
           }
          ],
          "scatter": [
           {
            "fillpattern": {
             "fillmode": "overlay",
             "size": 10,
             "solidity": 0.2
            },
            "type": "scatter"
           }
          ],
          "scatter3d": [
           {
            "line": {
             "colorbar": {
              "outlinewidth": 0,
              "ticks": ""
             }
            },
            "marker": {
             "colorbar": {
              "outlinewidth": 0,
              "ticks": ""
             }
            },
            "type": "scatter3d"
           }
          ],
          "scattercarpet": [
           {
            "marker": {
             "colorbar": {
              "outlinewidth": 0,
              "ticks": ""
             }
            },
            "type": "scattercarpet"
           }
          ],
          "scattergeo": [
           {
            "marker": {
             "colorbar": {
              "outlinewidth": 0,
              "ticks": ""
             }
            },
            "type": "scattergeo"
           }
          ],
          "scattergl": [
           {
            "marker": {
             "colorbar": {
              "outlinewidth": 0,
              "ticks": ""
             }
            },
            "type": "scattergl"
           }
          ],
          "scattermapbox": [
           {
            "marker": {
             "colorbar": {
              "outlinewidth": 0,
              "ticks": ""
             }
            },
            "type": "scattermapbox"
           }
          ],
          "scatterpolar": [
           {
            "marker": {
             "colorbar": {
              "outlinewidth": 0,
              "ticks": ""
             }
            },
            "type": "scatterpolar"
           }
          ],
          "scatterpolargl": [
           {
            "marker": {
             "colorbar": {
              "outlinewidth": 0,
              "ticks": ""
             }
            },
            "type": "scatterpolargl"
           }
          ],
          "scatterternary": [
           {
            "marker": {
             "colorbar": {
              "outlinewidth": 0,
              "ticks": ""
             }
            },
            "type": "scatterternary"
           }
          ],
          "surface": [
           {
            "colorbar": {
             "outlinewidth": 0,
             "ticks": ""
            },
            "colorscale": [
             [
              0,
              "#0d0887"
             ],
             [
              0.1111111111111111,
              "#46039f"
             ],
             [
              0.2222222222222222,
              "#7201a8"
             ],
             [
              0.3333333333333333,
              "#9c179e"
             ],
             [
              0.4444444444444444,
              "#bd3786"
             ],
             [
              0.5555555555555556,
              "#d8576b"
             ],
             [
              0.6666666666666666,
              "#ed7953"
             ],
             [
              0.7777777777777778,
              "#fb9f3a"
             ],
             [
              0.8888888888888888,
              "#fdca26"
             ],
             [
              1,
              "#f0f921"
             ]
            ],
            "type": "surface"
           }
          ],
          "table": [
           {
            "cells": {
             "fill": {
              "color": "#EBF0F8"
             },
             "line": {
              "color": "white"
             }
            },
            "header": {
             "fill": {
              "color": "#C8D4E3"
             },
             "line": {
              "color": "white"
             }
            },
            "type": "table"
           }
          ]
         },
         "layout": {
          "annotationdefaults": {
           "arrowcolor": "#2a3f5f",
           "arrowhead": 0,
           "arrowwidth": 1
          },
          "autotypenumbers": "strict",
          "coloraxis": {
           "colorbar": {
            "outlinewidth": 0,
            "ticks": ""
           }
          },
          "colorscale": {
           "diverging": [
            [
             0,
             "#8e0152"
            ],
            [
             0.1,
             "#c51b7d"
            ],
            [
             0.2,
             "#de77ae"
            ],
            [
             0.3,
             "#f1b6da"
            ],
            [
             0.4,
             "#fde0ef"
            ],
            [
             0.5,
             "#f7f7f7"
            ],
            [
             0.6,
             "#e6f5d0"
            ],
            [
             0.7,
             "#b8e186"
            ],
            [
             0.8,
             "#7fbc41"
            ],
            [
             0.9,
             "#4d9221"
            ],
            [
             1,
             "#276419"
            ]
           ],
           "sequential": [
            [
             0,
             "#0d0887"
            ],
            [
             0.1111111111111111,
             "#46039f"
            ],
            [
             0.2222222222222222,
             "#7201a8"
            ],
            [
             0.3333333333333333,
             "#9c179e"
            ],
            [
             0.4444444444444444,
             "#bd3786"
            ],
            [
             0.5555555555555556,
             "#d8576b"
            ],
            [
             0.6666666666666666,
             "#ed7953"
            ],
            [
             0.7777777777777778,
             "#fb9f3a"
            ],
            [
             0.8888888888888888,
             "#fdca26"
            ],
            [
             1,
             "#f0f921"
            ]
           ],
           "sequentialminus": [
            [
             0,
             "#0d0887"
            ],
            [
             0.1111111111111111,
             "#46039f"
            ],
            [
             0.2222222222222222,
             "#7201a8"
            ],
            [
             0.3333333333333333,
             "#9c179e"
            ],
            [
             0.4444444444444444,
             "#bd3786"
            ],
            [
             0.5555555555555556,
             "#d8576b"
            ],
            [
             0.6666666666666666,
             "#ed7953"
            ],
            [
             0.7777777777777778,
             "#fb9f3a"
            ],
            [
             0.8888888888888888,
             "#fdca26"
            ],
            [
             1,
             "#f0f921"
            ]
           ]
          },
          "colorway": [
           "#636efa",
           "#EF553B",
           "#00cc96",
           "#ab63fa",
           "#FFA15A",
           "#19d3f3",
           "#FF6692",
           "#B6E880",
           "#FF97FF",
           "#FECB52"
          ],
          "font": {
           "color": "#2a3f5f"
          },
          "geo": {
           "bgcolor": "white",
           "lakecolor": "white",
           "landcolor": "#E5ECF6",
           "showlakes": true,
           "showland": true,
           "subunitcolor": "white"
          },
          "hoverlabel": {
           "align": "left"
          },
          "hovermode": "closest",
          "mapbox": {
           "style": "light"
          },
          "paper_bgcolor": "white",
          "plot_bgcolor": "#E5ECF6",
          "polar": {
           "angularaxis": {
            "gridcolor": "white",
            "linecolor": "white",
            "ticks": ""
           },
           "bgcolor": "#E5ECF6",
           "radialaxis": {
            "gridcolor": "white",
            "linecolor": "white",
            "ticks": ""
           }
          },
          "scene": {
           "xaxis": {
            "backgroundcolor": "#E5ECF6",
            "gridcolor": "white",
            "gridwidth": 2,
            "linecolor": "white",
            "showbackground": true,
            "ticks": "",
            "zerolinecolor": "white"
           },
           "yaxis": {
            "backgroundcolor": "#E5ECF6",
            "gridcolor": "white",
            "gridwidth": 2,
            "linecolor": "white",
            "showbackground": true,
            "ticks": "",
            "zerolinecolor": "white"
           },
           "zaxis": {
            "backgroundcolor": "#E5ECF6",
            "gridcolor": "white",
            "gridwidth": 2,
            "linecolor": "white",
            "showbackground": true,
            "ticks": "",
            "zerolinecolor": "white"
           }
          },
          "shapedefaults": {
           "line": {
            "color": "#2a3f5f"
           }
          },
          "ternary": {
           "aaxis": {
            "gridcolor": "white",
            "linecolor": "white",
            "ticks": ""
           },
           "baxis": {
            "gridcolor": "white",
            "linecolor": "white",
            "ticks": ""
           },
           "bgcolor": "#E5ECF6",
           "caxis": {
            "gridcolor": "white",
            "linecolor": "white",
            "ticks": ""
           }
          },
          "title": {
           "x": 0.05
          },
          "xaxis": {
           "automargin": true,
           "gridcolor": "white",
           "linecolor": "white",
           "ticks": "",
           "title": {
            "standoff": 15
           },
           "zerolinecolor": "white",
           "zerolinewidth": 2
          },
          "yaxis": {
           "automargin": true,
           "gridcolor": "white",
           "linecolor": "white",
           "ticks": "",
           "title": {
            "standoff": 15
           },
           "zerolinecolor": "white",
           "zerolinewidth": 2
          }
         }
        },
        "title": {
         "text": "Répartition de la production électrique dans la journée - 3 - Coût de la journée : 1015 k€"
        },
        "yaxis": {
         "range": [
          0,
          44000
         ],
         "title": {
          "text": "MW"
         }
        },
        "yaxis2": {
         "anchor": "free",
         "overlaying": "y",
         "position": 1,
         "range": [
          1.3363333333333334,
          3.4540000000000006
         ],
         "side": "right",
         "title": {
          "text": "€/MWh"
         }
        }
       }
      }
     },
     "metadata": {},
     "output_type": "display_data"
    }
   ],
   "source": [
    "df = df_results22(dict_N=dict_N,dict_P=dict_P,dict_Nstart=dict_Nstart,dict_XX=dict_Thermique,consommation=consommation)\n",
    "fig = Results_viz(df,dict_Thermique)\n",
    "A = 3\n",
    "fig.update_layout(\n",
    "    title = f\"Répartition de la production électrique dans la journée - {A} - Coût de la journée : {int(np.around(model.ObjVal/1000,0))} k€\"\n",
    ")\n",
    "fig.show()\n",
    "fig.write_html(f\"HTML/Répartition de la production électrique dans la journée - {A}.html\")\n",
    "df.to_csv(f\"CSV/Résultats - {A}.csv\",index=False)\n"
   ]
  },
  {
   "cell_type": "markdown",
   "metadata": {},
   "source": [
    "## 4 Planification cyclique\n",
    "\n",
    "Pour ce problème on modifie la convention $N_{-1}^{(X)}=0$ par $N_{-1}^{(X)}=N_{23}^{(X)}$"
   ]
  },
  {
   "cell_type": "code",
   "execution_count": 14,
   "metadata": {},
   "outputs": [
    {
     "name": "stdout",
     "output_type": "stream",
     "text": [
      "Gurobi Optimizer version 9.5.2 build v9.5.2rc0 (win64)\n",
      "Thread count: 4 physical cores, 8 logical processors, using up to 8 threads\n",
      "Optimize a model with 336 rows, 216 columns and 792 nonzeros\n",
      "Model fingerprint: 0xfaf92924\n",
      "Variable types: 72 continuous, 144 integer (0 binary)\n",
      "Coefficient statistics:\n",
      "  Matrix range     [1e+00, 4e+03]\n",
      "  Objective range  [1e+00, 2e+03]\n",
      "  Bounds range     [5e+00, 1e+01]\n",
      "  RHS range        [5e+00, 5e+04]\n",
      "Found heuristic solution: objective 1313700.0000\n",
      "Presolve removed 105 rows and 27 columns\n",
      "Presolve time: 0.00s\n",
      "Presolved: 231 rows, 189 columns, 603 nonzeros\n",
      "Found heuristic solution: objective 1225165.0000\n",
      "Variable types: 42 continuous, 147 integer (0 binary)\n",
      "Found heuristic solution: objective 1192195.0000\n",
      "\n",
      "Root relaxation: objective 9.855143e+05, 54 iterations, 0.00 seconds (0.00 work units)\n",
      "\n",
      "    Nodes    |    Current Node    |     Objective Bounds      |     Work\n",
      " Expl Unexpl |  Obj  Depth IntInf | Incumbent    BestBd   Gap | It/Node Time\n",
      "\n",
      "     0     0 985514.286    0   26 1192195.00 985514.286  17.3%     -    0s\n",
      "H    0     0                    993725.00000 985514.286  0.83%     -    0s\n",
      "H    0     0                    990405.00000 985514.286  0.49%     -    0s\n",
      "H    0     0                    990165.00000 985514.286  0.47%     -    0s\n",
      "H    0     0                    989030.00000 988540.000  0.05%     -    0s\n",
      "     0     0 988540.000    0    3 989030.000 988540.000  0.05%     -    0s\n",
      "H    0     0                    988540.00000 988540.000  0.00%     -    0s\n",
      "     0     0 988540.000    0    3 988540.000 988540.000  0.00%     -    0s\n",
      "\n",
      "Cutting planes:\n",
      "  MIR: 18\n",
      "\n",
      "Explored 1 nodes (85 simplex iterations) in 0.08 seconds (0.00 work units)\n",
      "Thread count was 8 (of 8 available processors)\n",
      "\n",
      "Solution count 8: 988540 989030 990165 ... 1.3137e+06\n",
      "\n",
      "Optimal solution found (tolerance 1.00e-04)\n",
      "Best objective 9.885400000000e+05, best bound 9.885400000000e+05, gap 0.0000%\n"
     ]
    }
   ],
   "source": [
    "model = gp.Model(name=\"4\")\n",
    "\n",
    "dict_N, dict_Nstart, dict_P = variable_decision_thermique_avec_demarrage(model,dict_Thermique)\n",
    "\n",
    "model.setObjective(gp.quicksum([dict_N[element[0],element[1]] * (dict_Thermique[element[0]].Cbase - dict_Thermique[element[0]].Pmin*dict_Thermique[element[0]].Cmwh) + dict_P[element[0],element[1]] * dict_Thermique[element[0]].Cmwh + dict_Nstart[element[0],element[1]]*dict_Thermique[element[0]].Cstart for element in product(dict_Thermique,range(24))]), gp.GRB.MINIMIZE)\n",
    "\n",
    "contraintes_demarrage(model,dict_N,dict_Nstart,dict_Thermique,cyclique=True)\n",
    "contraintes_puissance_thermique(model,dict_N,dict_P,dict_Thermique)\n",
    "contraintes_equilibre(model,dict_P,dict_Thermique,consommation)\n",
    "contraintes_reserve_de_puissance(model,dict_N,dict_Thermique,consommation)\n",
    "\n",
    "\n",
    "model.optimize()"
   ]
  },
  {
   "cell_type": "code",
   "execution_count": 15,
   "metadata": {},
   "outputs": [
    {
     "data": {
      "application/vnd.plotly.v1+json": {
       "config": {
        "plotlyServerURL": "https://plot.ly"
       },
       "data": [
        {
         "name": "Production A",
         "stackgroup": "one",
         "type": "scatter",
         "x": [
          0,
          1,
          2,
          3,
          4,
          5,
          6,
          7,
          8,
          9,
          10,
          11,
          12,
          13,
          14,
          15,
          16,
          17,
          18,
          19,
          20,
          21,
          22,
          23
         ],
         "y": [
          10199.999999999996,
          10199.999999999996,
          10199.999999999996,
          10199.999999999996,
          10199.999999999996,
          10199.999999999996,
          15999.999999999998,
          16000,
          16000,
          10999.999999999956,
          10999.999999999947,
          10999.999999999953,
          10999.99999999996,
          10999.999999999978,
          10999.999999999998,
          21250,
          21250,
          21250,
          11249.999999999996,
          11249.999999999996,
          11249.999999999996,
          11249.999999999996,
          11249.999999999996,
          11249.999999999996
         ]
        },
        {
         "name": "Production B",
         "stackgroup": "one",
         "type": "scatter",
         "x": [
          0,
          1,
          2,
          3,
          4,
          5,
          6,
          7,
          8,
          9,
          10,
          11,
          12,
          13,
          14,
          15,
          16,
          17,
          18,
          19,
          20,
          21,
          22,
          23
         ],
         "y": [
          4800.000000000005,
          4800.000000000005,
          4800.000000000005,
          4800.000000000005,
          4800.000000000005,
          4800.000000000005,
          14000.000000000002,
          14000,
          14000,
          14000.000000000044,
          14000.000000000053,
          14000.000000000047,
          14000.00000000004,
          14000.000000000022,
          14000.000000000002,
          15750,
          15750,
          15750,
          15750.000000000004,
          15750.000000000004,
          15750.000000000004,
          15750.000000000004,
          15750.000000000004,
          15750.000000000004
         ]
        },
        {
         "name": "Production C",
         "stackgroup": "one",
         "type": "scatter",
         "x": [
          0,
          1,
          2,
          3,
          4,
          5,
          6,
          7,
          8,
          9,
          10,
          11,
          12,
          13,
          14,
          15,
          16,
          17,
          18,
          19,
          20,
          21,
          22,
          23
         ],
         "y": [
          0,
          0,
          0,
          0,
          0,
          0,
          0,
          0,
          0,
          0,
          0,
          0,
          0,
          0,
          0,
          3000,
          3000,
          3000,
          0,
          0,
          0,
          0,
          0,
          0
         ]
        },
        {
         "line": {
          "color": "red",
          "dash": "dash"
         },
         "name": "Production total",
         "type": "scatter",
         "x": [
          0,
          1,
          2,
          3,
          4,
          5,
          6,
          7,
          8,
          9,
          10,
          11,
          12,
          13,
          14,
          15,
          16,
          17,
          18,
          19,
          20,
          21,
          22,
          23
         ],
         "y": [
          15000,
          15000,
          15000,
          15000,
          15000,
          15000,
          30000,
          30000,
          30000,
          25000,
          25000,
          25000,
          25000,
          25000,
          25000,
          40000,
          40000,
          40000,
          27000,
          27000,
          27000,
          27000,
          27000,
          27000
         ]
        },
        {
         "line": {
          "color": "black"
         },
         "name": "Coût MWh",
         "type": "scatter",
         "x": [
          0,
          1,
          2,
          3,
          4,
          5,
          6,
          7,
          8,
          9,
          10,
          11,
          12,
          13,
          14,
          15,
          16,
          17,
          18,
          19,
          20,
          21,
          22,
          23
         ],
         "y": [
          1.411,
          1.411,
          1.411,
          1.411,
          1.411,
          1.411,
          1.82,
          1.6533333333333333,
          1.6533333333333333,
          1.5839999999999987,
          1.5839999999999985,
          1.5839999999999987,
          1.5839999999999987,
          1.5839999999999994,
          1.584,
          1.78375,
          1.73375,
          1.73375,
          1.6055555555555556,
          1.6055555555555556,
          1.6055555555555556,
          1.6055555555555556,
          1.6055555555555556,
          1.6055555555555556
         ],
         "yaxis": "y2"
        }
       ],
       "layout": {
        "hovermode": "x",
        "legend": {
         "orientation": "h",
         "x": 1,
         "xanchor": "right",
         "y": 1.02,
         "yanchor": "bottom"
        },
        "template": {
         "data": {
          "bar": [
           {
            "error_x": {
             "color": "#2a3f5f"
            },
            "error_y": {
             "color": "#2a3f5f"
            },
            "marker": {
             "line": {
              "color": "#E5ECF6",
              "width": 0.5
             },
             "pattern": {
              "fillmode": "overlay",
              "size": 10,
              "solidity": 0.2
             }
            },
            "type": "bar"
           }
          ],
          "barpolar": [
           {
            "marker": {
             "line": {
              "color": "#E5ECF6",
              "width": 0.5
             },
             "pattern": {
              "fillmode": "overlay",
              "size": 10,
              "solidity": 0.2
             }
            },
            "type": "barpolar"
           }
          ],
          "carpet": [
           {
            "aaxis": {
             "endlinecolor": "#2a3f5f",
             "gridcolor": "white",
             "linecolor": "white",
             "minorgridcolor": "white",
             "startlinecolor": "#2a3f5f"
            },
            "baxis": {
             "endlinecolor": "#2a3f5f",
             "gridcolor": "white",
             "linecolor": "white",
             "minorgridcolor": "white",
             "startlinecolor": "#2a3f5f"
            },
            "type": "carpet"
           }
          ],
          "choropleth": [
           {
            "colorbar": {
             "outlinewidth": 0,
             "ticks": ""
            },
            "type": "choropleth"
           }
          ],
          "contour": [
           {
            "colorbar": {
             "outlinewidth": 0,
             "ticks": ""
            },
            "colorscale": [
             [
              0,
              "#0d0887"
             ],
             [
              0.1111111111111111,
              "#46039f"
             ],
             [
              0.2222222222222222,
              "#7201a8"
             ],
             [
              0.3333333333333333,
              "#9c179e"
             ],
             [
              0.4444444444444444,
              "#bd3786"
             ],
             [
              0.5555555555555556,
              "#d8576b"
             ],
             [
              0.6666666666666666,
              "#ed7953"
             ],
             [
              0.7777777777777778,
              "#fb9f3a"
             ],
             [
              0.8888888888888888,
              "#fdca26"
             ],
             [
              1,
              "#f0f921"
             ]
            ],
            "type": "contour"
           }
          ],
          "contourcarpet": [
           {
            "colorbar": {
             "outlinewidth": 0,
             "ticks": ""
            },
            "type": "contourcarpet"
           }
          ],
          "heatmap": [
           {
            "colorbar": {
             "outlinewidth": 0,
             "ticks": ""
            },
            "colorscale": [
             [
              0,
              "#0d0887"
             ],
             [
              0.1111111111111111,
              "#46039f"
             ],
             [
              0.2222222222222222,
              "#7201a8"
             ],
             [
              0.3333333333333333,
              "#9c179e"
             ],
             [
              0.4444444444444444,
              "#bd3786"
             ],
             [
              0.5555555555555556,
              "#d8576b"
             ],
             [
              0.6666666666666666,
              "#ed7953"
             ],
             [
              0.7777777777777778,
              "#fb9f3a"
             ],
             [
              0.8888888888888888,
              "#fdca26"
             ],
             [
              1,
              "#f0f921"
             ]
            ],
            "type": "heatmap"
           }
          ],
          "heatmapgl": [
           {
            "colorbar": {
             "outlinewidth": 0,
             "ticks": ""
            },
            "colorscale": [
             [
              0,
              "#0d0887"
             ],
             [
              0.1111111111111111,
              "#46039f"
             ],
             [
              0.2222222222222222,
              "#7201a8"
             ],
             [
              0.3333333333333333,
              "#9c179e"
             ],
             [
              0.4444444444444444,
              "#bd3786"
             ],
             [
              0.5555555555555556,
              "#d8576b"
             ],
             [
              0.6666666666666666,
              "#ed7953"
             ],
             [
              0.7777777777777778,
              "#fb9f3a"
             ],
             [
              0.8888888888888888,
              "#fdca26"
             ],
             [
              1,
              "#f0f921"
             ]
            ],
            "type": "heatmapgl"
           }
          ],
          "histogram": [
           {
            "marker": {
             "pattern": {
              "fillmode": "overlay",
              "size": 10,
              "solidity": 0.2
             }
            },
            "type": "histogram"
           }
          ],
          "histogram2d": [
           {
            "colorbar": {
             "outlinewidth": 0,
             "ticks": ""
            },
            "colorscale": [
             [
              0,
              "#0d0887"
             ],
             [
              0.1111111111111111,
              "#46039f"
             ],
             [
              0.2222222222222222,
              "#7201a8"
             ],
             [
              0.3333333333333333,
              "#9c179e"
             ],
             [
              0.4444444444444444,
              "#bd3786"
             ],
             [
              0.5555555555555556,
              "#d8576b"
             ],
             [
              0.6666666666666666,
              "#ed7953"
             ],
             [
              0.7777777777777778,
              "#fb9f3a"
             ],
             [
              0.8888888888888888,
              "#fdca26"
             ],
             [
              1,
              "#f0f921"
             ]
            ],
            "type": "histogram2d"
           }
          ],
          "histogram2dcontour": [
           {
            "colorbar": {
             "outlinewidth": 0,
             "ticks": ""
            },
            "colorscale": [
             [
              0,
              "#0d0887"
             ],
             [
              0.1111111111111111,
              "#46039f"
             ],
             [
              0.2222222222222222,
              "#7201a8"
             ],
             [
              0.3333333333333333,
              "#9c179e"
             ],
             [
              0.4444444444444444,
              "#bd3786"
             ],
             [
              0.5555555555555556,
              "#d8576b"
             ],
             [
              0.6666666666666666,
              "#ed7953"
             ],
             [
              0.7777777777777778,
              "#fb9f3a"
             ],
             [
              0.8888888888888888,
              "#fdca26"
             ],
             [
              1,
              "#f0f921"
             ]
            ],
            "type": "histogram2dcontour"
           }
          ],
          "mesh3d": [
           {
            "colorbar": {
             "outlinewidth": 0,
             "ticks": ""
            },
            "type": "mesh3d"
           }
          ],
          "parcoords": [
           {
            "line": {
             "colorbar": {
              "outlinewidth": 0,
              "ticks": ""
             }
            },
            "type": "parcoords"
           }
          ],
          "pie": [
           {
            "automargin": true,
            "type": "pie"
           }
          ],
          "scatter": [
           {
            "fillpattern": {
             "fillmode": "overlay",
             "size": 10,
             "solidity": 0.2
            },
            "type": "scatter"
           }
          ],
          "scatter3d": [
           {
            "line": {
             "colorbar": {
              "outlinewidth": 0,
              "ticks": ""
             }
            },
            "marker": {
             "colorbar": {
              "outlinewidth": 0,
              "ticks": ""
             }
            },
            "type": "scatter3d"
           }
          ],
          "scattercarpet": [
           {
            "marker": {
             "colorbar": {
              "outlinewidth": 0,
              "ticks": ""
             }
            },
            "type": "scattercarpet"
           }
          ],
          "scattergeo": [
           {
            "marker": {
             "colorbar": {
              "outlinewidth": 0,
              "ticks": ""
             }
            },
            "type": "scattergeo"
           }
          ],
          "scattergl": [
           {
            "marker": {
             "colorbar": {
              "outlinewidth": 0,
              "ticks": ""
             }
            },
            "type": "scattergl"
           }
          ],
          "scattermapbox": [
           {
            "marker": {
             "colorbar": {
              "outlinewidth": 0,
              "ticks": ""
             }
            },
            "type": "scattermapbox"
           }
          ],
          "scatterpolar": [
           {
            "marker": {
             "colorbar": {
              "outlinewidth": 0,
              "ticks": ""
             }
            },
            "type": "scatterpolar"
           }
          ],
          "scatterpolargl": [
           {
            "marker": {
             "colorbar": {
              "outlinewidth": 0,
              "ticks": ""
             }
            },
            "type": "scatterpolargl"
           }
          ],
          "scatterternary": [
           {
            "marker": {
             "colorbar": {
              "outlinewidth": 0,
              "ticks": ""
             }
            },
            "type": "scatterternary"
           }
          ],
          "surface": [
           {
            "colorbar": {
             "outlinewidth": 0,
             "ticks": ""
            },
            "colorscale": [
             [
              0,
              "#0d0887"
             ],
             [
              0.1111111111111111,
              "#46039f"
             ],
             [
              0.2222222222222222,
              "#7201a8"
             ],
             [
              0.3333333333333333,
              "#9c179e"
             ],
             [
              0.4444444444444444,
              "#bd3786"
             ],
             [
              0.5555555555555556,
              "#d8576b"
             ],
             [
              0.6666666666666666,
              "#ed7953"
             ],
             [
              0.7777777777777778,
              "#fb9f3a"
             ],
             [
              0.8888888888888888,
              "#fdca26"
             ],
             [
              1,
              "#f0f921"
             ]
            ],
            "type": "surface"
           }
          ],
          "table": [
           {
            "cells": {
             "fill": {
              "color": "#EBF0F8"
             },
             "line": {
              "color": "white"
             }
            },
            "header": {
             "fill": {
              "color": "#C8D4E3"
             },
             "line": {
              "color": "white"
             }
            },
            "type": "table"
           }
          ]
         },
         "layout": {
          "annotationdefaults": {
           "arrowcolor": "#2a3f5f",
           "arrowhead": 0,
           "arrowwidth": 1
          },
          "autotypenumbers": "strict",
          "coloraxis": {
           "colorbar": {
            "outlinewidth": 0,
            "ticks": ""
           }
          },
          "colorscale": {
           "diverging": [
            [
             0,
             "#8e0152"
            ],
            [
             0.1,
             "#c51b7d"
            ],
            [
             0.2,
             "#de77ae"
            ],
            [
             0.3,
             "#f1b6da"
            ],
            [
             0.4,
             "#fde0ef"
            ],
            [
             0.5,
             "#f7f7f7"
            ],
            [
             0.6,
             "#e6f5d0"
            ],
            [
             0.7,
             "#b8e186"
            ],
            [
             0.8,
             "#7fbc41"
            ],
            [
             0.9,
             "#4d9221"
            ],
            [
             1,
             "#276419"
            ]
           ],
           "sequential": [
            [
             0,
             "#0d0887"
            ],
            [
             0.1111111111111111,
             "#46039f"
            ],
            [
             0.2222222222222222,
             "#7201a8"
            ],
            [
             0.3333333333333333,
             "#9c179e"
            ],
            [
             0.4444444444444444,
             "#bd3786"
            ],
            [
             0.5555555555555556,
             "#d8576b"
            ],
            [
             0.6666666666666666,
             "#ed7953"
            ],
            [
             0.7777777777777778,
             "#fb9f3a"
            ],
            [
             0.8888888888888888,
             "#fdca26"
            ],
            [
             1,
             "#f0f921"
            ]
           ],
           "sequentialminus": [
            [
             0,
             "#0d0887"
            ],
            [
             0.1111111111111111,
             "#46039f"
            ],
            [
             0.2222222222222222,
             "#7201a8"
            ],
            [
             0.3333333333333333,
             "#9c179e"
            ],
            [
             0.4444444444444444,
             "#bd3786"
            ],
            [
             0.5555555555555556,
             "#d8576b"
            ],
            [
             0.6666666666666666,
             "#ed7953"
            ],
            [
             0.7777777777777778,
             "#fb9f3a"
            ],
            [
             0.8888888888888888,
             "#fdca26"
            ],
            [
             1,
             "#f0f921"
            ]
           ]
          },
          "colorway": [
           "#636efa",
           "#EF553B",
           "#00cc96",
           "#ab63fa",
           "#FFA15A",
           "#19d3f3",
           "#FF6692",
           "#B6E880",
           "#FF97FF",
           "#FECB52"
          ],
          "font": {
           "color": "#2a3f5f"
          },
          "geo": {
           "bgcolor": "white",
           "lakecolor": "white",
           "landcolor": "#E5ECF6",
           "showlakes": true,
           "showland": true,
           "subunitcolor": "white"
          },
          "hoverlabel": {
           "align": "left"
          },
          "hovermode": "closest",
          "mapbox": {
           "style": "light"
          },
          "paper_bgcolor": "white",
          "plot_bgcolor": "#E5ECF6",
          "polar": {
           "angularaxis": {
            "gridcolor": "white",
            "linecolor": "white",
            "ticks": ""
           },
           "bgcolor": "#E5ECF6",
           "radialaxis": {
            "gridcolor": "white",
            "linecolor": "white",
            "ticks": ""
           }
          },
          "scene": {
           "xaxis": {
            "backgroundcolor": "#E5ECF6",
            "gridcolor": "white",
            "gridwidth": 2,
            "linecolor": "white",
            "showbackground": true,
            "ticks": "",
            "zerolinecolor": "white"
           },
           "yaxis": {
            "backgroundcolor": "#E5ECF6",
            "gridcolor": "white",
            "gridwidth": 2,
            "linecolor": "white",
            "showbackground": true,
            "ticks": "",
            "zerolinecolor": "white"
           },
           "zaxis": {
            "backgroundcolor": "#E5ECF6",
            "gridcolor": "white",
            "gridwidth": 2,
            "linecolor": "white",
            "showbackground": true,
            "ticks": "",
            "zerolinecolor": "white"
           }
          },
          "shapedefaults": {
           "line": {
            "color": "#2a3f5f"
           }
          },
          "ternary": {
           "aaxis": {
            "gridcolor": "white",
            "linecolor": "white",
            "ticks": ""
           },
           "baxis": {
            "gridcolor": "white",
            "linecolor": "white",
            "ticks": ""
           },
           "bgcolor": "#E5ECF6",
           "caxis": {
            "gridcolor": "white",
            "linecolor": "white",
            "ticks": ""
           }
          },
          "title": {
           "x": 0.05
          },
          "xaxis": {
           "automargin": true,
           "gridcolor": "white",
           "linecolor": "white",
           "ticks": "",
           "title": {
            "standoff": 15
           },
           "zerolinecolor": "white",
           "zerolinewidth": 2
          },
          "yaxis": {
           "automargin": true,
           "gridcolor": "white",
           "linecolor": "white",
           "ticks": "",
           "title": {
            "standoff": 15
           },
           "zerolinecolor": "white",
           "zerolinewidth": 2
          }
         }
        },
        "title": {
         "text": "Répartition de la production électrique dans la journée - 4 - Coût de la journée : 989 k€"
        },
        "yaxis": {
         "range": [
          0,
          44000
         ],
         "title": {
          "text": "MW"
         }
        },
        "yaxis2": {
         "anchor": "free",
         "overlaying": "y",
         "position": 1,
         "range": [
          1.34045,
          2.0020000000000002
         ],
         "side": "right",
         "title": {
          "text": "€/MWh"
         }
        }
       }
      }
     },
     "metadata": {},
     "output_type": "display_data"
    }
   ],
   "source": [
    "df = df_results22(dict_N=dict_N,dict_P=dict_P,dict_Nstart=dict_Nstart,dict_XX=dict_Thermique,consommation=consommation)\n",
    "fig = Results_viz(df,dict_Thermique)\n",
    "A = 4\n",
    "fig.update_layout(\n",
    "    title = f\"Répartition de la production électrique dans la journée - {A} - Coût de la journée : {int(np.around(model.ObjVal/1000,0))} k€\"\n",
    ")\n",
    "fig.show()\n",
    "fig.write_html(f\"HTML/Répartition de la production électrique dans la journée - {A}.html\")\n",
    "df.to_csv(f\"CSV/Résultats - {A}.csv\",index=False)"
   ]
  },
  {
   "cell_type": "markdown",
   "metadata": {},
   "source": [
    "## 5 Centrales hydroélectriques\n",
    "\n",
    "### 5.1\n",
    "\n",
    "On ajoute les variables de décisions suivantes:<br>\n",
    "pour $Y\\in[9,14]$ (pour les centrales de 900 MW et 1400MW),<br>\n",
    "$$\n",
    "H_t^{(Y)} \\in \\{0,1\\} \\text{  , vaut 1 si la centrale $Y$ fonctionne à } t \\text{ h 0 sinon}\n",
    "$$\n",
    "$$\n",
    "H_{start,t}^{(Y)} \\in \\{0,1\\} \\text{  , vaut 1  si la centrale $Y$ démarre à } t \\text{ h 0 sinon}\n",
    "$$\n",
    "Avec les contraintes :\n",
    "$$\n",
    "H_{t}^{(Y)} \\leq H_{start,t}^{(Y)}  + H_{t-1}^{(Y)} \\text{, (5.1.1) Si la centrale fonctionne alors elle était allumée ou elle démarre}\n",
    "$$\n",
    "$$\n",
    "\\sum_X P_t^{(X)} + \\sum_Y N_t^{(Y)}P^{(Y)}= D_t \\text{, (5.1.2) Contrainte équilibre offre-demande}\n",
    "$$\n",
    "$$\n",
    "\\sum_X N_t^{(X)}P_{max}^{(X)} + \\sum_Y P^{(Y)}\\geq D_t\\times 1,15 \\text{, (5.1.3) marges de sécurité}\n",
    "$$\n",
    "L'objectif mis à jour devient:\n",
    "$$\n",
    "\\text{Minimiser} \\sum_X \\sum_t (P_t^{(X)} - P_{min}^{(X)}N_t^{(X)}) C_{MWh}^{(X)} + N_t^{(X)}C_{base}^{(X)} + N_{start,t}^{(X)}C_{start}^{(X)} + \\sum_Y \\sum_t H_t^{(Y)}C_{base}^{(Y)} + H_t^{(Y)}C_{start}^{(Y)}\n",
    "$$"
   ]
  },
  {
   "cell_type": "code",
   "execution_count": 16,
   "metadata": {},
   "outputs": [],
   "source": [
    "from utils import Centrale_hydro"
   ]
  },
  {
   "cell_type": "code",
   "execution_count": 17,
   "metadata": {},
   "outputs": [],
   "source": [
    "dict_Hydro = {\n",
    "    9 : Centrale_hydro(\n",
    "    name = \"Hydro 900 MW\",\n",
    "    P = 900,\n",
    "    Cstart = 1500,\n",
    "    Cheure=90,\n",
    "    debit=0.31\n",
    "),\n",
    "    14 : Centrale_hydro(\n",
    "    name = \"Hydro 1400 MW\",\n",
    "    P = 1400,\n",
    "    Cstart = 1200,\n",
    "    Cheure=150,\n",
    "    debit=0.47\n",
    ")\n",
    "}"
   ]
  },
  {
   "cell_type": "code",
   "execution_count": 18,
   "metadata": {},
   "outputs": [
    {
     "name": "stdout",
     "output_type": "stream",
     "text": [
      "Gurobi Optimizer version 9.5.2 build v9.5.2rc0 (win64)\n",
      "Thread count: 4 physical cores, 8 logical processors, using up to 8 threads\n",
      "Optimize a model with 384 rows, 312 columns and 984 nonzeros\n",
      "Model fingerprint: 0x62d80b5b\n",
      "Variable types: 72 continuous, 240 integer (96 binary)\n",
      "Coefficient statistics:\n",
      "  Matrix range     [1e+00, 4e+03]\n",
      "  Objective range  [1e+00, 2e+03]\n",
      "  Bounds range     [1e+00, 1e+01]\n",
      "  RHS range        [5e+00, 4e+04]\n",
      "Found heuristic solution: objective 1326520.0000\n",
      "Presolve removed 72 rows and 0 columns\n",
      "Presolve time: 0.00s\n",
      "Presolved: 312 rows, 312 columns, 840 nonzeros\n",
      "Variable types: 72 continuous, 240 integer (96 binary)\n",
      "Found heuristic solution: objective 1308745.0000\n",
      "\n",
      "Root relaxation: objective 8.884163e+05, 90 iterations, 0.00 seconds (0.00 work units)\n",
      "\n",
      "    Nodes    |    Current Node    |     Objective Bounds      |     Work\n",
      " Expl Unexpl |  Obj  Depth IntInf | Incumbent    BestBd   Gap | It/Node Time\n",
      "\n",
      "     0     0 888416.250    0   30 1308745.00 888416.250  32.1%     -    0s\n",
      "H    0     0                    906941.25000 888416.250  2.04%     -    0s\n",
      "H    0     0                    893135.00000 888416.250  0.53%     -    0s\n",
      "H    0     0                    890510.00000 888416.250  0.24%     -    0s\n",
      "H    0     0                    890260.00000 888474.286  0.20%     -    0s\n",
      "     0     0 890176.667    0   22 890260.000 890176.667  0.01%     -    0s\n",
      "\n",
      "Cutting planes:\n",
      "  Gomory: 2\n",
      "  MIR: 33\n",
      "\n",
      "Explored 1 nodes (132 simplex iterations) in 0.05 seconds (0.00 work units)\n",
      "Thread count was 8 (of 8 available processors)\n",
      "\n",
      "Solution count 6: 890260 890510 893135 ... 1.32652e+06\n",
      "\n",
      "Optimal solution found (tolerance 1.00e-04)\n",
      "Best objective 8.902600000000e+05, best bound 8.901766666667e+05, gap 0.0094%\n"
     ]
    }
   ],
   "source": [
    "from utils import variable_decision_hydraulique, contraintes_equilibre_avec_hydro, contraintes_reserve_avec_hydro, contraintes_hydraulique\n",
    "\n",
    "model = gp.Model(name=\"5\")\n",
    "\n",
    "dict_H, dict_Hstart = variable_decision_hydraulique(model,dict_Hydro)\n",
    "dict_N, dict_Nstart, dict_P = variable_decision_thermique_avec_demarrage(model,dict_Thermique)\n",
    "\n",
    "model.setObjective(\n",
    "    gp.quicksum([dict_N[element[0],element[1]] * (dict_Thermique[element[0]].Cbase - dict_Thermique[element[0]].Pmin*dict_Thermique[element[0]].Cmwh) for element in product(dict_Thermique,range(24))]) + \n",
    "    gp.quicksum([dict_P[element[0],element[1]] * dict_Thermique[element[0]].Cmwh for element in product(dict_Thermique,range(24))])+ \n",
    "    gp.quicksum([dict_Nstart[element[0],element[1]]*dict_Thermique[element[0]].Cstart for element in product(dict_Thermique,range(24))])+\n",
    "    gp.quicksum([dict_H[element[0],element[1]] * dict_Hydro[element[0]].Cheure for element in product(dict_Hydro,range(24))])+\n",
    "    gp.quicksum([dict_Hstart[element[0],element[1]] * dict_Hydro[element[0]].Cstart for element in product(dict_Hydro,range(24))]),\n",
    "    gp.GRB.MINIMIZE\n",
    "    )\n",
    "\n",
    "contraintes_demarrage(model,dict_N,dict_Nstart,dict_Thermique,cyclique=True)\n",
    "contraintes_puissance_thermique(model,dict_N,dict_P,dict_Thermique)\n",
    "contraintes_equilibre_avec_hydro(model,dict_H,dict_P,dict_Thermique,dict_Hydro,consommation)\n",
    "contraintes_reserve_avec_hydro(model,dict_N,dict_Thermique,dict_Hydro,consommation)\n",
    "contraintes_hydraulique(model,dict_Hstart,dict_H,dict_Hydro)\n",
    "\n",
    "\n",
    "\n",
    "model.optimize()\n",
    "        \n"
   ]
  },
  {
   "cell_type": "code",
   "execution_count": 19,
   "metadata": {},
   "outputs": [
    {
     "data": {
      "application/vnd.plotly.v1+json": {
       "config": {
        "plotlyServerURL": "https://plot.ly"
       },
       "data": [
        {
         "name": "Thermique A",
         "stackgroup": "one",
         "type": "scatter",
         "x": [
          0,
          1,
          2,
          3,
          4,
          5,
          6,
          7,
          8,
          9,
          10,
          11,
          12,
          13,
          14,
          15,
          16,
          17,
          18,
          19,
          20,
          21,
          22,
          23
         ],
         "y": [
          10950,
          10950,
          10950,
          10950,
          10950,
          10949.999999999996,
          15450,
          15450,
          15450,
          10450,
          10450,
          10450,
          10450,
          10450,
          10449.999999999978,
          20450,
          20450,
          20450,
          10700,
          10700,
          10700,
          10700,
          10700,
          10700
         ]
        },
        {
         "name": "Thermique B",
         "stackgroup": "one",
         "type": "scatter",
         "x": [
          0,
          1,
          2,
          3,
          4,
          5,
          6,
          7,
          8,
          9,
          10,
          11,
          12,
          13,
          14,
          15,
          16,
          17,
          18,
          19,
          20,
          21,
          22,
          23
         ],
         "y": [
          1750,
          1750,
          1750,
          1750,
          1750,
          1750.0000000000036,
          12250,
          12250,
          12250,
          12250,
          12250,
          12250,
          12250,
          12250,
          12250.000000000022,
          15750,
          15750,
          15750,
          14000,
          14000,
          14000,
          14000,
          14000,
          14000
         ]
        },
        {
         "name": "Thermique C",
         "stackgroup": "one",
         "type": "scatter",
         "x": [
          0,
          1,
          2,
          3,
          4,
          5,
          6,
          7,
          8,
          9,
          10,
          11,
          12,
          13,
          14,
          15,
          16,
          17,
          18,
          19,
          20,
          21,
          22,
          23
         ],
         "y": [
          0,
          0,
          0,
          0,
          0,
          0,
          0,
          0,
          0,
          0,
          0,
          0,
          0,
          0,
          0,
          1500,
          1500,
          1500,
          0,
          0,
          0,
          0,
          0,
          0
         ]
        },
        {
         "name": "Hydraulique 9",
         "stackgroup": "one",
         "type": "scatter",
         "x": [
          0,
          1,
          2,
          3,
          4,
          5,
          6,
          7,
          8,
          9,
          10,
          11,
          12,
          13,
          14,
          15,
          16,
          17,
          18,
          19,
          20,
          21,
          22,
          23
         ],
         "y": [
          900,
          900,
          900,
          900,
          900,
          900,
          900,
          900,
          900,
          900,
          900,
          900,
          900,
          900,
          900,
          900,
          900,
          900,
          900,
          900,
          900,
          900,
          900,
          900
         ]
        },
        {
         "name": "Hydraulique 14",
         "stackgroup": "one",
         "type": "scatter",
         "x": [
          0,
          1,
          2,
          3,
          4,
          5,
          6,
          7,
          8,
          9,
          10,
          11,
          12,
          13,
          14,
          15,
          16,
          17,
          18,
          19,
          20,
          21,
          22,
          23
         ],
         "y": [
          1400,
          1400,
          1400,
          1400,
          1400,
          1400,
          1400,
          1400,
          1400,
          1400,
          1400,
          1400,
          1400,
          1400,
          1400,
          1400,
          1400,
          1400,
          1400,
          1400,
          1400,
          1400,
          1400,
          1400
         ]
        },
        {
         "line": {
          "color": "red",
          "dash": "dash"
         },
         "name": "Production total",
         "type": "scatter",
         "x": [
          0,
          1,
          2,
          3,
          4,
          5,
          6,
          7,
          8,
          9,
          10,
          11,
          12,
          13,
          14,
          15,
          16,
          17,
          18,
          19,
          20,
          21,
          22,
          23
         ],
         "y": [
          15000,
          15000,
          15000,
          15000,
          15000,
          15000,
          30000,
          30000,
          30000,
          25000,
          25000,
          25000,
          25000,
          25000,
          25000,
          40000,
          40000,
          40000,
          27000,
          27000,
          27000,
          27000,
          27000,
          27000
         ]
        },
        {
         "line": {
          "color": "black"
         },
         "name": "Coût MWh",
         "type": "scatter",
         "x": [
          0,
          1,
          2,
          3,
          4,
          5,
          6,
          7,
          8,
          9,
          10,
          11,
          12,
          13,
          14,
          15,
          16,
          17,
          18,
          19,
          20,
          21,
          22,
          23
         ],
         "y": [
          1.1326666666666667,
          1.1326666666666667,
          1.1326666666666667,
          1.1326666666666667,
          1.1326666666666667,
          1.1326666666666665,
          1.7163333333333333,
          1.5163333333333333,
          1.5163333333333333,
          1.4196,
          1.4196,
          1.4196,
          1.4196,
          1.4196,
          1.4195999999999995,
          1.68725,
          1.62475,
          1.62475,
          1.4533333333333334,
          1.4533333333333334,
          1.4533333333333334,
          1.4533333333333334,
          1.4533333333333334,
          1.4533333333333334
         ],
         "yaxis": "y2"
        }
       ],
       "layout": {
        "hovermode": "x",
        "legend": {
         "orientation": "h",
         "x": 1,
         "xanchor": "right",
         "y": 1.02,
         "yanchor": "bottom"
        },
        "template": {
         "data": {
          "bar": [
           {
            "error_x": {
             "color": "#2a3f5f"
            },
            "error_y": {
             "color": "#2a3f5f"
            },
            "marker": {
             "line": {
              "color": "#E5ECF6",
              "width": 0.5
             },
             "pattern": {
              "fillmode": "overlay",
              "size": 10,
              "solidity": 0.2
             }
            },
            "type": "bar"
           }
          ],
          "barpolar": [
           {
            "marker": {
             "line": {
              "color": "#E5ECF6",
              "width": 0.5
             },
             "pattern": {
              "fillmode": "overlay",
              "size": 10,
              "solidity": 0.2
             }
            },
            "type": "barpolar"
           }
          ],
          "carpet": [
           {
            "aaxis": {
             "endlinecolor": "#2a3f5f",
             "gridcolor": "white",
             "linecolor": "white",
             "minorgridcolor": "white",
             "startlinecolor": "#2a3f5f"
            },
            "baxis": {
             "endlinecolor": "#2a3f5f",
             "gridcolor": "white",
             "linecolor": "white",
             "minorgridcolor": "white",
             "startlinecolor": "#2a3f5f"
            },
            "type": "carpet"
           }
          ],
          "choropleth": [
           {
            "colorbar": {
             "outlinewidth": 0,
             "ticks": ""
            },
            "type": "choropleth"
           }
          ],
          "contour": [
           {
            "colorbar": {
             "outlinewidth": 0,
             "ticks": ""
            },
            "colorscale": [
             [
              0,
              "#0d0887"
             ],
             [
              0.1111111111111111,
              "#46039f"
             ],
             [
              0.2222222222222222,
              "#7201a8"
             ],
             [
              0.3333333333333333,
              "#9c179e"
             ],
             [
              0.4444444444444444,
              "#bd3786"
             ],
             [
              0.5555555555555556,
              "#d8576b"
             ],
             [
              0.6666666666666666,
              "#ed7953"
             ],
             [
              0.7777777777777778,
              "#fb9f3a"
             ],
             [
              0.8888888888888888,
              "#fdca26"
             ],
             [
              1,
              "#f0f921"
             ]
            ],
            "type": "contour"
           }
          ],
          "contourcarpet": [
           {
            "colorbar": {
             "outlinewidth": 0,
             "ticks": ""
            },
            "type": "contourcarpet"
           }
          ],
          "heatmap": [
           {
            "colorbar": {
             "outlinewidth": 0,
             "ticks": ""
            },
            "colorscale": [
             [
              0,
              "#0d0887"
             ],
             [
              0.1111111111111111,
              "#46039f"
             ],
             [
              0.2222222222222222,
              "#7201a8"
             ],
             [
              0.3333333333333333,
              "#9c179e"
             ],
             [
              0.4444444444444444,
              "#bd3786"
             ],
             [
              0.5555555555555556,
              "#d8576b"
             ],
             [
              0.6666666666666666,
              "#ed7953"
             ],
             [
              0.7777777777777778,
              "#fb9f3a"
             ],
             [
              0.8888888888888888,
              "#fdca26"
             ],
             [
              1,
              "#f0f921"
             ]
            ],
            "type": "heatmap"
           }
          ],
          "heatmapgl": [
           {
            "colorbar": {
             "outlinewidth": 0,
             "ticks": ""
            },
            "colorscale": [
             [
              0,
              "#0d0887"
             ],
             [
              0.1111111111111111,
              "#46039f"
             ],
             [
              0.2222222222222222,
              "#7201a8"
             ],
             [
              0.3333333333333333,
              "#9c179e"
             ],
             [
              0.4444444444444444,
              "#bd3786"
             ],
             [
              0.5555555555555556,
              "#d8576b"
             ],
             [
              0.6666666666666666,
              "#ed7953"
             ],
             [
              0.7777777777777778,
              "#fb9f3a"
             ],
             [
              0.8888888888888888,
              "#fdca26"
             ],
             [
              1,
              "#f0f921"
             ]
            ],
            "type": "heatmapgl"
           }
          ],
          "histogram": [
           {
            "marker": {
             "pattern": {
              "fillmode": "overlay",
              "size": 10,
              "solidity": 0.2
             }
            },
            "type": "histogram"
           }
          ],
          "histogram2d": [
           {
            "colorbar": {
             "outlinewidth": 0,
             "ticks": ""
            },
            "colorscale": [
             [
              0,
              "#0d0887"
             ],
             [
              0.1111111111111111,
              "#46039f"
             ],
             [
              0.2222222222222222,
              "#7201a8"
             ],
             [
              0.3333333333333333,
              "#9c179e"
             ],
             [
              0.4444444444444444,
              "#bd3786"
             ],
             [
              0.5555555555555556,
              "#d8576b"
             ],
             [
              0.6666666666666666,
              "#ed7953"
             ],
             [
              0.7777777777777778,
              "#fb9f3a"
             ],
             [
              0.8888888888888888,
              "#fdca26"
             ],
             [
              1,
              "#f0f921"
             ]
            ],
            "type": "histogram2d"
           }
          ],
          "histogram2dcontour": [
           {
            "colorbar": {
             "outlinewidth": 0,
             "ticks": ""
            },
            "colorscale": [
             [
              0,
              "#0d0887"
             ],
             [
              0.1111111111111111,
              "#46039f"
             ],
             [
              0.2222222222222222,
              "#7201a8"
             ],
             [
              0.3333333333333333,
              "#9c179e"
             ],
             [
              0.4444444444444444,
              "#bd3786"
             ],
             [
              0.5555555555555556,
              "#d8576b"
             ],
             [
              0.6666666666666666,
              "#ed7953"
             ],
             [
              0.7777777777777778,
              "#fb9f3a"
             ],
             [
              0.8888888888888888,
              "#fdca26"
             ],
             [
              1,
              "#f0f921"
             ]
            ],
            "type": "histogram2dcontour"
           }
          ],
          "mesh3d": [
           {
            "colorbar": {
             "outlinewidth": 0,
             "ticks": ""
            },
            "type": "mesh3d"
           }
          ],
          "parcoords": [
           {
            "line": {
             "colorbar": {
              "outlinewidth": 0,
              "ticks": ""
             }
            },
            "type": "parcoords"
           }
          ],
          "pie": [
           {
            "automargin": true,
            "type": "pie"
           }
          ],
          "scatter": [
           {
            "fillpattern": {
             "fillmode": "overlay",
             "size": 10,
             "solidity": 0.2
            },
            "type": "scatter"
           }
          ],
          "scatter3d": [
           {
            "line": {
             "colorbar": {
              "outlinewidth": 0,
              "ticks": ""
             }
            },
            "marker": {
             "colorbar": {
              "outlinewidth": 0,
              "ticks": ""
             }
            },
            "type": "scatter3d"
           }
          ],
          "scattercarpet": [
           {
            "marker": {
             "colorbar": {
              "outlinewidth": 0,
              "ticks": ""
             }
            },
            "type": "scattercarpet"
           }
          ],
          "scattergeo": [
           {
            "marker": {
             "colorbar": {
              "outlinewidth": 0,
              "ticks": ""
             }
            },
            "type": "scattergeo"
           }
          ],
          "scattergl": [
           {
            "marker": {
             "colorbar": {
              "outlinewidth": 0,
              "ticks": ""
             }
            },
            "type": "scattergl"
           }
          ],
          "scattermapbox": [
           {
            "marker": {
             "colorbar": {
              "outlinewidth": 0,
              "ticks": ""
             }
            },
            "type": "scattermapbox"
           }
          ],
          "scatterpolar": [
           {
            "marker": {
             "colorbar": {
              "outlinewidth": 0,
              "ticks": ""
             }
            },
            "type": "scatterpolar"
           }
          ],
          "scatterpolargl": [
           {
            "marker": {
             "colorbar": {
              "outlinewidth": 0,
              "ticks": ""
             }
            },
            "type": "scatterpolargl"
           }
          ],
          "scatterternary": [
           {
            "marker": {
             "colorbar": {
              "outlinewidth": 0,
              "ticks": ""
             }
            },
            "type": "scatterternary"
           }
          ],
          "surface": [
           {
            "colorbar": {
             "outlinewidth": 0,
             "ticks": ""
            },
            "colorscale": [
             [
              0,
              "#0d0887"
             ],
             [
              0.1111111111111111,
              "#46039f"
             ],
             [
              0.2222222222222222,
              "#7201a8"
             ],
             [
              0.3333333333333333,
              "#9c179e"
             ],
             [
              0.4444444444444444,
              "#bd3786"
             ],
             [
              0.5555555555555556,
              "#d8576b"
             ],
             [
              0.6666666666666666,
              "#ed7953"
             ],
             [
              0.7777777777777778,
              "#fb9f3a"
             ],
             [
              0.8888888888888888,
              "#fdca26"
             ],
             [
              1,
              "#f0f921"
             ]
            ],
            "type": "surface"
           }
          ],
          "table": [
           {
            "cells": {
             "fill": {
              "color": "#EBF0F8"
             },
             "line": {
              "color": "white"
             }
            },
            "header": {
             "fill": {
              "color": "#C8D4E3"
             },
             "line": {
              "color": "white"
             }
            },
            "type": "table"
           }
          ]
         },
         "layout": {
          "annotationdefaults": {
           "arrowcolor": "#2a3f5f",
           "arrowhead": 0,
           "arrowwidth": 1
          },
          "autotypenumbers": "strict",
          "coloraxis": {
           "colorbar": {
            "outlinewidth": 0,
            "ticks": ""
           }
          },
          "colorscale": {
           "diverging": [
            [
             0,
             "#8e0152"
            ],
            [
             0.1,
             "#c51b7d"
            ],
            [
             0.2,
             "#de77ae"
            ],
            [
             0.3,
             "#f1b6da"
            ],
            [
             0.4,
             "#fde0ef"
            ],
            [
             0.5,
             "#f7f7f7"
            ],
            [
             0.6,
             "#e6f5d0"
            ],
            [
             0.7,
             "#b8e186"
            ],
            [
             0.8,
             "#7fbc41"
            ],
            [
             0.9,
             "#4d9221"
            ],
            [
             1,
             "#276419"
            ]
           ],
           "sequential": [
            [
             0,
             "#0d0887"
            ],
            [
             0.1111111111111111,
             "#46039f"
            ],
            [
             0.2222222222222222,
             "#7201a8"
            ],
            [
             0.3333333333333333,
             "#9c179e"
            ],
            [
             0.4444444444444444,
             "#bd3786"
            ],
            [
             0.5555555555555556,
             "#d8576b"
            ],
            [
             0.6666666666666666,
             "#ed7953"
            ],
            [
             0.7777777777777778,
             "#fb9f3a"
            ],
            [
             0.8888888888888888,
             "#fdca26"
            ],
            [
             1,
             "#f0f921"
            ]
           ],
           "sequentialminus": [
            [
             0,
             "#0d0887"
            ],
            [
             0.1111111111111111,
             "#46039f"
            ],
            [
             0.2222222222222222,
             "#7201a8"
            ],
            [
             0.3333333333333333,
             "#9c179e"
            ],
            [
             0.4444444444444444,
             "#bd3786"
            ],
            [
             0.5555555555555556,
             "#d8576b"
            ],
            [
             0.6666666666666666,
             "#ed7953"
            ],
            [
             0.7777777777777778,
             "#fb9f3a"
            ],
            [
             0.8888888888888888,
             "#fdca26"
            ],
            [
             1,
             "#f0f921"
            ]
           ]
          },
          "colorway": [
           "#636efa",
           "#EF553B",
           "#00cc96",
           "#ab63fa",
           "#FFA15A",
           "#19d3f3",
           "#FF6692",
           "#B6E880",
           "#FF97FF",
           "#FECB52"
          ],
          "font": {
           "color": "#2a3f5f"
          },
          "geo": {
           "bgcolor": "white",
           "lakecolor": "white",
           "landcolor": "#E5ECF6",
           "showlakes": true,
           "showland": true,
           "subunitcolor": "white"
          },
          "hoverlabel": {
           "align": "left"
          },
          "hovermode": "closest",
          "mapbox": {
           "style": "light"
          },
          "paper_bgcolor": "white",
          "plot_bgcolor": "#E5ECF6",
          "polar": {
           "angularaxis": {
            "gridcolor": "white",
            "linecolor": "white",
            "ticks": ""
           },
           "bgcolor": "#E5ECF6",
           "radialaxis": {
            "gridcolor": "white",
            "linecolor": "white",
            "ticks": ""
           }
          },
          "scene": {
           "xaxis": {
            "backgroundcolor": "#E5ECF6",
            "gridcolor": "white",
            "gridwidth": 2,
            "linecolor": "white",
            "showbackground": true,
            "ticks": "",
            "zerolinecolor": "white"
           },
           "yaxis": {
            "backgroundcolor": "#E5ECF6",
            "gridcolor": "white",
            "gridwidth": 2,
            "linecolor": "white",
            "showbackground": true,
            "ticks": "",
            "zerolinecolor": "white"
           },
           "zaxis": {
            "backgroundcolor": "#E5ECF6",
            "gridcolor": "white",
            "gridwidth": 2,
            "linecolor": "white",
            "showbackground": true,
            "ticks": "",
            "zerolinecolor": "white"
           }
          },
          "shapedefaults": {
           "line": {
            "color": "#2a3f5f"
           }
          },
          "ternary": {
           "aaxis": {
            "gridcolor": "white",
            "linecolor": "white",
            "ticks": ""
           },
           "baxis": {
            "gridcolor": "white",
            "linecolor": "white",
            "ticks": ""
           },
           "bgcolor": "#E5ECF6",
           "caxis": {
            "gridcolor": "white",
            "linecolor": "white",
            "ticks": ""
           }
          },
          "title": {
           "x": 0.05
          },
          "xaxis": {
           "automargin": true,
           "gridcolor": "white",
           "linecolor": "white",
           "ticks": "",
           "title": {
            "standoff": 15
           },
           "zerolinecolor": "white",
           "zerolinewidth": 2
          },
          "yaxis": {
           "automargin": true,
           "gridcolor": "white",
           "linecolor": "white",
           "ticks": "",
           "title": {
            "standoff": 15
           },
           "zerolinecolor": "white",
           "zerolinewidth": 2
          }
         }
        },
        "title": {
         "text": "Répartition de la production électrique dans la journée - 5.1 - Coût de la journée : 890 k€"
        },
        "yaxis": {
         "range": [
          0,
          44000
         ],
         "title": {
          "text": "MW"
         }
        },
        "yaxis2": {
         "anchor": "free",
         "overlaying": "y",
         "position": 1,
         "range": [
          1.0760333333333332,
          1.8879666666666668
         ],
         "side": "right",
         "title": {
          "text": "€/MWh"
         }
        }
       }
      }
     },
     "metadata": {},
     "output_type": "display_data"
    }
   ],
   "source": [
    "from utils_viz import df_results5, Results_viz5\n",
    "df = df_results5(dict_N,dict_P,dict_Nstart,dict_Thermique,dict_H,dict_Hstart,dict_Hydro=dict_Hydro,consommation=consommation)\n",
    "fig = Results_viz5(df,dict_Thermique,dict_Hydro)\n",
    "A = \"5.1\"\n",
    "fig.update_layout(\n",
    "    title = f\"Répartition de la production électrique dans la journée - {A} - Coût de la journée : {int(np.around(model.ObjVal/1000,0))} k€\"\n",
    ")\n",
    "fig.show()\n",
    "fig.write_html(f\"HTML/Répartition de la production électrique dans la journée - {A}.html\")\n",
    "df.to_csv(f\"CSV/Résultats - {A}.csv\",index=False)"
   ]
  },
  {
   "cell_type": "markdown",
   "metadata": {},
   "source": [
    "### 5.2\n",
    "\n",
    "On ajoute les variables de décision suivante :\n",
    "$$\n",
    "S_t =  \\text{Puissance appelée par le pompage à l'instant }t\n",
    "$$\n",
    "Puis la contrainte :\n",
    "$$\n",
    "\\sum_tS_t d^{(S)} = \\sum_{t,Y} H_t^{(Y)}d^{(Y)} \\text{  ,  L'eau extraite doit être réinjectée sur un cycle d'une journée}\n",
    "$$\n",
    "Où $d^{(S)}$ représente la hauteur d'eau élevée par MWh et $d^{(Y)}$ la hauteur d'eau prélevée lorsque la centrale $Y$ fonctionne.<br>\n",
    "On met à jour les contraintes suivante:\n",
    "$$\n",
    "\\sum_X P_t^{(X)} + \\sum_Y H_t^{(Y)}P^{(Y)}-S_t= D_t \\text{  ,  Contrainte équilibre offre-demande}\n",
    "$$"
   ]
  },
  {
   "cell_type": "code",
   "execution_count": 20,
   "metadata": {},
   "outputs": [
    {
     "name": "stdout",
     "output_type": "stream",
     "text": [
      "Gurobi Optimizer version 9.5.2 build v9.5.2rc0 (win64)\n",
      "Thread count: 4 physical cores, 8 logical processors, using up to 8 threads\n",
      "Optimize a model with 385 rows, 336 columns and 1080 nonzeros\n",
      "Model fingerprint: 0x2a90ce11\n",
      "Variable types: 96 continuous, 240 integer (96 binary)\n",
      "Coefficient statistics:\n",
      "  Matrix range     [3e-04, 4e+03]\n",
      "  Objective range  [1e+00, 2e+03]\n",
      "  Bounds range     [1e+00, 1e+01]\n",
      "  RHS range        [5e+00, 4e+04]\n",
      "Found heuristic solution: objective 1491600.0000\n",
      "Presolve removed 72 rows and 0 columns\n",
      "Presolve time: 0.00s\n",
      "Presolved: 313 rows, 336 columns, 936 nonzeros\n",
      "Variable types: 96 continuous, 240 integer (96 binary)\n",
      "Found heuristic solution: objective 1463225.0000\n",
      "\n",
      "Root relaxation: objective 9.850143e+05, 145 iterations, 0.00 seconds (0.00 work units)\n",
      "\n",
      "    Nodes    |    Current Node    |     Objective Bounds      |     Work\n",
      " Expl Unexpl |  Obj  Depth IntInf | Incumbent    BestBd   Gap | It/Node Time\n",
      "\n",
      "     0     0 985014.286    0   26 1463225.00 985014.286  32.7%     -    0s\n",
      "H    0     0                    994935.00000 985014.286  1.00%     -    0s\n",
      "H    0     0                    991890.00000 985014.286  0.69%     -    0s\n",
      "H    0     0                    990145.00000 985014.286  0.52%     -    0s\n",
      "     0     0 985814.126    0   48 990145.000 985814.126  0.44%     -    0s\n",
      "     0     0 985814.126    0   48 990145.000 985814.126  0.44%     -    0s\n",
      "H    0     0                    988290.00000 985814.126  0.25%     -    0s\n",
      "H    0     0                    988040.00000 985814.126  0.23%     -    0s\n",
      "     0     2 985814.126    0   48 988040.000 985814.126  0.23%     -    0s\n",
      "H    2     4                    988002.00000 986022.114  0.20%   4.0    0s\n",
      "H    5     8                    986630.00000 986022.114  0.06%   8.8    0s\n",
      "H   21    13                    986290.00000 986051.521  0.02%   8.0    0s\n",
      "\n",
      "Cutting planes:\n",
      "  Gomory: 5\n",
      "  MIR: 24\n",
      "\n",
      "Explored 45 nodes (439 simplex iterations) in 0.11 seconds (0.04 work units)\n",
      "Thread count was 8 (of 8 available processors)\n",
      "\n",
      "Solution count 10: 986290 986630 988002 ... 1.4916e+06\n",
      "\n",
      "Optimal solution found (tolerance 1.00e-04)\n",
      "Best objective 9.862900000000e+05, best bound 9.862900000000e+05, gap 0.0000%\n"
     ]
    }
   ],
   "source": [
    "from utils import contraintes_reservoir, contraintes_equilibre_avec_STEP\n",
    "\n",
    "model = gp.Model(name=\"5.2\")\n",
    "\n",
    "dict_H, dict_Hstart = variable_decision_hydraulique(model,dict_Hydro)\n",
    "dict_N, dict_Nstart, dict_P = variable_decision_thermique_avec_demarrage(model,dict_Thermique)\n",
    "dict_S = {t : model.addVar(lb=0,vtype=gp.GRB.CONTINUOUS,name=f\"pompage à l'instant {t}\") for t in range(24)}\n",
    "debit_S = 1/3000 # débit de pompage par MWh ou par MW pendant une heure\n",
    "\n",
    "model.setObjective(\n",
    "    gp.quicksum([dict_N[X,t] * (dict_Thermique[X].Cbase - dict_Thermique[X].Pmin*dict_Thermique[X].Cmwh) for X in dict_Thermique for t in range(24)]) + \n",
    "    gp.quicksum([dict_P[X,t] * dict_Thermique[X].Cmwh for X in dict_Thermique for t in range(24)])+ \n",
    "    gp.quicksum([dict_Nstart[X,t]*dict_Thermique[X].Cstart for X in dict_Thermique for t in range(24)])+\n",
    "    gp.quicksum([dict_H[Y,t] * dict_Hydro[Y].Cheure for Y in dict_Hydro for t in range(24)])+\n",
    "    gp.quicksum([dict_Hstart[Y,t] * dict_Hydro[Y].Cstart for Y in dict_Hydro for t in range(24)]),\n",
    "    gp.GRB.MINIMIZE\n",
    "    )\n",
    "\n",
    "contraintes_demarrage(model,dict_N,dict_Nstart,dict_Thermique,cyclique=True)\n",
    "contraintes_puissance_thermique(model,dict_N,dict_P,dict_Thermique)\n",
    "contraintes_reservoir(model,dict_S,dict_Hydro,dict_H,debit_S)\n",
    "contraintes_equilibre_avec_STEP(model,dict_H,dict_P,dict_Thermique,dict_Hydro,dict_S,consommation)\n",
    "contraintes_reserve_avec_hydro(model,dict_N,dict_Thermique,dict_Hydro,consommation)\n",
    "contraintes_hydraulique(model,dict_Hstart,dict_H,dict_Hydro)\n",
    "\n",
    "model.optimize()"
   ]
  },
  {
   "cell_type": "code",
   "execution_count": 21,
   "metadata": {},
   "outputs": [
    {
     "data": {
      "application/vnd.plotly.v1+json": {
       "config": {
        "plotlyServerURL": "https://plot.ly"
       },
       "data": [
        {
         "name": "Thermique A",
         "stackgroup": "one",
         "type": "scatter",
         "x": [
          0,
          1,
          2,
          3,
          4,
          5,
          6,
          7,
          8,
          9,
          10,
          11,
          12,
          13,
          14,
          15,
          16,
          17,
          18,
          19,
          20,
          21,
          22,
          23
         ],
         "y": [
          10200,
          10200,
          10200,
          10200,
          10200,
          10200,
          14250,
          14250,
          14250,
          10200,
          10200,
          10200,
          10200,
          10200,
          10200,
          21350,
          21350,
          21350,
          10200,
          10200,
          10269.999999999996,
          10200.000000000004,
          11250,
          11250
         ]
        },
        {
         "name": "Thermique B",
         "stackgroup": "one",
         "type": "scatter",
         "x": [
          0,
          1,
          2,
          3,
          4,
          5,
          6,
          7,
          8,
          9,
          10,
          11,
          12,
          13,
          14,
          15,
          16,
          17,
          18,
          19,
          20,
          21,
          22,
          23
         ],
         "y": [
          5250,
          5250,
          5250,
          5250,
          5250,
          5250,
          15750,
          15750,
          15750,
          15750,
          15750,
          15750,
          15750,
          15750,
          15750,
          15750,
          15750,
          15750,
          15750,
          15750,
          15750,
          15750,
          15750,
          15750
         ]
        },
        {
         "name": "Thermique C",
         "stackgroup": "one",
         "type": "scatter",
         "x": [
          0,
          1,
          2,
          3,
          4,
          5,
          6,
          7,
          8,
          9,
          10,
          11,
          12,
          13,
          14,
          15,
          16,
          17,
          18,
          19,
          20,
          21,
          22,
          23
         ],
         "y": [
          0,
          0,
          0,
          0,
          0,
          0,
          0,
          0,
          0,
          0,
          0,
          0,
          0,
          0,
          0,
          1500,
          1500,
          1500,
          0,
          0,
          0,
          0,
          0,
          0
         ]
        },
        {
         "name": "Hydraulique 9",
         "stackgroup": "one",
         "type": "scatter",
         "x": [
          0,
          1,
          2,
          3,
          4,
          5,
          6,
          7,
          8,
          9,
          10,
          11,
          12,
          13,
          14,
          15,
          16,
          17,
          18,
          19,
          20,
          21,
          22,
          23
         ],
         "y": [
          0,
          0,
          0,
          0,
          0,
          0,
          0,
          0,
          0,
          0,
          0,
          0,
          0,
          0,
          0,
          0,
          0,
          0,
          0,
          0,
          0,
          0,
          0,
          0
         ]
        },
        {
         "name": "Hydraulique 14",
         "stackgroup": "one",
         "type": "scatter",
         "x": [
          0,
          1,
          2,
          3,
          4,
          5,
          6,
          7,
          8,
          9,
          10,
          11,
          12,
          13,
          14,
          15,
          16,
          17,
          18,
          19,
          20,
          21,
          22,
          23
         ],
         "y": [
          0,
          0,
          0,
          0,
          0,
          0,
          0,
          0,
          0,
          0,
          0,
          0,
          0,
          0,
          0,
          1400,
          1400,
          1400,
          1400,
          1400,
          1400,
          1400,
          0,
          0
         ]
        },
        {
         "name": "Pompage",
         "stackgroup": "two",
         "type": "scatter",
         "x": [
          0,
          1,
          2,
          3,
          4,
          5,
          6,
          7,
          8,
          9,
          10,
          11,
          12,
          13,
          14,
          15,
          16,
          17,
          18,
          19,
          20,
          21,
          22,
          23
         ],
         "y": [
          -450,
          -450,
          -450,
          -450,
          -450,
          -450,
          0,
          0,
          0,
          -950,
          -950,
          -950,
          -950,
          -950,
          -950,
          0,
          0,
          0,
          -350,
          -350,
          -419.99999999999545,
          -350.00000000000273,
          0,
          0
         ]
        },
        {
         "line": {
          "color": "red",
          "dash": "dash"
         },
         "name": "Production total",
         "type": "scatter",
         "x": [
          0,
          1,
          2,
          3,
          4,
          5,
          6,
          7,
          8,
          9,
          10,
          11,
          12,
          13,
          14,
          15,
          16,
          17,
          18,
          19,
          20,
          21,
          22,
          23
         ],
         "y": [
          15000,
          15000,
          15000,
          15000,
          15000,
          15000,
          30000,
          30000,
          30000,
          25000,
          25000,
          25000,
          25000,
          25000,
          25000,
          40000,
          40000,
          40000,
          27000,
          27000,
          27000,
          27000,
          27000,
          27000
         ]
        },
        {
         "line": {
          "color": "black"
         },
         "name": "Coût MWh",
         "type": "scatter",
         "x": [
          0,
          1,
          2,
          3,
          4,
          5,
          6,
          7,
          8,
          9,
          10,
          11,
          12,
          13,
          14,
          15,
          16,
          17,
          18,
          19,
          20,
          21,
          22,
          23
         ],
         "y": [
          1.45,
          1.45,
          1.45,
          1.45,
          1.45,
          1.45,
          1.845,
          1.645,
          1.645,
          1.65,
          1.65,
          1.65,
          1.65,
          1.65,
          1.65,
          1.71,
          1.6675,
          1.6675,
          1.5333333333333334,
          1.5333333333333334,
          1.5385185185185182,
          1.5333333333333337,
          1.6055555555555556,
          1.6055555555555556
         ],
         "yaxis": "y2"
        },
        {
         "line": {
          "color": "grey"
         },
         "name": "Niveau réservoir",
         "type": "scatter",
         "x": [
          0,
          1,
          2,
          3,
          4,
          5,
          6,
          7,
          8,
          9,
          10,
          11,
          12,
          13,
          14,
          15,
          16,
          17,
          18,
          19,
          20,
          21,
          22,
          23
         ],
         "y": [
          0.15,
          0.3,
          0.44999999999999996,
          0.6,
          0.75,
          0.9,
          0.9,
          0.9,
          0.9,
          1.2166666666666668,
          1.5333333333333334,
          1.85,
          2.166666666666667,
          2.4833333333333334,
          2.8,
          2.33,
          1.86,
          1.3900000000000001,
          1.0366666666666668,
          0.6833333333333336,
          0.35333333333333206,
          -3.3306690738754696e-16,
          -3.3306690738754696e-16,
          -3.3306690738754696e-16
         ],
         "yaxis": "y3"
        }
       ],
       "layout": {
        "hovermode": "x",
        "legend": {
         "orientation": "h",
         "x": 1,
         "xanchor": "right",
         "y": 1.02,
         "yanchor": "bottom"
        },
        "template": {
         "data": {
          "bar": [
           {
            "error_x": {
             "color": "#2a3f5f"
            },
            "error_y": {
             "color": "#2a3f5f"
            },
            "marker": {
             "line": {
              "color": "#E5ECF6",
              "width": 0.5
             },
             "pattern": {
              "fillmode": "overlay",
              "size": 10,
              "solidity": 0.2
             }
            },
            "type": "bar"
           }
          ],
          "barpolar": [
           {
            "marker": {
             "line": {
              "color": "#E5ECF6",
              "width": 0.5
             },
             "pattern": {
              "fillmode": "overlay",
              "size": 10,
              "solidity": 0.2
             }
            },
            "type": "barpolar"
           }
          ],
          "carpet": [
           {
            "aaxis": {
             "endlinecolor": "#2a3f5f",
             "gridcolor": "white",
             "linecolor": "white",
             "minorgridcolor": "white",
             "startlinecolor": "#2a3f5f"
            },
            "baxis": {
             "endlinecolor": "#2a3f5f",
             "gridcolor": "white",
             "linecolor": "white",
             "minorgridcolor": "white",
             "startlinecolor": "#2a3f5f"
            },
            "type": "carpet"
           }
          ],
          "choropleth": [
           {
            "colorbar": {
             "outlinewidth": 0,
             "ticks": ""
            },
            "type": "choropleth"
           }
          ],
          "contour": [
           {
            "colorbar": {
             "outlinewidth": 0,
             "ticks": ""
            },
            "colorscale": [
             [
              0,
              "#0d0887"
             ],
             [
              0.1111111111111111,
              "#46039f"
             ],
             [
              0.2222222222222222,
              "#7201a8"
             ],
             [
              0.3333333333333333,
              "#9c179e"
             ],
             [
              0.4444444444444444,
              "#bd3786"
             ],
             [
              0.5555555555555556,
              "#d8576b"
             ],
             [
              0.6666666666666666,
              "#ed7953"
             ],
             [
              0.7777777777777778,
              "#fb9f3a"
             ],
             [
              0.8888888888888888,
              "#fdca26"
             ],
             [
              1,
              "#f0f921"
             ]
            ],
            "type": "contour"
           }
          ],
          "contourcarpet": [
           {
            "colorbar": {
             "outlinewidth": 0,
             "ticks": ""
            },
            "type": "contourcarpet"
           }
          ],
          "heatmap": [
           {
            "colorbar": {
             "outlinewidth": 0,
             "ticks": ""
            },
            "colorscale": [
             [
              0,
              "#0d0887"
             ],
             [
              0.1111111111111111,
              "#46039f"
             ],
             [
              0.2222222222222222,
              "#7201a8"
             ],
             [
              0.3333333333333333,
              "#9c179e"
             ],
             [
              0.4444444444444444,
              "#bd3786"
             ],
             [
              0.5555555555555556,
              "#d8576b"
             ],
             [
              0.6666666666666666,
              "#ed7953"
             ],
             [
              0.7777777777777778,
              "#fb9f3a"
             ],
             [
              0.8888888888888888,
              "#fdca26"
             ],
             [
              1,
              "#f0f921"
             ]
            ],
            "type": "heatmap"
           }
          ],
          "heatmapgl": [
           {
            "colorbar": {
             "outlinewidth": 0,
             "ticks": ""
            },
            "colorscale": [
             [
              0,
              "#0d0887"
             ],
             [
              0.1111111111111111,
              "#46039f"
             ],
             [
              0.2222222222222222,
              "#7201a8"
             ],
             [
              0.3333333333333333,
              "#9c179e"
             ],
             [
              0.4444444444444444,
              "#bd3786"
             ],
             [
              0.5555555555555556,
              "#d8576b"
             ],
             [
              0.6666666666666666,
              "#ed7953"
             ],
             [
              0.7777777777777778,
              "#fb9f3a"
             ],
             [
              0.8888888888888888,
              "#fdca26"
             ],
             [
              1,
              "#f0f921"
             ]
            ],
            "type": "heatmapgl"
           }
          ],
          "histogram": [
           {
            "marker": {
             "pattern": {
              "fillmode": "overlay",
              "size": 10,
              "solidity": 0.2
             }
            },
            "type": "histogram"
           }
          ],
          "histogram2d": [
           {
            "colorbar": {
             "outlinewidth": 0,
             "ticks": ""
            },
            "colorscale": [
             [
              0,
              "#0d0887"
             ],
             [
              0.1111111111111111,
              "#46039f"
             ],
             [
              0.2222222222222222,
              "#7201a8"
             ],
             [
              0.3333333333333333,
              "#9c179e"
             ],
             [
              0.4444444444444444,
              "#bd3786"
             ],
             [
              0.5555555555555556,
              "#d8576b"
             ],
             [
              0.6666666666666666,
              "#ed7953"
             ],
             [
              0.7777777777777778,
              "#fb9f3a"
             ],
             [
              0.8888888888888888,
              "#fdca26"
             ],
             [
              1,
              "#f0f921"
             ]
            ],
            "type": "histogram2d"
           }
          ],
          "histogram2dcontour": [
           {
            "colorbar": {
             "outlinewidth": 0,
             "ticks": ""
            },
            "colorscale": [
             [
              0,
              "#0d0887"
             ],
             [
              0.1111111111111111,
              "#46039f"
             ],
             [
              0.2222222222222222,
              "#7201a8"
             ],
             [
              0.3333333333333333,
              "#9c179e"
             ],
             [
              0.4444444444444444,
              "#bd3786"
             ],
             [
              0.5555555555555556,
              "#d8576b"
             ],
             [
              0.6666666666666666,
              "#ed7953"
             ],
             [
              0.7777777777777778,
              "#fb9f3a"
             ],
             [
              0.8888888888888888,
              "#fdca26"
             ],
             [
              1,
              "#f0f921"
             ]
            ],
            "type": "histogram2dcontour"
           }
          ],
          "mesh3d": [
           {
            "colorbar": {
             "outlinewidth": 0,
             "ticks": ""
            },
            "type": "mesh3d"
           }
          ],
          "parcoords": [
           {
            "line": {
             "colorbar": {
              "outlinewidth": 0,
              "ticks": ""
             }
            },
            "type": "parcoords"
           }
          ],
          "pie": [
           {
            "automargin": true,
            "type": "pie"
           }
          ],
          "scatter": [
           {
            "fillpattern": {
             "fillmode": "overlay",
             "size": 10,
             "solidity": 0.2
            },
            "type": "scatter"
           }
          ],
          "scatter3d": [
           {
            "line": {
             "colorbar": {
              "outlinewidth": 0,
              "ticks": ""
             }
            },
            "marker": {
             "colorbar": {
              "outlinewidth": 0,
              "ticks": ""
             }
            },
            "type": "scatter3d"
           }
          ],
          "scattercarpet": [
           {
            "marker": {
             "colorbar": {
              "outlinewidth": 0,
              "ticks": ""
             }
            },
            "type": "scattercarpet"
           }
          ],
          "scattergeo": [
           {
            "marker": {
             "colorbar": {
              "outlinewidth": 0,
              "ticks": ""
             }
            },
            "type": "scattergeo"
           }
          ],
          "scattergl": [
           {
            "marker": {
             "colorbar": {
              "outlinewidth": 0,
              "ticks": ""
             }
            },
            "type": "scattergl"
           }
          ],
          "scattermapbox": [
           {
            "marker": {
             "colorbar": {
              "outlinewidth": 0,
              "ticks": ""
             }
            },
            "type": "scattermapbox"
           }
          ],
          "scatterpolar": [
           {
            "marker": {
             "colorbar": {
              "outlinewidth": 0,
              "ticks": ""
             }
            },
            "type": "scatterpolar"
           }
          ],
          "scatterpolargl": [
           {
            "marker": {
             "colorbar": {
              "outlinewidth": 0,
              "ticks": ""
             }
            },
            "type": "scatterpolargl"
           }
          ],
          "scatterternary": [
           {
            "marker": {
             "colorbar": {
              "outlinewidth": 0,
              "ticks": ""
             }
            },
            "type": "scatterternary"
           }
          ],
          "surface": [
           {
            "colorbar": {
             "outlinewidth": 0,
             "ticks": ""
            },
            "colorscale": [
             [
              0,
              "#0d0887"
             ],
             [
              0.1111111111111111,
              "#46039f"
             ],
             [
              0.2222222222222222,
              "#7201a8"
             ],
             [
              0.3333333333333333,
              "#9c179e"
             ],
             [
              0.4444444444444444,
              "#bd3786"
             ],
             [
              0.5555555555555556,
              "#d8576b"
             ],
             [
              0.6666666666666666,
              "#ed7953"
             ],
             [
              0.7777777777777778,
              "#fb9f3a"
             ],
             [
              0.8888888888888888,
              "#fdca26"
             ],
             [
              1,
              "#f0f921"
             ]
            ],
            "type": "surface"
           }
          ],
          "table": [
           {
            "cells": {
             "fill": {
              "color": "#EBF0F8"
             },
             "line": {
              "color": "white"
             }
            },
            "header": {
             "fill": {
              "color": "#C8D4E3"
             },
             "line": {
              "color": "white"
             }
            },
            "type": "table"
           }
          ]
         },
         "layout": {
          "annotationdefaults": {
           "arrowcolor": "#2a3f5f",
           "arrowhead": 0,
           "arrowwidth": 1
          },
          "autotypenumbers": "strict",
          "coloraxis": {
           "colorbar": {
            "outlinewidth": 0,
            "ticks": ""
           }
          },
          "colorscale": {
           "diverging": [
            [
             0,
             "#8e0152"
            ],
            [
             0.1,
             "#c51b7d"
            ],
            [
             0.2,
             "#de77ae"
            ],
            [
             0.3,
             "#f1b6da"
            ],
            [
             0.4,
             "#fde0ef"
            ],
            [
             0.5,
             "#f7f7f7"
            ],
            [
             0.6,
             "#e6f5d0"
            ],
            [
             0.7,
             "#b8e186"
            ],
            [
             0.8,
             "#7fbc41"
            ],
            [
             0.9,
             "#4d9221"
            ],
            [
             1,
             "#276419"
            ]
           ],
           "sequential": [
            [
             0,
             "#0d0887"
            ],
            [
             0.1111111111111111,
             "#46039f"
            ],
            [
             0.2222222222222222,
             "#7201a8"
            ],
            [
             0.3333333333333333,
             "#9c179e"
            ],
            [
             0.4444444444444444,
             "#bd3786"
            ],
            [
             0.5555555555555556,
             "#d8576b"
            ],
            [
             0.6666666666666666,
             "#ed7953"
            ],
            [
             0.7777777777777778,
             "#fb9f3a"
            ],
            [
             0.8888888888888888,
             "#fdca26"
            ],
            [
             1,
             "#f0f921"
            ]
           ],
           "sequentialminus": [
            [
             0,
             "#0d0887"
            ],
            [
             0.1111111111111111,
             "#46039f"
            ],
            [
             0.2222222222222222,
             "#7201a8"
            ],
            [
             0.3333333333333333,
             "#9c179e"
            ],
            [
             0.4444444444444444,
             "#bd3786"
            ],
            [
             0.5555555555555556,
             "#d8576b"
            ],
            [
             0.6666666666666666,
             "#ed7953"
            ],
            [
             0.7777777777777778,
             "#fb9f3a"
            ],
            [
             0.8888888888888888,
             "#fdca26"
            ],
            [
             1,
             "#f0f921"
            ]
           ]
          },
          "colorway": [
           "#636efa",
           "#EF553B",
           "#00cc96",
           "#ab63fa",
           "#FFA15A",
           "#19d3f3",
           "#FF6692",
           "#B6E880",
           "#FF97FF",
           "#FECB52"
          ],
          "font": {
           "color": "#2a3f5f"
          },
          "geo": {
           "bgcolor": "white",
           "lakecolor": "white",
           "landcolor": "#E5ECF6",
           "showlakes": true,
           "showland": true,
           "subunitcolor": "white"
          },
          "hoverlabel": {
           "align": "left"
          },
          "hovermode": "closest",
          "mapbox": {
           "style": "light"
          },
          "paper_bgcolor": "white",
          "plot_bgcolor": "#E5ECF6",
          "polar": {
           "angularaxis": {
            "gridcolor": "white",
            "linecolor": "white",
            "ticks": ""
           },
           "bgcolor": "#E5ECF6",
           "radialaxis": {
            "gridcolor": "white",
            "linecolor": "white",
            "ticks": ""
           }
          },
          "scene": {
           "xaxis": {
            "backgroundcolor": "#E5ECF6",
            "gridcolor": "white",
            "gridwidth": 2,
            "linecolor": "white",
            "showbackground": true,
            "ticks": "",
            "zerolinecolor": "white"
           },
           "yaxis": {
            "backgroundcolor": "#E5ECF6",
            "gridcolor": "white",
            "gridwidth": 2,
            "linecolor": "white",
            "showbackground": true,
            "ticks": "",
            "zerolinecolor": "white"
           },
           "zaxis": {
            "backgroundcolor": "#E5ECF6",
            "gridcolor": "white",
            "gridwidth": 2,
            "linecolor": "white",
            "showbackground": true,
            "ticks": "",
            "zerolinecolor": "white"
           }
          },
          "shapedefaults": {
           "line": {
            "color": "#2a3f5f"
           }
          },
          "ternary": {
           "aaxis": {
            "gridcolor": "white",
            "linecolor": "white",
            "ticks": ""
           },
           "baxis": {
            "gridcolor": "white",
            "linecolor": "white",
            "ticks": ""
           },
           "bgcolor": "#E5ECF6",
           "caxis": {
            "gridcolor": "white",
            "linecolor": "white",
            "ticks": ""
           }
          },
          "title": {
           "x": 0.05
          },
          "xaxis": {
           "automargin": true,
           "gridcolor": "white",
           "linecolor": "white",
           "ticks": "",
           "title": {
            "standoff": 15
           },
           "zerolinecolor": "white",
           "zerolinewidth": 2
          },
          "yaxis": {
           "automargin": true,
           "gridcolor": "white",
           "linecolor": "white",
           "ticks": "",
           "title": {
            "standoff": 15
           },
           "zerolinecolor": "white",
           "zerolinewidth": 2
          }
         }
        },
        "title": {
         "text": "Répartition de la production électrique dans la journée - 5.2 - Coût de la journée : 986 k€"
        },
        "xaxis": {
         "domain": [
          0.1,
          1
         ]
        },
        "yaxis": {
         "range": [
          -1045,
          44000
         ],
         "title": {
          "text": "MW"
         }
        },
        "yaxis2": {
         "anchor": "free",
         "overlaying": "y",
         "position": 1,
         "range": [
          1,
          2.5
         ],
         "side": "right",
         "title": {
          "text": "€/MWh"
         }
        },
        "yaxis3": {
         "anchor": "free",
         "overlaying": "y",
         "position": 0.05,
         "range": [
          -5,
          10
         ],
         "side": "left",
         "title": {
          "text": "Réservoir (m)"
         }
        }
       }
      }
     },
     "metadata": {},
     "output_type": "display_data"
    }
   ],
   "source": [
    "from utils_viz import df_results52, Results_viz52\n",
    "df = df_results52(dict_N,dict_P,dict_Nstart,dict_Thermique,dict_H,dict_Hstart,dict_Hydro,dict_S,debit_S,consommation)\n",
    "fig = Results_viz52(df,dict_Thermique,dict_Hydro)\n",
    "A = \"5.2\"\n",
    "fig.update_layout(\n",
    "    title = f\"Répartition de la production électrique dans la journée - {A} - Coût de la journée : {int(np.around(model.ObjVal/1000,0))} k€\"\n",
    ")\n",
    "fig.show()\n",
    "fig.write_html(f\"HTML/Répartition de la production électrique dans la journée - {A}.html\")\n",
    "df.to_csv(f\"CSV/Résultats - {A}.csv\",index=False)"
   ]
  },
  {
   "cell_type": "markdown",
   "metadata": {},
   "source": [
    "### 5.3 Paliers de fonctionnement\n",
    "\n",
    "Les variables de décisions concernant l'hydroélectricité deviennent :\n",
    "$$\n",
    "H_t^{(Y,n)} \\in \\{0,1\\} = \\text{La centrale hydroélectrique } Y \\text{ fonctionne au palier } n \\text{ à l'instant } t\n",
    "$$\n",
    "$$\n",
    "H_{start,t}^{(Y)} \\in \\{0,1\\} = \\text{  La centrale hydroélectrique $Y$ démarre à l'instant $t$}\n",
    "$$\n",
    "Les contraintes suivantes sont modifiées :\n",
    "\n",
    "$$\n",
    "\\text{(5.3.1) Equilibre offre-demande : } \\sum_X P_t^{(X)} + \\sum_{Y,n} H_t^{(Y,n)}P^{(Y,n)}-S_t= D_t\n",
    "$$\n",
    "$$\n",
    "\\text{(5.3.2) Réserve de puissance : } \\sum_X N_t^{(X)}P_{max}^{(X)} + \\sum_Y P^{(Y,n_{max})}\\geq D_t\\times 1,15\n",
    "$$\n",
    "$$\n",
    "\\text{(5.3.3) Niveau réservoir : } \\sum_t S_t d^{(S)} = \\sum_{t,Y,n} H_t^{(Y,n)}d^{(Y,n)}\n",
    "$$\n",
    "\n",
    "Les contraintes sur les démarrages et les paliers deviennent :\n",
    "$$\n",
    "\\text{(5.3.4) Un seul palier fonctionne à la fois , }\\sum_n H_t^{(Y,n)} \\leq 1\n",
    "$$\n",
    "$$\n",
    "\\text{(5.3.5)  Si un palier fonctionne alors il y avait déjà un palier actif ou la centrale est démarrée , } H_t^{(Y,n)} \\leq \\sum_n H_{t-1}^{(Y,n)} + H_{start,t}^{(Y)}\n",
    "$$\n",
    "Modification de la fonction objectif :\n",
    "$$\n",
    "\\text{Minimiser} \\sum_X \\sum_t (P_t^{(X)} - P_{min}^{(X)}N_t^{(X)}) C_{MWh}^{(X)} + N_t^{(X)}C_{base}^{(X)} + N_{start,t}^{(X)}C_{start}^{(X)} + \\sum_{Y,n} \\sum_t H_t^{(Y,n)}C_{base}^{(Y,n)} + \\sum_Y H_{start,t}^{(Y)}C_{start}^{(Y)}\n",
    "$$\n",
    "Où $P^{(Y,n)}$ est la puissance de la centrale $Y$ au palier $n$, $d^{(Y,n)}$ est l'abaissement sur une heure quand la centrale $Y$ fonctionne au palier $n$ et $C_{base}^{(Y,n)}$ est le coût du fonctionnement de la centrale $Y$ pendant une heure de fonctionnement au palier $n$"
   ]
  },
  {
   "cell_type": "code",
   "execution_count": 22,
   "metadata": {},
   "outputs": [
    {
     "name": "stdout",
     "output_type": "stream",
     "text": [
      "Gurobi Optimizer version 9.5.2 build v9.5.2rc0 (win64)\n",
      "Thread count: 4 physical cores, 8 logical processors, using up to 8 threads\n",
      "Optimize a model with 433 rows, 480 columns and 1848 nonzeros\n",
      "Model fingerprint: 0xd3c4d88d\n",
      "Variable types: 96 continuous, 384 integer (240 binary)\n",
      "Coefficient statistics:\n",
      "  Matrix range     [3e-04, 4e+03]\n",
      "  Objective range  [1e+00, 2e+03]\n",
      "  Bounds range     [1e+00, 1e+01]\n",
      "  RHS range        [1e+00, 4e+04]\n",
      "Presolve removed 72 rows and 0 columns\n",
      "Presolve time: 0.00s\n",
      "Presolved: 361 rows, 480 columns, 1704 nonzeros\n",
      "Variable types: 96 continuous, 384 integer (240 binary)\n",
      "Found heuristic solution: objective 1114770.0000\n",
      "Found heuristic solution: objective 1086990.0000\n",
      "Found heuristic solution: objective 1026475.0000\n",
      "\n",
      "Root relaxation: objective 9.850143e+05, 244 iterations, 0.00 seconds (0.00 work units)\n",
      "\n",
      "    Nodes    |    Current Node    |     Objective Bounds      |     Work\n",
      " Expl Unexpl |  Obj  Depth IntInf | Incumbent    BestBd   Gap | It/Node Time\n",
      "\n",
      "     0     0 985014.286    0   26 1026475.00 985014.286  4.04%     -    0s\n",
      "H    0     0                    994935.00000 985014.286  1.00%     -    0s\n",
      "H    0     0                    990145.00000 985014.286  0.52%     -    0s\n",
      "H    0     0                    987635.00000 985677.273  0.20%     -    0s\n",
      "     0     0 985677.273    0   48 987635.000 985677.273  0.20%     -    0s\n",
      "H    0     0                    987176.00000 985677.273  0.15%     -    0s\n",
      "     0     0 985681.649    0   48 987176.000 985681.649  0.15%     -    0s\n",
      "     0     0 985681.649    0   26 987176.000 985681.649  0.15%     -    0s\n",
      "     0     0 985681.649    0   48 987176.000 985681.649  0.15%     -    0s\n",
      "H    0     0                    987076.00000 985681.649  0.14%     -    0s\n",
      "     0     0 985687.391    0   48 987076.000 985687.391  0.14%     -    0s\n",
      "H    0     0                    986256.00000 985687.391  0.06%     -    0s\n",
      "     0     0 985687.391    0   21 986256.000 985687.391  0.06%     -    0s\n",
      "     0     0 985687.391    0   45 986256.000 985687.391  0.06%     -    0s\n",
      "     0     0 985687.391    0   41 986256.000 985687.391  0.06%     -    0s\n",
      "     0     0 985687.391    0   41 986256.000 985687.391  0.06%     -    0s\n",
      "     0     2 985687.391    0   41 986256.000 985687.391  0.06%     -    0s\n",
      "H   28     7                    986160.00000 985789.464  0.04%   9.4    0s\n",
      "\n",
      "Cutting planes:\n",
      "  Gomory: 2\n",
      "  MIR: 22\n",
      "\n",
      "Explored 50 nodes (1170 simplex iterations) in 0.23 seconds (0.07 work units)\n",
      "Thread count was 8 (of 8 available processors)\n",
      "\n",
      "Solution count 10: 986160 986256 987076 ... 1.11477e+06\n",
      "\n",
      "Optimal solution found (tolerance 1.00e-04)\n",
      "Best objective 9.861600000000e+05, best bound 9.861380000000e+05, gap 0.0022%\n"
     ]
    }
   ],
   "source": [
    "from utils import Centrale_hydro2\n",
    "from utils import variables_decision_hydraulique_palier\n",
    "from utils import contraintes_reserve_palier, contraintes_reservoir_palier, contraintes_hydraulique_palier, contraintes_equilibre_palier\n",
    "\n",
    "model = gp.Model(name=\"5.3\")\n",
    "\n",
    "dict_Hydro = {\n",
    "    9 : Centrale_hydro2(\n",
    "    name = \"Hydro 900 MW\",\n",
    "    P = {1 : 900, 2 : 950, 3 : 1000, 4 : 1100},\n",
    "    Cstart = 1500,\n",
    "    Cheure= {1 : 90, 2 : 95, 3 : 105, 4 : 120},\n",
    "    Palier = [1, 2, 3, 4],\n",
    "    debit= {1 : 0.31, 2 : 0.33, 3 : 0.35, 4 : 0.38}\n",
    "),\n",
    "    14 : Centrale_hydro2(\n",
    "    name = \"Hydro 1400 MW\",\n",
    "    P = {1 : 1400, 2 : 1500, 3 : 1600, 4 : 1700},\n",
    "    Cstart = 1200,\n",
    "    Cheure= {1 : 150, 2 : 165, 3 : 185, 4 : 210},\n",
    "    Palier = [1, 2, 3, 4],\n",
    "    debit= {1 : 0.47, 2 : 0.50, 3 : 0.53, 4 : 0.56}\n",
    ")\n",
    "}\n",
    "\n",
    "dict_H, dict_Hstart = variables_decision_hydraulique_palier(model,dict_Hydro)\n",
    "dict_N, dict_Nstart, dict_P = variable_decision_thermique_avec_demarrage(model,dict_Thermique)\n",
    "dict_S = {t : model.addVar(lb=0,vtype=gp.GRB.CONTINUOUS,name=f\"pompage à l'instant {t}\") for t in range(24)}\n",
    "debit_S = 1/3000 # débit de pompage par MWh ou par MW pendant une heure\n",
    "\n",
    "model.setObjective(\n",
    "    gp.quicksum([dict_N[X,t] * (dict_Thermique[X].Cbase - dict_Thermique[X].Pmin*dict_Thermique[X].Cmwh) for X in dict_Thermique for t in range(24)]) + \n",
    "    gp.quicksum([dict_P[X,t] * dict_Thermique[X].Cmwh for X in dict_Thermique for t in range(24)])+ \n",
    "    gp.quicksum([dict_Nstart[X,t]*dict_Thermique[X].Cstart for X in dict_Thermique for t in range(24)])+\n",
    "    gp.quicksum([dict_H[Y,n,t] * dict_Hydro[Y].Cheure[n] for Y in dict_Hydro for t in range(24) for n in dict_Hydro[Y].Palier])+\n",
    "    gp.quicksum([dict_Hstart[Y,t] * dict_Hydro[Y].Cstart for Y in dict_Hydro for t in range(24)]),\n",
    "    gp.GRB.MINIMIZE\n",
    "    )\n",
    "\n",
    "contraintes_demarrage(model,dict_N,dict_Nstart,dict_Thermique,cyclique=True)\n",
    "contraintes_puissance_thermique(model,dict_N,dict_P,dict_Thermique)\n",
    "contraintes_equilibre_palier(model,dict_P,dict_Thermique,dict_H,dict_Hydro,dict_S,consommation)\n",
    "contraintes_reserve_palier(model,dict_N,dict_Thermique,dict_Hydro,consommation)\n",
    "contraintes_reservoir_palier(model,dict_H,dict_Hydro,dict_S,debit_S)\n",
    "contraintes_hydraulique_palier(model,dict_H,dict_Hydro,dict_Hstart)\n",
    "\n",
    "model.optimize()"
   ]
  },
  {
   "cell_type": "code",
   "execution_count": 23,
   "metadata": {},
   "outputs": [
    {
     "data": {
      "application/vnd.plotly.v1+json": {
       "config": {
        "plotlyServerURL": "https://plot.ly"
       },
       "data": [
        {
         "name": "Thermique A",
         "stackgroup": "one",
         "type": "scatter",
         "x": [
          0,
          1,
          2,
          3,
          4,
          5,
          6,
          7,
          8,
          9,
          10,
          11,
          12,
          13,
          14,
          15,
          16,
          17,
          18,
          19,
          20,
          21,
          22,
          23
         ],
         "y": [
          10199.99999999999,
          10199.99999999999,
          10199.99999999999,
          10199.99999999999,
          10199.99999999999,
          10199.99999999999,
          14300,
          14300,
          14300,
          10200.000000000002,
          10200.000000000002,
          10200.000000000002,
          10200,
          10200,
          10200.000000000002,
          21050,
          21050,
          21050,
          10199.999999999996,
          10199.999999999996,
          11300,
          11300,
          11300,
          11300
         ]
        },
        {
         "name": "Thermique B",
         "stackgroup": "one",
         "type": "scatter",
         "x": [
          0,
          1,
          2,
          3,
          4,
          5,
          6,
          7,
          8,
          9,
          10,
          11,
          12,
          13,
          14,
          15,
          16,
          17,
          18,
          19,
          20,
          21,
          22,
          23
         ],
         "y": [
          8749.999999999998,
          8749.999999999998,
          8749.999999999998,
          8749.999999999998,
          8749.999999999998,
          8749.999999999998,
          14000,
          14000,
          14000,
          14000,
          14000,
          14000,
          14000,
          14000,
          14000,
          15750,
          15750,
          15750,
          15750,
          15750,
          14000,
          14000,
          14000,
          14000
         ]
        },
        {
         "name": "Thermique C",
         "stackgroup": "one",
         "type": "scatter",
         "x": [
          0,
          1,
          2,
          3,
          4,
          5,
          6,
          7,
          8,
          9,
          10,
          11,
          12,
          13,
          14,
          15,
          16,
          17,
          18,
          19,
          20,
          21,
          22,
          23
         ],
         "y": [
          0,
          0,
          0,
          0,
          0,
          0,
          0,
          0,
          0,
          0,
          0,
          0,
          0,
          0,
          0,
          1500,
          1500,
          1500,
          0,
          0,
          0,
          0,
          0,
          0
         ]
        },
        {
         "name": "Hydraulique 9",
         "stackgroup": "one",
         "type": "scatter",
         "x": [
          0,
          1,
          2,
          3,
          4,
          5,
          6,
          7,
          8,
          9,
          10,
          11,
          12,
          13,
          14,
          15,
          16,
          17,
          18,
          19,
          20,
          21,
          22,
          23
         ],
         "y": [
          0,
          0,
          0,
          0,
          0,
          0,
          0,
          0,
          0,
          0,
          0,
          0,
          0,
          0,
          0,
          0,
          0,
          0,
          0,
          0,
          0,
          0,
          0,
          0
         ]
        },
        {
         "name": "Hydraulique 14",
         "stackgroup": "one",
         "type": "scatter",
         "x": [
          0,
          1,
          2,
          3,
          4,
          5,
          6,
          7,
          8,
          9,
          10,
          11,
          12,
          13,
          14,
          15,
          16,
          17,
          18,
          19,
          20,
          21,
          22,
          23
         ],
         "y": [
          1500,
          1500,
          1500,
          1500,
          1500,
          1500,
          1700,
          1700,
          1700,
          1500,
          1500,
          1500,
          1500,
          1500,
          1500,
          1700,
          1700,
          1700,
          1500,
          1500,
          1700,
          1700,
          1700,
          1700
         ]
        },
        {
         "name": "Pompage",
         "stackgroup": "two",
         "type": "scatter",
         "x": [
          0,
          1,
          2,
          3,
          4,
          5,
          6,
          7,
          8,
          9,
          10,
          11,
          12,
          13,
          14,
          15,
          16,
          17,
          18,
          19,
          20,
          21,
          22,
          23
         ],
         "y": [
          -5449.999999999991,
          -5449.999999999991,
          -5449.999999999991,
          -5449.999999999991,
          -5449.999999999991,
          -5449.999999999991,
          0,
          0,
          0,
          -700.0000000000022,
          -700.0000000000022,
          -700.0000000000022,
          -700,
          -700,
          -700.0000000000022,
          0,
          0,
          0,
          -449.9999999999982,
          -449.9999999999982,
          0,
          0,
          0,
          0
         ]
        },
        {
         "line": {
          "color": "red",
          "dash": "dash"
         },
         "name": "Production total",
         "type": "scatter",
         "x": [
          0,
          1,
          2,
          3,
          4,
          5,
          6,
          7,
          8,
          9,
          10,
          11,
          12,
          13,
          14,
          15,
          16,
          17,
          18,
          19,
          20,
          21,
          22,
          23
         ],
         "y": [
          14999.999999999998,
          14999.999999999998,
          14999.999999999998,
          14999.999999999998,
          14999.999999999998,
          14999.999999999998,
          30000,
          30000,
          30000,
          24999.999999999996,
          24999.999999999996,
          24999.999999999996,
          25000,
          25000,
          24999.999999999996,
          40000,
          40000,
          40000,
          27000,
          27000,
          27000,
          27000,
          27000,
          27000
         ]
        },
        {
         "line": {
          "color": "black"
         },
         "name": "Coût MWh",
         "type": "scatter",
         "x": [
          0,
          1,
          2,
          3,
          4,
          5,
          6,
          7,
          8,
          9,
          10,
          11,
          12,
          13,
          14,
          15,
          16,
          17,
          18,
          19,
          20,
          21,
          22,
          23
         ],
         "y": [
          1.894333333333332,
          1.894333333333332,
          1.894333333333332,
          1.894333333333332,
          1.894333333333332,
          1.894333333333332,
          1.647,
          1.547,
          1.547,
          1.5266000000000002,
          1.5266000000000002,
          1.5266000000000002,
          1.5266,
          1.5266,
          1.5266000000000002,
          1.6915,
          1.654,
          1.654,
          1.5338888888888886,
          1.5338888888888886,
          1.4966666666666666,
          1.4966666666666666,
          1.4966666666666666,
          1.4966666666666666
         ],
         "yaxis": "y2"
        },
        {
         "line": {
          "color": "grey"
         },
         "name": "Niveau réservoir",
         "type": "scatter",
         "x": [
          0,
          1,
          2,
          3,
          4,
          5,
          6,
          7,
          8,
          9,
          10,
          11,
          12,
          13,
          14,
          15,
          16,
          17,
          18,
          19,
          20,
          21,
          22,
          23
         ],
         "y": [
          1.3166666666666635,
          2.633333333333327,
          3.9499999999999904,
          5.266666666666654,
          6.583333333333318,
          7.899999999999982,
          7.339999999999982,
          6.779999999999982,
          6.219999999999981,
          5.953333333333315,
          5.68666666666665,
          5.419999999999984,
          5.153333333333317,
          4.886666666666651,
          4.619999999999985,
          4.0599999999999845,
          3.4999999999999845,
          2.9399999999999844,
          2.589999999999984,
          2.2399999999999833,
          1.6799999999999833,
          1.1199999999999832,
          0.5599999999999832,
          -1.687538997430238e-14
         ],
         "yaxis": "y3"
        }
       ],
       "layout": {
        "hovermode": "x",
        "legend": {
         "orientation": "h",
         "x": 1,
         "xanchor": "right",
         "y": 1.02,
         "yanchor": "bottom"
        },
        "template": {
         "data": {
          "bar": [
           {
            "error_x": {
             "color": "#2a3f5f"
            },
            "error_y": {
             "color": "#2a3f5f"
            },
            "marker": {
             "line": {
              "color": "#E5ECF6",
              "width": 0.5
             },
             "pattern": {
              "fillmode": "overlay",
              "size": 10,
              "solidity": 0.2
             }
            },
            "type": "bar"
           }
          ],
          "barpolar": [
           {
            "marker": {
             "line": {
              "color": "#E5ECF6",
              "width": 0.5
             },
             "pattern": {
              "fillmode": "overlay",
              "size": 10,
              "solidity": 0.2
             }
            },
            "type": "barpolar"
           }
          ],
          "carpet": [
           {
            "aaxis": {
             "endlinecolor": "#2a3f5f",
             "gridcolor": "white",
             "linecolor": "white",
             "minorgridcolor": "white",
             "startlinecolor": "#2a3f5f"
            },
            "baxis": {
             "endlinecolor": "#2a3f5f",
             "gridcolor": "white",
             "linecolor": "white",
             "minorgridcolor": "white",
             "startlinecolor": "#2a3f5f"
            },
            "type": "carpet"
           }
          ],
          "choropleth": [
           {
            "colorbar": {
             "outlinewidth": 0,
             "ticks": ""
            },
            "type": "choropleth"
           }
          ],
          "contour": [
           {
            "colorbar": {
             "outlinewidth": 0,
             "ticks": ""
            },
            "colorscale": [
             [
              0,
              "#0d0887"
             ],
             [
              0.1111111111111111,
              "#46039f"
             ],
             [
              0.2222222222222222,
              "#7201a8"
             ],
             [
              0.3333333333333333,
              "#9c179e"
             ],
             [
              0.4444444444444444,
              "#bd3786"
             ],
             [
              0.5555555555555556,
              "#d8576b"
             ],
             [
              0.6666666666666666,
              "#ed7953"
             ],
             [
              0.7777777777777778,
              "#fb9f3a"
             ],
             [
              0.8888888888888888,
              "#fdca26"
             ],
             [
              1,
              "#f0f921"
             ]
            ],
            "type": "contour"
           }
          ],
          "contourcarpet": [
           {
            "colorbar": {
             "outlinewidth": 0,
             "ticks": ""
            },
            "type": "contourcarpet"
           }
          ],
          "heatmap": [
           {
            "colorbar": {
             "outlinewidth": 0,
             "ticks": ""
            },
            "colorscale": [
             [
              0,
              "#0d0887"
             ],
             [
              0.1111111111111111,
              "#46039f"
             ],
             [
              0.2222222222222222,
              "#7201a8"
             ],
             [
              0.3333333333333333,
              "#9c179e"
             ],
             [
              0.4444444444444444,
              "#bd3786"
             ],
             [
              0.5555555555555556,
              "#d8576b"
             ],
             [
              0.6666666666666666,
              "#ed7953"
             ],
             [
              0.7777777777777778,
              "#fb9f3a"
             ],
             [
              0.8888888888888888,
              "#fdca26"
             ],
             [
              1,
              "#f0f921"
             ]
            ],
            "type": "heatmap"
           }
          ],
          "heatmapgl": [
           {
            "colorbar": {
             "outlinewidth": 0,
             "ticks": ""
            },
            "colorscale": [
             [
              0,
              "#0d0887"
             ],
             [
              0.1111111111111111,
              "#46039f"
             ],
             [
              0.2222222222222222,
              "#7201a8"
             ],
             [
              0.3333333333333333,
              "#9c179e"
             ],
             [
              0.4444444444444444,
              "#bd3786"
             ],
             [
              0.5555555555555556,
              "#d8576b"
             ],
             [
              0.6666666666666666,
              "#ed7953"
             ],
             [
              0.7777777777777778,
              "#fb9f3a"
             ],
             [
              0.8888888888888888,
              "#fdca26"
             ],
             [
              1,
              "#f0f921"
             ]
            ],
            "type": "heatmapgl"
           }
          ],
          "histogram": [
           {
            "marker": {
             "pattern": {
              "fillmode": "overlay",
              "size": 10,
              "solidity": 0.2
             }
            },
            "type": "histogram"
           }
          ],
          "histogram2d": [
           {
            "colorbar": {
             "outlinewidth": 0,
             "ticks": ""
            },
            "colorscale": [
             [
              0,
              "#0d0887"
             ],
             [
              0.1111111111111111,
              "#46039f"
             ],
             [
              0.2222222222222222,
              "#7201a8"
             ],
             [
              0.3333333333333333,
              "#9c179e"
             ],
             [
              0.4444444444444444,
              "#bd3786"
             ],
             [
              0.5555555555555556,
              "#d8576b"
             ],
             [
              0.6666666666666666,
              "#ed7953"
             ],
             [
              0.7777777777777778,
              "#fb9f3a"
             ],
             [
              0.8888888888888888,
              "#fdca26"
             ],
             [
              1,
              "#f0f921"
             ]
            ],
            "type": "histogram2d"
           }
          ],
          "histogram2dcontour": [
           {
            "colorbar": {
             "outlinewidth": 0,
             "ticks": ""
            },
            "colorscale": [
             [
              0,
              "#0d0887"
             ],
             [
              0.1111111111111111,
              "#46039f"
             ],
             [
              0.2222222222222222,
              "#7201a8"
             ],
             [
              0.3333333333333333,
              "#9c179e"
             ],
             [
              0.4444444444444444,
              "#bd3786"
             ],
             [
              0.5555555555555556,
              "#d8576b"
             ],
             [
              0.6666666666666666,
              "#ed7953"
             ],
             [
              0.7777777777777778,
              "#fb9f3a"
             ],
             [
              0.8888888888888888,
              "#fdca26"
             ],
             [
              1,
              "#f0f921"
             ]
            ],
            "type": "histogram2dcontour"
           }
          ],
          "mesh3d": [
           {
            "colorbar": {
             "outlinewidth": 0,
             "ticks": ""
            },
            "type": "mesh3d"
           }
          ],
          "parcoords": [
           {
            "line": {
             "colorbar": {
              "outlinewidth": 0,
              "ticks": ""
             }
            },
            "type": "parcoords"
           }
          ],
          "pie": [
           {
            "automargin": true,
            "type": "pie"
           }
          ],
          "scatter": [
           {
            "fillpattern": {
             "fillmode": "overlay",
             "size": 10,
             "solidity": 0.2
            },
            "type": "scatter"
           }
          ],
          "scatter3d": [
           {
            "line": {
             "colorbar": {
              "outlinewidth": 0,
              "ticks": ""
             }
            },
            "marker": {
             "colorbar": {
              "outlinewidth": 0,
              "ticks": ""
             }
            },
            "type": "scatter3d"
           }
          ],
          "scattercarpet": [
           {
            "marker": {
             "colorbar": {
              "outlinewidth": 0,
              "ticks": ""
             }
            },
            "type": "scattercarpet"
           }
          ],
          "scattergeo": [
           {
            "marker": {
             "colorbar": {
              "outlinewidth": 0,
              "ticks": ""
             }
            },
            "type": "scattergeo"
           }
          ],
          "scattergl": [
           {
            "marker": {
             "colorbar": {
              "outlinewidth": 0,
              "ticks": ""
             }
            },
            "type": "scattergl"
           }
          ],
          "scattermapbox": [
           {
            "marker": {
             "colorbar": {
              "outlinewidth": 0,
              "ticks": ""
             }
            },
            "type": "scattermapbox"
           }
          ],
          "scatterpolar": [
           {
            "marker": {
             "colorbar": {
              "outlinewidth": 0,
              "ticks": ""
             }
            },
            "type": "scatterpolar"
           }
          ],
          "scatterpolargl": [
           {
            "marker": {
             "colorbar": {
              "outlinewidth": 0,
              "ticks": ""
             }
            },
            "type": "scatterpolargl"
           }
          ],
          "scatterternary": [
           {
            "marker": {
             "colorbar": {
              "outlinewidth": 0,
              "ticks": ""
             }
            },
            "type": "scatterternary"
           }
          ],
          "surface": [
           {
            "colorbar": {
             "outlinewidth": 0,
             "ticks": ""
            },
            "colorscale": [
             [
              0,
              "#0d0887"
             ],
             [
              0.1111111111111111,
              "#46039f"
             ],
             [
              0.2222222222222222,
              "#7201a8"
             ],
             [
              0.3333333333333333,
              "#9c179e"
             ],
             [
              0.4444444444444444,
              "#bd3786"
             ],
             [
              0.5555555555555556,
              "#d8576b"
             ],
             [
              0.6666666666666666,
              "#ed7953"
             ],
             [
              0.7777777777777778,
              "#fb9f3a"
             ],
             [
              0.8888888888888888,
              "#fdca26"
             ],
             [
              1,
              "#f0f921"
             ]
            ],
            "type": "surface"
           }
          ],
          "table": [
           {
            "cells": {
             "fill": {
              "color": "#EBF0F8"
             },
             "line": {
              "color": "white"
             }
            },
            "header": {
             "fill": {
              "color": "#C8D4E3"
             },
             "line": {
              "color": "white"
             }
            },
            "type": "table"
           }
          ]
         },
         "layout": {
          "annotationdefaults": {
           "arrowcolor": "#2a3f5f",
           "arrowhead": 0,
           "arrowwidth": 1
          },
          "autotypenumbers": "strict",
          "coloraxis": {
           "colorbar": {
            "outlinewidth": 0,
            "ticks": ""
           }
          },
          "colorscale": {
           "diverging": [
            [
             0,
             "#8e0152"
            ],
            [
             0.1,
             "#c51b7d"
            ],
            [
             0.2,
             "#de77ae"
            ],
            [
             0.3,
             "#f1b6da"
            ],
            [
             0.4,
             "#fde0ef"
            ],
            [
             0.5,
             "#f7f7f7"
            ],
            [
             0.6,
             "#e6f5d0"
            ],
            [
             0.7,
             "#b8e186"
            ],
            [
             0.8,
             "#7fbc41"
            ],
            [
             0.9,
             "#4d9221"
            ],
            [
             1,
             "#276419"
            ]
           ],
           "sequential": [
            [
             0,
             "#0d0887"
            ],
            [
             0.1111111111111111,
             "#46039f"
            ],
            [
             0.2222222222222222,
             "#7201a8"
            ],
            [
             0.3333333333333333,
             "#9c179e"
            ],
            [
             0.4444444444444444,
             "#bd3786"
            ],
            [
             0.5555555555555556,
             "#d8576b"
            ],
            [
             0.6666666666666666,
             "#ed7953"
            ],
            [
             0.7777777777777778,
             "#fb9f3a"
            ],
            [
             0.8888888888888888,
             "#fdca26"
            ],
            [
             1,
             "#f0f921"
            ]
           ],
           "sequentialminus": [
            [
             0,
             "#0d0887"
            ],
            [
             0.1111111111111111,
             "#46039f"
            ],
            [
             0.2222222222222222,
             "#7201a8"
            ],
            [
             0.3333333333333333,
             "#9c179e"
            ],
            [
             0.4444444444444444,
             "#bd3786"
            ],
            [
             0.5555555555555556,
             "#d8576b"
            ],
            [
             0.6666666666666666,
             "#ed7953"
            ],
            [
             0.7777777777777778,
             "#fb9f3a"
            ],
            [
             0.8888888888888888,
             "#fdca26"
            ],
            [
             1,
             "#f0f921"
            ]
           ]
          },
          "colorway": [
           "#636efa",
           "#EF553B",
           "#00cc96",
           "#ab63fa",
           "#FFA15A",
           "#19d3f3",
           "#FF6692",
           "#B6E880",
           "#FF97FF",
           "#FECB52"
          ],
          "font": {
           "color": "#2a3f5f"
          },
          "geo": {
           "bgcolor": "white",
           "lakecolor": "white",
           "landcolor": "#E5ECF6",
           "showlakes": true,
           "showland": true,
           "subunitcolor": "white"
          },
          "hoverlabel": {
           "align": "left"
          },
          "hovermode": "closest",
          "mapbox": {
           "style": "light"
          },
          "paper_bgcolor": "white",
          "plot_bgcolor": "#E5ECF6",
          "polar": {
           "angularaxis": {
            "gridcolor": "white",
            "linecolor": "white",
            "ticks": ""
           },
           "bgcolor": "#E5ECF6",
           "radialaxis": {
            "gridcolor": "white",
            "linecolor": "white",
            "ticks": ""
           }
          },
          "scene": {
           "xaxis": {
            "backgroundcolor": "#E5ECF6",
            "gridcolor": "white",
            "gridwidth": 2,
            "linecolor": "white",
            "showbackground": true,
            "ticks": "",
            "zerolinecolor": "white"
           },
           "yaxis": {
            "backgroundcolor": "#E5ECF6",
            "gridcolor": "white",
            "gridwidth": 2,
            "linecolor": "white",
            "showbackground": true,
            "ticks": "",
            "zerolinecolor": "white"
           },
           "zaxis": {
            "backgroundcolor": "#E5ECF6",
            "gridcolor": "white",
            "gridwidth": 2,
            "linecolor": "white",
            "showbackground": true,
            "ticks": "",
            "zerolinecolor": "white"
           }
          },
          "shapedefaults": {
           "line": {
            "color": "#2a3f5f"
           }
          },
          "ternary": {
           "aaxis": {
            "gridcolor": "white",
            "linecolor": "white",
            "ticks": ""
           },
           "baxis": {
            "gridcolor": "white",
            "linecolor": "white",
            "ticks": ""
           },
           "bgcolor": "#E5ECF6",
           "caxis": {
            "gridcolor": "white",
            "linecolor": "white",
            "ticks": ""
           }
          },
          "title": {
           "x": 0.05
          },
          "xaxis": {
           "automargin": true,
           "gridcolor": "white",
           "linecolor": "white",
           "ticks": "",
           "title": {
            "standoff": 15
           },
           "zerolinecolor": "white",
           "zerolinewidth": 2
          },
          "yaxis": {
           "automargin": true,
           "gridcolor": "white",
           "linecolor": "white",
           "ticks": "",
           "title": {
            "standoff": 15
           },
           "zerolinecolor": "white",
           "zerolinewidth": 2
          }
         }
        },
        "title": {
         "text": "Répartition de la production électrique dans la journée - 5.3 - Coût de la journée : 986 k€"
        },
        "xaxis": {
         "domain": [
          0.1,
          1
         ]
        },
        "yaxis": {
         "range": [
          -5994.999999999991,
          44000
         ],
         "title": {
          "text": "MW"
         }
        },
        "yaxis2": {
         "anchor": "free",
         "overlaying": "y",
         "position": 1,
         "range": [
          1,
          2.5
         ],
         "side": "right",
         "title": {
          "text": "€/MWh"
         }
        },
        "yaxis3": {
         "anchor": "free",
         "overlaying": "y",
         "position": 0.05,
         "range": [
          -5,
          10
         ],
         "side": "left",
         "title": {
          "text": "Réservoir (m)"
         }
        }
       }
      }
     },
     "metadata": {},
     "output_type": "display_data"
    }
   ],
   "source": [
    "from utils_viz import df_results53\n",
    "df = df_results53(dict_N,dict_P,dict_Nstart,dict_Thermique,dict_H,dict_Hstart,dict_Hydro,dict_S,debit_S,consommation)\n",
    "fig = Results_viz52(df,dict_Thermique,dict_Hydro)\n",
    "A = \"5.3\"\n",
    "fig.update_layout(\n",
    "    title = f\"Répartition de la production électrique dans la journée - {A} - Coût de la journée : {int(np.around(model.ObjVal/1000,0))} k€\"\n",
    ")\n",
    "fig.show()\n",
    "fig.write_html(f\"HTML/Répartition de la production électrique dans la journée - {A}.html\")\n",
    "df.to_csv(f\"CSV/Résultats - {A}.csv\",index=False)"
   ]
  },
  {
   "cell_type": "markdown",
   "metadata": {},
   "source": [
    "### 5.4 Exclusion pompage et génération hydro\n",
    "\n",
    "On introduit la variable de décision suivante :\n",
    "$$\n",
    "N^{S}_t \\in \\{0,1\\} = \\text{La pompage est en fonctionnement}\n",
    "$$\n",
    "On ajoute les contraintes suivante :\n",
    "$$\n",
    "\\text{(5.4.1) Si une centrale hydroélectrique est activée alors le pompage est désactivé , } \\frac{1}{\\text{Nb centrale hydro}}\\sum_{Y,n}H_t^{Y,n} \\leq 1 - N_t^{(S)}\n",
    "$$\n",
    "$$\n",
    "\\text{(5.4.2) Si le pompage est allumé alors il peut y avoir du pompage , } S_t \\leq M \\times  N_t^{(S)}\n",
    "$$\n",
    "Où $M$ est une quantité égal à l'ensemble de la capacité installé du parc (borne sup de la valeur que peut prendre $S_t$)"
   ]
  },
  {
   "cell_type": "code",
   "execution_count": 24,
   "metadata": {},
   "outputs": [
    {
     "name": "stdout",
     "output_type": "stream",
     "text": [
      "Gurobi Optimizer version 9.5.2 build v9.5.2rc0 (win64)\n",
      "Thread count: 4 physical cores, 8 logical processors, using up to 8 threads\n",
      "Optimize a model with 481 rows, 504 columns and 2112 nonzeros\n",
      "Model fingerprint: 0x9e89f7d2\n",
      "Variable types: 96 continuous, 408 integer (264 binary)\n",
      "Coefficient statistics:\n",
      "  Matrix range     [3e-04, 6e+04]\n",
      "  Objective range  [1e+00, 2e+03]\n",
      "  Bounds range     [1e+00, 1e+01]\n",
      "  RHS range        [1e+00, 4e+04]\n",
      "Presolve removed 96 rows and 0 columns\n",
      "Presolve time: 0.01s\n",
      "Presolved: 385 rows, 504 columns, 1800 nonzeros\n",
      "Variable types: 96 continuous, 408 integer (264 binary)\n",
      "Found heuristic solution: objective 1155935.0000\n",
      "Found heuristic solution: objective 1086990.0000\n",
      "Found heuristic solution: objective 1029100.0000\n",
      "\n",
      "Root relaxation: objective 9.850143e+05, 210 iterations, 0.00 seconds (0.00 work units)\n",
      "\n",
      "    Nodes    |    Current Node    |     Objective Bounds      |     Work\n",
      " Expl Unexpl |  Obj  Depth IntInf | Incumbent    BestBd   Gap | It/Node Time\n",
      "\n",
      "     0     0 985014.286    0   26 1029100.00 985014.286  4.28%     -    0s\n",
      "H    0     0                    994935.00000 985014.286  1.00%     -    0s\n",
      "H    0     0                    990145.00000 985014.286  0.52%     -    0s\n",
      "H    0     0                    989730.00000 985677.273  0.41%     -    0s\n",
      "     0     0 985677.273    0   66 989730.000 985677.273  0.41%     -    0s\n",
      "     0     0 985692.849    0   72 989730.000 985692.849  0.41%     -    0s\n",
      "H    0     0                    988290.00000 985692.849  0.26%     -    0s\n",
      "     0     0 985697.389    0   72 988290.000 985697.389  0.26%     -    0s\n",
      "H    0     0                    988040.00000 985697.389  0.24%     -    0s\n",
      "     0     2 985697.389    0   72 988040.000 985697.389  0.24%     -    0s\n",
      "H   35    40                    986855.00000 986007.287  0.09%  16.7    0s\n",
      "H   75    56                    986771.00000 986031.356  0.07%  13.3    0s\n",
      "\n",
      "Cutting planes:\n",
      "  MIR: 54\n",
      "\n",
      "Explored 335 nodes (4215 simplex iterations) in 0.24 seconds (0.14 work units)\n",
      "Thread count was 8 (of 8 available processors)\n",
      "\n",
      "Solution count 10: 986771 986771 986855 ... 1.08699e+06\n",
      "\n",
      "Optimal solution found (tolerance 1.00e-04)\n",
      "Best objective 9.867710000000e+05, best bound 9.866744586729e+05, gap 0.0098%\n"
     ]
    }
   ],
   "source": [
    "from utils import contraintes_hydraulique_pompage\n",
    "\n",
    "model = gp.Model(\"5.4\")\n",
    "\n",
    "dict_H, dict_Hstart = variables_decision_hydraulique_palier(model,dict_Hydro)\n",
    "dict_N, dict_Nstart, dict_P = variable_decision_thermique_avec_demarrage(model,dict_Thermique)\n",
    "dict_S = {t : model.addVar(lb=0,vtype=gp.GRB.CONTINUOUS,name=f\"pompage à l'instant {t}\") for t in range(24)}\n",
    "dict_N_s = {t : model.addVar(lb=0,vtype=gp.GRB.BINARY,name=f\"fonctionnement pompe à l'instant {t}\") for t in range(24)}\n",
    "debit_S = 1/3000 # débit de pompage par MWh ou par MW pendant une heure\n",
    "M = sum([dict_Thermique[X].N * dict_Thermique[X].Pmax for X in dict_Thermique]) + sum([dict_Hydro[Y].P[dict_Hydro[Y].palier_max()] for Y in dict_Hydro])\n",
    "\n",
    "model.setObjective(\n",
    "    gp.quicksum([dict_N[X,t] * (dict_Thermique[X].Cbase - dict_Thermique[X].Pmin*dict_Thermique[X].Cmwh) for X in dict_Thermique for t in range(24)]) + \n",
    "    gp.quicksum([dict_P[X,t] * dict_Thermique[X].Cmwh for X in dict_Thermique for t in range(24)])+ \n",
    "    gp.quicksum([dict_Nstart[X,t]*dict_Thermique[X].Cstart for X in dict_Thermique for t in range(24)])+\n",
    "    gp.quicksum([dict_H[Y,n,t] * dict_Hydro[Y].Cheure[n] for Y in dict_Hydro for t in range(24) for n in dict_Hydro[Y].Palier])+\n",
    "    gp.quicksum([dict_Hstart[Y,t] * dict_Hydro[Y].Cstart for Y in dict_Hydro for t in range(24)]),\n",
    "    gp.GRB.MINIMIZE\n",
    "    )\n",
    "\n",
    "contraintes_demarrage(model,dict_N,dict_Nstart,dict_Thermique,cyclique=True)\n",
    "contraintes_puissance_thermique(model,dict_N,dict_P,dict_Thermique)\n",
    "contraintes_equilibre_palier(model,dict_P,dict_Thermique,dict_H,dict_Hydro,dict_S,consommation)\n",
    "contraintes_reserve_palier(model,dict_N,dict_Thermique,dict_Hydro,consommation)\n",
    "contraintes_reservoir_palier(model,dict_H,dict_Hydro,dict_S,debit_S)\n",
    "contraintes_hydraulique_palier(model,dict_H,dict_Hydro,dict_Hstart)\n",
    "contraintes_hydraulique_pompage(model,dict_H,dict_Hydro,dict_N_s,dict_S,M)\n",
    "\n",
    "model.optimize()"
   ]
  },
  {
   "cell_type": "code",
   "execution_count": 25,
   "metadata": {},
   "outputs": [
    {
     "data": {
      "application/vnd.plotly.v1+json": {
       "config": {
        "plotlyServerURL": "https://plot.ly"
       },
       "data": [
        {
         "name": "Thermique A",
         "stackgroup": "one",
         "type": "scatter",
         "x": [
          0,
          1,
          2,
          3,
          4,
          5,
          6,
          7,
          8,
          9,
          10,
          11,
          12,
          13,
          14,
          15,
          16,
          17,
          18,
          19,
          20,
          21,
          22,
          23
         ],
         "y": [
          10199.999999999987,
          10199.999999999987,
          10199.999999999995,
          10199.999999999987,
          10199.999999999987,
          10199.999999999995,
          14249.99999999991,
          14249.999999999993,
          14249.999999999993,
          10199.999999999985,
          10199.999999999985,
          10199.999999999987,
          10199.999999999987,
          10199.999999999995,
          10199.999999999995,
          21849.999999999993,
          21849.999999999993,
          21849.999999999985,
          10349.999999999902,
          10349.999999999902,
          10349.999999999905,
          10349.999999999945,
          10349.999999999884,
          10349.999999999887
         ]
        },
        {
         "name": "Thermique B",
         "stackgroup": "one",
         "type": "scatter",
         "x": [
          0,
          1,
          2,
          3,
          4,
          5,
          6,
          7,
          8,
          9,
          10,
          11,
          12,
          13,
          14,
          15,
          16,
          17,
          18,
          19,
          20,
          21,
          22,
          23
         ],
         "y": [
          5220.000000000535,
          5250.000000000017,
          5250.000000000017,
          5250.00000000001,
          5250.000000000001,
          5250.000000000005,
          15750.00000000009,
          15750.000000000007,
          15750.000000000007,
          15750.000000000007,
          15750.000000000004,
          15750.000000000004,
          15750.000000000004,
          15750.000000000004,
          15750.000000000031,
          15750.000000000007,
          15750.000000000007,
          15750.000000000015,
          15750.000000000011,
          15750.000000000011,
          15750.000000000011,
          15750.000000000011,
          15750.000000000011,
          15750.000000000011
         ]
        },
        {
         "name": "Thermique C",
         "stackgroup": "one",
         "type": "scatter",
         "x": [
          0,
          1,
          2,
          3,
          4,
          5,
          6,
          7,
          8,
          9,
          10,
          11,
          12,
          13,
          14,
          15,
          16,
          17,
          18,
          19,
          20,
          21,
          22,
          23
         ],
         "y": [
          0,
          0,
          0,
          0,
          0,
          0,
          0,
          0,
          0,
          0,
          0,
          0,
          0,
          0,
          0,
          1500,
          1500,
          1500,
          0,
          0,
          0,
          0,
          0,
          0
         ]
        },
        {
         "name": "Hydraulique 9",
         "stackgroup": "one",
         "type": "scatter",
         "x": [
          0,
          1,
          2,
          3,
          4,
          5,
          6,
          7,
          8,
          9,
          10,
          11,
          12,
          13,
          14,
          15,
          16,
          17,
          18,
          19,
          20,
          21,
          22,
          23
         ],
         "y": [
          0,
          0,
          0,
          0,
          0,
          0,
          0,
          0,
          0,
          0,
          0,
          0,
          0,
          0,
          0,
          900,
          900,
          900,
          900,
          900,
          900,
          900,
          900,
          900
         ]
        },
        {
         "name": "Hydraulique 14",
         "stackgroup": "one",
         "type": "scatter",
         "x": [
          0,
          1,
          2,
          3,
          4,
          5,
          6,
          7,
          8,
          9,
          10,
          11,
          12,
          13,
          14,
          15,
          16,
          17,
          18,
          19,
          20,
          21,
          22,
          23
         ],
         "y": [
          0,
          0,
          0,
          0,
          0,
          0,
          0,
          0,
          0,
          0,
          0,
          0,
          0,
          0,
          0,
          0,
          0,
          0,
          0,
          0,
          0,
          0,
          0,
          0
         ]
        },
        {
         "name": "Pompage",
         "stackgroup": "two",
         "type": "scatter",
         "x": [
          0,
          1,
          2,
          3,
          4,
          5,
          6,
          7,
          8,
          9,
          10,
          11,
          12,
          13,
          14,
          15,
          16,
          17,
          18,
          19,
          20,
          21,
          22,
          23
         ],
         "y": [
          -420.00000000052245,
          -450.00000000000455,
          -450.0000000000118,
          -449.99999999999727,
          -449.9999999999882,
          -449.9999999999991,
          0,
          0,
          0,
          -949.9999999999927,
          -949.9999999999891,
          -949.9999999999909,
          -949.9999999999909,
          -949.9999999999982,
          -950.0000000000255,
          0,
          0,
          0,
          0,
          0,
          0,
          0,
          0,
          0
         ]
        },
        {
         "line": {
          "color": "red",
          "dash": "dash"
         },
         "name": "Production total",
         "type": "scatter",
         "x": [
          0,
          1,
          2,
          3,
          4,
          5,
          6,
          7,
          8,
          9,
          10,
          11,
          12,
          13,
          14,
          15,
          16,
          17,
          18,
          19,
          20,
          21,
          22,
          23
         ],
         "y": [
          15000,
          15000,
          15000,
          15000,
          15000,
          15000,
          30000,
          30000,
          30000,
          25000,
          25000,
          25000,
          25000,
          25000,
          25000,
          40000,
          40000,
          40000,
          26999.999999999913,
          26999.999999999913,
          26999.999999999916,
          26999.999999999956,
          26999.999999999894,
          26999.999999999898
         ]
        },
        {
         "line": {
          "color": "black"
         },
         "name": "Coût MWh",
         "type": "scatter",
         "x": [
          0,
          1,
          2,
          3,
          4,
          5,
          6,
          7,
          8,
          9,
          10,
          11,
          12,
          13,
          14,
          15,
          16,
          17,
          18,
          19,
          20,
          21,
          22,
          23
         ],
         "y": [
          1.4474000000000447,
          1.4499999999999997,
          1.4500000000000006,
          1.449999999999999,
          1.4499999999999986,
          1.4499999999999995,
          1.844999999999998,
          1.645,
          1.645,
          1.6499999999999995,
          1.6499999999999988,
          1.649999999999999,
          1.649999999999999,
          1.6499999999999997,
          1.6500000000000012,
          1.741,
          1.691,
          1.6909999999999996,
          1.5422222222222204,
          1.5422222222222204,
          1.5422222222222206,
          1.5422222222222213,
          1.5422222222222202,
          1.5422222222222202
         ],
         "yaxis": "y2"
        },
        {
         "line": {
          "color": "grey"
         },
         "name": "Niveau réservoir",
         "type": "scatter",
         "x": [
          0,
          1,
          2,
          3,
          4,
          5,
          6,
          7,
          8,
          9,
          10,
          11,
          12,
          13,
          14,
          15,
          16,
          17,
          18,
          19,
          20,
          21,
          22,
          23
         ],
         "y": [
          0.14000000000017415,
          0.2900000000001757,
          0.4400000000001796,
          0.5900000000001786,
          0.7400000000001746,
          0.8900000000001743,
          0.8900000000001743,
          0.8900000000001743,
          0.8900000000001743,
          1.2066666666668384,
          1.5233333333335015,
          1.840000000000165,
          2.156666666666829,
          2.473333333333495,
          2.79000000000017,
          2.48000000000017,
          2.17000000000017,
          1.86000000000017,
          1.55000000000017,
          1.2400000000001699,
          0.9300000000001698,
          0.6200000000001697,
          0.31000000000016975,
          1.6975310046518644e-13
         ],
         "yaxis": "y3"
        }
       ],
       "layout": {
        "hovermode": "x",
        "legend": {
         "orientation": "h",
         "x": 1,
         "xanchor": "right",
         "y": 1.02,
         "yanchor": "bottom"
        },
        "template": {
         "data": {
          "bar": [
           {
            "error_x": {
             "color": "#2a3f5f"
            },
            "error_y": {
             "color": "#2a3f5f"
            },
            "marker": {
             "line": {
              "color": "#E5ECF6",
              "width": 0.5
             },
             "pattern": {
              "fillmode": "overlay",
              "size": 10,
              "solidity": 0.2
             }
            },
            "type": "bar"
           }
          ],
          "barpolar": [
           {
            "marker": {
             "line": {
              "color": "#E5ECF6",
              "width": 0.5
             },
             "pattern": {
              "fillmode": "overlay",
              "size": 10,
              "solidity": 0.2
             }
            },
            "type": "barpolar"
           }
          ],
          "carpet": [
           {
            "aaxis": {
             "endlinecolor": "#2a3f5f",
             "gridcolor": "white",
             "linecolor": "white",
             "minorgridcolor": "white",
             "startlinecolor": "#2a3f5f"
            },
            "baxis": {
             "endlinecolor": "#2a3f5f",
             "gridcolor": "white",
             "linecolor": "white",
             "minorgridcolor": "white",
             "startlinecolor": "#2a3f5f"
            },
            "type": "carpet"
           }
          ],
          "choropleth": [
           {
            "colorbar": {
             "outlinewidth": 0,
             "ticks": ""
            },
            "type": "choropleth"
           }
          ],
          "contour": [
           {
            "colorbar": {
             "outlinewidth": 0,
             "ticks": ""
            },
            "colorscale": [
             [
              0,
              "#0d0887"
             ],
             [
              0.1111111111111111,
              "#46039f"
             ],
             [
              0.2222222222222222,
              "#7201a8"
             ],
             [
              0.3333333333333333,
              "#9c179e"
             ],
             [
              0.4444444444444444,
              "#bd3786"
             ],
             [
              0.5555555555555556,
              "#d8576b"
             ],
             [
              0.6666666666666666,
              "#ed7953"
             ],
             [
              0.7777777777777778,
              "#fb9f3a"
             ],
             [
              0.8888888888888888,
              "#fdca26"
             ],
             [
              1,
              "#f0f921"
             ]
            ],
            "type": "contour"
           }
          ],
          "contourcarpet": [
           {
            "colorbar": {
             "outlinewidth": 0,
             "ticks": ""
            },
            "type": "contourcarpet"
           }
          ],
          "heatmap": [
           {
            "colorbar": {
             "outlinewidth": 0,
             "ticks": ""
            },
            "colorscale": [
             [
              0,
              "#0d0887"
             ],
             [
              0.1111111111111111,
              "#46039f"
             ],
             [
              0.2222222222222222,
              "#7201a8"
             ],
             [
              0.3333333333333333,
              "#9c179e"
             ],
             [
              0.4444444444444444,
              "#bd3786"
             ],
             [
              0.5555555555555556,
              "#d8576b"
             ],
             [
              0.6666666666666666,
              "#ed7953"
             ],
             [
              0.7777777777777778,
              "#fb9f3a"
             ],
             [
              0.8888888888888888,
              "#fdca26"
             ],
             [
              1,
              "#f0f921"
             ]
            ],
            "type": "heatmap"
           }
          ],
          "heatmapgl": [
           {
            "colorbar": {
             "outlinewidth": 0,
             "ticks": ""
            },
            "colorscale": [
             [
              0,
              "#0d0887"
             ],
             [
              0.1111111111111111,
              "#46039f"
             ],
             [
              0.2222222222222222,
              "#7201a8"
             ],
             [
              0.3333333333333333,
              "#9c179e"
             ],
             [
              0.4444444444444444,
              "#bd3786"
             ],
             [
              0.5555555555555556,
              "#d8576b"
             ],
             [
              0.6666666666666666,
              "#ed7953"
             ],
             [
              0.7777777777777778,
              "#fb9f3a"
             ],
             [
              0.8888888888888888,
              "#fdca26"
             ],
             [
              1,
              "#f0f921"
             ]
            ],
            "type": "heatmapgl"
           }
          ],
          "histogram": [
           {
            "marker": {
             "pattern": {
              "fillmode": "overlay",
              "size": 10,
              "solidity": 0.2
             }
            },
            "type": "histogram"
           }
          ],
          "histogram2d": [
           {
            "colorbar": {
             "outlinewidth": 0,
             "ticks": ""
            },
            "colorscale": [
             [
              0,
              "#0d0887"
             ],
             [
              0.1111111111111111,
              "#46039f"
             ],
             [
              0.2222222222222222,
              "#7201a8"
             ],
             [
              0.3333333333333333,
              "#9c179e"
             ],
             [
              0.4444444444444444,
              "#bd3786"
             ],
             [
              0.5555555555555556,
              "#d8576b"
             ],
             [
              0.6666666666666666,
              "#ed7953"
             ],
             [
              0.7777777777777778,
              "#fb9f3a"
             ],
             [
              0.8888888888888888,
              "#fdca26"
             ],
             [
              1,
              "#f0f921"
             ]
            ],
            "type": "histogram2d"
           }
          ],
          "histogram2dcontour": [
           {
            "colorbar": {
             "outlinewidth": 0,
             "ticks": ""
            },
            "colorscale": [
             [
              0,
              "#0d0887"
             ],
             [
              0.1111111111111111,
              "#46039f"
             ],
             [
              0.2222222222222222,
              "#7201a8"
             ],
             [
              0.3333333333333333,
              "#9c179e"
             ],
             [
              0.4444444444444444,
              "#bd3786"
             ],
             [
              0.5555555555555556,
              "#d8576b"
             ],
             [
              0.6666666666666666,
              "#ed7953"
             ],
             [
              0.7777777777777778,
              "#fb9f3a"
             ],
             [
              0.8888888888888888,
              "#fdca26"
             ],
             [
              1,
              "#f0f921"
             ]
            ],
            "type": "histogram2dcontour"
           }
          ],
          "mesh3d": [
           {
            "colorbar": {
             "outlinewidth": 0,
             "ticks": ""
            },
            "type": "mesh3d"
           }
          ],
          "parcoords": [
           {
            "line": {
             "colorbar": {
              "outlinewidth": 0,
              "ticks": ""
             }
            },
            "type": "parcoords"
           }
          ],
          "pie": [
           {
            "automargin": true,
            "type": "pie"
           }
          ],
          "scatter": [
           {
            "fillpattern": {
             "fillmode": "overlay",
             "size": 10,
             "solidity": 0.2
            },
            "type": "scatter"
           }
          ],
          "scatter3d": [
           {
            "line": {
             "colorbar": {
              "outlinewidth": 0,
              "ticks": ""
             }
            },
            "marker": {
             "colorbar": {
              "outlinewidth": 0,
              "ticks": ""
             }
            },
            "type": "scatter3d"
           }
          ],
          "scattercarpet": [
           {
            "marker": {
             "colorbar": {
              "outlinewidth": 0,
              "ticks": ""
             }
            },
            "type": "scattercarpet"
           }
          ],
          "scattergeo": [
           {
            "marker": {
             "colorbar": {
              "outlinewidth": 0,
              "ticks": ""
             }
            },
            "type": "scattergeo"
           }
          ],
          "scattergl": [
           {
            "marker": {
             "colorbar": {
              "outlinewidth": 0,
              "ticks": ""
             }
            },
            "type": "scattergl"
           }
          ],
          "scattermapbox": [
           {
            "marker": {
             "colorbar": {
              "outlinewidth": 0,
              "ticks": ""
             }
            },
            "type": "scattermapbox"
           }
          ],
          "scatterpolar": [
           {
            "marker": {
             "colorbar": {
              "outlinewidth": 0,
              "ticks": ""
             }
            },
            "type": "scatterpolar"
           }
          ],
          "scatterpolargl": [
           {
            "marker": {
             "colorbar": {
              "outlinewidth": 0,
              "ticks": ""
             }
            },
            "type": "scatterpolargl"
           }
          ],
          "scatterternary": [
           {
            "marker": {
             "colorbar": {
              "outlinewidth": 0,
              "ticks": ""
             }
            },
            "type": "scatterternary"
           }
          ],
          "surface": [
           {
            "colorbar": {
             "outlinewidth": 0,
             "ticks": ""
            },
            "colorscale": [
             [
              0,
              "#0d0887"
             ],
             [
              0.1111111111111111,
              "#46039f"
             ],
             [
              0.2222222222222222,
              "#7201a8"
             ],
             [
              0.3333333333333333,
              "#9c179e"
             ],
             [
              0.4444444444444444,
              "#bd3786"
             ],
             [
              0.5555555555555556,
              "#d8576b"
             ],
             [
              0.6666666666666666,
              "#ed7953"
             ],
             [
              0.7777777777777778,
              "#fb9f3a"
             ],
             [
              0.8888888888888888,
              "#fdca26"
             ],
             [
              1,
              "#f0f921"
             ]
            ],
            "type": "surface"
           }
          ],
          "table": [
           {
            "cells": {
             "fill": {
              "color": "#EBF0F8"
             },
             "line": {
              "color": "white"
             }
            },
            "header": {
             "fill": {
              "color": "#C8D4E3"
             },
             "line": {
              "color": "white"
             }
            },
            "type": "table"
           }
          ]
         },
         "layout": {
          "annotationdefaults": {
           "arrowcolor": "#2a3f5f",
           "arrowhead": 0,
           "arrowwidth": 1
          },
          "autotypenumbers": "strict",
          "coloraxis": {
           "colorbar": {
            "outlinewidth": 0,
            "ticks": ""
           }
          },
          "colorscale": {
           "diverging": [
            [
             0,
             "#8e0152"
            ],
            [
             0.1,
             "#c51b7d"
            ],
            [
             0.2,
             "#de77ae"
            ],
            [
             0.3,
             "#f1b6da"
            ],
            [
             0.4,
             "#fde0ef"
            ],
            [
             0.5,
             "#f7f7f7"
            ],
            [
             0.6,
             "#e6f5d0"
            ],
            [
             0.7,
             "#b8e186"
            ],
            [
             0.8,
             "#7fbc41"
            ],
            [
             0.9,
             "#4d9221"
            ],
            [
             1,
             "#276419"
            ]
           ],
           "sequential": [
            [
             0,
             "#0d0887"
            ],
            [
             0.1111111111111111,
             "#46039f"
            ],
            [
             0.2222222222222222,
             "#7201a8"
            ],
            [
             0.3333333333333333,
             "#9c179e"
            ],
            [
             0.4444444444444444,
             "#bd3786"
            ],
            [
             0.5555555555555556,
             "#d8576b"
            ],
            [
             0.6666666666666666,
             "#ed7953"
            ],
            [
             0.7777777777777778,
             "#fb9f3a"
            ],
            [
             0.8888888888888888,
             "#fdca26"
            ],
            [
             1,
             "#f0f921"
            ]
           ],
           "sequentialminus": [
            [
             0,
             "#0d0887"
            ],
            [
             0.1111111111111111,
             "#46039f"
            ],
            [
             0.2222222222222222,
             "#7201a8"
            ],
            [
             0.3333333333333333,
             "#9c179e"
            ],
            [
             0.4444444444444444,
             "#bd3786"
            ],
            [
             0.5555555555555556,
             "#d8576b"
            ],
            [
             0.6666666666666666,
             "#ed7953"
            ],
            [
             0.7777777777777778,
             "#fb9f3a"
            ],
            [
             0.8888888888888888,
             "#fdca26"
            ],
            [
             1,
             "#f0f921"
            ]
           ]
          },
          "colorway": [
           "#636efa",
           "#EF553B",
           "#00cc96",
           "#ab63fa",
           "#FFA15A",
           "#19d3f3",
           "#FF6692",
           "#B6E880",
           "#FF97FF",
           "#FECB52"
          ],
          "font": {
           "color": "#2a3f5f"
          },
          "geo": {
           "bgcolor": "white",
           "lakecolor": "white",
           "landcolor": "#E5ECF6",
           "showlakes": true,
           "showland": true,
           "subunitcolor": "white"
          },
          "hoverlabel": {
           "align": "left"
          },
          "hovermode": "closest",
          "mapbox": {
           "style": "light"
          },
          "paper_bgcolor": "white",
          "plot_bgcolor": "#E5ECF6",
          "polar": {
           "angularaxis": {
            "gridcolor": "white",
            "linecolor": "white",
            "ticks": ""
           },
           "bgcolor": "#E5ECF6",
           "radialaxis": {
            "gridcolor": "white",
            "linecolor": "white",
            "ticks": ""
           }
          },
          "scene": {
           "xaxis": {
            "backgroundcolor": "#E5ECF6",
            "gridcolor": "white",
            "gridwidth": 2,
            "linecolor": "white",
            "showbackground": true,
            "ticks": "",
            "zerolinecolor": "white"
           },
           "yaxis": {
            "backgroundcolor": "#E5ECF6",
            "gridcolor": "white",
            "gridwidth": 2,
            "linecolor": "white",
            "showbackground": true,
            "ticks": "",
            "zerolinecolor": "white"
           },
           "zaxis": {
            "backgroundcolor": "#E5ECF6",
            "gridcolor": "white",
            "gridwidth": 2,
            "linecolor": "white",
            "showbackground": true,
            "ticks": "",
            "zerolinecolor": "white"
           }
          },
          "shapedefaults": {
           "line": {
            "color": "#2a3f5f"
           }
          },
          "ternary": {
           "aaxis": {
            "gridcolor": "white",
            "linecolor": "white",
            "ticks": ""
           },
           "baxis": {
            "gridcolor": "white",
            "linecolor": "white",
            "ticks": ""
           },
           "bgcolor": "#E5ECF6",
           "caxis": {
            "gridcolor": "white",
            "linecolor": "white",
            "ticks": ""
           }
          },
          "title": {
           "x": 0.05
          },
          "xaxis": {
           "automargin": true,
           "gridcolor": "white",
           "linecolor": "white",
           "ticks": "",
           "title": {
            "standoff": 15
           },
           "zerolinecolor": "white",
           "zerolinewidth": 2
          },
          "yaxis": {
           "automargin": true,
           "gridcolor": "white",
           "linecolor": "white",
           "ticks": "",
           "title": {
            "standoff": 15
           },
           "zerolinecolor": "white",
           "zerolinewidth": 2
          }
         }
        },
        "title": {
         "text": "Répartition de la production électrique dans la journée - 5.4 - Coût de la journée : 987 k€"
        },
        "xaxis": {
         "domain": [
          0.1,
          1
         ]
        },
        "yaxis": {
         "range": [
          -1045.0000000000282,
          44000
         ],
         "title": {
          "text": "MW"
         }
        },
        "yaxis2": {
         "anchor": "free",
         "overlaying": "y",
         "position": 1,
         "range": [
          1,
          2.5
         ],
         "side": "right",
         "title": {
          "text": "€/MWh"
         }
        },
        "yaxis3": {
         "anchor": "free",
         "overlaying": "y",
         "position": 0.05,
         "range": [
          -5,
          10
         ],
         "side": "left",
         "title": {
          "text": "Réservoir (m)"
         }
        }
       }
      }
     },
     "metadata": {},
     "output_type": "display_data"
    }
   ],
   "source": [
    "df = df_results53(dict_N,dict_P,dict_Nstart,dict_Thermique,dict_H,dict_Hstart,dict_Hydro,dict_S,debit_S,consommation)\n",
    "fig = Results_viz52(df,dict_Thermique,dict_Hydro)\n",
    "A = \"5.4\"\n",
    "fig.update_layout(\n",
    "    title = f\"Répartition de la production électrique dans la journée - {A} - Coût de la journée : {int(np.around(model.ObjVal/1000,0))} k€\"\n",
    ")\n",
    "fig.show()\n",
    "fig.write_html(f\"HTML/Répartition de la production électrique dans la journée - {A}.html\")\n",
    "df.to_csv(f\"CSV/Résultats - {A}.csv\",index=False)"
   ]
  },
  {
   "cell_type": "markdown",
   "metadata": {},
   "source": [
    "## 6 Désagrégation\n",
    "\n",
    "## 6.1 Individualisation des centrales\n",
    "\n",
    "Variables de décision :\n",
    "Pour une type de centrale $X \\in [A,B,C]$, $k$ l'identification de la $k$-ieme centrale, et une heure de la journée $t\\in {1,\\dots,24}$, on définit :\n",
    "$$\n",
    "N_t^{(X,k)} \\in\\{0,1\\} \\text{La $k$-ieme centrale $X$ fonctionne à $t$}\n",
    "$$\n",
    "$$\n",
    "N_{start,t}^{(X,k)} \\in\\{0,1\\} \\text{La $k$-ieme centrale $X$ est démarrée à $t$}\n",
    "$$\n",
    "$$\n",
    "P_t^{(X,k)} = \\text{Puissance de la $k$-ième centrale $X$ à l'instant $t$}\n",
    "$$\n",
    "Contraintes :\n",
    "$$\n",
    "N_t^{(X,k)} P_{min}^{(X)} \\leq P_t^{(X,k)} \\leq N_t^{(X,k)} P_{max}^{(X)} \\text{ , (6.1.1) Contraintes sur la puissance totale de chaque centrale}\n",
    "$$\n",
    "$$\n",
    "N_t^{(X,k)} \\leq N_{t-1}^{(X,k)}+N_{start,t}^{(X,k)} \\text{ , (6.1.2) Contraintes sur la puissance totale de chaque centrale}\n",
    "$$\n",
    "$$\n",
    "\\text{(6.1.3) Equilibre offre-demande : } \\sum_X \\sum_{k=1}^{N^{(X)}} P_t^{(X,k)} + \\sum_{Y,n} H_t^{(Y,n)}P^{(Y,n)}-S_t= D_t\n",
    "$$\n",
    "$$\n",
    "\\text{(6.1.4) Réserve de puissance : } \\sum_X \\sum_{k=1}^{N^{(X)}} N_t^{(X,k)}P_{max}^{(X)} + \\sum_Y P^{(Y,n_{max})}\\geq D_t\\times 1,15\n",
    "$$\n",
    "Objectif :\n",
    "$$\n",
    "\\text{Minimiser} \\sum_X \\sum_{k=1}^{N^{(X)}} \\sum_t (P_t^{(X,k)} - P_{min}^{(X)}N_t^{(X,k)}) C_{MWh}^{(X)} + N_t^{(X,k)}C_{base}^{(X)} + N_{start,t}^{(X,k)}C_{start}^{(X)} + \\sum_{Y,n} \\sum_t H_t^{(Y,n)}C_{base}^{(Y,n)} + \\sum_Y H_{start,t}^{(Y)}C_{start}^{(Y)}\n",
    "$$"
   ]
  },
  {
   "cell_type": "code",
   "execution_count": 26,
   "metadata": {},
   "outputs": [
    {
     "name": "stdout",
     "output_type": "stream",
     "text": [
      "Gurobi Optimizer version 9.5.2 build v9.5.2rc0 (win64)\n",
      "Thread count: 4 physical cores, 8 logical processors, using up to 8 threads\n",
      "Optimize a model with 2137 rows, 2232 columns and 7152 nonzeros\n",
      "Model fingerprint: 0x3a60e45c\n",
      "Variable types: 672 continuous, 1560 integer (1560 binary)\n",
      "Coefficient statistics:\n",
      "  Matrix range     [3e-04, 6e+04]\n",
      "  Objective range  [1e+00, 2e+03]\n",
      "  Bounds range     [1e+00, 1e+00]\n",
      "  RHS range        [1e+00, 4e+04]\n",
      "Presolve removed 24 rows and 0 columns\n",
      "Presolve time: 0.02s\n",
      "Presolved: 2113 rows, 2232 columns, 6984 nonzeros\n",
      "Variable types: 672 continuous, 1560 integer (1560 binary)\n",
      "Found heuristic solution: objective 1066070.0000\n",
      "Found heuristic solution: objective 1049400.0000\n",
      "Found heuristic solution: objective 1031950.0000\n",
      "\n",
      "Root relaxation: objective 9.848205e+05, 1445 iterations, 0.02 seconds (0.01 work units)\n",
      "\n",
      "    Nodes    |    Current Node    |     Objective Bounds      |     Work\n",
      " Expl Unexpl |  Obj  Depth IntInf | Incumbent    BestBd   Gap | It/Node Time\n",
      "\n",
      "     0     0 984820.536    0   31 1031950.00 984820.536  4.57%     -    0s\n",
      "H    0     0                    990145.00000 984820.536  0.54%     -    0s\n",
      "H    0     0                    989980.00000 985527.783  0.45%     -    0s\n",
      "     0     0 985527.783    0   75 989980.000 985527.783  0.45%     -    0s\n",
      "H    0     0                    989730.00000 985527.783  0.42%     -    0s\n",
      "     0     0 985527.783    0   75 989730.000 985527.783  0.42%     -    0s\n",
      "     0     0 985550.204    0   98 989730.000 985550.204  0.42%     -    0s\n",
      "     0     0 985550.204    0   98 989730.000 985550.204  0.42%     -    0s\n",
      "H    0     0                    988837.00000 985550.204  0.33%     -    0s\n",
      "     0     0 985680.000    0  100 988837.000 985680.000  0.32%     -    0s\n",
      "     0     0 985680.000    0  105 988837.000 985680.000  0.32%     -    0s\n",
      "H    0     0                    988217.00000 985680.000  0.26%     -    0s\n",
      "     0     0 985680.000    0   94 988217.000 985680.000  0.26%     -    0s\n",
      "     0     0 985680.000    0   73 988217.000 985680.000  0.26%     -    0s\n",
      "     0     0 985680.000    0   73 988217.000 985680.000  0.26%     -    0s\n",
      "     0     0 985680.000    0   73 988217.000 985680.000  0.26%     -    0s\n",
      "     0     2 985680.000    0   73 988217.000 985680.000  0.26%     -    0s\n",
      "H   71    76                    987962.00000 985990.728  0.20%  22.9    1s\n",
      "H  168   157                    987850.00000 985990.728  0.19%  16.6    1s\n",
      "H  210   206                    987390.00000 986017.559  0.14%  15.9    1s\n",
      "H  347   236                    986818.00000 986017.559  0.08%  13.2    1s\n",
      "  6839  1153     cutoff   42      986818.000 986623.835  0.02%   8.0    5s\n",
      "H15465   639                    986771.00000 986657.979  0.01%   8.5    7s\n",
      "\n",
      "Cutting planes:\n",
      "  Lift-and-project: 5\n",
      "  Cover: 2\n",
      "  Projected implied bound: 7\n",
      "  MIR: 22\n",
      "  Flow cover: 9\n",
      "  Inf proof: 1\n",
      "  Relax-and-lift: 1\n",
      "\n",
      "Explored 16562 nodes (141877 simplex iterations) in 7.76 seconds (6.30 work units)\n",
      "Thread count was 8 (of 8 available processors)\n",
      "\n",
      "Solution count 10: 986771 986818 987390 ... 990145\n",
      "\n",
      "Optimal solution found (tolerance 1.00e-04)\n",
      "Best objective 9.867710000000e+05, best bound 9.867148571429e+05, gap 0.0057%\n"
     ]
    }
   ],
   "source": [
    "from utils import variables_decision_desagregation_thermique\n",
    "from utils import contraintes_thermique_desagregation, contraintes_equilibre_desagregation, contraintes_reserve_desagregation\n",
    "\n",
    "model = gp.Model(\"6.1\")\n",
    "\n",
    "dict_N, dict_P, dict_Nstart = variables_decision_desagregation_thermique(model,dict_Thermique)\n",
    "dict_H, dict_Hstart = variables_decision_hydraulique_palier(model,dict_Hydro)\n",
    "dict_S = {t : model.addVar(lb=0,vtype=gp.GRB.CONTINUOUS,name=f\"pompage à l'instant {t}\") for t in range(24)}\n",
    "dict_N_s = {t : model.addVar(lb=0,vtype=gp.GRB.BINARY,name=f\"fonctionnement pompe à l'instant {t}\") for t in range(24)}\n",
    "debit_S = 1/3000 # débit de pompage par MWh ou par MW pendant une heure\n",
    "M = sum([dict_Thermique[X].N * dict_Thermique[X].Pmax for X in dict_Thermique]) + sum([dict_Hydro[Y].P[dict_Hydro[Y].palier_max()] for Y in dict_Hydro])\n",
    "\n",
    "contraintes_reservoir_palier(model,dict_H,dict_Hydro,dict_S,debit_S)\n",
    "contraintes_hydraulique_palier(model,dict_H,dict_Hydro,dict_Hstart)\n",
    "contraintes_hydraulique_pompage(model,dict_H,dict_Hydro,dict_N_s,dict_S,M)\n",
    "contraintes_thermique_desagregation(model,dict_P,dict_N,dict_Nstart,dict_Thermique)\n",
    "contraintes_equilibre_desagregation(model,dict_P,dict_Thermique,dict_H,dict_Hydro,dict_S,consommation)\n",
    "contraintes_reserve_desagregation(model,dict_N,dict_Thermique,dict_Hydro,consommation)\n",
    "\n",
    "model.setObjective(\n",
    "    gp.quicksum([dict_N[X,k,t] * (dict_Thermique[X].Cbase - dict_Thermique[X].Pmin*dict_Thermique[X].Cmwh) for X in dict_Thermique for k in range(dict_Thermique[X].N) for t in range(24)]) + \n",
    "    gp.quicksum([dict_P[X,k,t] * dict_Thermique[X].Cmwh for X in dict_Thermique for k in range(dict_Thermique[X].N) for t in range(24)])+ \n",
    "    gp.quicksum([dict_Nstart[X,k,t]*dict_Thermique[X].Cstart for X in dict_Thermique for k in range(dict_Thermique[X].N) for t in range(24)])+\n",
    "    gp.quicksum([dict_H[Y,n,t] * dict_Hydro[Y].Cheure[n] for Y in dict_Hydro for t in range(24) for n in dict_Hydro[Y].Palier])+\n",
    "    gp.quicksum([dict_Hstart[Y,t] * dict_Hydro[Y].Cstart for Y in dict_Hydro for t in range(24)]),\n",
    "    gp.GRB.MINIMIZE\n",
    "    )\n",
    "\n",
    "model.optimize()"
   ]
  },
  {
   "cell_type": "code",
   "execution_count": 27,
   "metadata": {},
   "outputs": [
    {
     "data": {
      "application/vnd.plotly.v1+json": {
       "config": {
        "plotlyServerURL": "https://plot.ly"
       },
       "data": [
        {
         "name": "Thermique A",
         "stackgroup": "one",
         "type": "scatter",
         "x": [
          0,
          1,
          2,
          3,
          4,
          5,
          6,
          7,
          8,
          9,
          10,
          11,
          12,
          13,
          14,
          15,
          16,
          17,
          18,
          19,
          20,
          21,
          22,
          23
         ],
         "y": [
          10200,
          10200,
          10200,
          10200,
          10200,
          10200,
          14250.000000000002,
          14250.000000000002,
          14250.000000000002,
          10200,
          10200,
          10199.999999999998,
          10199.999999999998,
          10200,
          10200,
          21850,
          21850,
          21850,
          10350.000000000015,
          10349.999999999985,
          10350.000000000004,
          10350.000000000011,
          10350.000000000011,
          10350.000000000011
         ]
        },
        {
         "name": "Thermique B",
         "stackgroup": "one",
         "type": "scatter",
         "x": [
          0,
          1,
          2,
          3,
          4,
          5,
          6,
          7,
          8,
          9,
          10,
          11,
          12,
          13,
          14,
          15,
          16,
          17,
          18,
          19,
          20,
          21,
          22,
          23
         ],
         "y": [
          5244.999999999998,
          5244.999999999998,
          5244.999999999998,
          5244.999999999998,
          5244.999999999998,
          5244.999999999998,
          15750,
          15750,
          15750,
          15750,
          15750,
          15750,
          15750,
          15750,
          15750,
          15750,
          15750,
          15750,
          15749.999999999985,
          15750,
          15749.999999999996,
          15750,
          15750,
          15750
         ]
        },
        {
         "name": "Thermique C",
         "stackgroup": "one",
         "type": "scatter",
         "x": [
          0,
          1,
          2,
          3,
          4,
          5,
          6,
          7,
          8,
          9,
          10,
          11,
          12,
          13,
          14,
          15,
          16,
          17,
          18,
          19,
          20,
          21,
          22,
          23
         ],
         "y": [
          0,
          0,
          0,
          0,
          0,
          0,
          0,
          0,
          0,
          0,
          0,
          0,
          0,
          0,
          0,
          1500,
          1500,
          1500,
          0,
          0,
          0,
          0,
          0,
          0
         ]
        },
        {
         "name": "Hydraulique 9",
         "stackgroup": "one",
         "type": "scatter",
         "x": [
          0,
          1,
          2,
          3,
          4,
          5,
          6,
          7,
          8,
          9,
          10,
          11,
          12,
          13,
          14,
          15,
          16,
          17,
          18,
          19,
          20,
          21,
          22,
          23
         ],
         "y": [
          0,
          0,
          0,
          0,
          0,
          0,
          0,
          0,
          0,
          0,
          0,
          0,
          0,
          0,
          0,
          900,
          900,
          900,
          900,
          900,
          900,
          900,
          900,
          900
         ]
        },
        {
         "name": "Hydraulique 14",
         "stackgroup": "one",
         "type": "scatter",
         "x": [
          0,
          1,
          2,
          3,
          4,
          5,
          6,
          7,
          8,
          9,
          10,
          11,
          12,
          13,
          14,
          15,
          16,
          17,
          18,
          19,
          20,
          21,
          22,
          23
         ],
         "y": [
          0,
          0,
          0,
          0,
          0,
          0,
          0,
          0,
          0,
          0,
          0,
          0,
          0,
          0,
          0,
          0,
          0,
          0,
          0,
          0,
          0,
          0,
          0,
          0
         ]
        },
        {
         "name": "Pompage",
         "stackgroup": "two",
         "type": "scatter",
         "x": [
          0,
          1,
          2,
          3,
          4,
          5,
          6,
          7,
          8,
          9,
          10,
          11,
          12,
          13,
          14,
          15,
          16,
          17,
          18,
          19,
          20,
          21,
          22,
          23
         ],
         "y": [
          -444.99999999999864,
          -444.99999999999864,
          -444.99999999999864,
          -444.99999999999864,
          -444.99999999999864,
          -444.99999999999864,
          0,
          0,
          0,
          -949.9999999999989,
          -949.9999999999989,
          -949.9999999999964,
          -949.9999999999964,
          -949.9999999999989,
          -949.9999999999989,
          0,
          0,
          0,
          0,
          0,
          0,
          0,
          0,
          0
         ]
        },
        {
         "line": {
          "color": "red",
          "dash": "dash"
         },
         "name": "Production total",
         "type": "scatter",
         "x": [
          0,
          1,
          2,
          3,
          4,
          5,
          6,
          7,
          8,
          9,
          10,
          11,
          12,
          13,
          14,
          15,
          16,
          17,
          18,
          19,
          20,
          21,
          22,
          23
         ],
         "y": [
          15000,
          15000,
          15000,
          15000,
          15000,
          15000,
          30000,
          30000,
          30000,
          25000,
          25000,
          25000,
          25000,
          25000,
          25000,
          40000,
          40000,
          40000,
          27000,
          26999.999999999985,
          27000,
          27000.00000000001,
          27000.00000000001,
          27000.00000000001
         ]
        },
        {
         "line": {
          "color": "black"
         },
         "name": "Coût MWh",
         "type": "scatter",
         "x": [
          0,
          1,
          2,
          3,
          4,
          5,
          6,
          7,
          8,
          9,
          10,
          11,
          12,
          13,
          14,
          15,
          16,
          17,
          18,
          19,
          20,
          21,
          22,
          23
         ],
         "y": [
          1.4495666666666667,
          1.4495666666666667,
          1.4495666666666667,
          1.4495666666666667,
          1.4495666666666667,
          1.4495666666666667,
          1.845,
          1.645,
          1.645,
          1.65,
          1.65,
          1.65,
          1.65,
          1.65,
          1.65,
          1.741,
          1.691,
          1.691,
          1.5422222222222228,
          1.542222222222222,
          1.5422222222222222,
          1.5422222222222224,
          1.5422222222222224,
          1.5422222222222224
         ],
         "yaxis": "y2"
        },
        {
         "line": {
          "color": "grey"
         },
         "name": "Niveau réservoir",
         "type": "scatter",
         "x": [
          0,
          1,
          2,
          3,
          4,
          5,
          6,
          7,
          8,
          9,
          10,
          11,
          12,
          13,
          14,
          15,
          16,
          17,
          18,
          19,
          20,
          21,
          22,
          23
         ],
         "y": [
          0.14833333333333287,
          0.29666666666666575,
          0.4449999999999986,
          0.5933333333333315,
          0.7416666666666644,
          0.8899999999999972,
          0.8899999999999972,
          0.8899999999999972,
          0.8899999999999972,
          1.2066666666666634,
          1.5233333333333297,
          1.839999999999995,
          2.1566666666666605,
          2.473333333333327,
          2.7899999999999934,
          2.4799999999999933,
          2.1699999999999933,
          1.8599999999999932,
          1.5499999999999932,
          1.239999999999993,
          0.929999999999993,
          0.619999999999993,
          0.309999999999993,
          -6.994405055138486e-15
         ],
         "yaxis": "y3"
        }
       ],
       "layout": {
        "hovermode": "x",
        "legend": {
         "orientation": "h",
         "x": 1,
         "xanchor": "right",
         "y": 1.02,
         "yanchor": "bottom"
        },
        "template": {
         "data": {
          "bar": [
           {
            "error_x": {
             "color": "#2a3f5f"
            },
            "error_y": {
             "color": "#2a3f5f"
            },
            "marker": {
             "line": {
              "color": "#E5ECF6",
              "width": 0.5
             },
             "pattern": {
              "fillmode": "overlay",
              "size": 10,
              "solidity": 0.2
             }
            },
            "type": "bar"
           }
          ],
          "barpolar": [
           {
            "marker": {
             "line": {
              "color": "#E5ECF6",
              "width": 0.5
             },
             "pattern": {
              "fillmode": "overlay",
              "size": 10,
              "solidity": 0.2
             }
            },
            "type": "barpolar"
           }
          ],
          "carpet": [
           {
            "aaxis": {
             "endlinecolor": "#2a3f5f",
             "gridcolor": "white",
             "linecolor": "white",
             "minorgridcolor": "white",
             "startlinecolor": "#2a3f5f"
            },
            "baxis": {
             "endlinecolor": "#2a3f5f",
             "gridcolor": "white",
             "linecolor": "white",
             "minorgridcolor": "white",
             "startlinecolor": "#2a3f5f"
            },
            "type": "carpet"
           }
          ],
          "choropleth": [
           {
            "colorbar": {
             "outlinewidth": 0,
             "ticks": ""
            },
            "type": "choropleth"
           }
          ],
          "contour": [
           {
            "colorbar": {
             "outlinewidth": 0,
             "ticks": ""
            },
            "colorscale": [
             [
              0,
              "#0d0887"
             ],
             [
              0.1111111111111111,
              "#46039f"
             ],
             [
              0.2222222222222222,
              "#7201a8"
             ],
             [
              0.3333333333333333,
              "#9c179e"
             ],
             [
              0.4444444444444444,
              "#bd3786"
             ],
             [
              0.5555555555555556,
              "#d8576b"
             ],
             [
              0.6666666666666666,
              "#ed7953"
             ],
             [
              0.7777777777777778,
              "#fb9f3a"
             ],
             [
              0.8888888888888888,
              "#fdca26"
             ],
             [
              1,
              "#f0f921"
             ]
            ],
            "type": "contour"
           }
          ],
          "contourcarpet": [
           {
            "colorbar": {
             "outlinewidth": 0,
             "ticks": ""
            },
            "type": "contourcarpet"
           }
          ],
          "heatmap": [
           {
            "colorbar": {
             "outlinewidth": 0,
             "ticks": ""
            },
            "colorscale": [
             [
              0,
              "#0d0887"
             ],
             [
              0.1111111111111111,
              "#46039f"
             ],
             [
              0.2222222222222222,
              "#7201a8"
             ],
             [
              0.3333333333333333,
              "#9c179e"
             ],
             [
              0.4444444444444444,
              "#bd3786"
             ],
             [
              0.5555555555555556,
              "#d8576b"
             ],
             [
              0.6666666666666666,
              "#ed7953"
             ],
             [
              0.7777777777777778,
              "#fb9f3a"
             ],
             [
              0.8888888888888888,
              "#fdca26"
             ],
             [
              1,
              "#f0f921"
             ]
            ],
            "type": "heatmap"
           }
          ],
          "heatmapgl": [
           {
            "colorbar": {
             "outlinewidth": 0,
             "ticks": ""
            },
            "colorscale": [
             [
              0,
              "#0d0887"
             ],
             [
              0.1111111111111111,
              "#46039f"
             ],
             [
              0.2222222222222222,
              "#7201a8"
             ],
             [
              0.3333333333333333,
              "#9c179e"
             ],
             [
              0.4444444444444444,
              "#bd3786"
             ],
             [
              0.5555555555555556,
              "#d8576b"
             ],
             [
              0.6666666666666666,
              "#ed7953"
             ],
             [
              0.7777777777777778,
              "#fb9f3a"
             ],
             [
              0.8888888888888888,
              "#fdca26"
             ],
             [
              1,
              "#f0f921"
             ]
            ],
            "type": "heatmapgl"
           }
          ],
          "histogram": [
           {
            "marker": {
             "pattern": {
              "fillmode": "overlay",
              "size": 10,
              "solidity": 0.2
             }
            },
            "type": "histogram"
           }
          ],
          "histogram2d": [
           {
            "colorbar": {
             "outlinewidth": 0,
             "ticks": ""
            },
            "colorscale": [
             [
              0,
              "#0d0887"
             ],
             [
              0.1111111111111111,
              "#46039f"
             ],
             [
              0.2222222222222222,
              "#7201a8"
             ],
             [
              0.3333333333333333,
              "#9c179e"
             ],
             [
              0.4444444444444444,
              "#bd3786"
             ],
             [
              0.5555555555555556,
              "#d8576b"
             ],
             [
              0.6666666666666666,
              "#ed7953"
             ],
             [
              0.7777777777777778,
              "#fb9f3a"
             ],
             [
              0.8888888888888888,
              "#fdca26"
             ],
             [
              1,
              "#f0f921"
             ]
            ],
            "type": "histogram2d"
           }
          ],
          "histogram2dcontour": [
           {
            "colorbar": {
             "outlinewidth": 0,
             "ticks": ""
            },
            "colorscale": [
             [
              0,
              "#0d0887"
             ],
             [
              0.1111111111111111,
              "#46039f"
             ],
             [
              0.2222222222222222,
              "#7201a8"
             ],
             [
              0.3333333333333333,
              "#9c179e"
             ],
             [
              0.4444444444444444,
              "#bd3786"
             ],
             [
              0.5555555555555556,
              "#d8576b"
             ],
             [
              0.6666666666666666,
              "#ed7953"
             ],
             [
              0.7777777777777778,
              "#fb9f3a"
             ],
             [
              0.8888888888888888,
              "#fdca26"
             ],
             [
              1,
              "#f0f921"
             ]
            ],
            "type": "histogram2dcontour"
           }
          ],
          "mesh3d": [
           {
            "colorbar": {
             "outlinewidth": 0,
             "ticks": ""
            },
            "type": "mesh3d"
           }
          ],
          "parcoords": [
           {
            "line": {
             "colorbar": {
              "outlinewidth": 0,
              "ticks": ""
             }
            },
            "type": "parcoords"
           }
          ],
          "pie": [
           {
            "automargin": true,
            "type": "pie"
           }
          ],
          "scatter": [
           {
            "fillpattern": {
             "fillmode": "overlay",
             "size": 10,
             "solidity": 0.2
            },
            "type": "scatter"
           }
          ],
          "scatter3d": [
           {
            "line": {
             "colorbar": {
              "outlinewidth": 0,
              "ticks": ""
             }
            },
            "marker": {
             "colorbar": {
              "outlinewidth": 0,
              "ticks": ""
             }
            },
            "type": "scatter3d"
           }
          ],
          "scattercarpet": [
           {
            "marker": {
             "colorbar": {
              "outlinewidth": 0,
              "ticks": ""
             }
            },
            "type": "scattercarpet"
           }
          ],
          "scattergeo": [
           {
            "marker": {
             "colorbar": {
              "outlinewidth": 0,
              "ticks": ""
             }
            },
            "type": "scattergeo"
           }
          ],
          "scattergl": [
           {
            "marker": {
             "colorbar": {
              "outlinewidth": 0,
              "ticks": ""
             }
            },
            "type": "scattergl"
           }
          ],
          "scattermapbox": [
           {
            "marker": {
             "colorbar": {
              "outlinewidth": 0,
              "ticks": ""
             }
            },
            "type": "scattermapbox"
           }
          ],
          "scatterpolar": [
           {
            "marker": {
             "colorbar": {
              "outlinewidth": 0,
              "ticks": ""
             }
            },
            "type": "scatterpolar"
           }
          ],
          "scatterpolargl": [
           {
            "marker": {
             "colorbar": {
              "outlinewidth": 0,
              "ticks": ""
             }
            },
            "type": "scatterpolargl"
           }
          ],
          "scatterternary": [
           {
            "marker": {
             "colorbar": {
              "outlinewidth": 0,
              "ticks": ""
             }
            },
            "type": "scatterternary"
           }
          ],
          "surface": [
           {
            "colorbar": {
             "outlinewidth": 0,
             "ticks": ""
            },
            "colorscale": [
             [
              0,
              "#0d0887"
             ],
             [
              0.1111111111111111,
              "#46039f"
             ],
             [
              0.2222222222222222,
              "#7201a8"
             ],
             [
              0.3333333333333333,
              "#9c179e"
             ],
             [
              0.4444444444444444,
              "#bd3786"
             ],
             [
              0.5555555555555556,
              "#d8576b"
             ],
             [
              0.6666666666666666,
              "#ed7953"
             ],
             [
              0.7777777777777778,
              "#fb9f3a"
             ],
             [
              0.8888888888888888,
              "#fdca26"
             ],
             [
              1,
              "#f0f921"
             ]
            ],
            "type": "surface"
           }
          ],
          "table": [
           {
            "cells": {
             "fill": {
              "color": "#EBF0F8"
             },
             "line": {
              "color": "white"
             }
            },
            "header": {
             "fill": {
              "color": "#C8D4E3"
             },
             "line": {
              "color": "white"
             }
            },
            "type": "table"
           }
          ]
         },
         "layout": {
          "annotationdefaults": {
           "arrowcolor": "#2a3f5f",
           "arrowhead": 0,
           "arrowwidth": 1
          },
          "autotypenumbers": "strict",
          "coloraxis": {
           "colorbar": {
            "outlinewidth": 0,
            "ticks": ""
           }
          },
          "colorscale": {
           "diverging": [
            [
             0,
             "#8e0152"
            ],
            [
             0.1,
             "#c51b7d"
            ],
            [
             0.2,
             "#de77ae"
            ],
            [
             0.3,
             "#f1b6da"
            ],
            [
             0.4,
             "#fde0ef"
            ],
            [
             0.5,
             "#f7f7f7"
            ],
            [
             0.6,
             "#e6f5d0"
            ],
            [
             0.7,
             "#b8e186"
            ],
            [
             0.8,
             "#7fbc41"
            ],
            [
             0.9,
             "#4d9221"
            ],
            [
             1,
             "#276419"
            ]
           ],
           "sequential": [
            [
             0,
             "#0d0887"
            ],
            [
             0.1111111111111111,
             "#46039f"
            ],
            [
             0.2222222222222222,
             "#7201a8"
            ],
            [
             0.3333333333333333,
             "#9c179e"
            ],
            [
             0.4444444444444444,
             "#bd3786"
            ],
            [
             0.5555555555555556,
             "#d8576b"
            ],
            [
             0.6666666666666666,
             "#ed7953"
            ],
            [
             0.7777777777777778,
             "#fb9f3a"
            ],
            [
             0.8888888888888888,
             "#fdca26"
            ],
            [
             1,
             "#f0f921"
            ]
           ],
           "sequentialminus": [
            [
             0,
             "#0d0887"
            ],
            [
             0.1111111111111111,
             "#46039f"
            ],
            [
             0.2222222222222222,
             "#7201a8"
            ],
            [
             0.3333333333333333,
             "#9c179e"
            ],
            [
             0.4444444444444444,
             "#bd3786"
            ],
            [
             0.5555555555555556,
             "#d8576b"
            ],
            [
             0.6666666666666666,
             "#ed7953"
            ],
            [
             0.7777777777777778,
             "#fb9f3a"
            ],
            [
             0.8888888888888888,
             "#fdca26"
            ],
            [
             1,
             "#f0f921"
            ]
           ]
          },
          "colorway": [
           "#636efa",
           "#EF553B",
           "#00cc96",
           "#ab63fa",
           "#FFA15A",
           "#19d3f3",
           "#FF6692",
           "#B6E880",
           "#FF97FF",
           "#FECB52"
          ],
          "font": {
           "color": "#2a3f5f"
          },
          "geo": {
           "bgcolor": "white",
           "lakecolor": "white",
           "landcolor": "#E5ECF6",
           "showlakes": true,
           "showland": true,
           "subunitcolor": "white"
          },
          "hoverlabel": {
           "align": "left"
          },
          "hovermode": "closest",
          "mapbox": {
           "style": "light"
          },
          "paper_bgcolor": "white",
          "plot_bgcolor": "#E5ECF6",
          "polar": {
           "angularaxis": {
            "gridcolor": "white",
            "linecolor": "white",
            "ticks": ""
           },
           "bgcolor": "#E5ECF6",
           "radialaxis": {
            "gridcolor": "white",
            "linecolor": "white",
            "ticks": ""
           }
          },
          "scene": {
           "xaxis": {
            "backgroundcolor": "#E5ECF6",
            "gridcolor": "white",
            "gridwidth": 2,
            "linecolor": "white",
            "showbackground": true,
            "ticks": "",
            "zerolinecolor": "white"
           },
           "yaxis": {
            "backgroundcolor": "#E5ECF6",
            "gridcolor": "white",
            "gridwidth": 2,
            "linecolor": "white",
            "showbackground": true,
            "ticks": "",
            "zerolinecolor": "white"
           },
           "zaxis": {
            "backgroundcolor": "#E5ECF6",
            "gridcolor": "white",
            "gridwidth": 2,
            "linecolor": "white",
            "showbackground": true,
            "ticks": "",
            "zerolinecolor": "white"
           }
          },
          "shapedefaults": {
           "line": {
            "color": "#2a3f5f"
           }
          },
          "ternary": {
           "aaxis": {
            "gridcolor": "white",
            "linecolor": "white",
            "ticks": ""
           },
           "baxis": {
            "gridcolor": "white",
            "linecolor": "white",
            "ticks": ""
           },
           "bgcolor": "#E5ECF6",
           "caxis": {
            "gridcolor": "white",
            "linecolor": "white",
            "ticks": ""
           }
          },
          "title": {
           "x": 0.05
          },
          "xaxis": {
           "automargin": true,
           "gridcolor": "white",
           "linecolor": "white",
           "ticks": "",
           "title": {
            "standoff": 15
           },
           "zerolinecolor": "white",
           "zerolinewidth": 2
          },
          "yaxis": {
           "automargin": true,
           "gridcolor": "white",
           "linecolor": "white",
           "ticks": "",
           "title": {
            "standoff": 15
           },
           "zerolinecolor": "white",
           "zerolinewidth": 2
          }
         }
        },
        "title": {
         "text": "Répartition de la production électrique dans la journée - 6.1 - Coût de la journée : 987 k€"
        },
        "xaxis": {
         "domain": [
          0.1,
          1
         ]
        },
        "yaxis": {
         "range": [
          -1044.9999999999989,
          44000
         ],
         "title": {
          "text": "MW"
         }
        },
        "yaxis2": {
         "anchor": "free",
         "overlaying": "y",
         "position": 1,
         "range": [
          1,
          2.5
         ],
         "side": "right",
         "title": {
          "text": "€/MWh"
         }
        },
        "yaxis3": {
         "anchor": "free",
         "overlaying": "y",
         "position": 0.05,
         "range": [
          -5,
          10
         ],
         "side": "left",
         "title": {
          "text": "Réservoir (m)"
         }
        }
       }
      }
     },
     "metadata": {},
     "output_type": "display_data"
    }
   ],
   "source": [
    "from utils_viz import df_results61\n",
    "\n",
    "df = df_results61(dict_N,dict_P,dict_Nstart,dict_Thermique,dict_H,dict_Hstart,dict_Hydro,dict_S,debit_S,consommation)\n",
    "fig = Results_viz52(df,dict_Thermique,dict_Hydro)\n",
    "A = \"6.1\"\n",
    "fig.update_layout(\n",
    "    title = f\"Répartition de la production électrique dans la journée - {A} - Coût de la journée : {int(np.around(model.ObjVal/1000,0))} k€\"\n",
    ")\n",
    "fig.show()\n",
    "fig.write_html(f\"HTML/Répartition de la production électrique dans la journée - {A}.html\")\n",
    "df.to_csv(f\"CSV/Résultats - {A}.csv\",index=False)\n"
   ]
  },
  {
   "cell_type": "markdown",
   "metadata": {},
   "source": [
    "### 6.3 Précision du profil de la demande"
   ]
  },
  {
   "cell_type": "code",
   "execution_count": 28,
   "metadata": {},
   "outputs": [
    {
     "name": "stdout",
     "output_type": "stream",
     "text": [
      "Gurobi Optimizer version 9.5.2 build v9.5.2rc0 (win64)\n",
      "Thread count: 4 physical cores, 8 logical processors, using up to 8 threads\n",
      "Optimize a model with 2137 rows, 2232 columns and 7152 nonzeros\n",
      "Model fingerprint: 0x2d7f75ce\n",
      "Variable types: 672 continuous, 1560 integer (1560 binary)\n",
      "Coefficient statistics:\n",
      "  Matrix range     [3e-04, 6e+04]\n",
      "  Objective range  [1e+00, 2e+03]\n",
      "  Bounds range     [1e+00, 1e+00]\n",
      "  RHS range        [1e+00, 5e+04]\n",
      "Presolve removed 24 rows and 0 columns\n",
      "Presolve time: 0.01s\n",
      "Presolved: 2113 rows, 2232 columns, 6984 nonzeros\n",
      "Variable types: 672 continuous, 1560 integer (1560 binary)\n",
      "Found heuristic solution: objective 1070205.0000\n",
      "Found heuristic solution: objective 1068650.0000\n",
      "\n",
      "Root relaxation: objective 9.865919e+05, 1422 iterations, 0.02 seconds (0.01 work units)\n",
      "\n",
      "    Nodes    |    Current Node    |     Objective Bounds      |     Work\n",
      " Expl Unexpl |  Obj  Depth IntInf | Incumbent    BestBd   Gap | It/Node Time\n",
      "\n",
      "     0     0 986591.867    0   57 1068650.00 986591.867  7.68%     -    0s\n",
      "H    0     0                    1001855.0000 986591.867  1.52%     -    0s\n",
      "H    0     0                    999480.00000 986591.867  1.29%     -    0s\n",
      "H    0     0                    992900.00000 986591.867  0.64%     -    0s\n",
      "     0     0 986628.571    0  100 992900.000 986628.571  0.63%     -    0s\n",
      "     0     0 986659.053    0   93 992900.000 986659.053  0.63%     -    0s\n",
      "     0     0 986748.434    0   91 992900.000 986748.434  0.62%     -    0s\n",
      "     0     0 986757.183    0  100 992900.000 986757.183  0.62%     -    0s\n",
      "     0     0 986757.183    0  109 992900.000 986757.183  0.62%     -    0s\n",
      "H    0     0                    990449.00000 986757.183  0.37%     -    0s\n",
      "     0     0 986805.247    0  102 990449.000 986805.247  0.37%     -    0s\n",
      "     0     0 986822.410    0   79 990449.000 986822.410  0.37%     -    0s\n",
      "     0     0 986824.328    0   89 990449.000 986824.328  0.37%     -    0s\n",
      "H    0     0                    989002.00000 986824.328  0.22%     -    0s\n",
      "     0     0 986824.328    0  114 989002.000 986824.328  0.22%     -    0s\n",
      "H    0     0                    988370.00000 986824.328  0.16%     -    0s\n",
      "     0     0 986828.816    0  128 988370.000 986828.816  0.16%     -    0s\n",
      "     0     0 986828.816    0   58 988370.000 986828.816  0.16%     -    0s\n",
      "     0     0 986828.816    0  124 988370.000 986828.816  0.16%     -    0s\n",
      "     0     0 986828.816    0  130 988370.000 986828.816  0.16%     -    0s\n",
      "     0     0 986828.816    0  123 988370.000 986828.816  0.16%     -    0s\n",
      "     0     0 986828.816    0  126 988370.000 986828.816  0.16%     -    0s\n",
      "     0     0 986860.182    0  180 988370.000 986860.182  0.15%     -    0s\n",
      "     0     0 986882.215    0  171 988370.000 986882.215  0.15%     -    0s\n",
      "     0     0 986882.300    0  133 988370.000 986882.300  0.15%     -    0s\n",
      "     0     0 986909.848    0  181 988370.000 986909.848  0.15%     -    0s\n",
      "     0     0 986910.326    0  135 988370.000 986910.326  0.15%     -    0s\n",
      "     0     2 986910.326    0   93 988370.000 986910.326  0.15%     -    0s\n",
      "H   33    39                    988150.00000 987203.586  0.10%  29.2    0s\n",
      "H  116   119                    988115.00000 987203.586  0.09%  16.0    0s\n",
      "H  172   151                    987865.00000 987222.801  0.07%  13.8    0s\n",
      "H  246   205                    987762.00000 987222.801  0.05%  13.0    1s\n",
      "H  479   247                    987641.00000 987310.213  0.03%  10.7    1s\n",
      "*  697   343              36    987631.00000 987310.416  0.03%   9.5    1s\n",
      "H 1951   815                    987620.00000 987316.696  0.03%   8.3    1s\n",
      "H 2410   996                    987615.00000 987319.309  0.03%   8.0    1s\n",
      " 11448  3787 987611.452   54    1 987615.000 987437.791  0.02%   7.9    5s\n",
      " 30004 10648 987517.880   51  128 987615.000 987485.387  0.01%   6.9   10s\n",
      "\n",
      "Cutting planes:\n",
      "  Gomory: 1\n",
      "  Cover: 1\n",
      "  MIR: 9\n",
      "  StrongCG: 1\n",
      "  Flow cover: 8\n",
      "\n",
      "Explored 30099 nodes (217021 simplex iterations) in 14.04 seconds (7.82 work units)\n",
      "Thread count was 8 (of 8 available processors)\n",
      "\n",
      "Solution count 10: 987615 987615 987615 ... 987641\n",
      "\n",
      "Optimal solution found (tolerance 1.00e-04)\n",
      "Best objective 9.876150000000e+05, best bound 9.875226039275e+05, gap 0.0094%\n"
     ]
    }
   ],
   "source": [
    "consommation = np.array([17,15,14,13,13,18,29,32,29,27,25,25,24,24,25,38,42,40,33,31,27,26,24,21])*1000\n",
    "\n",
    "model = gp.Model(\"6.2\")\n",
    "\n",
    "dict_N, dict_P, dict_Nstart = variables_decision_desagregation_thermique(model,dict_Thermique)\n",
    "dict_H, dict_Hstart = variables_decision_hydraulique_palier(model,dict_Hydro)\n",
    "dict_S = {t : model.addVar(lb=0,vtype=gp.GRB.CONTINUOUS,name=f\"pompage à l'instant {t}\") for t in range(24)}\n",
    "dict_N_s = {t : model.addVar(lb=0,vtype=gp.GRB.BINARY,name=f\"fonctionnement pompe à l'instant {t}\") for t in range(24)}\n",
    "debit_S = 1/3000 # débit de pompage par MWh ou par MW pendant une heure\n",
    "M = sum([dict_Thermique[X].N * dict_Thermique[X].Pmax for X in dict_Thermique]) + sum([dict_Hydro[Y].P[dict_Hydro[Y].palier_max()] for Y in dict_Hydro])\n",
    "\n",
    "contraintes_reservoir_palier(model,dict_H,dict_Hydro,dict_S,debit_S)\n",
    "contraintes_hydraulique_palier(model,dict_H,dict_Hydro,dict_Hstart)\n",
    "contraintes_hydraulique_pompage(model,dict_H,dict_Hydro,dict_N_s,dict_S,M)\n",
    "contraintes_thermique_desagregation(model,dict_P,dict_N,dict_Nstart,dict_Thermique)\n",
    "contraintes_equilibre_desagregation(model,dict_P,dict_Thermique,dict_H,dict_Hydro,dict_S,consommation)\n",
    "contraintes_reserve_desagregation(model,dict_N,dict_Thermique,dict_Hydro,consommation)\n",
    "\n",
    "model.setObjective(\n",
    "    gp.quicksum([dict_N[X,k,t] * (dict_Thermique[X].Cbase - dict_Thermique[X].Pmin*dict_Thermique[X].Cmwh) for X in dict_Thermique for k in range(dict_Thermique[X].N) for t in range(24)]) + \n",
    "    gp.quicksum([dict_P[X,k,t] * dict_Thermique[X].Cmwh for X in dict_Thermique for k in range(dict_Thermique[X].N) for t in range(24)])+ \n",
    "    gp.quicksum([dict_Nstart[X,k,t]*dict_Thermique[X].Cstart for X in dict_Thermique for k in range(dict_Thermique[X].N) for t in range(24)])+\n",
    "    gp.quicksum([dict_H[Y,n,t] * dict_Hydro[Y].Cheure[n] for Y in dict_Hydro for t in range(24) for n in dict_Hydro[Y].Palier])+\n",
    "    gp.quicksum([dict_Hstart[Y,t] * dict_Hydro[Y].Cstart for Y in dict_Hydro for t in range(24)]),\n",
    "    gp.GRB.MINIMIZE\n",
    "    )\n",
    "\n",
    "model.optimize()"
   ]
  },
  {
   "cell_type": "code",
   "execution_count": 29,
   "metadata": {},
   "outputs": [
    {
     "data": {
      "application/vnd.plotly.v1+json": {
       "config": {
        "plotlyServerURL": "https://plot.ly"
       },
       "data": [
        {
         "name": "Thermique A",
         "stackgroup": "one",
         "type": "scatter",
         "x": [
          0,
          1,
          2,
          3,
          4,
          5,
          6,
          7,
          8,
          9,
          10,
          11,
          12,
          13,
          14,
          15,
          16,
          17,
          18,
          19,
          20,
          21,
          22,
          23
         ],
         "y": [
          10200,
          10260,
          10200,
          10200,
          10200,
          10200,
          13250,
          16250,
          13250,
          11250,
          10200,
          10200,
          10200,
          10200,
          10200,
          17300,
          21300,
          19300,
          12299.999999999998,
          11799.999999999998,
          11400.000000000002,
          10299.999999999998,
          10250,
          10649.999999999998
         ]
        },
        {
         "name": "Thermique B",
         "stackgroup": "one",
         "type": "scatter",
         "x": [
          0,
          1,
          2,
          3,
          4,
          5,
          6,
          7,
          8,
          9,
          10,
          11,
          12,
          13,
          14,
          15,
          16,
          17,
          18,
          19,
          20,
          21,
          22,
          23
         ],
         "y": [
          7000,
          5250,
          5250,
          5250,
          5250,
          8750,
          15750,
          15750,
          15750,
          15750,
          15750,
          15750,
          15750,
          15750,
          15750,
          17500,
          17500,
          17500,
          17500,
          17500,
          14000,
          14000,
          12250,
          8750
         ]
        },
        {
         "name": "Thermique C",
         "stackgroup": "one",
         "type": "scatter",
         "x": [
          0,
          1,
          2,
          3,
          4,
          5,
          6,
          7,
          8,
          9,
          10,
          11,
          12,
          13,
          14,
          15,
          16,
          17,
          18,
          19,
          20,
          21,
          22,
          23
         ],
         "y": [
          0,
          0,
          0,
          0,
          0,
          0,
          0,
          0,
          0,
          0,
          0,
          0,
          0,
          0,
          0,
          1500,
          1500,
          1500,
          1500,
          0,
          0,
          0,
          0,
          0
         ]
        },
        {
         "name": "Hydraulique 9",
         "stackgroup": "one",
         "type": "scatter",
         "x": [
          0,
          1,
          2,
          3,
          4,
          5,
          6,
          7,
          8,
          9,
          10,
          11,
          12,
          13,
          14,
          15,
          16,
          17,
          18,
          19,
          20,
          21,
          22,
          23
         ],
         "y": [
          0,
          0,
          0,
          0,
          0,
          0,
          0,
          0,
          0,
          0,
          0,
          0,
          0,
          0,
          0,
          0,
          0,
          0,
          0,
          0,
          0,
          0,
          0,
          0
         ]
        },
        {
         "name": "Hydraulique 14",
         "stackgroup": "one",
         "type": "scatter",
         "x": [
          0,
          1,
          2,
          3,
          4,
          5,
          6,
          7,
          8,
          9,
          10,
          11,
          12,
          13,
          14,
          15,
          16,
          17,
          18,
          19,
          20,
          21,
          22,
          23
         ],
         "y": [
          0,
          0,
          0,
          0,
          0,
          0,
          0,
          0,
          0,
          0,
          0,
          0,
          0,
          0,
          0,
          1700,
          1700,
          1700,
          1700,
          1700,
          1600,
          1700,
          1500,
          1600
         ]
        },
        {
         "name": "Pompage",
         "stackgroup": "two",
         "type": "scatter",
         "x": [
          0,
          1,
          2,
          3,
          4,
          5,
          6,
          7,
          8,
          9,
          10,
          11,
          12,
          13,
          14,
          15,
          16,
          17,
          18,
          19,
          20,
          21,
          22,
          23
         ],
         "y": [
          -200,
          -510,
          -1450,
          -2450,
          -2450,
          -950,
          0,
          0,
          0,
          0,
          -950,
          -950,
          -1950,
          -1950,
          -950,
          0,
          0,
          0,
          0,
          0,
          0,
          0,
          0,
          0
         ]
        },
        {
         "line": {
          "color": "red",
          "dash": "dash"
         },
         "name": "Production total",
         "type": "scatter",
         "x": [
          0,
          1,
          2,
          3,
          4,
          5,
          6,
          7,
          8,
          9,
          10,
          11,
          12,
          13,
          14,
          15,
          16,
          17,
          18,
          19,
          20,
          21,
          22,
          23
         ],
         "y": [
          17000,
          15000,
          14000,
          13000,
          13000,
          18000,
          29000,
          32000,
          29000,
          27000,
          25000,
          25000,
          24000,
          24000,
          25000,
          38000,
          42000,
          40000,
          33000,
          31000,
          27000,
          26000,
          24000,
          21000
         ]
        },
        {
         "line": {
          "color": "black"
         },
         "name": "Coût MWh",
         "type": "scatter",
         "x": [
          0,
          1,
          2,
          3,
          4,
          5,
          6,
          7,
          8,
          9,
          10,
          11,
          12,
          13,
          14,
          15,
          16,
          17,
          18,
          19,
          20,
          21,
          22,
          23
         ],
         "y": [
          1.4705882352941178,
          1.458,
          1.5535714285714286,
          1.6730769230769231,
          1.6730769230769231,
          1.6805555555555556,
          1.7706896551724138,
          1.6671875,
          1.6327586206896552,
          1.6055555555555556,
          1.65,
          1.65,
          1.71875,
          1.71875,
          1.65,
          1.700263157894737,
          1.6645238095238095,
          1.64775,
          1.573030303030303,
          1.5454838709677419,
          1.5031481481481481,
          1.4773076923076922,
          1.4589583333333334,
          1.3969047619047616
         ],
         "yaxis": "y2"
        },
        {
         "line": {
          "color": "grey"
         },
         "name": "Niveau réservoir",
         "type": "scatter",
         "x": [
          0,
          1,
          2,
          3,
          4,
          5,
          6,
          7,
          8,
          9,
          10,
          11,
          12,
          13,
          14,
          15,
          16,
          17,
          18,
          19,
          20,
          21,
          22,
          23
         ],
         "y": [
          0.06666666666666667,
          0.23666666666666664,
          0.72,
          1.5366666666666666,
          2.3533333333333335,
          2.67,
          2.67,
          2.67,
          2.67,
          2.67,
          2.9866666666666664,
          3.303333333333333,
          3.9533333333333327,
          4.603333333333333,
          4.919999999999999,
          4.359999999999999,
          3.7999999999999994,
          3.2399999999999993,
          2.6799999999999993,
          2.119999999999999,
          1.5899999999999992,
          1.0299999999999991,
          0.5299999999999991,
          -8.881784197001252e-16
         ],
         "yaxis": "y3"
        }
       ],
       "layout": {
        "hovermode": "x",
        "legend": {
         "orientation": "h",
         "x": 1,
         "xanchor": "right",
         "y": 1.02,
         "yanchor": "bottom"
        },
        "template": {
         "data": {
          "bar": [
           {
            "error_x": {
             "color": "#2a3f5f"
            },
            "error_y": {
             "color": "#2a3f5f"
            },
            "marker": {
             "line": {
              "color": "#E5ECF6",
              "width": 0.5
             },
             "pattern": {
              "fillmode": "overlay",
              "size": 10,
              "solidity": 0.2
             }
            },
            "type": "bar"
           }
          ],
          "barpolar": [
           {
            "marker": {
             "line": {
              "color": "#E5ECF6",
              "width": 0.5
             },
             "pattern": {
              "fillmode": "overlay",
              "size": 10,
              "solidity": 0.2
             }
            },
            "type": "barpolar"
           }
          ],
          "carpet": [
           {
            "aaxis": {
             "endlinecolor": "#2a3f5f",
             "gridcolor": "white",
             "linecolor": "white",
             "minorgridcolor": "white",
             "startlinecolor": "#2a3f5f"
            },
            "baxis": {
             "endlinecolor": "#2a3f5f",
             "gridcolor": "white",
             "linecolor": "white",
             "minorgridcolor": "white",
             "startlinecolor": "#2a3f5f"
            },
            "type": "carpet"
           }
          ],
          "choropleth": [
           {
            "colorbar": {
             "outlinewidth": 0,
             "ticks": ""
            },
            "type": "choropleth"
           }
          ],
          "contour": [
           {
            "colorbar": {
             "outlinewidth": 0,
             "ticks": ""
            },
            "colorscale": [
             [
              0,
              "#0d0887"
             ],
             [
              0.1111111111111111,
              "#46039f"
             ],
             [
              0.2222222222222222,
              "#7201a8"
             ],
             [
              0.3333333333333333,
              "#9c179e"
             ],
             [
              0.4444444444444444,
              "#bd3786"
             ],
             [
              0.5555555555555556,
              "#d8576b"
             ],
             [
              0.6666666666666666,
              "#ed7953"
             ],
             [
              0.7777777777777778,
              "#fb9f3a"
             ],
             [
              0.8888888888888888,
              "#fdca26"
             ],
             [
              1,
              "#f0f921"
             ]
            ],
            "type": "contour"
           }
          ],
          "contourcarpet": [
           {
            "colorbar": {
             "outlinewidth": 0,
             "ticks": ""
            },
            "type": "contourcarpet"
           }
          ],
          "heatmap": [
           {
            "colorbar": {
             "outlinewidth": 0,
             "ticks": ""
            },
            "colorscale": [
             [
              0,
              "#0d0887"
             ],
             [
              0.1111111111111111,
              "#46039f"
             ],
             [
              0.2222222222222222,
              "#7201a8"
             ],
             [
              0.3333333333333333,
              "#9c179e"
             ],
             [
              0.4444444444444444,
              "#bd3786"
             ],
             [
              0.5555555555555556,
              "#d8576b"
             ],
             [
              0.6666666666666666,
              "#ed7953"
             ],
             [
              0.7777777777777778,
              "#fb9f3a"
             ],
             [
              0.8888888888888888,
              "#fdca26"
             ],
             [
              1,
              "#f0f921"
             ]
            ],
            "type": "heatmap"
           }
          ],
          "heatmapgl": [
           {
            "colorbar": {
             "outlinewidth": 0,
             "ticks": ""
            },
            "colorscale": [
             [
              0,
              "#0d0887"
             ],
             [
              0.1111111111111111,
              "#46039f"
             ],
             [
              0.2222222222222222,
              "#7201a8"
             ],
             [
              0.3333333333333333,
              "#9c179e"
             ],
             [
              0.4444444444444444,
              "#bd3786"
             ],
             [
              0.5555555555555556,
              "#d8576b"
             ],
             [
              0.6666666666666666,
              "#ed7953"
             ],
             [
              0.7777777777777778,
              "#fb9f3a"
             ],
             [
              0.8888888888888888,
              "#fdca26"
             ],
             [
              1,
              "#f0f921"
             ]
            ],
            "type": "heatmapgl"
           }
          ],
          "histogram": [
           {
            "marker": {
             "pattern": {
              "fillmode": "overlay",
              "size": 10,
              "solidity": 0.2
             }
            },
            "type": "histogram"
           }
          ],
          "histogram2d": [
           {
            "colorbar": {
             "outlinewidth": 0,
             "ticks": ""
            },
            "colorscale": [
             [
              0,
              "#0d0887"
             ],
             [
              0.1111111111111111,
              "#46039f"
             ],
             [
              0.2222222222222222,
              "#7201a8"
             ],
             [
              0.3333333333333333,
              "#9c179e"
             ],
             [
              0.4444444444444444,
              "#bd3786"
             ],
             [
              0.5555555555555556,
              "#d8576b"
             ],
             [
              0.6666666666666666,
              "#ed7953"
             ],
             [
              0.7777777777777778,
              "#fb9f3a"
             ],
             [
              0.8888888888888888,
              "#fdca26"
             ],
             [
              1,
              "#f0f921"
             ]
            ],
            "type": "histogram2d"
           }
          ],
          "histogram2dcontour": [
           {
            "colorbar": {
             "outlinewidth": 0,
             "ticks": ""
            },
            "colorscale": [
             [
              0,
              "#0d0887"
             ],
             [
              0.1111111111111111,
              "#46039f"
             ],
             [
              0.2222222222222222,
              "#7201a8"
             ],
             [
              0.3333333333333333,
              "#9c179e"
             ],
             [
              0.4444444444444444,
              "#bd3786"
             ],
             [
              0.5555555555555556,
              "#d8576b"
             ],
             [
              0.6666666666666666,
              "#ed7953"
             ],
             [
              0.7777777777777778,
              "#fb9f3a"
             ],
             [
              0.8888888888888888,
              "#fdca26"
             ],
             [
              1,
              "#f0f921"
             ]
            ],
            "type": "histogram2dcontour"
           }
          ],
          "mesh3d": [
           {
            "colorbar": {
             "outlinewidth": 0,
             "ticks": ""
            },
            "type": "mesh3d"
           }
          ],
          "parcoords": [
           {
            "line": {
             "colorbar": {
              "outlinewidth": 0,
              "ticks": ""
             }
            },
            "type": "parcoords"
           }
          ],
          "pie": [
           {
            "automargin": true,
            "type": "pie"
           }
          ],
          "scatter": [
           {
            "fillpattern": {
             "fillmode": "overlay",
             "size": 10,
             "solidity": 0.2
            },
            "type": "scatter"
           }
          ],
          "scatter3d": [
           {
            "line": {
             "colorbar": {
              "outlinewidth": 0,
              "ticks": ""
             }
            },
            "marker": {
             "colorbar": {
              "outlinewidth": 0,
              "ticks": ""
             }
            },
            "type": "scatter3d"
           }
          ],
          "scattercarpet": [
           {
            "marker": {
             "colorbar": {
              "outlinewidth": 0,
              "ticks": ""
             }
            },
            "type": "scattercarpet"
           }
          ],
          "scattergeo": [
           {
            "marker": {
             "colorbar": {
              "outlinewidth": 0,
              "ticks": ""
             }
            },
            "type": "scattergeo"
           }
          ],
          "scattergl": [
           {
            "marker": {
             "colorbar": {
              "outlinewidth": 0,
              "ticks": ""
             }
            },
            "type": "scattergl"
           }
          ],
          "scattermapbox": [
           {
            "marker": {
             "colorbar": {
              "outlinewidth": 0,
              "ticks": ""
             }
            },
            "type": "scattermapbox"
           }
          ],
          "scatterpolar": [
           {
            "marker": {
             "colorbar": {
              "outlinewidth": 0,
              "ticks": ""
             }
            },
            "type": "scatterpolar"
           }
          ],
          "scatterpolargl": [
           {
            "marker": {
             "colorbar": {
              "outlinewidth": 0,
              "ticks": ""
             }
            },
            "type": "scatterpolargl"
           }
          ],
          "scatterternary": [
           {
            "marker": {
             "colorbar": {
              "outlinewidth": 0,
              "ticks": ""
             }
            },
            "type": "scatterternary"
           }
          ],
          "surface": [
           {
            "colorbar": {
             "outlinewidth": 0,
             "ticks": ""
            },
            "colorscale": [
             [
              0,
              "#0d0887"
             ],
             [
              0.1111111111111111,
              "#46039f"
             ],
             [
              0.2222222222222222,
              "#7201a8"
             ],
             [
              0.3333333333333333,
              "#9c179e"
             ],
             [
              0.4444444444444444,
              "#bd3786"
             ],
             [
              0.5555555555555556,
              "#d8576b"
             ],
             [
              0.6666666666666666,
              "#ed7953"
             ],
             [
              0.7777777777777778,
              "#fb9f3a"
             ],
             [
              0.8888888888888888,
              "#fdca26"
             ],
             [
              1,
              "#f0f921"
             ]
            ],
            "type": "surface"
           }
          ],
          "table": [
           {
            "cells": {
             "fill": {
              "color": "#EBF0F8"
             },
             "line": {
              "color": "white"
             }
            },
            "header": {
             "fill": {
              "color": "#C8D4E3"
             },
             "line": {
              "color": "white"
             }
            },
            "type": "table"
           }
          ]
         },
         "layout": {
          "annotationdefaults": {
           "arrowcolor": "#2a3f5f",
           "arrowhead": 0,
           "arrowwidth": 1
          },
          "autotypenumbers": "strict",
          "coloraxis": {
           "colorbar": {
            "outlinewidth": 0,
            "ticks": ""
           }
          },
          "colorscale": {
           "diverging": [
            [
             0,
             "#8e0152"
            ],
            [
             0.1,
             "#c51b7d"
            ],
            [
             0.2,
             "#de77ae"
            ],
            [
             0.3,
             "#f1b6da"
            ],
            [
             0.4,
             "#fde0ef"
            ],
            [
             0.5,
             "#f7f7f7"
            ],
            [
             0.6,
             "#e6f5d0"
            ],
            [
             0.7,
             "#b8e186"
            ],
            [
             0.8,
             "#7fbc41"
            ],
            [
             0.9,
             "#4d9221"
            ],
            [
             1,
             "#276419"
            ]
           ],
           "sequential": [
            [
             0,
             "#0d0887"
            ],
            [
             0.1111111111111111,
             "#46039f"
            ],
            [
             0.2222222222222222,
             "#7201a8"
            ],
            [
             0.3333333333333333,
             "#9c179e"
            ],
            [
             0.4444444444444444,
             "#bd3786"
            ],
            [
             0.5555555555555556,
             "#d8576b"
            ],
            [
             0.6666666666666666,
             "#ed7953"
            ],
            [
             0.7777777777777778,
             "#fb9f3a"
            ],
            [
             0.8888888888888888,
             "#fdca26"
            ],
            [
             1,
             "#f0f921"
            ]
           ],
           "sequentialminus": [
            [
             0,
             "#0d0887"
            ],
            [
             0.1111111111111111,
             "#46039f"
            ],
            [
             0.2222222222222222,
             "#7201a8"
            ],
            [
             0.3333333333333333,
             "#9c179e"
            ],
            [
             0.4444444444444444,
             "#bd3786"
            ],
            [
             0.5555555555555556,
             "#d8576b"
            ],
            [
             0.6666666666666666,
             "#ed7953"
            ],
            [
             0.7777777777777778,
             "#fb9f3a"
            ],
            [
             0.8888888888888888,
             "#fdca26"
            ],
            [
             1,
             "#f0f921"
            ]
           ]
          },
          "colorway": [
           "#636efa",
           "#EF553B",
           "#00cc96",
           "#ab63fa",
           "#FFA15A",
           "#19d3f3",
           "#FF6692",
           "#B6E880",
           "#FF97FF",
           "#FECB52"
          ],
          "font": {
           "color": "#2a3f5f"
          },
          "geo": {
           "bgcolor": "white",
           "lakecolor": "white",
           "landcolor": "#E5ECF6",
           "showlakes": true,
           "showland": true,
           "subunitcolor": "white"
          },
          "hoverlabel": {
           "align": "left"
          },
          "hovermode": "closest",
          "mapbox": {
           "style": "light"
          },
          "paper_bgcolor": "white",
          "plot_bgcolor": "#E5ECF6",
          "polar": {
           "angularaxis": {
            "gridcolor": "white",
            "linecolor": "white",
            "ticks": ""
           },
           "bgcolor": "#E5ECF6",
           "radialaxis": {
            "gridcolor": "white",
            "linecolor": "white",
            "ticks": ""
           }
          },
          "scene": {
           "xaxis": {
            "backgroundcolor": "#E5ECF6",
            "gridcolor": "white",
            "gridwidth": 2,
            "linecolor": "white",
            "showbackground": true,
            "ticks": "",
            "zerolinecolor": "white"
           },
           "yaxis": {
            "backgroundcolor": "#E5ECF6",
            "gridcolor": "white",
            "gridwidth": 2,
            "linecolor": "white",
            "showbackground": true,
            "ticks": "",
            "zerolinecolor": "white"
           },
           "zaxis": {
            "backgroundcolor": "#E5ECF6",
            "gridcolor": "white",
            "gridwidth": 2,
            "linecolor": "white",
            "showbackground": true,
            "ticks": "",
            "zerolinecolor": "white"
           }
          },
          "shapedefaults": {
           "line": {
            "color": "#2a3f5f"
           }
          },
          "ternary": {
           "aaxis": {
            "gridcolor": "white",
            "linecolor": "white",
            "ticks": ""
           },
           "baxis": {
            "gridcolor": "white",
            "linecolor": "white",
            "ticks": ""
           },
           "bgcolor": "#E5ECF6",
           "caxis": {
            "gridcolor": "white",
            "linecolor": "white",
            "ticks": ""
           }
          },
          "title": {
           "x": 0.05
          },
          "xaxis": {
           "automargin": true,
           "gridcolor": "white",
           "linecolor": "white",
           "ticks": "",
           "title": {
            "standoff": 15
           },
           "zerolinecolor": "white",
           "zerolinewidth": 2
          },
          "yaxis": {
           "automargin": true,
           "gridcolor": "white",
           "linecolor": "white",
           "ticks": "",
           "title": {
            "standoff": 15
           },
           "zerolinecolor": "white",
           "zerolinewidth": 2
          }
         }
        },
        "title": {
         "text": "Répartition de la production électrique dans la journée - 6.3 - Coût de la journée : 988 k€"
        },
        "xaxis": {
         "domain": [
          0.1,
          1
         ]
        },
        "yaxis": {
         "range": [
          -2695,
          46200.00000000001
         ],
         "title": {
          "text": "MW"
         }
        },
        "yaxis2": {
         "anchor": "free",
         "overlaying": "y",
         "position": 1,
         "range": [
          1,
          2.5
         ],
         "side": "right",
         "title": {
          "text": "€/MWh"
         }
        },
        "yaxis3": {
         "anchor": "free",
         "overlaying": "y",
         "position": 0.05,
         "range": [
          -5,
          10
         ],
         "side": "left",
         "title": {
          "text": "Réservoir (m)"
         }
        }
       }
      }
     },
     "metadata": {},
     "output_type": "display_data"
    }
   ],
   "source": [
    "df = df_results61(dict_N,dict_P,dict_Nstart,dict_Thermique,dict_H,dict_Hstart,dict_Hydro,dict_S,debit_S,consommation)\n",
    "fig = Results_viz52(df,dict_Thermique,dict_Hydro)\n",
    "A = \"6.3\"\n",
    "fig.update_layout(\n",
    "    title = f\"Répartition de la production électrique dans la journée - {A} - Coût de la journée : {int(np.around(model.ObjVal/1000,0))} k€\"\n",
    ")\n",
    "fig.show()\n",
    "fig.write_html(f\"HTML/Répartition de la production électrique dans la journée - {A}.html\")\n",
    "df.to_csv(f\"CSV/Résultats - {A}.csv\",index=False)"
   ]
  },
  {
   "cell_type": "markdown",
   "metadata": {},
   "source": [
    "### 6.4 Discrétisation à un pas de deux heures"
   ]
  },
  {
   "cell_type": "code",
   "execution_count": 30,
   "metadata": {},
   "outputs": [
    {
     "name": "stdout",
     "output_type": "stream",
     "text": [
      "Gurobi Optimizer version 9.5.2 build v9.5.2rc0 (win64)\n",
      "Thread count: 4 physical cores, 8 logical processors, using up to 8 threads\n",
      "Optimize a model with 2137 rows, 2232 columns and 7152 nonzeros\n",
      "Model fingerprint: 0x11a09cba\n",
      "Variable types: 672 continuous, 1560 integer (1560 binary)\n",
      "Coefficient statistics:\n",
      "  Matrix range     [3e-04, 6e+04]\n",
      "  Objective range  [1e+00, 2e+03]\n",
      "  Bounds range     [1e+00, 1e+00]\n",
      "  RHS range        [1e+00, 4e+04]\n",
      "Presolve removed 24 rows and 0 columns\n",
      "Presolve time: 0.01s\n",
      "Presolved: 2113 rows, 2232 columns, 6984 nonzeros\n",
      "Variable types: 672 continuous, 1560 integer (1560 binary)\n",
      "Found heuristic solution: objective 1065810.0000\n",
      "Found heuristic solution: objective 1049600.0000\n",
      "\n",
      "Root relaxation: objective 9.892817e+05, 1484 iterations, 0.02 seconds (0.02 work units)\n",
      "\n",
      "    Nodes    |    Current Node    |     Objective Bounds      |     Work\n",
      " Expl Unexpl |  Obj  Depth IntInf | Incumbent    BestBd   Gap | It/Node Time\n",
      "\n",
      "     0     0 989281.715    0   54 1049600.00 989281.715  5.75%     -    0s\n",
      "H    0     0                    1008655.0000 989281.715  1.92%     -    0s\n",
      "H    0     0                    1003320.0000 989281.715  1.40%     -    0s\n",
      "H    0     0                    991750.00000 989281.715  0.25%     -    0s\n",
      "     0     0 989568.409    0   49 991750.000 989568.409  0.22%     -    0s\n",
      "     0     0 989568.409    0   49 991750.000 989568.409  0.22%     -    0s\n",
      "H    0     0                    990860.00000 989568.409  0.13%     -    0s\n",
      "     0     0 989583.635    0   54 990860.000 989583.635  0.13%     -    0s\n",
      "     0     0 989583.635    0   54 990860.000 989583.635  0.13%     -    0s\n",
      "H    0     0                    990500.00000 989583.635  0.09%     -    0s\n",
      "     0     0 989583.635    0   60 990500.000 989583.635  0.09%     -    0s\n",
      "     0     0 989594.782    0   68 990500.000 989594.782  0.09%     -    0s\n",
      "     0     0 989609.740    0   79 990500.000 989609.740  0.09%     -    0s\n",
      "     0     0 989609.978    0   81 990500.000 989609.978  0.09%     -    0s\n",
      "     0     0 989733.996    0   86 990500.000 989733.996  0.08%     -    0s\n",
      "     0     0 989733.996    0   60 990500.000 989733.996  0.08%     -    0s\n",
      "     0     0 989734.282    0   92 990500.000 989734.282  0.08%     -    0s\n",
      "     0     0 989734.807    0   95 990500.000 989734.807  0.08%     -    0s\n",
      "     0     0 989734.807    0   95 990500.000 989734.807  0.08%     -    0s\n",
      "     0     0 989734.807    0  101 990500.000 989734.807  0.08%     -    0s\n",
      "     0     0 989734.807    0   93 990500.000 989734.807  0.08%     -    0s\n",
      "H    0     0                    990440.00000 989734.807  0.07%     -    0s\n",
      "     0     0 989734.807    0   42 990440.000 989734.807  0.07%     -    0s\n",
      "     0     0 989734.807    0   47 990440.000 989734.807  0.07%     -    0s\n",
      "     0     0 989757.223    0   43 990440.000 989757.223  0.07%     -    0s\n",
      "     0     0 989757.714    0   56 990440.000 989757.714  0.07%     -    0s\n",
      "     0     0 989757.714    0   76 990440.000 989757.714  0.07%     -    0s\n",
      "     0     0 989757.987    0   75 990440.000 989757.987  0.07%     -    0s\n",
      "     0     0 989758.118    0   75 990440.000 989758.118  0.07%     -    0s\n",
      "     0     0 989758.118    0   89 990440.000 989758.118  0.07%     -    0s\n",
      "     0     0 989758.118    0   89 990440.000 989758.118  0.07%     -    0s\n",
      "     0     0 989763.110    0   49 990440.000 989763.110  0.07%     -    0s\n",
      "     0     0 989763.199    0   41 990440.000 989763.199  0.07%     -    0s\n",
      "     0     0 989778.249    0   41 990440.000 989778.249  0.07%     -    0s\n",
      "     0     0 989897.866    0   28 990440.000 989897.866  0.05%     -    0s\n",
      "     0     0 989897.866    0   28 990440.000 989897.866  0.05%     -    0s\n",
      "     0     2 989897.866    0   28 990440.000 989897.866  0.05%     -    0s\n",
      "*  434   281              46    990430.00000 990122.540  0.03%   5.3    1s\n",
      "H  979   626                    990420.00000 990122.540  0.03%   5.3    1s\n",
      "H 1701   719                    990410.00000 990122.540  0.03%   6.1    2s\n",
      " 24190  3016 990303.373   34   13 990410.000 990301.353  0.01%   6.8    5s\n",
      "\n",
      "Cutting planes:\n",
      "  Gomory: 9\n",
      "  Lift-and-project: 1\n",
      "  MIR: 79\n",
      "  Flow cover: 53\n",
      "  RLT: 2\n",
      "\n",
      "Explored 26619 nodes (185253 simplex iterations) in 5.20 seconds (3.82 work units)\n",
      "Thread count was 8 (of 8 available processors)\n",
      "\n",
      "Solution count 10: 990410 990420 990430 ... 991750\n",
      "\n",
      "Optimal solution found (tolerance 1.00e-04)\n",
      "Best objective 9.904100000000e+05, best bound 9.903183333333e+05, gap 0.0093%\n"
     ]
    }
   ],
   "source": [
    "consommation = np.array([16,16,14,14,16,16,30,30,28,28,25,25,24,24,33,33,41,41,32,32,26,26,22,22])*1000\n",
    "\n",
    "model = gp.Model(\"6.4\")\n",
    "\n",
    "dict_N, dict_P, dict_Nstart = variables_decision_desagregation_thermique(model,dict_Thermique)\n",
    "dict_H, dict_Hstart = variables_decision_hydraulique_palier(model,dict_Hydro)\n",
    "dict_S = {t : model.addVar(lb=0,vtype=gp.GRB.CONTINUOUS,name=f\"pompage à l'instant {t}\") for t in range(24)}\n",
    "dict_N_s = {t : model.addVar(lb=0,vtype=gp.GRB.BINARY,name=f\"fonctionnement pompe à l'instant {t}\") for t in range(24)}\n",
    "debit_S = 1/3000 # débit de pompage par MWh ou par MW pendant une heure\n",
    "M = sum([dict_Thermique[X].N * dict_Thermique[X].Pmax for X in dict_Thermique]) + sum([dict_Hydro[Y].P[dict_Hydro[Y].palier_max()] for Y in dict_Hydro])\n",
    "\n",
    "contraintes_reservoir_palier(model,dict_H,dict_Hydro,dict_S,debit_S)\n",
    "contraintes_hydraulique_palier(model,dict_H,dict_Hydro,dict_Hstart)\n",
    "contraintes_hydraulique_pompage(model,dict_H,dict_Hydro,dict_N_s,dict_S,M)\n",
    "contraintes_thermique_desagregation(model,dict_P,dict_N,dict_Nstart,dict_Thermique)\n",
    "contraintes_equilibre_desagregation(model,dict_P,dict_Thermique,dict_H,dict_Hydro,dict_S,consommation)\n",
    "contraintes_reserve_desagregation(model,dict_N,dict_Thermique,dict_Hydro,consommation)\n",
    "\n",
    "model.setObjective(\n",
    "    gp.quicksum([dict_N[X,k,t] * (dict_Thermique[X].Cbase - dict_Thermique[X].Pmin*dict_Thermique[X].Cmwh) for X in dict_Thermique for k in range(dict_Thermique[X].N) for t in range(24)]) + \n",
    "    gp.quicksum([dict_P[X,k,t] * dict_Thermique[X].Cmwh for X in dict_Thermique for k in range(dict_Thermique[X].N) for t in range(24)])+ \n",
    "    gp.quicksum([dict_Nstart[X,k,t]*dict_Thermique[X].Cstart for X in dict_Thermique for k in range(dict_Thermique[X].N) for t in range(24)])+\n",
    "    gp.quicksum([dict_H[Y,n,t] * dict_Hydro[Y].Cheure[n] for Y in dict_Hydro for t in range(24) for n in dict_Hydro[Y].Palier])+\n",
    "    gp.quicksum([dict_Hstart[Y,t] * dict_Hydro[Y].Cstart for Y in dict_Hydro for t in range(24)]),\n",
    "    gp.GRB.MINIMIZE\n",
    "    )\n",
    "\n",
    "model.optimize()"
   ]
  },
  {
   "cell_type": "code",
   "execution_count": 31,
   "metadata": {},
   "outputs": [
    {
     "data": {
      "application/vnd.plotly.v1+json": {
       "config": {
        "plotlyServerURL": "https://plot.ly"
       },
       "data": [
        {
         "name": "Thermique A",
         "stackgroup": "one",
         "type": "scatter",
         "x": [
          0,
          1,
          2,
          3,
          4,
          5,
          6,
          7,
          8,
          9,
          10,
          11,
          12,
          13,
          14,
          15,
          16,
          17,
          18,
          19,
          20,
          21,
          22,
          23
         ],
         "y": [
          10750.000000000002,
          10750.000000000004,
          10200,
          10200,
          10750.000000000004,
          10750.000000000002,
          12500,
          12500,
          10500,
          10519.999999999989,
          10200,
          10200,
          10200,
          10200,
          12300,
          12400,
          20300,
          20400,
          12900,
          12900,
          10400,
          10400,
          10200,
          10200.000000000022
         ]
        },
        {
         "name": "Thermique B",
         "stackgroup": "one",
         "type": "scatter",
         "x": [
          0,
          1,
          2,
          3,
          4,
          5,
          6,
          7,
          8,
          9,
          10,
          11,
          12,
          13,
          14,
          15,
          16,
          17,
          18,
          19,
          20,
          21,
          22,
          23
         ],
         "y": [
          5250,
          5250,
          5250,
          5250,
          5250,
          5250,
          17500,
          17500,
          17500,
          17500,
          17500,
          17500,
          17500,
          17500,
          17500,
          17500,
          17500,
          17500,
          17500,
          17500,
          14000,
          14000,
          10400,
          10399.999999999978
         ]
        },
        {
         "name": "Thermique C",
         "stackgroup": "one",
         "type": "scatter",
         "x": [
          0,
          1,
          2,
          3,
          4,
          5,
          6,
          7,
          8,
          9,
          10,
          11,
          12,
          13,
          14,
          15,
          16,
          17,
          18,
          19,
          20,
          21,
          22,
          23
         ],
         "y": [
          0,
          0,
          0,
          0,
          0,
          0,
          0,
          0,
          0,
          0,
          0,
          0,
          0,
          0,
          1500,
          1500,
          1500,
          1500,
          0,
          0,
          0,
          0,
          0,
          0
         ]
        },
        {
         "name": "Hydraulique 9",
         "stackgroup": "one",
         "type": "scatter",
         "x": [
          0,
          1,
          2,
          3,
          4,
          5,
          6,
          7,
          8,
          9,
          10,
          11,
          12,
          13,
          14,
          15,
          16,
          17,
          18,
          19,
          20,
          21,
          22,
          23
         ],
         "y": [
          0,
          0,
          0,
          0,
          0,
          0,
          0,
          0,
          0,
          0,
          0,
          0,
          0,
          0,
          0,
          0,
          0,
          0,
          0,
          0,
          0,
          0,
          0,
          0
         ]
        },
        {
         "name": "Hydraulique 14",
         "stackgroup": "one",
         "type": "scatter",
         "x": [
          0,
          1,
          2,
          3,
          4,
          5,
          6,
          7,
          8,
          9,
          10,
          11,
          12,
          13,
          14,
          15,
          16,
          17,
          18,
          19,
          20,
          21,
          22,
          23
         ],
         "y": [
          0,
          0,
          0,
          0,
          0,
          0,
          0,
          0,
          0,
          0,
          0,
          0,
          0,
          0,
          1700,
          1600,
          1700,
          1600,
          1600,
          1600,
          1600,
          1600,
          1400,
          1400
         ]
        },
        {
         "name": "Pompage",
         "stackgroup": "two",
         "type": "scatter",
         "x": [
          0,
          1,
          2,
          3,
          4,
          5,
          6,
          7,
          8,
          9,
          10,
          11,
          12,
          13,
          14,
          15,
          16,
          17,
          18,
          19,
          20,
          21,
          22,
          23
         ],
         "y": [
          -3.637978807091713e-12,
          -3.637978807091713e-12,
          -1450,
          -1450,
          -3.637978807091713e-12,
          -3.637978807091713e-12,
          0,
          0,
          0,
          -19.999999999989143,
          -2700,
          -2700,
          -3700,
          -3700,
          0,
          0,
          0,
          0,
          0,
          0,
          0,
          0,
          0,
          0
         ]
        },
        {
         "line": {
          "color": "red",
          "dash": "dash"
         },
         "name": "Production total",
         "type": "scatter",
         "x": [
          0,
          1,
          2,
          3,
          4,
          5,
          6,
          7,
          8,
          9,
          10,
          11,
          12,
          13,
          14,
          15,
          16,
          17,
          18,
          19,
          20,
          21,
          22,
          23
         ],
         "y": [
          15999.999999999998,
          16000,
          14000,
          14000,
          16000,
          15999.999999999998,
          30000,
          30000,
          28000,
          28000,
          25000,
          25000,
          24000,
          24000,
          33000,
          33000,
          41000,
          41000,
          32000,
          32000,
          26000,
          26000,
          22000,
          22000
         ]
        },
        {
         "line": {
          "color": "black"
         },
         "name": "Coût MWh",
         "type": "scatter",
         "x": [
          0,
          1,
          2,
          3,
          4,
          5,
          6,
          7,
          8,
          9,
          10,
          11,
          12,
          13,
          14,
          15,
          16,
          17,
          18,
          19,
          20,
          21,
          22,
          23
         ],
         "y": [
          1.4281250000000003,
          1.4281250000000005,
          1.5535714285714286,
          1.5535714285714286,
          1.4281250000000005,
          1.4281250000000003,
          1.87,
          1.6366666666666667,
          1.6107142857142858,
          1.6121428571428564,
          1.78,
          1.78,
          1.8541666666666667,
          1.8541666666666667,
          1.6245454545454545,
          1.5783333333333334,
          1.656341463414634,
          1.660609756097561,
          1.56515625,
          1.56515625,
          1.4840384615384616,
          1.4840384615384616,
          1.4327272727272726,
          1.4327272727272733
         ],
         "yaxis": "y2"
        },
        {
         "line": {
          "color": "grey"
         },
         "name": "Niveau réservoir",
         "type": "scatter",
         "x": [
          0,
          1,
          2,
          3,
          4,
          5,
          6,
          7,
          8,
          9,
          10,
          11,
          12,
          13,
          14,
          15,
          16,
          17,
          18,
          19,
          20,
          21,
          22,
          23
         ],
         "y": [
          1.2126596023639043e-15,
          2.4253192047278086e-15,
          0.4833333333333358,
          0.9666666666666691,
          0.9666666666666703,
          0.9666666666666716,
          0.9666666666666716,
          0.9666666666666716,
          0.9666666666666716,
          0.9733333333333346,
          1.8733333333333346,
          2.7733333333333348,
          4.006666666666668,
          5.240000000000001,
          4.6800000000000015,
          4.150000000000001,
          3.590000000000001,
          3.0600000000000014,
          2.530000000000001,
          2.000000000000001,
          1.4700000000000009,
          0.9400000000000008,
          0.47000000000000086,
          8.881784197001252e-16
         ],
         "yaxis": "y3"
        }
       ],
       "layout": {
        "hovermode": "x",
        "legend": {
         "orientation": "h",
         "x": 1,
         "xanchor": "right",
         "y": 1.02,
         "yanchor": "bottom"
        },
        "template": {
         "data": {
          "bar": [
           {
            "error_x": {
             "color": "#2a3f5f"
            },
            "error_y": {
             "color": "#2a3f5f"
            },
            "marker": {
             "line": {
              "color": "#E5ECF6",
              "width": 0.5
             },
             "pattern": {
              "fillmode": "overlay",
              "size": 10,
              "solidity": 0.2
             }
            },
            "type": "bar"
           }
          ],
          "barpolar": [
           {
            "marker": {
             "line": {
              "color": "#E5ECF6",
              "width": 0.5
             },
             "pattern": {
              "fillmode": "overlay",
              "size": 10,
              "solidity": 0.2
             }
            },
            "type": "barpolar"
           }
          ],
          "carpet": [
           {
            "aaxis": {
             "endlinecolor": "#2a3f5f",
             "gridcolor": "white",
             "linecolor": "white",
             "minorgridcolor": "white",
             "startlinecolor": "#2a3f5f"
            },
            "baxis": {
             "endlinecolor": "#2a3f5f",
             "gridcolor": "white",
             "linecolor": "white",
             "minorgridcolor": "white",
             "startlinecolor": "#2a3f5f"
            },
            "type": "carpet"
           }
          ],
          "choropleth": [
           {
            "colorbar": {
             "outlinewidth": 0,
             "ticks": ""
            },
            "type": "choropleth"
           }
          ],
          "contour": [
           {
            "colorbar": {
             "outlinewidth": 0,
             "ticks": ""
            },
            "colorscale": [
             [
              0,
              "#0d0887"
             ],
             [
              0.1111111111111111,
              "#46039f"
             ],
             [
              0.2222222222222222,
              "#7201a8"
             ],
             [
              0.3333333333333333,
              "#9c179e"
             ],
             [
              0.4444444444444444,
              "#bd3786"
             ],
             [
              0.5555555555555556,
              "#d8576b"
             ],
             [
              0.6666666666666666,
              "#ed7953"
             ],
             [
              0.7777777777777778,
              "#fb9f3a"
             ],
             [
              0.8888888888888888,
              "#fdca26"
             ],
             [
              1,
              "#f0f921"
             ]
            ],
            "type": "contour"
           }
          ],
          "contourcarpet": [
           {
            "colorbar": {
             "outlinewidth": 0,
             "ticks": ""
            },
            "type": "contourcarpet"
           }
          ],
          "heatmap": [
           {
            "colorbar": {
             "outlinewidth": 0,
             "ticks": ""
            },
            "colorscale": [
             [
              0,
              "#0d0887"
             ],
             [
              0.1111111111111111,
              "#46039f"
             ],
             [
              0.2222222222222222,
              "#7201a8"
             ],
             [
              0.3333333333333333,
              "#9c179e"
             ],
             [
              0.4444444444444444,
              "#bd3786"
             ],
             [
              0.5555555555555556,
              "#d8576b"
             ],
             [
              0.6666666666666666,
              "#ed7953"
             ],
             [
              0.7777777777777778,
              "#fb9f3a"
             ],
             [
              0.8888888888888888,
              "#fdca26"
             ],
             [
              1,
              "#f0f921"
             ]
            ],
            "type": "heatmap"
           }
          ],
          "heatmapgl": [
           {
            "colorbar": {
             "outlinewidth": 0,
             "ticks": ""
            },
            "colorscale": [
             [
              0,
              "#0d0887"
             ],
             [
              0.1111111111111111,
              "#46039f"
             ],
             [
              0.2222222222222222,
              "#7201a8"
             ],
             [
              0.3333333333333333,
              "#9c179e"
             ],
             [
              0.4444444444444444,
              "#bd3786"
             ],
             [
              0.5555555555555556,
              "#d8576b"
             ],
             [
              0.6666666666666666,
              "#ed7953"
             ],
             [
              0.7777777777777778,
              "#fb9f3a"
             ],
             [
              0.8888888888888888,
              "#fdca26"
             ],
             [
              1,
              "#f0f921"
             ]
            ],
            "type": "heatmapgl"
           }
          ],
          "histogram": [
           {
            "marker": {
             "pattern": {
              "fillmode": "overlay",
              "size": 10,
              "solidity": 0.2
             }
            },
            "type": "histogram"
           }
          ],
          "histogram2d": [
           {
            "colorbar": {
             "outlinewidth": 0,
             "ticks": ""
            },
            "colorscale": [
             [
              0,
              "#0d0887"
             ],
             [
              0.1111111111111111,
              "#46039f"
             ],
             [
              0.2222222222222222,
              "#7201a8"
             ],
             [
              0.3333333333333333,
              "#9c179e"
             ],
             [
              0.4444444444444444,
              "#bd3786"
             ],
             [
              0.5555555555555556,
              "#d8576b"
             ],
             [
              0.6666666666666666,
              "#ed7953"
             ],
             [
              0.7777777777777778,
              "#fb9f3a"
             ],
             [
              0.8888888888888888,
              "#fdca26"
             ],
             [
              1,
              "#f0f921"
             ]
            ],
            "type": "histogram2d"
           }
          ],
          "histogram2dcontour": [
           {
            "colorbar": {
             "outlinewidth": 0,
             "ticks": ""
            },
            "colorscale": [
             [
              0,
              "#0d0887"
             ],
             [
              0.1111111111111111,
              "#46039f"
             ],
             [
              0.2222222222222222,
              "#7201a8"
             ],
             [
              0.3333333333333333,
              "#9c179e"
             ],
             [
              0.4444444444444444,
              "#bd3786"
             ],
             [
              0.5555555555555556,
              "#d8576b"
             ],
             [
              0.6666666666666666,
              "#ed7953"
             ],
             [
              0.7777777777777778,
              "#fb9f3a"
             ],
             [
              0.8888888888888888,
              "#fdca26"
             ],
             [
              1,
              "#f0f921"
             ]
            ],
            "type": "histogram2dcontour"
           }
          ],
          "mesh3d": [
           {
            "colorbar": {
             "outlinewidth": 0,
             "ticks": ""
            },
            "type": "mesh3d"
           }
          ],
          "parcoords": [
           {
            "line": {
             "colorbar": {
              "outlinewidth": 0,
              "ticks": ""
             }
            },
            "type": "parcoords"
           }
          ],
          "pie": [
           {
            "automargin": true,
            "type": "pie"
           }
          ],
          "scatter": [
           {
            "fillpattern": {
             "fillmode": "overlay",
             "size": 10,
             "solidity": 0.2
            },
            "type": "scatter"
           }
          ],
          "scatter3d": [
           {
            "line": {
             "colorbar": {
              "outlinewidth": 0,
              "ticks": ""
             }
            },
            "marker": {
             "colorbar": {
              "outlinewidth": 0,
              "ticks": ""
             }
            },
            "type": "scatter3d"
           }
          ],
          "scattercarpet": [
           {
            "marker": {
             "colorbar": {
              "outlinewidth": 0,
              "ticks": ""
             }
            },
            "type": "scattercarpet"
           }
          ],
          "scattergeo": [
           {
            "marker": {
             "colorbar": {
              "outlinewidth": 0,
              "ticks": ""
             }
            },
            "type": "scattergeo"
           }
          ],
          "scattergl": [
           {
            "marker": {
             "colorbar": {
              "outlinewidth": 0,
              "ticks": ""
             }
            },
            "type": "scattergl"
           }
          ],
          "scattermapbox": [
           {
            "marker": {
             "colorbar": {
              "outlinewidth": 0,
              "ticks": ""
             }
            },
            "type": "scattermapbox"
           }
          ],
          "scatterpolar": [
           {
            "marker": {
             "colorbar": {
              "outlinewidth": 0,
              "ticks": ""
             }
            },
            "type": "scatterpolar"
           }
          ],
          "scatterpolargl": [
           {
            "marker": {
             "colorbar": {
              "outlinewidth": 0,
              "ticks": ""
             }
            },
            "type": "scatterpolargl"
           }
          ],
          "scatterternary": [
           {
            "marker": {
             "colorbar": {
              "outlinewidth": 0,
              "ticks": ""
             }
            },
            "type": "scatterternary"
           }
          ],
          "surface": [
           {
            "colorbar": {
             "outlinewidth": 0,
             "ticks": ""
            },
            "colorscale": [
             [
              0,
              "#0d0887"
             ],
             [
              0.1111111111111111,
              "#46039f"
             ],
             [
              0.2222222222222222,
              "#7201a8"
             ],
             [
              0.3333333333333333,
              "#9c179e"
             ],
             [
              0.4444444444444444,
              "#bd3786"
             ],
             [
              0.5555555555555556,
              "#d8576b"
             ],
             [
              0.6666666666666666,
              "#ed7953"
             ],
             [
              0.7777777777777778,
              "#fb9f3a"
             ],
             [
              0.8888888888888888,
              "#fdca26"
             ],
             [
              1,
              "#f0f921"
             ]
            ],
            "type": "surface"
           }
          ],
          "table": [
           {
            "cells": {
             "fill": {
              "color": "#EBF0F8"
             },
             "line": {
              "color": "white"
             }
            },
            "header": {
             "fill": {
              "color": "#C8D4E3"
             },
             "line": {
              "color": "white"
             }
            },
            "type": "table"
           }
          ]
         },
         "layout": {
          "annotationdefaults": {
           "arrowcolor": "#2a3f5f",
           "arrowhead": 0,
           "arrowwidth": 1
          },
          "autotypenumbers": "strict",
          "coloraxis": {
           "colorbar": {
            "outlinewidth": 0,
            "ticks": ""
           }
          },
          "colorscale": {
           "diverging": [
            [
             0,
             "#8e0152"
            ],
            [
             0.1,
             "#c51b7d"
            ],
            [
             0.2,
             "#de77ae"
            ],
            [
             0.3,
             "#f1b6da"
            ],
            [
             0.4,
             "#fde0ef"
            ],
            [
             0.5,
             "#f7f7f7"
            ],
            [
             0.6,
             "#e6f5d0"
            ],
            [
             0.7,
             "#b8e186"
            ],
            [
             0.8,
             "#7fbc41"
            ],
            [
             0.9,
             "#4d9221"
            ],
            [
             1,
             "#276419"
            ]
           ],
           "sequential": [
            [
             0,
             "#0d0887"
            ],
            [
             0.1111111111111111,
             "#46039f"
            ],
            [
             0.2222222222222222,
             "#7201a8"
            ],
            [
             0.3333333333333333,
             "#9c179e"
            ],
            [
             0.4444444444444444,
             "#bd3786"
            ],
            [
             0.5555555555555556,
             "#d8576b"
            ],
            [
             0.6666666666666666,
             "#ed7953"
            ],
            [
             0.7777777777777778,
             "#fb9f3a"
            ],
            [
             0.8888888888888888,
             "#fdca26"
            ],
            [
             1,
             "#f0f921"
            ]
           ],
           "sequentialminus": [
            [
             0,
             "#0d0887"
            ],
            [
             0.1111111111111111,
             "#46039f"
            ],
            [
             0.2222222222222222,
             "#7201a8"
            ],
            [
             0.3333333333333333,
             "#9c179e"
            ],
            [
             0.4444444444444444,
             "#bd3786"
            ],
            [
             0.5555555555555556,
             "#d8576b"
            ],
            [
             0.6666666666666666,
             "#ed7953"
            ],
            [
             0.7777777777777778,
             "#fb9f3a"
            ],
            [
             0.8888888888888888,
             "#fdca26"
            ],
            [
             1,
             "#f0f921"
            ]
           ]
          },
          "colorway": [
           "#636efa",
           "#EF553B",
           "#00cc96",
           "#ab63fa",
           "#FFA15A",
           "#19d3f3",
           "#FF6692",
           "#B6E880",
           "#FF97FF",
           "#FECB52"
          ],
          "font": {
           "color": "#2a3f5f"
          },
          "geo": {
           "bgcolor": "white",
           "lakecolor": "white",
           "landcolor": "#E5ECF6",
           "showlakes": true,
           "showland": true,
           "subunitcolor": "white"
          },
          "hoverlabel": {
           "align": "left"
          },
          "hovermode": "closest",
          "mapbox": {
           "style": "light"
          },
          "paper_bgcolor": "white",
          "plot_bgcolor": "#E5ECF6",
          "polar": {
           "angularaxis": {
            "gridcolor": "white",
            "linecolor": "white",
            "ticks": ""
           },
           "bgcolor": "#E5ECF6",
           "radialaxis": {
            "gridcolor": "white",
            "linecolor": "white",
            "ticks": ""
           }
          },
          "scene": {
           "xaxis": {
            "backgroundcolor": "#E5ECF6",
            "gridcolor": "white",
            "gridwidth": 2,
            "linecolor": "white",
            "showbackground": true,
            "ticks": "",
            "zerolinecolor": "white"
           },
           "yaxis": {
            "backgroundcolor": "#E5ECF6",
            "gridcolor": "white",
            "gridwidth": 2,
            "linecolor": "white",
            "showbackground": true,
            "ticks": "",
            "zerolinecolor": "white"
           },
           "zaxis": {
            "backgroundcolor": "#E5ECF6",
            "gridcolor": "white",
            "gridwidth": 2,
            "linecolor": "white",
            "showbackground": true,
            "ticks": "",
            "zerolinecolor": "white"
           }
          },
          "shapedefaults": {
           "line": {
            "color": "#2a3f5f"
           }
          },
          "ternary": {
           "aaxis": {
            "gridcolor": "white",
            "linecolor": "white",
            "ticks": ""
           },
           "baxis": {
            "gridcolor": "white",
            "linecolor": "white",
            "ticks": ""
           },
           "bgcolor": "#E5ECF6",
           "caxis": {
            "gridcolor": "white",
            "linecolor": "white",
            "ticks": ""
           }
          },
          "title": {
           "x": 0.05
          },
          "xaxis": {
           "automargin": true,
           "gridcolor": "white",
           "linecolor": "white",
           "ticks": "",
           "title": {
            "standoff": 15
           },
           "zerolinecolor": "white",
           "zerolinewidth": 2
          },
          "yaxis": {
           "automargin": true,
           "gridcolor": "white",
           "linecolor": "white",
           "ticks": "",
           "title": {
            "standoff": 15
           },
           "zerolinecolor": "white",
           "zerolinewidth": 2
          }
         }
        },
        "title": {
         "text": "Répartition de la production électrique dans la journée - 6.4 - Coût de la journée : 990 k€"
        },
        "xaxis": {
         "domain": [
          0.1,
          1
         ]
        },
        "yaxis": {
         "range": [
          -4070.0000000000005,
          45100.00000000001
         ],
         "title": {
          "text": "MW"
         }
        },
        "yaxis2": {
         "anchor": "free",
         "overlaying": "y",
         "position": 1,
         "range": [
          1,
          2.5
         ],
         "side": "right",
         "title": {
          "text": "€/MWh"
         }
        },
        "yaxis3": {
         "anchor": "free",
         "overlaying": "y",
         "position": 0.05,
         "range": [
          -5,
          10
         ],
         "side": "left",
         "title": {
          "text": "Réservoir (m)"
         }
        }
       }
      }
     },
     "metadata": {},
     "output_type": "display_data"
    }
   ],
   "source": [
    "df = df_results61(dict_N,dict_P,dict_Nstart,dict_Thermique,dict_H,dict_Hstart,dict_Hydro,dict_S,debit_S,consommation)\n",
    "fig = Results_viz52(df,dict_Thermique,dict_Hydro)\n",
    "A = \"6.4\"\n",
    "fig.update_layout(\n",
    "    title = f\"Répartition de la production électrique dans la journée - {A} - Coût de la journée : {int(np.around(model.ObjVal/1000,0))} k€\"\n",
    ")\n",
    "fig.show()\n",
    "fig.write_html(f\"HTML/Répartition de la production électrique dans la journée - {A}.html\")\n",
    "df.to_csv(f\"CSV/Résultats - {A}.csv\",index=False)"
   ]
  },
  {
   "cell_type": "markdown",
   "metadata": {},
   "source": [
    "## 7 Disponibilité variable\n",
    "\n",
    "### 7.1 Maintenance nocturne des centrales A\n",
    "\n",
    "On ajoute la contrainte :\n",
    "$$\n",
    "\\forall t \\in \\{0,\\dots,6\\}\\cup\\{18,\\dots,23\\},\\sum_{k=1}^{N^{(A)}}N_t^{(A,k)} \\leq 10\n",
    "$$"
   ]
  },
  {
   "cell_type": "code",
   "execution_count": 32,
   "metadata": {},
   "outputs": [
    {
     "name": "stdout",
     "output_type": "stream",
     "text": [
      "Gurobi Optimizer version 9.5.2 build v9.5.2rc0 (win64)\n",
      "Thread count: 4 physical cores, 8 logical processors, using up to 8 threads\n",
      "Optimize a model with 2150 rows, 2232 columns and 7308 nonzeros\n",
      "Model fingerprint: 0xd000b483\n",
      "Variable types: 672 continuous, 1560 integer (1560 binary)\n",
      "Coefficient statistics:\n",
      "  Matrix range     [3e-04, 6e+04]\n",
      "  Objective range  [1e+00, 2e+03]\n",
      "  Bounds range     [1e+00, 1e+00]\n",
      "  RHS range        [1e+00, 4e+04]\n",
      "Presolve removed 24 rows and 0 columns\n",
      "Presolve time: 0.01s\n",
      "Presolved: 2126 rows, 2232 columns, 7140 nonzeros\n",
      "Variable types: 672 continuous, 1560 integer (1560 binary)\n",
      "Found heuristic solution: objective 1047065.0000\n",
      "Found heuristic solution: objective 1045750.0000\n",
      "\n",
      "Root relaxation: objective 1.003420e+06, 1703 iterations, 0.02 seconds (0.02 work units)\n",
      "\n",
      "    Nodes    |    Current Node    |     Objective Bounds      |     Work\n",
      " Expl Unexpl |  Obj  Depth IntInf | Incumbent    BestBd   Gap | It/Node Time\n",
      "\n",
      "     0     0 1003419.59    0   51 1045750.00 1003419.59  4.05%     -    0s\n",
      "H    0     0                    1025155.0000 1003419.59  2.12%     -    0s\n",
      "H    0     0                    1012530.0000 1003419.59  0.90%     -    0s\n",
      "     0     0 1003700.84    0   91 1012530.00 1003700.84  0.87%     -    0s\n",
      "H    0     0                    1011550.0000 1003700.84  0.78%     -    0s\n",
      "H    0     0                    1011486.0000 1003700.84  0.77%     -    0s\n",
      "     0     0 1003702.54    0  113 1011486.00 1003702.54  0.77%     -    0s\n",
      "     0     0 1003702.54    0  120 1011486.00 1003702.54  0.77%     -    0s\n",
      "     0     0 1003815.55    0   87 1011486.00 1003815.55  0.76%     -    0s\n",
      "     0     0 1003906.43    0   59 1011486.00 1003906.43  0.75%     -    0s\n",
      "H    0     0                    1008770.0000 1003906.43  0.48%     -    0s\n",
      "     0     0 1004239.12    0  121 1008770.00 1004239.12  0.45%     -    0s\n",
      "     0     0 1004239.12    0  122 1008770.00 1004239.12  0.45%     -    0s\n",
      "     0     0 1004289.66    0   95 1008770.00 1004289.66  0.44%     -    0s\n",
      "     0     0 1004289.66    0  111 1008770.00 1004289.66  0.44%     -    0s\n",
      "     0     0 1004289.66    0   88 1008770.00 1004289.66  0.44%     -    0s\n",
      "     0     0 1004289.66    0   99 1008770.00 1004289.66  0.44%     -    0s\n",
      "     0     0 1004289.66    0   72 1008770.00 1004289.66  0.44%     -    0s\n",
      "     0     0 1004289.66    0  107 1008770.00 1004289.66  0.44%     -    0s\n",
      "     0     0 1004289.66    0   96 1008770.00 1004289.66  0.44%     -    0s\n",
      "     0     0 1004289.66    0   75 1008770.00 1004289.66  0.44%     -    0s\n",
      "H    0     0                    1006700.0000 1004289.66  0.24%     -    0s\n",
      "     0     2 1004289.66    0   75 1006700.00 1004289.66  0.24%     -    0s\n",
      "H   71    77                    1006622.0000 1004528.51  0.21%  15.2    0s\n",
      "H  112   121                    1006305.0000 1004528.51  0.18%  12.6    1s\n",
      "H  170   166                    1005559.0000 1004528.51  0.10%  10.8    1s\n",
      "H  293   290                    1005405.0000 1004539.36  0.09%   9.2    1s\n",
      "*  939   571              38    1005395.0000 1004565.24  0.08%   8.8    1s\n",
      "H 1196   607                    1005350.0000 1004761.71  0.06%   5.0    4s\n",
      "* 1313   608              45    1005300.0000 1004767.86  0.05%   5.2    4s\n",
      "  3561   974     cutoff   42      1005300.00 1004778.48  0.05%   6.4    5s\n",
      " 25178  4663 infeasible   45      1005300.00 1005019.48  0.03%   8.3   10s\n",
      "\n",
      "Cutting planes:\n",
      "  Gomory: 44\n",
      "  MIR: 30\n",
      "  Flow cover: 23\n",
      "\n",
      "Explored 37663 nodes (321687 simplex iterations) in 12.88 seconds (10.68 work units)\n",
      "Thread count was 8 (of 8 available processors)\n",
      "\n",
      "Solution count 10: 1.0053e+06 1.0053e+06 1.00535e+06 ... 1.00877e+06\n",
      "\n",
      "Optimal solution found (tolerance 1.00e-04)\n",
      "Best objective 1.005300000000e+06, best bound 1.005225032424e+06, gap 0.0075%\n"
     ]
    }
   ],
   "source": [
    "heures_maintenance = np.array([0,1,2,3,4,5,6,18,19,20,21,22,23])\n",
    "consommation = np.array([15,15,15,15,15,15,30,30,30,25,25,25,25,25,25,40,40,40,27,27,27,27,27,27])*1000\n",
    "\n",
    "model = gp.Model(\"7.1\")\n",
    "\n",
    "dict_N, dict_P, dict_Nstart = variables_decision_desagregation_thermique(model,dict_Thermique)\n",
    "dict_H, dict_Hstart = variables_decision_hydraulique_palier(model,dict_Hydro)\n",
    "dict_S = {t : model.addVar(lb=0,vtype=gp.GRB.CONTINUOUS,name=f\"pompage à l'instant {t}\") for t in range(24)}\n",
    "dict_N_s = {t : model.addVar(lb=0,vtype=gp.GRB.BINARY,name=f\"fonctionnement pompe à l'instant {t}\") for t in range(24)}\n",
    "debit_S = 1/3000 # débit de pompage par MWh ou par MW pendant une heure\n",
    "M = sum([dict_Thermique[X].N * dict_Thermique[X].Pmax for X in dict_Thermique]) + sum([dict_Hydro[Y].P[dict_Hydro[Y].palier_max()] for Y in dict_Hydro])\n",
    "\n",
    "contraintes_reservoir_palier(model,dict_H,dict_Hydro,dict_S,debit_S)\n",
    "contraintes_hydraulique_palier(model,dict_H,dict_Hydro,dict_Hstart)\n",
    "contraintes_hydraulique_pompage(model,dict_H,dict_Hydro,dict_N_s,dict_S,M)\n",
    "contraintes_thermique_desagregation(model,dict_P,dict_N,dict_Nstart,dict_Thermique)\n",
    "contraintes_equilibre_desagregation(model,dict_P,dict_Thermique,dict_H,dict_Hydro,dict_S,consommation)\n",
    "contraintes_reserve_desagregation(model,dict_N,dict_Thermique,dict_Hydro,consommation)\n",
    "\n",
    "# Contrainte de maintenance\n",
    "for t in heures_maintenance:\n",
    "    model.addConstr(\n",
    "        gp.quicksum([dict_N[\"A\",k,t] for k in range(dict_Thermique[\"A\"].N)])<=10,\n",
    "        name=f\"Contraintes maintance à {t}\"\n",
    "    )\n",
    "\n",
    "model.setObjective(\n",
    "    gp.quicksum([dict_N[X,k,t] * (dict_Thermique[X].Cbase - dict_Thermique[X].Pmin*dict_Thermique[X].Cmwh) for X in dict_Thermique for k in range(dict_Thermique[X].N) for t in range(24)]) + \n",
    "    gp.quicksum([dict_P[X,k,t] * dict_Thermique[X].Cmwh for X in dict_Thermique for k in range(dict_Thermique[X].N) for t in range(24)])+ \n",
    "    gp.quicksum([dict_Nstart[X,k,t]*dict_Thermique[X].Cstart for X in dict_Thermique for k in range(dict_Thermique[X].N) for t in range(24)])+\n",
    "    gp.quicksum([dict_H[Y,n,t] * dict_Hydro[Y].Cheure[n] for Y in dict_Hydro for t in range(24) for n in dict_Hydro[Y].Palier])+\n",
    "    gp.quicksum([dict_Hstart[Y,t] * dict_Hydro[Y].Cstart for Y in dict_Hydro for t in range(24)]),\n",
    "    gp.GRB.MINIMIZE\n",
    "    )\n",
    "\n",
    "model.optimize()"
   ]
  },
  {
   "cell_type": "code",
   "execution_count": 33,
   "metadata": {},
   "outputs": [
    {
     "data": {
      "application/vnd.plotly.v1+json": {
       "config": {
        "plotlyServerURL": "https://plot.ly"
       },
       "data": [
        {
         "name": "Thermique A",
         "stackgroup": "one",
         "type": "scatter",
         "x": [
          0,
          1,
          2,
          3,
          4,
          5,
          6,
          7,
          8,
          9,
          10,
          11,
          12,
          13,
          14,
          15,
          16,
          17,
          18,
          19,
          20,
          21,
          22,
          23
         ],
         "y": [
          8590.000000000002,
          8500,
          8500,
          8500,
          8500,
          8500,
          14250,
          14250,
          14250,
          10200,
          10200,
          10200,
          10200,
          10200,
          10200,
          19900,
          20100,
          19900,
          8600,
          8600,
          8600,
          8600,
          8600,
          8600
         ]
        },
        {
         "name": "Thermique B",
         "stackgroup": "one",
         "type": "scatter",
         "x": [
          0,
          1,
          2,
          3,
          4,
          5,
          6,
          7,
          8,
          9,
          10,
          11,
          12,
          13,
          14,
          15,
          16,
          17,
          18,
          19,
          20,
          21,
          22,
          23
         ],
         "y": [
          7000,
          7000,
          7000,
          7000,
          7000,
          7000,
          15750,
          15750,
          15750,
          15750,
          15750,
          15750,
          15750,
          15750,
          15750,
          17500,
          17500,
          17500,
          17500,
          17500,
          17500,
          17500,
          17500,
          17500
         ]
        },
        {
         "name": "Thermique C",
         "stackgroup": "one",
         "type": "scatter",
         "x": [
          0,
          1,
          2,
          3,
          4,
          5,
          6,
          7,
          8,
          9,
          10,
          11,
          12,
          13,
          14,
          15,
          16,
          17,
          18,
          19,
          20,
          21,
          22,
          23
         ],
         "y": [
          0,
          0,
          0,
          0,
          0,
          0,
          0,
          0,
          0,
          0,
          0,
          0,
          0,
          0,
          0,
          1500,
          1500,
          1500,
          0,
          0,
          0,
          0,
          0,
          0
         ]
        },
        {
         "name": "Hydraulique 9",
         "stackgroup": "one",
         "type": "scatter",
         "x": [
          0,
          1,
          2,
          3,
          4,
          5,
          6,
          7,
          8,
          9,
          10,
          11,
          12,
          13,
          14,
          15,
          16,
          17,
          18,
          19,
          20,
          21,
          22,
          23
         ],
         "y": [
          0,
          0,
          0,
          0,
          0,
          0,
          0,
          0,
          0,
          0,
          0,
          0,
          0,
          0,
          0,
          1100,
          900,
          1100,
          900,
          900,
          900,
          900,
          900,
          900
         ]
        },
        {
         "name": "Hydraulique 14",
         "stackgroup": "one",
         "type": "scatter",
         "x": [
          0,
          1,
          2,
          3,
          4,
          5,
          6,
          7,
          8,
          9,
          10,
          11,
          12,
          13,
          14,
          15,
          16,
          17,
          18,
          19,
          20,
          21,
          22,
          23
         ],
         "y": [
          0,
          0,
          0,
          0,
          0,
          0,
          0,
          0,
          0,
          0,
          0,
          0,
          0,
          0,
          0,
          0,
          0,
          0,
          0,
          0,
          0,
          0,
          0,
          0
         ]
        },
        {
         "name": "Pompage",
         "stackgroup": "two",
         "type": "scatter",
         "x": [
          0,
          1,
          2,
          3,
          4,
          5,
          6,
          7,
          8,
          9,
          10,
          11,
          12,
          13,
          14,
          15,
          16,
          17,
          18,
          19,
          20,
          21,
          22,
          23
         ],
         "y": [
          -590.0000000000013,
          -500,
          -500,
          -500,
          -500,
          -500,
          0,
          0,
          0,
          -950,
          -950,
          -950,
          -950,
          -950,
          -950,
          0,
          0,
          0,
          0,
          0,
          0,
          0,
          0,
          0
         ]
        },
        {
         "line": {
          "color": "red",
          "dash": "dash"
         },
         "name": "Production total",
         "type": "scatter",
         "x": [
          0,
          1,
          2,
          3,
          4,
          5,
          6,
          7,
          8,
          9,
          10,
          11,
          12,
          13,
          14,
          15,
          16,
          17,
          18,
          19,
          20,
          21,
          22,
          23
         ],
         "y": [
          15000,
          15000,
          15000,
          15000,
          15000,
          15000,
          30000,
          30000,
          30000,
          25000,
          25000,
          25000,
          25000,
          25000,
          25000,
          40000,
          40000,
          40000,
          27000,
          27000,
          27000,
          27000,
          27000,
          27000
         ]
        },
        {
         "line": {
          "color": "black"
         },
         "name": "Coût MWh",
         "type": "scatter",
         "x": [
          0,
          1,
          2,
          3,
          4,
          5,
          6,
          7,
          8,
          9,
          10,
          11,
          12,
          13,
          14,
          15,
          16,
          17,
          18,
          19,
          20,
          21,
          22,
          23
         ],
         "y": [
          1.5453333333333337,
          1.5333333333333334,
          1.5333333333333334,
          1.5333333333333334,
          1.5333333333333334,
          1.5333333333333334,
          1.8583333333333334,
          1.7783333333333333,
          1.645,
          1.65,
          1.65,
          1.65,
          1.65,
          1.65,
          1.65,
          1.7505,
          1.68475,
          1.6755,
          1.584814814814815,
          1.584814814814815,
          1.584814814814815,
          1.584814814814815,
          1.584814814814815,
          1.584814814814815
         ],
         "yaxis": "y2"
        },
        {
         "line": {
          "color": "grey"
         },
         "name": "Niveau réservoir",
         "type": "scatter",
         "x": [
          0,
          1,
          2,
          3,
          4,
          5,
          6,
          7,
          8,
          9,
          10,
          11,
          12,
          13,
          14,
          15,
          16,
          17,
          18,
          19,
          20,
          21,
          22,
          23
         ],
         "y": [
          0.19666666666666707,
          0.36333333333333373,
          0.5300000000000004,
          0.696666666666667,
          0.8633333333333336,
          1.0300000000000002,
          1.0300000000000002,
          1.0300000000000002,
          1.0300000000000002,
          1.346666666666667,
          1.6633333333333336,
          1.9800000000000002,
          2.296666666666667,
          2.6133333333333333,
          2.9299999999999997,
          2.55,
          2.2399999999999998,
          1.8599999999999999,
          1.5499999999999998,
          1.2399999999999998,
          0.9299999999999997,
          0.6199999999999997,
          0.30999999999999966,
          -3.3306690738754696e-16
         ],
         "yaxis": "y3"
        }
       ],
       "layout": {
        "hovermode": "x",
        "legend": {
         "orientation": "h",
         "x": 1,
         "xanchor": "right",
         "y": 1.02,
         "yanchor": "bottom"
        },
        "template": {
         "data": {
          "bar": [
           {
            "error_x": {
             "color": "#2a3f5f"
            },
            "error_y": {
             "color": "#2a3f5f"
            },
            "marker": {
             "line": {
              "color": "#E5ECF6",
              "width": 0.5
             },
             "pattern": {
              "fillmode": "overlay",
              "size": 10,
              "solidity": 0.2
             }
            },
            "type": "bar"
           }
          ],
          "barpolar": [
           {
            "marker": {
             "line": {
              "color": "#E5ECF6",
              "width": 0.5
             },
             "pattern": {
              "fillmode": "overlay",
              "size": 10,
              "solidity": 0.2
             }
            },
            "type": "barpolar"
           }
          ],
          "carpet": [
           {
            "aaxis": {
             "endlinecolor": "#2a3f5f",
             "gridcolor": "white",
             "linecolor": "white",
             "minorgridcolor": "white",
             "startlinecolor": "#2a3f5f"
            },
            "baxis": {
             "endlinecolor": "#2a3f5f",
             "gridcolor": "white",
             "linecolor": "white",
             "minorgridcolor": "white",
             "startlinecolor": "#2a3f5f"
            },
            "type": "carpet"
           }
          ],
          "choropleth": [
           {
            "colorbar": {
             "outlinewidth": 0,
             "ticks": ""
            },
            "type": "choropleth"
           }
          ],
          "contour": [
           {
            "colorbar": {
             "outlinewidth": 0,
             "ticks": ""
            },
            "colorscale": [
             [
              0,
              "#0d0887"
             ],
             [
              0.1111111111111111,
              "#46039f"
             ],
             [
              0.2222222222222222,
              "#7201a8"
             ],
             [
              0.3333333333333333,
              "#9c179e"
             ],
             [
              0.4444444444444444,
              "#bd3786"
             ],
             [
              0.5555555555555556,
              "#d8576b"
             ],
             [
              0.6666666666666666,
              "#ed7953"
             ],
             [
              0.7777777777777778,
              "#fb9f3a"
             ],
             [
              0.8888888888888888,
              "#fdca26"
             ],
             [
              1,
              "#f0f921"
             ]
            ],
            "type": "contour"
           }
          ],
          "contourcarpet": [
           {
            "colorbar": {
             "outlinewidth": 0,
             "ticks": ""
            },
            "type": "contourcarpet"
           }
          ],
          "heatmap": [
           {
            "colorbar": {
             "outlinewidth": 0,
             "ticks": ""
            },
            "colorscale": [
             [
              0,
              "#0d0887"
             ],
             [
              0.1111111111111111,
              "#46039f"
             ],
             [
              0.2222222222222222,
              "#7201a8"
             ],
             [
              0.3333333333333333,
              "#9c179e"
             ],
             [
              0.4444444444444444,
              "#bd3786"
             ],
             [
              0.5555555555555556,
              "#d8576b"
             ],
             [
              0.6666666666666666,
              "#ed7953"
             ],
             [
              0.7777777777777778,
              "#fb9f3a"
             ],
             [
              0.8888888888888888,
              "#fdca26"
             ],
             [
              1,
              "#f0f921"
             ]
            ],
            "type": "heatmap"
           }
          ],
          "heatmapgl": [
           {
            "colorbar": {
             "outlinewidth": 0,
             "ticks": ""
            },
            "colorscale": [
             [
              0,
              "#0d0887"
             ],
             [
              0.1111111111111111,
              "#46039f"
             ],
             [
              0.2222222222222222,
              "#7201a8"
             ],
             [
              0.3333333333333333,
              "#9c179e"
             ],
             [
              0.4444444444444444,
              "#bd3786"
             ],
             [
              0.5555555555555556,
              "#d8576b"
             ],
             [
              0.6666666666666666,
              "#ed7953"
             ],
             [
              0.7777777777777778,
              "#fb9f3a"
             ],
             [
              0.8888888888888888,
              "#fdca26"
             ],
             [
              1,
              "#f0f921"
             ]
            ],
            "type": "heatmapgl"
           }
          ],
          "histogram": [
           {
            "marker": {
             "pattern": {
              "fillmode": "overlay",
              "size": 10,
              "solidity": 0.2
             }
            },
            "type": "histogram"
           }
          ],
          "histogram2d": [
           {
            "colorbar": {
             "outlinewidth": 0,
             "ticks": ""
            },
            "colorscale": [
             [
              0,
              "#0d0887"
             ],
             [
              0.1111111111111111,
              "#46039f"
             ],
             [
              0.2222222222222222,
              "#7201a8"
             ],
             [
              0.3333333333333333,
              "#9c179e"
             ],
             [
              0.4444444444444444,
              "#bd3786"
             ],
             [
              0.5555555555555556,
              "#d8576b"
             ],
             [
              0.6666666666666666,
              "#ed7953"
             ],
             [
              0.7777777777777778,
              "#fb9f3a"
             ],
             [
              0.8888888888888888,
              "#fdca26"
             ],
             [
              1,
              "#f0f921"
             ]
            ],
            "type": "histogram2d"
           }
          ],
          "histogram2dcontour": [
           {
            "colorbar": {
             "outlinewidth": 0,
             "ticks": ""
            },
            "colorscale": [
             [
              0,
              "#0d0887"
             ],
             [
              0.1111111111111111,
              "#46039f"
             ],
             [
              0.2222222222222222,
              "#7201a8"
             ],
             [
              0.3333333333333333,
              "#9c179e"
             ],
             [
              0.4444444444444444,
              "#bd3786"
             ],
             [
              0.5555555555555556,
              "#d8576b"
             ],
             [
              0.6666666666666666,
              "#ed7953"
             ],
             [
              0.7777777777777778,
              "#fb9f3a"
             ],
             [
              0.8888888888888888,
              "#fdca26"
             ],
             [
              1,
              "#f0f921"
             ]
            ],
            "type": "histogram2dcontour"
           }
          ],
          "mesh3d": [
           {
            "colorbar": {
             "outlinewidth": 0,
             "ticks": ""
            },
            "type": "mesh3d"
           }
          ],
          "parcoords": [
           {
            "line": {
             "colorbar": {
              "outlinewidth": 0,
              "ticks": ""
             }
            },
            "type": "parcoords"
           }
          ],
          "pie": [
           {
            "automargin": true,
            "type": "pie"
           }
          ],
          "scatter": [
           {
            "fillpattern": {
             "fillmode": "overlay",
             "size": 10,
             "solidity": 0.2
            },
            "type": "scatter"
           }
          ],
          "scatter3d": [
           {
            "line": {
             "colorbar": {
              "outlinewidth": 0,
              "ticks": ""
             }
            },
            "marker": {
             "colorbar": {
              "outlinewidth": 0,
              "ticks": ""
             }
            },
            "type": "scatter3d"
           }
          ],
          "scattercarpet": [
           {
            "marker": {
             "colorbar": {
              "outlinewidth": 0,
              "ticks": ""
             }
            },
            "type": "scattercarpet"
           }
          ],
          "scattergeo": [
           {
            "marker": {
             "colorbar": {
              "outlinewidth": 0,
              "ticks": ""
             }
            },
            "type": "scattergeo"
           }
          ],
          "scattergl": [
           {
            "marker": {
             "colorbar": {
              "outlinewidth": 0,
              "ticks": ""
             }
            },
            "type": "scattergl"
           }
          ],
          "scattermapbox": [
           {
            "marker": {
             "colorbar": {
              "outlinewidth": 0,
              "ticks": ""
             }
            },
            "type": "scattermapbox"
           }
          ],
          "scatterpolar": [
           {
            "marker": {
             "colorbar": {
              "outlinewidth": 0,
              "ticks": ""
             }
            },
            "type": "scatterpolar"
           }
          ],
          "scatterpolargl": [
           {
            "marker": {
             "colorbar": {
              "outlinewidth": 0,
              "ticks": ""
             }
            },
            "type": "scatterpolargl"
           }
          ],
          "scatterternary": [
           {
            "marker": {
             "colorbar": {
              "outlinewidth": 0,
              "ticks": ""
             }
            },
            "type": "scatterternary"
           }
          ],
          "surface": [
           {
            "colorbar": {
             "outlinewidth": 0,
             "ticks": ""
            },
            "colorscale": [
             [
              0,
              "#0d0887"
             ],
             [
              0.1111111111111111,
              "#46039f"
             ],
             [
              0.2222222222222222,
              "#7201a8"
             ],
             [
              0.3333333333333333,
              "#9c179e"
             ],
             [
              0.4444444444444444,
              "#bd3786"
             ],
             [
              0.5555555555555556,
              "#d8576b"
             ],
             [
              0.6666666666666666,
              "#ed7953"
             ],
             [
              0.7777777777777778,
              "#fb9f3a"
             ],
             [
              0.8888888888888888,
              "#fdca26"
             ],
             [
              1,
              "#f0f921"
             ]
            ],
            "type": "surface"
           }
          ],
          "table": [
           {
            "cells": {
             "fill": {
              "color": "#EBF0F8"
             },
             "line": {
              "color": "white"
             }
            },
            "header": {
             "fill": {
              "color": "#C8D4E3"
             },
             "line": {
              "color": "white"
             }
            },
            "type": "table"
           }
          ]
         },
         "layout": {
          "annotationdefaults": {
           "arrowcolor": "#2a3f5f",
           "arrowhead": 0,
           "arrowwidth": 1
          },
          "autotypenumbers": "strict",
          "coloraxis": {
           "colorbar": {
            "outlinewidth": 0,
            "ticks": ""
           }
          },
          "colorscale": {
           "diverging": [
            [
             0,
             "#8e0152"
            ],
            [
             0.1,
             "#c51b7d"
            ],
            [
             0.2,
             "#de77ae"
            ],
            [
             0.3,
             "#f1b6da"
            ],
            [
             0.4,
             "#fde0ef"
            ],
            [
             0.5,
             "#f7f7f7"
            ],
            [
             0.6,
             "#e6f5d0"
            ],
            [
             0.7,
             "#b8e186"
            ],
            [
             0.8,
             "#7fbc41"
            ],
            [
             0.9,
             "#4d9221"
            ],
            [
             1,
             "#276419"
            ]
           ],
           "sequential": [
            [
             0,
             "#0d0887"
            ],
            [
             0.1111111111111111,
             "#46039f"
            ],
            [
             0.2222222222222222,
             "#7201a8"
            ],
            [
             0.3333333333333333,
             "#9c179e"
            ],
            [
             0.4444444444444444,
             "#bd3786"
            ],
            [
             0.5555555555555556,
             "#d8576b"
            ],
            [
             0.6666666666666666,
             "#ed7953"
            ],
            [
             0.7777777777777778,
             "#fb9f3a"
            ],
            [
             0.8888888888888888,
             "#fdca26"
            ],
            [
             1,
             "#f0f921"
            ]
           ],
           "sequentialminus": [
            [
             0,
             "#0d0887"
            ],
            [
             0.1111111111111111,
             "#46039f"
            ],
            [
             0.2222222222222222,
             "#7201a8"
            ],
            [
             0.3333333333333333,
             "#9c179e"
            ],
            [
             0.4444444444444444,
             "#bd3786"
            ],
            [
             0.5555555555555556,
             "#d8576b"
            ],
            [
             0.6666666666666666,
             "#ed7953"
            ],
            [
             0.7777777777777778,
             "#fb9f3a"
            ],
            [
             0.8888888888888888,
             "#fdca26"
            ],
            [
             1,
             "#f0f921"
            ]
           ]
          },
          "colorway": [
           "#636efa",
           "#EF553B",
           "#00cc96",
           "#ab63fa",
           "#FFA15A",
           "#19d3f3",
           "#FF6692",
           "#B6E880",
           "#FF97FF",
           "#FECB52"
          ],
          "font": {
           "color": "#2a3f5f"
          },
          "geo": {
           "bgcolor": "white",
           "lakecolor": "white",
           "landcolor": "#E5ECF6",
           "showlakes": true,
           "showland": true,
           "subunitcolor": "white"
          },
          "hoverlabel": {
           "align": "left"
          },
          "hovermode": "closest",
          "mapbox": {
           "style": "light"
          },
          "paper_bgcolor": "white",
          "plot_bgcolor": "#E5ECF6",
          "polar": {
           "angularaxis": {
            "gridcolor": "white",
            "linecolor": "white",
            "ticks": ""
           },
           "bgcolor": "#E5ECF6",
           "radialaxis": {
            "gridcolor": "white",
            "linecolor": "white",
            "ticks": ""
           }
          },
          "scene": {
           "xaxis": {
            "backgroundcolor": "#E5ECF6",
            "gridcolor": "white",
            "gridwidth": 2,
            "linecolor": "white",
            "showbackground": true,
            "ticks": "",
            "zerolinecolor": "white"
           },
           "yaxis": {
            "backgroundcolor": "#E5ECF6",
            "gridcolor": "white",
            "gridwidth": 2,
            "linecolor": "white",
            "showbackground": true,
            "ticks": "",
            "zerolinecolor": "white"
           },
           "zaxis": {
            "backgroundcolor": "#E5ECF6",
            "gridcolor": "white",
            "gridwidth": 2,
            "linecolor": "white",
            "showbackground": true,
            "ticks": "",
            "zerolinecolor": "white"
           }
          },
          "shapedefaults": {
           "line": {
            "color": "#2a3f5f"
           }
          },
          "ternary": {
           "aaxis": {
            "gridcolor": "white",
            "linecolor": "white",
            "ticks": ""
           },
           "baxis": {
            "gridcolor": "white",
            "linecolor": "white",
            "ticks": ""
           },
           "bgcolor": "#E5ECF6",
           "caxis": {
            "gridcolor": "white",
            "linecolor": "white",
            "ticks": ""
           }
          },
          "title": {
           "x": 0.05
          },
          "xaxis": {
           "automargin": true,
           "gridcolor": "white",
           "linecolor": "white",
           "ticks": "",
           "title": {
            "standoff": 15
           },
           "zerolinecolor": "white",
           "zerolinewidth": 2
          },
          "yaxis": {
           "automargin": true,
           "gridcolor": "white",
           "linecolor": "white",
           "ticks": "",
           "title": {
            "standoff": 15
           },
           "zerolinecolor": "white",
           "zerolinewidth": 2
          }
         }
        },
        "title": {
         "text": "Répartition de la production électrique dans la journée - 7.1 - Coût de la journée : 1005 k€"
        },
        "xaxis": {
         "domain": [
          0.1,
          1
         ]
        },
        "yaxis": {
         "range": [
          -1045,
          44000
         ],
         "title": {
          "text": "MW"
         }
        },
        "yaxis2": {
         "anchor": "free",
         "overlaying": "y",
         "position": 1,
         "range": [
          1,
          2.5
         ],
         "side": "right",
         "title": {
          "text": "€/MWh"
         }
        },
        "yaxis3": {
         "anchor": "free",
         "overlaying": "y",
         "position": 0.05,
         "range": [
          -5,
          10
         ],
         "side": "left",
         "title": {
          "text": "Réservoir (m)"
         }
        }
       }
      }
     },
     "metadata": {},
     "output_type": "display_data"
    }
   ],
   "source": [
    "df = df_results61(dict_N,dict_P,dict_Nstart,dict_Thermique,dict_H,dict_Hstart,dict_Hydro,dict_S,debit_S,consommation)\n",
    "fig = Results_viz52(df,dict_Thermique,dict_Hydro)\n",
    "A = \"7.1\"\n",
    "fig.update_layout(\n",
    "    title = f\"Répartition de la production électrique dans la journée - {A} - Coût de la journée : {int(np.around(model.ObjVal/1000,0))} k€\"\n",
    ")\n",
    "fig.show()\n",
    "fig.write_html(f\"HTML/Répartition de la production électrique dans la journée - {A}.html\")\n",
    "df.to_csv(f\"CSV/Résultats - {A}.csv\",index=False)"
   ]
  },
  {
   "cell_type": "markdown",
   "metadata": {},
   "source": [
    "## 8 Contraintes de rampe\n",
    "|$N_t$|$N_{t-1}$|$N_t-N_{t-1}$|$N_{start,t}$|$N_t-N_{t-1}-N_{start,t}$|Signification|\n",
    "|---|---|---|---|---|---|\n",
    "|1|1|0|0|0|La centrale fonctionne deux heures consécutives|\n",
    "|1|0|1|1|0|la centrale s'allume à l'instant $t$|\n",
    "|0|1|-1|0|-1|la centrale s'éteint à l'instant $t$|\n",
    "|0|0|0|0|0|La centrale est éteinte deux heures consécutives|\n",
    "### 8.1 Rampe croissante\n",
    "\n",
    "$$\n",
    "\\forall t, \\forall X , \\forall k \\in \\{0,\\dots,N^{(X)}\\}, P_{t}^{(X,k)}-P_{t-1}^{(X,k)}\\leq R_{montée}^{(X)}\n",
    "$$"
   ]
  },
  {
   "cell_type": "code",
   "execution_count": 34,
   "metadata": {},
   "outputs": [],
   "source": [
    "from utils import Centrale3\n",
    "\n",
    "dict_Thermique = {\n",
    "    \"A\" : Centrale3(\n",
    "    name=\"A\",\n",
    "    N=12,\n",
    "    Pmax=2000,\n",
    "    Pmin=850,\n",
    "    Cmwh=2,\n",
    "    Cstart=2000,\n",
    "    Cbase=1000,\n",
    "    Rampe_Start=1000,\n",
    "    Rampe_Stop=1000,\n",
    "    Rampe_Descendante=800,\n",
    "    Rampe_Montante=400\n",
    "    ),\n",
    "    \"B\" : Centrale3(\n",
    "    name=\"B\",\n",
    "    N=10,\n",
    "    Pmax=1750,\n",
    "    Pmin=1250,\n",
    "    Cmwh=1.3,\n",
    "    Cstart=1000,\n",
    "    Cbase=2600,\n",
    "    Rampe_Start=1500,\n",
    "    Rampe_Stop=1500,\n",
    "    Rampe_Descendante=1200,\n",
    "    Rampe_Montante=600\n",
    "    ),\n",
    "    \"C\" : Centrale3(\n",
    "    name=\"C\",\n",
    "    N=5,\n",
    "    Pmax=4000,\n",
    "    Pmin=1500,\n",
    "    Cmwh=3,\n",
    "    Cstart=500,\n",
    "    Cbase=3000,\n",
    "    Rampe_Start=2000,\n",
    "    Rampe_Stop=2000,\n",
    "    Rampe_Descendante=1700,\n",
    "    Rampe_Montante=800\n",
    "    )\n",
    "}"
   ]
  },
  {
   "cell_type": "code",
   "execution_count": 35,
   "metadata": {},
   "outputs": [
    {
     "name": "stdout",
     "output_type": "stream",
     "text": [
      "Gurobi Optimizer version 9.5.2 build v9.5.2rc0 (win64)\n",
      "Thread count: 4 physical cores, 8 logical processors, using up to 8 threads\n",
      "Optimize a model with 2785 rows, 2232 columns and 8448 nonzeros\n",
      "Model fingerprint: 0x460e9919\n",
      "Variable types: 672 continuous, 1560 integer (1560 binary)\n",
      "Coefficient statistics:\n",
      "  Matrix range     [3e-04, 6e+04]\n",
      "  Objective range  [1e+00, 2e+03]\n",
      "  Bounds range     [1e+00, 1e+00]\n",
      "  RHS range        [1e+00, 4e+04]\n",
      "Presolve removed 695 rows and 1269 columns\n",
      "Presolve time: 0.02s\n",
      "Presolved: 2090 rows, 963 columns, 6363 nonzeros\n",
      "Variable types: 672 continuous, 291 integer (291 binary)\n",
      "\n",
      "Root relaxation: objective 1.011158e+06, 1035 iterations, 0.01 seconds (0.01 work units)\n",
      "\n",
      "    Nodes    |    Current Node    |     Objective Bounds      |     Work\n",
      " Expl Unexpl |  Obj  Depth IntInf | Incumbent    BestBd   Gap | It/Node Time\n",
      "\n",
      "     0     0 1011158.36    0   42          - 1011158.36      -     -    0s\n",
      "H    0     0                    1024447.0000 1011158.36  1.30%     -    0s\n",
      "     0     0 1011766.70    0   37 1024447.00 1011766.70  1.24%     -    0s\n",
      "     0     0 1012487.81    0   17 1024447.00 1012487.81  1.17%     -    0s\n",
      "     0     0 1012487.81    0   17 1024447.00 1012487.81  1.17%     -    0s\n",
      "H    0     0                    1019980.0000 1012487.81  0.73%     -    0s\n",
      "     0     0 1012528.31    0   18 1019980.00 1012528.31  0.73%     -    0s\n",
      "     0     0 1012528.31    0   18 1019980.00 1012528.31  0.73%     -    0s\n",
      "     0     0 1012528.31    0   19 1019980.00 1012528.31  0.73%     -    0s\n",
      "     0     0 1012637.32    0   18 1019980.00 1012637.32  0.72%     -    0s\n",
      "     0     0 1012637.32    0   19 1019980.00 1012637.32  0.72%     -    0s\n",
      "     0     0 1012637.32    0   17 1019980.00 1012637.32  0.72%     -    0s\n",
      "H    0     0                    1017238.0000 1012637.32  0.45%     -    0s\n",
      "     0     0 1012637.32    0   19 1017238.00 1012637.32  0.45%     -    0s\n",
      "     0     0 1012637.32    0   17 1017238.00 1012637.32  0.45%     -    0s\n",
      "     0     0 1012637.32    0   18 1017238.00 1012637.32  0.45%     -    0s\n",
      "     0     0 1012637.32    0   18 1017238.00 1012637.32  0.45%     -    0s\n",
      "     0     0 1012637.32    0   20 1017238.00 1012637.32  0.45%     -    0s\n",
      "     0     0 1012637.32    0   20 1017238.00 1012637.32  0.45%     -    0s\n",
      "     0     0 1012637.32    0   17 1017238.00 1012637.32  0.45%     -    0s\n",
      "     0     2 1012637.32    0   17 1017238.00 1012637.32  0.45%     -    0s\n",
      "H    3     4                    1016994.0000 1012637.32  0.43%   9.3    0s\n",
      "H   27     3                    1016430.0000 1015144.08  0.13%  16.1    0s\n",
      "\n",
      "Cutting planes:\n",
      "  Gomory: 3\n",
      "  MIR: 17\n",
      "  Flow cover: 3\n",
      "  RLT: 7\n",
      "\n",
      "Explored 49 nodes (2034 simplex iterations) in 0.50 seconds (0.27 work units)\n",
      "Thread count was 8 (of 8 available processors)\n",
      "\n",
      "Solution count 6: 1.01643e+06 1.01643e+06 1.01699e+06 ... 1.02445e+06\n",
      "\n",
      "Optimal solution found (tolerance 1.00e-04)\n",
      "Best objective 1.016430000000e+06, best bound 1.016409639706e+06, gap 0.0020%\n"
     ]
    }
   ],
   "source": [
    "heures_maintenance = np.array([0,1,2,3,4,5,6,18,19,20,21,22,23])\n",
    "consommation = np.array([15,15,15,15,15,15,30,30,30,25,25,25,25,25,25,40,40,40,27,27,27,27,27,27])*1000\n",
    "heures = np.arange(24)\n",
    "\n",
    "model = gp.Model(\"8.1\")\n",
    "\n",
    "dict_N, dict_P, dict_Nstart = variables_decision_desagregation_thermique(model,dict_Thermique)\n",
    "dict_H, dict_Hstart = variables_decision_hydraulique_palier(model,dict_Hydro)\n",
    "dict_S = {t : model.addVar(lb=0,vtype=gp.GRB.CONTINUOUS,name=f\"pompage à l'instant {t}\") for t in range(24)}\n",
    "dict_N_s = {t : model.addVar(lb=0,vtype=gp.GRB.BINARY,name=f\"fonctionnement pompe à l'instant {t}\") for t in range(24)}\n",
    "debit_S = 1/3000 # débit de pompage par MWh ou par MW pendant une heure\n",
    "M = sum([dict_Thermique[X].N * dict_Thermique[X].Pmax for X in dict_Thermique]) + sum([dict_Hydro[Y].P[dict_Hydro[Y].palier_max()] for Y in dict_Hydro])\n",
    "\n",
    "contraintes_reservoir_palier(model,dict_H,dict_Hydro,dict_S,debit_S)\n",
    "contraintes_hydraulique_palier(model,dict_H,dict_Hydro,dict_Hstart)\n",
    "contraintes_hydraulique_pompage(model,dict_H,dict_Hydro,dict_N_s,dict_S,M)\n",
    "contraintes_thermique_desagregation(model,dict_P,dict_N,dict_Nstart,dict_Thermique)\n",
    "contraintes_equilibre_desagregation(model,dict_P,dict_Thermique,dict_H,dict_Hydro,dict_S,consommation)\n",
    "contraintes_reserve_desagregation(model,dict_N,dict_Thermique,dict_Hydro,consommation)\n",
    "# Contrainte rampe montante\n",
    "for t in range(24):\n",
    "    for X in dict_Thermique:\n",
    "        for k in range(dict_Thermique[X].N):\n",
    "            model.addConstr(dict_P[X,k,t]-dict_P[X,k,heure[t-1]]<=dict_Thermique[X].Rampe_Montante)\n",
    "\n",
    "\n",
    "\n",
    "model.setObjective(\n",
    "    gp.quicksum([dict_N[X,k,t] * (dict_Thermique[X].Cbase - dict_Thermique[X].Pmin*dict_Thermique[X].Cmwh) for X in dict_Thermique for k in range(dict_Thermique[X].N) for t in range(24)]) + \n",
    "    gp.quicksum([dict_P[X,k,t] * dict_Thermique[X].Cmwh for X in dict_Thermique for k in range(dict_Thermique[X].N) for t in range(24)])+ \n",
    "    gp.quicksum([dict_Nstart[X,k,t]*dict_Thermique[X].Cstart for X in dict_Thermique for k in range(dict_Thermique[X].N) for t in range(24)])+\n",
    "    gp.quicksum([dict_H[Y,n,t] * dict_Hydro[Y].Cheure[n] for Y in dict_Hydro for t in range(24) for n in dict_Hydro[Y].Palier])+\n",
    "    gp.quicksum([dict_Hstart[Y,t] * dict_Hydro[Y].Cstart for Y in dict_Hydro for t in range(24)]),\n",
    "    gp.GRB.MINIMIZE\n",
    "    )\n",
    "\n",
    "model.optimize()"
   ]
  },
  {
   "cell_type": "code",
   "execution_count": 36,
   "metadata": {},
   "outputs": [
    {
     "data": {
      "application/vnd.plotly.v1+json": {
       "config": {
        "plotlyServerURL": "https://plot.ly"
       },
       "data": [
        {
         "name": "Thermique A",
         "stackgroup": "one",
         "type": "scatter",
         "x": [
          0,
          1,
          2,
          3,
          4,
          5,
          6,
          7,
          8,
          9,
          10,
          11,
          12,
          13,
          14,
          15,
          16,
          17,
          18,
          19,
          20,
          21,
          22,
          23
         ],
         "y": [
          10200,
          10200,
          10200,
          10200,
          10200,
          10200,
          13950,
          13950,
          13950,
          10200,
          10200,
          10200,
          10200,
          11950,
          16750,
          21550,
          23950,
          23950,
          10950,
          10950,
          10950,
          10950,
          10950,
          10950
         ]
        },
        {
         "name": "Thermique B",
         "stackgroup": "one",
         "type": "scatter",
         "x": [
          0,
          1,
          2,
          3,
          4,
          5,
          6,
          7,
          8,
          9,
          10,
          11,
          12,
          13,
          14,
          15,
          16,
          17,
          18,
          19,
          20,
          21,
          22,
          23
         ],
         "y": [
          6249.999999999727,
          6249.99999999972,
          6250,
          7750.000000000831,
          6750,
          6250,
          8750,
          8750,
          8750,
          8700,
          8700,
          8700,
          8700,
          8550,
          6250,
          8750,
          8750,
          8750,
          8750,
          8750,
          8750,
          8750,
          8750,
          8750
         ]
        },
        {
         "name": "Thermique C",
         "stackgroup": "one",
         "type": "scatter",
         "x": [
          0,
          1,
          2,
          3,
          4,
          5,
          6,
          7,
          8,
          9,
          10,
          11,
          12,
          13,
          14,
          15,
          16,
          17,
          18,
          19,
          20,
          21,
          22,
          23
         ],
         "y": [
          4500,
          4500,
          4500,
          4500,
          4500,
          4500,
          4500,
          4500,
          4500,
          4500,
          4500,
          4500,
          4500,
          4500,
          4500,
          6900,
          4500,
          4500,
          4500,
          4500,
          4500,
          4500,
          4500,
          4500
         ]
        },
        {
         "name": "Hydraulique 9",
         "stackgroup": "one",
         "type": "scatter",
         "x": [
          0,
          1,
          2,
          3,
          4,
          5,
          6,
          7,
          8,
          9,
          10,
          11,
          12,
          13,
          14,
          15,
          16,
          17,
          18,
          19,
          20,
          21,
          22,
          23
         ],
         "y": [
          0,
          0,
          0,
          0,
          0,
          0,
          1100,
          1100,
          1100,
          0,
          0,
          0,
          0,
          0,
          0,
          1100,
          1100,
          1100,
          1100,
          1100,
          1100,
          1100,
          1100,
          1100
         ]
        },
        {
         "name": "Hydraulique 14",
         "stackgroup": "one",
         "type": "scatter",
         "x": [
          0,
          1,
          2,
          3,
          4,
          5,
          6,
          7,
          8,
          9,
          10,
          11,
          12,
          13,
          14,
          15,
          16,
          17,
          18,
          19,
          20,
          21,
          22,
          23
         ],
         "y": [
          0,
          0,
          0,
          0,
          0,
          0,
          1700,
          1700,
          1700,
          1600,
          1600,
          1600,
          1600,
          0,
          0,
          1700,
          1700,
          1700,
          1700,
          1700,
          1700,
          1700,
          1700,
          1700
         ]
        },
        {
         "name": "Pompage",
         "stackgroup": "two",
         "type": "scatter",
         "x": [
          0,
          1,
          2,
          3,
          4,
          5,
          6,
          7,
          8,
          9,
          10,
          11,
          12,
          13,
          14,
          15,
          16,
          17,
          18,
          19,
          20,
          21,
          22,
          23
         ],
         "y": [
          -5949.999999999728,
          -5949.999999999721,
          -5950,
          -7450.000000000832,
          -6450,
          -5949.999999999733,
          0,
          0,
          0,
          0,
          0,
          0,
          0,
          0,
          -2500,
          0,
          0,
          0,
          0,
          0,
          0,
          0,
          0,
          0
         ]
        },
        {
         "line": {
          "color": "red",
          "dash": "dash"
         },
         "name": "Production total",
         "type": "scatter",
         "x": [
          0,
          1,
          2,
          3,
          4,
          5,
          6,
          7,
          8,
          9,
          10,
          11,
          12,
          13,
          14,
          15,
          16,
          17,
          18,
          19,
          20,
          21,
          22,
          23
         ],
         "y": [
          15000,
          15000,
          15000,
          14999.999999999996,
          15000,
          15000.000000000267,
          30000,
          30000,
          30000,
          25000,
          25000,
          25000,
          25000,
          25000,
          25000,
          40000,
          40000,
          40000,
          27000,
          27000,
          27000,
          27000,
          27000,
          27000
         ]
        },
        {
         "line": {
          "color": "black"
         },
         "name": "Coût MWh",
         "type": "scatter",
         "x": [
          0,
          1,
          2,
          3,
          4,
          5,
          6,
          7,
          8,
          9,
          10,
          11,
          12,
          13,
          14,
          15,
          16,
          17,
          18,
          19,
          20,
          21,
          22,
          23
         ],
         "y": [
          2.266666666666643,
          2.2666666666666426,
          2.2666666666666666,
          2.396666666666739,
          2.31,
          2.266666666666626,
          1.5926666666666667,
          1.5026666666666666,
          1.5026666666666666,
          1.4948,
          1.4948,
          1.4948,
          1.4948,
          1.6196,
          1.884,
          1.7545,
          1.627,
          1.627,
          1.4474074074074075,
          1.4474074074074075,
          1.4474074074074075,
          1.4474074074074075,
          1.4474074074074075,
          1.4474074074074075
         ],
         "yaxis": "y2"
        },
        {
         "line": {
          "color": "grey"
         },
         "name": "Niveau réservoir",
         "type": "scatter",
         "x": [
          0,
          1,
          2,
          3,
          4,
          5,
          6,
          7,
          8,
          9,
          10,
          11,
          12,
          13,
          14,
          15,
          16,
          17,
          18,
          19,
          20,
          21,
          22,
          23
         ],
         "y": [
          1.9833333333332426,
          3.966666666666483,
          5.949999999999816,
          8.433333333333426,
          10.583333333333426,
          12.56666666666667,
          11.62666666666667,
          10.686666666666671,
          9.746666666666671,
          9.216666666666672,
          8.686666666666673,
          8.156666666666673,
          7.626666666666673,
          7.626666666666673,
          8.460000000000006,
          7.520000000000006,
          6.580000000000005,
          5.640000000000005,
          4.700000000000005,
          3.7600000000000047,
          2.8200000000000047,
          1.8800000000000048,
          0.9400000000000047,
          4.6629367034256575e-15
         ],
         "yaxis": "y3"
        }
       ],
       "layout": {
        "hovermode": "x",
        "legend": {
         "orientation": "h",
         "x": 1,
         "xanchor": "right",
         "y": 1.02,
         "yanchor": "bottom"
        },
        "template": {
         "data": {
          "bar": [
           {
            "error_x": {
             "color": "#2a3f5f"
            },
            "error_y": {
             "color": "#2a3f5f"
            },
            "marker": {
             "line": {
              "color": "#E5ECF6",
              "width": 0.5
             },
             "pattern": {
              "fillmode": "overlay",
              "size": 10,
              "solidity": 0.2
             }
            },
            "type": "bar"
           }
          ],
          "barpolar": [
           {
            "marker": {
             "line": {
              "color": "#E5ECF6",
              "width": 0.5
             },
             "pattern": {
              "fillmode": "overlay",
              "size": 10,
              "solidity": 0.2
             }
            },
            "type": "barpolar"
           }
          ],
          "carpet": [
           {
            "aaxis": {
             "endlinecolor": "#2a3f5f",
             "gridcolor": "white",
             "linecolor": "white",
             "minorgridcolor": "white",
             "startlinecolor": "#2a3f5f"
            },
            "baxis": {
             "endlinecolor": "#2a3f5f",
             "gridcolor": "white",
             "linecolor": "white",
             "minorgridcolor": "white",
             "startlinecolor": "#2a3f5f"
            },
            "type": "carpet"
           }
          ],
          "choropleth": [
           {
            "colorbar": {
             "outlinewidth": 0,
             "ticks": ""
            },
            "type": "choropleth"
           }
          ],
          "contour": [
           {
            "colorbar": {
             "outlinewidth": 0,
             "ticks": ""
            },
            "colorscale": [
             [
              0,
              "#0d0887"
             ],
             [
              0.1111111111111111,
              "#46039f"
             ],
             [
              0.2222222222222222,
              "#7201a8"
             ],
             [
              0.3333333333333333,
              "#9c179e"
             ],
             [
              0.4444444444444444,
              "#bd3786"
             ],
             [
              0.5555555555555556,
              "#d8576b"
             ],
             [
              0.6666666666666666,
              "#ed7953"
             ],
             [
              0.7777777777777778,
              "#fb9f3a"
             ],
             [
              0.8888888888888888,
              "#fdca26"
             ],
             [
              1,
              "#f0f921"
             ]
            ],
            "type": "contour"
           }
          ],
          "contourcarpet": [
           {
            "colorbar": {
             "outlinewidth": 0,
             "ticks": ""
            },
            "type": "contourcarpet"
           }
          ],
          "heatmap": [
           {
            "colorbar": {
             "outlinewidth": 0,
             "ticks": ""
            },
            "colorscale": [
             [
              0,
              "#0d0887"
             ],
             [
              0.1111111111111111,
              "#46039f"
             ],
             [
              0.2222222222222222,
              "#7201a8"
             ],
             [
              0.3333333333333333,
              "#9c179e"
             ],
             [
              0.4444444444444444,
              "#bd3786"
             ],
             [
              0.5555555555555556,
              "#d8576b"
             ],
             [
              0.6666666666666666,
              "#ed7953"
             ],
             [
              0.7777777777777778,
              "#fb9f3a"
             ],
             [
              0.8888888888888888,
              "#fdca26"
             ],
             [
              1,
              "#f0f921"
             ]
            ],
            "type": "heatmap"
           }
          ],
          "heatmapgl": [
           {
            "colorbar": {
             "outlinewidth": 0,
             "ticks": ""
            },
            "colorscale": [
             [
              0,
              "#0d0887"
             ],
             [
              0.1111111111111111,
              "#46039f"
             ],
             [
              0.2222222222222222,
              "#7201a8"
             ],
             [
              0.3333333333333333,
              "#9c179e"
             ],
             [
              0.4444444444444444,
              "#bd3786"
             ],
             [
              0.5555555555555556,
              "#d8576b"
             ],
             [
              0.6666666666666666,
              "#ed7953"
             ],
             [
              0.7777777777777778,
              "#fb9f3a"
             ],
             [
              0.8888888888888888,
              "#fdca26"
             ],
             [
              1,
              "#f0f921"
             ]
            ],
            "type": "heatmapgl"
           }
          ],
          "histogram": [
           {
            "marker": {
             "pattern": {
              "fillmode": "overlay",
              "size": 10,
              "solidity": 0.2
             }
            },
            "type": "histogram"
           }
          ],
          "histogram2d": [
           {
            "colorbar": {
             "outlinewidth": 0,
             "ticks": ""
            },
            "colorscale": [
             [
              0,
              "#0d0887"
             ],
             [
              0.1111111111111111,
              "#46039f"
             ],
             [
              0.2222222222222222,
              "#7201a8"
             ],
             [
              0.3333333333333333,
              "#9c179e"
             ],
             [
              0.4444444444444444,
              "#bd3786"
             ],
             [
              0.5555555555555556,
              "#d8576b"
             ],
             [
              0.6666666666666666,
              "#ed7953"
             ],
             [
              0.7777777777777778,
              "#fb9f3a"
             ],
             [
              0.8888888888888888,
              "#fdca26"
             ],
             [
              1,
              "#f0f921"
             ]
            ],
            "type": "histogram2d"
           }
          ],
          "histogram2dcontour": [
           {
            "colorbar": {
             "outlinewidth": 0,
             "ticks": ""
            },
            "colorscale": [
             [
              0,
              "#0d0887"
             ],
             [
              0.1111111111111111,
              "#46039f"
             ],
             [
              0.2222222222222222,
              "#7201a8"
             ],
             [
              0.3333333333333333,
              "#9c179e"
             ],
             [
              0.4444444444444444,
              "#bd3786"
             ],
             [
              0.5555555555555556,
              "#d8576b"
             ],
             [
              0.6666666666666666,
              "#ed7953"
             ],
             [
              0.7777777777777778,
              "#fb9f3a"
             ],
             [
              0.8888888888888888,
              "#fdca26"
             ],
             [
              1,
              "#f0f921"
             ]
            ],
            "type": "histogram2dcontour"
           }
          ],
          "mesh3d": [
           {
            "colorbar": {
             "outlinewidth": 0,
             "ticks": ""
            },
            "type": "mesh3d"
           }
          ],
          "parcoords": [
           {
            "line": {
             "colorbar": {
              "outlinewidth": 0,
              "ticks": ""
             }
            },
            "type": "parcoords"
           }
          ],
          "pie": [
           {
            "automargin": true,
            "type": "pie"
           }
          ],
          "scatter": [
           {
            "fillpattern": {
             "fillmode": "overlay",
             "size": 10,
             "solidity": 0.2
            },
            "type": "scatter"
           }
          ],
          "scatter3d": [
           {
            "line": {
             "colorbar": {
              "outlinewidth": 0,
              "ticks": ""
             }
            },
            "marker": {
             "colorbar": {
              "outlinewidth": 0,
              "ticks": ""
             }
            },
            "type": "scatter3d"
           }
          ],
          "scattercarpet": [
           {
            "marker": {
             "colorbar": {
              "outlinewidth": 0,
              "ticks": ""
             }
            },
            "type": "scattercarpet"
           }
          ],
          "scattergeo": [
           {
            "marker": {
             "colorbar": {
              "outlinewidth": 0,
              "ticks": ""
             }
            },
            "type": "scattergeo"
           }
          ],
          "scattergl": [
           {
            "marker": {
             "colorbar": {
              "outlinewidth": 0,
              "ticks": ""
             }
            },
            "type": "scattergl"
           }
          ],
          "scattermapbox": [
           {
            "marker": {
             "colorbar": {
              "outlinewidth": 0,
              "ticks": ""
             }
            },
            "type": "scattermapbox"
           }
          ],
          "scatterpolar": [
           {
            "marker": {
             "colorbar": {
              "outlinewidth": 0,
              "ticks": ""
             }
            },
            "type": "scatterpolar"
           }
          ],
          "scatterpolargl": [
           {
            "marker": {
             "colorbar": {
              "outlinewidth": 0,
              "ticks": ""
             }
            },
            "type": "scatterpolargl"
           }
          ],
          "scatterternary": [
           {
            "marker": {
             "colorbar": {
              "outlinewidth": 0,
              "ticks": ""
             }
            },
            "type": "scatterternary"
           }
          ],
          "surface": [
           {
            "colorbar": {
             "outlinewidth": 0,
             "ticks": ""
            },
            "colorscale": [
             [
              0,
              "#0d0887"
             ],
             [
              0.1111111111111111,
              "#46039f"
             ],
             [
              0.2222222222222222,
              "#7201a8"
             ],
             [
              0.3333333333333333,
              "#9c179e"
             ],
             [
              0.4444444444444444,
              "#bd3786"
             ],
             [
              0.5555555555555556,
              "#d8576b"
             ],
             [
              0.6666666666666666,
              "#ed7953"
             ],
             [
              0.7777777777777778,
              "#fb9f3a"
             ],
             [
              0.8888888888888888,
              "#fdca26"
             ],
             [
              1,
              "#f0f921"
             ]
            ],
            "type": "surface"
           }
          ],
          "table": [
           {
            "cells": {
             "fill": {
              "color": "#EBF0F8"
             },
             "line": {
              "color": "white"
             }
            },
            "header": {
             "fill": {
              "color": "#C8D4E3"
             },
             "line": {
              "color": "white"
             }
            },
            "type": "table"
           }
          ]
         },
         "layout": {
          "annotationdefaults": {
           "arrowcolor": "#2a3f5f",
           "arrowhead": 0,
           "arrowwidth": 1
          },
          "autotypenumbers": "strict",
          "coloraxis": {
           "colorbar": {
            "outlinewidth": 0,
            "ticks": ""
           }
          },
          "colorscale": {
           "diverging": [
            [
             0,
             "#8e0152"
            ],
            [
             0.1,
             "#c51b7d"
            ],
            [
             0.2,
             "#de77ae"
            ],
            [
             0.3,
             "#f1b6da"
            ],
            [
             0.4,
             "#fde0ef"
            ],
            [
             0.5,
             "#f7f7f7"
            ],
            [
             0.6,
             "#e6f5d0"
            ],
            [
             0.7,
             "#b8e186"
            ],
            [
             0.8,
             "#7fbc41"
            ],
            [
             0.9,
             "#4d9221"
            ],
            [
             1,
             "#276419"
            ]
           ],
           "sequential": [
            [
             0,
             "#0d0887"
            ],
            [
             0.1111111111111111,
             "#46039f"
            ],
            [
             0.2222222222222222,
             "#7201a8"
            ],
            [
             0.3333333333333333,
             "#9c179e"
            ],
            [
             0.4444444444444444,
             "#bd3786"
            ],
            [
             0.5555555555555556,
             "#d8576b"
            ],
            [
             0.6666666666666666,
             "#ed7953"
            ],
            [
             0.7777777777777778,
             "#fb9f3a"
            ],
            [
             0.8888888888888888,
             "#fdca26"
            ],
            [
             1,
             "#f0f921"
            ]
           ],
           "sequentialminus": [
            [
             0,
             "#0d0887"
            ],
            [
             0.1111111111111111,
             "#46039f"
            ],
            [
             0.2222222222222222,
             "#7201a8"
            ],
            [
             0.3333333333333333,
             "#9c179e"
            ],
            [
             0.4444444444444444,
             "#bd3786"
            ],
            [
             0.5555555555555556,
             "#d8576b"
            ],
            [
             0.6666666666666666,
             "#ed7953"
            ],
            [
             0.7777777777777778,
             "#fb9f3a"
            ],
            [
             0.8888888888888888,
             "#fdca26"
            ],
            [
             1,
             "#f0f921"
            ]
           ]
          },
          "colorway": [
           "#636efa",
           "#EF553B",
           "#00cc96",
           "#ab63fa",
           "#FFA15A",
           "#19d3f3",
           "#FF6692",
           "#B6E880",
           "#FF97FF",
           "#FECB52"
          ],
          "font": {
           "color": "#2a3f5f"
          },
          "geo": {
           "bgcolor": "white",
           "lakecolor": "white",
           "landcolor": "#E5ECF6",
           "showlakes": true,
           "showland": true,
           "subunitcolor": "white"
          },
          "hoverlabel": {
           "align": "left"
          },
          "hovermode": "closest",
          "mapbox": {
           "style": "light"
          },
          "paper_bgcolor": "white",
          "plot_bgcolor": "#E5ECF6",
          "polar": {
           "angularaxis": {
            "gridcolor": "white",
            "linecolor": "white",
            "ticks": ""
           },
           "bgcolor": "#E5ECF6",
           "radialaxis": {
            "gridcolor": "white",
            "linecolor": "white",
            "ticks": ""
           }
          },
          "scene": {
           "xaxis": {
            "backgroundcolor": "#E5ECF6",
            "gridcolor": "white",
            "gridwidth": 2,
            "linecolor": "white",
            "showbackground": true,
            "ticks": "",
            "zerolinecolor": "white"
           },
           "yaxis": {
            "backgroundcolor": "#E5ECF6",
            "gridcolor": "white",
            "gridwidth": 2,
            "linecolor": "white",
            "showbackground": true,
            "ticks": "",
            "zerolinecolor": "white"
           },
           "zaxis": {
            "backgroundcolor": "#E5ECF6",
            "gridcolor": "white",
            "gridwidth": 2,
            "linecolor": "white",
            "showbackground": true,
            "ticks": "",
            "zerolinecolor": "white"
           }
          },
          "shapedefaults": {
           "line": {
            "color": "#2a3f5f"
           }
          },
          "ternary": {
           "aaxis": {
            "gridcolor": "white",
            "linecolor": "white",
            "ticks": ""
           },
           "baxis": {
            "gridcolor": "white",
            "linecolor": "white",
            "ticks": ""
           },
           "bgcolor": "#E5ECF6",
           "caxis": {
            "gridcolor": "white",
            "linecolor": "white",
            "ticks": ""
           }
          },
          "title": {
           "x": 0.05
          },
          "xaxis": {
           "automargin": true,
           "gridcolor": "white",
           "linecolor": "white",
           "ticks": "",
           "title": {
            "standoff": 15
           },
           "zerolinecolor": "white",
           "zerolinewidth": 2
          },
          "yaxis": {
           "automargin": true,
           "gridcolor": "white",
           "linecolor": "white",
           "ticks": "",
           "title": {
            "standoff": 15
           },
           "zerolinecolor": "white",
           "zerolinewidth": 2
          }
         }
        },
        "title": {
         "text": "Répartition de la production électrique dans la journée - 8.1 - Coût de la journée : 1016 k€"
        },
        "xaxis": {
         "domain": [
          0.1,
          1
         ]
        },
        "yaxis": {
         "range": [
          -8195.000000000917,
          44000
         ],
         "title": {
          "text": "MW"
         }
        },
        "yaxis2": {
         "anchor": "free",
         "overlaying": "y",
         "position": 1,
         "range": [
          1,
          2.5
         ],
         "side": "right",
         "title": {
          "text": "€/MWh"
         }
        },
        "yaxis3": {
         "anchor": "free",
         "overlaying": "y",
         "position": 0.05,
         "range": [
          -5,
          10
         ],
         "side": "left",
         "title": {
          "text": "Réservoir (m)"
         }
        }
       }
      }
     },
     "metadata": {},
     "output_type": "display_data"
    }
   ],
   "source": [
    "df = df_results61(dict_N,dict_P,dict_Nstart,dict_Thermique,dict_H,dict_Hstart,dict_Hydro,dict_S,debit_S,consommation)\n",
    "fig = Results_viz52(df,dict_Thermique,dict_Hydro)\n",
    "A = \"8.1\"\n",
    "fig.update_layout(\n",
    "    title = f\"Répartition de la production électrique dans la journée - {A} - Coût de la journée : {int(np.around(model.ObjVal/1000,0))} k€\"\n",
    ")\n",
    "fig.show()\n",
    "fig.write_html(f\"HTML/Répartition de la production électrique dans la journée - {A}.html\")\n",
    "df.to_csv(f\"CSV/Résultats - {A}.csv\",index=False)"
   ]
  },
  {
   "cell_type": "markdown",
   "metadata": {},
   "source": [
    "### 8.2 Rampe démarrage\n",
    "Si la centrale démarre alors on autorise une rampe plus grande.\n",
    "$$\n",
    "(8.2), P_{t}^{(X,k)}-P_{t-1}^{(X,k)}\\leq R_{montée}^{(X)} + N_{start,t}{(X,k)}(R_{démarrage}^{(X)}-R_{montée}^{(X)})\n",
    "$$"
   ]
  },
  {
   "cell_type": "code",
   "execution_count": 37,
   "metadata": {},
   "outputs": [
    {
     "name": "stdout",
     "output_type": "stream",
     "text": [
      "Gurobi Optimizer version 9.5.2 build v9.5.2rc0 (win64)\n",
      "Thread count: 4 physical cores, 8 logical processors, using up to 8 threads\n",
      "Optimize a model with 2785 rows, 2232 columns and 9096 nonzeros\n",
      "Model fingerprint: 0xe2bdd0ee\n",
      "Variable types: 672 continuous, 1560 integer (1560 binary)\n",
      "Coefficient statistics:\n",
      "  Matrix range     [3e-04, 6e+04]\n",
      "  Objective range  [1e+00, 2e+03]\n",
      "  Bounds range     [1e+00, 1e+00]\n",
      "  RHS range        [1e+00, 4e+04]\n",
      "Presolve removed 24 rows and 0 columns\n",
      "Presolve time: 0.02s\n",
      "Presolved: 2761 rows, 2232 columns, 9576 nonzeros\n",
      "Variable types: 672 continuous, 1560 integer (1560 binary)\n",
      "Found heuristic solution: objective 1143740.0000\n",
      "\n",
      "Root relaxation: objective 9.865633e+05, 1541 iterations, 0.02 seconds (0.02 work units)\n",
      "\n",
      "    Nodes    |    Current Node    |     Objective Bounds      |     Work\n",
      " Expl Unexpl |  Obj  Depth IntInf | Incumbent    BestBd   Gap | It/Node Time\n",
      "\n",
      "     0     0 986563.290    0  133 1143740.00 986563.290  13.7%     -    0s\n",
      "H    0     0                    1052540.0000 986563.290  6.27%     -    0s\n",
      "H    0     0                    999785.00000 986563.290  1.32%     -    0s\n",
      "H    0     0                    994685.00000 987113.421  0.76%     -    0s\n",
      "     0     0 987113.421    0  126 994685.000 987113.421  0.76%     -    0s\n",
      "     0     0 987306.646    0  120 994685.000 987306.646  0.74%     -    0s\n",
      "     0     0 987886.769    0  121 994685.000 987886.769  0.68%     -    0s\n",
      "     0     0 987887.226    0  122 994685.000 987887.226  0.68%     -    0s\n",
      "     0     0 988302.092    0  135 994685.000 988302.092  0.64%     -    0s\n",
      "     0     0 988304.690    0  140 994685.000 988304.690  0.64%     -    0s\n",
      "     0     0 988309.044    0  152 994685.000 988309.044  0.64%     -    0s\n",
      "     0     0 988309.044    0  152 994685.000 988309.044  0.64%     -    0s\n",
      "     0     0 988336.401    0  113 994685.000 988336.401  0.64%     -    0s\n",
      "     0     0 988343.477    0  123 994685.000 988343.477  0.64%     -    0s\n",
      "     0     0 988345.222    0  123 994685.000 988345.222  0.64%     -    0s\n",
      "     0     0 988351.317    0  124 994685.000 988351.317  0.64%     -    0s\n",
      "H    0     0                    994500.00000 988355.092  0.62%     -    0s\n",
      "     0     0 988355.092    0  135 994500.000 988355.092  0.62%     -    0s\n",
      "H    0     0                    992340.00000 988355.092  0.40%     -    0s\n",
      "H    0     0                    992270.00000 988355.092  0.39%     -    0s\n",
      "     0     0 988361.795    0  111 992270.000 988361.795  0.39%     -    0s\n",
      "     0     0 988361.907    0  112 992270.000 988361.907  0.39%     -    0s\n",
      "     0     0 988374.433    0  125 992270.000 988374.433  0.39%     -    0s\n",
      "     0     0 988374.740    0  120 992270.000 988374.740  0.39%     -    0s\n",
      "     0     0 988375.536    0  142 992270.000 988375.536  0.39%     -    0s\n",
      "     0     0 988375.800    0  146 992270.000 988375.800  0.39%     -    0s\n",
      "     0     0 988375.905    0  146 992270.000 988375.905  0.39%     -    0s\n",
      "     0     0 988375.905    0   94 992270.000 988375.905  0.39%     -    0s\n",
      "     0     2 988375.905    0   94 992270.000 988375.905  0.39%     -    0s\n",
      "H   31    40                    990915.00000 988639.353  0.23%  55.5    0s\n",
      "H   33    40                    989677.00000 988639.353  0.10%  52.5    0s\n",
      "H   77    56                    989585.00000 988749.821  0.08%  31.4    0s\n",
      "H  167   136                    989428.41463 988749.821  0.07%  19.3    1s\n",
      "H  416   341                    989425.00000 988899.005  0.05%  12.4    1s\n",
      "H 1174   597                    989350.00000 988930.500  0.04%  12.4    3s\n",
      "  2752   770 989189.974   54   21 989350.000 989152.826  0.02%  10.3    5s\n",
      "\n",
      "Cutting planes:\n",
      "  Gomory: 25\n",
      "  Implied bound: 30\n",
      "  MIR: 57\n",
      "  StrongCG: 1\n",
      "  Flow cover: 41\n",
      "  RLT: 5\n",
      "  Relax-and-lift: 7\n",
      "\n",
      "Explored 18263 nodes (151362 simplex iterations) in 9.74 seconds (7.70 work units)\n",
      "Thread count was 8 (of 8 available processors)\n",
      "\n",
      "Solution count 10: 989350 989425 989428 ... 999785\n",
      "\n",
      "Optimal solution found (tolerance 1.00e-04)\n",
      "Best objective 9.893500000000e+05, best bound 9.892535739926e+05, gap 0.0097%\n"
     ]
    }
   ],
   "source": [
    "heures_maintenance = np.array([0,1,2,3,4,5,6,18,19,20,21,22,23])\n",
    "consommation = np.array([15,15,15,15,15,15,30,30,30,25,25,25,25,25,25,40,40,40,27,27,27,27,27,27])*1000\n",
    "heures = np.arange(24)\n",
    "\n",
    "model = gp.Model(\"8.2\")\n",
    "\n",
    "dict_N, dict_P, dict_Nstart = variables_decision_desagregation_thermique(model,dict_Thermique)\n",
    "dict_H, dict_Hstart = variables_decision_hydraulique_palier(model,dict_Hydro)\n",
    "dict_S = {t : model.addVar(lb=0,vtype=gp.GRB.CONTINUOUS,name=f\"pompage à l'instant {t}\") for t in range(24)}\n",
    "dict_N_s = {t : model.addVar(lb=0,vtype=gp.GRB.BINARY,name=f\"fonctionnement pompe à l'instant {t}\") for t in range(24)}\n",
    "debit_S = 1/3000 # débit de pompage par MWh ou par MW pendant une heure\n",
    "M = sum([dict_Thermique[X].N * dict_Thermique[X].Pmax for X in dict_Thermique]) + sum([dict_Hydro[Y].P[dict_Hydro[Y].palier_max()] for Y in dict_Hydro])\n",
    "\n",
    "contraintes_reservoir_palier(model,dict_H,dict_Hydro,dict_S,debit_S)\n",
    "contraintes_hydraulique_palier(model,dict_H,dict_Hydro,dict_Hstart)\n",
    "contraintes_hydraulique_pompage(model,dict_H,dict_Hydro,dict_N_s,dict_S,M)\n",
    "contraintes_thermique_desagregation(model,dict_P,dict_N,dict_Nstart,dict_Thermique)\n",
    "contraintes_equilibre_desagregation(model,dict_P,dict_Thermique,dict_H,dict_Hydro,dict_S,consommation)\n",
    "contraintes_reserve_desagregation(model,dict_N,dict_Thermique,dict_Hydro,consommation)\n",
    "# contrainte rampe montante\n",
    "for t in range(24):\n",
    "    for X in dict_Thermique:\n",
    "        for k in range(dict_Thermique[X].N):\n",
    "            model.addConstr(dict_P[X,k,t]-dict_P[X,k,heure[t-1]]<=dict_Thermique[X].Rampe_Montante + dict_Nstart[X,k,t]*(dict_Thermique[X].Rampe_Start-dict_Thermique[X].Rampe_Montante))\n",
    "\n",
    "\n",
    "\n",
    "model.setObjective(\n",
    "    gp.quicksum([dict_N[X,k,t] * (dict_Thermique[X].Cbase - dict_Thermique[X].Pmin*dict_Thermique[X].Cmwh) for X in dict_Thermique for k in range(dict_Thermique[X].N) for t in range(24)]) + \n",
    "    gp.quicksum([dict_P[X,k,t] * dict_Thermique[X].Cmwh for X in dict_Thermique for k in range(dict_Thermique[X].N) for t in range(24)])+ \n",
    "    gp.quicksum([dict_Nstart[X,k,t]*dict_Thermique[X].Cstart for X in dict_Thermique for k in range(dict_Thermique[X].N) for t in range(24)])+\n",
    "    gp.quicksum([dict_H[Y,n,t] * dict_Hydro[Y].Cheure[n] for Y in dict_Hydro for t in range(24) for n in dict_Hydro[Y].Palier])+\n",
    "    gp.quicksum([dict_Hstart[Y,t] * dict_Hydro[Y].Cstart for Y in dict_Hydro for t in range(24)]),\n",
    "    gp.GRB.MINIMIZE\n",
    "    )\n",
    "\n",
    "model.optimize()"
   ]
  },
  {
   "cell_type": "code",
   "execution_count": 38,
   "metadata": {},
   "outputs": [
    {
     "data": {
      "application/vnd.plotly.v1+json": {
       "config": {
        "plotlyServerURL": "https://plot.ly"
       },
       "data": [
        {
         "name": "Thermique A",
         "stackgroup": "one",
         "type": "scatter",
         "x": [
          0,
          1,
          2,
          3,
          4,
          5,
          6,
          7,
          8,
          9,
          10,
          11,
          12,
          13,
          14,
          15,
          16,
          17,
          18,
          19,
          20,
          21,
          22,
          23
         ],
         "y": [
          10200,
          10200,
          10200,
          10200,
          10200,
          10699.999999999993,
          15499.999999999995,
          14249.999999999998,
          14250,
          10200,
          10200,
          10200,
          10200,
          10200,
          14829.999999999922,
          19550,
          19300,
          19300,
          11299.999999999998,
          11400,
          11300,
          11299.999999999998,
          11299.999999999998,
          11299.999999999998
         ]
        },
        {
         "name": "Thermique B",
         "stackgroup": "one",
         "type": "scatter",
         "x": [
          0,
          1,
          2,
          3,
          4,
          5,
          6,
          7,
          8,
          9,
          10,
          11,
          12,
          13,
          14,
          15,
          16,
          17,
          18,
          19,
          20,
          21,
          22,
          23
         ],
         "y": [
          5250,
          5250,
          5250,
          5250,
          5250,
          6750,
          14500,
          15750,
          15750,
          15750,
          15750,
          15750,
          15750,
          15750,
          15750,
          17250,
          17500,
          17500,
          14000,
          14000,
          14000,
          14000,
          14000,
          14000
         ]
        },
        {
         "name": "Thermique C",
         "stackgroup": "one",
         "type": "scatter",
         "x": [
          0,
          1,
          2,
          3,
          4,
          5,
          6,
          7,
          8,
          9,
          10,
          11,
          12,
          13,
          14,
          15,
          16,
          17,
          18,
          19,
          20,
          21,
          22,
          23
         ],
         "y": [
          0,
          0,
          0,
          0,
          0,
          0,
          0,
          0,
          0,
          0,
          0,
          0,
          0,
          0,
          0,
          1500,
          1500,
          1500,
          0,
          0,
          0,
          0,
          0,
          0
         ]
        },
        {
         "name": "Hydraulique 9",
         "stackgroup": "one",
         "type": "scatter",
         "x": [
          0,
          1,
          2,
          3,
          4,
          5,
          6,
          7,
          8,
          9,
          10,
          11,
          12,
          13,
          14,
          15,
          16,
          17,
          18,
          19,
          20,
          21,
          22,
          23
         ],
         "y": [
          0,
          0,
          0,
          0,
          0,
          0,
          0,
          0,
          0,
          0,
          0,
          0,
          0,
          0,
          0,
          0,
          0,
          0,
          0,
          0,
          0,
          0,
          0,
          0
         ]
        },
        {
         "name": "Hydraulique 14",
         "stackgroup": "one",
         "type": "scatter",
         "x": [
          0,
          1,
          2,
          3,
          4,
          5,
          6,
          7,
          8,
          9,
          10,
          11,
          12,
          13,
          14,
          15,
          16,
          17,
          18,
          19,
          20,
          21,
          22,
          23
         ],
         "y": [
          0,
          0,
          0,
          0,
          0,
          0,
          0,
          0,
          0,
          0,
          0,
          0,
          0,
          0,
          0,
          1700,
          1700,
          1700,
          1700,
          1600,
          1700,
          1700,
          1700,
          1700
         ]
        },
        {
         "name": "Pompage",
         "stackgroup": "two",
         "type": "scatter",
         "x": [
          0,
          1,
          2,
          3,
          4,
          5,
          6,
          7,
          8,
          9,
          10,
          11,
          12,
          13,
          14,
          15,
          16,
          17,
          18,
          19,
          20,
          21,
          22,
          23
         ],
         "y": [
          -450.00000000000466,
          -450.0000000000154,
          -450.00000000001916,
          -450.0000000000157,
          -450.0000000000082,
          -2450,
          0,
          0,
          0,
          -950.0000000000026,
          -950.0000000000026,
          -950.0000000000026,
          -950.0000000000026,
          -950.0000000000027,
          -5579.999999999925,
          0,
          0,
          0,
          0,
          0,
          0,
          0,
          0,
          0
         ]
        },
        {
         "line": {
          "color": "red",
          "dash": "dash"
         },
         "name": "Production total",
         "type": "scatter",
         "x": [
          0,
          1,
          2,
          3,
          4,
          5,
          6,
          7,
          8,
          9,
          10,
          11,
          12,
          13,
          14,
          15,
          16,
          17,
          18,
          19,
          20,
          21,
          22,
          23
         ],
         "y": [
          14999.999999999995,
          14999.999999999985,
          14999.99999999998,
          14999.999999999984,
          14999.999999999993,
          14999.999999999993,
          29999.999999999993,
          30000,
          30000,
          24999.999999999996,
          24999.999999999996,
          24999.999999999996,
          24999.999999999996,
          24999.999999999996,
          24999.999999999993,
          40000,
          40000,
          40000,
          27000,
          27000,
          27000,
          27000,
          27000,
          27000
         ]
        },
        {
         "line": {
          "color": "black"
         },
         "name": "Coût MWh",
         "type": "scatter",
         "x": [
          0,
          1,
          2,
          3,
          4,
          5,
          6,
          7,
          8,
          9,
          10,
          11,
          12,
          13,
          14,
          15,
          16,
          17,
          18,
          19,
          20,
          21,
          22,
          23
         ],
         "y": [
          1.4500000000000006,
          1.4500000000000015,
          1.450000000000002,
          1.4500000000000015,
          1.4500000000000006,
          1.7783333333333333,
          1.8408333333333333,
          1.645,
          1.645,
          1.6500000000000001,
          1.6500000000000001,
          1.6500000000000001,
          1.6500000000000001,
          1.6500000000000001,
          2.020399999999994,
          1.719625,
          1.64775,
          1.64775,
          1.4966666666666666,
          1.5031481481481481,
          1.496666666666667,
          1.4966666666666666,
          1.4966666666666666,
          1.4966666666666666
         ],
         "yaxis": "y2"
        },
        {
         "line": {
          "color": "grey"
         },
         "name": "Niveau réservoir",
         "type": "scatter",
         "x": [
          0,
          1,
          2,
          3,
          4,
          5,
          6,
          7,
          8,
          9,
          10,
          11,
          12,
          13,
          14,
          15,
          16,
          17,
          18,
          19,
          20,
          21,
          22,
          23
         ],
         "y": [
          0.15000000000000155,
          0.3000000000000067,
          0.45000000000001306,
          0.6000000000000183,
          0.750000000000021,
          1.5666666666666877,
          1.5666666666666877,
          1.5666666666666877,
          1.5666666666666877,
          1.8833333333333553,
          2.200000000000023,
          2.5166666666666906,
          2.833333333333358,
          3.1500000000000252,
          5.01,
          4.449999999999999,
          3.8899999999999992,
          3.329999999999999,
          2.769999999999999,
          2.2399999999999993,
          1.6799999999999993,
          1.1199999999999992,
          0.5599999999999992,
          -8.881784197001252e-16
         ],
         "yaxis": "y3"
        }
       ],
       "layout": {
        "hovermode": "x",
        "legend": {
         "orientation": "h",
         "x": 1,
         "xanchor": "right",
         "y": 1.02,
         "yanchor": "bottom"
        },
        "template": {
         "data": {
          "bar": [
           {
            "error_x": {
             "color": "#2a3f5f"
            },
            "error_y": {
             "color": "#2a3f5f"
            },
            "marker": {
             "line": {
              "color": "#E5ECF6",
              "width": 0.5
             },
             "pattern": {
              "fillmode": "overlay",
              "size": 10,
              "solidity": 0.2
             }
            },
            "type": "bar"
           }
          ],
          "barpolar": [
           {
            "marker": {
             "line": {
              "color": "#E5ECF6",
              "width": 0.5
             },
             "pattern": {
              "fillmode": "overlay",
              "size": 10,
              "solidity": 0.2
             }
            },
            "type": "barpolar"
           }
          ],
          "carpet": [
           {
            "aaxis": {
             "endlinecolor": "#2a3f5f",
             "gridcolor": "white",
             "linecolor": "white",
             "minorgridcolor": "white",
             "startlinecolor": "#2a3f5f"
            },
            "baxis": {
             "endlinecolor": "#2a3f5f",
             "gridcolor": "white",
             "linecolor": "white",
             "minorgridcolor": "white",
             "startlinecolor": "#2a3f5f"
            },
            "type": "carpet"
           }
          ],
          "choropleth": [
           {
            "colorbar": {
             "outlinewidth": 0,
             "ticks": ""
            },
            "type": "choropleth"
           }
          ],
          "contour": [
           {
            "colorbar": {
             "outlinewidth": 0,
             "ticks": ""
            },
            "colorscale": [
             [
              0,
              "#0d0887"
             ],
             [
              0.1111111111111111,
              "#46039f"
             ],
             [
              0.2222222222222222,
              "#7201a8"
             ],
             [
              0.3333333333333333,
              "#9c179e"
             ],
             [
              0.4444444444444444,
              "#bd3786"
             ],
             [
              0.5555555555555556,
              "#d8576b"
             ],
             [
              0.6666666666666666,
              "#ed7953"
             ],
             [
              0.7777777777777778,
              "#fb9f3a"
             ],
             [
              0.8888888888888888,
              "#fdca26"
             ],
             [
              1,
              "#f0f921"
             ]
            ],
            "type": "contour"
           }
          ],
          "contourcarpet": [
           {
            "colorbar": {
             "outlinewidth": 0,
             "ticks": ""
            },
            "type": "contourcarpet"
           }
          ],
          "heatmap": [
           {
            "colorbar": {
             "outlinewidth": 0,
             "ticks": ""
            },
            "colorscale": [
             [
              0,
              "#0d0887"
             ],
             [
              0.1111111111111111,
              "#46039f"
             ],
             [
              0.2222222222222222,
              "#7201a8"
             ],
             [
              0.3333333333333333,
              "#9c179e"
             ],
             [
              0.4444444444444444,
              "#bd3786"
             ],
             [
              0.5555555555555556,
              "#d8576b"
             ],
             [
              0.6666666666666666,
              "#ed7953"
             ],
             [
              0.7777777777777778,
              "#fb9f3a"
             ],
             [
              0.8888888888888888,
              "#fdca26"
             ],
             [
              1,
              "#f0f921"
             ]
            ],
            "type": "heatmap"
           }
          ],
          "heatmapgl": [
           {
            "colorbar": {
             "outlinewidth": 0,
             "ticks": ""
            },
            "colorscale": [
             [
              0,
              "#0d0887"
             ],
             [
              0.1111111111111111,
              "#46039f"
             ],
             [
              0.2222222222222222,
              "#7201a8"
             ],
             [
              0.3333333333333333,
              "#9c179e"
             ],
             [
              0.4444444444444444,
              "#bd3786"
             ],
             [
              0.5555555555555556,
              "#d8576b"
             ],
             [
              0.6666666666666666,
              "#ed7953"
             ],
             [
              0.7777777777777778,
              "#fb9f3a"
             ],
             [
              0.8888888888888888,
              "#fdca26"
             ],
             [
              1,
              "#f0f921"
             ]
            ],
            "type": "heatmapgl"
           }
          ],
          "histogram": [
           {
            "marker": {
             "pattern": {
              "fillmode": "overlay",
              "size": 10,
              "solidity": 0.2
             }
            },
            "type": "histogram"
           }
          ],
          "histogram2d": [
           {
            "colorbar": {
             "outlinewidth": 0,
             "ticks": ""
            },
            "colorscale": [
             [
              0,
              "#0d0887"
             ],
             [
              0.1111111111111111,
              "#46039f"
             ],
             [
              0.2222222222222222,
              "#7201a8"
             ],
             [
              0.3333333333333333,
              "#9c179e"
             ],
             [
              0.4444444444444444,
              "#bd3786"
             ],
             [
              0.5555555555555556,
              "#d8576b"
             ],
             [
              0.6666666666666666,
              "#ed7953"
             ],
             [
              0.7777777777777778,
              "#fb9f3a"
             ],
             [
              0.8888888888888888,
              "#fdca26"
             ],
             [
              1,
              "#f0f921"
             ]
            ],
            "type": "histogram2d"
           }
          ],
          "histogram2dcontour": [
           {
            "colorbar": {
             "outlinewidth": 0,
             "ticks": ""
            },
            "colorscale": [
             [
              0,
              "#0d0887"
             ],
             [
              0.1111111111111111,
              "#46039f"
             ],
             [
              0.2222222222222222,
              "#7201a8"
             ],
             [
              0.3333333333333333,
              "#9c179e"
             ],
             [
              0.4444444444444444,
              "#bd3786"
             ],
             [
              0.5555555555555556,
              "#d8576b"
             ],
             [
              0.6666666666666666,
              "#ed7953"
             ],
             [
              0.7777777777777778,
              "#fb9f3a"
             ],
             [
              0.8888888888888888,
              "#fdca26"
             ],
             [
              1,
              "#f0f921"
             ]
            ],
            "type": "histogram2dcontour"
           }
          ],
          "mesh3d": [
           {
            "colorbar": {
             "outlinewidth": 0,
             "ticks": ""
            },
            "type": "mesh3d"
           }
          ],
          "parcoords": [
           {
            "line": {
             "colorbar": {
              "outlinewidth": 0,
              "ticks": ""
             }
            },
            "type": "parcoords"
           }
          ],
          "pie": [
           {
            "automargin": true,
            "type": "pie"
           }
          ],
          "scatter": [
           {
            "fillpattern": {
             "fillmode": "overlay",
             "size": 10,
             "solidity": 0.2
            },
            "type": "scatter"
           }
          ],
          "scatter3d": [
           {
            "line": {
             "colorbar": {
              "outlinewidth": 0,
              "ticks": ""
             }
            },
            "marker": {
             "colorbar": {
              "outlinewidth": 0,
              "ticks": ""
             }
            },
            "type": "scatter3d"
           }
          ],
          "scattercarpet": [
           {
            "marker": {
             "colorbar": {
              "outlinewidth": 0,
              "ticks": ""
             }
            },
            "type": "scattercarpet"
           }
          ],
          "scattergeo": [
           {
            "marker": {
             "colorbar": {
              "outlinewidth": 0,
              "ticks": ""
             }
            },
            "type": "scattergeo"
           }
          ],
          "scattergl": [
           {
            "marker": {
             "colorbar": {
              "outlinewidth": 0,
              "ticks": ""
             }
            },
            "type": "scattergl"
           }
          ],
          "scattermapbox": [
           {
            "marker": {
             "colorbar": {
              "outlinewidth": 0,
              "ticks": ""
             }
            },
            "type": "scattermapbox"
           }
          ],
          "scatterpolar": [
           {
            "marker": {
             "colorbar": {
              "outlinewidth": 0,
              "ticks": ""
             }
            },
            "type": "scatterpolar"
           }
          ],
          "scatterpolargl": [
           {
            "marker": {
             "colorbar": {
              "outlinewidth": 0,
              "ticks": ""
             }
            },
            "type": "scatterpolargl"
           }
          ],
          "scatterternary": [
           {
            "marker": {
             "colorbar": {
              "outlinewidth": 0,
              "ticks": ""
             }
            },
            "type": "scatterternary"
           }
          ],
          "surface": [
           {
            "colorbar": {
             "outlinewidth": 0,
             "ticks": ""
            },
            "colorscale": [
             [
              0,
              "#0d0887"
             ],
             [
              0.1111111111111111,
              "#46039f"
             ],
             [
              0.2222222222222222,
              "#7201a8"
             ],
             [
              0.3333333333333333,
              "#9c179e"
             ],
             [
              0.4444444444444444,
              "#bd3786"
             ],
             [
              0.5555555555555556,
              "#d8576b"
             ],
             [
              0.6666666666666666,
              "#ed7953"
             ],
             [
              0.7777777777777778,
              "#fb9f3a"
             ],
             [
              0.8888888888888888,
              "#fdca26"
             ],
             [
              1,
              "#f0f921"
             ]
            ],
            "type": "surface"
           }
          ],
          "table": [
           {
            "cells": {
             "fill": {
              "color": "#EBF0F8"
             },
             "line": {
              "color": "white"
             }
            },
            "header": {
             "fill": {
              "color": "#C8D4E3"
             },
             "line": {
              "color": "white"
             }
            },
            "type": "table"
           }
          ]
         },
         "layout": {
          "annotationdefaults": {
           "arrowcolor": "#2a3f5f",
           "arrowhead": 0,
           "arrowwidth": 1
          },
          "autotypenumbers": "strict",
          "coloraxis": {
           "colorbar": {
            "outlinewidth": 0,
            "ticks": ""
           }
          },
          "colorscale": {
           "diverging": [
            [
             0,
             "#8e0152"
            ],
            [
             0.1,
             "#c51b7d"
            ],
            [
             0.2,
             "#de77ae"
            ],
            [
             0.3,
             "#f1b6da"
            ],
            [
             0.4,
             "#fde0ef"
            ],
            [
             0.5,
             "#f7f7f7"
            ],
            [
             0.6,
             "#e6f5d0"
            ],
            [
             0.7,
             "#b8e186"
            ],
            [
             0.8,
             "#7fbc41"
            ],
            [
             0.9,
             "#4d9221"
            ],
            [
             1,
             "#276419"
            ]
           ],
           "sequential": [
            [
             0,
             "#0d0887"
            ],
            [
             0.1111111111111111,
             "#46039f"
            ],
            [
             0.2222222222222222,
             "#7201a8"
            ],
            [
             0.3333333333333333,
             "#9c179e"
            ],
            [
             0.4444444444444444,
             "#bd3786"
            ],
            [
             0.5555555555555556,
             "#d8576b"
            ],
            [
             0.6666666666666666,
             "#ed7953"
            ],
            [
             0.7777777777777778,
             "#fb9f3a"
            ],
            [
             0.8888888888888888,
             "#fdca26"
            ],
            [
             1,
             "#f0f921"
            ]
           ],
           "sequentialminus": [
            [
             0,
             "#0d0887"
            ],
            [
             0.1111111111111111,
             "#46039f"
            ],
            [
             0.2222222222222222,
             "#7201a8"
            ],
            [
             0.3333333333333333,
             "#9c179e"
            ],
            [
             0.4444444444444444,
             "#bd3786"
            ],
            [
             0.5555555555555556,
             "#d8576b"
            ],
            [
             0.6666666666666666,
             "#ed7953"
            ],
            [
             0.7777777777777778,
             "#fb9f3a"
            ],
            [
             0.8888888888888888,
             "#fdca26"
            ],
            [
             1,
             "#f0f921"
            ]
           ]
          },
          "colorway": [
           "#636efa",
           "#EF553B",
           "#00cc96",
           "#ab63fa",
           "#FFA15A",
           "#19d3f3",
           "#FF6692",
           "#B6E880",
           "#FF97FF",
           "#FECB52"
          ],
          "font": {
           "color": "#2a3f5f"
          },
          "geo": {
           "bgcolor": "white",
           "lakecolor": "white",
           "landcolor": "#E5ECF6",
           "showlakes": true,
           "showland": true,
           "subunitcolor": "white"
          },
          "hoverlabel": {
           "align": "left"
          },
          "hovermode": "closest",
          "mapbox": {
           "style": "light"
          },
          "paper_bgcolor": "white",
          "plot_bgcolor": "#E5ECF6",
          "polar": {
           "angularaxis": {
            "gridcolor": "white",
            "linecolor": "white",
            "ticks": ""
           },
           "bgcolor": "#E5ECF6",
           "radialaxis": {
            "gridcolor": "white",
            "linecolor": "white",
            "ticks": ""
           }
          },
          "scene": {
           "xaxis": {
            "backgroundcolor": "#E5ECF6",
            "gridcolor": "white",
            "gridwidth": 2,
            "linecolor": "white",
            "showbackground": true,
            "ticks": "",
            "zerolinecolor": "white"
           },
           "yaxis": {
            "backgroundcolor": "#E5ECF6",
            "gridcolor": "white",
            "gridwidth": 2,
            "linecolor": "white",
            "showbackground": true,
            "ticks": "",
            "zerolinecolor": "white"
           },
           "zaxis": {
            "backgroundcolor": "#E5ECF6",
            "gridcolor": "white",
            "gridwidth": 2,
            "linecolor": "white",
            "showbackground": true,
            "ticks": "",
            "zerolinecolor": "white"
           }
          },
          "shapedefaults": {
           "line": {
            "color": "#2a3f5f"
           }
          },
          "ternary": {
           "aaxis": {
            "gridcolor": "white",
            "linecolor": "white",
            "ticks": ""
           },
           "baxis": {
            "gridcolor": "white",
            "linecolor": "white",
            "ticks": ""
           },
           "bgcolor": "#E5ECF6",
           "caxis": {
            "gridcolor": "white",
            "linecolor": "white",
            "ticks": ""
           }
          },
          "title": {
           "x": 0.05
          },
          "xaxis": {
           "automargin": true,
           "gridcolor": "white",
           "linecolor": "white",
           "ticks": "",
           "title": {
            "standoff": 15
           },
           "zerolinecolor": "white",
           "zerolinewidth": 2
          },
          "yaxis": {
           "automargin": true,
           "gridcolor": "white",
           "linecolor": "white",
           "ticks": "",
           "title": {
            "standoff": 15
           },
           "zerolinecolor": "white",
           "zerolinewidth": 2
          }
         }
        },
        "title": {
         "text": "Répartition de la production électrique dans la journée - 8.2 - Coût de la journée : 989 k€"
        },
        "xaxis": {
         "domain": [
          0.1,
          1
         ]
        },
        "yaxis": {
         "range": [
          -6137.999999999918,
          44000
         ],
         "title": {
          "text": "MW"
         }
        },
        "yaxis2": {
         "anchor": "free",
         "overlaying": "y",
         "position": 1,
         "range": [
          1,
          2.5
         ],
         "side": "right",
         "title": {
          "text": "€/MWh"
         }
        },
        "yaxis3": {
         "anchor": "free",
         "overlaying": "y",
         "position": 0.05,
         "range": [
          -5,
          10
         ],
         "side": "left",
         "title": {
          "text": "Réservoir (m)"
         }
        }
       }
      }
     },
     "metadata": {},
     "output_type": "display_data"
    }
   ],
   "source": [
    "df = df_results61(dict_N,dict_P,dict_Nstart,dict_Thermique,dict_H,dict_Hstart,dict_Hydro,dict_S,debit_S,consommation)\n",
    "fig = Results_viz52(df,dict_Thermique,dict_Hydro)\n",
    "A = \"8.2\"\n",
    "fig.update_layout(\n",
    "    title = f\"Répartition de la production électrique dans la journée - {A} - Coût de la journée : {int(np.around(model.ObjVal/1000,0))} k€\"\n",
    ")\n",
    "fig.show()\n",
    "fig.write_html(f\"HTML/Répartition de la production électrique dans la journée - {A}.html\")\n",
    "df.to_csv(f\"CSV/Résultats - {A}.csv\",index=False)"
   ]
  },
  {
   "cell_type": "markdown",
   "metadata": {},
   "source": [
    "### 8.3 Rampe décroissante et d'arrêt\n",
    "\n",
    "$$\n",
    "(8.3), P_{t}^{(X,k)}-P_{t-1}^{(X,k)}\\geq - R^{(X)}_{descente} + (N_t^{(X,k)}-N_{t-1}^{(X,k)}-N_{start,t}^{(X,k)})(R_{stop}^{(X)}-R_{descendante}^{(X)})\n",
    "$$"
   ]
  },
  {
   "cell_type": "code",
   "execution_count": 39,
   "metadata": {},
   "outputs": [
    {
     "name": "stdout",
     "output_type": "stream",
     "text": [
      "Gurobi Optimizer version 9.5.2 build v9.5.2rc0 (win64)\n",
      "Thread count: 4 physical cores, 8 logical processors, using up to 8 threads\n",
      "Optimize a model with 3433 rows, 2232 columns and 11688 nonzeros\n",
      "Model fingerprint: 0xea5c23c3\n",
      "Variable types: 672 continuous, 1560 integer (1560 binary)\n",
      "Coefficient statistics:\n",
      "  Matrix range     [3e-04, 6e+04]\n",
      "  Objective range  [1e+00, 2e+03]\n",
      "  Bounds range     [1e+00, 1e+00]\n",
      "  RHS range        [1e+00, 4e+04]\n",
      "Presolve removed 24 rows and 0 columns\n",
      "Presolve time: 0.02s\n",
      "Presolved: 3409 rows, 2232 columns, 11520 nonzeros\n",
      "Variable types: 672 continuous, 1560 integer (1560 binary)\n",
      "Found heuristic solution: objective 1167785.0000\n",
      "\n",
      "Root relaxation: objective 9.865550e+05, 2250 iterations, 0.03 seconds (0.04 work units)\n",
      "\n",
      "    Nodes    |    Current Node    |     Objective Bounds      |     Work\n",
      " Expl Unexpl |  Obj  Depth IntInf | Incumbent    BestBd   Gap | It/Node Time\n",
      "\n",
      "     0     0 986555.035    0  133 1167785.00 986555.035  15.5%     -    0s\n",
      "H    0     0                    1071340.0000 986555.035  7.91%     -    0s\n",
      "H    0     0                    999750.00000 986555.035  1.32%     -    0s\n",
      "H    0     0                    995920.00000 986555.035  0.94%     -    0s\n",
      "     0     0 987363.531    0  147 995920.000 987363.531  0.86%     -    0s\n",
      "     0     0 987449.247    0  147 995920.000 987449.247  0.85%     -    0s\n",
      "     0     0 988311.562    0  157 995920.000 988311.562  0.76%     -    0s\n",
      "     0     0 988312.325    0  151 995920.000 988312.325  0.76%     -    0s\n",
      "     0     0 988312.325    0  158 995920.000 988312.325  0.76%     -    0s\n",
      "H    0     0                    995655.00000 988312.325  0.74%     -    0s\n",
      "     0     0 988938.160    0  151 995655.000 988938.160  0.67%     -    0s\n",
      "     0     0 988946.350    0  182 995655.000 988946.350  0.67%     -    0s\n",
      "H    0     0                    992932.00000 988946.350  0.40%     -    0s\n",
      "     0     0 988946.350    0  145 992932.000 988946.350  0.40%     -    0s\n",
      "     0     0 988955.197    0  176 992932.000 988955.197  0.40%     -    0s\n",
      "     0     0 988955.197    0  175 992932.000 988955.197  0.40%     -    0s\n",
      "     0     0 988967.936    0  189 992932.000 988967.936  0.40%     -    0s\n",
      "     0     0 988967.936    0  170 992932.000 988967.936  0.40%     -    0s\n",
      "     0     0 988967.936    0  177 992932.000 988967.936  0.40%     -    0s\n",
      "     0     0 988967.936    0  168 992932.000 988967.936  0.40%     -    0s\n",
      "     0     0 988967.936    0  142 992932.000 988967.936  0.40%     -    0s\n",
      "     0     0 988967.936    0  189 992932.000 988967.936  0.40%     -    0s\n",
      "     0     0 988967.936    0  185 992932.000 988967.936  0.40%     -    0s\n",
      "     0     0 988967.936    0  167 992932.000 988967.936  0.40%     -    0s\n",
      "H    0     0                    992658.00000 988967.936  0.37%     -    0s\n",
      "     0     2 988967.936    0  161 992658.000 988967.936  0.37%     -    0s\n",
      "H  184   127                    992022.00000 988970.270  0.31%  48.8    1s\n",
      "H  185   127                    991545.00000 988970.270  0.26%  48.6    1s\n",
      "H  251   169                    991412.00000 988971.971  0.25%  38.9    1s\n",
      "H  354   241                    991050.00000 988971.971  0.21%  31.1    1s\n",
      "*  972   542              70    991030.00000 989110.313  0.19%  24.0    2s\n",
      "* 1016   516              73    990966.00000 989110.313  0.19%  23.5    2s\n",
      "H 1053   498                    990961.00000 989169.080  0.18%  23.0    3s\n",
      "H 1060   477                    990800.00000 989238.755  0.16%  22.9    4s\n",
      "H 1061   453                    990635.00000 989238.755  0.14%  22.9    4s\n",
      "H 1061   430                    990580.00000 989238.755  0.14%  22.9    4s\n",
      "  1074   439 990580.000   61  215 990580.000 989300.864  0.13%  22.6    5s\n",
      "H 1203   471                    990470.00000 989544.425  0.09%  28.5    6s\n",
      "H 1248   460                    990465.00000 989544.425  0.09%  28.4    6s\n",
      "H 2286   632                    990460.00000 989983.089  0.05%  22.6    7s\n",
      "  7047  3051     cutoff   41      990460.000 990152.919  0.03%  17.7   10s\n",
      "* 8670  3329              64    990435.00000 990166.449  0.03%  17.1   10s\n",
      "* 9522  3487              68    990425.00000 990174.485  0.03%  17.0   11s\n",
      "* 9892  3167              71    990395.00000 990176.610  0.02%  17.0   11s\n",
      "*11414  3140              63    990365.00000 990189.084  0.02%  16.8   11s\n",
      " 14907  4011 990323.112   55  178 990365.000 990208.758  0.02%  16.4   15s\n",
      " 19762  4434 990283.184   62   80 990365.000 990208.758  0.02%  15.5   20s\n",
      " 29494  3261 990317.263   57   76 990365.000 990260.964  0.01%  14.5   25s\n",
      "\n",
      "Cutting planes:\n",
      "  Gomory: 15\n",
      "  Implied bound: 34\n",
      "  MIR: 165\n",
      "  Flow cover: 40\n",
      "  Zero half: 2\n",
      "  Relax-and-lift: 2\n",
      "\n",
      "Explored 30535 nodes (442941 simplex iterations) in 25.39 seconds (21.43 work units)\n",
      "Thread count was 8 (of 8 available processors)\n",
      "\n",
      "Solution count 10: 990365 990395 990425 ... 990800\n",
      "\n",
      "Optimal solution found (tolerance 1.00e-04)\n",
      "Best objective 9.903650000000e+05, best bound 9.902668758685e+05, gap 0.0099%\n"
     ]
    }
   ],
   "source": [
    "from utils import contraintes_rampes\n",
    "\n",
    "heures_maintenance = np.array([0,1,2,3,4,5,6,18,19,20,21,22,23])\n",
    "consommation = np.array([15,15,15,15,15,15,30,30,30,25,25,25,25,25,25,40,40,40,27,27,27,27,27,27])*1000\n",
    "heures = np.arange(24)\n",
    "\n",
    "model = gp.Model(\"8.3\")\n",
    "\n",
    "dict_N, dict_P, dict_Nstart = variables_decision_desagregation_thermique(model,dict_Thermique)\n",
    "dict_H, dict_Hstart = variables_decision_hydraulique_palier(model,dict_Hydro)\n",
    "dict_S = {t : model.addVar(lb=0,vtype=gp.GRB.CONTINUOUS,name=f\"pompage à l'instant {t}\") for t in range(24)}\n",
    "dict_N_s = {t : model.addVar(lb=0,vtype=gp.GRB.BINARY,name=f\"fonctionnement pompe à l'instant {t}\") for t in range(24)}\n",
    "debit_S = 1/3000 # débit de pompage par MWh ou par MW pendant une heure\n",
    "M = sum([dict_Thermique[X].N * dict_Thermique[X].Pmax for X in dict_Thermique]) + sum([dict_Hydro[Y].P[dict_Hydro[Y].palier_max()] for Y in dict_Hydro])\n",
    "\n",
    "contraintes_reservoir_palier(model,dict_H,dict_Hydro,dict_S,debit_S)\n",
    "contraintes_hydraulique_palier(model,dict_H,dict_Hydro,dict_Hstart)\n",
    "contraintes_hydraulique_pompage(model,dict_H,dict_Hydro,dict_N_s,dict_S,M)\n",
    "contraintes_thermique_desagregation(model,dict_P,dict_N,dict_Nstart,dict_Thermique)\n",
    "contraintes_equilibre_desagregation(model,dict_P,dict_Thermique,dict_H,dict_Hydro,dict_S,consommation)\n",
    "contraintes_reserve_desagregation(model,dict_N,dict_Thermique,dict_Hydro,consommation)\n",
    "contraintes_rampes(model,dict_P,dict_N,dict_Thermique)\n",
    "\n",
    "\n",
    "model.setObjective(\n",
    "    gp.quicksum([dict_N[X,k,t] * (dict_Thermique[X].Cbase - dict_Thermique[X].Pmin*dict_Thermique[X].Cmwh) for X in dict_Thermique for k in range(dict_Thermique[X].N) for t in range(24)]) + \n",
    "    gp.quicksum([dict_P[X,k,t] * dict_Thermique[X].Cmwh for X in dict_Thermique for k in range(dict_Thermique[X].N) for t in range(24)])+ \n",
    "    gp.quicksum([dict_Nstart[X,k,t]*dict_Thermique[X].Cstart for X in dict_Thermique for k in range(dict_Thermique[X].N) for t in range(24)])+\n",
    "    gp.quicksum([dict_H[Y,n,t] * dict_Hydro[Y].Cheure[n] for Y in dict_Hydro for t in range(24) for n in dict_Hydro[Y].Palier])+\n",
    "    gp.quicksum([dict_Hstart[Y,t] * dict_Hydro[Y].Cstart for Y in dict_Hydro for t in range(24)]),\n",
    "    gp.GRB.MINIMIZE\n",
    "    )\n",
    "\n",
    "model.optimize()"
   ]
  },
  {
   "cell_type": "code",
   "execution_count": 40,
   "metadata": {},
   "outputs": [
    {
     "data": {
      "application/vnd.plotly.v1+json": {
       "config": {
        "plotlyServerURL": "https://plot.ly"
       },
       "data": [
        {
         "name": "Thermique A",
         "stackgroup": "one",
         "type": "scatter",
         "x": [
          0,
          1,
          2,
          3,
          4,
          5,
          6,
          7,
          8,
          9,
          10,
          11,
          12,
          13,
          14,
          15,
          16,
          17,
          18,
          19,
          20,
          21,
          22,
          23
         ],
         "y": [
          10200,
          10200,
          10200,
          10200,
          10200,
          10200,
          15150.000000000022,
          15249.999999999796,
          15150.000000000022,
          10350.000000000022,
          10250.00000000002,
          10250.000000000007,
          10250.000000000022,
          10250.000000000025,
          10250,
          17650,
          15900,
          15700,
          10899.999999999982,
          10400.000000000004,
          10400.000000000004,
          10400.000000000004,
          10400.000000000004,
          10400.000000000004
         ]
        },
        {
         "name": "Thermique B",
         "stackgroup": "one",
         "type": "scatter",
         "x": [
          0,
          1,
          2,
          3,
          4,
          5,
          6,
          7,
          8,
          9,
          10,
          11,
          12,
          13,
          14,
          15,
          16,
          17,
          18,
          19,
          20,
          21,
          22,
          23
         ],
         "y": [
          13750,
          12250,
          12250,
          12250,
          12250,
          12250,
          12250,
          12250,
          12250,
          12250,
          12250.000000000005,
          12250.000000000018,
          12250.000000000002,
          12250,
          12250,
          13750,
          14000,
          14000,
          13800.000000000016,
          13999.999999999995,
          13999.999999999995,
          13999.999999999995,
          13999.999999999995,
          13999.999999999995
         ]
        },
        {
         "name": "Thermique C",
         "stackgroup": "one",
         "type": "scatter",
         "x": [
          0,
          1,
          2,
          3,
          4,
          5,
          6,
          7,
          8,
          9,
          10,
          11,
          12,
          13,
          14,
          15,
          16,
          17,
          18,
          19,
          20,
          21,
          22,
          23
         ],
         "y": [
          0,
          0,
          0,
          0,
          0,
          0,
          0,
          0,
          0,
          0,
          0,
          0,
          0,
          0,
          0,
          6000,
          7500,
          7500,
          0,
          0,
          0,
          0,
          0,
          0
         ]
        },
        {
         "name": "Hydraulique 9",
         "stackgroup": "one",
         "type": "scatter",
         "x": [
          0,
          1,
          2,
          3,
          4,
          5,
          6,
          7,
          8,
          9,
          10,
          11,
          12,
          13,
          14,
          15,
          16,
          17,
          18,
          19,
          20,
          21,
          22,
          23
         ],
         "y": [
          0,
          0,
          0,
          0,
          0,
          0,
          900,
          900,
          900,
          900,
          900,
          900,
          900,
          900,
          900,
          900,
          900,
          1100,
          900,
          900,
          900,
          900,
          900,
          900
         ]
        },
        {
         "name": "Hydraulique 14",
         "stackgroup": "one",
         "type": "scatter",
         "x": [
          0,
          1,
          2,
          3,
          4,
          5,
          6,
          7,
          8,
          9,
          10,
          11,
          12,
          13,
          14,
          15,
          16,
          17,
          18,
          19,
          20,
          21,
          22,
          23
         ],
         "y": [
          0,
          0,
          0,
          0,
          0,
          0,
          1700,
          1599.9999999999236,
          1700,
          1500,
          1600,
          1600,
          1600,
          1600,
          1600,
          1700,
          1700,
          1700,
          1400,
          1700,
          1700,
          1700,
          1700,
          1700
         ]
        },
        {
         "name": "Pompage",
         "stackgroup": "two",
         "type": "scatter",
         "x": [
          0,
          1,
          2,
          3,
          4,
          5,
          6,
          7,
          8,
          9,
          10,
          11,
          12,
          13,
          14,
          15,
          16,
          17,
          18,
          19,
          20,
          21,
          22,
          23
         ],
         "y": [
          -8950,
          -7450.000000000001,
          -7450,
          -7450,
          -7450,
          -7450,
          0,
          0,
          0,
          0,
          0,
          0,
          0,
          0,
          0,
          0,
          0,
          0,
          0,
          0,
          0,
          0,
          0,
          0
         ]
        },
        {
         "line": {
          "color": "red",
          "dash": "dash"
         },
         "name": "Production total",
         "type": "scatter",
         "x": [
          0,
          1,
          2,
          3,
          4,
          5,
          6,
          7,
          8,
          9,
          10,
          11,
          12,
          13,
          14,
          15,
          16,
          17,
          18,
          19,
          20,
          21,
          22,
          23
         ],
         "y": [
          15000,
          15000,
          15000,
          15000,
          15000,
          15000,
          30000.000000000022,
          29999.99999999972,
          30000.000000000022,
          25000.000000000022,
          25000.000000000025,
          25000.000000000025,
          25000.000000000022,
          25000.000000000025,
          25000,
          40000,
          40000,
          40000,
          27000,
          27000,
          27000,
          27000,
          27000,
          27000
         ]
        },
        {
         "line": {
          "color": "black"
         },
         "name": "Coût MWh",
         "type": "scatter",
         "x": [
          0,
          1,
          2,
          3,
          4,
          5,
          6,
          7,
          8,
          9,
          10,
          11,
          12,
          13,
          14,
          15,
          16,
          17,
          18,
          19,
          20,
          21,
          22,
          23
         ],
         "y": [
          2.5116666666666667,
          2.316666666666667,
          2.316666666666667,
          2.316666666666667,
          2.316666666666667,
          2.316666666666667,
          1.5883333333333336,
          1.5041666666666675,
          1.4983333333333337,
          1.4122000000000006,
          1.4050000000000007,
          1.4050000000000002,
          1.4050000000000005,
          1.4050000000000007,
          1.405,
          1.696875,
          1.63,
          1.60825,
          1.4585185185185179,
          1.4333333333333333,
          1.4333333333333333,
          1.4333333333333333,
          1.4333333333333333,
          1.4333333333333333
         ],
         "yaxis": "y2"
        },
        {
         "line": {
          "color": "grey"
         },
         "name": "Niveau réservoir",
         "type": "scatter",
         "x": [
          0,
          1,
          2,
          3,
          4,
          5,
          6,
          7,
          8,
          9,
          10,
          11,
          12,
          13,
          14,
          15,
          16,
          17,
          18,
          19,
          20,
          21,
          22,
          23
         ],
         "y": [
          2.9833333333333334,
          5.466666666666667,
          7.95,
          10.433333333333334,
          12.916666666666668,
          15.400000000000002,
          14.530000000000001,
          13.690000000000033,
          12.820000000000032,
          12.010000000000032,
          11.170000000000032,
          10.330000000000032,
          9.490000000000032,
          8.650000000000032,
          7.8100000000000325,
          6.940000000000032,
          6.070000000000032,
          5.130000000000032,
          4.350000000000032,
          3.4800000000000315,
          2.6100000000000314,
          1.7400000000000313,
          0.8700000000000312,
          3.108624468950438e-14
         ],
         "yaxis": "y3"
        }
       ],
       "layout": {
        "hovermode": "x",
        "legend": {
         "orientation": "h",
         "x": 1,
         "xanchor": "right",
         "y": 1.02,
         "yanchor": "bottom"
        },
        "template": {
         "data": {
          "bar": [
           {
            "error_x": {
             "color": "#2a3f5f"
            },
            "error_y": {
             "color": "#2a3f5f"
            },
            "marker": {
             "line": {
              "color": "#E5ECF6",
              "width": 0.5
             },
             "pattern": {
              "fillmode": "overlay",
              "size": 10,
              "solidity": 0.2
             }
            },
            "type": "bar"
           }
          ],
          "barpolar": [
           {
            "marker": {
             "line": {
              "color": "#E5ECF6",
              "width": 0.5
             },
             "pattern": {
              "fillmode": "overlay",
              "size": 10,
              "solidity": 0.2
             }
            },
            "type": "barpolar"
           }
          ],
          "carpet": [
           {
            "aaxis": {
             "endlinecolor": "#2a3f5f",
             "gridcolor": "white",
             "linecolor": "white",
             "minorgridcolor": "white",
             "startlinecolor": "#2a3f5f"
            },
            "baxis": {
             "endlinecolor": "#2a3f5f",
             "gridcolor": "white",
             "linecolor": "white",
             "minorgridcolor": "white",
             "startlinecolor": "#2a3f5f"
            },
            "type": "carpet"
           }
          ],
          "choropleth": [
           {
            "colorbar": {
             "outlinewidth": 0,
             "ticks": ""
            },
            "type": "choropleth"
           }
          ],
          "contour": [
           {
            "colorbar": {
             "outlinewidth": 0,
             "ticks": ""
            },
            "colorscale": [
             [
              0,
              "#0d0887"
             ],
             [
              0.1111111111111111,
              "#46039f"
             ],
             [
              0.2222222222222222,
              "#7201a8"
             ],
             [
              0.3333333333333333,
              "#9c179e"
             ],
             [
              0.4444444444444444,
              "#bd3786"
             ],
             [
              0.5555555555555556,
              "#d8576b"
             ],
             [
              0.6666666666666666,
              "#ed7953"
             ],
             [
              0.7777777777777778,
              "#fb9f3a"
             ],
             [
              0.8888888888888888,
              "#fdca26"
             ],
             [
              1,
              "#f0f921"
             ]
            ],
            "type": "contour"
           }
          ],
          "contourcarpet": [
           {
            "colorbar": {
             "outlinewidth": 0,
             "ticks": ""
            },
            "type": "contourcarpet"
           }
          ],
          "heatmap": [
           {
            "colorbar": {
             "outlinewidth": 0,
             "ticks": ""
            },
            "colorscale": [
             [
              0,
              "#0d0887"
             ],
             [
              0.1111111111111111,
              "#46039f"
             ],
             [
              0.2222222222222222,
              "#7201a8"
             ],
             [
              0.3333333333333333,
              "#9c179e"
             ],
             [
              0.4444444444444444,
              "#bd3786"
             ],
             [
              0.5555555555555556,
              "#d8576b"
             ],
             [
              0.6666666666666666,
              "#ed7953"
             ],
             [
              0.7777777777777778,
              "#fb9f3a"
             ],
             [
              0.8888888888888888,
              "#fdca26"
             ],
             [
              1,
              "#f0f921"
             ]
            ],
            "type": "heatmap"
           }
          ],
          "heatmapgl": [
           {
            "colorbar": {
             "outlinewidth": 0,
             "ticks": ""
            },
            "colorscale": [
             [
              0,
              "#0d0887"
             ],
             [
              0.1111111111111111,
              "#46039f"
             ],
             [
              0.2222222222222222,
              "#7201a8"
             ],
             [
              0.3333333333333333,
              "#9c179e"
             ],
             [
              0.4444444444444444,
              "#bd3786"
             ],
             [
              0.5555555555555556,
              "#d8576b"
             ],
             [
              0.6666666666666666,
              "#ed7953"
             ],
             [
              0.7777777777777778,
              "#fb9f3a"
             ],
             [
              0.8888888888888888,
              "#fdca26"
             ],
             [
              1,
              "#f0f921"
             ]
            ],
            "type": "heatmapgl"
           }
          ],
          "histogram": [
           {
            "marker": {
             "pattern": {
              "fillmode": "overlay",
              "size": 10,
              "solidity": 0.2
             }
            },
            "type": "histogram"
           }
          ],
          "histogram2d": [
           {
            "colorbar": {
             "outlinewidth": 0,
             "ticks": ""
            },
            "colorscale": [
             [
              0,
              "#0d0887"
             ],
             [
              0.1111111111111111,
              "#46039f"
             ],
             [
              0.2222222222222222,
              "#7201a8"
             ],
             [
              0.3333333333333333,
              "#9c179e"
             ],
             [
              0.4444444444444444,
              "#bd3786"
             ],
             [
              0.5555555555555556,
              "#d8576b"
             ],
             [
              0.6666666666666666,
              "#ed7953"
             ],
             [
              0.7777777777777778,
              "#fb9f3a"
             ],
             [
              0.8888888888888888,
              "#fdca26"
             ],
             [
              1,
              "#f0f921"
             ]
            ],
            "type": "histogram2d"
           }
          ],
          "histogram2dcontour": [
           {
            "colorbar": {
             "outlinewidth": 0,
             "ticks": ""
            },
            "colorscale": [
             [
              0,
              "#0d0887"
             ],
             [
              0.1111111111111111,
              "#46039f"
             ],
             [
              0.2222222222222222,
              "#7201a8"
             ],
             [
              0.3333333333333333,
              "#9c179e"
             ],
             [
              0.4444444444444444,
              "#bd3786"
             ],
             [
              0.5555555555555556,
              "#d8576b"
             ],
             [
              0.6666666666666666,
              "#ed7953"
             ],
             [
              0.7777777777777778,
              "#fb9f3a"
             ],
             [
              0.8888888888888888,
              "#fdca26"
             ],
             [
              1,
              "#f0f921"
             ]
            ],
            "type": "histogram2dcontour"
           }
          ],
          "mesh3d": [
           {
            "colorbar": {
             "outlinewidth": 0,
             "ticks": ""
            },
            "type": "mesh3d"
           }
          ],
          "parcoords": [
           {
            "line": {
             "colorbar": {
              "outlinewidth": 0,
              "ticks": ""
             }
            },
            "type": "parcoords"
           }
          ],
          "pie": [
           {
            "automargin": true,
            "type": "pie"
           }
          ],
          "scatter": [
           {
            "fillpattern": {
             "fillmode": "overlay",
             "size": 10,
             "solidity": 0.2
            },
            "type": "scatter"
           }
          ],
          "scatter3d": [
           {
            "line": {
             "colorbar": {
              "outlinewidth": 0,
              "ticks": ""
             }
            },
            "marker": {
             "colorbar": {
              "outlinewidth": 0,
              "ticks": ""
             }
            },
            "type": "scatter3d"
           }
          ],
          "scattercarpet": [
           {
            "marker": {
             "colorbar": {
              "outlinewidth": 0,
              "ticks": ""
             }
            },
            "type": "scattercarpet"
           }
          ],
          "scattergeo": [
           {
            "marker": {
             "colorbar": {
              "outlinewidth": 0,
              "ticks": ""
             }
            },
            "type": "scattergeo"
           }
          ],
          "scattergl": [
           {
            "marker": {
             "colorbar": {
              "outlinewidth": 0,
              "ticks": ""
             }
            },
            "type": "scattergl"
           }
          ],
          "scattermapbox": [
           {
            "marker": {
             "colorbar": {
              "outlinewidth": 0,
              "ticks": ""
             }
            },
            "type": "scattermapbox"
           }
          ],
          "scatterpolar": [
           {
            "marker": {
             "colorbar": {
              "outlinewidth": 0,
              "ticks": ""
             }
            },
            "type": "scatterpolar"
           }
          ],
          "scatterpolargl": [
           {
            "marker": {
             "colorbar": {
              "outlinewidth": 0,
              "ticks": ""
             }
            },
            "type": "scatterpolargl"
           }
          ],
          "scatterternary": [
           {
            "marker": {
             "colorbar": {
              "outlinewidth": 0,
              "ticks": ""
             }
            },
            "type": "scatterternary"
           }
          ],
          "surface": [
           {
            "colorbar": {
             "outlinewidth": 0,
             "ticks": ""
            },
            "colorscale": [
             [
              0,
              "#0d0887"
             ],
             [
              0.1111111111111111,
              "#46039f"
             ],
             [
              0.2222222222222222,
              "#7201a8"
             ],
             [
              0.3333333333333333,
              "#9c179e"
             ],
             [
              0.4444444444444444,
              "#bd3786"
             ],
             [
              0.5555555555555556,
              "#d8576b"
             ],
             [
              0.6666666666666666,
              "#ed7953"
             ],
             [
              0.7777777777777778,
              "#fb9f3a"
             ],
             [
              0.8888888888888888,
              "#fdca26"
             ],
             [
              1,
              "#f0f921"
             ]
            ],
            "type": "surface"
           }
          ],
          "table": [
           {
            "cells": {
             "fill": {
              "color": "#EBF0F8"
             },
             "line": {
              "color": "white"
             }
            },
            "header": {
             "fill": {
              "color": "#C8D4E3"
             },
             "line": {
              "color": "white"
             }
            },
            "type": "table"
           }
          ]
         },
         "layout": {
          "annotationdefaults": {
           "arrowcolor": "#2a3f5f",
           "arrowhead": 0,
           "arrowwidth": 1
          },
          "autotypenumbers": "strict",
          "coloraxis": {
           "colorbar": {
            "outlinewidth": 0,
            "ticks": ""
           }
          },
          "colorscale": {
           "diverging": [
            [
             0,
             "#8e0152"
            ],
            [
             0.1,
             "#c51b7d"
            ],
            [
             0.2,
             "#de77ae"
            ],
            [
             0.3,
             "#f1b6da"
            ],
            [
             0.4,
             "#fde0ef"
            ],
            [
             0.5,
             "#f7f7f7"
            ],
            [
             0.6,
             "#e6f5d0"
            ],
            [
             0.7,
             "#b8e186"
            ],
            [
             0.8,
             "#7fbc41"
            ],
            [
             0.9,
             "#4d9221"
            ],
            [
             1,
             "#276419"
            ]
           ],
           "sequential": [
            [
             0,
             "#0d0887"
            ],
            [
             0.1111111111111111,
             "#46039f"
            ],
            [
             0.2222222222222222,
             "#7201a8"
            ],
            [
             0.3333333333333333,
             "#9c179e"
            ],
            [
             0.4444444444444444,
             "#bd3786"
            ],
            [
             0.5555555555555556,
             "#d8576b"
            ],
            [
             0.6666666666666666,
             "#ed7953"
            ],
            [
             0.7777777777777778,
             "#fb9f3a"
            ],
            [
             0.8888888888888888,
             "#fdca26"
            ],
            [
             1,
             "#f0f921"
            ]
           ],
           "sequentialminus": [
            [
             0,
             "#0d0887"
            ],
            [
             0.1111111111111111,
             "#46039f"
            ],
            [
             0.2222222222222222,
             "#7201a8"
            ],
            [
             0.3333333333333333,
             "#9c179e"
            ],
            [
             0.4444444444444444,
             "#bd3786"
            ],
            [
             0.5555555555555556,
             "#d8576b"
            ],
            [
             0.6666666666666666,
             "#ed7953"
            ],
            [
             0.7777777777777778,
             "#fb9f3a"
            ],
            [
             0.8888888888888888,
             "#fdca26"
            ],
            [
             1,
             "#f0f921"
            ]
           ]
          },
          "colorway": [
           "#636efa",
           "#EF553B",
           "#00cc96",
           "#ab63fa",
           "#FFA15A",
           "#19d3f3",
           "#FF6692",
           "#B6E880",
           "#FF97FF",
           "#FECB52"
          ],
          "font": {
           "color": "#2a3f5f"
          },
          "geo": {
           "bgcolor": "white",
           "lakecolor": "white",
           "landcolor": "#E5ECF6",
           "showlakes": true,
           "showland": true,
           "subunitcolor": "white"
          },
          "hoverlabel": {
           "align": "left"
          },
          "hovermode": "closest",
          "mapbox": {
           "style": "light"
          },
          "paper_bgcolor": "white",
          "plot_bgcolor": "#E5ECF6",
          "polar": {
           "angularaxis": {
            "gridcolor": "white",
            "linecolor": "white",
            "ticks": ""
           },
           "bgcolor": "#E5ECF6",
           "radialaxis": {
            "gridcolor": "white",
            "linecolor": "white",
            "ticks": ""
           }
          },
          "scene": {
           "xaxis": {
            "backgroundcolor": "#E5ECF6",
            "gridcolor": "white",
            "gridwidth": 2,
            "linecolor": "white",
            "showbackground": true,
            "ticks": "",
            "zerolinecolor": "white"
           },
           "yaxis": {
            "backgroundcolor": "#E5ECF6",
            "gridcolor": "white",
            "gridwidth": 2,
            "linecolor": "white",
            "showbackground": true,
            "ticks": "",
            "zerolinecolor": "white"
           },
           "zaxis": {
            "backgroundcolor": "#E5ECF6",
            "gridcolor": "white",
            "gridwidth": 2,
            "linecolor": "white",
            "showbackground": true,
            "ticks": "",
            "zerolinecolor": "white"
           }
          },
          "shapedefaults": {
           "line": {
            "color": "#2a3f5f"
           }
          },
          "ternary": {
           "aaxis": {
            "gridcolor": "white",
            "linecolor": "white",
            "ticks": ""
           },
           "baxis": {
            "gridcolor": "white",
            "linecolor": "white",
            "ticks": ""
           },
           "bgcolor": "#E5ECF6",
           "caxis": {
            "gridcolor": "white",
            "linecolor": "white",
            "ticks": ""
           }
          },
          "title": {
           "x": 0.05
          },
          "xaxis": {
           "automargin": true,
           "gridcolor": "white",
           "linecolor": "white",
           "ticks": "",
           "title": {
            "standoff": 15
           },
           "zerolinecolor": "white",
           "zerolinewidth": 2
          },
          "yaxis": {
           "automargin": true,
           "gridcolor": "white",
           "linecolor": "white",
           "ticks": "",
           "title": {
            "standoff": 15
           },
           "zerolinecolor": "white",
           "zerolinewidth": 2
          }
         }
        },
        "title": {
         "text": "Répartition de la production électrique dans la journée - 8.3 - Coût de la journée : 990 k€"
        },
        "xaxis": {
         "domain": [
          0.1,
          1
         ]
        },
        "yaxis": {
         "range": [
          -9845,
          44000
         ],
         "title": {
          "text": "MW"
         }
        },
        "yaxis2": {
         "anchor": "free",
         "overlaying": "y",
         "position": 1,
         "range": [
          1,
          2.5
         ],
         "side": "right",
         "title": {
          "text": "€/MWh"
         }
        },
        "yaxis3": {
         "anchor": "free",
         "overlaying": "y",
         "position": 0.05,
         "range": [
          -5,
          10
         ],
         "side": "left",
         "title": {
          "text": "Réservoir (m)"
         }
        }
       }
      }
     },
     "metadata": {},
     "output_type": "display_data"
    }
   ],
   "source": [
    "df = df_results61(dict_N,dict_P,dict_Nstart,dict_Thermique,dict_H,dict_Hstart,dict_Hydro,dict_S,debit_S,consommation)\n",
    "fig = Results_viz52(df,dict_Thermique,dict_Hydro)\n",
    "A = \"8.3\"\n",
    "fig.update_layout(\n",
    "    title = f\"Répartition de la production électrique dans la journée - {A} - Coût de la journée : {int(np.around(model.ObjVal/1000,0))} k€\"\n",
    ")\n",
    "fig.show()\n",
    "fig.write_html(f\"HTML/Répartition de la production électrique dans la journée - {A}.html\")\n",
    "df.to_csv(f\"CSV/Résultats - {A}.csv\",index=False)"
   ]
  },
  {
   "cell_type": "markdown",
   "metadata": {},
   "source": [
    "\n",
    "![Alt text](table.png)\n",
    "<br>"
   ]
  },
  {
   "cell_type": "markdown",
   "metadata": {},
   "source": [
    "## 9 Prévention de l'usure\n",
    "\n",
    "### 9.1 Durée minimale d'activitée\n",
    "\n",
    "On a la table suivante :\n",
    "|$N_t$|$N_{t-1}$|$N_t-N_{t-1}$|$N_{start,t}$|$N_t-N_{t-1}-N_{start,t}$|Signification|\n",
    "|---|---|---|---|---|---|\n",
    "|1|1|0|0|0|La centrale fonctionne deux heures consécutives|\n",
    "|1|0|1|1|0|la centrale s'allume à l'instant $t$|\n",
    "|0|1|-1|0|-1|la centrale s'éteint à l'instant $t$|\n",
    "|0|0|0|0|0|La centrale est éteinte deux heures consécutives|\n",
    "$$\n",
    "\\forall t,\\forall t' \\in \\{1,\\dots,8\\}, \\forall k, N_{start,t}^{(X,k)}\\leq N_{t+t'}^{(X,k)} , \\text{La centrale fonctionne au moins 8 heures après le démarrage}\n",
    "$$"
   ]
  },
  {
   "cell_type": "code",
   "execution_count": 41,
   "metadata": {},
   "outputs": [
    {
     "name": "stdout",
     "output_type": "stream",
     "text": [
      "Gurobi Optimizer version 9.5.2 build v9.5.2rc0 (win64)\n",
      "Thread count: 4 physical cores, 8 logical processors, using up to 8 threads\n",
      "Optimize a model with 8401 rows, 2232 columns and 21624 nonzeros\n",
      "Model fingerprint: 0x71b2077e\n",
      "Variable types: 672 continuous, 1560 integer (1560 binary)\n",
      "Coefficient statistics:\n",
      "  Matrix range     [3e-04, 6e+04]\n",
      "  Objective range  [1e+00, 2e+03]\n",
      "  Bounds range     [1e+00, 1e+00]\n",
      "  RHS range        [1e+00, 4e+04]\n",
      "Presolve removed 645 rows and 0 columns\n",
      "Presolve time: 0.07s\n",
      "Presolved: 7756 rows, 2232 columns, 20694 nonzeros\n",
      "Variable types: 672 continuous, 1560 integer (1560 binary)\n",
      "Found heuristic solution: objective 1144605.0000\n",
      "\n",
      "Root relaxation: objective 9.869097e+05, 2124 iterations, 0.06 seconds (0.07 work units)\n",
      "\n",
      "    Nodes    |    Current Node    |     Objective Bounds      |     Work\n",
      " Expl Unexpl |  Obj  Depth IntInf | Incumbent    BestBd   Gap | It/Node Time\n",
      "\n",
      "     0     0 986909.666    0  147 1144605.00 986909.666  13.8%     -    0s\n",
      "H    0     0                    1143705.0000 986909.666  13.7%     -    0s\n",
      "H    0     0                    997220.00000 986909.666  1.03%     -    0s\n",
      "     0     0 987832.168    0  150 997220.000 987832.168  0.94%     -    0s\n",
      "     0     0 987919.327    0  163 997220.000 987919.327  0.93%     -    0s\n",
      "     0     0 989298.986    0  204 997220.000 989298.986  0.79%     -    0s\n",
      "     0     0 989548.720    0  170 997220.000 989548.720  0.77%     -    0s\n",
      "H    0     0                    997045.00000 989548.720  0.75%     -    0s\n",
      "     0     0 989548.720    0  171 997045.000 989548.720  0.75%     -    0s\n",
      "     0     0 990244.864    0  157 997045.000 990244.864  0.68%     -    0s\n",
      "     0     0 990260.539    0  153 997045.000 990260.539  0.68%     -    0s\n",
      "     0     0 990260.539    0  167 997045.000 990260.539  0.68%     -    0s\n",
      "H    0     0                    994772.00000 990260.539  0.45%     -    0s\n",
      "     0     0 990262.853    0  177 994772.000 990262.853  0.45%     -    0s\n",
      "     0     0 990266.065    0  142 994772.000 990266.065  0.45%     -    0s\n",
      "     0     0 990270.818    0  119 994772.000 990270.818  0.45%     -    0s\n",
      "     0     0 990270.818    0  131 994772.000 990270.818  0.45%     -    0s\n",
      "     0     0 990270.818    0  138 994772.000 990270.818  0.45%     -    0s\n",
      "     0     0 990277.536    0  203 994772.000 990277.536  0.45%     -    1s\n",
      "     0     0 990284.114    0  200 994772.000 990284.114  0.45%     -    1s\n",
      "     0     0 990286.288    0  200 994772.000 990286.288  0.45%     -    1s\n",
      "     0     0 990287.966    0  190 994772.000 990287.966  0.45%     -    1s\n",
      "     0     0 990287.966    0  203 994772.000 990287.966  0.45%     -    1s\n",
      "     0     0 990295.310    0  203 994772.000 990295.310  0.45%     -    1s\n",
      "     0     0 990298.431    0  212 994772.000 990298.431  0.45%     -    1s\n",
      "     0     0 990299.589    0  221 994772.000 990299.589  0.45%     -    1s\n",
      "     0     0 990299.589    0  202 994772.000 990299.589  0.45%     -    1s\n",
      "     0     0 990307.355    0  185 994772.000 990307.355  0.45%     -    1s\n",
      "     0     0 990320.138    0  179 994772.000 990320.138  0.45%     -    1s\n",
      "     0     0 990320.138    0  179 994772.000 990320.138  0.45%     -    1s\n",
      "     0     0 990325.178    0  188 994772.000 990325.178  0.45%     -    1s\n",
      "     0     0 990329.530    0  202 994772.000 990329.530  0.45%     -    1s\n",
      "     0     0 990333.631    0  199 994772.000 990333.631  0.45%     -    1s\n",
      "     0     0 990333.631    0  192 994772.000 990333.631  0.45%     -    1s\n",
      "     0     0 990333.885    0  215 994772.000 990333.885  0.45%     -    1s\n",
      "     0     0 990338.743    0  214 994772.000 990338.743  0.45%     -    1s\n",
      "     0     0 990338.743    0  207 994772.000 990338.743  0.45%     -    1s\n",
      "     0     0 990341.088    0  213 994772.000 990341.088  0.45%     -    1s\n",
      "     0     0 990341.088    0  224 994772.000 990341.088  0.45%     -    1s\n",
      "     0     0 990351.680    0  242 994772.000 990351.680  0.44%     -    1s\n",
      "     0     0 990354.371    0  248 994772.000 990354.371  0.44%     -    1s\n",
      "     0     0 990356.567    0  263 994772.000 990356.567  0.44%     -    1s\n",
      "     0     0 990357.273    0  258 994772.000 990357.273  0.44%     -    1s\n",
      "     0     0 990359.927    0  209 994772.000 990359.927  0.44%     -    1s\n",
      "     0     0 990362.210    0  215 994772.000 990362.210  0.44%     -    1s\n",
      "H    0     0                    994690.00000 990362.327  0.44%     -    1s\n",
      "     0     0 990362.327    0  199 994690.000 990362.327  0.44%     -    1s\n",
      "     0     0 990362.474    0  207 994690.000 990362.474  0.44%     -    1s\n",
      "     0     0 990362.474    0  219 994690.000 990362.474  0.44%     -    1s\n",
      "     0     0 990369.386    0  223 994690.000 990369.386  0.43%     -    1s\n",
      "     0     0 990369.386    0  198 994690.000 990369.386  0.43%     -    2s\n",
      "     0     2 990369.386    0  198 994690.000 990369.386  0.43%     -    2s\n",
      "H  101    91                    994235.00000 990377.414  0.39%  56.4    2s\n",
      "H  134   110                    993707.00000 990377.414  0.34%  52.6    2s\n",
      "H  170   130                    993240.00000 990377.414  0.29%  52.9    3s\n",
      "H  201   159                    993025.00000 990377.414  0.27%  54.4    3s\n",
      "H  238   187                    992820.00000 990377.414  0.25%  50.3    3s\n",
      "H  269   208                    992815.00000 990377.414  0.25%  48.6    3s\n",
      "H  273   208                    992810.00000 990377.414  0.25%  48.8    3s\n",
      "   606   387 991595.525    7  187 992810.000 990406.462  0.24%  45.0    5s\n",
      "*  867   438              89    992668.00000 990408.324  0.23%  40.7    5s\n",
      "H 1095   149                    991859.00000 990408.324  0.15%  40.9    6s\n",
      "H 1103   138                    991622.00000 990415.187  0.12%  40.6    7s\n",
      "H 1117   139                    991590.00000 990838.705  0.08%  40.1    9s\n",
      "  1131   148 991590.000   16  236 991590.000 990873.742  0.07%  39.6   10s\n",
      "H 1136   144                    991515.00000 990893.801  0.06%  39.4   10s\n",
      "H 1136   136                    991505.00000 990893.801  0.06%  39.4   10s\n",
      "H 1144   133                    991435.00000 990903.454  0.05%  39.1   10s\n",
      "H 1146   127                    991410.00000 990905.985  0.05%  39.1   10s\n",
      "  1460   217 991187.439   57   48 991410.000 991107.816  0.03%  38.4   15s\n",
      "* 1526   206              73    991405.00000 991107.816  0.03%  37.1   15s\n",
      "\n",
      "Cutting planes:\n",
      "  Learned: 1\n",
      "  Gomory: 11\n",
      "  Lift-and-project: 18\n",
      "  Implied bound: 41\n",
      "  Clique: 3\n",
      "  MIR: 49\n",
      "  Flow cover: 34\n",
      "  Zero half: 3\n",
      "  Relax-and-lift: 1\n",
      "\n",
      "Explored 3432 nodes (79700 simplex iterations) in 16.20 seconds (13.02 work units)\n",
      "Thread count was 8 (of 8 available processors)\n",
      "\n",
      "Solution count 10: 991405 991410 991435 ... 992810\n",
      "\n",
      "Optimal solution found (tolerance 1.00e-04)\n",
      "Best objective 9.914050000000e+05, best bound 9.913160458436e+05, gap 0.0090%\n"
     ]
    }
   ],
   "source": [
    "heures_maintenance = np.array([0,1,2,3,4,5,6,18,19,20,21,22,23])\n",
    "consommation = np.array([15,15,15,15,15,15,30,30,30,25,25,25,25,25,25,40,40,40,27,27,27,27,27,27])*1000\n",
    "heures = np.array([k for t in range(2) for k in range(24)])\n",
    "delai_fonctionnement = 8\n",
    "\n",
    "model = gp.Model(\"9.1\")\n",
    "\n",
    "dict_N, dict_P, dict_Nstart = variables_decision_desagregation_thermique(model,dict_Thermique)\n",
    "dict_H, dict_Hstart = variables_decision_hydraulique_palier(model,dict_Hydro)\n",
    "dict_S = {t : model.addVar(lb=0,vtype=gp.GRB.CONTINUOUS,name=f\"pompage à l'instant {t}\") for t in range(24)}\n",
    "dict_N_s = {t : model.addVar(lb=0,vtype=gp.GRB.BINARY,name=f\"fonctionnement pompe à l'instant {t}\") for t in range(24)}\n",
    "debit_S = 1/3000 # débit de pompage par MWh ou par MW pendant une heure\n",
    "M = sum([dict_Thermique[X].N * dict_Thermique[X].Pmax for X in dict_Thermique]) + sum([dict_Hydro[Y].P[dict_Hydro[Y].palier_max()] for Y in dict_Hydro])\n",
    "\n",
    "contraintes_reservoir_palier(model,dict_H,dict_Hydro,dict_S,debit_S)\n",
    "contraintes_hydraulique_palier(model,dict_H,dict_Hydro,dict_Hstart)\n",
    "contraintes_hydraulique_pompage(model,dict_H,dict_Hydro,dict_N_s,dict_S,M)\n",
    "contraintes_thermique_desagregation(model,dict_P,dict_N,dict_Nstart,dict_Thermique)\n",
    "contraintes_equilibre_desagregation(model,dict_P,dict_Thermique,dict_H,dict_Hydro,dict_S,consommation)\n",
    "contraintes_reserve_desagregation(model,dict_N,dict_Thermique,dict_Hydro,consommation)\n",
    "contraintes_rampes(model,dict_P,dict_N,dict_Thermique)\n",
    "for t in range(t):\n",
    "    for tprime in range(delai_fonctionnement):\n",
    "        for X in dict_Thermique:\n",
    "            for k in range(dict_Thermique[X].N):\n",
    "                model.addConstr(dict_Nstart[X,k,t]<=dict_N[X,k,heures[t+tprime]])\n",
    "\n",
    "\n",
    "model.setObjective(\n",
    "    gp.quicksum([dict_N[X,k,t] * (dict_Thermique[X].Cbase - dict_Thermique[X].Pmin*dict_Thermique[X].Cmwh) for X in dict_Thermique for k in range(dict_Thermique[X].N) for t in range(24)]) + \n",
    "    gp.quicksum([dict_P[X,k,t] * dict_Thermique[X].Cmwh for X in dict_Thermique for k in range(dict_Thermique[X].N) for t in range(24)])+ \n",
    "    gp.quicksum([dict_Nstart[X,k,t]*dict_Thermique[X].Cstart for X in dict_Thermique for k in range(dict_Thermique[X].N) for t in range(24)])+\n",
    "    gp.quicksum([dict_H[Y,n,t] * dict_Hydro[Y].Cheure[n] for Y in dict_Hydro for t in range(24) for n in dict_Hydro[Y].Palier])+\n",
    "    gp.quicksum([dict_Hstart[Y,t] * dict_Hydro[Y].Cstart for Y in dict_Hydro for t in range(24)]),\n",
    "    gp.GRB.MINIMIZE\n",
    "    )\n",
    "\n",
    "model.optimize()"
   ]
  },
  {
   "cell_type": "code",
   "execution_count": 42,
   "metadata": {},
   "outputs": [
    {
     "data": {
      "application/vnd.plotly.v1+json": {
       "config": {
        "plotlyServerURL": "https://plot.ly"
       },
       "data": [
        {
         "name": "Thermique A",
         "stackgroup": "one",
         "type": "scatter",
         "x": [
          0,
          1,
          2,
          3,
          4,
          5,
          6,
          7,
          8,
          9,
          10,
          11,
          12,
          13,
          14,
          15,
          16,
          17,
          18,
          19,
          20,
          21,
          22,
          23
         ],
         "y": [
          10200,
          10200,
          10200,
          10200,
          10200,
          10200,
          15649.999999999998,
          15150,
          15049.999999999998,
          10250,
          10250,
          10250,
          10250,
          10250,
          10250,
          20650,
          20150,
          19950,
          15180.000000000005,
          10380.000000000007,
          10200,
          10200,
          10200,
          12250.000000000002
         ]
        },
        {
         "name": "Thermique B",
         "stackgroup": "one",
         "type": "scatter",
         "x": [
          0,
          1,
          2,
          3,
          4,
          5,
          6,
          7,
          8,
          9,
          10,
          11,
          12,
          13,
          14,
          15,
          16,
          17,
          18,
          19,
          20,
          21,
          22,
          23
         ],
         "y": [
          8750,
          8750,
          8750,
          8750,
          8750,
          8750,
          11750,
          12250,
          12250,
          12250,
          12250,
          12250,
          12250,
          12250,
          12249.999999999998,
          15250,
          15750,
          15750,
          15750,
          15750,
          15750,
          15750,
          15750,
          14750
         ]
        },
        {
         "name": "Thermique C",
         "stackgroup": "one",
         "type": "scatter",
         "x": [
          0,
          1,
          2,
          3,
          4,
          5,
          6,
          7,
          8,
          9,
          10,
          11,
          12,
          13,
          14,
          15,
          16,
          17,
          18,
          19,
          20,
          21,
          22,
          23
         ],
         "y": [
          0,
          0,
          0,
          0,
          0,
          0,
          0,
          0,
          0,
          0,
          0,
          0,
          0,
          0,
          0,
          1500,
          1500,
          1500,
          1500,
          1500,
          1500,
          1500,
          1500,
          0
         ]
        },
        {
         "name": "Hydraulique 9",
         "stackgroup": "one",
         "type": "scatter",
         "x": [
          0,
          1,
          2,
          3,
          4,
          5,
          6,
          7,
          8,
          9,
          10,
          11,
          12,
          13,
          14,
          15,
          16,
          17,
          18,
          19,
          20,
          21,
          22,
          23
         ],
         "y": [
          0,
          0,
          0,
          0,
          0,
          0,
          900,
          900,
          1100,
          900,
          900,
          900,
          900,
          900,
          900,
          900,
          900,
          1100,
          0,
          0,
          0,
          0,
          0,
          0
         ]
        },
        {
         "name": "Hydraulique 14",
         "stackgroup": "one",
         "type": "scatter",
         "x": [
          0,
          1,
          2,
          3,
          4,
          5,
          6,
          7,
          8,
          9,
          10,
          11,
          12,
          13,
          14,
          15,
          16,
          17,
          18,
          19,
          20,
          21,
          22,
          23
         ],
         "y": [
          0,
          0,
          0,
          0,
          0,
          0,
          1700,
          1700,
          1600,
          1600,
          1600,
          1600,
          1600,
          1600,
          1600,
          1700,
          1700,
          1700,
          0,
          0,
          0,
          0,
          0,
          0
         ]
        },
        {
         "name": "Pompage",
         "stackgroup": "two",
         "type": "scatter",
         "x": [
          0,
          1,
          2,
          3,
          4,
          5,
          6,
          7,
          8,
          9,
          10,
          11,
          12,
          13,
          14,
          15,
          16,
          17,
          18,
          19,
          20,
          21,
          22,
          23
         ],
         "y": [
          -3950,
          -3950,
          -3950,
          -3950,
          -3950,
          -3950,
          0,
          0,
          0,
          0,
          0,
          0,
          0,
          0,
          0,
          0,
          0,
          0,
          -5430.000000000007,
          -630.0000000000073,
          -450,
          -450,
          -450,
          0
         ]
        },
        {
         "line": {
          "color": "red",
          "dash": "dash"
         },
         "name": "Production total",
         "type": "scatter",
         "x": [
          0,
          1,
          2,
          3,
          4,
          5,
          6,
          7,
          8,
          9,
          10,
          11,
          12,
          13,
          14,
          15,
          16,
          17,
          18,
          19,
          20,
          21,
          22,
          23
         ],
         "y": [
          15000,
          15000,
          15000,
          15000,
          15000,
          15000,
          30000,
          30000,
          30000,
          25000,
          25000,
          25000,
          25000,
          25000,
          25000,
          40000,
          40000,
          40000,
          26999.999999999996,
          27000,
          27000,
          27000,
          27000,
          27000
         ]
        },
        {
         "line": {
          "color": "black"
         },
         "name": "Coût MWh",
         "type": "scatter",
         "x": [
          0,
          1,
          2,
          3,
          4,
          5,
          6,
          7,
          8,
          9,
          10,
          11,
          12,
          13,
          14,
          15,
          16,
          17,
          18,
          19,
          20,
          21,
          22,
          23
         ],
         "y": [
          1.8833333333333333,
          1.8833333333333333,
          1.8833333333333333,
          1.8833333333333333,
          1.8833333333333333,
          1.8833333333333333,
          1.6666666666666667,
          1.4983333333333333,
          1.4918333333333333,
          1.405,
          1.405,
          1.405,
          1.405,
          1.405,
          1.4050000000000002,
          1.6825,
          1.61125,
          1.602,
          2.0077777777777785,
          1.652222222222223,
          1.6388888888888888,
          1.6388888888888888,
          1.6388888888888888,
          1.6314814814814815
         ],
         "yaxis": "y2"
        },
        {
         "line": {
          "color": "grey"
         },
         "name": "Niveau réservoir",
         "type": "scatter",
         "x": [
          0,
          1,
          2,
          3,
          4,
          5,
          6,
          7,
          8,
          9,
          10,
          11,
          12,
          13,
          14,
          15,
          16,
          17,
          18,
          19,
          20,
          21,
          22,
          23
         ],
         "y": [
          1.3166666666666667,
          2.6333333333333333,
          3.95,
          5.266666666666667,
          6.583333333333333,
          7.8999999999999995,
          7.029999999999999,
          6.159999999999999,
          5.249999999999999,
          4.409999999999999,
          3.5699999999999994,
          2.7299999999999995,
          1.8899999999999995,
          1.0499999999999994,
          0.2099999999999993,
          -0.6600000000000008,
          -1.530000000000001,
          -2.470000000000001,
          -0.6599999999999988,
          -0.4499999999999964,
          -0.2999999999999964,
          -0.1499999999999964,
          3.608224830031759e-15,
          3.608224830031759e-15
         ],
         "yaxis": "y3"
        }
       ],
       "layout": {
        "hovermode": "x",
        "legend": {
         "orientation": "h",
         "x": 1,
         "xanchor": "right",
         "y": 1.02,
         "yanchor": "bottom"
        },
        "template": {
         "data": {
          "bar": [
           {
            "error_x": {
             "color": "#2a3f5f"
            },
            "error_y": {
             "color": "#2a3f5f"
            },
            "marker": {
             "line": {
              "color": "#E5ECF6",
              "width": 0.5
             },
             "pattern": {
              "fillmode": "overlay",
              "size": 10,
              "solidity": 0.2
             }
            },
            "type": "bar"
           }
          ],
          "barpolar": [
           {
            "marker": {
             "line": {
              "color": "#E5ECF6",
              "width": 0.5
             },
             "pattern": {
              "fillmode": "overlay",
              "size": 10,
              "solidity": 0.2
             }
            },
            "type": "barpolar"
           }
          ],
          "carpet": [
           {
            "aaxis": {
             "endlinecolor": "#2a3f5f",
             "gridcolor": "white",
             "linecolor": "white",
             "minorgridcolor": "white",
             "startlinecolor": "#2a3f5f"
            },
            "baxis": {
             "endlinecolor": "#2a3f5f",
             "gridcolor": "white",
             "linecolor": "white",
             "minorgridcolor": "white",
             "startlinecolor": "#2a3f5f"
            },
            "type": "carpet"
           }
          ],
          "choropleth": [
           {
            "colorbar": {
             "outlinewidth": 0,
             "ticks": ""
            },
            "type": "choropleth"
           }
          ],
          "contour": [
           {
            "colorbar": {
             "outlinewidth": 0,
             "ticks": ""
            },
            "colorscale": [
             [
              0,
              "#0d0887"
             ],
             [
              0.1111111111111111,
              "#46039f"
             ],
             [
              0.2222222222222222,
              "#7201a8"
             ],
             [
              0.3333333333333333,
              "#9c179e"
             ],
             [
              0.4444444444444444,
              "#bd3786"
             ],
             [
              0.5555555555555556,
              "#d8576b"
             ],
             [
              0.6666666666666666,
              "#ed7953"
             ],
             [
              0.7777777777777778,
              "#fb9f3a"
             ],
             [
              0.8888888888888888,
              "#fdca26"
             ],
             [
              1,
              "#f0f921"
             ]
            ],
            "type": "contour"
           }
          ],
          "contourcarpet": [
           {
            "colorbar": {
             "outlinewidth": 0,
             "ticks": ""
            },
            "type": "contourcarpet"
           }
          ],
          "heatmap": [
           {
            "colorbar": {
             "outlinewidth": 0,
             "ticks": ""
            },
            "colorscale": [
             [
              0,
              "#0d0887"
             ],
             [
              0.1111111111111111,
              "#46039f"
             ],
             [
              0.2222222222222222,
              "#7201a8"
             ],
             [
              0.3333333333333333,
              "#9c179e"
             ],
             [
              0.4444444444444444,
              "#bd3786"
             ],
             [
              0.5555555555555556,
              "#d8576b"
             ],
             [
              0.6666666666666666,
              "#ed7953"
             ],
             [
              0.7777777777777778,
              "#fb9f3a"
             ],
             [
              0.8888888888888888,
              "#fdca26"
             ],
             [
              1,
              "#f0f921"
             ]
            ],
            "type": "heatmap"
           }
          ],
          "heatmapgl": [
           {
            "colorbar": {
             "outlinewidth": 0,
             "ticks": ""
            },
            "colorscale": [
             [
              0,
              "#0d0887"
             ],
             [
              0.1111111111111111,
              "#46039f"
             ],
             [
              0.2222222222222222,
              "#7201a8"
             ],
             [
              0.3333333333333333,
              "#9c179e"
             ],
             [
              0.4444444444444444,
              "#bd3786"
             ],
             [
              0.5555555555555556,
              "#d8576b"
             ],
             [
              0.6666666666666666,
              "#ed7953"
             ],
             [
              0.7777777777777778,
              "#fb9f3a"
             ],
             [
              0.8888888888888888,
              "#fdca26"
             ],
             [
              1,
              "#f0f921"
             ]
            ],
            "type": "heatmapgl"
           }
          ],
          "histogram": [
           {
            "marker": {
             "pattern": {
              "fillmode": "overlay",
              "size": 10,
              "solidity": 0.2
             }
            },
            "type": "histogram"
           }
          ],
          "histogram2d": [
           {
            "colorbar": {
             "outlinewidth": 0,
             "ticks": ""
            },
            "colorscale": [
             [
              0,
              "#0d0887"
             ],
             [
              0.1111111111111111,
              "#46039f"
             ],
             [
              0.2222222222222222,
              "#7201a8"
             ],
             [
              0.3333333333333333,
              "#9c179e"
             ],
             [
              0.4444444444444444,
              "#bd3786"
             ],
             [
              0.5555555555555556,
              "#d8576b"
             ],
             [
              0.6666666666666666,
              "#ed7953"
             ],
             [
              0.7777777777777778,
              "#fb9f3a"
             ],
             [
              0.8888888888888888,
              "#fdca26"
             ],
             [
              1,
              "#f0f921"
             ]
            ],
            "type": "histogram2d"
           }
          ],
          "histogram2dcontour": [
           {
            "colorbar": {
             "outlinewidth": 0,
             "ticks": ""
            },
            "colorscale": [
             [
              0,
              "#0d0887"
             ],
             [
              0.1111111111111111,
              "#46039f"
             ],
             [
              0.2222222222222222,
              "#7201a8"
             ],
             [
              0.3333333333333333,
              "#9c179e"
             ],
             [
              0.4444444444444444,
              "#bd3786"
             ],
             [
              0.5555555555555556,
              "#d8576b"
             ],
             [
              0.6666666666666666,
              "#ed7953"
             ],
             [
              0.7777777777777778,
              "#fb9f3a"
             ],
             [
              0.8888888888888888,
              "#fdca26"
             ],
             [
              1,
              "#f0f921"
             ]
            ],
            "type": "histogram2dcontour"
           }
          ],
          "mesh3d": [
           {
            "colorbar": {
             "outlinewidth": 0,
             "ticks": ""
            },
            "type": "mesh3d"
           }
          ],
          "parcoords": [
           {
            "line": {
             "colorbar": {
              "outlinewidth": 0,
              "ticks": ""
             }
            },
            "type": "parcoords"
           }
          ],
          "pie": [
           {
            "automargin": true,
            "type": "pie"
           }
          ],
          "scatter": [
           {
            "fillpattern": {
             "fillmode": "overlay",
             "size": 10,
             "solidity": 0.2
            },
            "type": "scatter"
           }
          ],
          "scatter3d": [
           {
            "line": {
             "colorbar": {
              "outlinewidth": 0,
              "ticks": ""
             }
            },
            "marker": {
             "colorbar": {
              "outlinewidth": 0,
              "ticks": ""
             }
            },
            "type": "scatter3d"
           }
          ],
          "scattercarpet": [
           {
            "marker": {
             "colorbar": {
              "outlinewidth": 0,
              "ticks": ""
             }
            },
            "type": "scattercarpet"
           }
          ],
          "scattergeo": [
           {
            "marker": {
             "colorbar": {
              "outlinewidth": 0,
              "ticks": ""
             }
            },
            "type": "scattergeo"
           }
          ],
          "scattergl": [
           {
            "marker": {
             "colorbar": {
              "outlinewidth": 0,
              "ticks": ""
             }
            },
            "type": "scattergl"
           }
          ],
          "scattermapbox": [
           {
            "marker": {
             "colorbar": {
              "outlinewidth": 0,
              "ticks": ""
             }
            },
            "type": "scattermapbox"
           }
          ],
          "scatterpolar": [
           {
            "marker": {
             "colorbar": {
              "outlinewidth": 0,
              "ticks": ""
             }
            },
            "type": "scatterpolar"
           }
          ],
          "scatterpolargl": [
           {
            "marker": {
             "colorbar": {
              "outlinewidth": 0,
              "ticks": ""
             }
            },
            "type": "scatterpolargl"
           }
          ],
          "scatterternary": [
           {
            "marker": {
             "colorbar": {
              "outlinewidth": 0,
              "ticks": ""
             }
            },
            "type": "scatterternary"
           }
          ],
          "surface": [
           {
            "colorbar": {
             "outlinewidth": 0,
             "ticks": ""
            },
            "colorscale": [
             [
              0,
              "#0d0887"
             ],
             [
              0.1111111111111111,
              "#46039f"
             ],
             [
              0.2222222222222222,
              "#7201a8"
             ],
             [
              0.3333333333333333,
              "#9c179e"
             ],
             [
              0.4444444444444444,
              "#bd3786"
             ],
             [
              0.5555555555555556,
              "#d8576b"
             ],
             [
              0.6666666666666666,
              "#ed7953"
             ],
             [
              0.7777777777777778,
              "#fb9f3a"
             ],
             [
              0.8888888888888888,
              "#fdca26"
             ],
             [
              1,
              "#f0f921"
             ]
            ],
            "type": "surface"
           }
          ],
          "table": [
           {
            "cells": {
             "fill": {
              "color": "#EBF0F8"
             },
             "line": {
              "color": "white"
             }
            },
            "header": {
             "fill": {
              "color": "#C8D4E3"
             },
             "line": {
              "color": "white"
             }
            },
            "type": "table"
           }
          ]
         },
         "layout": {
          "annotationdefaults": {
           "arrowcolor": "#2a3f5f",
           "arrowhead": 0,
           "arrowwidth": 1
          },
          "autotypenumbers": "strict",
          "coloraxis": {
           "colorbar": {
            "outlinewidth": 0,
            "ticks": ""
           }
          },
          "colorscale": {
           "diverging": [
            [
             0,
             "#8e0152"
            ],
            [
             0.1,
             "#c51b7d"
            ],
            [
             0.2,
             "#de77ae"
            ],
            [
             0.3,
             "#f1b6da"
            ],
            [
             0.4,
             "#fde0ef"
            ],
            [
             0.5,
             "#f7f7f7"
            ],
            [
             0.6,
             "#e6f5d0"
            ],
            [
             0.7,
             "#b8e186"
            ],
            [
             0.8,
             "#7fbc41"
            ],
            [
             0.9,
             "#4d9221"
            ],
            [
             1,
             "#276419"
            ]
           ],
           "sequential": [
            [
             0,
             "#0d0887"
            ],
            [
             0.1111111111111111,
             "#46039f"
            ],
            [
             0.2222222222222222,
             "#7201a8"
            ],
            [
             0.3333333333333333,
             "#9c179e"
            ],
            [
             0.4444444444444444,
             "#bd3786"
            ],
            [
             0.5555555555555556,
             "#d8576b"
            ],
            [
             0.6666666666666666,
             "#ed7953"
            ],
            [
             0.7777777777777778,
             "#fb9f3a"
            ],
            [
             0.8888888888888888,
             "#fdca26"
            ],
            [
             1,
             "#f0f921"
            ]
           ],
           "sequentialminus": [
            [
             0,
             "#0d0887"
            ],
            [
             0.1111111111111111,
             "#46039f"
            ],
            [
             0.2222222222222222,
             "#7201a8"
            ],
            [
             0.3333333333333333,
             "#9c179e"
            ],
            [
             0.4444444444444444,
             "#bd3786"
            ],
            [
             0.5555555555555556,
             "#d8576b"
            ],
            [
             0.6666666666666666,
             "#ed7953"
            ],
            [
             0.7777777777777778,
             "#fb9f3a"
            ],
            [
             0.8888888888888888,
             "#fdca26"
            ],
            [
             1,
             "#f0f921"
            ]
           ]
          },
          "colorway": [
           "#636efa",
           "#EF553B",
           "#00cc96",
           "#ab63fa",
           "#FFA15A",
           "#19d3f3",
           "#FF6692",
           "#B6E880",
           "#FF97FF",
           "#FECB52"
          ],
          "font": {
           "color": "#2a3f5f"
          },
          "geo": {
           "bgcolor": "white",
           "lakecolor": "white",
           "landcolor": "#E5ECF6",
           "showlakes": true,
           "showland": true,
           "subunitcolor": "white"
          },
          "hoverlabel": {
           "align": "left"
          },
          "hovermode": "closest",
          "mapbox": {
           "style": "light"
          },
          "paper_bgcolor": "white",
          "plot_bgcolor": "#E5ECF6",
          "polar": {
           "angularaxis": {
            "gridcolor": "white",
            "linecolor": "white",
            "ticks": ""
           },
           "bgcolor": "#E5ECF6",
           "radialaxis": {
            "gridcolor": "white",
            "linecolor": "white",
            "ticks": ""
           }
          },
          "scene": {
           "xaxis": {
            "backgroundcolor": "#E5ECF6",
            "gridcolor": "white",
            "gridwidth": 2,
            "linecolor": "white",
            "showbackground": true,
            "ticks": "",
            "zerolinecolor": "white"
           },
           "yaxis": {
            "backgroundcolor": "#E5ECF6",
            "gridcolor": "white",
            "gridwidth": 2,
            "linecolor": "white",
            "showbackground": true,
            "ticks": "",
            "zerolinecolor": "white"
           },
           "zaxis": {
            "backgroundcolor": "#E5ECF6",
            "gridcolor": "white",
            "gridwidth": 2,
            "linecolor": "white",
            "showbackground": true,
            "ticks": "",
            "zerolinecolor": "white"
           }
          },
          "shapedefaults": {
           "line": {
            "color": "#2a3f5f"
           }
          },
          "ternary": {
           "aaxis": {
            "gridcolor": "white",
            "linecolor": "white",
            "ticks": ""
           },
           "baxis": {
            "gridcolor": "white",
            "linecolor": "white",
            "ticks": ""
           },
           "bgcolor": "#E5ECF6",
           "caxis": {
            "gridcolor": "white",
            "linecolor": "white",
            "ticks": ""
           }
          },
          "title": {
           "x": 0.05
          },
          "xaxis": {
           "automargin": true,
           "gridcolor": "white",
           "linecolor": "white",
           "ticks": "",
           "title": {
            "standoff": 15
           },
           "zerolinecolor": "white",
           "zerolinewidth": 2
          },
          "yaxis": {
           "automargin": true,
           "gridcolor": "white",
           "linecolor": "white",
           "ticks": "",
           "title": {
            "standoff": 15
           },
           "zerolinecolor": "white",
           "zerolinewidth": 2
          }
         }
        },
        "title": {
         "text": "Répartition de la production électrique dans la journée - 9.1 - Coût de la journée : 991 k€"
        },
        "xaxis": {
         "domain": [
          0.1,
          1
         ]
        },
        "yaxis": {
         "range": [
          -5973.000000000008,
          44000
         ],
         "title": {
          "text": "MW"
         }
        },
        "yaxis2": {
         "anchor": "free",
         "overlaying": "y",
         "position": 1,
         "range": [
          1,
          2.5
         ],
         "side": "right",
         "title": {
          "text": "€/MWh"
         }
        },
        "yaxis3": {
         "anchor": "free",
         "overlaying": "y",
         "position": 0.05,
         "range": [
          -5,
          10
         ],
         "side": "left",
         "title": {
          "text": "Réservoir (m)"
         }
        }
       }
      }
     },
     "metadata": {},
     "output_type": "display_data"
    }
   ],
   "source": [
    "df = df_results61(dict_N,dict_P,dict_Nstart,dict_Thermique,dict_H,dict_Hstart,dict_Hydro,dict_S,debit_S,consommation)\n",
    "fig = Results_viz52(df,dict_Thermique,dict_Hydro)\n",
    "A = \"9.1\"\n",
    "fig.update_layout(\n",
    "    title = f\"Répartition de la production électrique dans la journée - {A} - Coût de la journée : {int(np.around(model.ObjVal/1000,0))} k€\"\n",
    ")\n",
    "fig.show()\n",
    "fig.write_html(f\"HTML/Répartition de la production électrique dans la journée - {A}.html\")\n",
    "df.to_csv(f\"CSV/Résultats - {A}.csv\",index=False)"
   ]
  },
  {
   "cell_type": "markdown",
   "metadata": {},
   "source": [
    "### 9.2 Durée minimale d'arrêt \n",
    "\n",
    "$$\n",
    "\\forall t,\\forall t' \\in \\{1,\\dots,8\\}, \\forall k, 1 - (N_{t-1}^{(X,k)}-N_{t}^{(X,k)})\\geq N_{t+t'}^{(X,k)}, \\text{La centrale est éteinte pendant 8 heures après arrêts}\n",
    "$$"
   ]
  },
  {
   "cell_type": "code",
   "execution_count": 43,
   "metadata": {},
   "outputs": [
    {
     "name": "stdout",
     "output_type": "stream",
     "text": [
      "Gurobi Optimizer version 9.5.2 build v9.5.2rc0 (win64)\n",
      "Thread count: 4 physical cores, 8 logical processors, using up to 8 threads\n",
      "Optimize a model with 12937 rows, 2232 columns and 34260 nonzeros\n",
      "Model fingerprint: 0xe688cd80\n",
      "Variable types: 672 continuous, 1560 integer (1560 binary)\n",
      "Coefficient statistics:\n",
      "  Matrix range     [3e-04, 6e+04]\n",
      "  Objective range  [1e+00, 2e+03]\n",
      "  Bounds range     [1e+00, 1e+00]\n",
      "  RHS range        [1e+00, 4e+04]\n",
      "Presolve removed 1212 rows and 0 columns\n",
      "Presolve time: 0.15s\n",
      "Presolved: 11725 rows, 2232 columns, 32790 nonzeros\n",
      "Variable types: 672 continuous, 1560 integer (1560 binary)\n",
      "\n",
      "Use crossover to convert LP symmetric solution to basic solution...\n",
      "Extra simplex iterations after uncrush: 24\n",
      "\n",
      "Root relaxation: objective 9.871829e+05, 684 iterations, 0.08 seconds (0.04 work units)\n",
      "\n",
      "    Nodes    |    Current Node    |     Objective Bounds      |     Work\n",
      " Expl Unexpl |  Obj  Depth IntInf | Incumbent    BestBd   Gap | It/Node Time\n",
      "\n",
      "     0     0 987182.872    0  155          - 987182.872      -     -    0s\n",
      "     0     0 987918.236    0  190          - 987918.236      -     -    0s\n",
      "     0     0 987951.175    0  190          - 987951.175      -     -    0s\n",
      "     0     0 987951.175    0  190          - 987951.175      -     -    0s\n",
      "     0     0 989361.173    0  164          - 989361.173      -     -    1s\n",
      "H    0     0                    995575.00000 989361.173  0.62%     -    1s\n",
      "     0     0 989679.924    0  152 995575.000 989679.924  0.59%     -    1s\n",
      "     0     0 989679.924    0  153 995575.000 989679.924  0.59%     -    1s\n",
      "     0     0 990233.271    0  145 995575.000 990233.271  0.54%     -    1s\n",
      "     0     0 990244.867    0  163 995575.000 990244.867  0.54%     -    1s\n",
      "     0     0 990245.282    0  169 995575.000 990245.282  0.54%     -    1s\n",
      "     0     0 990282.536    0  176 995575.000 990282.536  0.53%     -    1s\n",
      "     0     0 990294.832    0  215 995575.000 990294.832  0.53%     -    1s\n",
      "     0     0 990294.832    0  231 995575.000 990294.832  0.53%     -    2s\n",
      "     0     0 990296.488    0  200 995575.000 990296.488  0.53%     -    2s\n",
      "     0     0 990296.520    0  213 995575.000 990296.520  0.53%     -    2s\n",
      "     0     0 990312.848    0  211 995575.000 990312.848  0.53%     -    2s\n",
      "     0     0 990317.550    0  176 995575.000 990317.550  0.53%     -    2s\n",
      "     0     0 990317.550    0  204 995575.000 990317.550  0.53%     -    2s\n",
      "     0     0 990317.550    0  218 995575.000 990317.550  0.53%     -    2s\n",
      "     0     0 990318.733    0  200 995575.000 990318.733  0.53%     -    2s\n",
      "     0     0 990318.817    0  200 995575.000 990318.817  0.53%     -    2s\n",
      "     0     0 990318.817    0  205 995575.000 990318.817  0.53%     -    2s\n",
      "     0     0 990318.817    0  196 995575.000 990318.817  0.53%     -    2s\n",
      "     0     0 990318.817    0  196 995575.000 990318.817  0.53%     -    2s\n",
      "     0     0 990318.817    0  147 995575.000 990318.817  0.53%     -    3s\n",
      "     0     2 990318.817    0  146 995575.000 990318.817  0.53%     -    3s\n",
      "H   65    69                    995490.00000 990329.295  0.52%   134    3s\n",
      "H   98   100                    995270.00000 990329.295  0.50%   135    4s\n",
      "H  102   100                    995211.00000 990329.295  0.49%   131    4s\n",
      "   202   166 990424.050    6  204 995211.000 990330.204  0.49%   103    5s\n",
      "H  233   190                    994950.00000 990330.204  0.46%   104    5s\n",
      "H  265   217                    994335.00000 990330.204  0.40%  97.6    5s\n",
      "H  292   236                    994060.00000 990330.204  0.38%  93.9    5s\n",
      "H  374   255                    993499.00000 990330.204  0.32%  87.6    6s\n",
      "H  443   235                    992667.00000 990330.204  0.24%  81.2    6s\n",
      "*  472   205              74    992650.00000 990330.204  0.23%  78.5    6s\n",
      "H  498   209                    992519.00000 990330.737  0.22%  80.1    6s\n",
      "H  502   209                    992466.00000 990330.737  0.22%  81.2    6s\n",
      "H  544   212                    992415.00000 990338.500  0.21%  86.3    7s\n",
      "H  610   225                    992175.00000 990420.665  0.18%  83.3    8s\n",
      "H 1059   366                    991960.00000 990467.254  0.15%  70.0   10s\n",
      "H 1080   360                    991900.00000 990522.199  0.14%  68.7   13s\n",
      "  1097   372 991285.277   29  187 991900.000 990589.495  0.13%  67.6   15s\n",
      "H 1191   378                    991885.00000 991616.282  0.03%  70.6   19s\n",
      "H 1247   371                    991860.00000 991616.282  0.02%  68.3   19s\n",
      "  1251   380     cutoff   29      991860.000 991616.282  0.02%  68.2   20s\n",
      "H 1583   358                    991850.00000 991626.605  0.02%  57.6   20s\n",
      "* 1721   313              48    991845.00000 991626.605  0.02%  54.2   20s\n",
      "\n",
      "Cutting planes:\n",
      "  Gomory: 4\n",
      "  Lift-and-project: 5\n",
      "  Implied bound: 44\n",
      "  Clique: 6\n",
      "  MIR: 118\n",
      "  StrongCG: 4\n",
      "  Flow cover: 94\n",
      "  Zero half: 26\n",
      "  RLT: 6\n",
      "  Relax-and-lift: 3\n",
      "\n",
      "Explored 4770 nodes (149220 simplex iterations) in 24.28 seconds (21.85 work units)\n",
      "Thread count was 8 (of 8 available processors)\n",
      "\n",
      "Solution count 10: 991845 991850 991860 ... 992519\n",
      "\n",
      "Optimal solution found (tolerance 1.00e-04)\n",
      "Best objective 9.918450000000e+05, best bound 9.917675056001e+05, gap 0.0078%\n"
     ]
    }
   ],
   "source": [
    "heures_maintenance = np.array([0,1,2,3,4,5,6,18,19,20,21,22,23])\n",
    "consommation = np.array([15,15,15,15,15,15,30,30,30,25,25,25,25,25,25,40,40,40,27,27,27,27,27,27])*1000\n",
    "heures = np.array([k for t in range(2) for k in range(24)])\n",
    "delai_fonctionnement = 8\n",
    "\n",
    "model = gp.Model(\"9.2\")\n",
    "\n",
    "dict_N, dict_P, dict_Nstart = variables_decision_desagregation_thermique(model,dict_Thermique)\n",
    "dict_H, dict_Hstart = variables_decision_hydraulique_palier(model,dict_Hydro)\n",
    "dict_S = {t : model.addVar(lb=0,vtype=gp.GRB.CONTINUOUS,name=f\"pompage à l'instant {t}\") for t in range(24)}\n",
    "dict_N_s = {t : model.addVar(lb=0,vtype=gp.GRB.BINARY,name=f\"fonctionnement pompe à l'instant {t}\") for t in range(24)}\n",
    "debit_S = 1/3000 # débit de pompage par MWh ou par MW pendant une heure\n",
    "M = sum([dict_Thermique[X].N * dict_Thermique[X].Pmax for X in dict_Thermique]) + sum([dict_Hydro[Y].P[dict_Hydro[Y].palier_max()] for Y in dict_Hydro])\n",
    "\n",
    "contraintes_reservoir_palier(model,dict_H,dict_Hydro,dict_S,debit_S)\n",
    "contraintes_hydraulique_palier(model,dict_H,dict_Hydro,dict_Hstart)\n",
    "contraintes_hydraulique_pompage(model,dict_H,dict_Hydro,dict_N_s,dict_S,M)\n",
    "contraintes_thermique_desagregation(model,dict_P,dict_N,dict_Nstart,dict_Thermique)\n",
    "contraintes_equilibre_desagregation(model,dict_P,dict_Thermique,dict_H,dict_Hydro,dict_S,consommation)\n",
    "contraintes_reserve_desagregation(model,dict_N,dict_Thermique,dict_Hydro,consommation)\n",
    "contraintes_rampes(model,dict_P,dict_N,dict_Thermique)\n",
    "for t in range(t):\n",
    "    for tprime in range(delai_fonctionnement):\n",
    "        for X in dict_Thermique:\n",
    "            for k in range(dict_Thermique[X].N):\n",
    "                model.addConstr(dict_Nstart[X,k,t]<=dict_N[X,k,heures[t+tprime]])\n",
    "                model.addConstr(1-dict_N[X,k,heures[t-1]]+dict_N[X,k,t]>=dict_N[X,k,heures[t+tprime]])\n",
    "                \n",
    "\n",
    "\n",
    "model.setObjective(\n",
    "    gp.quicksum([dict_N[X,k,t] * (dict_Thermique[X].Cbase - dict_Thermique[X].Pmin*dict_Thermique[X].Cmwh) for X in dict_Thermique for k in range(dict_Thermique[X].N) for t in range(24)]) + \n",
    "    gp.quicksum([dict_P[X,k,t] * dict_Thermique[X].Cmwh for X in dict_Thermique for k in range(dict_Thermique[X].N) for t in range(24)])+ \n",
    "    gp.quicksum([dict_Nstart[X,k,t]*dict_Thermique[X].Cstart for X in dict_Thermique for k in range(dict_Thermique[X].N) for t in range(24)])+\n",
    "    gp.quicksum([dict_H[Y,n,t] * dict_Hydro[Y].Cheure[n] for Y in dict_Hydro for t in range(24) for n in dict_Hydro[Y].Palier])+\n",
    "    gp.quicksum([dict_Hstart[Y,t] * dict_Hydro[Y].Cstart for Y in dict_Hydro for t in range(24)]),\n",
    "    gp.GRB.MINIMIZE\n",
    "    )\n",
    "\n",
    "model.optimize()"
   ]
  },
  {
   "cell_type": "code",
   "execution_count": 44,
   "metadata": {},
   "outputs": [
    {
     "data": {
      "application/vnd.plotly.v1+json": {
       "config": {
        "plotlyServerURL": "https://plot.ly"
       },
       "data": [
        {
         "name": "Thermique A",
         "stackgroup": "one",
         "type": "scatter",
         "x": [
          0,
          1,
          2,
          3,
          4,
          5,
          6,
          7,
          8,
          9,
          10,
          11,
          12,
          13,
          14,
          15,
          16,
          17,
          18,
          19,
          20,
          21,
          22,
          23
         ],
         "y": [
          10200,
          10200,
          10200,
          10200,
          10200,
          10200,
          15750,
          15250.000000000002,
          15150,
          10350,
          10250.000000000007,
          10250,
          10249.999999999995,
          10250.000000000007,
          10249.999999999993,
          20650,
          20250,
          19950,
          15150,
          10379.999999999993,
          10200,
          10200,
          10249.999999999995,
          13750.000000000002
         ]
        },
        {
         "name": "Thermique B",
         "stackgroup": "one",
         "type": "scatter",
         "x": [
          0,
          1,
          2,
          3,
          4,
          5,
          6,
          7,
          8,
          9,
          10,
          11,
          12,
          13,
          14,
          15,
          16,
          17,
          18,
          19,
          20,
          21,
          22,
          23
         ],
         "y": [
          8750,
          8750,
          8750,
          8750,
          8750,
          8750,
          11750,
          12250,
          12250,
          12250.00000000001,
          12250,
          12250,
          12250.000000000004,
          12249.999999999995,
          12250.000000000007,
          15250,
          15750,
          15750,
          15750,
          15750,
          15750,
          15750,
          15250.000000000004,
          11750
         ]
        },
        {
         "name": "Thermique C",
         "stackgroup": "one",
         "type": "scatter",
         "x": [
          0,
          1,
          2,
          3,
          4,
          5,
          6,
          7,
          8,
          9,
          10,
          11,
          12,
          13,
          14,
          15,
          16,
          17,
          18,
          19,
          20,
          21,
          22,
          23
         ],
         "y": [
          0,
          0,
          0,
          0,
          0,
          0,
          0,
          0,
          0,
          0,
          0,
          0,
          0,
          0,
          0,
          1500,
          1500,
          1500,
          1500,
          1500,
          1500,
          1500,
          1500,
          1500
         ]
        },
        {
         "name": "Hydraulique 9",
         "stackgroup": "one",
         "type": "scatter",
         "x": [
          0,
          1,
          2,
          3,
          4,
          5,
          6,
          7,
          8,
          9,
          10,
          11,
          12,
          13,
          14,
          15,
          16,
          17,
          18,
          19,
          20,
          21,
          22,
          23
         ],
         "y": [
          0,
          0,
          0,
          0,
          0,
          0,
          900,
          900,
          900,
          900,
          900,
          900,
          900,
          900,
          900,
          900,
          900,
          1100,
          0,
          0,
          0,
          0,
          0,
          0
         ]
        },
        {
         "name": "Hydraulique 14",
         "stackgroup": "one",
         "type": "scatter",
         "x": [
          0,
          1,
          2,
          3,
          4,
          5,
          6,
          7,
          8,
          9,
          10,
          11,
          12,
          13,
          14,
          15,
          16,
          17,
          18,
          19,
          20,
          21,
          22,
          23
         ],
         "y": [
          0,
          0,
          0,
          0,
          0,
          0,
          1600,
          1600,
          1700,
          1500,
          1600,
          1600,
          1600,
          1600,
          1600,
          1700,
          1600,
          1700,
          0,
          0,
          0,
          0,
          0,
          0
         ]
        },
        {
         "name": "Pompage",
         "stackgroup": "two",
         "type": "scatter",
         "x": [
          0,
          1,
          2,
          3,
          4,
          5,
          6,
          7,
          8,
          9,
          10,
          11,
          12,
          13,
          14,
          15,
          16,
          17,
          18,
          19,
          20,
          21,
          22,
          23
         ],
         "y": [
          -3950,
          -3950,
          -3950,
          -3950,
          -3950,
          -3950,
          0,
          0,
          0,
          0,
          0,
          0,
          0,
          0,
          0,
          0,
          0,
          0,
          -5400,
          -629.9999999999925,
          -450,
          -450,
          0,
          0
         ]
        },
        {
         "line": {
          "color": "red",
          "dash": "dash"
         },
         "name": "Production total",
         "type": "scatter",
         "x": [
          0,
          1,
          2,
          3,
          4,
          5,
          6,
          7,
          8,
          9,
          10,
          11,
          12,
          13,
          14,
          15,
          16,
          17,
          18,
          19,
          20,
          21,
          22,
          23
         ],
         "y": [
          15000,
          15000,
          15000,
          15000,
          15000,
          15000,
          30000,
          30000,
          30000,
          25000.000000000007,
          25000.000000000007,
          25000,
          25000,
          25000,
          25000,
          40000,
          40000,
          40000,
          27000,
          27000,
          27000,
          27000,
          26999.999999999996,
          27000
         ]
        },
        {
         "line": {
          "color": "black"
         },
         "name": "Coût MWh",
         "type": "scatter",
         "x": [
          0,
          1,
          2,
          3,
          4,
          5,
          6,
          7,
          8,
          9,
          10,
          11,
          12,
          13,
          14,
          15,
          16,
          17,
          18,
          19,
          20,
          21,
          22,
          23
         ],
         "y": [
          1.8833333333333333,
          1.8833333333333333,
          1.8833333333333333,
          1.8833333333333333,
          1.8833333333333333,
          1.8833333333333333,
          1.6725,
          1.5041666666666667,
          1.4983333333333333,
          1.4122000000000001,
          1.4049999999999998,
          1.405,
          1.4049999999999994,
          1.405,
          1.4049999999999998,
          1.6825,
          1.615625,
          1.602,
          2.0055555555555555,
          1.6522222222222214,
          1.6388888888888888,
          1.6388888888888888,
          1.6185185185185187,
          1.637037037037037
         ],
         "yaxis": "y2"
        },
        {
         "line": {
          "color": "grey"
         },
         "name": "Niveau réservoir",
         "type": "scatter",
         "x": [
          0,
          1,
          2,
          3,
          4,
          5,
          6,
          7,
          8,
          9,
          10,
          11,
          12,
          13,
          14,
          15,
          16,
          17,
          18,
          19,
          20,
          21,
          22,
          23
         ],
         "y": [
          1.3166666666666667,
          2.6333333333333333,
          3.95,
          5.266666666666667,
          6.583333333333333,
          7.8999999999999995,
          7.06,
          6.22,
          5.35,
          4.539999999999999,
          3.6999999999999993,
          2.8599999999999994,
          2.0199999999999996,
          1.1799999999999995,
          0.3399999999999994,
          -0.5300000000000007,
          -1.3700000000000008,
          -2.310000000000001,
          -0.5100000000000009,
          -0.3000000000000034,
          -0.15000000000000338,
          -3.3861802251067274e-15,
          -3.3861802251067274e-15,
          -3.3861802251067274e-15
         ],
         "yaxis": "y3"
        }
       ],
       "layout": {
        "hovermode": "x",
        "legend": {
         "orientation": "h",
         "x": 1,
         "xanchor": "right",
         "y": 1.02,
         "yanchor": "bottom"
        },
        "template": {
         "data": {
          "bar": [
           {
            "error_x": {
             "color": "#2a3f5f"
            },
            "error_y": {
             "color": "#2a3f5f"
            },
            "marker": {
             "line": {
              "color": "#E5ECF6",
              "width": 0.5
             },
             "pattern": {
              "fillmode": "overlay",
              "size": 10,
              "solidity": 0.2
             }
            },
            "type": "bar"
           }
          ],
          "barpolar": [
           {
            "marker": {
             "line": {
              "color": "#E5ECF6",
              "width": 0.5
             },
             "pattern": {
              "fillmode": "overlay",
              "size": 10,
              "solidity": 0.2
             }
            },
            "type": "barpolar"
           }
          ],
          "carpet": [
           {
            "aaxis": {
             "endlinecolor": "#2a3f5f",
             "gridcolor": "white",
             "linecolor": "white",
             "minorgridcolor": "white",
             "startlinecolor": "#2a3f5f"
            },
            "baxis": {
             "endlinecolor": "#2a3f5f",
             "gridcolor": "white",
             "linecolor": "white",
             "minorgridcolor": "white",
             "startlinecolor": "#2a3f5f"
            },
            "type": "carpet"
           }
          ],
          "choropleth": [
           {
            "colorbar": {
             "outlinewidth": 0,
             "ticks": ""
            },
            "type": "choropleth"
           }
          ],
          "contour": [
           {
            "colorbar": {
             "outlinewidth": 0,
             "ticks": ""
            },
            "colorscale": [
             [
              0,
              "#0d0887"
             ],
             [
              0.1111111111111111,
              "#46039f"
             ],
             [
              0.2222222222222222,
              "#7201a8"
             ],
             [
              0.3333333333333333,
              "#9c179e"
             ],
             [
              0.4444444444444444,
              "#bd3786"
             ],
             [
              0.5555555555555556,
              "#d8576b"
             ],
             [
              0.6666666666666666,
              "#ed7953"
             ],
             [
              0.7777777777777778,
              "#fb9f3a"
             ],
             [
              0.8888888888888888,
              "#fdca26"
             ],
             [
              1,
              "#f0f921"
             ]
            ],
            "type": "contour"
           }
          ],
          "contourcarpet": [
           {
            "colorbar": {
             "outlinewidth": 0,
             "ticks": ""
            },
            "type": "contourcarpet"
           }
          ],
          "heatmap": [
           {
            "colorbar": {
             "outlinewidth": 0,
             "ticks": ""
            },
            "colorscale": [
             [
              0,
              "#0d0887"
             ],
             [
              0.1111111111111111,
              "#46039f"
             ],
             [
              0.2222222222222222,
              "#7201a8"
             ],
             [
              0.3333333333333333,
              "#9c179e"
             ],
             [
              0.4444444444444444,
              "#bd3786"
             ],
             [
              0.5555555555555556,
              "#d8576b"
             ],
             [
              0.6666666666666666,
              "#ed7953"
             ],
             [
              0.7777777777777778,
              "#fb9f3a"
             ],
             [
              0.8888888888888888,
              "#fdca26"
             ],
             [
              1,
              "#f0f921"
             ]
            ],
            "type": "heatmap"
           }
          ],
          "heatmapgl": [
           {
            "colorbar": {
             "outlinewidth": 0,
             "ticks": ""
            },
            "colorscale": [
             [
              0,
              "#0d0887"
             ],
             [
              0.1111111111111111,
              "#46039f"
             ],
             [
              0.2222222222222222,
              "#7201a8"
             ],
             [
              0.3333333333333333,
              "#9c179e"
             ],
             [
              0.4444444444444444,
              "#bd3786"
             ],
             [
              0.5555555555555556,
              "#d8576b"
             ],
             [
              0.6666666666666666,
              "#ed7953"
             ],
             [
              0.7777777777777778,
              "#fb9f3a"
             ],
             [
              0.8888888888888888,
              "#fdca26"
             ],
             [
              1,
              "#f0f921"
             ]
            ],
            "type": "heatmapgl"
           }
          ],
          "histogram": [
           {
            "marker": {
             "pattern": {
              "fillmode": "overlay",
              "size": 10,
              "solidity": 0.2
             }
            },
            "type": "histogram"
           }
          ],
          "histogram2d": [
           {
            "colorbar": {
             "outlinewidth": 0,
             "ticks": ""
            },
            "colorscale": [
             [
              0,
              "#0d0887"
             ],
             [
              0.1111111111111111,
              "#46039f"
             ],
             [
              0.2222222222222222,
              "#7201a8"
             ],
             [
              0.3333333333333333,
              "#9c179e"
             ],
             [
              0.4444444444444444,
              "#bd3786"
             ],
             [
              0.5555555555555556,
              "#d8576b"
             ],
             [
              0.6666666666666666,
              "#ed7953"
             ],
             [
              0.7777777777777778,
              "#fb9f3a"
             ],
             [
              0.8888888888888888,
              "#fdca26"
             ],
             [
              1,
              "#f0f921"
             ]
            ],
            "type": "histogram2d"
           }
          ],
          "histogram2dcontour": [
           {
            "colorbar": {
             "outlinewidth": 0,
             "ticks": ""
            },
            "colorscale": [
             [
              0,
              "#0d0887"
             ],
             [
              0.1111111111111111,
              "#46039f"
             ],
             [
              0.2222222222222222,
              "#7201a8"
             ],
             [
              0.3333333333333333,
              "#9c179e"
             ],
             [
              0.4444444444444444,
              "#bd3786"
             ],
             [
              0.5555555555555556,
              "#d8576b"
             ],
             [
              0.6666666666666666,
              "#ed7953"
             ],
             [
              0.7777777777777778,
              "#fb9f3a"
             ],
             [
              0.8888888888888888,
              "#fdca26"
             ],
             [
              1,
              "#f0f921"
             ]
            ],
            "type": "histogram2dcontour"
           }
          ],
          "mesh3d": [
           {
            "colorbar": {
             "outlinewidth": 0,
             "ticks": ""
            },
            "type": "mesh3d"
           }
          ],
          "parcoords": [
           {
            "line": {
             "colorbar": {
              "outlinewidth": 0,
              "ticks": ""
             }
            },
            "type": "parcoords"
           }
          ],
          "pie": [
           {
            "automargin": true,
            "type": "pie"
           }
          ],
          "scatter": [
           {
            "fillpattern": {
             "fillmode": "overlay",
             "size": 10,
             "solidity": 0.2
            },
            "type": "scatter"
           }
          ],
          "scatter3d": [
           {
            "line": {
             "colorbar": {
              "outlinewidth": 0,
              "ticks": ""
             }
            },
            "marker": {
             "colorbar": {
              "outlinewidth": 0,
              "ticks": ""
             }
            },
            "type": "scatter3d"
           }
          ],
          "scattercarpet": [
           {
            "marker": {
             "colorbar": {
              "outlinewidth": 0,
              "ticks": ""
             }
            },
            "type": "scattercarpet"
           }
          ],
          "scattergeo": [
           {
            "marker": {
             "colorbar": {
              "outlinewidth": 0,
              "ticks": ""
             }
            },
            "type": "scattergeo"
           }
          ],
          "scattergl": [
           {
            "marker": {
             "colorbar": {
              "outlinewidth": 0,
              "ticks": ""
             }
            },
            "type": "scattergl"
           }
          ],
          "scattermapbox": [
           {
            "marker": {
             "colorbar": {
              "outlinewidth": 0,
              "ticks": ""
             }
            },
            "type": "scattermapbox"
           }
          ],
          "scatterpolar": [
           {
            "marker": {
             "colorbar": {
              "outlinewidth": 0,
              "ticks": ""
             }
            },
            "type": "scatterpolar"
           }
          ],
          "scatterpolargl": [
           {
            "marker": {
             "colorbar": {
              "outlinewidth": 0,
              "ticks": ""
             }
            },
            "type": "scatterpolargl"
           }
          ],
          "scatterternary": [
           {
            "marker": {
             "colorbar": {
              "outlinewidth": 0,
              "ticks": ""
             }
            },
            "type": "scatterternary"
           }
          ],
          "surface": [
           {
            "colorbar": {
             "outlinewidth": 0,
             "ticks": ""
            },
            "colorscale": [
             [
              0,
              "#0d0887"
             ],
             [
              0.1111111111111111,
              "#46039f"
             ],
             [
              0.2222222222222222,
              "#7201a8"
             ],
             [
              0.3333333333333333,
              "#9c179e"
             ],
             [
              0.4444444444444444,
              "#bd3786"
             ],
             [
              0.5555555555555556,
              "#d8576b"
             ],
             [
              0.6666666666666666,
              "#ed7953"
             ],
             [
              0.7777777777777778,
              "#fb9f3a"
             ],
             [
              0.8888888888888888,
              "#fdca26"
             ],
             [
              1,
              "#f0f921"
             ]
            ],
            "type": "surface"
           }
          ],
          "table": [
           {
            "cells": {
             "fill": {
              "color": "#EBF0F8"
             },
             "line": {
              "color": "white"
             }
            },
            "header": {
             "fill": {
              "color": "#C8D4E3"
             },
             "line": {
              "color": "white"
             }
            },
            "type": "table"
           }
          ]
         },
         "layout": {
          "annotationdefaults": {
           "arrowcolor": "#2a3f5f",
           "arrowhead": 0,
           "arrowwidth": 1
          },
          "autotypenumbers": "strict",
          "coloraxis": {
           "colorbar": {
            "outlinewidth": 0,
            "ticks": ""
           }
          },
          "colorscale": {
           "diverging": [
            [
             0,
             "#8e0152"
            ],
            [
             0.1,
             "#c51b7d"
            ],
            [
             0.2,
             "#de77ae"
            ],
            [
             0.3,
             "#f1b6da"
            ],
            [
             0.4,
             "#fde0ef"
            ],
            [
             0.5,
             "#f7f7f7"
            ],
            [
             0.6,
             "#e6f5d0"
            ],
            [
             0.7,
             "#b8e186"
            ],
            [
             0.8,
             "#7fbc41"
            ],
            [
             0.9,
             "#4d9221"
            ],
            [
             1,
             "#276419"
            ]
           ],
           "sequential": [
            [
             0,
             "#0d0887"
            ],
            [
             0.1111111111111111,
             "#46039f"
            ],
            [
             0.2222222222222222,
             "#7201a8"
            ],
            [
             0.3333333333333333,
             "#9c179e"
            ],
            [
             0.4444444444444444,
             "#bd3786"
            ],
            [
             0.5555555555555556,
             "#d8576b"
            ],
            [
             0.6666666666666666,
             "#ed7953"
            ],
            [
             0.7777777777777778,
             "#fb9f3a"
            ],
            [
             0.8888888888888888,
             "#fdca26"
            ],
            [
             1,
             "#f0f921"
            ]
           ],
           "sequentialminus": [
            [
             0,
             "#0d0887"
            ],
            [
             0.1111111111111111,
             "#46039f"
            ],
            [
             0.2222222222222222,
             "#7201a8"
            ],
            [
             0.3333333333333333,
             "#9c179e"
            ],
            [
             0.4444444444444444,
             "#bd3786"
            ],
            [
             0.5555555555555556,
             "#d8576b"
            ],
            [
             0.6666666666666666,
             "#ed7953"
            ],
            [
             0.7777777777777778,
             "#fb9f3a"
            ],
            [
             0.8888888888888888,
             "#fdca26"
            ],
            [
             1,
             "#f0f921"
            ]
           ]
          },
          "colorway": [
           "#636efa",
           "#EF553B",
           "#00cc96",
           "#ab63fa",
           "#FFA15A",
           "#19d3f3",
           "#FF6692",
           "#B6E880",
           "#FF97FF",
           "#FECB52"
          ],
          "font": {
           "color": "#2a3f5f"
          },
          "geo": {
           "bgcolor": "white",
           "lakecolor": "white",
           "landcolor": "#E5ECF6",
           "showlakes": true,
           "showland": true,
           "subunitcolor": "white"
          },
          "hoverlabel": {
           "align": "left"
          },
          "hovermode": "closest",
          "mapbox": {
           "style": "light"
          },
          "paper_bgcolor": "white",
          "plot_bgcolor": "#E5ECF6",
          "polar": {
           "angularaxis": {
            "gridcolor": "white",
            "linecolor": "white",
            "ticks": ""
           },
           "bgcolor": "#E5ECF6",
           "radialaxis": {
            "gridcolor": "white",
            "linecolor": "white",
            "ticks": ""
           }
          },
          "scene": {
           "xaxis": {
            "backgroundcolor": "#E5ECF6",
            "gridcolor": "white",
            "gridwidth": 2,
            "linecolor": "white",
            "showbackground": true,
            "ticks": "",
            "zerolinecolor": "white"
           },
           "yaxis": {
            "backgroundcolor": "#E5ECF6",
            "gridcolor": "white",
            "gridwidth": 2,
            "linecolor": "white",
            "showbackground": true,
            "ticks": "",
            "zerolinecolor": "white"
           },
           "zaxis": {
            "backgroundcolor": "#E5ECF6",
            "gridcolor": "white",
            "gridwidth": 2,
            "linecolor": "white",
            "showbackground": true,
            "ticks": "",
            "zerolinecolor": "white"
           }
          },
          "shapedefaults": {
           "line": {
            "color": "#2a3f5f"
           }
          },
          "ternary": {
           "aaxis": {
            "gridcolor": "white",
            "linecolor": "white",
            "ticks": ""
           },
           "baxis": {
            "gridcolor": "white",
            "linecolor": "white",
            "ticks": ""
           },
           "bgcolor": "#E5ECF6",
           "caxis": {
            "gridcolor": "white",
            "linecolor": "white",
            "ticks": ""
           }
          },
          "title": {
           "x": 0.05
          },
          "xaxis": {
           "automargin": true,
           "gridcolor": "white",
           "linecolor": "white",
           "ticks": "",
           "title": {
            "standoff": 15
           },
           "zerolinecolor": "white",
           "zerolinewidth": 2
          },
          "yaxis": {
           "automargin": true,
           "gridcolor": "white",
           "linecolor": "white",
           "ticks": "",
           "title": {
            "standoff": 15
           },
           "zerolinecolor": "white",
           "zerolinewidth": 2
          }
         }
        },
        "title": {
         "text": "Répartition de la production électrique dans la journée - 9.2 - Coût de la journée : 992 k€"
        },
        "xaxis": {
         "domain": [
          0.1,
          1
         ]
        },
        "yaxis": {
         "range": [
          -5940.000000000001,
          44000
         ],
         "title": {
          "text": "MW"
         }
        },
        "yaxis2": {
         "anchor": "free",
         "overlaying": "y",
         "position": 1,
         "range": [
          1,
          2.5
         ],
         "side": "right",
         "title": {
          "text": "€/MWh"
         }
        },
        "yaxis3": {
         "anchor": "free",
         "overlaying": "y",
         "position": 0.05,
         "range": [
          -5,
          10
         ],
         "side": "left",
         "title": {
          "text": "Réservoir (m)"
         }
        }
       }
      }
     },
     "metadata": {},
     "output_type": "display_data"
    }
   ],
   "source": [
    "df = df_results61(dict_N,dict_P,dict_Nstart,dict_Thermique,dict_H,dict_Hstart,dict_Hydro,dict_S,debit_S,consommation)\n",
    "fig = Results_viz52(df,dict_Thermique,dict_Hydro)\n",
    "A = \"9.2\"\n",
    "fig.update_layout(\n",
    "    title = f\"Répartition de la production électrique dans la journée - {A} - Coût de la journée : {int(np.around(model.ObjVal/1000,0))} k€\"\n",
    ")\n",
    "fig.show()\n",
    "fig.write_html(f\"HTML/Répartition de la production électrique dans la journée - {A}.html\")\n",
    "df.to_csv(f\"CSV/Résultats - {A}.csv\",index=False)"
   ]
  }
 ],
 "metadata": {
  "kernelspec": {
   "display_name": "Python 3 (ipykernel)",
   "language": "python",
   "name": "python3"
  },
  "language_info": {
   "codemirror_mode": {
    "name": "ipython",
    "version": 3
   },
   "file_extension": ".py",
   "mimetype": "text/x-python",
   "name": "python",
   "nbconvert_exporter": "python",
   "pygments_lexer": "ipython3",
   "version": "3.10.8"
  },
  "vscode": {
   "interpreter": {
    "hash": "153e8b4aaf1e7bee5b29f07f8dd36650b8c55b521facabbe75a683164f3644eb"
   }
  }
 },
 "nbformat": 4,
 "nbformat_minor": 2
}
