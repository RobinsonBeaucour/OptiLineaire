{
 "cells": [
  {
   "cell_type": "markdown",
   "metadata": {},
   "source": [
    "# Essais d'optimisation linéaire sous python\n",
    "\n",
    "## Utilisation de Scipy"
   ]
  },
  {
   "cell_type": "code",
   "execution_count": 1,
   "metadata": {},
   "outputs": [],
   "source": [
    "from scipy.optimize import linprog"
   ]
  },
  {
   "cell_type": "markdown",
   "metadata": {},
   "source": [
    "\n",
    "minimize $-x - 2y$<br>\n",
    "\n",
    "subject to :\n",
    "$$\n",
    "2x + y \\leq 20\n",
    "$$\n",
    "$$\n",
    "-4x + 5y \\leq 10\n",
    "$$\n",
    "$$\n",
    "x -2y \\leq 2\n",
    "$$\n",
    "$$\n",
    "-x + 5y = 15\n",
    "$$\n",
    "$$\n",
    "x \\geq 0\n",
    "$$\n",
    "$$\n",
    "y \\geq 0\n",
    "$$\n"
   ]
  },
  {
   "cell_type": "code",
   "execution_count": 2,
   "metadata": {},
   "outputs": [],
   "source": [
    "obj = [-1,-2]\n",
    "\n",
    "lhs_ineq = [[2, 1],\n",
    "            [-4, 5],\n",
    "            [1, -2]]\n",
    "\n",
    "rhs_ineq = [20,\n",
    "            10,\n",
    "            2]\n",
    "\n",
    "lhs_eq = [[-1,5]]\n",
    "rhs_eq = [15]\n",
    "\n",
    "bnd = [(0, float(\"inf\")),  # Bounds of x\n",
    "       (0, float(\"inf\"))]  # Bounds of y"
   ]
  },
  {
   "cell_type": "code",
   "execution_count": 3,
   "metadata": {},
   "outputs": [
    {
     "name": "stderr",
     "output_type": "stream",
     "text": [
      "C:\\Users\\robinson.beaucour\\AppData\\Local\\Temp\\ipykernel_10624\\3707750994.py:1: DeprecationWarning: `method='revised simplex'` is deprecated and will be removed in SciPy 1.11.0. Please use one of the HiGHS solvers (e.g. `method='highs'`) in new code.\n",
      "  opt = linprog(c=obj, A_ub=lhs_ineq, b_ub=rhs_ineq,\n"
     ]
    }
   ],
   "source": [
    "opt = linprog(c=obj, A_ub=lhs_ineq, b_ub=rhs_ineq,\n",
    "               A_eq=lhs_eq, b_eq=rhs_eq, bounds=bnd,\n",
    "                method=\"revised simplex\")"
   ]
  },
  {
   "cell_type": "code",
   "execution_count": 4,
   "metadata": {},
   "outputs": [
    {
     "data": {
      "text/plain": [
       "     con: array([0.])\n",
       "     fun: -16.818181818181817\n",
       " message: 'Optimization terminated successfully.'\n",
       "     nit: 3\n",
       "   slack: array([ 0.        , 18.18181818,  3.36363636])\n",
       "  status: 0\n",
       " success: True\n",
       "       x: array([7.72727273, 4.54545455])"
      ]
     },
     "execution_count": 4,
     "metadata": {},
     "output_type": "execute_result"
    }
   ],
   "source": [
    "opt"
   ]
  },
  {
   "cell_type": "markdown",
   "metadata": {},
   "source": [
    "### Exercice 7 "
   ]
  },
  {
   "cell_type": "code",
   "execution_count": 5,
   "metadata": {},
   "outputs": [],
   "source": [
    "obj = [-3, -3,-5, -5]\n",
    "\n",
    "lhs_ineq = [[1, 0, 0, 0],\n",
    "            [0, 0, 2, 0],\n",
    "            [0, 3, 0, 2]]\n",
    "\n",
    "rhs_ineq = [4,\n",
    "            12,\n",
    "            18]\n",
    "\n",
    "lhs_eq = None\n",
    "rhs_eq = None\n",
    "\n",
    "bnd = [(0, float(\"inf\")),  \n",
    "       (0, float(\"inf\")),\n",
    "       (0, float(\"inf\")), \n",
    "       (0, float(\"inf\"))]  "
   ]
  },
  {
   "cell_type": "code",
   "execution_count": 6,
   "metadata": {},
   "outputs": [
    {
     "name": "stderr",
     "output_type": "stream",
     "text": [
      "C:\\Users\\robinson.beaucour\\AppData\\Local\\Temp\\ipykernel_10624\\3707750994.py:1: DeprecationWarning: `method='revised simplex'` is deprecated and will be removed in SciPy 1.11.0. Please use one of the HiGHS solvers (e.g. `method='highs'`) in new code.\n",
      "  opt = linprog(c=obj, A_ub=lhs_ineq, b_ub=rhs_ineq,\n"
     ]
    }
   ],
   "source": [
    "opt = linprog(c=obj, A_ub=lhs_ineq, b_ub=rhs_ineq,\n",
    "               A_eq=lhs_eq, b_eq=rhs_eq, bounds=bnd,\n",
    "                method=\"revised simplex\")"
   ]
  },
  {
   "cell_type": "code",
   "execution_count": 7,
   "metadata": {},
   "outputs": [
    {
     "data": {
      "text/plain": [
       "     con: array([], dtype=float64)\n",
       "     fun: -87.0\n",
       " message: 'Optimization terminated successfully.'\n",
       "     nit: 3\n",
       "   slack: array([0., 0., 0.])\n",
       "  status: 0\n",
       " success: True\n",
       "       x: array([4., 0., 6., 9.])"
      ]
     },
     "execution_count": 7,
     "metadata": {},
     "output_type": "execute_result"
    }
   ],
   "source": [
    "opt"
   ]
  },
  {
   "cell_type": "markdown",
   "metadata": {},
   "source": [
    "## Utilisation PulP"
   ]
  },
  {
   "cell_type": "code",
   "execution_count": 8,
   "metadata": {},
   "outputs": [],
   "source": [
    "from pulp import LpMaximize, LpProblem, LpProblem, lpSum, LpVariable"
   ]
  },
  {
   "cell_type": "code",
   "execution_count": 17,
   "metadata": {},
   "outputs": [
    {
     "name": "stdout",
     "output_type": "stream",
     "text": [
      "type(expression) = <class 'pulp.pulp.LpAffineExpression'>\n"
     ]
    }
   ],
   "source": [
    "model = LpProblem(name=\"exo 7\", sense=LpMaximize)\n",
    "\n",
    "xd = LpVariable(name=\"Nb of doors\", lowBound=0)\n",
    "xw = LpVariable(name=\"Nb of windows\", lowBound=0)\n",
    "\n",
    "expression = 3 * xd + 5 * xw\n",
    "print(f\"type(expression) = {type(expression)}\")\n",
    "\n",
    "model += (xd <= 4, \"A Workshop\")\n",
    "model += (2 * xw <= 12, \"B Workshop\")\n",
    "model += (3 * xd + 2 * xw <= 18, \"C Workshop\")\n",
    "model += expression"
   ]
  },
  {
   "cell_type": "code",
   "execution_count": 18,
   "metadata": {},
   "outputs": [
    {
     "data": {
      "text/plain": [
       "exo_7:\n",
       "MAXIMIZE\n",
       "3*Nb_of_doors + 5*Nb_of_windows + 0\n",
       "SUBJECT TO\n",
       "A_Workshop: Nb_of_doors <= 4\n",
       "\n",
       "B_Workshop: 2 Nb_of_windows <= 12\n",
       "\n",
       "C_Workshop: 3 Nb_of_doors + 2 Nb_of_windows <= 18\n",
       "\n",
       "VARIABLES\n",
       "Nb_of_doors Continuous\n",
       "Nb_of_windows Continuous"
      ]
     },
     "execution_count": 18,
     "metadata": {},
     "output_type": "execute_result"
    }
   ],
   "source": [
    "model"
   ]
  },
  {
   "cell_type": "code",
   "execution_count": 19,
   "metadata": {},
   "outputs": [],
   "source": [
    "status = model.solve()"
   ]
  },
  {
   "cell_type": "code",
   "execution_count": 20,
   "metadata": {},
   "outputs": [
    {
     "name": "stdout",
     "output_type": "stream",
     "text": [
      "objective: 36.0\n",
      "Nb_of_doors: 2.0\n",
      "Nb_of_windows: 6.0\n",
      "A_Workshop: -2.0\n",
      "B_Workshop: 0.0\n",
      "C_Workshop: 0.0\n"
     ]
    }
   ],
   "source": [
    "# print(f\"status: {model.status}, {LpStatus[model.status]}\")\n",
    "print(f\"objective: {model.objective.value()}\")\n",
    "for var in model.variables():\n",
    "    print(f\"{var.name}: {var.value()}\")\n",
    "\n",
    "for name, constraint in model.constraints.items():\n",
    "    print(f\"{name}: {constraint.value()}\")"
   ]
  }
 ],
 "metadata": {
  "kernelspec": {
   "display_name": "Python 3.10.7 ('OL': venv)",
   "language": "python",
   "name": "python3"
  },
  "language_info": {
   "codemirror_mode": {
    "name": "ipython",
    "version": 3
   },
   "file_extension": ".py",
   "mimetype": "text/x-python",
   "name": "python",
   "nbconvert_exporter": "python",
   "pygments_lexer": "ipython3",
   "version": "3.10.7"
  },
  "orig_nbformat": 4,
  "vscode": {
   "interpreter": {
    "hash": "153e8b4aaf1e7bee5b29f07f8dd36650b8c55b521facabbe75a683164f3644eb"
   }
  }
 },
 "nbformat": 4,
 "nbformat_minor": 2
}
