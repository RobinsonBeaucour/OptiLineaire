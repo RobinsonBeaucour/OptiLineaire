{
 "cells": [
  {
   "cell_type": "markdown",
   "metadata": {},
   "source": [
    "# Essais d'optimisation linéaire sous python\n",
    "\n",
    "## Utilisation de Scipy"
   ]
  },
  {
   "cell_type": "code",
   "execution_count": 2,
   "metadata": {},
   "outputs": [],
   "source": [
    "from scipy.optimize import linprog"
   ]
  },
  {
   "cell_type": "markdown",
   "metadata": {},
   "source": [
    "\n",
    "minimize $-x - 2y$<br>\n",
    "\n",
    "subject to :\n",
    "$$\n",
    "2x + y \\leq 20\n",
    "$$\n",
    "$$\n",
    "-4x + 5y \\leq 10\n",
    "$$\n",
    "$$\n",
    "x -2y \\leq 2\n",
    "$$\n",
    "$$\n",
    "-x + 5y = 15\n",
    "$$\n",
    "$$\n",
    "x \\geq 0\n",
    "$$\n",
    "$$\n",
    "y \\geq 0\n",
    "$$\n"
   ]
  },
  {
   "cell_type": "code",
   "execution_count": 3,
   "metadata": {},
   "outputs": [],
   "source": [
    "obj = [-1,-2]\n",
    "\n",
    "lhs_ineq = [[2, 1],\n",
    "            [-4, 5],\n",
    "            [1, -2]]\n",
    "\n",
    "rhs_ineq = [20,\n",
    "            10,\n",
    "            2]\n",
    "\n",
    "lhs_eq = [[-1,5]]\n",
    "rhs_eq = [15]\n",
    "\n",
    "bnd = [(0, float(\"inf\")),  # Bounds of x\n",
    "       (0, float(\"inf\"))]  # Bounds of y"
   ]
  },
  {
   "cell_type": "code",
   "execution_count": 4,
   "metadata": {},
   "outputs": [
    {
     "name": "stderr",
     "output_type": "stream",
     "text": [
      "C:\\Users\\robinson.beaucour\\AppData\\Local\\Temp\\ipykernel_21880\\3707750994.py:1: DeprecationWarning: `method='revised simplex'` is deprecated and will be removed in SciPy 1.11.0. Please use one of the HiGHS solvers (e.g. `method='highs'`) in new code.\n",
      "  opt = linprog(c=obj, A_ub=lhs_ineq, b_ub=rhs_ineq,\n"
     ]
    }
   ],
   "source": [
    "opt = linprog(c=obj, A_ub=lhs_ineq, b_ub=rhs_ineq,\n",
    "               A_eq=lhs_eq, b_eq=rhs_eq, bounds=bnd,\n",
    "                method=\"revised simplex\")"
   ]
  },
  {
   "cell_type": "code",
   "execution_count": 5,
   "metadata": {},
   "outputs": [
    {
     "data": {
      "text/plain": [
       "     con: array([0.])\n",
       "     fun: -16.818181818181817\n",
       " message: 'Optimization terminated successfully.'\n",
       "     nit: 3\n",
       "   slack: array([ 0.        , 18.18181818,  3.36363636])\n",
       "  status: 0\n",
       " success: True\n",
       "       x: array([7.72727273, 4.54545455])"
      ]
     },
     "execution_count": 5,
     "metadata": {},
     "output_type": "execute_result"
    }
   ],
   "source": [
    "opt"
   ]
  },
  {
   "cell_type": "markdown",
   "metadata": {},
   "source": [
    "### Exercice 7 "
   ]
  },
  {
   "cell_type": "code",
   "execution_count": 6,
   "metadata": {},
   "outputs": [],
   "source": [
    "obj = [-3, -3,-5, -5]\n",
    "\n",
    "lhs_ineq = [[1, 0, 0, 0],\n",
    "            [0, 0, 2, 0],\n",
    "            [0, 3, 0, 2]]\n",
    "\n",
    "rhs_ineq = [4,\n",
    "            12,\n",
    "            18]\n",
    "\n",
    "lhs_eq = None\n",
    "rhs_eq = None\n",
    "\n",
    "bnd = [(0, float(\"inf\")),  \n",
    "       (0, float(\"inf\")),\n",
    "       (0, float(\"inf\")), \n",
    "       (0, float(\"inf\"))]  "
   ]
  },
  {
   "cell_type": "code",
   "execution_count": 7,
   "metadata": {},
   "outputs": [
    {
     "name": "stderr",
     "output_type": "stream",
     "text": [
      "C:\\Users\\robinson.beaucour\\AppData\\Local\\Temp\\ipykernel_21880\\3707750994.py:1: DeprecationWarning: `method='revised simplex'` is deprecated and will be removed in SciPy 1.11.0. Please use one of the HiGHS solvers (e.g. `method='highs'`) in new code.\n",
      "  opt = linprog(c=obj, A_ub=lhs_ineq, b_ub=rhs_ineq,\n"
     ]
    }
   ],
   "source": [
    "opt = linprog(c=obj, A_ub=lhs_ineq, b_ub=rhs_ineq,\n",
    "               A_eq=lhs_eq, b_eq=rhs_eq, bounds=bnd,\n",
    "                method=\"revised simplex\")"
   ]
  },
  {
   "cell_type": "code",
   "execution_count": 8,
   "metadata": {},
   "outputs": [
    {
     "data": {
      "text/plain": [
       "     con: array([], dtype=float64)\n",
       "     fun: -87.0\n",
       " message: 'Optimization terminated successfully.'\n",
       "     nit: 3\n",
       "   slack: array([0., 0., 0.])\n",
       "  status: 0\n",
       " success: True\n",
       "       x: array([4., 0., 6., 9.])"
      ]
     },
     "execution_count": 8,
     "metadata": {},
     "output_type": "execute_result"
    }
   ],
   "source": [
    "opt"
   ]
  },
  {
   "cell_type": "markdown",
   "metadata": {},
   "source": [
    "## Utilisation PulP"
   ]
  },
  {
   "cell_type": "code",
   "execution_count": 9,
   "metadata": {},
   "outputs": [],
   "source": [
    "from pulp import LpMaximize, LpProblem, LpProblem, lpSum, LpVariable"
   ]
  },
  {
   "cell_type": "code",
   "execution_count": 10,
   "metadata": {},
   "outputs": [
    {
     "name": "stdout",
     "output_type": "stream",
     "text": [
      "type(expression) = <class 'pulp.pulp.LpAffineExpression'>\n"
     ]
    },
    {
     "name": "stderr",
     "output_type": "stream",
     "text": [
      "c:\\Users\\robinson.beaucour\\PythonProjects\\OptiLineaire\\OL\\lib\\site-packages\\pulp\\pulp.py:1352: UserWarning: Spaces are not permitted in the name. Converted to '_'\n",
      "  warnings.warn(\"Spaces are not permitted in the name. Converted to '_'\")\n"
     ]
    }
   ],
   "source": [
    "model = LpProblem(name=\"exo 7\", sense=LpMaximize)\n",
    "\n",
    "xd = LpVariable(name=\"Nb of doors\", lowBound=0)\n",
    "xw = LpVariable(name=\"Nb of windows\", lowBound=0)\n",
    "\n",
    "expression = 3 * xd + 5 * xw\n",
    "print(f\"type(expression) = {type(expression)}\")\n",
    "\n",
    "model += (xd <= 4, \"A Workshop\")\n",
    "model += (2 * xw <= 12, \"B Workshop\")\n",
    "model += (3 * xd + 2 * xw <= 18, \"C Workshop\")\n",
    "model += expression"
   ]
  },
  {
   "cell_type": "code",
   "execution_count": 11,
   "metadata": {},
   "outputs": [
    {
     "data": {
      "text/plain": [
       "exo_7:\n",
       "MAXIMIZE\n",
       "3*Nb_of_doors + 5*Nb_of_windows + 0\n",
       "SUBJECT TO\n",
       "A_Workshop: Nb_of_doors <= 4\n",
       "\n",
       "B_Workshop: 2 Nb_of_windows <= 12\n",
       "\n",
       "C_Workshop: 3 Nb_of_doors + 2 Nb_of_windows <= 18\n",
       "\n",
       "VARIABLES\n",
       "Nb_of_doors Continuous\n",
       "Nb_of_windows Continuous"
      ]
     },
     "execution_count": 11,
     "metadata": {},
     "output_type": "execute_result"
    }
   ],
   "source": [
    "model"
   ]
  },
  {
   "cell_type": "code",
   "execution_count": 12,
   "metadata": {},
   "outputs": [],
   "source": [
    "status = model.solve()"
   ]
  },
  {
   "cell_type": "code",
   "execution_count": 13,
   "metadata": {},
   "outputs": [
    {
     "name": "stdout",
     "output_type": "stream",
     "text": [
      "objective: 36.0\n",
      "Nb_of_doors: 2.0\n",
      "Nb_of_windows: 6.0\n",
      "A_Workshop: -2.0\n",
      "B_Workshop: 0.0\n",
      "C_Workshop: 0.0\n"
     ]
    }
   ],
   "source": [
    "# print(f\"status: {model.status}, {LpStatus[model.status]}\")\n",
    "print(f\"objective: {model.objective.value()}\")\n",
    "for var in model.variables():\n",
    "    print(f\"{var.name}: {var.value()}\")\n",
    "\n",
    "for name, constraint in model.constraints.items():\n",
    "    print(f\"{name}: {constraint.value()}\")"
   ]
  },
  {
   "cell_type": "code",
   "execution_count": 21,
   "metadata": {},
   "outputs": [
    {
     "name": "stdout",
     "output_type": "stream",
     "text": [
      "type(expression) = <class 'pulp.pulp.LpAffineExpression'>\n"
     ]
    },
    {
     "name": "stderr",
     "output_type": "stream",
     "text": [
      "c:\\Users\\robinson.beaucour\\PythonProjects\\OptiLineaire\\OL\\lib\\site-packages\\pulp\\pulp.py:1352: UserWarning: Spaces are not permitted in the name. Converted to '_'\n",
      "  warnings.warn(\"Spaces are not permitted in the name. Converted to '_'\")\n"
     ]
    }
   ],
   "source": [
    "model = LpProblem(name=\"steel factory\", sense=LpMaximize)\n",
    "\n",
    "xc = LpVariable(name=\"Nb of coils\", lowBound=0,upBound=6000)\n",
    "xt = LpVariable(name=\"Nb of tapes\", lowBound=0,upBound=4000)\n",
    "xs = LpVariable(name=\"Nb of sheets\", lowBound=0,upBound=3500)\n",
    "\n",
    "expression = 25 * xc + 30 * xt + 2 * xs\n",
    "print(f\"type(expression) = {type(expression)}\")\n",
    "\n",
    "model += (1/200 * (xs + xc + xt) <= 35, \"Heating\")\n",
    "model += (xc * 1/200 + xt * 1/140 + xs * 1/160 <= 40, \"Rolling\")\n",
    "model += expression"
   ]
  },
  {
   "cell_type": "code",
   "execution_count": 22,
   "metadata": {},
   "outputs": [
    {
     "data": {
      "text/plain": [
       "steel_factory:\n",
       "MAXIMIZE\n",
       "25*Nb_of_coils + 2*Nb_of_sheets + 30*Nb_of_tapes + 0\n",
       "SUBJECT TO\n",
       "Heating: 0.005 Nb_of_coils + 0.005 Nb_of_sheets + 0.005 Nb_of_tapes <= 35\n",
       "\n",
       "Rolling: 0.005 Nb_of_coils + 0.00625 Nb_of_sheets\n",
       " + 0.00714285714286 Nb_of_tapes <= 40\n",
       "\n",
       "VARIABLES\n",
       "Nb_of_coils <= 6000 Continuous\n",
       "Nb_of_sheets <= 3500 Continuous\n",
       "Nb_of_tapes <= 4000 Continuous"
      ]
     },
     "execution_count": 22,
     "metadata": {},
     "output_type": "execute_result"
    }
   ],
   "source": [
    "model"
   ]
  },
  {
   "cell_type": "code",
   "execution_count": 23,
   "metadata": {},
   "outputs": [
    {
     "name": "stdout",
     "output_type": "stream",
     "text": [
      "objective: 186666.6665\n",
      "Nb_of_coils: 4666.6667\n",
      "Nb_of_sheets: 0.0\n",
      "Nb_of_tapes: 2333.3333\n",
      "Heating: -1.7763568394002505e-15\n",
      "Rolling: -7.14285768310674e-08\n"
     ]
    }
   ],
   "source": [
    "status = model.solve()\n",
    "# print(f\"status: {model.status}, {LpStatus[model.status]}\")\n",
    "print(f\"objective: {model.objective.value()}\")\n",
    "for var in model.variables():\n",
    "    print(f\"{var.name}: {var.value()}\")\n",
    "\n",
    "for name, constraint in model.constraints.items():\n",
    "    print(f\"{name}: {constraint.value()}\")"
   ]
  }
 ],
 "metadata": {
  "kernelspec": {
   "display_name": "Python 3.10.7 ('OL': venv)",
   "language": "python",
   "name": "python3"
  },
  "language_info": {
   "codemirror_mode": {
    "name": "ipython",
    "version": 3
   },
   "file_extension": ".py",
   "mimetype": "text/x-python",
   "name": "python",
   "nbconvert_exporter": "python",
   "pygments_lexer": "ipython3",
   "version": "3.10.7"
  },
  "orig_nbformat": 4,
  "vscode": {
   "interpreter": {
    "hash": "153e8b4aaf1e7bee5b29f07f8dd36650b8c55b521facabbe75a683164f3644eb"
   }
  }
 },
 "nbformat": 4,
 "nbformat_minor": 2
}
